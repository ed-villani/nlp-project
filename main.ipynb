{
 "cells": [
  {
   "cell_type": "markdown",
   "metadata": {
    "collapsed": true,
    "pycharm": {
     "name": "#%% md\n"
    }
   },
   "source": [
    "# [DCC 030] Aprendizado Profundo para Processamento de Linguagem Natural: Projeto Final\n",
    "__Aluno:__\n",
    "- Eduardo Villani de Carvalho Filho - 2015104008\n",
    "---\n",
    "# [Parte 1] O trabalho\n",
    "\n",
    "\n",
    "A técnicas de NLP podem ser utilizadas nos mais diversos problemas,\n",
    "sejam estes voltados para linguagem ou até abstraído para problemas\n",
    "não relacionados à linguagem natural. Isso porque, mesmo que não\n",
    "seja algo de linguagem, podemos abstrair objetos para que sejam transformados\n",
    "em formas de linguagem.\n",
    "\n",
    "Um desses problemas que podemos usar NLP é em aplicações de recomendações\n",
    "de itens. Existem diversas formas de se recomendar itens, como comparações\n",
    "de ratings entre os itens, consumo local, etc.\n",
    "\n",
    "Neste trabalho, iremos explorar a recomendação de itens por meio\n",
    "da relação entre a descrição de itens  e, se dado essas descrições,\n",
    "podemos determinar se este item pertence a algum tipo de classe."
   ]
  },
  {
   "cell_type": "markdown",
   "source": [
    "## Implementação\n",
    "\n",
    "Para facilitar a implementação, o projeto foi totalmente modularizado,\n",
    "mas será explicado o objetivo de cada classe e seu funcionamento.\n"
   ],
   "metadata": {
    "collapsed": false,
    "pycharm": {
     "name": "#%% md\n"
    }
   }
  },
  {
   "cell_type": "markdown",
   "source": [
    "## O Dataset\n",
    "\n",
    "Para esse problema, iremos usar um dataset de vinhos. Cada entrada é\n",
    "um vinho diferente, contendo informações de região, descrição, nome, etc.\n",
    "\n",
    "Vamos pegar um exemplo com a classe que carrega o dataset."
   ],
   "metadata": {
    "collapsed": false
   }
  },
  {
   "cell_type": "code",
   "source": [
    "from copy import deepcopy\n",
    "from typing import Union\n",
    "\n",
    "import pandas as pd\n",
    "import numpy as np\n",
    "from nltk import RegexpTokenizer\n",
    "\n",
    "\n",
    "class WineDataSet:\n",
    "    def __init__(self, filter_by_topn_varieties: Union[None, int] = None):\n",
    "        self._df = pd.read_csv('inputs/wine_dataset/winemag-data-130k-v2.csv')\n",
    "        if filter_by_topn_varieties is not None:\n",
    "            self._df = self._df[\n",
    "                self._df['variety'].isin(self._df.varieties_count()[:filter_by_topn_varieties]['variety'])]\n",
    "        self._clean_description()\n",
    "\n",
    "    def __len__(self):\n",
    "        return len(self._df)\n",
    "\n",
    "    def __iter__(self):\n",
    "        return np.array(self._df)\n",
    "\n",
    "    @property\n",
    "    def data(self) -> pd.DataFrame:\n",
    "        return deepcopy(self._df)\n",
    "\n",
    "    @property\n",
    "    def countries(self):\n",
    "        return self._df['country'].unique()\n",
    "\n",
    "    @property\n",
    "    def varieties(self):\n",
    "        return self._df['variety'].unique()\n",
    "\n",
    "    def varieties_count(self):\n",
    "        return self._df.groupby('variety').count()['country'] \\\n",
    "            .sort_values(ascending=False) \\\n",
    "            .reset_index() \\\n",
    "            .rename(columns={'country': 'count'})\n",
    "\n",
    "    def _clean_description(self):\n",
    "        def remove_non_ascii(s):\n",
    "            return \"\".join(i for i in s if ord(i) < 128)\n",
    "\n",
    "        def make_lower_case(text):\n",
    "            return text.lower()\n",
    "\n",
    "        def remove_stop_words(text):\n",
    "            from nltk.corpus import stopwords\n",
    "            text = text.split()\n",
    "            stops = set(stopwords.words(\"english\"))\n",
    "            text = [w for w in text if not w in stops]\n",
    "            text = \" \".join(text)\n",
    "            return text\n",
    "\n",
    "        def remove_punctuation(text):\n",
    "            tokenizer = RegexpTokenizer(r'\\w+')\n",
    "            text = tokenizer.tokenize(text)\n",
    "            text = \" \".join(text)\n",
    "            return text\n",
    "\n",
    "        df = self._df\n",
    "        df['description_cleaned'] = df['description'].apply(remove_non_ascii)\n",
    "        df['description_cleaned'] = df.description_cleaned.apply(func=make_lower_case)\n",
    "        df['description_cleaned'] = df.description_cleaned.apply(func=remove_stop_words)\n",
    "        df['description_cleaned'] = df.description_cleaned.apply(func=remove_punctuation)\n",
    "        df['description_cleaned'] = df['description_cleaned'].str.replace('\\d+', '')"
   ],
   "metadata": {
    "collapsed": false,
    "pycharm": {
     "name": "#%%\n"
    }
   },
   "execution_count": 49,
   "outputs": []
  },
  {
   "cell_type": "markdown",
   "source": [
    "### Exemplo do Dataset"
   ],
   "metadata": {
    "collapsed": false,
    "pycharm": {
     "name": "#%% md\n"
    }
   }
  },
  {
   "cell_type": "code",
   "execution_count": 15,
   "outputs": [
    {
     "data": {
      "text/plain": "   Unnamed: 0   country                                        description  \\\n0           0     Italy  Aromas include tropical fruit, broom, brimston...   \n1           1  Portugal  This is ripe and fruity, a wine that is smooth...   \n2           2        US  Tart and snappy, the flavors of lime flesh and...   \n3           3        US  Pineapple rind, lemon pith and orange blossom ...   \n4           4        US  Much like the regular bottling from 2012, this...   \n5           5     Spain  Blackberry and raspberry aromas show a typical...   \n6           6     Italy  Here's a bright, informal red that opens with ...   \n7           7    France  This dry and restrained wine offers spice in p...   \n8           8   Germany  Savory dried thyme notes accent sunnier flavor...   \n9           9    France  This has great depth of flavor with its fresh ...   \n\n                          designation  points  price           province  \\\n0                        Vulkà Bianco      87    NaN  Sicily & Sardinia   \n1                            Avidagos      87   15.0              Douro   \n2                                 NaN      87   14.0             Oregon   \n3                Reserve Late Harvest      87   13.0           Michigan   \n4  Vintner's Reserve Wild Child Block      87   65.0             Oregon   \n5                        Ars In Vitro      87   15.0     Northern Spain   \n6                             Belsito      87   16.0  Sicily & Sardinia   \n7                                 NaN      87   24.0             Alsace   \n8                               Shine      87   12.0        Rheinhessen   \n9                         Les Natures      87   27.0             Alsace   \n\n              region_1           region_2         taster_name  \\\n0                 Etna                NaN       Kerin O’Keefe   \n1                  NaN                NaN          Roger Voss   \n2    Willamette Valley  Willamette Valley        Paul Gregutt   \n3  Lake Michigan Shore                NaN  Alexander Peartree   \n4    Willamette Valley  Willamette Valley        Paul Gregutt   \n5              Navarra                NaN   Michael Schachner   \n6             Vittoria                NaN       Kerin O’Keefe   \n7               Alsace                NaN          Roger Voss   \n8                  NaN                NaN  Anna Lee C. Iijima   \n9               Alsace                NaN          Roger Voss   \n\n  taster_twitter_handle                                              title  \\\n0          @kerinokeefe                  Nicosia 2013 Vulkà Bianco  (Etna)   \n1            @vossroger      Quinta dos Avidagos 2011 Avidagos Red (Douro)   \n2           @paulgwine       Rainstorm 2013 Pinot Gris (Willamette Valley)   \n3                   NaN  St. Julian 2013 Reserve Late Harvest Riesling ...   \n4           @paulgwine   Sweet Cheeks 2012 Vintner's Reserve Wild Child...   \n5           @wineschach  Tandem 2011 Ars In Vitro Tempranillo-Merlot (N...   \n6          @kerinokeefe   Terre di Giurfo 2013 Belsito Frappato (Vittoria)   \n7            @vossroger              Trimbach 2012 Gewurztraminer (Alsace)   \n8                   NaN  Heinz Eifel 2013 Shine Gewürztraminer (Rheinhe...   \n9            @vossroger  Jean-Baptiste Adam 2012 Les Natures Pinot Gris...   \n\n              variety               winery  \\\n0         White Blend              Nicosia   \n1      Portuguese Red  Quinta dos Avidagos   \n2          Pinot Gris            Rainstorm   \n3            Riesling           St. Julian   \n4          Pinot Noir         Sweet Cheeks   \n5  Tempranillo-Merlot               Tandem   \n6            Frappato      Terre di Giurfo   \n7      Gewürztraminer             Trimbach   \n8      Gewürztraminer          Heinz Eifel   \n9          Pinot Gris   Jean-Baptiste Adam   \n\n                                 description_cleaned  \n0  aromas include tropical fruit broom brimstone ...  \n1  ripe fruity wine smooth still structured firm ...  \n2  tart snappy flavors lime flesh rind dominate g...  \n3  pineapple rind lemon pith orange blossom start...  \n4  much like regular bottling  comes across rathe...  \n5  blackberry raspberry aromas show typical navar...  \n6  here s bright informal red opens aromas candie...  \n7  dry restrained wine offers spice profusion bal...  \n8  savory dried thyme notes accent sunnier flavor...  \n9  great depth flavor fresh apple pear fruits tou...  ",
      "text/html": "<div>\n<style scoped>\n    .dataframe tbody tr th:only-of-type {\n        vertical-align: middle;\n    }\n\n    .dataframe tbody tr th {\n        vertical-align: top;\n    }\n\n    .dataframe thead th {\n        text-align: right;\n    }\n</style>\n<table border=\"1\" class=\"dataframe\">\n  <thead>\n    <tr style=\"text-align: right;\">\n      <th></th>\n      <th>Unnamed: 0</th>\n      <th>country</th>\n      <th>description</th>\n      <th>designation</th>\n      <th>points</th>\n      <th>price</th>\n      <th>province</th>\n      <th>region_1</th>\n      <th>region_2</th>\n      <th>taster_name</th>\n      <th>taster_twitter_handle</th>\n      <th>title</th>\n      <th>variety</th>\n      <th>winery</th>\n      <th>description_cleaned</th>\n    </tr>\n  </thead>\n  <tbody>\n    <tr>\n      <th>0</th>\n      <td>0</td>\n      <td>Italy</td>\n      <td>Aromas include tropical fruit, broom, brimston...</td>\n      <td>Vulkà Bianco</td>\n      <td>87</td>\n      <td>NaN</td>\n      <td>Sicily &amp; Sardinia</td>\n      <td>Etna</td>\n      <td>NaN</td>\n      <td>Kerin O’Keefe</td>\n      <td>@kerinokeefe</td>\n      <td>Nicosia 2013 Vulkà Bianco  (Etna)</td>\n      <td>White Blend</td>\n      <td>Nicosia</td>\n      <td>aromas include tropical fruit broom brimstone ...</td>\n    </tr>\n    <tr>\n      <th>1</th>\n      <td>1</td>\n      <td>Portugal</td>\n      <td>This is ripe and fruity, a wine that is smooth...</td>\n      <td>Avidagos</td>\n      <td>87</td>\n      <td>15.0</td>\n      <td>Douro</td>\n      <td>NaN</td>\n      <td>NaN</td>\n      <td>Roger Voss</td>\n      <td>@vossroger</td>\n      <td>Quinta dos Avidagos 2011 Avidagos Red (Douro)</td>\n      <td>Portuguese Red</td>\n      <td>Quinta dos Avidagos</td>\n      <td>ripe fruity wine smooth still structured firm ...</td>\n    </tr>\n    <tr>\n      <th>2</th>\n      <td>2</td>\n      <td>US</td>\n      <td>Tart and snappy, the flavors of lime flesh and...</td>\n      <td>NaN</td>\n      <td>87</td>\n      <td>14.0</td>\n      <td>Oregon</td>\n      <td>Willamette Valley</td>\n      <td>Willamette Valley</td>\n      <td>Paul Gregutt</td>\n      <td>@paulgwine</td>\n      <td>Rainstorm 2013 Pinot Gris (Willamette Valley)</td>\n      <td>Pinot Gris</td>\n      <td>Rainstorm</td>\n      <td>tart snappy flavors lime flesh rind dominate g...</td>\n    </tr>\n    <tr>\n      <th>3</th>\n      <td>3</td>\n      <td>US</td>\n      <td>Pineapple rind, lemon pith and orange blossom ...</td>\n      <td>Reserve Late Harvest</td>\n      <td>87</td>\n      <td>13.0</td>\n      <td>Michigan</td>\n      <td>Lake Michigan Shore</td>\n      <td>NaN</td>\n      <td>Alexander Peartree</td>\n      <td>NaN</td>\n      <td>St. Julian 2013 Reserve Late Harvest Riesling ...</td>\n      <td>Riesling</td>\n      <td>St. Julian</td>\n      <td>pineapple rind lemon pith orange blossom start...</td>\n    </tr>\n    <tr>\n      <th>4</th>\n      <td>4</td>\n      <td>US</td>\n      <td>Much like the regular bottling from 2012, this...</td>\n      <td>Vintner's Reserve Wild Child Block</td>\n      <td>87</td>\n      <td>65.0</td>\n      <td>Oregon</td>\n      <td>Willamette Valley</td>\n      <td>Willamette Valley</td>\n      <td>Paul Gregutt</td>\n      <td>@paulgwine</td>\n      <td>Sweet Cheeks 2012 Vintner's Reserve Wild Child...</td>\n      <td>Pinot Noir</td>\n      <td>Sweet Cheeks</td>\n      <td>much like regular bottling  comes across rathe...</td>\n    </tr>\n    <tr>\n      <th>5</th>\n      <td>5</td>\n      <td>Spain</td>\n      <td>Blackberry and raspberry aromas show a typical...</td>\n      <td>Ars In Vitro</td>\n      <td>87</td>\n      <td>15.0</td>\n      <td>Northern Spain</td>\n      <td>Navarra</td>\n      <td>NaN</td>\n      <td>Michael Schachner</td>\n      <td>@wineschach</td>\n      <td>Tandem 2011 Ars In Vitro Tempranillo-Merlot (N...</td>\n      <td>Tempranillo-Merlot</td>\n      <td>Tandem</td>\n      <td>blackberry raspberry aromas show typical navar...</td>\n    </tr>\n    <tr>\n      <th>6</th>\n      <td>6</td>\n      <td>Italy</td>\n      <td>Here's a bright, informal red that opens with ...</td>\n      <td>Belsito</td>\n      <td>87</td>\n      <td>16.0</td>\n      <td>Sicily &amp; Sardinia</td>\n      <td>Vittoria</td>\n      <td>NaN</td>\n      <td>Kerin O’Keefe</td>\n      <td>@kerinokeefe</td>\n      <td>Terre di Giurfo 2013 Belsito Frappato (Vittoria)</td>\n      <td>Frappato</td>\n      <td>Terre di Giurfo</td>\n      <td>here s bright informal red opens aromas candie...</td>\n    </tr>\n    <tr>\n      <th>7</th>\n      <td>7</td>\n      <td>France</td>\n      <td>This dry and restrained wine offers spice in p...</td>\n      <td>NaN</td>\n      <td>87</td>\n      <td>24.0</td>\n      <td>Alsace</td>\n      <td>Alsace</td>\n      <td>NaN</td>\n      <td>Roger Voss</td>\n      <td>@vossroger</td>\n      <td>Trimbach 2012 Gewurztraminer (Alsace)</td>\n      <td>Gewürztraminer</td>\n      <td>Trimbach</td>\n      <td>dry restrained wine offers spice profusion bal...</td>\n    </tr>\n    <tr>\n      <th>8</th>\n      <td>8</td>\n      <td>Germany</td>\n      <td>Savory dried thyme notes accent sunnier flavor...</td>\n      <td>Shine</td>\n      <td>87</td>\n      <td>12.0</td>\n      <td>Rheinhessen</td>\n      <td>NaN</td>\n      <td>NaN</td>\n      <td>Anna Lee C. Iijima</td>\n      <td>NaN</td>\n      <td>Heinz Eifel 2013 Shine Gewürztraminer (Rheinhe...</td>\n      <td>Gewürztraminer</td>\n      <td>Heinz Eifel</td>\n      <td>savory dried thyme notes accent sunnier flavor...</td>\n    </tr>\n    <tr>\n      <th>9</th>\n      <td>9</td>\n      <td>France</td>\n      <td>This has great depth of flavor with its fresh ...</td>\n      <td>Les Natures</td>\n      <td>87</td>\n      <td>27.0</td>\n      <td>Alsace</td>\n      <td>Alsace</td>\n      <td>NaN</td>\n      <td>Roger Voss</td>\n      <td>@vossroger</td>\n      <td>Jean-Baptiste Adam 2012 Les Natures Pinot Gris...</td>\n      <td>Pinot Gris</td>\n      <td>Jean-Baptiste Adam</td>\n      <td>great depth flavor fresh apple pear fruits tou...</td>\n    </tr>\n  </tbody>\n</table>\n</div>"
     },
     "execution_count": 15,
     "metadata": {},
     "output_type": "execute_result"
    }
   ],
   "source": [
    "wine_dataset = WineDataSet()\n",
    "wine_dataset.data.head(10)\n"
   ],
   "metadata": {
    "collapsed": false,
    "pycharm": {
     "name": "#%%\n"
    }
   }
  },
  {
   "cell_type": "markdown",
   "source": [
    "### Tamanho do dataset"
   ],
   "metadata": {
    "collapsed": false
   }
  },
  {
   "cell_type": "code",
   "execution_count": 4,
   "outputs": [
    {
     "data": {
      "text/plain": "(129971, 15)"
     },
     "execution_count": 4,
     "metadata": {},
     "output_type": "execute_result"
    }
   ],
   "source": [
    "wine_dataset.data.shape"
   ],
   "metadata": {
    "collapsed": false,
    "pycharm": {
     "name": "#%%\n"
    }
   }
  },
  {
   "cell_type": "markdown",
   "source": [
    "### Variedades de uvas"
   ],
   "metadata": {
    "collapsed": false,
    "pycharm": {
     "name": "#%% md\n"
    }
   }
  },
  {
   "cell_type": "code",
   "execution_count": 16,
   "outputs": [
    {
     "data": {
      "text/plain": "                      variety  count\n0                  Pinot Noir  13269\n1                  Chardonnay  11750\n2          Cabernet Sauvignon   9470\n3                   Red Blend   8935\n4    Bordeaux-style Red Blend   6915\n..                        ...    ...\n702                    Vranac      0\n703                  Ojaleshi      0\n704              Tsapournakos      0\n705                Tsolikouri      0\n706                    Melnik      0\n\n[707 rows x 2 columns]",
      "text/html": "<div>\n<style scoped>\n    .dataframe tbody tr th:only-of-type {\n        vertical-align: middle;\n    }\n\n    .dataframe tbody tr th {\n        vertical-align: top;\n    }\n\n    .dataframe thead th {\n        text-align: right;\n    }\n</style>\n<table border=\"1\" class=\"dataframe\">\n  <thead>\n    <tr style=\"text-align: right;\">\n      <th></th>\n      <th>variety</th>\n      <th>count</th>\n    </tr>\n  </thead>\n  <tbody>\n    <tr>\n      <th>0</th>\n      <td>Pinot Noir</td>\n      <td>13269</td>\n    </tr>\n    <tr>\n      <th>1</th>\n      <td>Chardonnay</td>\n      <td>11750</td>\n    </tr>\n    <tr>\n      <th>2</th>\n      <td>Cabernet Sauvignon</td>\n      <td>9470</td>\n    </tr>\n    <tr>\n      <th>3</th>\n      <td>Red Blend</td>\n      <td>8935</td>\n    </tr>\n    <tr>\n      <th>4</th>\n      <td>Bordeaux-style Red Blend</td>\n      <td>6915</td>\n    </tr>\n    <tr>\n      <th>...</th>\n      <td>...</td>\n      <td>...</td>\n    </tr>\n    <tr>\n      <th>702</th>\n      <td>Vranac</td>\n      <td>0</td>\n    </tr>\n    <tr>\n      <th>703</th>\n      <td>Ojaleshi</td>\n      <td>0</td>\n    </tr>\n    <tr>\n      <th>704</th>\n      <td>Tsapournakos</td>\n      <td>0</td>\n    </tr>\n    <tr>\n      <th>705</th>\n      <td>Tsolikouri</td>\n      <td>0</td>\n    </tr>\n    <tr>\n      <th>706</th>\n      <td>Melnik</td>\n      <td>0</td>\n    </tr>\n  </tbody>\n</table>\n<p>707 rows × 2 columns</p>\n</div>"
     },
     "execution_count": 16,
     "metadata": {},
     "output_type": "execute_result"
    }
   ],
   "source": [
    "wine_dataset.varieties_count()\n"
   ],
   "metadata": {
    "collapsed": false,
    "pycharm": {
     "name": "#%%\n"
    }
   }
  },
  {
   "cell_type": "markdown",
   "source": [
    "### Países produtores"
   ],
   "metadata": {
    "collapsed": false
   }
  },
  {
   "cell_type": "code",
   "execution_count": 17,
   "outputs": [
    {
     "data": {
      "text/plain": "country\nUS                        54504\nFrance                    22093\nItaly                     19540\nSpain                      6645\nPortugal                   5691\nChile                      4472\nArgentina                  3800\nAustria                    3345\nAustralia                  2329\nGermany                    2165\nNew Zealand                1419\nSouth Africa               1401\nIsrael                      505\nGreece                      466\nCanada                      257\nHungary                     146\nBulgaria                    141\nRomania                     120\nUruguay                     109\nTurkey                       90\nSlovenia                     87\nGeorgia                      86\nEngland                      74\nCroatia                      73\nMexico                       70\nMoldova                      59\nBrazil                       52\nLebanon                      35\nMorocco                      28\nPeru                         16\nUkraine                      14\nMacedonia                    12\nSerbia                       12\nCzech Republic               12\nCyprus                       11\nIndia                         9\nSwitzerland                   7\nLuxembourg                    6\nBosnia and Herzegovina        2\nArmenia                       2\nEgypt                         1\nSlovakia                      1\nChina                         1\nName: title, dtype: int64"
     },
     "execution_count": 17,
     "metadata": {},
     "output_type": "execute_result"
    }
   ],
   "source": [
    "wine_dataset.data.groupby('country').count()['title'].sort_values(ascending=False)"
   ],
   "metadata": {
    "collapsed": false,
    "pycharm": {
     "name": "#%%\n"
    }
   }
  },
  {
   "cell_type": "code",
   "execution_count": 18,
   "outputs": [],
   "source": [
    "del wine_dataset"
   ],
   "metadata": {
    "collapsed": false,
    "pycharm": {
     "name": "#%%\n"
    }
   }
  },
  {
   "cell_type": "markdown",
   "source": [
    "## Entidade de Vinhos e Dicionario de Vinhos\n",
    "\n",
    "Para facilitar algumas operações, foram criadas duas entidades: Wine e WineDict, que é um\n",
    "dicionário de Wines. Isso é para ajudar no sistema de recomendação de vinhos. Uma terceira\n",
    "entidade foi feita para facilitar a conversão de rows do dataset para a entidade Wine."
   ],
   "metadata": {
    "collapsed": false
   }
  },
  {
   "cell_type": "code",
   "execution_count": 78,
   "outputs": [],
   "source": [
    "import json\n",
    "\n",
    "\n",
    "class Wine:\n",
    "    def __init__(self,\n",
    "                 points: int,\n",
    "                 title: str,\n",
    "                 description: dict,\n",
    "                 taster_name: str,\n",
    "                 taster_twitter_handle: str,\n",
    "                 price: float,\n",
    "                 designation: str,\n",
    "                 variety: str,\n",
    "                 region_1: str,\n",
    "                 region_2: str,\n",
    "                 province: str,\n",
    "                 country: str,\n",
    "                 winery: str,\n",
    "                 ):\n",
    "        self._data = {\n",
    "            \"points\": int(points),\n",
    "            \"title\": title,\n",
    "            \"description\": description,\n",
    "            \"taster_name\": taster_name,\n",
    "            \"taster_twitter_handle\": taster_twitter_handle,\n",
    "            \"price\": float(price),\n",
    "            \"designation\": designation,\n",
    "            \"variety\": variety,\n",
    "            \"region_1\": region_1,\n",
    "            \"region_2\": region_2,\n",
    "            \"province\": province,\n",
    "            \"country\": country,\n",
    "            \"winery\": winery\n",
    "        }\n",
    "\n",
    "    def __str__(self):\n",
    "        return json.dumps(self._data, indent=2)\n",
    "\n",
    "    def __call__(self):\n",
    "        return self._data\n",
    "\n",
    "    __repr__ = __str__\n",
    "\n",
    "    @property\n",
    "    def title(self) -> str:\n",
    "        return self._data['title']\n",
    "\n",
    "    @title.setter\n",
    "    def title(self, value):\n",
    "        self._data['title'] = value\n",
    "\n",
    "    def __getitem__(self, key):\n",
    "        return self._data[key]\n",
    "\n",
    "    @property\n",
    "    def cleaned_description(self) -> str:\n",
    "        return self._data['description']['cleaned']"
   ],
   "metadata": {
    "collapsed": false,
    "pycharm": {
     "name": "#%%\n"
    }
   }
  },
  {
   "cell_type": "code",
   "execution_count": 44,
   "outputs": [],
   "source": [
    "from typing import Union\n",
    "\n",
    "from models.wine import Wine\n",
    "\n",
    "\n",
    "class WineDict:\n",
    "    def __init__(self):\n",
    "        self._data = {}\n",
    "        self._title2index = {}\n",
    "        self._index2title = {}\n",
    "        self._repeated_wines_name = {}\n",
    "\n",
    "    def append(self, wine: Wine):\n",
    "        index = len(self._data)\n",
    "        if wine.title in self._title2index:\n",
    "            try:\n",
    "                self._repeated_wines_name[wine.title].append(index)\n",
    "            except KeyError:\n",
    "                self._repeated_wines_name[wine.title] = [self._title2index[wine.title], index]\n",
    "            wine.title = f\"{wine.title} ({len(self._repeated_wines_name[wine.title])})\"\n",
    "\n",
    "        self._data[index] = wine\n",
    "        self._index2title[index] = wine.title\n",
    "        self._title2index[wine.title] = index\n",
    "\n",
    "    def __iter__(self):\n",
    "        return self._data.__iter__()\n",
    "\n",
    "    def __getitem__(self, key: Union[str, int]):\n",
    "        if isinstance(key, int):\n",
    "            return self._data[key]\n",
    "        return self._data[self._title2index[key]]\n",
    "\n",
    "    def __str__(self):\n",
    "        return str(self._data)\n",
    "\n",
    "    __repr__ = __str__\n",
    "\n",
    "    @property\n",
    "    def title2index(self):\n",
    "        return self._title2index\n",
    "\n",
    "    @property\n",
    "    def index2title(self):\n",
    "        return self._index2title"
   ],
   "metadata": {
    "collapsed": false,
    "pycharm": {
     "name": "#%%\n"
    }
   }
  },
  {
   "cell_type": "code",
   "execution_count": 45,
   "outputs": [],
   "source": [
    "class Row2Json:\n",
    "    def __new__(cls, row):\n",
    "        return {\n",
    "            \"points\": int(row[4]),\n",
    "            \"title\": row[11] if not isinstance(row[11], float) else None,\n",
    "            \"description\": {\n",
    "                'original': row[2] if not isinstance(row[2], float) else None,\n",
    "                'cleaned': row[14] if not isinstance(row[14], float) else None\n",
    "            },\n",
    "            \"taster_name\": row[9] if not isinstance(row[9], float) else None,\n",
    "            \"taster_twitter_handle\": row[10] if not isinstance(row[10], float) else None,\n",
    "            \"price\": float(row[5]),\n",
    "            \"designation\": row[3] if not isinstance(row[3], float) else None,\n",
    "            \"variety\": row[12] if not isinstance(row[12], float) else None,\n",
    "            \"region_1\": row[7] if not isinstance(row[7], float) else None,\n",
    "            \"region_2\": row[8] if not isinstance(row[8], float) else None,\n",
    "            \"province\": row[6] if not isinstance(row[9], float) else None,\n",
    "            \"country\": row[1] if not isinstance(row[1], float) else None,\n",
    "            \"winery\": row[13] if not isinstance(row[13], float) else None\n",
    "        }"
   ],
   "metadata": {
    "collapsed": false,
    "pycharm": {
     "name": "#%%\n"
    }
   }
  },
  {
   "cell_type": "markdown",
   "source": [
    "## Inicializando o Dict\n",
    "\n",
    "Um exemplo do que acontece para incializar o WineDict com Wines"
   ],
   "metadata": {
    "collapsed": false,
    "pycharm": {
     "name": "#%% md\n"
    }
   }
  },
  {
   "cell_type": "code",
   "execution_count": 79,
   "outputs": [
    {
     "name": "stderr",
     "output_type": "stream",
     "text": [
      "100%|██████████| 129971/129971 [00:03<00:00, 33692.00it/s]\n"
     ]
    }
   ],
   "source": [
    "from tqdm import tqdm\n",
    "\n",
    "wine130k = WineDataSet()\n",
    "wine_dict = WineDict()\n",
    "for row in tqdm(np.array(wine130k.data)):\n",
    "    wine_dict.append(Wine(**Row2Json(row)))\n",
    "del row, wine130k"
   ],
   "metadata": {
    "collapsed": false,
    "pycharm": {
     "name": "#%%\n"
    }
   }
  },
  {
   "cell_type": "markdown",
   "source": [
    "## Acessando vinhos\n",
    "\n",
    "Há duas formas de se acessar um vinho: index ou o seu nome"
   ],
   "metadata": {
    "collapsed": false
   }
  },
  {
   "cell_type": "code",
   "execution_count": 83,
   "outputs": [
    {
     "data": {
      "text/plain": "{\n  \"points\": 87,\n  \"title\": \"Nicosia 2013 Vulk\\u00e0 Bianco  (Etna)\",\n  \"description\": {\n    \"original\": \"Aromas include tropical fruit, broom, brimstone and dried herb. The palate isn't overly expressive, offering unripened apple, citrus and dried sage alongside brisk acidity.\",\n    \"cleaned\": \"aromas include tropical fruit broom brimstone dried herb palate overly expressive offering unripened apple citrus dried sage alongside brisk acidity\"\n  },\n  \"taster_name\": \"Kerin O\\u2019Keefe\",\n  \"taster_twitter_handle\": \"@kerinokeefe\",\n  \"price\": NaN,\n  \"designation\": \"Vulk\\u00e0 Bianco\",\n  \"variety\": \"White Blend\",\n  \"region_1\": \"Etna\",\n  \"region_2\": null,\n  \"province\": \"Sicily & Sardinia\",\n  \"country\": \"Italy\",\n  \"winery\": \"Nicosia\"\n}"
     },
     "execution_count": 83,
     "metadata": {},
     "output_type": "execute_result"
    }
   ],
   "source": [
    "wine_dict[0]"
   ],
   "metadata": {
    "collapsed": false,
    "pycharm": {
     "name": "#%%\n"
    }
   }
  },
  {
   "cell_type": "code",
   "execution_count": 112,
   "outputs": [
    {
     "data": {
      "text/plain": "{\n  \"points\": 88,\n  \"title\": \"Arcane Cellars 2006 Cabernet Sauvignon (Rogue Valley)\",\n  \"description\": {\n    \"original\": \"Arcane's Cab is stylistically apart from either California or Washington. It defines its own space. There's plenty of new oak, but the fruit, acid and tannins stand up to it. This is sharp and tangy; cranberry and raspberry, strawberry and citric acids all playing their part. Still young, give it some time in a decanter or in your cellar to come together and show its best.\",\n    \"cleaned\": \"arcane s cab stylistically apart either california washington defines space there s plenty new oak fruit acid tannins stand it sharp tangy cranberry raspberry strawberry citric acids playing part still young give time decanter cellar come together show best\"\n  },\n  \"taster_name\": \"Paul Gregutt\",\n  \"taster_twitter_handle\": \"@paulgwine\\u00a0\",\n  \"price\": 24.0,\n  \"designation\": null,\n  \"variety\": \"Cabernet Sauvignon\",\n  \"region_1\": \"Rogue Valley\",\n  \"region_2\": \"Southern Oregon\",\n  \"province\": \"Oregon\",\n  \"country\": \"US\",\n  \"winery\": \"Arcane Cellars\"\n}"
     },
     "execution_count": 112,
     "metadata": {},
     "output_type": "execute_result"
    }
   ],
   "source": [
    "wine_dict[wine_dict[1000].title]"
   ],
   "metadata": {
    "collapsed": false,
    "pycharm": {
     "name": "#%%\n"
    }
   }
  },
  {
   "cell_type": "markdown",
   "source": [
    "## Wine2Index e Index2Wine\n",
    "\n",
    "Para facilitar mapear index para vinhos e vice-versa, temos os seguintes atributos:"
   ],
   "metadata": {
    "collapsed": false
   }
  },
  {
   "cell_type": "code",
   "execution_count": 7,
   "outputs": [
    {
     "data": {
      "text/plain": "'Nicosia 2013 Vulkà Bianco  (Etna)'"
     },
     "execution_count": 7,
     "metadata": {},
     "output_type": "execute_result"
    }
   ],
   "source": [
    "wine_dict.index2title[0]"
   ],
   "metadata": {
    "collapsed": false,
    "pycharm": {
     "name": "#%%\n"
    }
   }
  },
  {
   "cell_type": "code",
   "execution_count": 8,
   "outputs": [
    {
     "data": {
      "text/plain": "1000"
     },
     "execution_count": 8,
     "metadata": {},
     "output_type": "execute_result"
    }
   ],
   "source": [
    "wine_dict.title2index[wine_dict[1000].title]"
   ],
   "metadata": {
    "collapsed": false,
    "pycharm": {
     "name": "#%%\n"
    }
   }
  },
  {
   "cell_type": "markdown",
   "source": [
    "# [Parte 2] Wine Recommender\n",
    "\n",
    "A primeira parte deste trabalho consiste em fazer um recomendador de vinhos. Podemos notar\n",
    "pelo dataset que temos uma descrição de vinhos. Essa é feita por sommeliers e traz\n",
    "informações de características de vinhos. Resolvi ir por esse lado, pois é um\n",
    "ponto importante na escolha de vinhos."
   ],
   "metadata": {
    "collapsed": false
   }
  },
  {
   "cell_type": "code",
   "execution_count": 84,
   "outputs": [
    {
     "data": {
      "text/plain": "\"Fresh apple, lemon and pear flavors are accented by a hint of smoked nuts in this bold, full-bodied Pinot Gris. Rich and a bit creamy in mouthfeel yet balanced briskly, it's a satisfying white with wide pairing appeal. Drink now through 2019.\""
     },
     "execution_count": 84,
     "metadata": {},
     "output_type": "execute_result"
    }
   ],
   "source": [
    "wine_dict[100]['description']['original']"
   ],
   "metadata": {
    "collapsed": false,
    "pycharm": {
     "name": "#%%\n"
    }
   }
  },
  {
   "cell_type": "code",
   "execution_count": 85,
   "outputs": [
    {
     "data": {
      "text/plain": "'Aromas of mature black-skinned berry, tobacco and dark spice lead the way. The rounded palate offers dried cherry, raspberry, coffee and a licorice note alongside velvety if not very persistent tannins. Showing the heat of the vintage, this is evolving quickly so enjoy over the next several years.'"
     },
     "execution_count": 85,
     "metadata": {},
     "output_type": "execute_result"
    }
   ],
   "source": [
    "wine_dict[200]['description']['original']\n"
   ],
   "metadata": {
    "collapsed": false,
    "pycharm": {
     "name": "#%%\n"
    }
   }
  },
  {
   "cell_type": "markdown",
   "source": [
    "## Representando vinhos\n",
    "\n",
    "Vamos partir do principio que esss vinhos são representados pelas suas descrições, eles\n",
    "são caractéristicas que realmente definem os vinhos. Então, vinhos parecidos, terão\n",
    "descrições parecidas. Uma forma de representa essas palavras númericas é com\n",
    "o word2vec. A limpeza de dados já foi feita pelo WineDataset, então só temos que\n",
    "treinar um modelo."
   ],
   "metadata": {
    "collapsed": false
   }
  },
  {
   "cell_type": "markdown",
   "source": [
    "## Gerando o Corpus\n",
    "\n",
    "Com precisamos de um corpus para treinar o Word2Vec, iremos gerar um para ele."
   ],
   "metadata": {
    "collapsed": false,
    "pycharm": {
     "name": "#%% md\n"
    }
   }
  },
  {
   "cell_type": "code",
   "execution_count": 53,
   "outputs": [],
   "source": [
    "from typing import Union\n",
    "\n",
    "import numpy as np\n",
    "from tqdm import tqdm\n",
    "\n",
    "from models.wine_dict import WineDict\n",
    "\n",
    "\n",
    "class WineCorpus:\n",
    "    def __init__(self, text: Union[str, WineDict]):\n",
    "        corpus = []\n",
    "        sentence_len = []\n",
    "\n",
    "        self._corpus = None\n",
    "        self._max_len = None\n",
    "        self._min_len = None\n",
    "        self._avg_len = None\n",
    "        self._std_len = None\n",
    "        if isinstance(text, WineDict):\n",
    "            for w in tqdm(text):\n",
    "                wine = text[w]\n",
    "                cd = wine.cleaned_description.split()\n",
    "                sentence_len.append(len(cd))\n",
    "                corpus.append(cd)\n",
    "            self._corpus = corpus\n",
    "            del text, w\n",
    "        elif isinstance(text, str):\n",
    "            with open(text, 'r') as f:\n",
    "                for sentence in tqdm(f.readlines()):\n",
    "                    corpus.append(sentence.replace('\\n', '').split())\n",
    "                    sentence_len.append(len(sentence.split()))\n",
    "                self._corpus = corpus\n",
    "            f.close()\n",
    "        else:\n",
    "            for w in tqdm(text):\n",
    "                wine = text[w]\n",
    "                cd = wine.cleaned_description.split()\n",
    "                sentence_len.append(len(cd))\n",
    "                corpus.append(cd)\n",
    "            self._corpus = corpus\n",
    "            del text, w\n",
    "        self.init_data(sentence_len)\n",
    "\n",
    "    def init_data(self, sentence_len):\n",
    "        sentence_len = np.array(sentence_len)\n",
    "        self._max_len = max(sentence_len)\n",
    "        self._min_len = min(sentence_len)\n",
    "        self._avg_len = int(np.mean(sentence_len))\n",
    "        self._std_len = int(np.std(sentence_len))\n",
    "\n",
    "    def __iter__(self):\n",
    "        return self._corpus.__iter__()\n",
    "\n",
    "    @property\n",
    "    def corpus(self):\n",
    "        return self._corpus\n",
    "\n",
    "    @property\n",
    "    def max_len(self):\n",
    "        return self._max_len\n",
    "\n",
    "    @property\n",
    "    def min_len(self):\n",
    "        return self._min_len\n",
    "\n",
    "    @property\n",
    "    def avg_len(self):\n",
    "        return self._avg_len\n",
    "\n",
    "    @property\n",
    "    def std_len(self):\n",
    "        return self._std_len\n",
    "\n",
    "    def save(self, save_path: str):\n",
    "        with open(save_path, \"w\") as f:\n",
    "            for sentence in self._corpus:\n",
    "                s = \" \".join(map(str, sentence))\n",
    "                f.write(f\"{s}\\n\")\n",
    "        f.close()"
   ],
   "metadata": {
    "collapsed": false,
    "pycharm": {
     "name": "#%%\n"
    }
   }
  },
  {
   "cell_type": "markdown",
   "source": [
    "### Montando o corpus"
   ],
   "metadata": {
    "collapsed": false,
    "pycharm": {
     "name": "#%% md\n"
    }
   }
  },
  {
   "cell_type": "code",
   "execution_count": 86,
   "outputs": [
    {
     "name": "stderr",
     "output_type": "stream",
     "text": [
      "129971it [00:00, 160996.84it/s]\n"
     ]
    }
   ],
   "source": [
    "wine_corpus = WineCorpus(wine_dict)"
   ],
   "metadata": {
    "collapsed": false,
    "pycharm": {
     "name": "#%%\n"
    }
   }
  },
  {
   "cell_type": "markdown",
   "source": [
    "### O corpus"
   ],
   "metadata": {
    "collapsed": false
   }
  },
  {
   "cell_type": "code",
   "execution_count": 114,
   "outputs": [
    {
     "data": {
      "text/plain": "['aromas',\n 'include',\n 'tropical',\n 'fruit',\n 'broom',\n 'brimstone',\n 'dried',\n 'herb',\n 'palate',\n 'overly',\n 'expressive',\n 'offering',\n 'unripened',\n 'apple',\n 'citrus',\n 'dried',\n 'sage',\n 'alongside',\n 'brisk',\n 'acidity']"
     },
     "execution_count": 114,
     "metadata": {},
     "output_type": "execute_result"
    }
   ],
   "source": [
    "wine_corpus.corpus[0]"
   ],
   "metadata": {
    "collapsed": false,
    "pycharm": {
     "name": "#%%\n"
    }
   }
  },
  {
   "cell_type": "markdown",
   "source": [
    "### Alguns dados dos corpus"
   ],
   "metadata": {
    "collapsed": false,
    "pycharm": {
     "name": "#%% md\n"
    }
   }
  },
  {
   "cell_type": "code",
   "execution_count": 115,
   "outputs": [
    {
     "name": "stdout",
     "output_type": "stream",
     "text": [
      "\n",
      "MAX: 80\n",
      "AVG: 25\n",
      "MIN: 2\n",
      "SDT: 6\n",
      "\n"
     ]
    }
   ],
   "source": [
    "print(f'''\n",
    "MAX: {wine_corpus.max_len}\n",
    "AVG: {wine_corpus.avg_len}\n",
    "MIN: {wine_corpus.min_len}\n",
    "SDT: {wine_corpus.std_len}\n",
    "''')"
   ],
   "metadata": {
    "collapsed": false,
    "pycharm": {
     "name": "#%%\n"
    }
   }
  },
  {
   "cell_type": "markdown",
   "source": [
    "### Salvando o corpus"
   ],
   "metadata": {
    "collapsed": false
   }
  },
  {
   "cell_type": "code",
   "execution_count": 116,
   "outputs": [],
   "source": [
    "wine_corpus.save('corpus/all_wines.txt')"
   ],
   "metadata": {
    "collapsed": false,
    "pycharm": {
     "name": "#%%\n"
    }
   }
  },
  {
   "cell_type": "markdown",
   "source": [
    "## Wine2Vec\n",
    "\n",
    "Aqui vamos definir a entidade que define a relação de cada vinho com as palavras."
   ],
   "metadata": {
    "collapsed": false,
    "pycharm": {
     "name": "#%% md\n"
    }
   }
  },
  {
   "cell_type": "code",
   "execution_count": 55,
   "outputs": [],
   "source": [
    "import logging\n",
    "import os\n",
    "from typing import Union, List\n",
    "\n",
    "import numpy as np\n",
    "from dask.array import from_array\n",
    "from gensim.models import Word2Vec\n",
    "from tqdm import tqdm\n",
    "\n",
    "logging.basicConfig(format='%(asctime)s : %(levelname)s : %(message)s', level=logging.INFO)\n",
    "\n",
    "\n",
    "class Wine2Vec:\n",
    "    def __init__(self, sentences,\n",
    "                 iter: int = 5,\n",
    "                 min_count: int = 5,\n",
    "                 size: int = 300,\n",
    "                 workers: int = os.cpu_count() - 1,\n",
    "                 sg: int = 1,\n",
    "                 hs: int = 0,\n",
    "                 negative: int = 5,\n",
    "                 window: int = 5):\n",
    "        self._sentences = sentences\n",
    "        self._iter = iter\n",
    "        self._min_count = min_count\n",
    "        self._size = size\n",
    "        self._workers = workers\n",
    "        self._sg = sg\n",
    "        self._hs = hs\n",
    "        self._negative = negative\n",
    "        self._window = window\n",
    "\n",
    "        self._model = None\n",
    "        self._wine_embedding = None\n",
    "\n",
    "    @property\n",
    "    def wine2vec(self):\n",
    "        return self._wine_embedding\n",
    "\n",
    "    @property\n",
    "    def model(self) -> Word2Vec:\n",
    "        return self._model\n",
    "\n",
    "    @model.setter\n",
    "    def model(self, value):\n",
    "        self._model = value\n",
    "\n",
    "    def train(self, ):\n",
    "        model = Word2Vec(\n",
    "            sentences=self._sentences,\n",
    "            iter=self._iter,\n",
    "            min_count=self._min_count,\n",
    "            size=self._size,\n",
    "            workers=self._workers,\n",
    "            sg=self._sg,\n",
    "            hs=self._hs,\n",
    "            negative=self._negative,\n",
    "            window=self._window\n",
    "        )\n",
    "\n",
    "        self._model = model\n",
    "\n",
    "    def save(self, path: str):\n",
    "        self._model.save(f\"{path}\")\n",
    "\n",
    "    def load(self, load_path: str):\n",
    "        from gensim.models import Word2Vec\n",
    "        self._model = Word2Vec.load(load_path)\n",
    "\n",
    "    def similarity(self, w1, w2):\n",
    "        return self._model.wv.similarity(w1, w2)\n",
    "\n",
    "    def word(self, word):\n",
    "        return self._model.wv[word]\n",
    "\n",
    "    def most_similar(self, words: Union[str, List[str]], topn: int = 10):\n",
    "        return self._model.wv.most_similar(words, topn=topn)\n",
    "\n",
    "    def wine_embeddings(self):\n",
    "        embeddings = []\n",
    "        for sentence in tqdm(self._sentences):\n",
    "            sentence_phrase = []\n",
    "            for word in sentence:\n",
    "                sentence_phrase.append(self.word(word))\n",
    "            embeddings.append(np.array(sentence_phrase))\n",
    "        wine_embedding = []\n",
    "        for e in tqdm(embeddings):\n",
    "            wine_embedding.append(np.mean(e, axis=0))\n",
    "        wine_embedding = np.array(wine_embedding)\n",
    "        self._wine_embedding = from_array(wine_embedding)"
   ],
   "metadata": {
    "collapsed": false,
    "pycharm": {
     "name": "#%%\n"
    }
   }
  },
  {
   "cell_type": "markdown",
   "source": [
    "### Gerando o modelo"
   ],
   "metadata": {
    "collapsed": false,
    "pycharm": {
     "name": "#%% md\n"
    }
   }
  },
  {
   "cell_type": "code",
   "execution_count": 87,
   "outputs": [],
   "source": [
    "iter_ = 30\n",
    "min_count = 1\n",
    "size = 300\n",
    "window = wine_corpus.max_len\n",
    "file_path = f'wine2vec_pretrained/wine2vec_model_i{iter_}_mc{min_count}_s{size}_w{window}'\n",
    "\n",
    "wine2vec = Wine2Vec(\n",
    "    sentences=wine_corpus,\n",
    "    iter=iter_,\n",
    "    min_count=min_count,\n",
    "    size=size,\n",
    "    window=window\n",
    ")"
   ],
   "metadata": {
    "collapsed": false,
    "pycharm": {
     "name": "#%%\n"
    }
   }
  },
  {
   "cell_type": "code",
   "execution_count": 40,
   "outputs": [
    {
     "name": "stderr",
     "output_type": "stream",
     "text": [
      "2021-03-25 17:04:25,149 : INFO : collecting all words and their counts\n",
      "2021-03-25 17:04:25,151 : INFO : PROGRESS: at sentence #0, processed 0 words, keeping 0 word types\n",
      "2021-03-25 17:04:25,202 : INFO : PROGRESS: at sentence #10000, processed 255602 words, keeping 11569 word types\n",
      "2021-03-25 17:04:25,249 : INFO : PROGRESS: at sentence #20000, processed 510235 words, keeping 15714 word types\n",
      "2021-03-25 17:04:25,302 : INFO : PROGRESS: at sentence #30000, processed 764360 words, keeping 18665 word types\n",
      "2021-03-25 17:04:25,364 : INFO : PROGRESS: at sentence #40000, processed 1022370 words, keeping 21089 word types\n",
      "2021-03-25 17:04:25,405 : INFO : PROGRESS: at sentence #50000, processed 1277854 words, keeping 23117 word types\n",
      "2021-03-25 17:04:25,445 : INFO : PROGRESS: at sentence #60000, processed 1535119 words, keeping 24868 word types\n",
      "2021-03-25 17:04:25,489 : INFO : PROGRESS: at sentence #70000, processed 1787073 words, keeping 26336 word types\n",
      "2021-03-25 17:04:25,529 : INFO : PROGRESS: at sentence #80000, processed 2044509 words, keeping 27836 word types\n",
      "2021-03-25 17:04:25,569 : INFO : PROGRESS: at sentence #90000, processed 2304747 words, keeping 29300 word types\n",
      "2021-03-25 17:04:25,607 : INFO : PROGRESS: at sentence #100000, processed 2556854 words, keeping 30528 word types\n",
      "2021-03-25 17:04:25,648 : INFO : PROGRESS: at sentence #110000, processed 2811390 words, keeping 31687 word types\n",
      "2021-03-25 17:04:25,693 : INFO : PROGRESS: at sentence #120000, processed 3065382 words, keeping 32726 word types\n",
      "2021-03-25 17:04:25,744 : INFO : collected 33766 word types from a corpus of 3321621 raw words and 129971 sentences\n",
      "2021-03-25 17:04:25,745 : INFO : Loading a fresh vocabulary\n",
      "2021-03-25 17:04:25,800 : INFO : effective_min_count=1 retains 33766 unique words (100% of original 33766, drops 0)\n",
      "2021-03-25 17:04:25,801 : INFO : effective_min_count=1 leaves 3321621 word corpus (100% of original 3321621, drops 0)\n",
      "2021-03-25 17:04:25,890 : INFO : deleting the raw counts dictionary of 33766 items\n",
      "2021-03-25 17:04:25,891 : INFO : sample=0.001 downsamples 53 most-common words\n",
      "2021-03-25 17:04:25,892 : INFO : downsampling leaves estimated 2867812 word corpus (86.3% of prior 3321621)\n",
      "2021-03-25 17:04:25,956 : INFO : estimated required memory for 33766 words and 300 dimensions: 97921400 bytes\n",
      "2021-03-25 17:04:25,956 : INFO : resetting layer weights\n",
      "2021-03-25 17:04:33,089 : INFO : training model with 3 workers on 33766 vocabulary and 300 features, using sg=1 hs=0 sample=0.001 negative=5 window=80\n",
      "2021-03-25 17:04:34,165 : INFO : EPOCH 1 - PROGRESS: at 3.08% examples, 80562 words/s, in_qsize 5, out_qsize 0\n",
      "2021-03-25 17:04:35,270 : INFO : EPOCH 1 - PROGRESS: at 6.69% examples, 87169 words/s, in_qsize 5, out_qsize 0\n",
      "2021-03-25 17:04:36,366 : INFO : EPOCH 1 - PROGRESS: at 10.27% examples, 89615 words/s, in_qsize 5, out_qsize 0\n",
      "2021-03-25 17:04:37,489 : INFO : EPOCH 1 - PROGRESS: at 13.85% examples, 90219 words/s, in_qsize 5, out_qsize 0\n",
      "2021-03-25 17:04:38,570 : INFO : EPOCH 1 - PROGRESS: at 17.52% examples, 91289 words/s, in_qsize 5, out_qsize 0\n",
      "2021-03-25 17:04:39,655 : INFO : EPOCH 1 - PROGRESS: at 21.11% examples, 91949 words/s, in_qsize 5, out_qsize 0\n",
      "2021-03-25 17:04:40,743 : INFO : EPOCH 1 - PROGRESS: at 24.74% examples, 92388 words/s, in_qsize 6, out_qsize 0\n",
      "2021-03-25 17:04:41,846 : INFO : EPOCH 1 - PROGRESS: at 28.31% examples, 92574 words/s, in_qsize 6, out_qsize 0\n",
      "2021-03-25 17:04:42,946 : INFO : EPOCH 1 - PROGRESS: at 31.87% examples, 92733 words/s, in_qsize 5, out_qsize 0\n",
      "2021-03-25 17:04:44,038 : INFO : EPOCH 1 - PROGRESS: at 35.51% examples, 92949 words/s, in_qsize 5, out_qsize 0\n",
      "2021-03-25 17:04:45,150 : INFO : EPOCH 1 - PROGRESS: at 39.07% examples, 92979 words/s, in_qsize 5, out_qsize 0\n",
      "2021-03-25 17:04:46,274 : INFO : EPOCH 1 - PROGRESS: at 42.69% examples, 92893 words/s, in_qsize 5, out_qsize 0\n",
      "2021-03-25 17:04:47,431 : INFO : EPOCH 1 - PROGRESS: at 46.29% examples, 92617 words/s, in_qsize 5, out_qsize 0\n",
      "2021-03-25 17:04:48,504 : INFO : EPOCH 1 - PROGRESS: at 49.95% examples, 92909 words/s, in_qsize 5, out_qsize 0\n",
      "2021-03-25 17:04:49,616 : INFO : EPOCH 1 - PROGRESS: at 53.56% examples, 92903 words/s, in_qsize 5, out_qsize 0\n",
      "2021-03-25 17:04:50,711 : INFO : EPOCH 1 - PROGRESS: at 57.15% examples, 92989 words/s, in_qsize 5, out_qsize 0\n",
      "2021-03-25 17:04:51,821 : INFO : EPOCH 1 - PROGRESS: at 60.73% examples, 93004 words/s, in_qsize 5, out_qsize 0\n",
      "2021-03-25 17:04:52,931 : INFO : EPOCH 1 - PROGRESS: at 64.29% examples, 93019 words/s, in_qsize 5, out_qsize 0\n",
      "2021-03-25 17:04:54,044 : INFO : EPOCH 1 - PROGRESS: at 67.85% examples, 93028 words/s, in_qsize 5, out_qsize 0\n",
      "2021-03-25 17:04:55,132 : INFO : EPOCH 1 - PROGRESS: at 71.14% examples, 92737 words/s, in_qsize 5, out_qsize 0\n",
      "2021-03-25 17:04:56,201 : INFO : EPOCH 1 - PROGRESS: at 74.83% examples, 92921 words/s, in_qsize 5, out_qsize 0\n",
      "2021-03-25 17:04:57,208 : INFO : EPOCH 1 - PROGRESS: at 78.15% examples, 92983 words/s, in_qsize 5, out_qsize 0\n",
      "2021-03-25 17:04:58,225 : INFO : EPOCH 1 - PROGRESS: at 81.42% examples, 92991 words/s, in_qsize 5, out_qsize 0\n",
      "2021-03-25 17:04:59,306 : INFO : EPOCH 1 - PROGRESS: at 84.78% examples, 92774 words/s, in_qsize 5, out_qsize 0\n",
      "2021-03-25 17:05:00,417 : INFO : EPOCH 1 - PROGRESS: at 88.48% examples, 92781 words/s, in_qsize 5, out_qsize 0\n",
      "2021-03-25 17:05:01,534 : INFO : EPOCH 1 - PROGRESS: at 92.07% examples, 92774 words/s, in_qsize 5, out_qsize 0\n",
      "2021-03-25 17:05:02,640 : INFO : EPOCH 1 - PROGRESS: at 95.65% examples, 92798 words/s, in_qsize 5, out_qsize 0\n",
      "2021-03-25 17:05:03,746 : INFO : EPOCH 1 - PROGRESS: at 99.23% examples, 92828 words/s, in_qsize 3, out_qsize 0\n",
      "2021-03-25 17:05:03,748 : INFO : worker thread finished; awaiting finish of 2 more threads\n",
      "2021-03-25 17:05:03,779 : INFO : worker thread finished; awaiting finish of 1 more threads\n",
      "2021-03-25 17:05:03,903 : INFO : worker thread finished; awaiting finish of 0 more threads\n",
      "2021-03-25 17:05:03,904 : INFO : EPOCH - 1 : training on 3321621 raw words (2867474 effective words) took 30.8s, 93078 effective words/s\n",
      "2021-03-25 17:05:04,979 : INFO : EPOCH 2 - PROGRESS: at 3.08% examples, 80592 words/s, in_qsize 5, out_qsize 0\n",
      "2021-03-25 17:05:06,083 : INFO : EPOCH 2 - PROGRESS: at 6.69% examples, 87212 words/s, in_qsize 5, out_qsize 0\n",
      "2021-03-25 17:05:07,181 : INFO : EPOCH 2 - PROGRESS: at 10.27% examples, 89614 words/s, in_qsize 5, out_qsize 0\n",
      "2021-03-25 17:05:08,304 : INFO : EPOCH 2 - PROGRESS: at 13.85% examples, 90228 words/s, in_qsize 5, out_qsize 0\n",
      "2021-03-25 17:05:09,397 : INFO : EPOCH 2 - PROGRESS: at 17.52% examples, 91105 words/s, in_qsize 5, out_qsize 0\n",
      "2021-03-25 17:05:10,486 : INFO : EPOCH 2 - PROGRESS: at 21.11% examples, 91764 words/s, in_qsize 5, out_qsize 0\n",
      "2021-03-25 17:05:11,547 : INFO : EPOCH 2 - PROGRESS: at 24.74% examples, 92553 words/s, in_qsize 5, out_qsize 0\n",
      "2021-03-25 17:05:12,652 : INFO : EPOCH 2 - PROGRESS: at 28.31% examples, 92735 words/s, in_qsize 5, out_qsize 0\n",
      "2021-03-25 17:05:13,751 : INFO : EPOCH 2 - PROGRESS: at 31.87% examples, 92879 words/s, in_qsize 5, out_qsize 0\n",
      "2021-03-25 17:05:14,972 : INFO : EPOCH 2 - PROGRESS: at 34.93% examples, 90418 words/s, in_qsize 5, out_qsize 0\n",
      "2021-03-25 17:05:15,992 : INFO : EPOCH 2 - PROGRESS: at 37.59% examples, 89229 words/s, in_qsize 5, out_qsize 0\n",
      "2021-03-25 17:05:17,008 : INFO : EPOCH 2 - PROGRESS: at 40.60% examples, 88898 words/s, in_qsize 5, out_qsize 0\n",
      "2021-03-25 17:05:18,115 : INFO : EPOCH 2 - PROGRESS: at 43.60% examples, 88024 words/s, in_qsize 5, out_qsize 0\n",
      "2021-03-25 17:05:19,125 : INFO : EPOCH 2 - PROGRESS: at 46.55% examples, 87845 words/s, in_qsize 5, out_qsize 0\n",
      "2021-03-25 17:05:20,219 : INFO : EPOCH 2 - PROGRESS: at 49.02% examples, 86170 words/s, in_qsize 5, out_qsize 0\n",
      "2021-03-25 17:05:21,313 : INFO : EPOCH 2 - PROGRESS: at 52.65% examples, 86693 words/s, in_qsize 5, out_qsize 0\n",
      "2021-03-25 17:05:22,380 : INFO : EPOCH 2 - PROGRESS: at 56.27% examples, 87274 words/s, in_qsize 5, out_qsize 0\n",
      "2021-03-25 17:05:23,470 : INFO : EPOCH 2 - PROGRESS: at 59.85% examples, 87702 words/s, in_qsize 5, out_qsize 0\n",
      "2021-03-25 17:05:24,532 : INFO : EPOCH 2 - PROGRESS: at 62.54% examples, 86950 words/s, in_qsize 5, out_qsize 0\n",
      "2021-03-25 17:05:25,585 : INFO : EPOCH 2 - PROGRESS: at 65.17% examples, 86305 words/s, in_qsize 5, out_qsize 0\n",
      "2021-03-25 17:05:26,741 : INFO : EPOCH 2 - PROGRESS: at 68.46% examples, 86099 words/s, in_qsize 5, out_qsize 0\n",
      "2021-03-25 17:05:27,746 : INFO : EPOCH 2 - PROGRESS: at 71.44% examples, 86088 words/s, in_qsize 5, out_qsize 0\n",
      "2021-03-25 17:05:28,862 : INFO : EPOCH 2 - PROGRESS: at 74.83% examples, 86035 words/s, in_qsize 5, out_qsize 0\n",
      "2021-03-25 17:05:29,913 : INFO : EPOCH 2 - PROGRESS: at 78.15% examples, 86205 words/s, in_qsize 5, out_qsize 0\n",
      "2021-03-25 17:05:31,020 : INFO : EPOCH 2 - PROGRESS: at 80.83% examples, 85544 words/s, in_qsize 5, out_qsize 0\n",
      "2021-03-25 17:05:32,144 : INFO : EPOCH 2 - PROGRESS: at 83.89% examples, 85188 words/s, in_qsize 5, out_qsize 0\n",
      "2021-03-25 17:05:33,348 : INFO : EPOCH 2 - PROGRESS: at 87.59% examples, 85206 words/s, in_qsize 5, out_qsize 0\n",
      "2021-03-25 17:05:34,485 : INFO : EPOCH 2 - PROGRESS: at 91.14% examples, 85433 words/s, in_qsize 5, out_qsize 0\n",
      "2021-03-25 17:05:35,682 : INFO : EPOCH 2 - PROGRESS: at 94.73% examples, 85465 words/s, in_qsize 5, out_qsize 0\n",
      "2021-03-25 17:05:36,859 : INFO : EPOCH 2 - PROGRESS: at 98.35% examples, 85548 words/s, in_qsize 5, out_qsize 0\n",
      "2021-03-25 17:05:37,181 : INFO : worker thread finished; awaiting finish of 2 more threads\n",
      "2021-03-25 17:05:37,221 : INFO : worker thread finished; awaiting finish of 1 more threads\n",
      "2021-03-25 17:05:37,347 : INFO : worker thread finished; awaiting finish of 0 more threads\n",
      "2021-03-25 17:05:37,348 : INFO : EPOCH - 2 : training on 3321621 raw words (2867184 effective words) took 33.4s, 85745 effective words/s\n",
      "2021-03-25 17:05:38,614 : INFO : EPOCH 3 - PROGRESS: at 3.08% examples, 68354 words/s, in_qsize 5, out_qsize 0\n",
      "2021-03-25 17:05:40,309 : INFO : EPOCH 3 - PROGRESS: at 6.69% examples, 64105 words/s, in_qsize 5, out_qsize 0\n",
      "2021-03-25 17:05:41,761 : INFO : EPOCH 3 - PROGRESS: at 8.41% examples, 54752 words/s, in_qsize 5, out_qsize 0\n",
      "2021-03-25 17:05:43,142 : INFO : EPOCH 3 - PROGRESS: at 10.27% examples, 50638 words/s, in_qsize 5, out_qsize 0\n",
      "2021-03-25 17:05:44,144 : INFO : EPOCH 3 - PROGRESS: at 12.05% examples, 50806 words/s, in_qsize 5, out_qsize 0\n",
      "2021-03-25 17:05:45,196 : INFO : EPOCH 3 - PROGRESS: at 14.77% examples, 53870 words/s, in_qsize 5, out_qsize 0\n",
      "2021-03-25 17:05:46,211 : INFO : EPOCH 3 - PROGRESS: at 17.82% examples, 57433 words/s, in_qsize 5, out_qsize 0\n",
      "2021-03-25 17:05:47,500 : INFO : EPOCH 3 - PROGRESS: at 21.11% examples, 59499 words/s, in_qsize 5, out_qsize 0\n",
      "2021-03-25 17:05:48,615 : INFO : EPOCH 3 - PROGRESS: at 23.25% examples, 58964 words/s, in_qsize 5, out_qsize 0\n",
      "2021-03-25 17:05:49,637 : INFO : EPOCH 3 - PROGRESS: at 25.02% examples, 58267 words/s, in_qsize 5, out_qsize 0\n",
      "2021-03-25 17:05:50,670 : INFO : EPOCH 3 - PROGRESS: at 27.43% examples, 58932 words/s, in_qsize 5, out_qsize 0\n",
      "2021-03-25 17:05:51,675 : INFO : EPOCH 3 - PROGRESS: at 29.48% examples, 59011 words/s, in_qsize 5, out_qsize 0\n",
      "2021-03-25 17:05:53,584 : INFO : EPOCH 3 - PROGRESS: at 30.65% examples, 54196 words/s, in_qsize 6, out_qsize 0\n",
      "2021-03-25 17:05:54,585 : INFO : EPOCH 3 - PROGRESS: at 31.57% examples, 52542 words/s, in_qsize 5, out_qsize 0\n",
      "2021-03-25 17:05:55,676 : INFO : EPOCH 3 - PROGRESS: at 32.82% examples, 51294 words/s, in_qsize 5, out_qsize 0\n",
      "2021-03-25 17:05:56,875 : INFO : EPOCH 3 - PROGRESS: at 34.05% examples, 49914 words/s, in_qsize 6, out_qsize 0\n",
      "2021-03-25 17:05:57,951 : INFO : EPOCH 3 - PROGRESS: at 35.22% examples, 48980 words/s, in_qsize 6, out_qsize 0\n",
      "2021-03-25 17:05:59,233 : INFO : EPOCH 3 - PROGRESS: at 36.69% examples, 48090 words/s, in_qsize 5, out_qsize 0\n",
      "2021-03-25 17:06:00,517 : INFO : EPOCH 3 - PROGRESS: at 38.48% examples, 47667 words/s, in_qsize 5, out_qsize 0\n",
      "2021-03-25 17:06:01,832 : INFO : EPOCH 3 - PROGRESS: at 39.38% examples, 46164 words/s, in_qsize 5, out_qsize 0\n",
      "2021-03-25 17:06:03,874 : INFO : EPOCH 3 - PROGRESS: at 39.98% examples, 43260 words/s, in_qsize 5, out_qsize 0\n",
      "2021-03-25 17:06:05,104 : INFO : EPOCH 3 - PROGRESS: at 40.60% examples, 41961 words/s, in_qsize 5, out_qsize 0\n",
      "2021-03-25 17:06:06,247 : INFO : EPOCH 3 - PROGRESS: at 41.19% examples, 40900 words/s, in_qsize 5, out_qsize 0\n",
      "2021-03-25 17:06:07,408 : INFO : EPOCH 3 - PROGRESS: at 42.69% examples, 40753 words/s, in_qsize 5, out_qsize 0\n",
      "2021-03-25 17:06:08,643 : INFO : EPOCH 3 - PROGRESS: at 43.90% examples, 40244 words/s, in_qsize 5, out_qsize 0\n",
      "2021-03-25 17:06:09,852 : INFO : EPOCH 3 - PROGRESS: at 44.78% examples, 39542 words/s, in_qsize 5, out_qsize 0\n",
      "2021-03-25 17:06:10,972 : INFO : EPOCH 3 - PROGRESS: at 45.36% examples, 38741 words/s, in_qsize 6, out_qsize 0\n",
      "2021-03-25 17:06:12,021 : INFO : EPOCH 3 - PROGRESS: at 46.29% examples, 38312 words/s, in_qsize 5, out_qsize 0\n",
      "2021-03-25 17:06:13,074 : INFO : EPOCH 3 - PROGRESS: at 47.18% examples, 37910 words/s, in_qsize 6, out_qsize 0\n",
      "2021-03-25 17:06:14,250 : INFO : EPOCH 3 - PROGRESS: at 48.71% examples, 37873 words/s, in_qsize 5, out_qsize 0\n",
      "2021-03-25 17:06:15,551 : INFO : EPOCH 3 - PROGRESS: at 49.95% examples, 37487 words/s, in_qsize 6, out_qsize 1\n",
      "2021-03-25 17:06:16,596 : INFO : EPOCH 3 - PROGRESS: at 51.47% examples, 37580 words/s, in_qsize 5, out_qsize 0\n",
      "2021-03-25 17:06:17,884 : INFO : EPOCH 3 - PROGRESS: at 52.65% examples, 37237 words/s, in_qsize 5, out_qsize 0\n",
      "2021-03-25 17:06:19,101 : INFO : EPOCH 3 - PROGRESS: at 54.16% examples, 37183 words/s, in_qsize 5, out_qsize 0\n",
      "2021-03-25 17:06:20,182 : INFO : EPOCH 3 - PROGRESS: at 55.98% examples, 37446 words/s, in_qsize 6, out_qsize 0\n",
      "2021-03-25 17:06:21,275 : INFO : EPOCH 3 - PROGRESS: at 58.08% examples, 37890 words/s, in_qsize 5, out_qsize 0\n",
      "2021-03-25 17:06:22,294 : INFO : EPOCH 3 - PROGRESS: at 60.13% examples, 38374 words/s, in_qsize 5, out_qsize 0\n",
      "2021-03-25 17:06:23,440 : INFO : EPOCH 3 - PROGRESS: at 62.23% examples, 38730 words/s, in_qsize 5, out_qsize 0\n",
      "2021-03-25 17:06:24,497 : INFO : EPOCH 3 - PROGRESS: at 64.59% examples, 39324 words/s, in_qsize 5, out_qsize 0\n",
      "2021-03-25 17:06:25,536 : INFO : EPOCH 3 - PROGRESS: at 66.03% examples, 39373 words/s, in_qsize 5, out_qsize 0\n",
      "2021-03-25 17:06:26,574 : INFO : EPOCH 3 - PROGRESS: at 67.54% examples, 39421 words/s, in_qsize 5, out_qsize 0\n",
      "2021-03-25 17:06:27,620 : INFO : EPOCH 3 - PROGRESS: at 69.89% examples, 39975 words/s, in_qsize 5, out_qsize 0\n",
      "2021-03-25 17:06:28,861 : INFO : EPOCH 3 - PROGRESS: at 72.03% examples, 40184 words/s, in_qsize 5, out_qsize 0\n",
      "2021-03-25 17:06:29,981 : INFO : EPOCH 3 - PROGRESS: at 74.83% examples, 40802 words/s, in_qsize 5, out_qsize 0\n",
      "2021-03-25 17:06:30,984 : INFO : EPOCH 3 - PROGRESS: at 76.93% examples, 41164 words/s, in_qsize 5, out_qsize 0\n",
      "2021-03-25 17:06:31,991 : INFO : EPOCH 3 - PROGRESS: at 78.78% examples, 41353 words/s, in_qsize 4, out_qsize 1\n",
      "2021-03-25 17:06:33,352 : INFO : EPOCH 3 - PROGRESS: at 80.23% examples, 41117 words/s, in_qsize 6, out_qsize 0\n",
      "2021-03-25 17:06:34,939 : INFO : EPOCH 3 - PROGRESS: at 82.07% examples, 40880 words/s, in_qsize 5, out_qsize 0\n",
      "2021-03-25 17:06:35,949 : INFO : EPOCH 3 - PROGRESS: at 83.27% examples, 40763 words/s, in_qsize 5, out_qsize 0\n",
      "2021-03-25 17:06:36,980 : INFO : EPOCH 3 - PROGRESS: at 83.89% examples, 40349 words/s, in_qsize 6, out_qsize 0\n",
      "2021-03-25 17:06:38,383 : INFO : EPOCH 3 - PROGRESS: at 85.72% examples, 40267 words/s, in_qsize 5, out_qsize 0\n",
      "2021-03-25 17:06:39,815 : INFO : EPOCH 3 - PROGRESS: at 87.59% examples, 40170 words/s, in_qsize 6, out_qsize 0\n",
      "2021-03-25 17:06:41,151 : INFO : EPOCH 3 - PROGRESS: at 89.35% examples, 40142 words/s, in_qsize 5, out_qsize 0\n",
      "2021-03-25 17:06:43,114 : INFO : EPOCH 3 - PROGRESS: at 91.14% examples, 39732 words/s, in_qsize 5, out_qsize 0\n",
      "2021-03-25 17:06:44,456 : INFO : EPOCH 3 - PROGRESS: at 92.94% examples, 39705 words/s, in_qsize 6, out_qsize 0\n",
      "2021-03-25 17:06:45,693 : INFO : EPOCH 3 - PROGRESS: at 94.73% examples, 39741 words/s, in_qsize 5, out_qsize 0\n",
      "2021-03-25 17:06:47,518 : INFO : EPOCH 3 - PROGRESS: at 96.54% examples, 39444 words/s, in_qsize 6, out_qsize 0\n",
      "2021-03-25 17:06:48,894 : INFO : EPOCH 3 - PROGRESS: at 97.44% examples, 39047 words/s, in_qsize 5, out_qsize 0\n",
      "2021-03-25 17:06:50,340 : INFO : EPOCH 3 - PROGRESS: at 99.23% examples, 38983 words/s, in_qsize 3, out_qsize 0\n",
      "2021-03-25 17:06:50,372 : INFO : worker thread finished; awaiting finish of 2 more threads\n",
      "2021-03-25 17:06:50,405 : INFO : worker thread finished; awaiting finish of 1 more threads\n",
      "2021-03-25 17:06:50,598 : INFO : worker thread finished; awaiting finish of 0 more threads\n",
      "2021-03-25 17:06:50,622 : INFO : EPOCH - 3 : training on 3321621 raw words (2867589 effective words) took 73.3s, 39139 effective words/s\n",
      "2021-03-25 17:06:52,089 : INFO : EPOCH 4 - PROGRESS: at 1.19% examples, 25001 words/s, in_qsize 5, out_qsize 0\n",
      "2021-03-25 17:06:53,357 : INFO : EPOCH 4 - PROGRESS: at 3.08% examples, 32527 words/s, in_qsize 6, out_qsize 0\n",
      "2021-03-25 17:06:54,535 : INFO : EPOCH 4 - PROGRESS: at 4.88% examples, 36015 words/s, in_qsize 5, out_qsize 0\n",
      "2021-03-25 17:06:55,850 : INFO : EPOCH 4 - PROGRESS: at 7.54% examples, 41885 words/s, in_qsize 5, out_qsize 0\n",
      "2021-03-25 17:06:57,013 : INFO : EPOCH 4 - PROGRESS: at 9.34% examples, 42388 words/s, in_qsize 5, out_qsize 0\n",
      "2021-03-25 17:06:58,064 : INFO : EPOCH 4 - PROGRESS: at 11.76% examples, 45742 words/s, in_qsize 5, out_qsize 0\n",
      "2021-03-25 17:06:59,234 : INFO : EPOCH 4 - PROGRESS: at 13.86% examples, 46546 words/s, in_qsize 5, out_qsize 0\n",
      "2021-03-25 17:07:00,262 : INFO : EPOCH 4 - PROGRESS: at 15.68% examples, 46933 words/s, in_qsize 5, out_qsize 0\n",
      "2021-03-25 17:07:01,312 : INFO : EPOCH 4 - PROGRESS: at 17.81% examples, 47967 words/s, in_qsize 5, out_qsize 0\n",
      "2021-03-25 17:07:02,634 : INFO : EPOCH 4 - PROGRESS: at 19.32% examples, 46263 words/s, in_qsize 6, out_qsize 0\n",
      "2021-03-25 17:07:03,974 : INFO : EPOCH 4 - PROGRESS: at 21.11% examples, 45497 words/s, in_qsize 5, out_qsize 0\n",
      "2021-03-25 17:07:04,980 : INFO : EPOCH 4 - PROGRESS: at 23.54% examples, 47115 words/s, in_qsize 5, out_qsize 0\n",
      "2021-03-25 17:07:06,053 : INFO : EPOCH 4 - PROGRESS: at 25.93% examples, 48308 words/s, in_qsize 5, out_qsize 0\n",
      "2021-03-25 17:07:07,058 : INFO : EPOCH 4 - PROGRESS: at 28.01% examples, 49040 words/s, in_qsize 5, out_qsize 0\n",
      "2021-03-25 17:07:08,070 : INFO : EPOCH 4 - PROGRESS: at 29.48% examples, 48667 words/s, in_qsize 5, out_qsize 0\n",
      "2021-03-25 17:07:09,409 : INFO : EPOCH 4 - PROGRESS: at 31.24% examples, 47954 words/s, in_qsize 5, out_qsize 0\n",
      "2021-03-25 17:07:11,045 : INFO : EPOCH 4 - PROGRESS: at 34.05% examples, 47919 words/s, in_qsize 5, out_qsize 0\n",
      "2021-03-25 17:07:12,110 : INFO : EPOCH 4 - PROGRESS: at 35.79% examples, 47956 words/s, in_qsize 5, out_qsize 0\n",
      "2021-03-25 17:07:13,590 : INFO : EPOCH 4 - PROGRESS: at 37.57% examples, 47121 words/s, in_qsize 5, out_qsize 0\n",
      "2021-03-25 17:07:14,598 : INFO : EPOCH 4 - PROGRESS: at 38.48% examples, 46223 words/s, in_qsize 6, out_qsize 0\n",
      "2021-03-25 17:07:15,967 : INFO : EPOCH 4 - PROGRESS: at 40.29% examples, 45768 words/s, in_qsize 5, out_qsize 0\n",
      "2021-03-25 17:07:17,027 : INFO : EPOCH 4 - PROGRESS: at 42.38% examples, 46218 words/s, in_qsize 5, out_qsize 0\n",
      "2021-03-25 17:07:18,062 : INFO : EPOCH 4 - PROGRESS: at 44.78% examples, 46981 words/s, in_qsize 5, out_qsize 0\n",
      "2021-03-25 17:07:19,098 : INFO : EPOCH 4 - PROGRESS: at 46.55% examples, 47095 words/s, in_qsize 5, out_qsize 0\n",
      "2021-03-25 17:07:20,154 : INFO : EPOCH 4 - PROGRESS: at 47.18% examples, 45991 words/s, in_qsize 5, out_qsize 0\n",
      "2021-03-25 17:07:21,417 : INFO : EPOCH 4 - PROGRESS: at 48.11% examples, 44945 words/s, in_qsize 5, out_qsize 0\n",
      "2021-03-25 17:07:22,531 : INFO : EPOCH 4 - PROGRESS: at 49.95% examples, 45001 words/s, in_qsize 6, out_qsize 0\n",
      "2021-03-25 17:07:23,758 : INFO : EPOCH 4 - PROGRESS: at 51.76% examples, 44888 words/s, in_qsize 5, out_qsize 0\n",
      "2021-03-25 17:07:25,028 : INFO : EPOCH 4 - PROGRESS: at 53.56% examples, 44734 words/s, in_qsize 5, out_qsize 0\n",
      "2021-03-25 17:07:26,064 : INFO : EPOCH 4 - PROGRESS: at 55.37% examples, 44884 words/s, in_qsize 6, out_qsize 0\n",
      "2021-03-25 17:07:27,107 : INFO : EPOCH 4 - PROGRESS: at 57.76% examples, 45490 words/s, in_qsize 5, out_qsize 0\n",
      "2021-03-25 17:07:28,120 : INFO : EPOCH 4 - PROGRESS: at 59.85% examples, 45872 words/s, in_qsize 5, out_qsize 0\n",
      "2021-03-25 17:07:29,389 : INFO : EPOCH 4 - PROGRESS: at 62.23% examples, 46152 words/s, in_qsize 5, out_qsize 0\n",
      "2021-03-25 17:07:30,566 : INFO : EPOCH 4 - PROGRESS: at 63.72% examples, 45871 words/s, in_qsize 5, out_qsize 0\n",
      "2021-03-25 17:07:31,942 : INFO : EPOCH 4 - PROGRESS: at 64.89% examples, 45178 words/s, in_qsize 5, out_qsize 0\n",
      "2021-03-25 17:07:33,340 : INFO : EPOCH 4 - PROGRESS: at 66.64% examples, 44912 words/s, in_qsize 5, out_qsize 0\n",
      "2021-03-25 17:07:34,356 : INFO : EPOCH 4 - PROGRESS: at 68.74% examples, 45252 words/s, in_qsize 5, out_qsize 0\n",
      "2021-03-25 17:07:35,578 : INFO : EPOCH 4 - PROGRESS: at 71.14% examples, 45561 words/s, in_qsize 5, out_qsize 0\n",
      "2021-03-25 17:07:36,616 : INFO : EPOCH 4 - PROGRESS: at 72.97% examples, 45662 words/s, in_qsize 5, out_qsize 0\n",
      "2021-03-25 17:07:37,627 : INFO : EPOCH 4 - PROGRESS: at 74.83% examples, 45776 words/s, in_qsize 5, out_qsize 0\n",
      "2021-03-25 17:07:38,804 : INFO : EPOCH 4 - PROGRESS: at 77.51% examples, 46270 words/s, in_qsize 5, out_qsize 0\n",
      "2021-03-25 17:07:40,032 : INFO : EPOCH 4 - PROGRESS: at 80.22% examples, 46689 words/s, in_qsize 5, out_qsize 0\n",
      "2021-03-25 17:07:41,076 : INFO : EPOCH 4 - PROGRESS: at 82.96% examples, 47263 words/s, in_qsize 5, out_qsize 0\n",
      "2021-03-25 17:07:42,266 : INFO : EPOCH 4 - PROGRESS: at 85.72% examples, 47673 words/s, in_qsize 5, out_qsize 0\n",
      "2021-03-25 17:07:43,268 : INFO : EPOCH 4 - PROGRESS: at 88.18% examples, 48076 words/s, in_qsize 6, out_qsize 0\n",
      "2021-03-25 17:07:44,356 : INFO : EPOCH 4 - PROGRESS: at 89.35% examples, 47745 words/s, in_qsize 6, out_qsize 0\n",
      "2021-03-25 17:07:45,617 : INFO : EPOCH 4 - PROGRESS: at 92.07% examples, 48064 words/s, in_qsize 5, out_qsize 0\n",
      "2021-03-25 17:07:46,709 : INFO : EPOCH 4 - PROGRESS: at 94.73% examples, 48506 words/s, in_qsize 5, out_qsize 0\n",
      "2021-03-25 17:07:47,934 : INFO : EPOCH 4 - PROGRESS: at 97.44% examples, 48825 words/s, in_qsize 5, out_qsize 0\n",
      "2021-03-25 17:07:49,160 : INFO : EPOCH 4 - PROGRESS: at 99.23% examples, 48687 words/s, in_qsize 3, out_qsize 0\n",
      "2021-03-25 17:07:49,161 : INFO : worker thread finished; awaiting finish of 2 more threads\n",
      "2021-03-25 17:07:49,170 : INFO : worker thread finished; awaiting finish of 1 more threads\n",
      "2021-03-25 17:07:49,363 : INFO : worker thread finished; awaiting finish of 0 more threads\n",
      "2021-03-25 17:07:49,367 : INFO : EPOCH - 4 : training on 3321621 raw words (2868329 effective words) took 58.7s, 48897 effective words/s\n",
      "2021-03-25 17:07:50,411 : INFO : EPOCH 5 - PROGRESS: at 1.19% examples, 33893 words/s, in_qsize 5, out_qsize 0\n",
      "2021-03-25 17:07:51,478 : INFO : EPOCH 5 - PROGRESS: at 3.69% examples, 49525 words/s, in_qsize 5, out_qsize 0\n",
      "2021-03-25 17:07:52,749 : INFO : EPOCH 5 - PROGRESS: at 4.88% examples, 41032 words/s, in_qsize 5, out_qsize 0\n",
      "2021-03-25 17:07:53,776 : INFO : EPOCH 5 - PROGRESS: at 7.25% examples, 47126 words/s, in_qsize 5, out_qsize 0\n",
      "2021-03-25 17:07:54,954 : INFO : EPOCH 5 - PROGRESS: at 8.72% examples, 44891 words/s, in_qsize 5, out_qsize 0\n",
      "2021-03-25 17:07:56,250 : INFO : EPOCH 5 - PROGRESS: at 11.18% examples, 46488 words/s, in_qsize 5, out_qsize 0\n",
      "2021-03-25 17:07:57,304 : INFO : EPOCH 5 - PROGRESS: at 12.93% examples, 46826 words/s, in_qsize 5, out_qsize 0\n",
      "2021-03-25 17:07:58,770 : INFO : EPOCH 5 - PROGRESS: at 15.68% examples, 47771 words/s, in_qsize 5, out_qsize 0\n",
      "2021-03-25 17:08:00,051 : INFO : EPOCH 5 - PROGRESS: at 17.52% examples, 46891 words/s, in_qsize 5, out_qsize 0\n",
      "2021-03-25 17:08:01,542 : INFO : EPOCH 5 - PROGRESS: at 19.32% examples, 45389 words/s, in_qsize 6, out_qsize 0\n",
      "2021-03-25 17:08:02,712 : INFO : EPOCH 5 - PROGRESS: at 21.11% examples, 45290 words/s, in_qsize 5, out_qsize 0\n",
      "2021-03-25 17:08:03,989 : INFO : EPOCH 5 - PROGRESS: at 22.93% examples, 44872 words/s, in_qsize 5, out_qsize 0\n",
      "2021-03-25 17:08:05,254 : INFO : EPOCH 5 - PROGRESS: at 25.63% examples, 46184 words/s, in_qsize 5, out_qsize 0\n",
      "2021-03-25 17:08:06,341 : INFO : EPOCH 5 - PROGRESS: at 27.43% examples, 46276 words/s, in_qsize 5, out_qsize 0\n",
      "2021-03-25 17:08:07,427 : INFO : EPOCH 5 - PROGRESS: at 30.07% examples, 47791 words/s, in_qsize 5, out_qsize 0\n",
      "2021-03-25 17:08:08,600 : INFO : EPOCH 5 - PROGRESS: at 33.13% examples, 49359 words/s, in_qsize 5, out_qsize 0\n",
      "2021-03-25 17:08:09,619 : INFO : EPOCH 5 - PROGRESS: at 35.80% examples, 50722 words/s, in_qsize 5, out_qsize 0\n",
      "2021-03-25 17:08:10,691 : INFO : EPOCH 5 - PROGRESS: at 38.49% examples, 51812 words/s, in_qsize 5, out_qsize 0\n",
      "2021-03-25 17:08:11,747 : INFO : EPOCH 5 - PROGRESS: at 40.89% examples, 52450 words/s, in_qsize 5, out_qsize 0\n",
      "2021-03-25 17:08:12,830 : INFO : EPOCH 5 - PROGRESS: at 43.01% examples, 52597 words/s, in_qsize 5, out_qsize 0\n",
      "2021-03-25 17:08:13,978 : INFO : EPOCH 5 - PROGRESS: at 45.07% examples, 52598 words/s, in_qsize 5, out_qsize 0\n",
      "2021-03-25 17:08:15,019 : INFO : EPOCH 5 - PROGRESS: at 47.83% examples, 53491 words/s, in_qsize 5, out_qsize 0\n",
      "2021-03-25 17:08:16,102 : INFO : EPOCH 5 - PROGRESS: at 50.85% examples, 54548 words/s, in_qsize 5, out_qsize 0\n",
      "2021-03-25 17:08:17,192 : INFO : EPOCH 5 - PROGRESS: at 53.56% examples, 55191 words/s, in_qsize 5, out_qsize 0\n",
      "2021-03-25 17:08:18,227 : INFO : EPOCH 5 - PROGRESS: at 56.57% examples, 56195 words/s, in_qsize 5, out_qsize 0\n",
      "2021-03-25 17:08:19,334 : INFO : EPOCH 5 - PROGRESS: at 59.27% examples, 56709 words/s, in_qsize 5, out_qsize 0\n",
      "2021-03-25 17:08:20,591 : INFO : EPOCH 5 - PROGRESS: at 61.33% examples, 56360 words/s, in_qsize 5, out_qsize 0\n",
      "2021-03-25 17:08:21,977 : INFO : EPOCH 5 - PROGRESS: at 64.01% examples, 56346 words/s, in_qsize 6, out_qsize 0\n",
      "2021-03-25 17:08:23,219 : INFO : EPOCH 5 - PROGRESS: at 65.75% examples, 55811 words/s, in_qsize 5, out_qsize 0\n",
      "2021-03-25 17:08:24,282 : INFO : EPOCH 5 - PROGRESS: at 68.46% examples, 56336 words/s, in_qsize 5, out_qsize 0\n",
      "2021-03-25 17:08:25,286 : INFO : EPOCH 5 - PROGRESS: at 71.44% examples, 57165 words/s, in_qsize 5, out_qsize 0\n",
      "2021-03-25 17:08:26,378 : INFO : EPOCH 5 - PROGRESS: at 73.87% examples, 57345 words/s, in_qsize 6, out_qsize 0\n",
      "2021-03-25 17:08:27,436 : INFO : EPOCH 5 - PROGRESS: at 75.73% examples, 57107 words/s, in_qsize 5, out_qsize 0\n",
      "2021-03-25 17:08:28,556 : INFO : EPOCH 5 - PROGRESS: at 77.51% examples, 56801 words/s, in_qsize 5, out_qsize 0\n",
      "2021-03-25 17:08:29,714 : INFO : EPOCH 5 - PROGRESS: at 80.23% examples, 57091 words/s, in_qsize 5, out_qsize 0\n",
      "2021-03-25 17:08:30,817 : INFO : EPOCH 5 - PROGRESS: at 82.96% examples, 57444 words/s, in_qsize 5, out_qsize 0\n",
      "2021-03-25 17:08:31,891 : INFO : EPOCH 5 - PROGRESS: at 85.72% examples, 57817 words/s, in_qsize 5, out_qsize 0\n",
      "2021-03-25 17:08:33,004 : INFO : EPOCH 5 - PROGRESS: at 88.48% examples, 58120 words/s, in_qsize 5, out_qsize 0\n",
      "2021-03-25 17:08:34,255 : INFO : EPOCH 5 - PROGRESS: at 91.15% examples, 58233 words/s, in_qsize 5, out_qsize 0\n",
      "2021-03-25 17:08:35,772 : INFO : EPOCH 5 - PROGRESS: at 93.84% examples, 57996 words/s, in_qsize 5, out_qsize 0\n",
      "2021-03-25 17:08:36,868 : INFO : EPOCH 5 - PROGRESS: at 95.65% examples, 57743 words/s, in_qsize 5, out_qsize 0\n",
      "2021-03-25 17:08:38,134 : INFO : EPOCH 5 - PROGRESS: at 98.35% examples, 57837 words/s, in_qsize 5, out_qsize 0\n",
      "2021-03-25 17:08:38,429 : INFO : worker thread finished; awaiting finish of 2 more threads\n",
      "2021-03-25 17:08:38,451 : INFO : worker thread finished; awaiting finish of 1 more threads\n",
      "2021-03-25 17:08:38,601 : INFO : worker thread finished; awaiting finish of 0 more threads\n",
      "2021-03-25 17:08:38,602 : INFO : EPOCH - 5 : training on 3321621 raw words (2867361 effective words) took 49.2s, 58268 effective words/s\n",
      "2021-03-25 17:08:39,714 : INFO : EPOCH 6 - PROGRESS: at 2.13% examples, 54726 words/s, in_qsize 5, out_qsize 0\n",
      "2021-03-25 17:08:40,876 : INFO : EPOCH 6 - PROGRESS: at 4.88% examples, 60926 words/s, in_qsize 5, out_qsize 0\n",
      "2021-03-25 17:08:42,129 : INFO : EPOCH 6 - PROGRESS: at 7.54% examples, 61265 words/s, in_qsize 5, out_qsize 0\n",
      "2021-03-25 17:08:43,133 : INFO : EPOCH 6 - PROGRESS: at 9.34% examples, 59096 words/s, in_qsize 5, out_qsize 0\n",
      "2021-03-25 17:08:44,302 : INFO : EPOCH 6 - PROGRESS: at 12.05% examples, 60656 words/s, in_qsize 5, out_qsize 0\n",
      "2021-03-25 17:08:45,686 : INFO : EPOCH 6 - PROGRESS: at 14.77% examples, 59736 words/s, in_qsize 5, out_qsize 0\n",
      "2021-03-25 17:08:46,947 : INFO : EPOCH 6 - PROGRESS: at 17.52% examples, 59993 words/s, in_qsize 5, out_qsize 0\n",
      "2021-03-25 17:08:48,293 : INFO : EPOCH 6 - PROGRESS: at 20.23% examples, 59656 words/s, in_qsize 5, out_qsize 0\n",
      "2021-03-25 17:08:49,360 : INFO : EPOCH 6 - PROGRESS: at 22.32% examples, 59364 words/s, in_qsize 5, out_qsize 0\n",
      "2021-03-25 17:08:50,452 : INFO : EPOCH 6 - PROGRESS: at 23.86% examples, 57518 words/s, in_qsize 5, out_qsize 0\n",
      "2021-03-25 17:08:51,582 : INFO : EPOCH 6 - PROGRESS: at 25.63% examples, 56491 words/s, in_qsize 5, out_qsize 0\n",
      "2021-03-25 17:08:52,587 : INFO : EPOCH 6 - PROGRESS: at 27.43% examples, 56134 words/s, in_qsize 5, out_qsize 0\n",
      "2021-03-25 17:08:53,660 : INFO : EPOCH 6 - PROGRESS: at 30.07% examples, 57291 words/s, in_qsize 5, out_qsize 0\n",
      "2021-03-25 17:08:54,709 : INFO : EPOCH 6 - PROGRESS: at 32.49% examples, 57845 words/s, in_qsize 6, out_qsize 0\n",
      "2021-03-25 17:08:55,943 : INFO : EPOCH 6 - PROGRESS: at 34.93% examples, 57714 words/s, in_qsize 5, out_qsize 0\n",
      "2021-03-25 17:08:57,066 : INFO : EPOCH 6 - PROGRESS: at 37.59% examples, 58416 words/s, in_qsize 5, out_qsize 0\n",
      "2021-03-25 17:08:58,199 : INFO : EPOCH 6 - PROGRESS: at 40.28% examples, 58997 words/s, in_qsize 4, out_qsize 1\n",
      "2021-03-25 17:08:59,405 : INFO : EPOCH 6 - PROGRESS: at 43.01% examples, 59310 words/s, in_qsize 5, out_qsize 0\n",
      "2021-03-25 17:09:00,535 : INFO : EPOCH 6 - PROGRESS: at 45.67% examples, 59791 words/s, in_qsize 6, out_qsize 0\n",
      "2021-03-25 17:09:01,593 : INFO : EPOCH 6 - PROGRESS: at 48.42% examples, 60412 words/s, in_qsize 5, out_qsize 0\n",
      "2021-03-25 17:09:02,611 : INFO : EPOCH 6 - PROGRESS: at 51.16% examples, 61082 words/s, in_qsize 5, out_qsize 0\n",
      "2021-03-25 17:09:03,680 : INFO : EPOCH 6 - PROGRESS: at 53.56% examples, 61224 words/s, in_qsize 5, out_qsize 0\n",
      "2021-03-25 17:09:04,737 : INFO : EPOCH 6 - PROGRESS: at 56.27% examples, 61706 words/s, in_qsize 5, out_qsize 0\n",
      "2021-03-25 17:09:05,769 : INFO : EPOCH 6 - PROGRESS: at 58.98% examples, 62223 words/s, in_qsize 5, out_qsize 0\n",
      "2021-03-25 17:09:06,866 : INFO : EPOCH 6 - PROGRESS: at 61.63% examples, 62556 words/s, in_qsize 5, out_qsize 0\n",
      "2021-03-25 17:09:07,892 : INFO : EPOCH 6 - PROGRESS: at 64.29% examples, 63018 words/s, in_qsize 5, out_qsize 0\n",
      "2021-03-25 17:09:09,000 : INFO : EPOCH 6 - PROGRESS: at 66.94% examples, 63277 words/s, in_qsize 5, out_qsize 0\n",
      "2021-03-25 17:09:10,014 : INFO : EPOCH 6 - PROGRESS: at 69.61% examples, 63707 words/s, in_qsize 6, out_qsize 0\n",
      "2021-03-25 17:09:11,098 : INFO : EPOCH 6 - PROGRESS: at 72.35% examples, 63972 words/s, in_qsize 5, out_qsize 0\n",
      "2021-03-25 17:09:12,189 : INFO : EPOCH 6 - PROGRESS: at 75.12% examples, 64204 words/s, in_qsize 5, out_qsize 0\n",
      "2021-03-25 17:09:13,277 : INFO : EPOCH 6 - PROGRESS: at 77.51% examples, 64178 words/s, in_qsize 5, out_qsize 0\n",
      "2021-03-25 17:09:14,351 : INFO : EPOCH 6 - PROGRESS: at 80.23% examples, 64417 words/s, in_qsize 5, out_qsize 0\n",
      "2021-03-25 17:09:15,530 : INFO : EPOCH 6 - PROGRESS: at 82.96% examples, 64463 words/s, in_qsize 5, out_qsize 0\n",
      "2021-03-25 17:09:16,851 : INFO : EPOCH 6 - PROGRESS: at 85.71% examples, 64263 words/s, in_qsize 5, out_qsize 0\n",
      "2021-03-25 17:09:18,003 : INFO : EPOCH 6 - PROGRESS: at 87.59% examples, 63698 words/s, in_qsize 5, out_qsize 0\n",
      "2021-03-25 17:09:19,280 : INFO : EPOCH 6 - PROGRESS: at 90.27% examples, 63612 words/s, in_qsize 5, out_qsize 0\n",
      "2021-03-25 17:09:20,478 : INFO : EPOCH 6 - PROGRESS: at 92.94% examples, 63643 words/s, in_qsize 5, out_qsize 0\n",
      "2021-03-25 17:09:21,574 : INFO : EPOCH 6 - PROGRESS: at 95.65% examples, 63820 words/s, in_qsize 5, out_qsize 0\n",
      "2021-03-25 17:09:22,687 : INFO : EPOCH 6 - PROGRESS: at 98.34% examples, 63970 words/s, in_qsize 5, out_qsize 0\n",
      "2021-03-25 17:09:22,979 : INFO : worker thread finished; awaiting finish of 2 more threads\n",
      "2021-03-25 17:09:23,026 : INFO : worker thread finished; awaiting finish of 1 more threads\n",
      "2021-03-25 17:09:23,123 : INFO : worker thread finished; awaiting finish of 0 more threads\n",
      "2021-03-25 17:09:23,124 : INFO : EPOCH - 6 : training on 3321621 raw words (2867752 effective words) took 44.5s, 64425 effective words/s\n",
      "2021-03-25 17:09:24,151 : INFO : EPOCH 7 - PROGRESS: at 2.14% examples, 58911 words/s, in_qsize 5, out_qsize 0\n",
      "2021-03-25 17:09:25,339 : INFO : EPOCH 7 - PROGRESS: at 4.88% examples, 62336 words/s, in_qsize 5, out_qsize 0\n",
      "2021-03-25 17:09:26,346 : INFO : EPOCH 7 - PROGRESS: at 7.54% examples, 66966 words/s, in_qsize 5, out_qsize 0\n",
      "2021-03-25 17:09:27,379 : INFO : EPOCH 7 - PROGRESS: at 10.56% examples, 70956 words/s, in_qsize 5, out_qsize 0\n",
      "2021-03-25 17:09:28,630 : INFO : EPOCH 7 - PROGRESS: at 13.85% examples, 72055 words/s, in_qsize 5, out_qsize 0\n",
      "2021-03-25 17:09:29,768 : INFO : EPOCH 7 - PROGRESS: at 16.61% examples, 71383 words/s, in_qsize 5, out_qsize 0\n",
      "2021-03-25 17:09:30,801 : INFO : EPOCH 7 - PROGRESS: at 19.32% examples, 71901 words/s, in_qsize 5, out_qsize 0\n",
      "2021-03-25 17:09:31,934 : INFO : EPOCH 7 - PROGRESS: at 22.01% examples, 71486 words/s, in_qsize 5, out_qsize 0\n",
      "2021-03-25 17:09:32,967 : INFO : EPOCH 7 - PROGRESS: at 25.02% examples, 72739 words/s, in_qsize 5, out_qsize 0\n",
      "2021-03-25 17:09:34,072 : INFO : EPOCH 7 - PROGRESS: at 27.43% examples, 71698 words/s, in_qsize 5, out_qsize 0\n",
      "2021-03-25 17:09:35,085 : INFO : EPOCH 7 - PROGRESS: at 29.77% examples, 71403 words/s, in_qsize 5, out_qsize 0\n",
      "2021-03-25 17:09:36,176 : INFO : EPOCH 7 - PROGRESS: at 30.97% examples, 68075 words/s, in_qsize 5, out_qsize 0\n",
      "2021-03-25 17:09:37,220 : INFO : EPOCH 7 - PROGRESS: at 33.75% examples, 68538 words/s, in_qsize 5, out_qsize 0\n",
      "2021-03-25 17:09:38,304 : INFO : EPOCH 7 - PROGRESS: at 36.40% examples, 68774 words/s, in_qsize 5, out_qsize 0\n",
      "2021-03-25 17:09:39,346 : INFO : EPOCH 7 - PROGRESS: at 38.48% examples, 68089 words/s, in_qsize 6, out_qsize 0\n",
      "2021-03-25 17:09:40,365 : INFO : EPOCH 7 - PROGRESS: at 41.19% examples, 68570 words/s, in_qsize 5, out_qsize 0\n",
      "2021-03-25 17:09:41,443 : INFO : EPOCH 7 - PROGRESS: at 43.60% examples, 68281 words/s, in_qsize 5, out_qsize 0\n",
      "2021-03-25 17:09:42,534 : INFO : EPOCH 7 - PROGRESS: at 45.38% examples, 67123 words/s, in_qsize 5, out_qsize 0\n",
      "2021-03-25 17:09:43,806 : INFO : EPOCH 7 - PROGRESS: at 48.11% examples, 66745 words/s, in_qsize 5, out_qsize 0\n",
      "2021-03-25 17:09:45,032 : INFO : EPOCH 7 - PROGRESS: at 50.85% examples, 66547 words/s, in_qsize 5, out_qsize 0\n",
      "2021-03-25 17:09:46,097 : INFO : EPOCH 7 - PROGRESS: at 53.56% examples, 66837 words/s, in_qsize 5, out_qsize 0\n",
      "2021-03-25 17:09:47,427 : INFO : EPOCH 7 - PROGRESS: at 56.27% examples, 66366 words/s, in_qsize 5, out_qsize 0\n",
      "2021-03-25 17:09:48,452 : INFO : EPOCH 7 - PROGRESS: at 58.98% examples, 66746 words/s, in_qsize 5, out_qsize 0\n",
      "2021-03-25 17:09:49,775 : INFO : EPOCH 7 - PROGRESS: at 60.70% examples, 65377 words/s, in_qsize 5, out_qsize 0\n",
      "2021-03-25 17:09:51,053 : INFO : EPOCH 7 - PROGRESS: at 62.54% examples, 64234 words/s, in_qsize 6, out_qsize 0\n",
      "2021-03-25 17:09:52,141 : INFO : EPOCH 7 - PROGRESS: at 64.01% examples, 63311 words/s, in_qsize 5, out_qsize 0\n",
      "2021-03-25 17:09:53,317 : INFO : EPOCH 7 - PROGRESS: at 65.75% examples, 62562 words/s, in_qsize 5, out_qsize 0\n",
      "2021-03-25 17:09:54,472 : INFO : EPOCH 7 - PROGRESS: at 67.85% examples, 62181 words/s, in_qsize 5, out_qsize 0\n",
      "2021-03-25 17:09:55,626 : INFO : EPOCH 7 - PROGRESS: at 69.31% examples, 61302 words/s, in_qsize 6, out_qsize 0\n",
      "2021-03-25 17:09:56,654 : INFO : EPOCH 7 - PROGRESS: at 71.73% examples, 61481 words/s, in_qsize 5, out_qsize 0\n",
      "2021-03-25 17:09:57,696 : INFO : EPOCH 7 - PROGRESS: at 73.57% examples, 61128 words/s, in_qsize 6, out_qsize 0\n",
      "2021-03-25 17:09:58,731 : INFO : EPOCH 7 - PROGRESS: at 75.73% examples, 61044 words/s, in_qsize 6, out_qsize 0\n",
      "2021-03-25 17:09:59,760 : INFO : EPOCH 7 - PROGRESS: at 78.44% examples, 61445 words/s, in_qsize 5, out_qsize 0\n",
      "2021-03-25 17:10:00,778 : INFO : EPOCH 7 - PROGRESS: at 81.14% examples, 61842 words/s, in_qsize 5, out_qsize 0\n",
      "2021-03-25 17:10:01,811 : INFO : EPOCH 7 - PROGRESS: at 84.20% examples, 62419 words/s, in_qsize 5, out_qsize 0\n",
      "2021-03-25 17:10:02,847 : INFO : EPOCH 7 - PROGRESS: at 86.64% examples, 62524 words/s, in_qsize 4, out_qsize 1\n",
      "2021-03-25 17:10:03,873 : INFO : EPOCH 7 - PROGRESS: at 89.35% examples, 62852 words/s, in_qsize 6, out_qsize 0\n",
      "2021-03-25 17:10:04,881 : INFO : EPOCH 7 - PROGRESS: at 92.64% examples, 63602 words/s, in_qsize 5, out_qsize 0\n",
      "2021-03-25 17:10:05,910 : INFO : EPOCH 7 - PROGRESS: at 95.06% examples, 63687 words/s, in_qsize 5, out_qsize 0\n",
      "2021-03-25 17:10:07,086 : INFO : EPOCH 7 - PROGRESS: at 97.42% examples, 63553 words/s, in_qsize 6, out_qsize 0\n",
      "2021-03-25 17:10:07,953 : INFO : worker thread finished; awaiting finish of 2 more threads\n",
      "2021-03-25 17:10:07,980 : INFO : worker thread finished; awaiting finish of 1 more threads\n",
      "2021-03-25 17:10:08,127 : INFO : EPOCH 7 - PROGRESS: at 100.00% examples, 63731 words/s, in_qsize 0, out_qsize 1\n",
      "2021-03-25 17:10:08,127 : INFO : worker thread finished; awaiting finish of 0 more threads\n",
      "2021-03-25 17:10:08,128 : INFO : EPOCH - 7 : training on 3321621 raw words (2867865 effective words) took 45.0s, 63729 effective words/s\n",
      "2021-03-25 17:10:09,406 : INFO : EPOCH 8 - PROGRESS: at 2.14% examples, 47552 words/s, in_qsize 4, out_qsize 1\n",
      "2021-03-25 17:10:10,536 : INFO : EPOCH 8 - PROGRESS: at 5.79% examples, 68258 words/s, in_qsize 5, out_qsize 0\n",
      "2021-03-25 17:10:11,540 : INFO : EPOCH 8 - PROGRESS: at 8.41% examples, 70947 words/s, in_qsize 6, out_qsize 0\n",
      "2021-03-25 17:10:12,841 : INFO : EPOCH 8 - PROGRESS: at 11.18% examples, 67798 words/s, in_qsize 5, out_qsize 0\n",
      "2021-03-25 17:10:13,860 : INFO : EPOCH 8 - PROGRESS: at 13.24% examples, 66274 words/s, in_qsize 5, out_qsize 0\n",
      "2021-03-25 17:10:14,871 : INFO : EPOCH 8 - PROGRESS: at 15.06% examples, 63998 words/s, in_qsize 5, out_qsize 0\n",
      "2021-03-25 17:10:15,894 : INFO : EPOCH 8 - PROGRESS: at 16.61% examples, 61098 words/s, in_qsize 6, out_qsize 0\n",
      "2021-03-25 17:10:16,931 : INFO : EPOCH 8 - PROGRESS: at 18.41% examples, 59778 words/s, in_qsize 5, out_qsize 0\n",
      "2021-03-25 17:10:18,026 : INFO : EPOCH 8 - PROGRESS: at 21.11% examples, 61013 words/s, in_qsize 5, out_qsize 0\n",
      "2021-03-25 17:10:19,056 : INFO : EPOCH 8 - PROGRESS: at 23.86% examples, 62361 words/s, in_qsize 5, out_qsize 0\n",
      "2021-03-25 17:10:20,213 : INFO : EPOCH 8 - PROGRESS: at 26.54% examples, 62807 words/s, in_qsize 6, out_qsize 0\n",
      "2021-03-25 17:10:21,214 : INFO : EPOCH 8 - PROGRESS: at 29.20% examples, 63960 words/s, in_qsize 5, out_qsize 0\n",
      "2021-03-25 17:10:22,331 : INFO : EPOCH 8 - PROGRESS: at 32.17% examples, 65000 words/s, in_qsize 5, out_qsize 0\n",
      "2021-03-25 17:10:23,379 : INFO : EPOCH 8 - PROGRESS: at 34.93% examples, 65628 words/s, in_qsize 5, out_qsize 0\n",
      "2021-03-25 17:10:24,406 : INFO : EPOCH 8 - PROGRESS: at 37.59% examples, 66272 words/s, in_qsize 5, out_qsize 1\n",
      "2021-03-25 17:10:25,478 : INFO : EPOCH 8 - PROGRESS: at 40.89% examples, 67653 words/s, in_qsize 5, out_qsize 0\n",
      "2021-03-25 17:10:26,716 : INFO : EPOCH 8 - PROGRESS: at 43.01% examples, 66390 words/s, in_qsize 5, out_qsize 0\n",
      "2021-03-25 17:10:28,041 : INFO : EPOCH 8 - PROGRESS: at 44.48% examples, 64129 words/s, in_qsize 5, out_qsize 0\n",
      "2021-03-25 17:10:29,069 : INFO : EPOCH 8 - PROGRESS: at 46.55% examples, 63871 words/s, in_qsize 5, out_qsize 0\n",
      "2021-03-25 17:10:30,076 : INFO : EPOCH 8 - PROGRESS: at 49.33% examples, 64479 words/s, in_qsize 5, out_qsize 0\n",
      "2021-03-25 17:10:31,157 : INFO : EPOCH 8 - PROGRESS: at 52.05% examples, 64813 words/s, in_qsize 5, out_qsize 0\n",
      "2021-03-25 17:10:32,181 : INFO : EPOCH 8 - PROGRESS: at 54.47% examples, 64916 words/s, in_qsize 5, out_qsize 0\n",
      "2021-03-25 17:10:33,204 : INFO : EPOCH 8 - PROGRESS: at 57.15% examples, 65357 words/s, in_qsize 5, out_qsize 0\n",
      "2021-03-25 17:10:34,284 : INFO : EPOCH 8 - PROGRESS: at 59.85% examples, 65631 words/s, in_qsize 5, out_qsize 0\n",
      "2021-03-25 17:10:35,286 : INFO : EPOCH 8 - PROGRESS: at 62.54% examples, 66072 words/s, in_qsize 5, out_qsize 0\n",
      "2021-03-25 17:10:36,314 : INFO : EPOCH 8 - PROGRESS: at 65.48% examples, 66721 words/s, in_qsize 5, out_qsize 0\n",
      "2021-03-25 17:10:37,415 : INFO : EPOCH 8 - PROGRESS: at 68.46% examples, 67163 words/s, in_qsize 5, out_qsize 0\n",
      "2021-03-25 17:10:38,568 : INFO : EPOCH 8 - PROGRESS: at 71.44% examples, 67454 words/s, in_qsize 5, out_qsize 0\n",
      "2021-03-25 17:10:39,613 : INFO : EPOCH 8 - PROGRESS: at 74.51% examples, 67949 words/s, in_qsize 5, out_qsize 0\n",
      "2021-03-25 17:10:40,770 : INFO : EPOCH 8 - PROGRESS: at 76.93% examples, 67647 words/s, in_qsize 5, out_qsize 0\n",
      "2021-03-25 17:10:41,885 : INFO : EPOCH 8 - PROGRESS: at 79.35% examples, 67458 words/s, in_qsize 5, out_qsize 0\n",
      "2021-03-25 17:10:43,085 : INFO : EPOCH 8 - PROGRESS: at 81.11% examples, 66624 words/s, in_qsize 5, out_qsize 0\n",
      "2021-03-25 17:10:44,287 : INFO : EPOCH 8 - PROGRESS: at 82.96% examples, 65837 words/s, in_qsize 5, out_qsize 0\n",
      "2021-03-25 17:10:45,368 : INFO : EPOCH 8 - PROGRESS: at 85.10% examples, 65548 words/s, in_qsize 4, out_qsize 1\n",
      "2021-03-25 17:10:46,453 : INFO : EPOCH 8 - PROGRESS: at 87.57% examples, 65493 words/s, in_qsize 5, out_qsize 0\n",
      "2021-03-25 17:10:47,562 : INFO : EPOCH 8 - PROGRESS: at 90.27% examples, 65620 words/s, in_qsize 5, out_qsize 0\n",
      "2021-03-25 17:10:48,753 : INFO : EPOCH 8 - PROGRESS: at 92.94% examples, 65603 words/s, in_qsize 5, out_qsize 0\n",
      "2021-03-25 17:10:50,097 : INFO : EPOCH 8 - PROGRESS: at 95.65% examples, 65342 words/s, in_qsize 5, out_qsize 0\n",
      "2021-03-25 17:10:51,559 : INFO : EPOCH 8 - PROGRESS: at 98.34% examples, 64933 words/s, in_qsize 5, out_qsize 0\n",
      "2021-03-25 17:10:52,371 : INFO : worker thread finished; awaiting finish of 2 more threads\n",
      "2021-03-25 17:10:52,473 : INFO : worker thread finished; awaiting finish of 1 more threads\n",
      "2021-03-25 17:10:52,626 : INFO : EPOCH 8 - PROGRESS: at 100.00% examples, 64462 words/s, in_qsize 0, out_qsize 1\n",
      "2021-03-25 17:10:52,628 : INFO : worker thread finished; awaiting finish of 0 more threads\n",
      "2021-03-25 17:10:52,628 : INFO : EPOCH - 8 : training on 3321621 raw words (2867821 effective words) took 44.5s, 64458 effective words/s\n",
      "2021-03-25 17:10:53,702 : INFO : EPOCH 9 - PROGRESS: at 1.19% examples, 32544 words/s, in_qsize 5, out_qsize 0\n",
      "2021-03-25 17:10:54,714 : INFO : EPOCH 9 - PROGRESS: at 4.28% examples, 58166 words/s, in_qsize 5, out_qsize 0\n",
      "2021-03-25 17:10:55,879 : INFO : EPOCH 9 - PROGRESS: at 6.69% examples, 58467 words/s, in_qsize 5, out_qsize 0\n",
      "2021-03-25 17:10:56,888 : INFO : EPOCH 9 - PROGRESS: at 9.65% examples, 64915 words/s, in_qsize 5, out_qsize 0\n",
      "2021-03-25 17:10:57,918 : INFO : EPOCH 9 - PROGRESS: at 12.34% examples, 66961 words/s, in_qsize 5, out_qsize 0\n",
      "2021-03-25 17:10:59,315 : INFO : EPOCH 9 - PROGRESS: at 14.76% examples, 63269 words/s, in_qsize 5, out_qsize 0\n",
      "2021-03-25 17:11:00,368 : INFO : EPOCH 9 - PROGRESS: at 16.61% examples, 61337 words/s, in_qsize 5, out_qsize 0\n",
      "2021-03-25 17:11:01,371 : INFO : EPOCH 9 - PROGRESS: at 19.62% examples, 64156 words/s, in_qsize 5, out_qsize 0\n",
      "2021-03-25 17:11:02,411 : INFO : EPOCH 9 - PROGRESS: at 22.61% examples, 66171 words/s, in_qsize 5, out_qsize 0\n",
      "2021-03-25 17:11:03,440 : INFO : EPOCH 9 - PROGRESS: at 25.32% examples, 67039 words/s, in_qsize 5, out_qsize 0\n",
      "2021-03-25 17:11:04,468 : INFO : EPOCH 9 - PROGRESS: at 27.43% examples, 66321 words/s, in_qsize 5, out_qsize 0\n",
      "2021-03-25 17:11:05,521 : INFO : EPOCH 9 - PROGRESS: at 29.20% examples, 64921 words/s, in_qsize 6, out_qsize 0\n",
      "2021-03-25 17:11:06,615 : INFO : EPOCH 9 - PROGRESS: at 31.29% examples, 64157 words/s, in_qsize 5, out_qsize 0\n",
      "2021-03-25 17:11:07,787 : INFO : EPOCH 9 - PROGRESS: at 33.75% examples, 63756 words/s, in_qsize 5, out_qsize 0\n",
      "2021-03-25 17:11:08,789 : INFO : EPOCH 9 - PROGRESS: at 35.79% examples, 63551 words/s, in_qsize 6, out_qsize 0\n",
      "2021-03-25 17:11:10,018 : INFO : EPOCH 9 - PROGRESS: at 38.49% examples, 63523 words/s, in_qsize 5, out_qsize 0\n",
      "2021-03-25 17:11:11,040 : INFO : EPOCH 9 - PROGRESS: at 40.89% examples, 63748 words/s, in_qsize 5, out_qsize 0\n",
      "2021-03-25 17:11:12,114 : INFO : EPOCH 9 - PROGRESS: at 43.01% examples, 63333 words/s, in_qsize 5, out_qsize 0\n",
      "2021-03-25 17:11:13,254 : INFO : EPOCH 9 - PROGRESS: at 45.36% examples, 63182 words/s, in_qsize 5, out_qsize 0\n",
      "2021-03-25 17:11:14,288 : INFO : EPOCH 9 - PROGRESS: at 47.83% examples, 63348 words/s, in_qsize 5, out_qsize 0\n",
      "2021-03-25 17:11:15,457 : INFO : EPOCH 9 - PROGRESS: at 50.85% examples, 63882 words/s, in_qsize 5, out_qsize 0\n",
      "2021-03-25 17:11:16,591 : INFO : EPOCH 9 - PROGRESS: at 53.56% examples, 64088 words/s, in_qsize 5, out_qsize 0\n",
      "2021-03-25 17:11:17,617 : INFO : EPOCH 9 - PROGRESS: at 56.57% examples, 64897 words/s, in_qsize 6, out_qsize 0\n",
      "2021-03-25 17:11:18,677 : INFO : EPOCH 9 - PROGRESS: at 58.98% examples, 64911 words/s, in_qsize 5, out_qsize 0\n",
      "2021-03-25 17:11:19,729 : INFO : EPOCH 9 - PROGRESS: at 61.63% examples, 65262 words/s, in_qsize 5, out_qsize 0\n",
      "2021-03-25 17:11:20,842 : INFO : EPOCH 9 - PROGRESS: at 64.59% examples, 65749 words/s, in_qsize 5, out_qsize 0\n",
      "2021-03-25 17:11:21,847 : INFO : EPOCH 9 - PROGRESS: at 67.54% examples, 66445 words/s, in_qsize 5, out_qsize 0\n",
      "2021-03-25 17:11:22,978 : INFO : EPOCH 9 - PROGRESS: at 69.89% examples, 66247 words/s, in_qsize 5, out_qsize 0\n",
      "2021-03-25 17:11:24,026 : INFO : EPOCH 9 - PROGRESS: at 72.66% examples, 66515 words/s, in_qsize 5, out_qsize 0\n",
      "2021-03-25 17:11:25,079 : INFO : EPOCH 9 - PROGRESS: at 75.12% examples, 66480 words/s, in_qsize 5, out_qsize 0\n",
      "2021-03-25 17:11:26,193 : INFO : EPOCH 9 - PROGRESS: at 77.82% examples, 66594 words/s, in_qsize 5, out_qsize 0\n",
      "2021-03-25 17:11:27,250 : INFO : EPOCH 9 - PROGRESS: at 80.52% examples, 66796 words/s, in_qsize 5, out_qsize 0\n",
      "2021-03-25 17:11:28,355 : INFO : EPOCH 9 - PROGRESS: at 83.27% examples, 66901 words/s, in_qsize 5, out_qsize 0\n",
      "2021-03-25 17:11:29,369 : INFO : EPOCH 9 - PROGRESS: at 85.72% examples, 66929 words/s, in_qsize 5, out_qsize 0\n",
      "2021-03-25 17:11:30,616 : INFO : EPOCH 9 - PROGRESS: at 88.48% examples, 66774 words/s, in_qsize 5, out_qsize 0\n",
      "2021-03-25 17:11:31,642 : INFO : EPOCH 9 - PROGRESS: at 89.66% examples, 65904 words/s, in_qsize 5, out_qsize 0\n",
      "2021-03-25 17:11:32,850 : INFO : EPOCH 9 - PROGRESS: at 92.07% examples, 65638 words/s, in_qsize 5, out_qsize 0\n",
      "2021-03-25 17:11:34,035 : INFO : EPOCH 9 - PROGRESS: at 94.73% examples, 65630 words/s, in_qsize 5, out_qsize 0\n",
      "2021-03-25 17:11:35,400 : INFO : EPOCH 9 - PROGRESS: at 97.42% examples, 65350 words/s, in_qsize 5, out_qsize 0\n",
      "2021-03-25 17:11:36,190 : INFO : worker thread finished; awaiting finish of 2 more threads\n",
      "2021-03-25 17:11:36,217 : INFO : worker thread finished; awaiting finish of 1 more threads\n",
      "2021-03-25 17:11:36,340 : INFO : worker thread finished; awaiting finish of 0 more threads\n",
      "2021-03-25 17:11:36,342 : INFO : EPOCH - 9 : training on 3321621 raw words (2868587 effective words) took 43.7s, 65639 effective words/s\n",
      "2021-03-25 17:11:37,543 : INFO : EPOCH 10 - PROGRESS: at 2.14% examples, 50465 words/s, in_qsize 5, out_qsize 0\n",
      "2021-03-25 17:11:38,686 : INFO : EPOCH 10 - PROGRESS: at 3.98% examples, 47936 words/s, in_qsize 5, out_qsize 0\n",
      "2021-03-25 17:11:39,686 : INFO : EPOCH 10 - PROGRESS: at 6.39% examples, 54202 words/s, in_qsize 6, out_qsize 0\n",
      "2021-03-25 17:11:40,692 : INFO : EPOCH 10 - PROGRESS: at 8.11% examples, 53593 words/s, in_qsize 6, out_qsize 0\n",
      "2021-03-25 17:11:41,727 : INFO : EPOCH 10 - PROGRESS: at 9.65% examples, 51276 words/s, in_qsize 5, out_qsize 0\n",
      "2021-03-25 17:11:43,034 : INFO : EPOCH 10 - PROGRESS: at 12.05% examples, 51582 words/s, in_qsize 5, out_qsize 0\n",
      "2021-03-25 17:11:44,076 : INFO : EPOCH 10 - PROGRESS: at 14.16% examples, 52437 words/s, in_qsize 5, out_qsize 0\n",
      "2021-03-25 17:11:45,483 : INFO : EPOCH 10 - PROGRESS: at 16.61% examples, 51895 words/s, in_qsize 5, out_qsize 0\n",
      "2021-03-25 17:11:46,942 : INFO : EPOCH 10 - PROGRESS: at 18.41% examples, 49624 words/s, in_qsize 6, out_qsize 0\n",
      "2021-03-25 17:11:48,146 : INFO : EPOCH 10 - PROGRESS: at 20.23% examples, 48953 words/s, in_qsize 5, out_qsize 0\n",
      "2021-03-25 17:11:49,337 : INFO : EPOCH 10 - PROGRESS: at 22.01% examples, 48465 words/s, in_qsize 5, out_qsize 0\n",
      "2021-03-25 17:11:50,349 : INFO : EPOCH 10 - PROGRESS: at 24.16% examples, 49262 words/s, in_qsize 5, out_qsize 0\n",
      "2021-03-25 17:11:51,597 : INFO : EPOCH 10 - PROGRESS: at 26.54% examples, 49752 words/s, in_qsize 5, out_qsize 0\n",
      "2021-03-25 17:11:52,685 : INFO : EPOCH 10 - PROGRESS: at 29.20% examples, 51201 words/s, in_qsize 5, out_qsize 0\n",
      "2021-03-25 17:11:53,754 : INFO : EPOCH 10 - PROGRESS: at 31.57% examples, 52016 words/s, in_qsize 5, out_qsize 0\n",
      "2021-03-25 17:11:54,999 : INFO : EPOCH 10 - PROGRESS: at 33.75% examples, 51773 words/s, in_qsize 5, out_qsize 0\n",
      "2021-03-25 17:11:56,131 : INFO : EPOCH 10 - PROGRESS: at 34.93% examples, 50557 words/s, in_qsize 5, out_qsize 0\n",
      "2021-03-25 17:11:57,296 : INFO : EPOCH 10 - PROGRESS: at 37.27% examples, 51058 words/s, in_qsize 5, out_qsize 0\n",
      "2021-03-25 17:11:58,448 : INFO : EPOCH 10 - PROGRESS: at 39.38% examples, 51135 words/s, in_qsize 4, out_qsize 1\n",
      "2021-03-25 17:11:59,558 : INFO : EPOCH 10 - PROGRESS: at 42.10% examples, 52026 words/s, in_qsize 5, out_qsize 0\n",
      "2021-03-25 17:12:00,640 : INFO : EPOCH 10 - PROGRESS: at 44.78% examples, 52896 words/s, in_qsize 5, out_qsize 0\n",
      "2021-03-25 17:12:01,740 : INFO : EPOCH 10 - PROGRESS: at 46.87% examples, 52986 words/s, in_qsize 6, out_qsize 0\n",
      "2021-03-25 17:12:03,015 : INFO : EPOCH 10 - PROGRESS: at 49.02% examples, 52717 words/s, in_qsize 5, out_qsize 0\n",
      "2021-03-25 17:12:04,025 : INFO : EPOCH 10 - PROGRESS: at 51.16% examples, 52969 words/s, in_qsize 5, out_qsize 0\n",
      "2021-03-25 17:12:05,084 : INFO : EPOCH 10 - PROGRESS: at 52.96% examples, 52810 words/s, in_qsize 5, out_qsize 0\n",
      "2021-03-25 17:12:06,264 : INFO : EPOCH 10 - PROGRESS: at 56.27% examples, 53890 words/s, in_qsize 5, out_qsize 0\n",
      "2021-03-25 17:12:07,307 : INFO : EPOCH 10 - PROGRESS: at 59.55% examples, 55142 words/s, in_qsize 5, out_qsize 0\n",
      "2021-03-25 17:12:08,369 : INFO : EPOCH 10 - PROGRESS: at 62.23% examples, 55738 words/s, in_qsize 5, out_qsize 0\n",
      "2021-03-25 17:12:09,428 : INFO : EPOCH 10 - PROGRESS: at 64.29% examples, 55783 words/s, in_qsize 5, out_qsize 0\n",
      "2021-03-25 17:12:10,483 : INFO : EPOCH 10 - PROGRESS: at 66.64% examples, 56082 words/s, in_qsize 5, out_qsize 0\n",
      "2021-03-25 17:12:11,560 : INFO : EPOCH 10 - PROGRESS: at 69.31% examples, 56574 words/s, in_qsize 5, out_qsize 0\n",
      "2021-03-25 17:12:12,593 : INFO : EPOCH 10 - PROGRESS: at 72.03% examples, 57102 words/s, in_qsize 6, out_qsize 0\n",
      "2021-03-25 17:12:13,760 : INFO : EPOCH 10 - PROGRESS: at 75.12% examples, 57624 words/s, in_qsize 5, out_qsize 0\n",
      "2021-03-25 17:12:14,784 : INFO : EPOCH 10 - PROGRESS: at 77.82% examples, 58108 words/s, in_qsize 5, out_qsize 0\n",
      "2021-03-25 17:12:15,930 : INFO : EPOCH 10 - PROGRESS: at 80.23% examples, 58169 words/s, in_qsize 5, out_qsize 0\n",
      "2021-03-25 17:12:17,015 : INFO : EPOCH 10 - PROGRESS: at 82.96% examples, 58523 words/s, in_qsize 5, out_qsize 0\n",
      "2021-03-25 17:12:18,088 : INFO : EPOCH 10 - PROGRESS: at 85.72% examples, 58873 words/s, in_qsize 5, out_qsize 0\n",
      "2021-03-25 17:12:19,136 : INFO : EPOCH 10 - PROGRESS: at 88.48% examples, 59244 words/s, in_qsize 5, out_qsize 0\n",
      "2021-03-25 17:12:20,155 : INFO : EPOCH 10 - PROGRESS: at 91.14% examples, 59642 words/s, in_qsize 5, out_qsize 0\n",
      "2021-03-25 17:12:21,213 : INFO : EPOCH 10 - PROGRESS: at 93.84% examples, 59961 words/s, in_qsize 5, out_qsize 0\n",
      "2021-03-25 17:12:22,387 : INFO : EPOCH 10 - PROGRESS: at 96.54% examples, 60113 words/s, in_qsize 5, out_qsize 0\n",
      "2021-03-25 17:12:23,355 : INFO : worker thread finished; awaiting finish of 2 more threads\n",
      "2021-03-25 17:12:23,369 : INFO : worker thread finished; awaiting finish of 1 more threads\n",
      "2021-03-25 17:12:23,484 : INFO : EPOCH 10 - PROGRESS: at 100.00% examples, 60837 words/s, in_qsize 0, out_qsize 1\n",
      "2021-03-25 17:12:23,485 : INFO : worker thread finished; awaiting finish of 0 more threads\n",
      "2021-03-25 17:12:23,486 : INFO : EPOCH - 10 : training on 3321621 raw words (2867609 effective words) took 47.1s, 60835 effective words/s\n",
      "2021-03-25 17:12:24,523 : INFO : EPOCH 11 - PROGRESS: at 2.14% examples, 58616 words/s, in_qsize 5, out_qsize 0\n",
      "2021-03-25 17:12:25,742 : INFO : EPOCH 11 - PROGRESS: at 5.79% examples, 72841 words/s, in_qsize 5, out_qsize 0\n",
      "2021-03-25 17:12:26,748 : INFO : EPOCH 11 - PROGRESS: at 8.72% examples, 76835 words/s, in_qsize 5, out_qsize 0\n",
      "2021-03-25 17:12:27,916 : INFO : EPOCH 11 - PROGRESS: at 12.05% examples, 78069 words/s, in_qsize 5, out_qsize 0\n",
      "2021-03-25 17:12:28,941 : INFO : EPOCH 11 - PROGRESS: at 14.76% examples, 77622 words/s, in_qsize 5, out_qsize 0\n",
      "2021-03-25 17:12:30,029 : INFO : EPOCH 11 - PROGRESS: at 18.11% examples, 79194 words/s, in_qsize 5, out_qsize 0\n",
      "2021-03-25 17:12:31,160 : INFO : EPOCH 11 - PROGRESS: at 21.11% examples, 78768 words/s, in_qsize 5, out_qsize 0\n",
      "2021-03-25 17:12:32,182 : INFO : EPOCH 11 - PROGRESS: at 23.22% examples, 76446 words/s, in_qsize 5, out_qsize 0\n",
      "2021-03-25 17:12:33,398 : INFO : EPOCH 11 - PROGRESS: at 25.02% examples, 72290 words/s, in_qsize 6, out_qsize 0\n",
      "2021-03-25 17:12:34,636 : INFO : EPOCH 11 - PROGRESS: at 26.82% examples, 68906 words/s, in_qsize 6, out_qsize 0\n",
      "2021-03-25 17:12:35,798 : INFO : EPOCH 11 - PROGRESS: at 29.48% examples, 68711 words/s, in_qsize 5, out_qsize 0\n",
      "2021-03-25 17:12:36,815 : INFO : EPOCH 11 - PROGRESS: at 32.17% examples, 69290 words/s, in_qsize 5, out_qsize 0\n",
      "2021-03-25 17:12:37,856 : INFO : EPOCH 11 - PROGRESS: at 35.51% examples, 70896 words/s, in_qsize 5, out_qsize 0\n",
      "2021-03-25 17:12:38,897 : INFO : EPOCH 11 - PROGRESS: at 38.19% examples, 71156 words/s, in_qsize 5, out_qsize 0\n",
      "2021-03-25 17:12:40,044 : INFO : EPOCH 11 - PROGRESS: at 41.19% examples, 71435 words/s, in_qsize 5, out_qsize 0\n",
      "2021-03-25 17:12:41,048 : INFO : EPOCH 11 - PROGRESS: at 44.20% examples, 72251 words/s, in_qsize 5, out_qsize 0\n",
      "2021-03-25 17:12:42,307 : INFO : EPOCH 11 - PROGRESS: at 47.18% examples, 72005 words/s, in_qsize 5, out_qsize 0\n",
      "2021-03-25 17:12:43,441 : INFO : EPOCH 11 - PROGRESS: at 49.95% examples, 71802 words/s, in_qsize 5, out_qsize 0\n",
      "2021-03-25 17:12:44,575 : INFO : EPOCH 11 - PROGRESS: at 52.65% examples, 71610 words/s, in_qsize 5, out_qsize 0\n",
      "2021-03-25 17:12:45,621 : INFO : EPOCH 11 - PROGRESS: at 55.37% examples, 71727 words/s, in_qsize 5, out_qsize 0\n",
      "2021-03-25 17:12:46,854 : INFO : EPOCH 11 - PROGRESS: at 58.08% examples, 71258 words/s, in_qsize 5, out_qsize 0\n",
      "2021-03-25 17:12:48,053 : INFO : EPOCH 11 - PROGRESS: at 60.73% examples, 70935 words/s, in_qsize 5, out_qsize 0\n",
      "2021-03-25 17:12:49,086 : INFO : EPOCH 11 - PROGRESS: at 62.54% examples, 70094 words/s, in_qsize 5, out_qsize 0\n",
      "2021-03-25 17:12:50,202 : INFO : EPOCH 11 - PROGRESS: at 64.89% examples, 69753 words/s, in_qsize 5, out_qsize 0\n",
      "2021-03-25 17:12:51,389 : INFO : EPOCH 11 - PROGRESS: at 65.75% examples, 67712 words/s, in_qsize 5, out_qsize 0\n",
      "2021-03-25 17:12:52,549 : INFO : EPOCH 11 - PROGRESS: at 67.85% examples, 67087 words/s, in_qsize 5, out_qsize 0\n",
      "2021-03-25 17:12:53,631 : INFO : EPOCH 11 - PROGRESS: at 69.61% examples, 66397 words/s, in_qsize 5, out_qsize 0\n",
      "2021-03-25 17:12:54,662 : INFO : EPOCH 11 - PROGRESS: at 72.03% examples, 66414 words/s, in_qsize 5, out_qsize 0\n",
      "2021-03-25 17:12:55,699 : INFO : EPOCH 11 - PROGRESS: at 73.87% examples, 65883 words/s, in_qsize 5, out_qsize 0\n",
      "2021-03-25 17:12:56,828 : INFO : EPOCH 11 - PROGRESS: at 76.63% examples, 65976 words/s, in_qsize 5, out_qsize 0\n",
      "2021-03-25 17:12:57,940 : INFO : EPOCH 11 - PROGRESS: at 79.07% examples, 65845 words/s, in_qsize 5, out_qsize 0\n",
      "2021-03-25 17:12:59,050 : INFO : EPOCH 11 - PROGRESS: at 81.11% examples, 65487 words/s, in_qsize 6, out_qsize 0\n",
      "2021-03-25 17:13:00,214 : INFO : EPOCH 11 - PROGRESS: at 83.89% examples, 65526 words/s, in_qsize 5, out_qsize 0\n",
      "2021-03-25 17:13:01,233 : INFO : EPOCH 11 - PROGRESS: at 86.34% examples, 65582 words/s, in_qsize 5, out_qsize 0\n",
      "2021-03-25 17:13:02,293 : INFO : EPOCH 11 - PROGRESS: at 87.88% examples, 64899 words/s, in_qsize 5, out_qsize 0\n",
      "2021-03-25 17:13:03,522 : INFO : EPOCH 11 - PROGRESS: at 90.27% examples, 64633 words/s, in_qsize 5, out_qsize 0\n",
      "2021-03-25 17:13:04,721 : INFO : EPOCH 11 - PROGRESS: at 92.94% examples, 64634 words/s, in_qsize 5, out_qsize 0\n",
      "2021-03-25 17:13:05,726 : INFO : EPOCH 11 - PROGRESS: at 94.73% examples, 64321 words/s, in_qsize 5, out_qsize 0\n",
      "2021-03-25 17:13:06,730 : INFO : EPOCH 11 - PROGRESS: at 97.74% examples, 64819 words/s, in_qsize 5, out_qsize 0\n",
      "2021-03-25 17:13:07,358 : INFO : worker thread finished; awaiting finish of 2 more threads\n",
      "2021-03-25 17:13:07,402 : INFO : worker thread finished; awaiting finish of 1 more threads\n",
      "2021-03-25 17:13:07,509 : INFO : worker thread finished; awaiting finish of 0 more threads\n",
      "2021-03-25 17:13:07,510 : INFO : EPOCH - 11 : training on 3321621 raw words (2868091 effective words) took 44.0s, 65159 effective words/s\n",
      "2021-03-25 17:13:08,717 : INFO : EPOCH 12 - PROGRESS: at 3.08% examples, 71768 words/s, in_qsize 5, out_qsize 0\n",
      "2021-03-25 17:13:09,837 : INFO : EPOCH 12 - PROGRESS: at 5.79% examples, 70520 words/s, in_qsize 6, out_qsize 0\n",
      "2021-03-25 17:13:10,960 : INFO : EPOCH 12 - PROGRESS: at 8.41% examples, 70038 words/s, in_qsize 5, out_qsize 0\n",
      "2021-03-25 17:13:12,144 : INFO : EPOCH 12 - PROGRESS: at 11.18% examples, 68861 words/s, in_qsize 5, out_qsize 0\n",
      "2021-03-25 17:13:13,414 : INFO : EPOCH 12 - PROGRESS: at 13.86% examples, 67191 words/s, in_qsize 5, out_qsize 0\n",
      "2021-03-25 17:13:14,448 : INFO : EPOCH 12 - PROGRESS: at 17.22% examples, 70828 words/s, in_qsize 5, out_qsize 0\n",
      "2021-03-25 17:13:15,692 : INFO : EPOCH 12 - PROGRESS: at 20.23% examples, 70595 words/s, in_qsize 5, out_qsize 0\n",
      "2021-03-25 17:13:16,710 : INFO : EPOCH 12 - PROGRESS: at 23.22% examples, 72148 words/s, in_qsize 5, out_qsize 0\n",
      "2021-03-25 17:13:17,805 : INFO : EPOCH 12 - PROGRESS: at 26.54% examples, 73689 words/s, in_qsize 5, out_qsize 0\n",
      "2021-03-25 17:13:18,955 : INFO : EPOCH 12 - PROGRESS: at 29.48% examples, 73849 words/s, in_qsize 5, out_qsize 0\n",
      "2021-03-25 17:13:19,980 : INFO : EPOCH 12 - PROGRESS: at 32.82% examples, 75378 words/s, in_qsize 5, out_qsize 0\n",
      "2021-03-25 17:13:21,168 : INFO : EPOCH 12 - PROGRESS: at 35.79% examples, 75140 words/s, in_qsize 5, out_qsize 0\n",
      "2021-03-25 17:13:22,185 : INFO : EPOCH 12 - PROGRESS: at 38.78% examples, 75828 words/s, in_qsize 5, out_qsize 0\n",
      "2021-03-25 17:13:23,254 : INFO : EPOCH 12 - PROGRESS: at 41.79% examples, 76149 words/s, in_qsize 5, out_qsize 0\n",
      "2021-03-25 17:13:24,351 : INFO : EPOCH 12 - PROGRESS: at 44.78% examples, 76302 words/s, in_qsize 5, out_qsize 0\n",
      "2021-03-25 17:13:25,412 : INFO : EPOCH 12 - PROGRESS: at 47.18% examples, 75641 words/s, in_qsize 5, out_qsize 0\n",
      "2021-03-25 17:13:26,522 : INFO : EPOCH 12 - PROGRESS: at 49.95% examples, 75313 words/s, in_qsize 5, out_qsize 0\n",
      "2021-03-25 17:13:27,626 : INFO : EPOCH 12 - PROGRESS: at 52.65% examples, 75026 words/s, in_qsize 5, out_qsize 0\n",
      "2021-03-25 17:13:28,868 : INFO : EPOCH 12 - PROGRESS: at 55.37% examples, 74289 words/s, in_qsize 5, out_qsize 0\n",
      "2021-03-25 17:13:29,941 : INFO : EPOCH 12 - PROGRESS: at 58.08% examples, 74196 words/s, in_qsize 5, out_qsize 0\n",
      "2021-03-25 17:13:31,058 : INFO : EPOCH 12 - PROGRESS: at 60.70% examples, 73979 words/s, in_qsize 5, out_qsize 0\n",
      "2021-03-25 17:13:32,243 : INFO : EPOCH 12 - PROGRESS: at 63.13% examples, 73222 words/s, in_qsize 5, out_qsize 0\n",
      "2021-03-25 17:13:33,264 : INFO : EPOCH 12 - PROGRESS: at 65.75% examples, 73334 words/s, in_qsize 5, out_qsize 0\n",
      "2021-03-25 17:13:34,356 : INFO : EPOCH 12 - PROGRESS: at 68.46% examples, 73243 words/s, in_qsize 5, out_qsize 0\n",
      "2021-03-25 17:13:35,432 : INFO : EPOCH 12 - PROGRESS: at 71.14% examples, 73205 words/s, in_qsize 5, out_qsize 0\n",
      "2021-03-25 17:13:36,824 : INFO : EPOCH 12 - PROGRESS: at 72.97% examples, 71498 words/s, in_qsize 5, out_qsize 0\n",
      "2021-03-25 17:13:37,896 : INFO : EPOCH 12 - PROGRESS: at 75.73% examples, 71520 words/s, in_qsize 5, out_qsize 0\n",
      "2021-03-25 17:13:39,160 : INFO : EPOCH 12 - PROGRESS: at 78.44% examples, 71117 words/s, in_qsize 4, out_qsize 1\n",
      "2021-03-25 17:13:40,397 : INFO : EPOCH 12 - PROGRESS: at 82.07% examples, 71588 words/s, in_qsize 5, out_qsize 0\n",
      "2021-03-25 17:13:41,397 : INFO : EPOCH 12 - PROGRESS: at 84.80% examples, 71768 words/s, in_qsize 5, out_qsize 0\n",
      "2021-03-25 17:13:42,416 : INFO : EPOCH 12 - PROGRESS: at 87.59% examples, 71887 words/s, in_qsize 5, out_qsize 0\n",
      "2021-03-25 17:13:43,485 : INFO : EPOCH 12 - PROGRESS: at 90.27% examples, 71913 words/s, in_qsize 5, out_qsize 0\n",
      "2021-03-25 17:13:44,536 : INFO : EPOCH 12 - PROGRESS: at 92.94% examples, 71962 words/s, in_qsize 5, out_qsize 0\n",
      "2021-03-25 17:13:45,764 : INFO : EPOCH 12 - PROGRESS: at 96.54% examples, 72350 words/s, in_qsize 5, out_qsize 0\n",
      "2021-03-25 17:13:46,851 : INFO : EPOCH 12 - PROGRESS: at 99.23% examples, 72323 words/s, in_qsize 3, out_qsize 0\n",
      "2021-03-25 17:13:46,871 : INFO : worker thread finished; awaiting finish of 2 more threads\n",
      "2021-03-25 17:13:46,888 : INFO : worker thread finished; awaiting finish of 1 more threads\n",
      "2021-03-25 17:13:47,014 : INFO : worker thread finished; awaiting finish of 0 more threads\n",
      "2021-03-25 17:13:47,015 : INFO : EPOCH - 12 : training on 3321621 raw words (2867245 effective words) took 39.5s, 72591 effective words/s\n",
      "2021-03-25 17:13:48,164 : INFO : EPOCH 13 - PROGRESS: at 2.13% examples, 52866 words/s, in_qsize 4, out_qsize 1\n",
      "2021-03-25 17:13:49,298 : INFO : EPOCH 13 - PROGRESS: at 4.88% examples, 60581 words/s, in_qsize 5, out_qsize 0\n",
      "2021-03-25 17:13:50,748 : INFO : EPOCH 13 - PROGRESS: at 6.69% examples, 50905 words/s, in_qsize 5, out_qsize 0\n",
      "2021-03-25 17:13:52,186 : INFO : EPOCH 13 - PROGRESS: at 8.41% examples, 46754 words/s, in_qsize 6, out_qsize 0\n",
      "2021-03-25 17:13:53,399 : INFO : EPOCH 13 - PROGRESS: at 10.27% examples, 45990 words/s, in_qsize 5, out_qsize 0\n",
      "2021-03-25 17:13:54,562 : INFO : EPOCH 13 - PROGRESS: at 12.93% examples, 49174 words/s, in_qsize 5, out_qsize 0\n",
      "2021-03-25 17:13:55,566 : INFO : EPOCH 13 - PROGRESS: at 15.36% examples, 51470 words/s, in_qsize 5, out_qsize 0\n",
      "2021-03-25 17:13:56,769 : INFO : EPOCH 13 - PROGRESS: at 18.41% examples, 53925 words/s, in_qsize 5, out_qsize 0\n",
      "2021-03-25 17:13:57,780 : INFO : EPOCH 13 - PROGRESS: at 21.40% examples, 56912 words/s, in_qsize 5, out_qsize 0\n",
      "2021-03-25 17:13:59,038 : INFO : EPOCH 13 - PROGRESS: at 24.74% examples, 58828 words/s, in_qsize 5, out_qsize 0\n",
      "2021-03-25 17:14:00,171 : INFO : EPOCH 13 - PROGRESS: at 27.43% examples, 59664 words/s, in_qsize 5, out_qsize 0\n",
      "2021-03-25 17:14:01,222 : INFO : EPOCH 13 - PROGRESS: at 30.07% examples, 60712 words/s, in_qsize 5, out_qsize 0\n",
      "2021-03-25 17:14:02,306 : INFO : EPOCH 13 - PROGRESS: at 32.82% examples, 61490 words/s, in_qsize 5, out_qsize 0\n",
      "2021-03-25 17:14:03,392 : INFO : EPOCH 13 - PROGRESS: at 34.63% examples, 60577 words/s, in_qsize 5, out_qsize 0\n",
      "2021-03-25 17:14:04,447 : INFO : EPOCH 13 - PROGRESS: at 36.69% examples, 60387 words/s, in_qsize 5, out_qsize 0\n",
      "2021-03-25 17:14:05,492 : INFO : EPOCH 13 - PROGRESS: at 39.07% examples, 60721 words/s, in_qsize 5, out_qsize 0\n",
      "2021-03-25 17:14:06,547 : INFO : EPOCH 13 - PROGRESS: at 41.79% examples, 61404 words/s, in_qsize 5, out_qsize 0\n",
      "2021-03-25 17:14:07,559 : INFO : EPOCH 13 - PROGRESS: at 44.48% examples, 62149 words/s, in_qsize 5, out_qsize 0\n",
      "2021-03-25 17:14:08,649 : INFO : EPOCH 13 - PROGRESS: at 47.18% examples, 62610 words/s, in_qsize 5, out_qsize 0\n",
      "2021-03-25 17:14:10,065 : INFO : EPOCH 13 - PROGRESS: at 49.95% examples, 62138 words/s, in_qsize 5, out_qsize 0\n",
      "2021-03-25 17:14:11,263 : INFO : EPOCH 13 - PROGRESS: at 52.65% examples, 62256 words/s, in_qsize 5, out_qsize 0\n",
      "2021-03-25 17:14:12,311 : INFO : EPOCH 13 - PROGRESS: at 55.06% examples, 62402 words/s, in_qsize 5, out_qsize 0\n",
      "2021-03-25 17:14:13,533 : INFO : EPOCH 13 - PROGRESS: at 56.27% examples, 60819 words/s, in_qsize 5, out_qsize 0\n",
      "2021-03-25 17:14:14,543 : INFO : EPOCH 13 - PROGRESS: at 58.68% examples, 61099 words/s, in_qsize 5, out_qsize 0\n",
      "2021-03-25 17:14:15,578 : INFO : EPOCH 13 - PROGRESS: at 60.41% examples, 60703 words/s, in_qsize 5, out_qsize 0\n",
      "2021-03-25 17:14:16,637 : INFO : EPOCH 13 - PROGRESS: at 62.54% examples, 60571 words/s, in_qsize 5, out_qsize 0\n",
      "2021-03-25 17:14:17,780 : INFO : EPOCH 13 - PROGRESS: at 64.89% examples, 60568 words/s, in_qsize 6, out_qsize 0\n",
      "2021-03-25 17:14:18,948 : INFO : EPOCH 13 - PROGRESS: at 67.55% examples, 60785 words/s, in_qsize 5, out_qsize 0\n",
      "2021-03-25 17:14:20,078 : INFO : EPOCH 13 - PROGRESS: at 70.19% examples, 61058 words/s, in_qsize 5, out_qsize 0\n",
      "2021-03-25 17:14:21,160 : INFO : EPOCH 13 - PROGRESS: at 72.97% examples, 61401 words/s, in_qsize 5, out_qsize 0\n",
      "2021-03-25 17:14:22,210 : INFO : EPOCH 13 - PROGRESS: at 75.73% examples, 61765 words/s, in_qsize 5, out_qsize 0\n",
      "2021-03-25 17:14:23,308 : INFO : EPOCH 13 - PROGRESS: at 78.44% examples, 62034 words/s, in_qsize 5, out_qsize 0\n",
      "2021-03-25 17:14:24,482 : INFO : EPOCH 13 - PROGRESS: at 81.11% examples, 62160 words/s, in_qsize 5, out_qsize 0\n",
      "2021-03-25 17:14:25,720 : INFO : EPOCH 13 - PROGRESS: at 84.80% examples, 62841 words/s, in_qsize 5, out_qsize 0\n",
      "2021-03-25 17:14:27,027 : INFO : EPOCH 13 - PROGRESS: at 88.48% examples, 63369 words/s, in_qsize 5, out_qsize 0\n",
      "2021-03-25 17:14:28,060 : INFO : EPOCH 13 - PROGRESS: at 91.14% examples, 63668 words/s, in_qsize 5, out_qsize 0\n",
      "2021-03-25 17:14:29,131 : INFO : EPOCH 13 - PROGRESS: at 92.94% examples, 63274 words/s, in_qsize 5, out_qsize 0\n",
      "2021-03-25 17:14:30,427 : INFO : EPOCH 13 - PROGRESS: at 95.65% examples, 63169 words/s, in_qsize 6, out_qsize 0\n",
      "2021-03-25 17:14:31,485 : INFO : EPOCH 13 - PROGRESS: at 98.34% examples, 63413 words/s, in_qsize 5, out_qsize 0\n",
      "2021-03-25 17:14:31,834 : INFO : worker thread finished; awaiting finish of 2 more threads\n",
      "2021-03-25 17:14:31,893 : INFO : worker thread finished; awaiting finish of 1 more threads\n",
      "2021-03-25 17:14:31,967 : INFO : worker thread finished; awaiting finish of 0 more threads\n",
      "2021-03-25 17:14:31,968 : INFO : EPOCH - 13 : training on 3321621 raw words (2867833 effective words) took 44.9s, 63804 effective words/s\n",
      "2021-03-25 17:14:33,137 : INFO : EPOCH 14 - PROGRESS: at 3.08% examples, 74514 words/s, in_qsize 5, out_qsize 0\n",
      "2021-03-25 17:14:34,216 : INFO : EPOCH 14 - PROGRESS: at 6.69% examples, 84756 words/s, in_qsize 5, out_qsize 0\n",
      "2021-03-25 17:14:35,303 : INFO : EPOCH 14 - PROGRESS: at 10.27% examples, 88185 words/s, in_qsize 5, out_qsize 0\n",
      "2021-03-25 17:14:36,424 : INFO : EPOCH 14 - PROGRESS: at 13.85% examples, 89191 words/s, in_qsize 5, out_qsize 0\n",
      "2021-03-25 17:14:37,519 : INFO : EPOCH 14 - PROGRESS: at 17.52% examples, 90230 words/s, in_qsize 5, out_qsize 0\n",
      "2021-03-25 17:14:38,679 : INFO : EPOCH 14 - PROGRESS: at 21.11% examples, 90039 words/s, in_qsize 5, out_qsize 0\n",
      "2021-03-25 17:14:39,819 : INFO : EPOCH 14 - PROGRESS: at 24.74% examples, 90155 words/s, in_qsize 5, out_qsize 0\n",
      "2021-03-25 17:14:41,011 : INFO : EPOCH 14 - PROGRESS: at 28.31% examples, 89745 words/s, in_qsize 5, out_qsize 0\n",
      "2021-03-25 17:14:42,021 : INFO : EPOCH 14 - PROGRESS: at 30.97% examples, 88434 words/s, in_qsize 6, out_qsize 0\n",
      "2021-03-25 17:14:43,050 : INFO : EPOCH 14 - PROGRESS: at 34.05% examples, 88018 words/s, in_qsize 5, out_qsize 0\n",
      "2021-03-25 17:14:44,098 : INFO : EPOCH 14 - PROGRESS: at 36.40% examples, 86109 words/s, in_qsize 5, out_qsize 0\n",
      "2021-03-25 17:14:45,105 : INFO : EPOCH 14 - PROGRESS: at 38.49% examples, 84120 words/s, in_qsize 5, out_qsize 0\n",
      "2021-03-25 17:14:46,209 : INFO : EPOCH 14 - PROGRESS: at 39.98% examples, 80626 words/s, in_qsize 6, out_qsize 0\n",
      "2021-03-25 17:14:47,341 : INFO : EPOCH 14 - PROGRESS: at 41.79% examples, 78053 words/s, in_qsize 5, out_qsize 0\n",
      "2021-03-25 17:14:48,450 : INFO : EPOCH 14 - PROGRESS: at 44.48% examples, 77503 words/s, in_qsize 5, out_qsize 0\n",
      "2021-03-25 17:14:49,653 : INFO : EPOCH 14 - PROGRESS: at 47.18% examples, 76619 words/s, in_qsize 5, out_qsize 0\n",
      "2021-03-25 17:14:50,858 : INFO : EPOCH 14 - PROGRESS: at 49.95% examples, 75848 words/s, in_qsize 5, out_qsize 0\n",
      "2021-03-25 17:14:52,364 : INFO : EPOCH 14 - PROGRESS: at 52.65% examples, 74038 words/s, in_qsize 5, out_qsize 0\n",
      "2021-03-25 17:14:53,692 : INFO : EPOCH 14 - PROGRESS: at 55.37% examples, 73078 words/s, in_qsize 5, out_qsize 0\n",
      "2021-03-25 17:14:54,729 : INFO : EPOCH 14 - PROGRESS: at 57.76% examples, 72778 words/s, in_qsize 5, out_qsize 0\n",
      "2021-03-25 17:14:55,784 : INFO : EPOCH 14 - PROGRESS: at 59.55% examples, 71734 words/s, in_qsize 5, out_qsize 0\n",
      "2021-03-25 17:14:56,883 : INFO : EPOCH 14 - PROGRESS: at 62.54% examples, 72034 words/s, in_qsize 5, out_qsize 0\n",
      "2021-03-25 17:14:57,911 : INFO : EPOCH 14 - PROGRESS: at 65.17% examples, 72170 words/s, in_qsize 5, out_qsize 0\n",
      "2021-03-25 17:14:58,985 : INFO : EPOCH 14 - PROGRESS: at 67.85% examples, 72178 words/s, in_qsize 5, out_qsize 0\n",
      "2021-03-25 17:15:00,112 : INFO : EPOCH 14 - PROGRESS: at 70.81% examples, 72356 words/s, in_qsize 5, out_qsize 0\n",
      "2021-03-25 17:15:01,129 : INFO : EPOCH 14 - PROGRESS: at 72.97% examples, 71907 words/s, in_qsize 5, out_qsize 0\n",
      "2021-03-25 17:15:02,172 : INFO : EPOCH 14 - PROGRESS: at 75.43% examples, 71701 words/s, in_qsize 5, out_qsize 0\n",
      "2021-03-25 17:15:03,349 : INFO : EPOCH 14 - PROGRESS: at 78.44% examples, 71760 words/s, in_qsize 5, out_qsize 0\n",
      "2021-03-25 17:15:04,437 : INFO : EPOCH 14 - PROGRESS: at 82.07% examples, 72536 words/s, in_qsize 5, out_qsize 0\n",
      "2021-03-25 17:15:05,528 : INFO : EPOCH 14 - PROGRESS: at 84.78% examples, 72496 words/s, in_qsize 5, out_qsize 0\n",
      "2021-03-25 17:15:06,634 : INFO : EPOCH 14 - PROGRESS: at 87.59% examples, 72416 words/s, in_qsize 5, out_qsize 0\n",
      "2021-03-25 17:15:07,645 : INFO : EPOCH 14 - PROGRESS: at 90.84% examples, 73024 words/s, in_qsize 5, out_qsize 0\n",
      "2021-03-25 17:15:08,760 : INFO : EPOCH 14 - PROGRESS: at 93.84% examples, 73150 words/s, in_qsize 5, out_qsize 0\n",
      "2021-03-25 17:15:09,865 : INFO : EPOCH 14 - PROGRESS: at 97.44% examples, 73750 words/s, in_qsize 5, out_qsize 0\n",
      "2021-03-25 17:15:10,565 : INFO : worker thread finished; awaiting finish of 2 more threads\n",
      "2021-03-25 17:15:10,582 : INFO : worker thread finished; awaiting finish of 1 more threads\n",
      "2021-03-25 17:15:10,698 : INFO : worker thread finished; awaiting finish of 0 more threads\n",
      "2021-03-25 17:15:10,699 : INFO : EPOCH - 14 : training on 3321621 raw words (2868357 effective words) took 38.7s, 74079 effective words/s\n",
      "2021-03-25 17:15:11,852 : INFO : EPOCH 15 - PROGRESS: at 3.08% examples, 74950 words/s, in_qsize 5, out_qsize 0\n",
      "2021-03-25 17:15:13,110 : INFO : EPOCH 15 - PROGRESS: at 6.69% examples, 78772 words/s, in_qsize 6, out_qsize 0\n",
      "2021-03-25 17:15:14,334 : INFO : EPOCH 15 - PROGRESS: at 8.41% examples, 66483 words/s, in_qsize 5, out_qsize 0\n",
      "2021-03-25 17:15:15,505 : INFO : EPOCH 15 - PROGRESS: at 11.18% examples, 66428 words/s, in_qsize 5, out_qsize 0\n",
      "2021-03-25 17:15:16,600 : INFO : EPOCH 15 - PROGRESS: at 12.65% examples, 61394 words/s, in_qsize 5, out_qsize 0\n",
      "2021-03-25 17:15:17,650 : INFO : EPOCH 15 - PROGRESS: at 13.24% examples, 54598 words/s, in_qsize 5, out_qsize 0\n",
      "2021-03-25 17:15:19,854 : INFO : EPOCH 15 - PROGRESS: at 14.76% examples, 46147 words/s, in_qsize 5, out_qsize 0\n",
      "2021-03-25 17:15:21,137 : INFO : EPOCH 15 - PROGRESS: at 15.68% examples, 42951 words/s, in_qsize 5, out_qsize 0\n",
      "2021-03-25 17:15:22,584 : INFO : EPOCH 15 - PROGRESS: at 17.52% examples, 42073 words/s, in_qsize 5, out_qsize 0\n",
      "2021-03-25 17:15:23,912 : INFO : EPOCH 15 - PROGRESS: at 19.32% examples, 41760 words/s, in_qsize 5, out_qsize 0\n",
      "2021-03-25 17:15:25,521 : INFO : EPOCH 15 - PROGRESS: at 20.23% examples, 38969 words/s, in_qsize 5, out_qsize 0\n",
      "2021-03-25 17:15:26,579 : INFO : EPOCH 15 - PROGRESS: at 21.40% examples, 38556 words/s, in_qsize 5, out_qsize 0\n",
      "2021-03-25 17:15:27,743 : INFO : EPOCH 15 - PROGRESS: at 22.01% examples, 36933 words/s, in_qsize 5, out_qsize 0\n",
      "2021-03-25 17:15:28,803 : INFO : EPOCH 15 - PROGRESS: at 24.16% examples, 38101 words/s, in_qsize 5, out_qsize 0\n",
      "2021-03-25 17:15:29,961 : INFO : EPOCH 15 - PROGRESS: at 26.82% examples, 39842 words/s, in_qsize 5, out_qsize 0\n",
      "2021-03-25 17:15:31,046 : INFO : EPOCH 15 - PROGRESS: at 29.20% examples, 41117 words/s, in_qsize 5, out_qsize 0\n",
      "2021-03-25 17:15:32,184 : INFO : EPOCH 15 - PROGRESS: at 32.19% examples, 42950 words/s, in_qsize 5, out_qsize 0\n",
      "2021-03-25 17:15:33,255 : INFO : EPOCH 15 - PROGRESS: at 35.51% examples, 45125 words/s, in_qsize 5, out_qsize 0\n",
      "2021-03-25 17:15:34,433 : INFO : EPOCH 15 - PROGRESS: at 38.49% examples, 46525 words/s, in_qsize 5, out_qsize 0\n",
      "2021-03-25 17:15:35,526 : INFO : EPOCH 15 - PROGRESS: at 41.79% examples, 48300 words/s, in_qsize 5, out_qsize 0\n",
      "2021-03-25 17:15:36,531 : INFO : EPOCH 15 - PROGRESS: at 44.78% examples, 49751 words/s, in_qsize 5, out_qsize 0\n",
      "2021-03-25 17:15:37,628 : INFO : EPOCH 15 - PROGRESS: at 48.11% examples, 51251 words/s, in_qsize 5, out_qsize 0\n",
      "2021-03-25 17:15:38,683 : INFO : EPOCH 15 - PROGRESS: at 51.47% examples, 52705 words/s, in_qsize 5, out_qsize 0\n",
      "2021-03-25 17:15:39,771 : INFO : EPOCH 15 - PROGRESS: at 54.47% examples, 53699 words/s, in_qsize 5, out_qsize 0\n",
      "2021-03-25 17:15:40,979 : INFO : EPOCH 15 - PROGRESS: at 58.08% examples, 54968 words/s, in_qsize 5, out_qsize 0\n",
      "2021-03-25 17:15:42,150 : INFO : EPOCH 15 - PROGRESS: at 61.64% examples, 56212 words/s, in_qsize 5, out_qsize 0\n",
      "2021-03-25 17:15:43,170 : INFO : EPOCH 15 - PROGRESS: at 64.89% examples, 57371 words/s, in_qsize 5, out_qsize 0\n",
      "2021-03-25 17:15:44,237 : INFO : EPOCH 15 - PROGRESS: at 67.85% examples, 58121 words/s, in_qsize 5, out_qsize 0\n",
      "2021-03-25 17:15:45,284 : INFO : EPOCH 15 - PROGRESS: at 70.19% examples, 58361 words/s, in_qsize 5, out_qsize 0\n",
      "2021-03-25 17:15:46,328 : INFO : EPOCH 15 - PROGRESS: at 72.97% examples, 58835 words/s, in_qsize 5, out_qsize 0\n",
      "2021-03-25 17:15:47,376 : INFO : EPOCH 15 - PROGRESS: at 75.12% examples, 58796 words/s, in_qsize 5, out_qsize 0\n",
      "2021-03-25 17:15:48,599 : INFO : EPOCH 15 - PROGRESS: at 76.63% examples, 58038 words/s, in_qsize 5, out_qsize 0\n",
      "2021-03-25 17:15:49,683 : INFO : EPOCH 15 - PROGRESS: at 78.44% examples, 57751 words/s, in_qsize 5, out_qsize 0\n",
      "2021-03-25 17:15:50,956 : INFO : EPOCH 15 - PROGRESS: at 80.23% examples, 57208 words/s, in_qsize 5, out_qsize 0\n",
      "2021-03-25 17:15:52,231 : INFO : EPOCH 15 - PROGRESS: at 82.96% examples, 57319 words/s, in_qsize 5, out_qsize 0\n",
      "2021-03-25 17:15:53,493 : INFO : EPOCH 15 - PROGRESS: at 86.67% examples, 58041 words/s, in_qsize 4, out_qsize 1\n",
      "2021-03-25 17:15:54,712 : INFO : EPOCH 15 - PROGRESS: at 89.35% examples, 58204 words/s, in_qsize 5, out_qsize 0\n",
      "2021-03-25 17:15:55,852 : INFO : EPOCH 15 - PROGRESS: at 91.15% examples, 57881 words/s, in_qsize 5, out_qsize 0\n",
      "2021-03-25 17:15:56,953 : INFO : EPOCH 15 - PROGRESS: at 93.84% examples, 58180 words/s, in_qsize 5, out_qsize 0\n",
      "2021-03-25 17:15:58,245 : INFO : EPOCH 15 - PROGRESS: at 97.44% examples, 58773 words/s, in_qsize 3, out_qsize 2\n",
      "2021-03-25 17:15:58,840 : INFO : worker thread finished; awaiting finish of 2 more threads\n",
      "2021-03-25 17:15:58,853 : INFO : worker thread finished; awaiting finish of 1 more threads\n",
      "2021-03-25 17:15:58,981 : INFO : worker thread finished; awaiting finish of 0 more threads\n",
      "2021-03-25 17:15:58,982 : INFO : EPOCH - 15 : training on 3321621 raw words (2868269 effective words) took 48.3s, 59410 effective words/s\n",
      "2021-03-25 17:16:00,118 : INFO : EPOCH 16 - PROGRESS: at 3.08% examples, 76554 words/s, in_qsize 5, out_qsize 0\n",
      "2021-03-25 17:16:01,304 : INFO : EPOCH 16 - PROGRESS: at 6.69% examples, 82084 words/s, in_qsize 5, out_qsize 0\n",
      "2021-03-25 17:16:02,411 : INFO : EPOCH 16 - PROGRESS: at 10.27% examples, 85833 words/s, in_qsize 5, out_qsize 0\n",
      "2021-03-25 17:16:03,578 : INFO : EPOCH 16 - PROGRESS: at 13.85% examples, 86502 words/s, in_qsize 5, out_qsize 0\n",
      "2021-03-25 17:16:04,667 : INFO : EPOCH 16 - PROGRESS: at 17.52% examples, 88136 words/s, in_qsize 5, out_qsize 0\n",
      "2021-03-25 17:16:05,765 : INFO : EPOCH 16 - PROGRESS: at 21.11% examples, 89119 words/s, in_qsize 5, out_qsize 0\n",
      "2021-03-25 17:16:07,092 : INFO : EPOCH 16 - PROGRESS: at 23.86% examples, 84102 words/s, in_qsize 5, out_qsize 0\n",
      "2021-03-25 17:16:08,206 : INFO : EPOCH 16 - PROGRESS: at 25.63% examples, 79544 words/s, in_qsize 5, out_qsize 0\n",
      "2021-03-25 17:16:09,209 : INFO : EPOCH 16 - PROGRESS: at 28.31% examples, 79357 words/s, in_qsize 5, out_qsize 0\n",
      "2021-03-25 17:16:10,372 : INFO : EPOCH 16 - PROGRESS: at 31.87% examples, 80328 words/s, in_qsize 5, out_qsize 0\n",
      "2021-03-25 17:16:11,480 : INFO : EPOCH 16 - PROGRESS: at 34.93% examples, 80102 words/s, in_qsize 5, out_qsize 0\n",
      "2021-03-25 17:16:12,716 : INFO : EPOCH 16 - PROGRESS: at 37.59% examples, 78562 words/s, in_qsize 6, out_qsize 0\n",
      "2021-03-25 17:16:13,754 : INFO : EPOCH 16 - PROGRESS: at 40.29% examples, 78299 words/s, in_qsize 5, out_qsize 0\n",
      "2021-03-25 17:16:14,917 : INFO : EPOCH 16 - PROGRESS: at 43.01% examples, 77448 words/s, in_qsize 5, out_qsize 0\n",
      "2021-03-25 17:16:16,014 : INFO : EPOCH 16 - PROGRESS: at 45.67% examples, 77026 words/s, in_qsize 5, out_qsize 0\n",
      "2021-03-25 17:16:17,108 : INFO : EPOCH 16 - PROGRESS: at 49.02% examples, 77606 words/s, in_qsize 5, out_qsize 0\n",
      "2021-03-25 17:16:18,222 : INFO : EPOCH 16 - PROGRESS: at 52.65% examples, 78485 words/s, in_qsize 5, out_qsize 0\n",
      "2021-03-25 17:16:19,420 : INFO : EPOCH 16 - PROGRESS: at 56.27% examples, 78935 words/s, in_qsize 5, out_qsize 0\n",
      "2021-03-25 17:16:20,528 : INFO : EPOCH 16 - PROGRESS: at 59.85% examples, 79684 words/s, in_qsize 5, out_qsize 0\n",
      "2021-03-25 17:16:21,627 : INFO : EPOCH 16 - PROGRESS: at 63.44% examples, 80387 words/s, in_qsize 5, out_qsize 0\n",
      "2021-03-25 17:16:22,680 : INFO : EPOCH 16 - PROGRESS: at 66.03% examples, 80095 words/s, in_qsize 5, out_qsize 0\n",
      "2021-03-25 17:16:23,715 : INFO : EPOCH 16 - PROGRESS: at 69.31% examples, 80586 words/s, in_qsize 5, out_qsize 0\n",
      "2021-03-25 17:16:24,748 : INFO : EPOCH 16 - PROGRESS: at 72.66% examples, 81039 words/s, in_qsize 5, out_qsize 0\n",
      "2021-03-25 17:16:25,954 : INFO : EPOCH 16 - PROGRESS: at 75.12% examples, 79968 words/s, in_qsize 5, out_qsize 0\n",
      "2021-03-25 17:16:27,016 : INFO : EPOCH 16 - PROGRESS: at 77.82% examples, 79715 words/s, in_qsize 5, out_qsize 0\n",
      "2021-03-25 17:16:28,060 : INFO : EPOCH 16 - PROGRESS: at 81.11% examples, 80111 words/s, in_qsize 5, out_qsize 0\n",
      "2021-03-25 17:16:29,183 : INFO : EPOCH 16 - PROGRESS: at 84.78% examples, 80562 words/s, in_qsize 5, out_qsize 0\n",
      "2021-03-25 17:16:30,312 : INFO : EPOCH 16 - PROGRESS: at 88.48% examples, 80953 words/s, in_qsize 6, out_qsize 0\n",
      "2021-03-25 17:16:31,441 : INFO : EPOCH 16 - PROGRESS: at 92.07% examples, 81325 words/s, in_qsize 5, out_qsize 0\n",
      "2021-03-25 17:16:32,713 : INFO : EPOCH 16 - PROGRESS: at 95.65% examples, 81316 words/s, in_qsize 6, out_qsize 0\n",
      "2021-03-25 17:16:33,719 : INFO : EPOCH 16 - PROGRESS: at 98.64% examples, 81444 words/s, in_qsize 5, out_qsize 0\n",
      "2021-03-25 17:16:33,992 : INFO : worker thread finished; awaiting finish of 2 more threads\n",
      "2021-03-25 17:16:34,005 : INFO : worker thread finished; awaiting finish of 1 more threads\n",
      "2021-03-25 17:16:34,131 : INFO : worker thread finished; awaiting finish of 0 more threads\n",
      "2021-03-25 17:16:34,131 : INFO : EPOCH - 16 : training on 3321621 raw words (2868054 effective words) took 35.1s, 81618 effective words/s\n",
      "2021-03-25 17:16:35,268 : INFO : EPOCH 17 - PROGRESS: at 3.08% examples, 76150 words/s, in_qsize 5, out_qsize 0\n",
      "2021-03-25 17:16:36,498 : INFO : EPOCH 17 - PROGRESS: at 6.69% examples, 80260 words/s, in_qsize 5, out_qsize 0\n",
      "2021-03-25 17:16:37,661 : INFO : EPOCH 17 - PROGRESS: at 10.27% examples, 83219 words/s, in_qsize 5, out_qsize 0\n",
      "2021-03-25 17:16:38,806 : INFO : EPOCH 17 - PROGRESS: at 13.86% examples, 84914 words/s, in_qsize 5, out_qsize 0\n",
      "2021-03-25 17:16:40,000 : INFO : EPOCH 17 - PROGRESS: at 17.52% examples, 85242 words/s, in_qsize 5, out_qsize 0\n",
      "2021-03-25 17:16:41,102 : INFO : EPOCH 17 - PROGRESS: at 21.11% examples, 86616 words/s, in_qsize 5, out_qsize 0\n",
      "2021-03-25 17:16:42,167 : INFO : EPOCH 17 - PROGRESS: at 24.74% examples, 88006 words/s, in_qsize 5, out_qsize 0\n",
      "2021-03-25 17:16:43,255 : INFO : EPOCH 17 - PROGRESS: at 28.31% examples, 88848 words/s, in_qsize 5, out_qsize 0\n",
      "2021-03-25 17:16:44,321 : INFO : EPOCH 17 - PROGRESS: at 31.87% examples, 89700 words/s, in_qsize 5, out_qsize 0\n",
      "2021-03-25 17:16:45,412 : INFO : EPOCH 17 - PROGRESS: at 35.51% examples, 90210 words/s, in_qsize 5, out_qsize 0\n",
      "2021-03-25 17:16:46,627 : INFO : EPOCH 17 - PROGRESS: at 39.07% examples, 89745 words/s, in_qsize 5, out_qsize 0\n",
      "2021-03-25 17:16:47,658 : INFO : EPOCH 17 - PROGRESS: at 41.79% examples, 88638 words/s, in_qsize 5, out_qsize 0\n",
      "2021-03-25 17:16:48,675 : INFO : EPOCH 17 - PROGRESS: at 44.20% examples, 87172 words/s, in_qsize 5, out_qsize 0\n",
      "2021-03-25 17:16:49,873 : INFO : EPOCH 17 - PROGRESS: at 47.18% examples, 86016 words/s, in_qsize 5, out_qsize 0\n",
      "2021-03-25 17:16:50,881 : INFO : EPOCH 17 - PROGRESS: at 49.95% examples, 85472 words/s, in_qsize 6, out_qsize 0\n",
      "2021-03-25 17:16:51,890 : INFO : EPOCH 17 - PROGRESS: at 52.93% examples, 85447 words/s, in_qsize 5, out_qsize 0\n",
      "2021-03-25 17:16:53,120 : INFO : EPOCH 17 - PROGRESS: at 55.37% examples, 83535 words/s, in_qsize 5, out_qsize 0\n",
      "2021-03-25 17:16:54,295 : INFO : EPOCH 17 - PROGRESS: at 57.15% examples, 81227 words/s, in_qsize 5, out_qsize 0\n",
      "2021-03-25 17:16:55,411 : INFO : EPOCH 17 - PROGRESS: at 59.85% examples, 80614 words/s, in_qsize 5, out_qsize 0\n",
      "2021-03-25 17:16:56,522 : INFO : EPOCH 17 - PROGRESS: at 63.44% examples, 81234 words/s, in_qsize 5, out_qsize 0\n",
      "2021-03-25 17:16:57,529 : INFO : EPOCH 17 - PROGRESS: at 66.64% examples, 81796 words/s, in_qsize 5, out_qsize 0\n",
      "2021-03-25 17:16:58,558 : INFO : EPOCH 17 - PROGRESS: at 69.89% examples, 82234 words/s, in_qsize 5, out_qsize 0\n",
      "2021-03-25 17:16:59,634 : INFO : EPOCH 17 - PROGRESS: at 73.57% examples, 82827 words/s, in_qsize 5, out_qsize 0\n",
      "2021-03-25 17:17:00,736 : INFO : EPOCH 17 - PROGRESS: at 77.22% examples, 83275 words/s, in_qsize 5, out_qsize 0\n",
      "2021-03-25 17:17:01,739 : INFO : EPOCH 17 - PROGRESS: at 80.52% examples, 83688 words/s, in_qsize 5, out_qsize 0\n",
      "2021-03-25 17:17:02,828 : INFO : EPOCH 17 - PROGRESS: at 83.89% examples, 83820 words/s, in_qsize 5, out_qsize 0\n",
      "2021-03-25 17:17:03,936 : INFO : EPOCH 17 - PROGRESS: at 87.59% examples, 84169 words/s, in_qsize 5, out_qsize 0\n",
      "2021-03-25 17:17:05,140 : INFO : EPOCH 17 - PROGRESS: at 91.14% examples, 84249 words/s, in_qsize 6, out_qsize 0\n",
      "2021-03-25 17:17:06,190 : INFO : EPOCH 17 - PROGRESS: at 93.84% examples, 83902 words/s, in_qsize 5, out_qsize 0\n",
      "2021-03-25 17:17:07,302 : INFO : EPOCH 17 - PROGRESS: at 97.44% examples, 84205 words/s, in_qsize 5, out_qsize 0\n",
      "2021-03-25 17:17:07,878 : INFO : worker thread finished; awaiting finish of 2 more threads\n",
      "2021-03-25 17:17:07,900 : INFO : worker thread finished; awaiting finish of 1 more threads\n",
      "2021-03-25 17:17:08,027 : INFO : worker thread finished; awaiting finish of 0 more threads\n",
      "2021-03-25 17:17:08,028 : INFO : EPOCH - 17 : training on 3321621 raw words (2866760 effective words) took 33.9s, 84589 effective words/s\n",
      "2021-03-25 17:17:09,084 : INFO : EPOCH 18 - PROGRESS: at 3.08% examples, 82014 words/s, in_qsize 5, out_qsize 0\n",
      "2021-03-25 17:17:10,185 : INFO : EPOCH 18 - PROGRESS: at 6.69% examples, 88089 words/s, in_qsize 5, out_qsize 0\n",
      "2021-03-25 17:17:11,347 : INFO : EPOCH 18 - PROGRESS: at 10.27% examples, 88488 words/s, in_qsize 5, out_qsize 0\n",
      "2021-03-25 17:17:12,495 : INFO : EPOCH 18 - PROGRESS: at 13.85% examples, 88923 words/s, in_qsize 5, out_qsize 0\n",
      "2021-03-25 17:17:13,589 : INFO : EPOCH 18 - PROGRESS: at 17.52% examples, 90013 words/s, in_qsize 5, out_qsize 0\n",
      "2021-03-25 17:17:14,687 : INFO : EPOCH 18 - PROGRESS: at 21.11% examples, 90723 words/s, in_qsize 5, out_qsize 0\n",
      "2021-03-25 17:17:15,752 : INFO : EPOCH 18 - PROGRESS: at 24.74% examples, 91587 words/s, in_qsize 5, out_qsize 0\n",
      "2021-03-25 17:17:16,833 : INFO : EPOCH 18 - PROGRESS: at 28.31% examples, 92123 words/s, in_qsize 5, out_qsize 0\n",
      "2021-03-25 17:17:17,922 : INFO : EPOCH 18 - PROGRESS: at 31.87% examples, 92433 words/s, in_qsize 6, out_qsize 0\n",
      "2021-03-25 17:17:19,069 : INFO : EPOCH 18 - PROGRESS: at 35.51% examples, 92199 words/s, in_qsize 5, out_qsize 0\n",
      "2021-03-25 17:17:20,254 : INFO : EPOCH 18 - PROGRESS: at 38.19% examples, 89641 words/s, in_qsize 6, out_qsize 0\n",
      "2021-03-25 17:17:21,330 : INFO : EPOCH 18 - PROGRESS: at 41.19% examples, 88879 words/s, in_qsize 5, out_qsize 0\n",
      "2021-03-25 17:17:22,349 : INFO : EPOCH 18 - PROGRESS: at 44.20% examples, 88568 words/s, in_qsize 5, out_qsize 0\n",
      "2021-03-25 17:17:23,521 : INFO : EPOCH 18 - PROGRESS: at 47.18% examples, 87433 words/s, in_qsize 5, out_qsize 0\n",
      "2021-03-25 17:17:24,639 : INFO : EPOCH 18 - PROGRESS: at 50.85% examples, 87787 words/s, in_qsize 5, out_qsize 0\n",
      "2021-03-25 17:17:25,723 : INFO : EPOCH 18 - PROGRESS: at 54.47% examples, 88246 words/s, in_qsize 5, out_qsize 0\n",
      "2021-03-25 17:17:26,797 : INFO : EPOCH 18 - PROGRESS: at 58.08% examples, 88708 words/s, in_qsize 5, out_qsize 0\n",
      "2021-03-25 17:17:27,875 : INFO : EPOCH 18 - PROGRESS: at 61.33% examples, 88667 words/s, in_qsize 5, out_qsize 0\n",
      "2021-03-25 17:17:28,942 : INFO : EPOCH 18 - PROGRESS: at 64.01% examples, 87860 words/s, in_qsize 5, out_qsize 0\n",
      "2021-03-25 17:17:29,959 : INFO : EPOCH 18 - PROGRESS: at 65.75% examples, 86144 words/s, in_qsize 5, out_qsize 0\n",
      "2021-03-25 17:17:31,010 : INFO : EPOCH 18 - PROGRESS: at 67.85% examples, 84829 words/s, in_qsize 5, out_qsize 0\n",
      "2021-03-25 17:17:32,014 : INFO : EPOCH 18 - PROGRESS: at 69.89% examples, 83797 words/s, in_qsize 5, out_qsize 0\n",
      "2021-03-25 17:17:33,015 : INFO : EPOCH 18 - PROGRESS: at 72.66% examples, 83553 words/s, in_qsize 5, out_qsize 0\n",
      "2021-03-25 17:17:34,154 : INFO : EPOCH 18 - PROGRESS: at 75.73% examples, 83203 words/s, in_qsize 5, out_qsize 0\n",
      "2021-03-25 17:17:35,304 : INFO : EPOCH 18 - PROGRESS: at 79.35% examples, 83492 words/s, in_qsize 5, out_qsize 0\n",
      "2021-03-25 17:17:36,494 : INFO : EPOCH 18 - PROGRESS: at 82.96% examples, 83631 words/s, in_qsize 5, out_qsize 0\n",
      "2021-03-25 17:17:37,594 : INFO : EPOCH 18 - PROGRESS: at 86.67% examples, 84009 words/s, in_qsize 5, out_qsize 0\n",
      "2021-03-25 17:17:38,731 : INFO : EPOCH 18 - PROGRESS: at 90.27% examples, 84276 words/s, in_qsize 5, out_qsize 0\n",
      "2021-03-25 17:17:39,825 : INFO : EPOCH 18 - PROGRESS: at 93.84% examples, 84621 words/s, in_qsize 5, out_qsize 0\n",
      "2021-03-25 17:17:40,927 : INFO : EPOCH 18 - PROGRESS: at 97.44% examples, 84929 words/s, in_qsize 5, out_qsize 0\n",
      "2021-03-25 17:17:41,480 : INFO : worker thread finished; awaiting finish of 2 more threads\n",
      "2021-03-25 17:17:41,496 : INFO : worker thread finished; awaiting finish of 1 more threads\n",
      "2021-03-25 17:17:41,624 : INFO : worker thread finished; awaiting finish of 0 more threads\n",
      "2021-03-25 17:17:41,625 : INFO : EPOCH - 18 : training on 3321621 raw words (2867776 effective words) took 33.6s, 85373 effective words/s\n",
      "2021-03-25 17:17:42,785 : INFO : EPOCH 19 - PROGRESS: at 3.08% examples, 74669 words/s, in_qsize 5, out_qsize 0\n",
      "2021-03-25 17:17:43,786 : INFO : EPOCH 19 - PROGRESS: at 6.39% examples, 83942 words/s, in_qsize 5, out_qsize 0\n",
      "2021-03-25 17:17:44,965 : INFO : EPOCH 19 - PROGRESS: at 9.34% examples, 80166 words/s, in_qsize 5, out_qsize 0\n",
      "2021-03-25 17:17:45,986 : INFO : EPOCH 19 - PROGRESS: at 12.36% examples, 81223 words/s, in_qsize 5, out_qsize 0\n",
      "2021-03-25 17:17:47,289 : INFO : EPOCH 19 - PROGRESS: at 14.76% examples, 74718 words/s, in_qsize 5, out_qsize 0\n",
      "2021-03-25 17:17:48,394 : INFO : EPOCH 19 - PROGRESS: at 17.52% examples, 73997 words/s, in_qsize 5, out_qsize 0\n",
      "2021-03-25 17:17:49,586 : INFO : EPOCH 19 - PROGRESS: at 21.11% examples, 75930 words/s, in_qsize 5, out_qsize 0\n",
      "2021-03-25 17:17:50,614 : INFO : EPOCH 19 - PROGRESS: at 24.45% examples, 77783 words/s, in_qsize 5, out_qsize 0\n",
      "2021-03-25 17:17:51,674 : INFO : EPOCH 19 - PROGRESS: at 27.43% examples, 78170 words/s, in_qsize 6, out_qsize 0\n",
      "2021-03-25 17:17:52,794 : INFO : EPOCH 19 - PROGRESS: at 30.97% examples, 79592 words/s, in_qsize 5, out_qsize 0\n",
      "2021-03-25 17:17:53,871 : INFO : EPOCH 19 - PROGRESS: at 34.63% examples, 81049 words/s, in_qsize 5, out_qsize 0\n",
      "2021-03-25 17:17:54,929 : INFO : EPOCH 19 - PROGRESS: at 37.59% examples, 81113 words/s, in_qsize 5, out_qsize 0\n",
      "2021-03-25 17:17:55,957 : INFO : EPOCH 19 - PROGRESS: at 40.29% examples, 80726 words/s, in_qsize 5, out_qsize 0\n",
      "2021-03-25 17:17:57,207 : INFO : EPOCH 19 - PROGRESS: at 42.38% examples, 78123 words/s, in_qsize 5, out_qsize 0\n",
      "2021-03-25 17:17:58,427 : INFO : EPOCH 19 - PROGRESS: at 45.07% examples, 77064 words/s, in_qsize 5, out_qsize 0\n",
      "2021-03-25 17:17:59,510 : INFO : EPOCH 19 - PROGRESS: at 47.18% examples, 75773 words/s, in_qsize 5, out_qsize 0\n",
      "2021-03-25 17:18:00,551 : INFO : EPOCH 19 - PROGRESS: at 50.57% examples, 76618 words/s, in_qsize 5, out_qsize 0\n",
      "2021-03-25 17:18:01,632 : INFO : EPOCH 19 - PROGRESS: at 54.16% examples, 77637 words/s, in_qsize 5, out_qsize 0\n",
      "2021-03-25 17:18:02,737 : INFO : EPOCH 19 - PROGRESS: at 57.76% examples, 78478 words/s, in_qsize 5, out_qsize 0\n",
      "2021-03-25 17:18:04,028 : INFO : EPOCH 19 - PROGRESS: at 61.33% examples, 78583 words/s, in_qsize 5, out_qsize 0\n",
      "2021-03-25 17:18:05,033 : INFO : EPOCH 19 - PROGRESS: at 64.59% examples, 79262 words/s, in_qsize 5, out_qsize 0\n",
      "2021-03-25 17:18:06,164 : INFO : EPOCH 19 - PROGRESS: at 67.54% examples, 79133 words/s, in_qsize 5, out_qsize 0\n",
      "2021-03-25 17:18:07,338 : INFO : EPOCH 19 - PROGRESS: at 70.19% examples, 78538 words/s, in_qsize 5, out_qsize 0\n",
      "2021-03-25 17:18:08,381 : INFO : EPOCH 19 - PROGRESS: at 72.97% examples, 78378 words/s, in_qsize 5, out_qsize 0\n",
      "2021-03-25 17:18:09,434 : INFO : EPOCH 19 - PROGRESS: at 75.73% examples, 78191 words/s, in_qsize 5, out_qsize 0\n",
      "2021-03-25 17:18:10,458 : INFO : EPOCH 19 - PROGRESS: at 79.07% examples, 78704 words/s, in_qsize 5, out_qsize 0\n",
      "2021-03-25 17:18:11,482 : INFO : EPOCH 19 - PROGRESS: at 81.11% examples, 78029 words/s, in_qsize 5, out_qsize 0\n",
      "2021-03-25 17:18:12,649 : INFO : EPOCH 19 - PROGRESS: at 83.89% examples, 77595 words/s, in_qsize 6, out_qsize 0\n",
      "2021-03-25 17:18:13,678 : INFO : EPOCH 19 - PROGRESS: at 86.67% examples, 77516 words/s, in_qsize 5, out_qsize 0\n",
      "2021-03-25 17:18:14,771 : INFO : EPOCH 19 - PROGRESS: at 90.27% examples, 78091 words/s, in_qsize 5, out_qsize 0\n",
      "2021-03-25 17:18:15,866 : INFO : EPOCH 19 - PROGRESS: at 93.84% examples, 78610 words/s, in_qsize 5, out_qsize 0\n",
      "2021-03-25 17:18:16,990 : INFO : EPOCH 19 - PROGRESS: at 97.44% examples, 79040 words/s, in_qsize 5, out_qsize 0\n",
      "2021-03-25 17:18:17,549 : INFO : worker thread finished; awaiting finish of 2 more threads\n",
      "2021-03-25 17:18:17,572 : INFO : worker thread finished; awaiting finish of 1 more threads\n",
      "2021-03-25 17:18:17,694 : INFO : worker thread finished; awaiting finish of 0 more threads\n",
      "2021-03-25 17:18:17,694 : INFO : EPOCH - 19 : training on 3321621 raw words (2869105 effective words) took 36.1s, 79555 effective words/s\n",
      "2021-03-25 17:18:18,768 : INFO : EPOCH 20 - PROGRESS: at 3.08% examples, 80884 words/s, in_qsize 5, out_qsize 0\n",
      "2021-03-25 17:18:19,861 : INFO : EPOCH 20 - PROGRESS: at 6.69% examples, 87903 words/s, in_qsize 5, out_qsize 0\n",
      "2021-03-25 17:18:20,925 : INFO : EPOCH 20 - PROGRESS: at 10.27% examples, 90989 words/s, in_qsize 5, out_qsize 0\n",
      "2021-03-25 17:18:22,055 : INFO : EPOCH 20 - PROGRESS: at 13.85% examples, 91129 words/s, in_qsize 5, out_qsize 0\n",
      "2021-03-25 17:18:23,134 : INFO : EPOCH 20 - PROGRESS: at 17.52% examples, 92027 words/s, in_qsize 5, out_qsize 0\n",
      "2021-03-25 17:18:24,285 : INFO : EPOCH 20 - PROGRESS: at 21.11% examples, 91649 words/s, in_qsize 5, out_qsize 0\n",
      "2021-03-25 17:18:25,548 : INFO : EPOCH 20 - PROGRESS: at 23.86% examples, 86800 words/s, in_qsize 5, out_qsize 0\n",
      "2021-03-25 17:18:26,554 : INFO : EPOCH 20 - PROGRESS: at 25.04% examples, 80838 words/s, in_qsize 6, out_qsize 0\n",
      "2021-03-25 17:18:27,554 : INFO : EPOCH 20 - PROGRESS: at 26.23% examples, 76138 words/s, in_qsize 5, out_qsize 0\n",
      "2021-03-25 17:18:28,741 : INFO : EPOCH 20 - PROGRESS: at 27.43% examples, 71083 words/s, in_qsize 5, out_qsize 0\n",
      "2021-03-25 17:18:29,867 : INFO : EPOCH 20 - PROGRESS: at 28.61% examples, 67345 words/s, in_qsize 5, out_qsize 0\n",
      "2021-03-25 17:18:31,363 : INFO : EPOCH 20 - PROGRESS: at 30.07% examples, 63130 words/s, in_qsize 5, out_qsize 0\n",
      "2021-03-25 17:18:32,378 : INFO : EPOCH 20 - PROGRESS: at 31.24% examples, 61107 words/s, in_qsize 5, out_qsize 0\n",
      "2021-03-25 17:18:33,456 : INFO : EPOCH 20 - PROGRESS: at 34.05% examples, 61854 words/s, in_qsize 5, out_qsize 0\n",
      "2021-03-25 17:18:34,674 : INFO : EPOCH 20 - PROGRESS: at 37.59% examples, 63527 words/s, in_qsize 6, out_qsize 0\n",
      "2021-03-25 17:18:35,888 : INFO : EPOCH 20 - PROGRESS: at 40.28% examples, 63559 words/s, in_qsize 5, out_qsize 0\n",
      "2021-03-25 17:18:37,080 : INFO : EPOCH 20 - PROGRESS: at 43.01% examples, 63655 words/s, in_qsize 5, out_qsize 0\n",
      "2021-03-25 17:18:38,175 : INFO : EPOCH 20 - PROGRESS: at 46.24% examples, 64890 words/s, in_qsize 5, out_qsize 0\n",
      "2021-03-25 17:18:39,249 : INFO : EPOCH 20 - PROGRESS: at 49.02% examples, 65263 words/s, in_qsize 5, out_qsize 0\n",
      "2021-03-25 17:18:40,366 : INFO : EPOCH 20 - PROGRESS: at 51.76% examples, 65460 words/s, in_qsize 5, out_qsize 0\n",
      "2021-03-25 17:18:41,487 : INFO : EPOCH 20 - PROGRESS: at 54.47% examples, 65636 words/s, in_qsize 5, out_qsize 0\n",
      "2021-03-25 17:18:42,513 : INFO : EPOCH 20 - PROGRESS: at 57.76% examples, 66742 words/s, in_qsize 5, out_qsize 0\n",
      "2021-03-25 17:18:43,561 : INFO : EPOCH 20 - PROGRESS: at 61.02% examples, 67697 words/s, in_qsize 5, out_qsize 0\n",
      "2021-03-25 17:18:44,570 : INFO : EPOCH 20 - PROGRESS: at 64.01% examples, 68364 words/s, in_qsize 5, out_qsize 0\n",
      "2021-03-25 17:18:45,694 : INFO : EPOCH 20 - PROGRESS: at 67.54% examples, 69325 words/s, in_qsize 5, out_qsize 0\n",
      "2021-03-25 17:18:46,825 : INFO : EPOCH 20 - PROGRESS: at 71.14% examples, 70186 words/s, in_qsize 5, out_qsize 0\n",
      "2021-03-25 17:18:47,889 : INFO : EPOCH 20 - PROGRESS: at 74.83% examples, 71137 words/s, in_qsize 5, out_qsize 0\n",
      "2021-03-25 17:18:48,903 : INFO : EPOCH 20 - PROGRESS: at 77.82% examples, 71591 words/s, in_qsize 5, out_qsize 0\n",
      "2021-03-25 17:18:50,009 : INFO : EPOCH 20 - PROGRESS: at 81.14% examples, 72069 words/s, in_qsize 5, out_qsize 0\n",
      "2021-03-25 17:18:51,149 : INFO : EPOCH 20 - PROGRESS: at 84.78% examples, 72707 words/s, in_qsize 5, out_qsize 0\n",
      "2021-03-25 17:18:52,243 : INFO : EPOCH 20 - PROGRESS: at 88.48% examples, 73399 words/s, in_qsize 5, out_qsize 0\n",
      "2021-03-25 17:18:53,349 : INFO : EPOCH 20 - PROGRESS: at 92.07% examples, 74026 words/s, in_qsize 5, out_qsize 0\n",
      "2021-03-25 17:18:54,464 : INFO : EPOCH 20 - PROGRESS: at 95.65% examples, 74589 words/s, in_qsize 5, out_qsize 0\n",
      "2021-03-25 17:18:55,962 : INFO : EPOCH 20 - PROGRESS: at 98.35% examples, 73698 words/s, in_qsize 5, out_qsize 0\n",
      "2021-03-25 17:18:56,379 : INFO : worker thread finished; awaiting finish of 2 more threads\n",
      "2021-03-25 17:18:56,401 : INFO : worker thread finished; awaiting finish of 1 more threads\n",
      "2021-03-25 17:18:56,501 : INFO : worker thread finished; awaiting finish of 0 more threads\n",
      "2021-03-25 17:18:56,502 : INFO : EPOCH - 20 : training on 3321621 raw words (2867917 effective words) took 38.8s, 73916 effective words/s\n",
      "2021-03-25 17:18:57,836 : INFO : EPOCH 21 - PROGRESS: at 2.13% examples, 45502 words/s, in_qsize 5, out_qsize 0\n",
      "2021-03-25 17:18:58,862 : INFO : EPOCH 21 - PROGRESS: at 4.28% examples, 51322 words/s, in_qsize 5, out_qsize 0\n",
      "2021-03-25 17:19:00,212 : INFO : EPOCH 21 - PROGRESS: at 6.69% examples, 51223 words/s, in_qsize 5, out_qsize 0\n",
      "2021-03-25 17:19:01,306 : INFO : EPOCH 21 - PROGRESS: at 8.41% examples, 50347 words/s, in_qsize 6, out_qsize 0\n",
      "2021-03-25 17:19:02,359 : INFO : EPOCH 21 - PROGRESS: at 11.18% examples, 54559 words/s, in_qsize 5, out_qsize 0\n",
      "2021-03-25 17:19:03,367 : INFO : EPOCH 21 - PROGRESS: at 13.86% examples, 57843 words/s, in_qsize 5, out_qsize 0\n",
      "2021-03-25 17:19:04,445 : INFO : EPOCH 21 - PROGRESS: at 17.52% examples, 63004 words/s, in_qsize 5, out_qsize 0\n",
      "2021-03-25 17:19:05,555 : INFO : EPOCH 21 - PROGRESS: at 21.11% examples, 66715 words/s, in_qsize 6, out_qsize 0\n",
      "2021-03-25 17:19:06,719 : INFO : EPOCH 21 - PROGRESS: at 24.74% examples, 69228 words/s, in_qsize 5, out_qsize 0\n",
      "2021-03-25 17:19:07,729 : INFO : EPOCH 21 - PROGRESS: at 26.84% examples, 68375 words/s, in_qsize 5, out_qsize 0\n",
      "2021-03-25 17:19:08,744 : INFO : EPOCH 21 - PROGRESS: at 29.20% examples, 68355 words/s, in_qsize 6, out_qsize 0\n",
      "2021-03-25 17:19:09,865 : INFO : EPOCH 21 - PROGRESS: at 32.17% examples, 69069 words/s, in_qsize 5, out_qsize 0\n",
      "2021-03-25 17:19:11,163 : INFO : EPOCH 21 - PROGRESS: at 34.93% examples, 68256 words/s, in_qsize 6, out_qsize 1\n",
      "2021-03-25 17:19:12,237 : INFO : EPOCH 21 - PROGRESS: at 38.19% examples, 69648 words/s, in_qsize 6, out_qsize 0\n",
      "2021-03-25 17:19:13,375 : INFO : EPOCH 21 - PROGRESS: at 40.89% examples, 69558 words/s, in_qsize 5, out_qsize 0\n",
      "2021-03-25 17:19:14,385 : INFO : EPOCH 21 - PROGRESS: at 43.60% examples, 69955 words/s, in_qsize 5, out_qsize 0\n",
      "2021-03-25 17:19:15,661 : INFO : EPOCH 21 - PROGRESS: at 46.24% examples, 69359 words/s, in_qsize 5, out_qsize 0\n",
      "2021-03-25 17:19:16,670 : INFO : EPOCH 21 - PROGRESS: at 48.71% examples, 69300 words/s, in_qsize 5, out_qsize 0\n",
      "2021-03-25 17:19:17,809 : INFO : EPOCH 21 - PROGRESS: at 50.57% examples, 68014 words/s, in_qsize 5, out_qsize 0\n",
      "2021-03-25 17:19:18,828 : INFO : EPOCH 21 - PROGRESS: at 52.65% examples, 67602 words/s, in_qsize 5, out_qsize 0\n",
      "2021-03-25 17:19:19,922 : INFO : EPOCH 21 - PROGRESS: at 55.37% examples, 67755 words/s, in_qsize 6, out_qsize 0\n",
      "2021-03-25 17:19:21,081 : INFO : EPOCH 21 - PROGRESS: at 57.15% examples, 66662 words/s, in_qsize 5, out_qsize 0\n",
      "2021-03-25 17:19:22,145 : INFO : EPOCH 21 - PROGRESS: at 59.55% examples, 66588 words/s, in_qsize 5, out_qsize 0\n",
      "2021-03-25 17:19:23,394 : INFO : EPOCH 21 - PROGRESS: at 62.23% examples, 66383 words/s, in_qsize 5, out_qsize 0\n",
      "2021-03-25 17:19:24,408 : INFO : EPOCH 21 - PROGRESS: at 64.29% examples, 66138 words/s, in_qsize 5, out_qsize 0\n",
      "2021-03-25 17:19:25,430 : INFO : EPOCH 21 - PROGRESS: at 66.94% examples, 66490 words/s, in_qsize 5, out_qsize 0\n",
      "2021-03-25 17:19:26,528 : INFO : EPOCH 21 - PROGRESS: at 70.19% examples, 67221 words/s, in_qsize 5, out_qsize 0\n",
      "2021-03-25 17:19:27,702 : INFO : EPOCH 21 - PROGRESS: at 72.97% examples, 67183 words/s, in_qsize 5, out_qsize 0\n",
      "2021-03-25 17:19:28,858 : INFO : EPOCH 21 - PROGRESS: at 75.73% examples, 67173 words/s, in_qsize 5, out_qsize 0\n",
      "2021-03-25 17:19:29,888 : INFO : EPOCH 21 - PROGRESS: at 77.51% examples, 66653 words/s, in_qsize 5, out_qsize 0\n",
      "2021-03-25 17:19:30,906 : INFO : EPOCH 21 - PROGRESS: at 80.83% examples, 67438 words/s, in_qsize 5, out_qsize 0\n",
      "2021-03-25 17:19:31,917 : INFO : EPOCH 21 - PROGRESS: at 83.89% examples, 67944 words/s, in_qsize 5, out_qsize 0\n",
      "2021-03-25 17:19:33,032 : INFO : EPOCH 21 - PROGRESS: at 87.59% examples, 68701 words/s, in_qsize 5, out_qsize 0\n",
      "2021-03-25 17:19:34,263 : INFO : EPOCH 21 - PROGRESS: at 90.27% examples, 68521 words/s, in_qsize 5, out_qsize 0\n",
      "2021-03-25 17:19:35,333 : INFO : EPOCH 21 - PROGRESS: at 92.94% examples, 68627 words/s, in_qsize 6, out_qsize 0\n",
      "2021-03-25 17:19:36,335 : INFO : EPOCH 21 - PROGRESS: at 95.65% examples, 68843 words/s, in_qsize 5, out_qsize 0\n",
      "2021-03-25 17:19:37,500 : INFO : EPOCH 21 - PROGRESS: at 99.23% examples, 69412 words/s, in_qsize 3, out_qsize 0\n",
      "2021-03-25 17:19:37,509 : INFO : worker thread finished; awaiting finish of 2 more threads\n",
      "2021-03-25 17:19:37,536 : INFO : worker thread finished; awaiting finish of 1 more threads\n",
      "2021-03-25 17:19:37,659 : INFO : worker thread finished; awaiting finish of 0 more threads\n",
      "2021-03-25 17:19:37,660 : INFO : EPOCH - 21 : training on 3321621 raw words (2867638 effective words) took 41.2s, 69687 effective words/s\n",
      "2021-03-25 17:19:38,797 : INFO : EPOCH 22 - PROGRESS: at 3.08% examples, 76309 words/s, in_qsize 5, out_qsize 0\n",
      "2021-03-25 17:19:39,982 : INFO : EPOCH 22 - PROGRESS: at 6.69% examples, 81915 words/s, in_qsize 5, out_qsize 0\n",
      "2021-03-25 17:19:41,126 : INFO : EPOCH 22 - PROGRESS: at 10.27% examples, 84779 words/s, in_qsize 5, out_qsize 0\n",
      "2021-03-25 17:19:42,322 : INFO : EPOCH 22 - PROGRESS: at 13.85% examples, 85231 words/s, in_qsize 5, out_qsize 0\n",
      "2021-03-25 17:19:43,479 : INFO : EPOCH 22 - PROGRESS: at 17.52% examples, 86057 words/s, in_qsize 5, out_qsize 0\n",
      "2021-03-25 17:19:44,634 : INFO : EPOCH 22 - PROGRESS: at 21.11% examples, 86648 words/s, in_qsize 5, out_qsize 0\n",
      "2021-03-25 17:19:45,746 : INFO : EPOCH 22 - PROGRESS: at 24.74% examples, 87501 words/s, in_qsize 6, out_qsize 0\n",
      "2021-03-25 17:19:46,752 : INFO : EPOCH 22 - PROGRESS: at 28.01% examples, 88267 words/s, in_qsize 5, out_qsize 0\n",
      "2021-03-25 17:19:47,807 : INFO : EPOCH 22 - PROGRESS: at 30.97% examples, 87582 words/s, in_qsize 5, out_qsize 0\n",
      "2021-03-25 17:19:48,936 : INFO : EPOCH 22 - PROGRESS: at 34.63% examples, 87993 words/s, in_qsize 5, out_qsize 0\n",
      "2021-03-25 17:19:49,966 : INFO : EPOCH 22 - PROGRESS: at 37.59% examples, 87649 words/s, in_qsize 5, out_qsize 0\n",
      "2021-03-25 17:19:51,023 : INFO : EPOCH 22 - PROGRESS: at 40.89% examples, 87804 words/s, in_qsize 5, out_qsize 0\n",
      "2021-03-25 17:19:52,207 : INFO : EPOCH 22 - PROGRESS: at 44.48% examples, 87767 words/s, in_qsize 5, out_qsize 0\n",
      "2021-03-25 17:19:53,349 : INFO : EPOCH 22 - PROGRESS: at 48.11% examples, 87979 words/s, in_qsize 5, out_qsize 0\n",
      "2021-03-25 17:19:54,484 : INFO : EPOCH 22 - PROGRESS: at 51.76% examples, 88177 words/s, in_qsize 5, out_qsize 0\n",
      "2021-03-25 17:19:55,519 : INFO : EPOCH 22 - PROGRESS: at 55.06% examples, 88381 words/s, in_qsize 5, out_qsize 0\n",
      "2021-03-25 17:19:56,605 : INFO : EPOCH 22 - PROGRESS: at 58.08% examples, 87862 words/s, in_qsize 5, out_qsize 0\n",
      "2021-03-25 17:19:57,614 : INFO : EPOCH 22 - PROGRESS: at 61.33% examples, 88175 words/s, in_qsize 6, out_qsize 0\n",
      "2021-03-25 17:19:58,632 : INFO : EPOCH 22 - PROGRESS: at 64.29% examples, 87999 words/s, in_qsize 5, out_qsize 0\n",
      "2021-03-25 17:19:59,723 : INFO : EPOCH 22 - PROGRESS: at 67.54% examples, 87956 words/s, in_qsize 5, out_qsize 0\n",
      "2021-03-25 17:20:00,757 : INFO : EPOCH 22 - PROGRESS: at 70.49% examples, 87758 words/s, in_qsize 5, out_qsize 0\n",
      "2021-03-25 17:20:01,802 : INFO : EPOCH 22 - PROGRESS: at 73.87% examples, 87893 words/s, in_qsize 5, out_qsize 0\n",
      "2021-03-25 17:20:02,817 : INFO : EPOCH 22 - PROGRESS: at 77.22% examples, 88109 words/s, in_qsize 5, out_qsize 0\n",
      "2021-03-25 17:20:03,870 : INFO : EPOCH 22 - PROGRESS: at 80.23% examples, 87856 words/s, in_qsize 5, out_qsize 0\n",
      "2021-03-25 17:20:05,031 : INFO : EPOCH 22 - PROGRESS: at 83.89% examples, 87906 words/s, in_qsize 5, out_qsize 0\n",
      "2021-03-25 17:20:06,201 : INFO : EPOCH 22 - PROGRESS: at 87.59% examples, 87921 words/s, in_qsize 5, out_qsize 0\n",
      "2021-03-25 17:20:07,359 : INFO : EPOCH 22 - PROGRESS: at 91.14% examples, 87987 words/s, in_qsize 6, out_qsize 0\n",
      "2021-03-25 17:20:08,508 : INFO : EPOCH 22 - PROGRESS: at 94.73% examples, 88057 words/s, in_qsize 5, out_qsize 0\n",
      "2021-03-25 17:20:09,693 : INFO : EPOCH 22 - PROGRESS: at 98.34% examples, 88033 words/s, in_qsize 5, out_qsize 0\n",
      "2021-03-25 17:20:09,991 : INFO : worker thread finished; awaiting finish of 2 more threads\n",
      "2021-03-25 17:20:10,006 : INFO : worker thread finished; awaiting finish of 1 more threads\n",
      "2021-03-25 17:20:10,143 : INFO : worker thread finished; awaiting finish of 0 more threads\n",
      "2021-03-25 17:20:10,143 : INFO : EPOCH - 22 : training on 3321621 raw words (2867499 effective words) took 32.5s, 88294 effective words/s\n",
      "2021-03-25 17:20:11,287 : INFO : EPOCH 23 - PROGRESS: at 3.08% examples, 75812 words/s, in_qsize 5, out_qsize 0\n",
      "2021-03-25 17:20:12,450 : INFO : EPOCH 23 - PROGRESS: at 6.69% examples, 82364 words/s, in_qsize 5, out_qsize 0\n",
      "2021-03-25 17:20:13,614 : INFO : EPOCH 23 - PROGRESS: at 10.27% examples, 84623 words/s, in_qsize 5, out_qsize 0\n",
      "2021-03-25 17:20:14,807 : INFO : EPOCH 23 - PROGRESS: at 13.86% examples, 85166 words/s, in_qsize 5, out_qsize 0\n",
      "2021-03-25 17:20:15,938 : INFO : EPOCH 23 - PROGRESS: at 17.52% examples, 86367 words/s, in_qsize 5, out_qsize 0\n",
      "2021-03-25 17:20:17,134 : INFO : EPOCH 23 - PROGRESS: at 21.11% examples, 86419 words/s, in_qsize 5, out_qsize 0\n",
      "2021-03-25 17:20:18,255 : INFO : EPOCH 23 - PROGRESS: at 24.74% examples, 87229 words/s, in_qsize 5, out_qsize 0\n",
      "2021-03-25 17:20:19,429 : INFO : EPOCH 23 - PROGRESS: at 28.31% examples, 87363 words/s, in_qsize 5, out_qsize 0\n",
      "2021-03-25 17:20:20,589 : INFO : EPOCH 23 - PROGRESS: at 31.87% examples, 87550 words/s, in_qsize 5, out_qsize 0\n",
      "2021-03-25 17:20:21,738 : INFO : EPOCH 23 - PROGRESS: at 35.51% examples, 87815 words/s, in_qsize 5, out_qsize 0\n",
      "2021-03-25 17:20:22,889 : INFO : EPOCH 23 - PROGRESS: at 39.07% examples, 88021 words/s, in_qsize 6, out_qsize 0\n",
      "2021-03-25 17:20:24,016 : INFO : EPOCH 23 - PROGRESS: at 42.69% examples, 88326 words/s, in_qsize 5, out_qsize 0\n",
      "2021-03-25 17:20:25,210 : INFO : EPOCH 23 - PROGRESS: at 46.29% examples, 88190 words/s, in_qsize 5, out_qsize 0\n",
      "2021-03-25 17:20:26,319 : INFO : EPOCH 23 - PROGRESS: at 49.95% examples, 88547 words/s, in_qsize 5, out_qsize 0\n",
      "2021-03-25 17:20:27,484 : INFO : EPOCH 23 - PROGRESS: at 53.56% examples, 88540 words/s, in_qsize 5, out_qsize 0\n",
      "2021-03-25 17:20:28,620 : INFO : EPOCH 23 - PROGRESS: at 57.15% examples, 88695 words/s, in_qsize 5, out_qsize 0\n",
      "2021-03-25 17:20:29,645 : INFO : EPOCH 23 - PROGRESS: at 60.13% examples, 88456 words/s, in_qsize 6, out_qsize 0\n",
      "2021-03-25 17:20:30,710 : INFO : EPOCH 23 - PROGRESS: at 62.83% examples, 87652 words/s, in_qsize 5, out_qsize 0\n",
      "2021-03-25 17:20:31,765 : INFO : EPOCH 23 - PROGRESS: at 64.29% examples, 85364 words/s, in_qsize 5, out_qsize 0\n",
      "2021-03-25 17:20:32,811 : INFO : EPOCH 23 - PROGRESS: at 66.33% examples, 84093 words/s, in_qsize 5, out_qsize 0\n",
      "2021-03-25 17:20:33,833 : INFO : EPOCH 23 - PROGRESS: at 69.31% examples, 84100 words/s, in_qsize 5, out_qsize 0\n",
      "2021-03-25 17:20:34,877 : INFO : EPOCH 23 - PROGRESS: at 72.66% examples, 84399 words/s, in_qsize 5, out_qsize 0\n",
      "2021-03-25 17:20:36,063 : INFO : EPOCH 23 - PROGRESS: at 76.04% examples, 84188 words/s, in_qsize 5, out_qsize 0\n",
      "2021-03-25 17:20:37,069 : INFO : EPOCH 23 - PROGRESS: at 79.35% examples, 84575 words/s, in_qsize 5, out_qsize 0\n",
      "2021-03-25 17:20:38,131 : INFO : EPOCH 23 - PROGRESS: at 82.67% examples, 84752 words/s, in_qsize 5, out_qsize 0\n",
      "2021-03-25 17:20:39,159 : INFO : EPOCH 23 - PROGRESS: at 85.09% examples, 84133 words/s, in_qsize 5, out_qsize 0\n",
      "2021-03-25 17:20:40,288 : INFO : EPOCH 23 - PROGRESS: at 88.48% examples, 84121 words/s, in_qsize 5, out_qsize 0\n",
      "2021-03-25 17:20:41,297 : INFO : EPOCH 23 - PROGRESS: at 91.44% examples, 84171 words/s, in_qsize 5, out_qsize 0\n",
      "2021-03-25 17:20:42,508 : INFO : EPOCH 23 - PROGRESS: at 94.73% examples, 83947 words/s, in_qsize 5, out_qsize 0\n",
      "2021-03-25 17:20:43,725 : INFO : EPOCH 23 - PROGRESS: at 98.34% examples, 83986 words/s, in_qsize 5, out_qsize 0\n",
      "2021-03-25 17:20:44,040 : INFO : worker thread finished; awaiting finish of 2 more threads\n",
      "2021-03-25 17:20:44,064 : INFO : worker thread finished; awaiting finish of 1 more threads\n",
      "2021-03-25 17:20:44,194 : INFO : worker thread finished; awaiting finish of 0 more threads\n",
      "2021-03-25 17:20:44,194 : INFO : EPOCH - 23 : training on 3321621 raw words (2868114 effective words) took 34.0s, 84245 effective words/s\n",
      "2021-03-25 17:20:45,351 : INFO : EPOCH 24 - PROGRESS: at 3.08% examples, 75015 words/s, in_qsize 5, out_qsize 0\n",
      "2021-03-25 17:20:46,508 : INFO : EPOCH 24 - PROGRESS: at 6.69% examples, 82106 words/s, in_qsize 5, out_qsize 0\n",
      "2021-03-25 17:20:47,518 : INFO : EPOCH 24 - PROGRESS: at 9.96% examples, 85694 words/s, in_qsize 5, out_qsize 0\n",
      "2021-03-25 17:20:48,678 : INFO : EPOCH 24 - PROGRESS: at 12.93% examples, 82776 words/s, in_qsize 5, out_qsize 0\n",
      "2021-03-25 17:20:49,850 : INFO : EPOCH 24 - PROGRESS: at 16.61% examples, 83899 words/s, in_qsize 6, out_qsize 0\n",
      "2021-03-25 17:20:51,007 : INFO : EPOCH 24 - PROGRESS: at 20.23% examples, 84817 words/s, in_qsize 5, out_qsize 0\n",
      "2021-03-25 17:20:52,154 : INFO : EPOCH 24 - PROGRESS: at 23.86% examples, 85605 words/s, in_qsize 5, out_qsize 0\n",
      "2021-03-25 17:20:53,186 : INFO : EPOCH 24 - PROGRESS: at 26.84% examples, 85364 words/s, in_qsize 6, out_qsize 0\n",
      "2021-03-25 17:20:54,267 : INFO : EPOCH 24 - PROGRESS: at 30.07% examples, 85621 words/s, in_qsize 5, out_qsize 0\n",
      "2021-03-25 17:20:55,334 : INFO : EPOCH 24 - PROGRESS: at 32.19% examples, 82849 words/s, in_qsize 6, out_qsize 0\n",
      "2021-03-25 17:20:56,353 : INFO : EPOCH 24 - PROGRESS: at 34.93% examples, 82299 words/s, in_qsize 5, out_qsize 0\n",
      "2021-03-25 17:20:57,498 : INFO : EPOCH 24 - PROGRESS: at 37.59% examples, 81062 words/s, in_qsize 5, out_qsize 0\n",
      "2021-03-25 17:20:58,663 : INFO : EPOCH 24 - PROGRESS: at 40.29% examples, 79910 words/s, in_qsize 5, out_qsize 0\n",
      "2021-03-25 17:21:00,214 : INFO : EPOCH 24 - PROGRESS: at 43.01% examples, 76999 words/s, in_qsize 5, out_qsize 0\n",
      "2021-03-25 17:21:01,592 : INFO : EPOCH 24 - PROGRESS: at 44.48% examples, 73373 words/s, in_qsize 5, out_qsize 0\n",
      "2021-03-25 17:21:02,666 : INFO : EPOCH 24 - PROGRESS: at 45.67% examples, 70978 words/s, in_qsize 5, out_qsize 0\n",
      "2021-03-25 17:21:03,927 : INFO : EPOCH 24 - PROGRESS: at 48.11% examples, 69936 words/s, in_qsize 5, out_qsize 0\n",
      "2021-03-25 17:21:05,017 : INFO : EPOCH 24 - PROGRESS: at 51.47% examples, 70816 words/s, in_qsize 5, out_qsize 0\n",
      "2021-03-25 17:21:06,215 : INFO : EPOCH 24 - PROGRESS: at 54.16% examples, 70478 words/s, in_qsize 5, out_qsize 0\n",
      "2021-03-25 17:21:07,223 : INFO : EPOCH 24 - PROGRESS: at 55.98% examples, 69637 words/s, in_qsize 5, out_qsize 0\n",
      "2021-03-25 17:21:08,288 : INFO : EPOCH 24 - PROGRESS: at 58.08% examples, 69068 words/s, in_qsize 5, out_qsize 0\n",
      "2021-03-25 17:21:09,382 : INFO : EPOCH 24 - PROGRESS: at 59.85% examples, 68122 words/s, in_qsize 5, out_qsize 0\n",
      "2021-03-25 17:21:10,449 : INFO : EPOCH 24 - PROGRESS: at 61.95% examples, 67649 words/s, in_qsize 5, out_qsize 0\n",
      "2021-03-25 17:21:11,484 : INFO : EPOCH 24 - PROGRESS: at 64.29% examples, 67617 words/s, in_qsize 5, out_qsize 0\n",
      "2021-03-25 17:21:12,524 : INFO : EPOCH 24 - PROGRESS: at 67.23% examples, 68190 words/s, in_qsize 6, out_qsize 0\n",
      "2021-03-25 17:21:13,586 : INFO : EPOCH 24 - PROGRESS: at 70.19% examples, 68655 words/s, in_qsize 5, out_qsize 0\n",
      "2021-03-25 17:21:14,680 : INFO : EPOCH 24 - PROGRESS: at 72.97% examples, 68744 words/s, in_qsize 5, out_qsize 0\n",
      "2021-03-25 17:21:15,891 : INFO : EPOCH 24 - PROGRESS: at 74.83% examples, 67742 words/s, in_qsize 5, out_qsize 0\n",
      "2021-03-25 17:21:16,925 : INFO : EPOCH 24 - PROGRESS: at 76.93% examples, 67444 words/s, in_qsize 5, out_qsize 0\n",
      "2021-03-25 17:21:17,971 : INFO : EPOCH 24 - PROGRESS: at 79.35% examples, 67402 words/s, in_qsize 5, out_qsize 0\n",
      "2021-03-25 17:21:19,123 : INFO : EPOCH 24 - PROGRESS: at 82.96% examples, 68135 words/s, in_qsize 5, out_qsize 0\n",
      "2021-03-25 17:21:20,351 : INFO : EPOCH 24 - PROGRESS: at 86.67% examples, 68676 words/s, in_qsize 5, out_qsize 0\n",
      "2021-03-25 17:21:21,585 : INFO : EPOCH 24 - PROGRESS: at 90.27% examples, 69183 words/s, in_qsize 5, out_qsize 0\n",
      "2021-03-25 17:21:22,759 : INFO : EPOCH 24 - PROGRESS: at 93.84% examples, 69757 words/s, in_qsize 5, out_qsize 0\n",
      "2021-03-25 17:21:23,761 : INFO : EPOCH 24 - PROGRESS: at 96.54% examples, 69949 words/s, in_qsize 5, out_qsize 0\n",
      "2021-03-25 17:21:24,665 : INFO : worker thread finished; awaiting finish of 2 more threads\n",
      "2021-03-25 17:21:24,693 : INFO : worker thread finished; awaiting finish of 1 more threads\n",
      "2021-03-25 17:21:24,854 : INFO : EPOCH 24 - PROGRESS: at 100.00% examples, 70531 words/s, in_qsize 0, out_qsize 1\n",
      "2021-03-25 17:21:24,854 : INFO : worker thread finished; awaiting finish of 0 more threads\n",
      "2021-03-25 17:21:24,855 : INFO : EPOCH - 24 : training on 3321621 raw words (2867247 effective words) took 40.7s, 70530 effective words/s\n",
      "2021-03-25 17:21:26,083 : INFO : EPOCH 25 - PROGRESS: at 3.08% examples, 71152 words/s, in_qsize 5, out_qsize 0\n",
      "2021-03-25 17:21:27,105 : INFO : EPOCH 25 - PROGRESS: at 6.09% examples, 77181 words/s, in_qsize 5, out_qsize 0\n",
      "2021-03-25 17:21:28,315 : INFO : EPOCH 25 - PROGRESS: at 9.34% examples, 77589 words/s, in_qsize 5, out_qsize 0\n",
      "2021-03-25 17:21:29,546 : INFO : EPOCH 25 - PROGRESS: at 12.96% examples, 79308 words/s, in_qsize 5, out_qsize 0\n",
      "2021-03-25 17:21:30,680 : INFO : EPOCH 25 - PROGRESS: at 16.61% examples, 81632 words/s, in_qsize 5, out_qsize 0\n",
      "2021-03-25 17:21:31,844 : INFO : EPOCH 25 - PROGRESS: at 20.23% examples, 82862 words/s, in_qsize 5, out_qsize 0\n",
      "2021-03-25 17:21:32,950 : INFO : EPOCH 25 - PROGRESS: at 23.86% examples, 84343 words/s, in_qsize 5, out_qsize 0\n",
      "2021-03-25 17:21:34,088 : INFO : EPOCH 25 - PROGRESS: at 27.43% examples, 85156 words/s, in_qsize 5, out_qsize 0\n",
      "2021-03-25 17:21:35,134 : INFO : EPOCH 25 - PROGRESS: at 30.35% examples, 84859 words/s, in_qsize 5, out_qsize 0\n",
      "2021-03-25 17:21:36,235 : INFO : EPOCH 25 - PROGRESS: at 34.05% examples, 85757 words/s, in_qsize 5, out_qsize 0\n",
      "2021-03-25 17:21:37,262 : INFO : EPOCH 25 - PROGRESS: at 37.27% examples, 86319 words/s, in_qsize 5, out_qsize 0\n",
      "2021-03-25 17:21:38,305 : INFO : EPOCH 25 - PROGRESS: at 40.29% examples, 86046 words/s, in_qsize 5, out_qsize 0\n",
      "2021-03-25 17:21:39,557 : INFO : EPOCH 25 - PROGRESS: at 42.69% examples, 83404 words/s, in_qsize 5, out_qsize 0\n",
      "2021-03-25 17:21:40,567 : INFO : EPOCH 25 - PROGRESS: at 44.78% examples, 81870 words/s, in_qsize 5, out_qsize 0\n",
      "2021-03-25 17:21:41,699 : INFO : EPOCH 25 - PROGRESS: at 48.13% examples, 81998 words/s, in_qsize 5, out_qsize 0\n",
      "2021-03-25 17:21:42,904 : INFO : EPOCH 25 - PROGRESS: at 50.85% examples, 80814 words/s, in_qsize 5, out_qsize 0\n",
      "2021-03-25 17:21:43,944 : INFO : EPOCH 25 - PROGRESS: at 54.16% examples, 81371 words/s, in_qsize 5, out_qsize 0\n",
      "2021-03-25 17:21:45,009 : INFO : EPOCH 25 - PROGRESS: at 57.15% examples, 81344 words/s, in_qsize 5, out_qsize 0\n",
      "2021-03-25 17:21:46,101 : INFO : EPOCH 25 - PROGRESS: at 60.70% examples, 82039 words/s, in_qsize 5, out_qsize 0\n",
      "2021-03-25 17:21:47,140 : INFO : EPOCH 25 - PROGRESS: at 64.01% examples, 82465 words/s, in_qsize 5, out_qsize 0\n",
      "2021-03-25 17:21:48,146 : INFO : EPOCH 25 - PROGRESS: at 67.23% examples, 82980 words/s, in_qsize 5, out_qsize 0\n",
      "2021-03-25 17:21:49,150 : INFO : EPOCH 25 - PROGRESS: at 70.19% examples, 83103 words/s, in_qsize 5, out_qsize 0\n",
      "2021-03-25 17:21:50,218 : INFO : EPOCH 25 - PROGRESS: at 73.87% examples, 83689 words/s, in_qsize 5, out_qsize 0\n",
      "2021-03-25 17:21:51,252 : INFO : EPOCH 25 - PROGRESS: at 76.93% examples, 83668 words/s, in_qsize 5, out_qsize 0\n",
      "2021-03-25 17:21:52,285 : INFO : EPOCH 25 - PROGRESS: at 80.23% examples, 83974 words/s, in_qsize 5, out_qsize 0\n",
      "2021-03-25 17:21:53,507 : INFO : EPOCH 25 - PROGRESS: at 83.89% examples, 84006 words/s, in_qsize 5, out_qsize 0\n",
      "2021-03-25 17:21:54,780 : INFO : EPOCH 25 - PROGRESS: at 87.59% examples, 83876 words/s, in_qsize 4, out_qsize 1\n",
      "2021-03-25 17:21:55,897 : INFO : EPOCH 25 - PROGRESS: at 90.27% examples, 83370 words/s, in_qsize 5, out_qsize 0\n",
      "2021-03-25 17:21:57,045 : INFO : EPOCH 25 - PROGRESS: at 93.84% examples, 83607 words/s, in_qsize 5, out_qsize 0\n",
      "2021-03-25 17:21:58,240 : INFO : EPOCH 25 - PROGRESS: at 97.44% examples, 83710 words/s, in_qsize 5, out_qsize 0\n",
      "2021-03-25 17:21:58,803 : INFO : worker thread finished; awaiting finish of 2 more threads\n",
      "2021-03-25 17:21:58,831 : INFO : worker thread finished; awaiting finish of 1 more threads\n",
      "2021-03-25 17:21:58,953 : INFO : worker thread finished; awaiting finish of 0 more threads\n",
      "2021-03-25 17:21:58,953 : INFO : EPOCH - 25 : training on 3321621 raw words (2867539 effective words) took 34.1s, 84135 effective words/s\n",
      "2021-03-25 17:22:00,189 : INFO : EPOCH 26 - PROGRESS: at 3.08% examples, 70251 words/s, in_qsize 5, out_qsize 0\n",
      "2021-03-25 17:22:01,363 : INFO : EPOCH 26 - PROGRESS: at 6.69% examples, 78955 words/s, in_qsize 5, out_qsize 0\n",
      "2021-03-25 17:22:02,457 : INFO : EPOCH 26 - PROGRESS: at 10.27% examples, 83874 words/s, in_qsize 5, out_qsize 0\n",
      "2021-03-25 17:22:03,622 : INFO : EPOCH 26 - PROGRESS: at 13.85% examples, 85092 words/s, in_qsize 5, out_qsize 0\n",
      "2021-03-25 17:22:04,708 : INFO : EPOCH 26 - PROGRESS: at 17.52% examples, 87010 words/s, in_qsize 5, out_qsize 0\n",
      "2021-03-25 17:22:05,792 : INFO : EPOCH 26 - PROGRESS: at 21.11% examples, 88335 words/s, in_qsize 5, out_qsize 0\n",
      "2021-03-25 17:22:06,862 : INFO : EPOCH 26 - PROGRESS: at 24.74% examples, 89463 words/s, in_qsize 5, out_qsize 0\n",
      "2021-03-25 17:22:08,014 : INFO : EPOCH 26 - PROGRESS: at 28.31% examples, 89524 words/s, in_qsize 5, out_qsize 0\n",
      "2021-03-25 17:22:09,138 : INFO : EPOCH 26 - PROGRESS: at 31.87% examples, 89793 words/s, in_qsize 5, out_qsize 0\n",
      "2021-03-25 17:22:10,223 : INFO : EPOCH 26 - PROGRESS: at 35.51% examples, 90336 words/s, in_qsize 5, out_qsize 0\n",
      "2021-03-25 17:22:11,230 : INFO : EPOCH 26 - PROGRESS: at 38.48% examples, 89973 words/s, in_qsize 5, out_qsize 0\n",
      "2021-03-25 17:22:12,295 : INFO : EPOCH 26 - PROGRESS: at 42.10% examples, 90544 words/s, in_qsize 5, out_qsize 0\n",
      "2021-03-25 17:22:13,345 : INFO : EPOCH 26 - PROGRESS: at 45.36% examples, 90525 words/s, in_qsize 5, out_qsize 0\n",
      "2021-03-25 17:22:14,469 : INFO : EPOCH 26 - PROGRESS: at 49.02% examples, 90641 words/s, in_qsize 5, out_qsize 0\n",
      "2021-03-25 17:22:15,595 : INFO : EPOCH 26 - PROGRESS: at 52.65% examples, 90716 words/s, in_qsize 5, out_qsize 0\n",
      "2021-03-25 17:22:16,770 : INFO : EPOCH 26 - PROGRESS: at 56.27% examples, 90528 words/s, in_qsize 5, out_qsize 0\n",
      "2021-03-25 17:22:17,775 : INFO : EPOCH 26 - PROGRESS: at 59.55% examples, 90737 words/s, in_qsize 5, out_qsize 0\n",
      "2021-03-25 17:22:18,805 : INFO : EPOCH 26 - PROGRESS: at 62.83% examples, 90806 words/s, in_qsize 5, out_qsize 0\n",
      "2021-03-25 17:22:19,817 : INFO : EPOCH 26 - PROGRESS: at 65.75% examples, 90535 words/s, in_qsize 5, out_qsize 0\n",
      "2021-03-25 17:22:20,962 : INFO : EPOCH 26 - PROGRESS: at 69.31% examples, 90531 words/s, in_qsize 5, out_qsize 0\n",
      "2021-03-25 17:22:22,056 : INFO : EPOCH 26 - PROGRESS: at 72.97% examples, 90724 words/s, in_qsize 5, out_qsize 0\n",
      "2021-03-25 17:22:23,069 : INFO : EPOCH 26 - PROGRESS: at 76.33% examples, 90833 words/s, in_qsize 5, out_qsize 0\n",
      "2021-03-25 17:22:24,070 : INFO : EPOCH 26 - PROGRESS: at 79.35% examples, 90650 words/s, in_qsize 5, out_qsize 0\n",
      "2021-03-25 17:22:25,305 : INFO : EPOCH 26 - PROGRESS: at 82.96% examples, 90324 words/s, in_qsize 5, out_qsize 0\n",
      "2021-03-25 17:22:26,415 : INFO : EPOCH 26 - PROGRESS: at 86.67% examples, 90422 words/s, in_qsize 5, out_qsize 0\n",
      "2021-03-25 17:22:27,578 : INFO : EPOCH 26 - PROGRESS: at 90.27% examples, 90373 words/s, in_qsize 5, out_qsize 0\n",
      "2021-03-25 17:22:28,725 : INFO : EPOCH 26 - PROGRESS: at 93.84% examples, 90364 words/s, in_qsize 5, out_qsize 0\n",
      "2021-03-25 17:22:29,904 : INFO : EPOCH 26 - PROGRESS: at 97.42% examples, 90262 words/s, in_qsize 5, out_qsize 0\n",
      "2021-03-25 17:22:30,527 : INFO : worker thread finished; awaiting finish of 2 more threads\n",
      "2021-03-25 17:22:30,561 : INFO : worker thread finished; awaiting finish of 1 more threads\n",
      "2021-03-25 17:22:30,673 : INFO : worker thread finished; awaiting finish of 0 more threads\n",
      "2021-03-25 17:22:30,673 : INFO : EPOCH - 26 : training on 3321621 raw words (2866935 effective words) took 31.7s, 90407 effective words/s\n",
      "2021-03-25 17:22:31,838 : INFO : EPOCH 27 - PROGRESS: at 3.08% examples, 74307 words/s, in_qsize 5, out_qsize 0\n",
      "2021-03-25 17:22:33,043 : INFO : EPOCH 27 - PROGRESS: at 6.69% examples, 80147 words/s, in_qsize 5, out_qsize 0\n",
      "2021-03-25 17:22:34,169 : INFO : EPOCH 27 - PROGRESS: at 10.27% examples, 83934 words/s, in_qsize 5, out_qsize 0\n",
      "2021-03-25 17:22:35,350 : INFO : EPOCH 27 - PROGRESS: at 12.93% examples, 79330 words/s, in_qsize 5, out_qsize 0\n",
      "2021-03-25 17:22:36,444 : INFO : EPOCH 27 - PROGRESS: at 15.68% examples, 77715 words/s, in_qsize 5, out_qsize 0\n",
      "2021-03-25 17:22:37,841 : INFO : EPOCH 27 - PROGRESS: at 18.42% examples, 73370 words/s, in_qsize 5, out_qsize 0\n",
      "2021-03-25 17:22:38,872 : INFO : EPOCH 27 - PROGRESS: at 20.23% examples, 70447 words/s, in_qsize 5, out_qsize 0\n",
      "2021-03-25 17:22:40,424 : INFO : EPOCH 27 - PROGRESS: at 22.93% examples, 67190 words/s, in_qsize 5, out_qsize 0\n",
      "2021-03-25 17:22:41,537 : INFO : EPOCH 27 - PROGRESS: at 25.63% examples, 67432 words/s, in_qsize 5, out_qsize 0\n",
      "2021-03-25 17:22:42,557 : INFO : EPOCH 27 - PROGRESS: at 28.31% examples, 68196 words/s, in_qsize 5, out_qsize 0\n",
      "2021-03-25 17:22:43,575 : INFO : EPOCH 27 - PROGRESS: at 31.29% examples, 69488 words/s, in_qsize 5, out_qsize 0\n",
      "2021-03-25 17:22:44,589 : INFO : EPOCH 27 - PROGRESS: at 34.63% examples, 71236 words/s, in_qsize 5, out_qsize 0\n",
      "2021-03-25 17:22:45,597 : INFO : EPOCH 27 - PROGRESS: at 37.89% examples, 72807 words/s, in_qsize 5, out_qsize 0\n",
      "2021-03-25 17:22:46,656 : INFO : EPOCH 27 - PROGRESS: at 40.89% examples, 73379 words/s, in_qsize 5, out_qsize 0\n",
      "2021-03-25 17:22:47,860 : INFO : EPOCH 27 - PROGRESS: at 44.48% examples, 74256 words/s, in_qsize 5, out_qsize 0\n",
      "2021-03-25 17:22:49,089 : INFO : EPOCH 27 - PROGRESS: at 48.11% examples, 74935 words/s, in_qsize 5, out_qsize 0\n",
      "2021-03-25 17:22:50,292 : INFO : EPOCH 27 - PROGRESS: at 51.76% examples, 75608 words/s, in_qsize 5, out_qsize 0\n",
      "2021-03-25 17:22:51,432 : INFO : EPOCH 27 - PROGRESS: at 55.37% examples, 76458 words/s, in_qsize 6, out_qsize 0\n",
      "2021-03-25 17:22:52,469 : INFO : EPOCH 27 - PROGRESS: at 57.76% examples, 75990 words/s, in_qsize 5, out_qsize 0\n",
      "2021-03-25 17:22:53,522 : INFO : EPOCH 27 - PROGRESS: at 59.85% examples, 75138 words/s, in_qsize 5, out_qsize 0\n",
      "2021-03-25 17:22:54,966 : INFO : EPOCH 27 - PROGRESS: at 61.63% examples, 72809 words/s, in_qsize 5, out_qsize 0\n",
      "2021-03-25 17:22:56,024 : INFO : EPOCH 27 - PROGRESS: at 63.13% examples, 71479 words/s, in_qsize 5, out_qsize 0\n",
      "2021-03-25 17:22:57,303 : INFO : EPOCH 27 - PROGRESS: at 65.75% examples, 70970 words/s, in_qsize 6, out_qsize 0\n",
      "2021-03-25 17:22:58,600 : INFO : EPOCH 27 - PROGRESS: at 67.54% examples, 69538 words/s, in_qsize 5, out_qsize 0\n",
      "2021-03-25 17:22:59,810 : INFO : EPOCH 27 - PROGRESS: at 70.19% examples, 69321 words/s, in_qsize 6, out_qsize 0\n",
      "2021-03-25 17:23:00,910 : INFO : EPOCH 27 - PROGRESS: at 72.03% examples, 68515 words/s, in_qsize 5, out_qsize 0\n",
      "2021-03-25 17:23:02,031 : INFO : EPOCH 27 - PROGRESS: at 74.83% examples, 68543 words/s, in_qsize 5, out_qsize 0\n",
      "2021-03-25 17:23:03,104 : INFO : EPOCH 27 - PROGRESS: at 77.22% examples, 68405 words/s, in_qsize 5, out_qsize 0\n",
      "2021-03-25 17:23:04,208 : INFO : EPOCH 27 - PROGRESS: at 78.44% examples, 67187 words/s, in_qsize 6, out_qsize 0\n",
      "2021-03-25 17:23:05,454 : INFO : EPOCH 27 - PROGRESS: at 80.23% examples, 66265 words/s, in_qsize 5, out_qsize 0\n",
      "2021-03-25 17:23:07,071 : INFO : EPOCH 27 - PROGRESS: at 82.07% examples, 64743 words/s, in_qsize 5, out_qsize 0\n",
      "2021-03-25 17:23:08,356 : INFO : EPOCH 27 - PROGRESS: at 82.96% examples, 63222 words/s, in_qsize 6, out_qsize 0\n",
      "2021-03-25 17:23:09,500 : INFO : EPOCH 27 - PROGRESS: at 84.78% examples, 62695 words/s, in_qsize 5, out_qsize 0\n",
      "2021-03-25 17:23:10,800 : INFO : EPOCH 27 - PROGRESS: at 88.48% examples, 63241 words/s, in_qsize 5, out_qsize 0\n",
      "2021-03-25 17:23:12,046 : INFO : EPOCH 27 - PROGRESS: at 91.14% examples, 63221 words/s, in_qsize 5, out_qsize 0\n",
      "2021-03-25 17:23:13,085 : INFO : EPOCH 27 - PROGRESS: at 94.14% examples, 63701 words/s, in_qsize 5, out_qsize 0\n",
      "2021-03-25 17:23:14,306 : INFO : EPOCH 27 - PROGRESS: at 97.44% examples, 64094 words/s, in_qsize 5, out_qsize 0\n",
      "2021-03-25 17:23:14,911 : INFO : worker thread finished; awaiting finish of 2 more threads\n",
      "2021-03-25 17:23:15,001 : INFO : worker thread finished; awaiting finish of 1 more threads\n",
      "2021-03-25 17:23:15,097 : INFO : worker thread finished; awaiting finish of 0 more threads\n",
      "2021-03-25 17:23:15,097 : INFO : EPOCH - 27 : training on 3321621 raw words (2867965 effective words) took 44.4s, 64625 effective words/s\n",
      "2021-03-25 17:23:16,237 : INFO : EPOCH 28 - PROGRESS: at 3.08% examples, 76192 words/s, in_qsize 5, out_qsize 0\n",
      "2021-03-25 17:23:17,491 : INFO : EPOCH 28 - PROGRESS: at 6.69% examples, 79564 words/s, in_qsize 5, out_qsize 0\n",
      "2021-03-25 17:23:18,502 : INFO : EPOCH 28 - PROGRESS: at 9.34% examples, 78722 words/s, in_qsize 5, out_qsize 0\n",
      "2021-03-25 17:23:19,520 : INFO : EPOCH 28 - PROGRESS: at 11.47% examples, 74242 words/s, in_qsize 5, out_qsize 0\n",
      "2021-03-25 17:23:20,539 : INFO : EPOCH 28 - PROGRESS: at 13.24% examples, 69837 words/s, in_qsize 5, out_qsize 0\n",
      "2021-03-25 17:23:21,852 : INFO : EPOCH 28 - PROGRESS: at 15.68% examples, 66455 words/s, in_qsize 5, out_qsize 0\n",
      "2021-03-25 17:23:23,045 : INFO : EPOCH 28 - PROGRESS: at 19.32% examples, 69510 words/s, in_qsize 5, out_qsize 0\n",
      "2021-03-25 17:23:24,165 : INFO : EPOCH 28 - PROGRESS: at 22.93% examples, 72356 words/s, in_qsize 5, out_qsize 0\n",
      "2021-03-25 17:23:25,173 : INFO : EPOCH 28 - PROGRESS: at 25.32% examples, 71947 words/s, in_qsize 5, out_qsize 0\n",
      "2021-03-25 17:23:26,244 : INFO : EPOCH 28 - PROGRESS: at 27.43% examples, 70451 words/s, in_qsize 5, out_qsize 0\n",
      "2021-03-25 17:23:27,296 : INFO : EPOCH 28 - PROGRESS: at 30.35% examples, 71445 words/s, in_qsize 5, out_qsize 0\n",
      "2021-03-25 17:23:28,351 : INFO : EPOCH 28 - PROGRESS: at 33.75% examples, 72924 words/s, in_qsize 5, out_qsize 0\n",
      "2021-03-25 17:23:29,351 : INFO : EPOCH 28 - PROGRESS: at 36.40% examples, 73269 words/s, in_qsize 5, out_qsize 0\n",
      "2021-03-25 17:23:30,447 : INFO : EPOCH 28 - PROGRESS: at 39.38% examples, 73673 words/s, in_qsize 5, out_qsize 0\n",
      "2021-03-25 17:23:31,540 : INFO : EPOCH 28 - PROGRESS: at 42.10% examples, 73499 words/s, in_qsize 5, out_qsize 0\n",
      "2021-03-25 17:23:32,593 : INFO : EPOCH 28 - PROGRESS: at 45.36% examples, 74503 words/s, in_qsize 5, out_qsize 0\n",
      "2021-03-25 17:23:33,772 : INFO : EPOCH 28 - PROGRESS: at 49.02% examples, 75342 words/s, in_qsize 5, out_qsize 0\n",
      "2021-03-25 17:23:35,013 : INFO : EPOCH 28 - PROGRESS: at 52.65% examples, 75828 words/s, in_qsize 5, out_qsize 0\n",
      "2021-03-25 17:23:36,025 : INFO : EPOCH 28 - PROGRESS: at 55.66% examples, 76276 words/s, in_qsize 6, out_qsize 0\n",
      "2021-03-25 17:23:37,145 : INFO : EPOCH 28 - PROGRESS: at 58.98% examples, 76702 words/s, in_qsize 6, out_qsize 0\n",
      "2021-03-25 17:23:38,168 : INFO : EPOCH 28 - PROGRESS: at 62.23% examples, 77421 words/s, in_qsize 5, out_qsize 0\n",
      "2021-03-25 17:23:39,172 : INFO : EPOCH 28 - PROGRESS: at 65.17% examples, 77774 words/s, in_qsize 5, out_qsize 0\n",
      "2021-03-25 17:23:40,221 : INFO : EPOCH 28 - PROGRESS: at 68.46% examples, 78304 words/s, in_qsize 5, out_qsize 0\n",
      "2021-03-25 17:23:41,267 : INFO : EPOCH 28 - PROGRESS: at 71.73% examples, 78801 words/s, in_qsize 6, out_qsize 0\n",
      "2021-03-25 17:23:42,387 : INFO : EPOCH 28 - PROGRESS: at 75.12% examples, 79041 words/s, in_qsize 5, out_qsize 0\n",
      "2021-03-25 17:23:43,534 : INFO : EPOCH 28 - PROGRESS: at 78.44% examples, 79196 words/s, in_qsize 5, out_qsize 0\n",
      "2021-03-25 17:23:44,724 : INFO : EPOCH 28 - PROGRESS: at 82.07% examples, 79506 words/s, in_qsize 5, out_qsize 0\n",
      "2021-03-25 17:23:45,889 : INFO : EPOCH 28 - PROGRESS: at 85.72% examples, 79857 words/s, in_qsize 5, out_qsize 0\n",
      "2021-03-25 17:23:47,121 : INFO : EPOCH 28 - PROGRESS: at 89.35% examples, 80017 words/s, in_qsize 5, out_qsize 0\n",
      "2021-03-25 17:23:48,273 : INFO : EPOCH 28 - PROGRESS: at 92.94% examples, 80357 words/s, in_qsize 5, out_qsize 0\n",
      "2021-03-25 17:23:49,435 : INFO : EPOCH 28 - PROGRESS: at 96.54% examples, 80647 words/s, in_qsize 6, out_qsize 0\n",
      "2021-03-25 17:23:50,333 : INFO : worker thread finished; awaiting finish of 2 more threads\n",
      "2021-03-25 17:23:50,349 : INFO : worker thread finished; awaiting finish of 1 more threads\n",
      "2021-03-25 17:23:50,477 : INFO : EPOCH 28 - PROGRESS: at 100.00% examples, 81101 words/s, in_qsize 0, out_qsize 1\n",
      "2021-03-25 17:23:50,478 : INFO : worker thread finished; awaiting finish of 0 more threads\n",
      "2021-03-25 17:23:50,478 : INFO : EPOCH - 28 : training on 3321621 raw words (2867875 effective words) took 35.4s, 81098 effective words/s\n",
      "2021-03-25 17:23:51,623 : INFO : EPOCH 29 - PROGRESS: at 3.08% examples, 75804 words/s, in_qsize 5, out_qsize 0\n",
      "2021-03-25 17:23:52,639 : INFO : EPOCH 29 - PROGRESS: at 6.39% examples, 84014 words/s, in_qsize 5, out_qsize 0\n",
      "2021-03-25 17:23:53,757 : INFO : EPOCH 29 - PROGRESS: at 9.34% examples, 81644 words/s, in_qsize 5, out_qsize 0\n",
      "2021-03-25 17:23:54,992 : INFO : EPOCH 29 - PROGRESS: at 12.93% examples, 82233 words/s, in_qsize 5, out_qsize 0\n",
      "2021-03-25 17:23:56,135 : INFO : EPOCH 29 - PROGRESS: at 15.67% examples, 79330 words/s, in_qsize 5, out_qsize 0\n",
      "2021-03-25 17:23:57,217 : INFO : EPOCH 29 - PROGRESS: at 19.32% examples, 81923 words/s, in_qsize 5, out_qsize 0\n",
      "2021-03-25 17:23:58,321 : INFO : EPOCH 29 - PROGRESS: at 22.93% examples, 83600 words/s, in_qsize 5, out_qsize 0\n",
      "2021-03-25 17:23:59,425 : INFO : EPOCH 29 - PROGRESS: at 26.54% examples, 84827 words/s, in_qsize 5, out_qsize 0\n",
      "2021-03-25 17:24:00,581 : INFO : EPOCH 29 - PROGRESS: at 30.07% examples, 85391 words/s, in_qsize 5, out_qsize 0\n",
      "2021-03-25 17:24:01,656 : INFO : EPOCH 29 - PROGRESS: at 33.75% examples, 86442 words/s, in_qsize 5, out_qsize 0\n",
      "2021-03-25 17:24:02,668 : INFO : EPOCH 29 - PROGRESS: at 36.69% examples, 86374 words/s, in_qsize 5, out_qsize 0\n",
      "2021-03-25 17:24:03,849 : INFO : EPOCH 29 - PROGRESS: at 39.98% examples, 85845 words/s, in_qsize 5, out_qsize 0\n",
      "2021-03-25 17:24:04,963 : INFO : EPOCH 29 - PROGRESS: at 42.69% examples, 84598 words/s, in_qsize 5, out_qsize 0\n",
      "2021-03-25 17:24:06,041 : INFO : EPOCH 29 - PROGRESS: at 45.36% examples, 83722 words/s, in_qsize 5, out_qsize 0\n",
      "2021-03-25 17:24:07,294 : INFO : EPOCH 29 - PROGRESS: at 48.11% examples, 82100 words/s, in_qsize 5, out_qsize 0\n",
      "2021-03-25 17:24:08,477 : INFO : EPOCH 29 - PROGRESS: at 51.76% examples, 82437 words/s, in_qsize 5, out_qsize 0\n",
      "2021-03-25 17:24:09,645 : INFO : EPOCH 29 - PROGRESS: at 55.37% examples, 82809 words/s, in_qsize 5, out_qsize 0\n",
      "2021-03-25 17:24:10,681 : INFO : EPOCH 29 - PROGRESS: at 58.08% examples, 82401 words/s, in_qsize 5, out_qsize 0\n",
      "2021-03-25 17:24:11,874 : INFO : EPOCH 29 - PROGRESS: at 61.64% examples, 82644 words/s, in_qsize 5, out_qsize 0\n",
      "2021-03-25 17:24:12,928 : INFO : EPOCH 29 - PROGRESS: at 64.89% examples, 82994 words/s, in_qsize 5, out_qsize 0\n",
      "2021-03-25 17:24:13,943 : INFO : EPOCH 29 - PROGRESS: at 68.16% examples, 83451 words/s, in_qsize 5, out_qsize 0\n",
      "2021-03-25 17:24:15,093 : INFO : EPOCH 29 - PROGRESS: at 71.14% examples, 83056 words/s, in_qsize 6, out_qsize 0\n",
      "2021-03-25 17:24:16,108 : INFO : EPOCH 29 - PROGRESS: at 73.87% examples, 82800 words/s, in_qsize 5, out_qsize 0\n",
      "2021-03-25 17:24:17,144 : INFO : EPOCH 29 - PROGRESS: at 77.22% examples, 83131 words/s, in_qsize 5, out_qsize 0\n",
      "2021-03-25 17:24:18,213 : INFO : EPOCH 29 - PROGRESS: at 80.23% examples, 83036 words/s, in_qsize 5, out_qsize 0\n",
      "2021-03-25 17:24:19,376 : INFO : EPOCH 29 - PROGRESS: at 83.89% examples, 83269 words/s, in_qsize 5, out_qsize 0\n",
      "2021-03-25 17:24:20,482 : INFO : EPOCH 29 - PROGRESS: at 86.64% examples, 82780 words/s, in_qsize 5, out_qsize 0\n",
      "2021-03-25 17:24:21,829 : INFO : EPOCH 29 - PROGRESS: at 89.35% examples, 81699 words/s, in_qsize 5, out_qsize 0\n",
      "2021-03-25 17:24:23,348 : INFO : EPOCH 29 - PROGRESS: at 92.07% examples, 80284 words/s, in_qsize 5, out_qsize 0\n",
      "2021-03-25 17:24:24,380 : INFO : EPOCH 29 - PROGRESS: at 94.14% examples, 79620 words/s, in_qsize 5, out_qsize 0\n",
      "2021-03-25 17:24:25,446 : INFO : EPOCH 29 - PROGRESS: at 96.54% examples, 79161 words/s, in_qsize 5, out_qsize 0\n",
      "2021-03-25 17:24:26,447 : INFO : EPOCH 29 - PROGRESS: at 98.93% examples, 78875 words/s, in_qsize 4, out_qsize 0\n",
      "2021-03-25 17:24:26,671 : INFO : worker thread finished; awaiting finish of 2 more threads\n",
      "2021-03-25 17:24:26,717 : INFO : worker thread finished; awaiting finish of 1 more threads\n",
      "2021-03-25 17:24:26,832 : INFO : worker thread finished; awaiting finish of 0 more threads\n",
      "2021-03-25 17:24:26,832 : INFO : EPOCH - 29 : training on 3321621 raw words (2867537 effective words) took 36.3s, 78892 effective words/s\n",
      "2021-03-25 17:24:28,119 : INFO : EPOCH 30 - PROGRESS: at 3.08% examples, 67537 words/s, in_qsize 5, out_qsize 0\n",
      "2021-03-25 17:24:29,308 : INFO : EPOCH 30 - PROGRESS: at 5.79% examples, 66441 words/s, in_qsize 6, out_qsize 0\n",
      "2021-03-25 17:24:30,433 : INFO : EPOCH 30 - PROGRESS: at 8.41% examples, 67291 words/s, in_qsize 5, out_qsize 0\n",
      "2021-03-25 17:24:31,555 : INFO : EPOCH 30 - PROGRESS: at 11.18% examples, 67739 words/s, in_qsize 5, out_qsize 0\n",
      "2021-03-25 17:24:32,752 : INFO : EPOCH 30 - PROGRESS: at 14.77% examples, 71523 words/s, in_qsize 5, out_qsize 0\n",
      "2021-03-25 17:24:33,867 : INFO : EPOCH 30 - PROGRESS: at 18.41% examples, 74886 words/s, in_qsize 5, out_qsize 0\n",
      "2021-03-25 17:24:34,991 : INFO : EPOCH 30 - PROGRESS: at 22.01% examples, 77270 words/s, in_qsize 6, out_qsize 0\n",
      "2021-03-25 17:24:36,004 : INFO : EPOCH 30 - PROGRESS: at 24.74% examples, 77169 words/s, in_qsize 6, out_qsize 0\n",
      "2021-03-25 17:24:37,114 : INFO : EPOCH 30 - PROGRESS: at 27.72% examples, 77259 words/s, in_qsize 5, out_qsize 0\n",
      "2021-03-25 17:24:38,161 : INFO : EPOCH 30 - PROGRESS: at 30.97% examples, 78494 words/s, in_qsize 6, out_qsize 0\n",
      "2021-03-25 17:24:39,336 : INFO : EPOCH 30 - PROGRESS: at 34.03% examples, 77995 words/s, in_qsize 5, out_qsize 0\n",
      "2021-03-25 17:24:40,338 : INFO : EPOCH 30 - PROGRESS: at 37.27% examples, 79254 words/s, in_qsize 5, out_qsize 0\n",
      "2021-03-25 17:24:41,470 : INFO : EPOCH 30 - PROGRESS: at 40.29% examples, 79041 words/s, in_qsize 6, out_qsize 0\n",
      "2021-03-25 17:24:42,479 : INFO : EPOCH 30 - PROGRESS: at 43.01% examples, 78881 words/s, in_qsize 5, out_qsize 0\n",
      "2021-03-25 17:24:43,552 : INFO : EPOCH 30 - PROGRESS: at 45.97% examples, 78973 words/s, in_qsize 5, out_qsize 0\n",
      "2021-03-25 17:24:44,629 : INFO : EPOCH 30 - PROGRESS: at 49.02% examples, 79041 words/s, in_qsize 5, out_qsize 0\n",
      "2021-03-25 17:24:45,721 : INFO : EPOCH 30 - PROGRESS: at 52.05% examples, 79025 words/s, in_qsize 5, out_qsize 0\n",
      "2021-03-25 17:24:46,863 : INFO : EPOCH 30 - PROGRESS: at 54.47% examples, 77961 words/s, in_qsize 5, out_qsize 0\n",
      "2021-03-25 17:24:47,985 : INFO : EPOCH 30 - PROGRESS: at 56.57% examples, 76674 words/s, in_qsize 5, out_qsize 0\n",
      "2021-03-25 17:24:49,049 : INFO : EPOCH 30 - PROGRESS: at 58.68% examples, 75718 words/s, in_qsize 5, out_qsize 0\n",
      "2021-03-25 17:24:50,130 : INFO : EPOCH 30 - PROGRESS: at 60.70% examples, 74803 words/s, in_qsize 5, out_qsize 0\n",
      "2021-03-25 17:24:51,224 : INFO : EPOCH 30 - PROGRESS: at 62.83% examples, 73922 words/s, in_qsize 5, out_qsize 0\n",
      "2021-03-25 17:24:52,276 : INFO : EPOCH 30 - PROGRESS: at 65.17% examples, 73575 words/s, in_qsize 5, out_qsize 0\n",
      "2021-03-25 17:24:53,285 : INFO : EPOCH 30 - PROGRESS: at 68.16% examples, 74028 words/s, in_qsize 5, out_qsize 0\n",
      "2021-03-25 17:24:54,403 : INFO : EPOCH 30 - PROGRESS: at 71.14% examples, 74159 words/s, in_qsize 5, out_qsize 0\n",
      "2021-03-25 17:24:55,535 : INFO : EPOCH 30 - PROGRESS: at 72.97% examples, 73041 words/s, in_qsize 6, out_qsize 0\n",
      "2021-03-25 17:24:56,685 : INFO : EPOCH 30 - PROGRESS: at 75.43% examples, 72526 words/s, in_qsize 5, out_qsize 0\n",
      "2021-03-25 17:24:57,838 : INFO : EPOCH 30 - PROGRESS: at 78.15% examples, 72338 words/s, in_qsize 5, out_qsize 0\n",
      "2021-03-25 17:24:58,898 : INFO : EPOCH 30 - PROGRESS: at 79.93% examples, 71556 words/s, in_qsize 5, out_qsize 0\n",
      "2021-03-25 17:24:59,958 : INFO : EPOCH 30 - PROGRESS: at 82.07% examples, 71086 words/s, in_qsize 6, out_qsize 0\n",
      "2021-03-25 17:25:01,001 : INFO : EPOCH 30 - PROGRESS: at 84.78% examples, 71191 words/s, in_qsize 5, out_qsize 0\n",
      "2021-03-25 17:25:02,178 : INFO : EPOCH 30 - PROGRESS: at 88.48% examples, 71741 words/s, in_qsize 5, out_qsize 0\n",
      "2021-03-25 17:25:03,374 : INFO : EPOCH 30 - PROGRESS: at 92.07% examples, 72221 words/s, in_qsize 5, out_qsize 0\n",
      "2021-03-25 17:25:04,440 : INFO : EPOCH 30 - PROGRESS: at 95.36% examples, 72687 words/s, in_qsize 5, out_qsize 0\n",
      "2021-03-25 17:25:05,643 : INFO : EPOCH 30 - PROGRESS: at 98.35% examples, 72654 words/s, in_qsize 5, out_qsize 0\n",
      "2021-03-25 17:25:06,023 : INFO : worker thread finished; awaiting finish of 2 more threads\n",
      "2021-03-25 17:25:06,080 : INFO : worker thread finished; awaiting finish of 1 more threads\n",
      "2021-03-25 17:25:06,193 : INFO : worker thread finished; awaiting finish of 0 more threads\n",
      "2021-03-25 17:25:06,193 : INFO : EPOCH - 30 : training on 3321621 raw words (2867224 effective words) took 39.4s, 72864 effective words/s\n",
      "2021-03-25 17:25:06,194 : INFO : training on a 99648630 raw words (86032551 effective words) took 1233.1s, 69771 effective words/s\n"
     ]
    }
   ],
   "source": [
    "wine2vec.train()"
   ],
   "metadata": {
    "collapsed": false,
    "pycharm": {
     "name": "#%%\n"
    }
   }
  },
  {
   "cell_type": "markdown",
   "source": [
    "### Salvando o modelo"
   ],
   "metadata": {
    "collapsed": false,
    "pycharm": {
     "name": "#%% md\n"
    }
   }
  },
  {
   "cell_type": "code",
   "execution_count": 41,
   "outputs": [
    {
     "name": "stderr",
     "output_type": "stream",
     "text": [
      "2021-03-25 17:26:37,702 : INFO : saving Word2Vec object under wine2vec_pretrained/wine2vec_model_i30_mc1_s300_w80, separately None\n",
      "2021-03-25 17:26:37,717 : INFO : not storing attribute vectors_norm\n",
      "2021-03-25 17:26:37,729 : INFO : not storing attribute cum_table\n",
      "2021-03-25 17:26:40,799 : INFO : saved wine2vec_pretrained/wine2vec_model_i30_mc1_s300_w80\n"
     ]
    }
   ],
   "source": [
    "wine2vec.save(file_path)"
   ],
   "metadata": {
    "collapsed": false,
    "pycharm": {
     "name": "#%%\n"
    }
   }
  },
  {
   "cell_type": "markdown",
   "source": [
    "### Carregando o modelo"
   ],
   "metadata": {
    "collapsed": false
   }
  },
  {
   "cell_type": "code",
   "execution_count": 88,
   "outputs": [
    {
     "name": "stderr",
     "output_type": "stream",
     "text": [
      "2021-03-25 20:17:01,720 : INFO : loading Word2Vec object from wine2vec_pretrained/wine2vec_model_i30_mc1_s300_w80\n",
      "2021-03-25 20:17:03,264 : INFO : loading wv recursively from wine2vec_pretrained/wine2vec_model_i30_mc1_s300_w80.wv.* with mmap=None\n",
      "2021-03-25 20:17:03,271 : INFO : setting ignored attribute vectors_norm to None\n",
      "2021-03-25 20:17:03,271 : INFO : loading vocabulary recursively from wine2vec_pretrained/wine2vec_model_i30_mc1_s300_w80.vocabulary.* with mmap=None\n",
      "2021-03-25 20:17:03,272 : INFO : loading trainables recursively from wine2vec_pretrained/wine2vec_model_i30_mc1_s300_w80.trainables.* with mmap=None\n",
      "2021-03-25 20:17:03,272 : INFO : setting ignored attribute cum_table to None\n",
      "2021-03-25 20:17:03,273 : INFO : loaded wine2vec_pretrained/wine2vec_model_i30_mc1_s300_w80\n"
     ]
    }
   ],
   "source": [
    "wine2vec.load(file_path)"
   ],
   "metadata": {
    "collapsed": false,
    "pycharm": {
     "name": "#%%\n"
    }
   }
  },
  {
   "cell_type": "markdown",
   "source": [
    "### Vendo o funcionamento do modelo"
   ],
   "metadata": {
    "collapsed": false
   }
  },
  {
   "cell_type": "code",
   "execution_count": 89,
   "outputs": [
    {
     "name": "stderr",
     "output_type": "stream",
     "text": [
      "2021-03-25 20:17:08,666 : INFO : precomputing L2-norms of word weight vectors\n"
     ]
    },
    {
     "data": {
      "text/plain": "[('palate', 0.6787787675857544),\n ('notes', 0.6084168553352356),\n ('scents', 0.5799988508224487),\n ('finish', 0.5651005506515503),\n ('nose', 0.561394453048706),\n ('lead', 0.5575189590454102),\n ('flavors', 0.541110634803772),\n ('offers', 0.5409454107284546),\n ('herbs', 0.517071008682251),\n ('closes', 0.5008352994918823)]"
     },
     "execution_count": 89,
     "metadata": {},
     "output_type": "execute_result"
    }
   ],
   "source": [
    "wine2vec.most_similar('aromas')"
   ],
   "metadata": {
    "collapsed": false,
    "pycharm": {
     "name": "#%%\n"
    }
   }
  },
  {
   "cell_type": "code",
   "execution_count": 90,
   "outputs": [
    {
     "data": {
      "text/plain": "0.74055004"
     },
     "execution_count": 90,
     "metadata": {},
     "output_type": "execute_result"
    }
   ],
   "source": [
    "wine2vec.similarity('apple', 'citrus')"
   ],
   "metadata": {
    "collapsed": false,
    "pycharm": {
     "name": "#%%\n"
    }
   }
  },
  {
   "cell_type": "code",
   "execution_count": 121,
   "outputs": [],
   "source": [
    "del wine2vec, wine_corpus, wine_dict"
   ],
   "metadata": {
    "collapsed": false,
    "pycharm": {
     "name": "#%%\n"
    }
   }
  },
  {
   "cell_type": "markdown",
   "source": [
    "## O Recomenadnor\n",
    "\n",
    "Finalmente, iremos desenvolver o recomendador. Ele partirá do principio que\n",
    "cada item é representado por uma palavra de sua descrição, logo\n",
    "um item é a média dessas palavras em um espaço n-dimensional (no nosso caso, um espaço 300-dimensional)\n",
    "\n",
    "Ele usará todas as demais classes geradas, então, iremos aproveitar alguns modelos já treinados."
   ],
   "metadata": {
    "collapsed": false,
    "pycharm": {
     "name": "#%% md\n"
    }
   }
  },
  {
   "cell_type": "code",
   "source": [
    "import json\n",
    "from typing import Union\n",
    "\n",
    "import numpy as np\n",
    "from sklearn.metrics.pairwise import cosine_similarity\n",
    "from tqdm import tqdm\n",
    "\n",
    "from models.row2json import Row2Json\n",
    "from models.wine import Wine\n",
    "from models.wine2vec import Wine2Vec\n",
    "from models.wine_corpus import WineCorpus\n",
    "from models.wine_dataset import WineDataSet\n",
    "from models.wine_dict import WineDict\n",
    "\n",
    "\n",
    "class WineRecommender:\n",
    "    def __init__(self):\n",
    "        self._wine130k = WineDataSet()\n",
    "        self._wine_dict = WineDict()\n",
    "        for row in tqdm(np.array(self._wine130k.data)):\n",
    "            self._wine_dict.append(Wine(**Row2Json(row)))\n",
    "        del row\n",
    "\n",
    "        self._wine_corpus: Union[None, WineCorpus] = None\n",
    "        self._wine2vec: Union[None, Wine2Vec] = None\n",
    "\n",
    "    @property\n",
    "    def wine2vec(self) -> Wine2Vec:\n",
    "        return self._wine2vec\n",
    "\n",
    "    @property\n",
    "    def wine_corpus(self) -> WineCorpus:\n",
    "        return self._wine_corpus\n",
    "\n",
    "    @property\n",
    "    def wine_dict(self) -> WineDict:\n",
    "        return self._wine_dict\n",
    "\n",
    "    @property\n",
    "    def wine_dataset(self):\n",
    "        return self._wine130k\n",
    "\n",
    "    def build_corpus(self, save_path: Union[None, str] = None):\n",
    "        self._wine_corpus = WineCorpus(self._wine_dict)\n",
    "        if save_path is not None:\n",
    "            self._wine_corpus.save(save_path)\n",
    "\n",
    "    def load_corpus(self, load_path: str):\n",
    "        self._wine_corpus = WineCorpus(load_path)\n",
    "\n",
    "    def build_item2vec(self,\n",
    "                       iter: int = 5,\n",
    "                       min_count: int = 5,\n",
    "                       size: int = 300,\n",
    "                       window: int = 5,\n",
    "                       save_path: Union[None, str] = None):\n",
    "\n",
    "        self._wine2vec = Wine2Vec(\n",
    "            sentences=self._wine_corpus.corpus,\n",
    "            iter=iter,\n",
    "            min_count=min_count,\n",
    "            size=size,\n",
    "            window=window\n",
    "        )\n",
    "        self._wine2vec.train()\n",
    "        if save_path is not None:\n",
    "            self._wine2vec.save(save_path)\n",
    "\n",
    "    def load_item2vec(self, load_path: str):\n",
    "        self._wine2vec = Wine2Vec(self._wine_corpus)\n",
    "        self._wine2vec.load(load_path)\n",
    "        if self._wine2vec.wine2vec is None:\n",
    "            self._wine2vec.wine_embeddings()\n",
    "\n",
    "    def build_gword2vec(self,\n",
    "                        google_pretrained: str,\n",
    "                        iter: int = 5,\n",
    "                        min_count: int = 5,\n",
    "                        size: int = 300,\n",
    "                        window: int = 5,\n",
    "                        save_path: Union[None, str] = None):\n",
    "        # google_word2vec = KeyedVectors.load_word2vec_format(file_path, binary=True)\n",
    "        from gensim.models import Word2Vec\n",
    "        import os\n",
    "        self._wine2vec = Wine2Vec(\n",
    "            sentences=self._wine_corpus.corpus,\n",
    "            min_count=min_count,\n",
    "            size=size,\n",
    "            window=window\n",
    "        )\n",
    "\n",
    "        self._wine2vec.model = Word2Vec(\n",
    "            min_count=min_count,\n",
    "            size=size,\n",
    "            workers=os.cpu_count() - 1,\n",
    "            window=window\n",
    "        )\n",
    "\n",
    "        self._wine2vec.model.build_vocab(self._wine_corpus)\n",
    "        self._wine2vec.model.intersect_word2vec_format(google_pretrained,\n",
    "                                                       lockf=1.0, binary=True)\n",
    "        self._wine2vec.model.train(self._wine_corpus.corpus, total_examples=self._wine2vec.model.corpus_count,\n",
    "                                   epochs=iter)\n",
    "        if save_path is not None:\n",
    "            self._wine2vec.save(save_path)\n",
    "\n",
    "    def recommend(self, wine: int):\n",
    "        import json\n",
    "        wine_index = None\n",
    "        if isinstance(wine, str):\n",
    "            wine_index = self._wine_dict.title2index[wine]\n",
    "        elif isinstance(wine, int):\n",
    "            wine_index = wine\n",
    "        if self._wine2vec.wine2vec is None:\n",
    "            self._wine2vec.wine_embeddings()\n",
    "        wine_embeddings = self._wine2vec.wine2vec[wine_index:wine_index + 1]\n",
    "        similarities = cosine_similarity(wine_embeddings, self._wine2vec.wine2vec)\n",
    "        bigger_similarity = np.argsort(-similarities)[0][1]\n",
    "        return json.dumps(self._wine_dict[int(bigger_similarity)](), indent=2)\n",
    "\n",
    "    def recommend_by_description(self, description: str):\n",
    "        words = description.split()\n",
    "        words_embeddings = []\n",
    "        for w in words:\n",
    "            try:\n",
    "                words_embeddings.append(self._wine2vec.model[w])\n",
    "            except KeyError:\n",
    "                pass\n",
    "\n",
    "        words_embeddings = np.array(words_embeddings)\n",
    "        similarities = cosine_similarity(words_embeddings, self._wine2vec.wine2vec)\n",
    "        bigger_similarity = np.argsort(-similarities)[0][0]\n",
    "        return json.dumps(self._wine_dict[int(bigger_similarity)](), indent=2)"
   ],
   "metadata": {
    "collapsed": false,
    "pycharm": {
     "name": "#%%\n"
    }
   },
   "execution_count": 58,
   "outputs": []
  },
  {
   "cell_type": "code",
   "execution_count": 59,
   "outputs": [
    {
     "name": "stderr",
     "output_type": "stream",
     "text": [
      "100%|██████████| 129971/129971 [00:01<00:00, 78515.01it/s] \n",
      "100%|██████████| 129971/129971 [00:01<00:00, 92316.66it/s] \n",
      "2021-03-25 20:01:45,642 : INFO : loading Word2Vec object from wine2vec_pretrained/wine2vec_model_i30_mc1_s300_w80\n",
      "2021-03-25 20:01:46,460 : INFO : loading wv recursively from wine2vec_pretrained/wine2vec_model_i30_mc1_s300_w80.wv.* with mmap=None\n",
      "2021-03-25 20:01:46,461 : INFO : setting ignored attribute vectors_norm to None\n",
      "2021-03-25 20:01:46,462 : INFO : loading vocabulary recursively from wine2vec_pretrained/wine2vec_model_i30_mc1_s300_w80.vocabulary.* with mmap=None\n",
      "2021-03-25 20:01:46,463 : INFO : loading trainables recursively from wine2vec_pretrained/wine2vec_model_i30_mc1_s300_w80.trainables.* with mmap=None\n",
      "2021-03-25 20:01:46,464 : INFO : setting ignored attribute cum_table to None\n",
      "2021-03-25 20:01:46,465 : INFO : loaded wine2vec_pretrained/wine2vec_model_i30_mc1_s300_w80\n",
      "129971it [00:13, 9902.92it/s] \n",
      "100%|██████████| 129971/129971 [00:19<00:00, 6676.50it/s]\n"
     ]
    }
   ],
   "source": [
    "wine_recommender = WineRecommender()\n",
    "wine_recommender.load_corpus('corpus/all_wines.txt')\n",
    "\n",
    "iter = 30\n",
    "min_count = 1\n",
    "size = 300\n",
    "window = wine_recommender.wine_corpus.max_len\n",
    "file_path = f'wine2vec_pretrained/wine2vec_model_i{iter}_mc{min_count}_s{size}_w{window}'\n",
    "\n",
    "wine_recommender.load_item2vec(file_path)"
   ],
   "metadata": {
    "collapsed": false,
    "pycharm": {
     "name": "#%%\n"
    }
   }
  },
  {
   "cell_type": "markdown",
   "source": [
    "### A representação de um vinho"
   ],
   "metadata": {
    "collapsed": false,
    "pycharm": {
     "name": "#%% md\n"
    }
   }
  },
  {
   "cell_type": "code",
   "execution_count": 92,
   "outputs": [
    {
     "data": {
      "text/plain": "array([ 7.79037029e-02,  5.50034232e-02,  1.78660098e-02,  5.25492206e-02,\n        4.02740426e-02, -1.46335233e-02, -3.55600640e-02,  5.85262366e-02,\n       -2.59448644e-02, -8.53577927e-02, -3.84667739e-02, -9.83122643e-03,\n        2.24168181e-01,  4.19204980e-02,  4.41841818e-02,  6.59767389e-02,\n        1.47900537e-01, -9.37720835e-02,  3.66962552e-02, -8.75810832e-02,\n       -2.05426831e-02,  8.68328065e-02, -1.30920798e-01,  4.80929017e-03,\n       -1.15127429e-01,  1.12668738e-01, -7.93112367e-02, -1.22390650e-01,\n       -1.35365722e-03,  1.53373972e-01,  1.87498212e-01, -3.97933982e-02,\n       -1.40859693e-01, -1.88364647e-02,  9.81048122e-02, -3.50236818e-02,\n       -5.89289963e-02, -4.07277308e-02,  1.99139863e-03, -1.05597116e-01,\n        9.71265808e-02, -8.73626582e-03, -3.41257155e-02, -1.28449142e-01,\n        9.34429914e-02, -1.52593566e-04,  2.81453375e-02,  1.28495693e-01,\n        9.31473598e-02,  8.29847008e-02,  3.63429412e-02,  1.53439581e-01,\n       -1.44884706e-01,  5.19751683e-02,  2.03346089e-01,  6.19147196e-02,\n       -1.01357557e-01,  4.89545651e-02,  2.54064891e-02,  4.94849775e-03,\n       -8.40125233e-02, -1.31912723e-01, -9.78310928e-02,  1.27787858e-01,\n       -1.07733682e-01, -6.76665753e-02, -6.05231151e-02,  8.91042799e-02,\n       -6.87998086e-02,  1.63252954e-03, -1.37797982e-01,  1.21188343e-01,\n        8.63017663e-02,  6.72337562e-02, -1.13866985e-01, -5.61868176e-02,\n       -1.65706068e-01,  8.25146884e-02, -5.56470528e-02,  5.06068394e-02,\n        1.00892447e-01, -4.44109738e-02, -1.09291531e-01, -6.45039082e-02,\n        2.27650255e-02, -6.01337664e-02,  1.01153716e-01,  2.00890094e-01,\n        3.53954686e-03, -8.58980343e-02, -1.98542364e-02,  3.00323367e-02,\n       -1.40727863e-01, -5.18378131e-02,  5.61683960e-02,  6.70009404e-02,\n        1.46546215e-01,  4.81101945e-02,  2.86645181e-02, -1.17507175e-01,\n       -1.18627295e-01, -1.63351387e-01,  7.45913088e-02, -2.03153774e-01,\n       -2.09676232e-02, -7.00573847e-02, -1.72050804e-01,  1.34024233e-01,\n       -2.65694223e-02,  5.92231937e-02, -7.34875798e-02, -1.94506571e-02,\n        8.32109898e-02, -5.89435510e-02,  6.36783093e-02, -2.12638844e-02,\n       -1.08189702e-01, -8.09945613e-02, -6.79438040e-02, -5.72759882e-02,\n        9.36112925e-02,  1.48420897e-03, -9.20967534e-02, -4.23739441e-02,\n        6.76708668e-02,  6.60298765e-02,  1.44011140e-01, -7.94930831e-02,\n        1.34705409e-01,  2.75366247e-01, -3.93657461e-02, -3.18856239e-02,\n       -3.99856120e-02,  1.56636070e-02, -7.73258060e-02, -3.43611613e-02,\n        2.33349323e-01, -1.67965934e-01, -8.76842663e-02, -3.54246534e-02,\n        5.70902452e-02, -3.17451218e-03,  1.71165876e-02,  1.31279185e-01,\n        1.04240492e-01, -1.62324205e-01, -1.51844859e-01, -2.40947362e-02,\n       -8.72518271e-02, -2.87403353e-03, -6.23811129e-03,  7.56868348e-02,\n       -1.18012354e-01,  8.23897570e-02, -1.48642570e-01, -2.29596764e-01,\n       -2.97758095e-02,  3.54385818e-03, -7.42149428e-02, -3.66450399e-02,\n       -9.20555890e-02,  1.90550357e-01, -4.37754299e-03,  3.27266082e-02,\n        6.20295592e-02,  4.31703553e-02,  6.56464323e-02, -1.47724330e-01,\n        9.18015242e-02, -6.13435730e-02,  1.06611870e-01, -4.21648957e-02,\n        8.16700831e-02, -8.92338678e-02,  1.54115021e-01,  1.29527673e-01,\n        4.69503850e-02, -1.45938592e-02,  1.01824366e-01,  3.62848006e-02,\n       -5.55721223e-02, -7.08930567e-02, -1.80385672e-02,  1.24930203e-01,\n       -2.63830777e-02,  4.53035459e-02,  7.42981508e-02,  1.86658651e-02,\n        4.51918915e-02, -7.87575170e-03,  1.29567888e-02, -1.90530822e-01,\n       -3.55328545e-02, -9.68026146e-02,  1.07138798e-01, -4.15298678e-02,\n        2.63737254e-02, -3.16469073e-02, -6.12674188e-03, -1.32575974e-01,\n       -4.63484824e-02, -1.30189452e-02,  8.45964625e-02,  5.60765043e-02,\n       -3.45929712e-02,  9.35479030e-02, -2.17283098e-03, -1.40279578e-03,\n       -3.34237441e-02, -1.07260309e-01, -5.68871312e-02,  1.28899008e-01,\n        1.42051876e-01, -7.84208775e-02,  1.21050283e-01, -2.57931501e-02,\n        6.77127317e-02, -2.80094985e-02, -3.88496853e-02, -1.07889868e-01,\n        3.29168923e-02, -1.63090378e-01,  7.68072307e-02, -1.76579095e-02,\n        6.46741837e-02, -4.80582565e-03, -1.09500960e-01, -1.51405782e-01,\n        4.26745042e-02,  4.01196480e-02,  1.77573543e-02, -2.21572500e-02,\n        5.49346805e-02,  3.58165731e-03, -8.71666446e-02,  1.03928827e-01,\n       -4.07685265e-02,  3.26410793e-02, -3.25197056e-02,  5.72259426e-02,\n       -9.51656178e-02,  6.38663620e-02, -6.27076179e-02,  3.83419953e-02,\n       -3.33557352e-02, -1.13279536e-01, -1.36247739e-01, -2.22935565e-02,\n       -2.51122653e-01, -5.73805757e-02, -2.74439566e-02, -3.26091871e-02,\n       -1.52615728e-02,  2.13086698e-02,  5.75066432e-02, -5.17349355e-02,\n        1.41003445e-01,  7.19356090e-02, -2.77665764e-01, -9.37450211e-03,\n        3.94871831e-02,  1.85694307e-01,  1.36931896e-01, -1.86671525e-01,\n       -1.85013369e-01, -2.48737961e-01,  1.12778090e-01, -1.03911020e-01,\n       -2.67967256e-03, -9.23414808e-03, -9.75636914e-02, -3.12545821e-02,\n       -2.01680027e-02,  3.83906551e-02,  2.45596796e-01, -8.57110769e-02,\n       -2.45373696e-04,  1.41071647e-01,  1.12342671e-01,  1.11705944e-01,\n       -1.07833542e-01,  6.65155053e-02, -5.90600297e-02, -1.35765197e-02,\n        6.49906546e-02,  1.98052377e-01, -1.56419322e-01,  1.54047776e-02,\n       -2.12387472e-01,  2.90665310e-03,  8.13013539e-02, -1.96109321e-02,\n       -2.45269202e-02,  4.63849492e-02, -7.83896726e-03,  4.98548113e-02,\n       -1.21569678e-01, -8.40929300e-02,  1.38980001e-01,  3.34897339e-02],\n      dtype=float32)"
     },
     "execution_count": 92,
     "metadata": {},
     "output_type": "execute_result"
    }
   ],
   "source": [
    "wine_recommender.wine2vec.wine2vec[0].compute()"
   ],
   "metadata": {
    "collapsed": false,
    "pycharm": {
     "name": "#%%\n"
    }
   }
  },
  {
   "cell_type": "markdown",
   "source": [
    "### Recomendando vinhos"
   ],
   "metadata": {
    "collapsed": false,
    "pycharm": {
     "name": "#%% md\n"
    }
   }
  },
  {
   "cell_type": "markdown",
   "source": [
    "#### Index"
   ],
   "metadata": {
    "collapsed": false
   }
  },
  {
   "cell_type": "code",
   "execution_count": 93,
   "outputs": [],
   "source": [
    "wine = wine_recommender.wine_dict[0]"
   ],
   "metadata": {
    "collapsed": false,
    "pycharm": {
     "name": "#%%\n"
    }
   }
  },
  {
   "cell_type": "code",
   "execution_count": 94,
   "outputs": [
    {
     "data": {
      "text/plain": "{\n  \"points\": 87,\n  \"title\": \"Nicosia 2013 Vulk\\u00e0 Bianco  (Etna)\",\n  \"description\": {\n    \"original\": \"Aromas include tropical fruit, broom, brimstone and dried herb. The palate isn't overly expressive, offering unripened apple, citrus and dried sage alongside brisk acidity.\",\n    \"cleaned\": \"aromas include tropical fruit broom brimstone dried herb palate overly expressive offering unripened apple citrus dried sage alongside brisk acidity\"\n  },\n  \"taster_name\": \"Kerin O\\u2019Keefe\",\n  \"taster_twitter_handle\": \"@kerinokeefe\",\n  \"price\": NaN,\n  \"designation\": \"Vulk\\u00e0 Bianco\",\n  \"variety\": \"White Blend\",\n  \"region_1\": \"Etna\",\n  \"region_2\": null,\n  \"province\": \"Sicily & Sardinia\",\n  \"country\": \"Italy\",\n  \"winery\": \"Nicosia\"\n}"
     },
     "execution_count": 94,
     "metadata": {},
     "output_type": "execute_result"
    }
   ],
   "source": [
    "wine"
   ],
   "metadata": {
    "collapsed": false,
    "pycharm": {
     "name": "#%%\n"
    }
   }
  },
  {
   "cell_type": "code",
   "execution_count": 95,
   "outputs": [],
   "source": [
    "wine_recommended = wine_recommender.recommend(0)"
   ],
   "metadata": {
    "collapsed": false,
    "pycharm": {
     "name": "#%%\n"
    }
   }
  },
  {
   "cell_type": "code",
   "execution_count": 96,
   "outputs": [
    {
     "data": {
      "text/plain": "{'points': 86,\n 'title': 'Principe di Corleone 2015 Bianca di Corte Grillo (Sicilia)',\n 'description': {'original': 'Aromas of yellow flower, citrus and dried herb float out of the glass. The palate is a bit on the lean side, offering lime, grilled sage and bitter almond alongside zesty acidity.',\n  'cleaned': 'aromas yellow flower citrus dried herb float glass palate bit lean side offering lime grilled sage bitter almond alongside zesty acidity'},\n 'taster_name': 'Kerin O’Keefe',\n 'taster_twitter_handle': '@kerinokeefe',\n 'price': 13.0,\n 'designation': 'Bianca di Corte',\n 'variety': 'Grillo',\n 'region_1': 'Sicilia',\n 'region_2': None,\n 'province': 'Sicily & Sardinia',\n 'country': 'Italy',\n 'winery': 'Principe di Corleone'}"
     },
     "execution_count": 96,
     "metadata": {},
     "output_type": "execute_result"
    }
   ],
   "source": [
    "import json\n",
    "json.loads(wine_recommended)\n"
   ],
   "metadata": {
    "collapsed": false,
    "pycharm": {
     "name": "#%%\n"
    }
   }
  },
  {
   "cell_type": "markdown",
   "source": [
    "#### Nome do Vinho"
   ],
   "metadata": {
    "collapsed": false
   }
  },
  {
   "cell_type": "code",
   "execution_count": 97,
   "outputs": [],
   "source": [
    "wine = wine_recommender.wine_dict[1].title"
   ],
   "metadata": {
    "collapsed": false,
    "pycharm": {
     "name": "#%%\n"
    }
   }
  },
  {
   "cell_type": "code",
   "execution_count": 98,
   "outputs": [
    {
     "data": {
      "text/plain": "{\n  \"points\": 87,\n  \"title\": \"Quinta dos Avidagos 2011 Avidagos Red (Douro)\",\n  \"description\": {\n    \"original\": \"This is ripe and fruity, a wine that is smooth while still structured. Firm tannins are filled out with juicy red berry fruits and freshened with acidity. It's  already drinkable, although it will certainly be better from 2016.\",\n    \"cleaned\": \"ripe fruity wine smooth still structured firm tannins filled juicy red berry fruits freshened acidity already drinkable although certainly better \"\n  },\n  \"taster_name\": \"Roger Voss\",\n  \"taster_twitter_handle\": \"@vossroger\",\n  \"price\": 15.0,\n  \"designation\": \"Avidagos\",\n  \"variety\": \"Portuguese Red\",\n  \"region_1\": null,\n  \"region_2\": null,\n  \"province\": \"Douro\",\n  \"country\": \"Portugal\",\n  \"winery\": \"Quinta dos Avidagos\"\n}"
     },
     "execution_count": 98,
     "metadata": {},
     "output_type": "execute_result"
    }
   ],
   "source": [
    "wine_recommender.wine_dict[1]"
   ],
   "metadata": {
    "collapsed": false,
    "pycharm": {
     "name": "#%%\n"
    }
   }
  },
  {
   "cell_type": "code",
   "execution_count": 99,
   "outputs": [],
   "source": [
    "wine_recommended = wine_recommender.recommend(wine)"
   ],
   "metadata": {
    "collapsed": false,
    "pycharm": {
     "name": "#%%\n"
    }
   }
  },
  {
   "cell_type": "code",
   "execution_count": 100,
   "outputs": [
    {
     "data": {
      "text/plain": "{'points': 86,\n 'title': 'Château Fortin Plaisance 2012  Saint-Émilion',\n 'description': {'original': \"This ripe and fruity wine has an edge of tannins to give it structure. It's full of juicy black fruits, rich berry flavors and fresh acidity. The wine will age as the tannins round out further, so drink from 2018.\",\n  'cleaned': 'ripe fruity wine edge tannins give structure full juicy black fruits rich berry flavors fresh acidity wine age tannins round further drink '},\n 'taster_name': 'Roger Voss',\n 'taster_twitter_handle': '@vossroger',\n 'price': 22.0,\n 'designation': None,\n 'variety': 'Bordeaux-style Red Blend',\n 'region_1': 'Saint-Émilion',\n 'region_2': None,\n 'province': 'Bordeaux',\n 'country': 'France',\n 'winery': 'Château Fortin Plaisance'}"
     },
     "execution_count": 100,
     "metadata": {},
     "output_type": "execute_result"
    }
   ],
   "source": [
    "import json\n",
    "json.loads(wine_recommended)"
   ],
   "metadata": {
    "collapsed": false,
    "pycharm": {
     "name": "#%%\n"
    }
   }
  },
  {
   "cell_type": "markdown",
   "source": [
    "#### Recomenando por textos\n",
    "\n",
    "Uma implementação foi considerar que, dado um texto, ele pode representar\n",
    "um vinho que você queira."
   ],
   "metadata": {
    "collapsed": false
   }
  },
  {
   "cell_type": "code",
   "execution_count": 101,
   "outputs": [
    {
     "name": "stderr",
     "output_type": "stream",
     "text": [
      "<ipython-input-58-3b6f032a8f6a>:126: DeprecationWarning: Call to deprecated `__getitem__` (Method will be removed in 4.0.0, use self.wv.__getitem__() instead).\n",
      "  words_embeddings.append(self._wine2vec.model[w])\n"
     ]
    },
    {
     "data": {
      "text/plain": "{'points': 85,\n 'title': 'Angeli di Varano 2010 Riserva Stile Libero  (Conero)',\n 'description': {'original': 'Notes of toasted oak and vanilla are the opening notes of this wine. The palate has ripe plum and blackberry that are overwhelmed by oak, espresso, coffee and sweet vanilla bean. Too much oak and too little fruit.',\n  'cleaned': 'notes toasted oak vanilla opening notes wine palate ripe plum blackberry overwhelmed oak espresso coffee sweet vanilla bean much oak little fruit'},\n 'taster_name': 'Kerin O’Keefe',\n 'taster_twitter_handle': '@kerinokeefe',\n 'price': 32.0,\n 'designation': 'Riserva Stile Libero',\n 'variety': 'Montepulciano',\n 'region_1': 'Conero',\n 'region_2': None,\n 'province': 'Central Italy',\n 'country': 'Italy',\n 'winery': 'Angeli di Varano'}"
     },
     "execution_count": 101,
     "metadata": {},
     "output_type": "execute_result"
    }
   ],
   "source": [
    "json.loads(wine_recommender.recommend_by_description('oak coffee vanilla'))"
   ],
   "metadata": {
    "collapsed": false,
    "pycharm": {
     "name": "#%%\n"
    }
   }
  },
  {
   "cell_type": "code",
   "source": [
    "del wine, wine_recommended\n"
   ],
   "metadata": {
    "collapsed": false,
    "pycharm": {
     "name": "#%%\n"
    }
   },
   "execution_count": null,
   "outputs": []
  },
  {
   "cell_type": "markdown",
   "source": [
    "# [Parte 3] Wine Classifier\n",
    "\n",
    "\n",
    "Vimos que é possível recomendar vinhos de acordo com vinhos\n",
    "que são parecidos por suas descrições. Então, será que é possível\n",
    "determinar um tipo de vinho que uma pessoa quer dar uma descrição?\n",
    "\n",
    "Para ver isso, vamos montar um classificador de vinhos usando o wine2vec\n",
    "com um modelo.\n",
    "\n",
    "## Escolhendo as variedades\n",
    "\n",
    "Como vimos na primeira parte, há mais de 700 variedades de vinhos\n",
    "nesse dataset, e muitos deles com menos de 200 itens. Então, por\n",
    "simplificação, iremos considerar somente a top 7 variedades (o que\n",
    "cobre mais de 50% do dataset)\n"
   ],
   "metadata": {
    "collapsed": false
   }
  },
  {
   "cell_type": "code",
   "execution_count": 61,
   "outputs": [],
   "source": [
    "from copy import deepcopy\n",
    "\n",
    "import numpy as np\n",
    "from dask.array import from_array\n",
    "from keras_preprocessing.sequence import pad_sequences\n",
    "from keras_preprocessing.text import Tokenizer\n",
    "\n",
    "from models.wine_dataset import WineDataSet\n",
    "\n",
    "\n",
    "class WineMLDataGetter:\n",
    "    def __init__(self, wine_dataset: WineDataSet, max_len, topn_varieties: int = 7, balance_class=False):\n",
    "        filter_list = wine_dataset.varieties_count()['variety'][:topn_varieties].tolist()\n",
    "        filtered_df = wine_dataset.data[wine_dataset.data['variety'].isin(filter_list)]\n",
    "\n",
    "        if balance_class:\n",
    "            aux_df = deepcopy(filtered_df)\n",
    "            d = aux_df.groupby('variety')\n",
    "            d = d.apply(lambda x: x.sample(d.size().min()).reset_index(drop=True))\n",
    "            d = d.reset_index(drop=True)\n",
    "            filtered_df = d\n",
    "            del aux_df, d\n",
    "\n",
    "        wine_embeddings_filter = filtered_df.index.values\n",
    "\n",
    "        self._varieties_list = from_array(filter_list)\n",
    "        self._wine_embeddings_filter = from_array(wine_embeddings_filter)\n",
    "\n",
    "        self._variety2index = {variety: index for index, variety in enumerate(filter_list)}\n",
    "        self._index2variety = {index: variety for index, variety in enumerate(filter_list)}\n",
    "        # self._X = wine_embeddings[wine_embeddings_filter].compute()\n",
    "\n",
    "        self._X = deepcopy(filtered_df['description_cleaned'].tolist())\n",
    "        tokenizer = Tokenizer()\n",
    "        tokenizer.fit_on_texts(self._X)\n",
    "        self._X, self._X_tokenizer = tokenizer.texts_to_sequences(self._X), tokenizer\n",
    "        self._X = pad_sequences(self._X, maxlen=84, padding=\"pre\", truncating=\"post\")\n",
    "\n",
    "        self._index2word = self._X_tokenizer.index_word\n",
    "        self._word2index = self._X_tokenizer.word_index\n",
    "\n",
    "        self._index2word.update({0: 'pad'})\n",
    "        self._word2index.update({'pad': 0})\n",
    "\n",
    "        self._Y = deepcopy(filtered_df['variety'])\n",
    "        self._Y.replace(self._variety2index, inplace=True)\n",
    "        self._Y = np.array(self._Y.tolist())\n",
    "\n",
    "    @property\n",
    "    def word2index(self):\n",
    "        return self._word2index\n",
    "\n",
    "    @property\n",
    "    def index2word(self):\n",
    "        return self._index2word\n",
    "\n",
    "    @property\n",
    "    def X(self):\n",
    "        return self._X\n",
    "\n",
    "    @property\n",
    "    def Y(self):\n",
    "        return self._Y"
   ],
   "metadata": {
    "collapsed": false,
    "pycharm": {
     "name": "#%%\n"
    }
   }
  },
  {
   "cell_type": "code",
   "execution_count": 102,
   "outputs": [],
   "source": [
    "wine_data_getter = WineMLDataGetter(\n",
    "        wine_dataset=wine_recommender.wine_dataset,\n",
    "        max_len=wine_recommender.wine_corpus.max_len,\n",
    "        topn_varieties=7,\n",
    "        balance_class=False\n",
    ")"
   ],
   "metadata": {
    "collapsed": false,
    "pycharm": {
     "name": "#%%\n"
    }
   }
  },
  {
   "cell_type": "markdown",
   "source": [
    "## Separando em Treino, Teste e Validação\n",
    "\n",
    "Usaremos uma proporção 80(20):20 para gerar e validar nosso modelo."
   ],
   "metadata": {
    "collapsed": false,
    "pycharm": {
     "name": "#%% md\n"
    }
   }
  },
  {
   "cell_type": "code",
   "execution_count": 63,
   "outputs": [],
   "source": [
    "from datetime import datetime\n",
    "\n",
    "from sklearn.model_selection import train_test_split\n",
    "\n",
    "\n",
    "class TrainTestAndValidation:\n",
    "    def __init__(self, X, Y, test_size, valid_size):\n",
    "        TEST_SIZE = test_size\n",
    "        X_train, X_test, Y_train, Y_test = train_test_split(\n",
    "            X,\n",
    "            Y,\n",
    "            test_size=TEST_SIZE,\n",
    "            random_state=4,\n",
    "            stratify=Y\n",
    "        )\n",
    "        VALID_SIZE = valid_size\n",
    "        X_train, X_validation, Y_train, Y_validation = train_test_split(\n",
    "            X_train,\n",
    "            Y_train,\n",
    "            test_size=VALID_SIZE,\n",
    "            random_state=4,\n",
    "            stratify=Y_train\n",
    "        )\n",
    "        print(f'{datetime.now()} - TRAINING DATA')\n",
    "        print('Shape of input sequences: {}'.format(X_train.shape))\n",
    "        print('Shape of output sequences: {}'.format(len(Y_train)))\n",
    "        print(\"-\" * 50)\n",
    "        print(f'{datetime.now()} - VALIDATION DATA')\n",
    "        print('Shape of input sequences: {}'.format(X_validation.shape))\n",
    "        print('Shape of output sequences: {}'.format(len(Y_validation)))\n",
    "        print(\"-\" * 50)\n",
    "        print(f'{datetime.now()} - TESTING DATA')\n",
    "        print('Shape of input sequences: {}'.format(X_test.shape))\n",
    "        print('Shape of output sequences: {}'.format(len(Y_test)))\n",
    "\n",
    "        self._X_train, self._X_test, self._Y_train, self._Y_test = X_train, X_test, Y_train, Y_test\n",
    "        self._X_validation, self._Y_validation = X_validation, Y_validation\n",
    "\n",
    "    @property\n",
    "    def X_train(self):\n",
    "        return self._X_train\n",
    "\n",
    "    @property\n",
    "    def X_test(self):\n",
    "        return self._X_test\n",
    "\n",
    "    @property\n",
    "    def X_validation(self):\n",
    "        return self._X_validation\n",
    "\n",
    "    @property\n",
    "    def Y_train(self):\n",
    "        return self._Y_train\n",
    "\n",
    "    @property\n",
    "    def Y_test(self):\n",
    "        return self._Y_test\n",
    "\n",
    "    @property\n",
    "    def Y_validation(self):\n",
    "        return self._Y_validation"
   ],
   "metadata": {
    "collapsed": false,
    "pycharm": {
     "name": "#%%\n"
    }
   }
  },
  {
   "cell_type": "code",
   "execution_count": 103,
   "outputs": [
    {
     "name": "stdout",
     "output_type": "stream",
     "text": [
      "2021-03-25 20:21:10.640594 - TRAINING DATA\n",
      "Shape of input sequences: (38728, 84)\n",
      "Shape of output sequences: 38728\n",
      "--------------------------------------------------\n",
      "2021-03-25 20:21:10.640755 - VALIDATION DATA\n",
      "Shape of input sequences: (9683, 84)\n",
      "Shape of output sequences: 9683\n",
      "--------------------------------------------------\n",
      "2021-03-25 20:21:10.640813 - TESTING DATA\n",
      "Shape of input sequences: (12103, 84)\n",
      "Shape of output sequences: 12103\n"
     ]
    }
   ],
   "source": [
    "train_test_and_validation = TrainTestAndValidation(\n",
    "    wine_data_getter.X,\n",
    "    wine_data_getter.Y,\n",
    "    test_size=0.2,\n",
    "    valid_size=0.2\n",
    ")"
   ],
   "metadata": {
    "collapsed": false,
    "pycharm": {
     "name": "#%%\n"
    }
   }
  },
  {
   "cell_type": "markdown",
   "source": [
    "## O Classificador\n",
    "\n",
    "\n",
    "Para o classificador, usaremos um modelo LSTM Bidirecional, com 5 camadas\n",
    "todas com ativação relu. Foi colocado um early_stopping em caso de ocorrer over-fitting\n",
    "antes das épocas definidas"
   ],
   "metadata": {
    "collapsed": false,
    "pycharm": {
     "name": "#%% md\n"
    }
   }
  },
  {
   "cell_type": "code",
   "execution_count": 65,
   "outputs": [],
   "source": [
    "import numpy as np\n",
    "import tensorflow as tf\n",
    "import tensorflow.keras.layers as L\n",
    "from tensorflow.python.keras.callbacks import EarlyStopping\n",
    "from tensorflow.python.keras.layers import Embedding\n",
    "from tensorflow.python.keras.losses import SparseCategoricalCrossentropy\n",
    "from tensorflow.python.keras.models import load_model\n",
    "from tqdm import tqdm\n",
    "\n",
    "\n",
    "class WineClassifier:\n",
    "    def __init__(self, vocabulary_size, embedding_size, max_seq_length, embedding_weights, num_classes):\n",
    "        VOCABULARY_SIZE = vocabulary_size\n",
    "        EMBEDDING_SIZE = embedding_size\n",
    "        MAX_SEQ_LENGTH = max_seq_length\n",
    "        embedding_weights = embedding_weights\n",
    "        NUM_CLASSES = num_classes\n",
    "\n",
    "        import tensorflow.python.keras.activations as a\n",
    "        self._model = tf.keras.Sequential([\n",
    "            Embedding(\n",
    "                input_dim=VOCABULARY_SIZE,\n",
    "                output_dim=EMBEDDING_SIZE,\n",
    "                input_length=MAX_SEQ_LENGTH,\n",
    "                weights=[embedding_weights],\n",
    "                trainable=True\n",
    "            ),\n",
    "            L.Bidirectional(L.LSTM(64, return_sequences=False)),\n",
    "            L.Dense(64, activation=a.relu),\n",
    "            L.Dense(32, activation=a.relu),\n",
    "            L.Dense(32, activation=a.relu),\n",
    "            L.Dense(16, activation=a.relu),\n",
    "            L.Dense(NUM_CLASSES, activation=a.softmax)\n",
    "        ])\n",
    "\n",
    "        self._model.compile(\n",
    "            loss=SparseCategoricalCrossentropy(),\n",
    "            optimizer='adam',\n",
    "            metrics=['accuracy']\n",
    "        )\n",
    "        self._results = None\n",
    "        # self._model.summary()\n",
    "\n",
    "    @property\n",
    "    def model(self):\n",
    "        return self._model\n",
    "\n",
    "    def fit(self, X_train, y_train, epochs, batch_size, X_validation, y_validation):\n",
    "        early_stopping = EarlyStopping()\n",
    "        self._results = self._model.fit(\n",
    "            X_train.reshape(*X_train.shape, 1),\n",
    "            np.array(y_train),\n",
    "            epochs=epochs,\n",
    "            batch_size=batch_size,\n",
    "            validation_data=(X_validation.reshape(*X_validation.shape, 1), np.array(y_validation)),\n",
    "            callbacks=[early_stopping]\n",
    "        )\n",
    "\n",
    "    def load(self, load_path: str):\n",
    "        self._model = load_model(load_path)\n",
    "\n",
    "    def save(self, save_path: str):\n",
    "        self._model.save(save_path)\n",
    "\n",
    "    def evaluate(self, X_test, y_test):\n",
    "        self._model.evaluate(\n",
    "            X_test,\n",
    "            y_test\n",
    "        )\n",
    "\n",
    "    def predict(self, X_test):\n",
    "        return self._model.predict_classes(X_test)\n",
    "\n",
    "\n",
    "def emb_weights(word2vec, word2index, vocabulary_size, embedding_size):\n",
    "    VOCABULARY_SIZE = vocabulary_size\n",
    "    EMBEDDING_SIZE = embedding_size\n",
    "    word2id = word2index\n",
    "    embedding_weights = np.zeros((VOCABULARY_SIZE, EMBEDDING_SIZE))\n",
    "    for word, index in tqdm(word2id.items()):\n",
    "        try:\n",
    "            embedding_weights[index, :] = word2vec[word]\n",
    "        except KeyError:\n",
    "            pass\n",
    "    return embedding_weights"
   ],
   "metadata": {
    "collapsed": false,
    "pycharm": {
     "name": "#%%\n"
    }
   }
  },
  {
   "cell_type": "code",
   "execution_count": 104,
   "outputs": [
    {
     "name": "stderr",
     "output_type": "stream",
     "text": [
      "  0%|          | 0/23567 [00:00<?, ?it/s]<ipython-input-65-63fcbc9bdea1>:82: DeprecationWarning: Call to deprecated `__getitem__` (Method will be removed in 4.0.0, use self.wv.__getitem__() instead).\n",
      "  embedding_weights[index, :] = word2vec[word]\n",
      "100%|██████████| 23567/23567 [00:00<00:00, 64427.15it/s]\n"
     ]
    }
   ],
   "source": [
    "vocabulary_size = len(wine_data_getter.word2index) + 1\n",
    "embedding_size = 300\n",
    "\n",
    "wine_classifier = WineClassifier(\n",
    "    vocabulary_size=vocabulary_size,\n",
    "    embedding_size=embedding_size,\n",
    "    max_seq_length=wine_recommender.wine_corpus.max_len,\n",
    "    embedding_weights=emb_weights(\n",
    "        word2vec=wine_recommender.wine2vec.model,\n",
    "        word2index=wine_data_getter.word2index,\n",
    "        vocabulary_size=vocabulary_size,\n",
    "        embedding_size=embedding_size\n",
    "    ),\n",
    "    num_classes=len(set(train_test_and_validation.Y_test))\n",
    ")"
   ],
   "metadata": {
    "collapsed": false,
    "pycharm": {
     "name": "#%%\n"
    }
   }
  },
  {
   "cell_type": "markdown",
   "source": [
    "## Treinando o modelo"
   ],
   "metadata": {
    "collapsed": false,
    "pycharm": {
     "name": "#%% md\n"
    }
   }
  },
  {
   "cell_type": "code",
   "execution_count": 102,
   "outputs": [
    {
     "name": "stderr",
     "output_type": "stream",
     "text": [
      "2021-03-25 19:16:13,192 : WARNING : Model was constructed with shape (None, 80) for input KerasTensor(type_spec=TensorSpec(shape=(None, 80), dtype=tf.float32, name='embedding_1_input'), name='embedding_1_input', description=\"created by layer 'embedding_1_input'\"), but it was called on an input with incompatible shape (None, 84).\n",
      "2021-03-25 19:16:15,249 : WARNING : Model was constructed with shape (None, 80) for input KerasTensor(type_spec=TensorSpec(shape=(None, 80), dtype=tf.float32, name='embedding_1_input'), name='embedding_1_input', description=\"created by layer 'embedding_1_input'\"), but it was called on an input with incompatible shape (None, 84).\n",
      "2021-03-25 19:17:26,664 : WARNING : Model was constructed with shape (None, 80) for input KerasTensor(type_spec=TensorSpec(shape=(None, 80), dtype=tf.float32, name='embedding_1_input'), name='embedding_1_input', description=\"created by layer 'embedding_1_input'\"), but it was called on an input with incompatible shape (None, 84).\n",
      "2021-03-25 19:21:28,918 : WARNING : Found untraced functions such as lstm_cell_4_layer_call_fn, lstm_cell_4_layer_call_and_return_conditional_losses, lstm_cell_5_layer_call_fn, lstm_cell_5_layer_call_and_return_conditional_losses, lstm_cell_4_layer_call_fn while saving (showing 5 of 10). These functions will not be directly callable after loading.\n",
      "2021-03-25 19:21:29,030 : WARNING : Found untraced functions such as lstm_cell_4_layer_call_fn, lstm_cell_4_layer_call_and_return_conditional_losses, lstm_cell_5_layer_call_fn, lstm_cell_5_layer_call_and_return_conditional_losses, lstm_cell_4_layer_call_fn while saving (showing 5 of 10). These functions will not be directly callable after loading.\n",
      "2021-03-25 19:21:31,698 : INFO : Assets written to: wine_classifider_model_100b_40e_balanced/assets\n"
     ]
    },
    {
     "name": "stdout",
     "output_type": "stream",
     "text": [
      "Epoch 1/40\n",
      "223/223 [==============================] - 78s 328ms/step - loss: 1.3627 - accuracy: 0.4283 - val_loss: 0.5839 - val_accuracy: 0.7954\b\b\b\b\b\b\b\b\b\b\b\b\b\b\b\b\b\b\b\b\b\b\b\b\b\b\b\b\b\b\b\b\b\b\b\b\b\b\b\b\b\b\b\b\b\b\b\b\b\b\b\b\b\b\b\b\b\b\b\b\b\b\b\b\b\b\b\b\b\b\b\b\b\b\b\b\b\b\b\b\b\b\b\b\b\b\b\b\b\b\b\b\b\b\b\b\b\b\b\b\b\b\b\b\b\b\b\b\b\b\b\b\b\b\b\b\b\b\b\b\b\b\b\b\b\b\b\b\b\b\b\b\b\b\b\b\b\b\b\b\b\b\b\b\b\b\b\b\b\b\b\b\b\b\b\b\b\b\b\b\b\b\b\b\b\b\b\b\b\b\b\b\b\b\b\b\b\b\b\b\b\b\b\b\b\b\b\b\b\b\b\b\b\b\b\b\b\b\b\b\b\b\b\b\b\b\b\b\b\b\b\b\b\b\b\b\b\b\b\b\b\b\b\b\b\b\b\b\b\b\b\b\b\b\b\b\b\b\b\b\b\b\b\b\b\b\b\b\b\b\b\b\b\b\b\b\b\b\b\b\b\b\b\b\b\b\b\b\b\b\b\b\b\b\b\b\b\b\b\b\b\b\b\b\b\b\b\b\b\b\b\b\b\b\b\b\b\b\b\b\b\b\b\b\b\b\b\b\b\b\b\b\b\b\b\b\b\b\b\b\b\b\b\b\b\b\b\b\b\b\b\b\b\b\b\b\b\b\b\b\b\b\b\b\b\b\b\b\b\b\b\b\b\b\b\b\b\b\b\b\b\b\b\b\b\b\b\b\b\b\b\b\b\b\b\b\b\b\b\b\b\b\b\b\b\b\b\b\b\b\b\b\b\b\b\b\b\b\b\b\b\b\b\b\b\b\b\b\b\b\b\b\b\b\b\b\b\b\b\b\b\b\b\b\b\b\b\b\b\b\b\b\b\b\b\b\b\b\b\b\b\b\b\b\b\b\b\b\b\b\b\b\b\b\b\b\b\b\b\b\b\b\b\b\b\b\b\b\b\b\b\b\b\b\b\b\b\b\b\b\b\b\b\b\b\b\b\b\b\b\b\b\b\b\b\b\b\b\b\b\b\b\b\b\b\b\b\b\b\b\b\b\b\b\b\b\b\b\b\b\b\b\b\b\b\b\b\b\b\b\b\b\b\b\b\b\b\b\b\b\b\b\b\b\b\b\b\b\b\b\b\b\b\b\b\b\b\b\b\b\b\b\b\b\b\b\b\b\b\b\b\b\b\b\b\b\b\b\b\b\b\b\b\b\b\b\b\b\b\b\b\b\b\b\b\b\b\b\b\b\b\b\b\b\b\b\b\b\b\b\b\b\b\b\b\b\b\b\b\b\b\b\b\b\b\b\b\b\b\b\b\b\b\b\b\b\b\b\b\b\b\b\b\b\b\b\b\b\b\b\b\b\b\b\b\b\b\b\b\b\b\b\b\b\b\b\b\b\b\b\b\b\b\b\b\b\b\b\b\b\b\b\b\b\b\b\b\b\b\b\b\b\b\b\b\b\b\b\b\b\b\b\b\b\b\b\b\b\b\b\b\b\b\b\b\b\b\b\b\b\b\b\b\b\b\b\b\b\b\b\b\b\b\b\b\b\b\b\b\b\b\b\b\b\b\b\b\b\b\b\b\b\b\b\b\b\b\b\b\b\b\b\b\b\b\b\b\b\b\b\b\b\b\b\b\b\b\b\b\b\b\b\b\b\b\b\b\b\b\b\b\b\b\b\b\b\b\b\b\b\b\b\b\b\b\b\b\b\b\b\b\b\b\b\b\b\b\b\b\b\b\b\b\b\b\b\b\b\b\b\b\b\b\b\b\b\b\b\b\b\b\b\b\b\b\b\b\b\b\b\b\b\b\b\b\b\b\b\b\b\b\b\b\b\b\b\b\b\b\b\b\b\b\b\b\b\b\b\b\b\b\b\b\b\b\b\b\b\b\b\b\b\b\b\b\b\b\b\b\b\b\b\b\b\b\b\b\b\b\b\b\b\b\b\b\b\b\b\b\b\b\b\b\b\b\b\b\b\b\b\b\b\b\b\b\b\b\b\b\b\b\b\b\b\b\b\b\b\b\b\b\b\b\b\b\b\b\b\b\b\b\b\b\b\b\b\b\b\b\b\b\b\b\b\b\b\b\b\b\b\b\b\b\b\b\b\b\b\b\b\b\b\b\b\b\b\b\b\b\b\b\b\b\b\b\b\b\b\b\b\b\b\b\b\b\b\b\b\b\b\b\b\b\b\b\b\b\b\b\b\b\b\b\b\b\b\b\b\b\b\b\b\b\b\b\b\b\b\b\b\b\b\b\b\b\b\b\b\b\b\b\b\b\b\b\b\b\b\b\b\b\b\b\b\b\b\b\b\b\b\b\b\b\b\b\b\b\b\b\b\b\b\b\b\b\b\b\b\b\b\b\b\b\b\b\b\b\b\b\b\b\b\b\b\b\b\b\b\b\b\b\b\b\b\b\b\b\b\b\b\b\b\b\b\b\b\b\b\b\b\b\b\b\b\b\b\b\b\b\b\b\b\b\b\b\b\b\b\b\b\b\b\b\b\b\b\b\b\b\b\b\b\b\b\b\b\b\b\b\b\b\b\b\b\b\b\b\b\b\b\b\b\b\b\b\b\b\b\b\b\b\b\b\b\b\b\b\b\b\b\b\b\b\b\b\b\b\b\b\b\b\b\b\b\b\b\b\b\b\b\b\b\b\b\b\b\b\b\b\b\b\b\b\b\b\b\b\b\b\b\b\b\b\b\b\b\b\b\b\b\b\b\b\b\b\b\b\b\b\b\b\b\b\b\b\b\b\b\b\b\b\b\b\b\b\b\b\b\b\b\b\b\b\b\b\b\b\b\b\b\b\b\b\b\b\b\b\b\b\b\b\b\b\b\b\b\b\b\b\b\b\b\b\b\b\b\b\b\b\b\b\b\b\b\b\b\b\b\b\b\b\b\b\b\b\b\b\b\b\b\b\b\b\b\b\b\b\b\b\b\b\b\b\b\b\b\b\b\b\b\b\b\b\b\b\b\b\b\b\b\b\b\b\b\b\b\b\b\b\b\b\b\b\b\b\b\b\b\b\b\b\b\b\b\b\b\b\b\b\b\b\b\b\b\b\b\b\b\b\b\b\b\b\b\b\b\b\b\b\b\b\b\b\b\b\b\b\b\b\b\b\b\b\b\b\b\b\b\b\b\b\b\b\b\b\b\b\b\b\b\b\b\b\b\b\b\b\b\b\b\b\b\b\b\b\b\b\b\b\b\b\b\b\b\b\b\b\b\b\b\b\b\b\b\b\b\b\b\b\b\b\b\b\b\b\b\b\b\b\b\b\b\b\b\b\b\b\b\b\b\b\b\b\b\b\b\b\b\b\b\b\b\b\b\b\b\b\b\b\b\b\b\b\b\b\b\b\b\b\b\b\b\b\b\b\b\b\b\b\b\b\b\b\b\b\b\b\b\b\b\b\b\b\b\b\b\b\b\b\b\b\b\b\b\b\b\b\b\b\b\b\b\b\b\b\b\b\b\b\b\b\b\b\b\b\b\b\b\b\b\b\b\b\b\b\b\b\b\b\b\b\b\b\b\b\b\b\b\b\b\b\b\b\b\b\b\b\b\b\b\b\b\b\b\b\b\b\b\b\b\b\b\b\b\b\b\b\b\b\b\b\b\b\b\b\b\b\b\b\b\b\b\b\b\b\b\b\b\b\b\b\b\b\b\b\b\b\b\b\b\b\b\b\b\b\b\b\b\b\b\b\b\b\b\b\b\b\b\b\b\b\b\b\b\b\b\b\b\b\b\b\b\b\b\b\b\b\b\b\b\b\b\b\b\b\b\b\b\b\b\b\b\b\b\b\b\b\b\b\b\b\b\b\b\b\b\b\b\b\b\b\b\b\b\b\b\b\b\b\b\b\b\b\b\b\b\b\b\b\b\b\b\b\b\b\b\b\b\b\b\b\b\b\b\b\b\b\b\b\b\b\b\b\b\b\b\b\b\b\b\b\b\b\b\b\b\b\b\b\b\b\b\b\b\b\b\b\b\b\b\b\b\b\b\b\b\b\b\b\b\b\b\b\b\b\b\b\b\b\b\b\b\b\b\b\b\b\b\b\b\b\b\b\b\b\b\b\b\b\b\b\b\b\b\b\b\b\b\b\b\b\b\b\b\b\b\b\b\b\b\b\b\b\b\b\b\b\b\b\b\b\b\b\b\b\b\b\b\b\b\b\b\b\b\b\b\b\b\b\b\b\b\b\b\b\b\b\b\b\b\b\b\b\b\b\b\b\b\b\b\b\b\b\b\b\b\b\b\b\b\b\b\b\b\b\b\b\b\b\b\b\b\b\b\b\b\b\b\b\b\b\b\b\b\b\b\b\b\b\b\b\b\b\b\b\b\b\b\b\b\b\b\b\b\b\b\b\b\b\b\b\b\b\b\b\b\b\b\b\b\b\b\b\b\b\b\b\b\b\b\b\b\b\b\b\b\b\b\b\b\b\b\b\b\b\b\b\b\b\b\b\b\b\b\b\b\b\b\b\b\b\b\b\b\b\b\b\b\b\b\b\b\b\b\b\b\b\b\b\b\b\b\b\b\b\b\b\b\b\b\b\b\b\b\b\b\b\b\b\b\b\b\b\b\b\b\b\b\b\b\b\b\b\b\b\b\b\b\b\b\b\b\b\b\b\b\b\b\b\b\b\b\b\b\b\b\b\b\b\b\b\b\b\b\b\b\b\b\b\b\b\b\b\b\b\b\b\b\b\b\b\b\b\b\b\b\b\b\b\b\b\b\b\b\b\b\b\b\b\b\b\b\b\b\b\b\b\b\b\b\b\b\b\b\b\b\b\b\b\b\b\b\b\b\b\b\b\b\b\b\b\b\b\b\b\b\b\b\b\b\b\b\b\b\b\b\b\b\b\b\b\b\b\b\b\b\b\b\b\b\b\b\b\b\b\b\b\b\b\b\b\b\b\b\b\b\b\b\b\b\b\b\b\b\b\b\b\b\b\b\b\b\b\b\b\b\b\b\b\b\b\b\b\b\b\b\b\b\b\b\b\b\b\b\b\b\b\b\b\b\b\b\b\b\b\b\b\b\b\b\b\b\b\b\b\b\b\b\b\b\b\b\b\b\b\b\b\b\b\b\b\b\b\b\b\b\b\b\b\b\b\b\b\b\b\b\b\b\b\b\b\b\b\b\b\b\b\b\b\b\b\b\b\b\b\b\b\b\b\b\b\b\b\b\b\b\b\b\b\b\b\b\b\b\b\b\b\b\b\b\b\b\b\b\b\b\b\b\b\b\b\b\b\b\b\b\b\b\b\b\b\b\b\b\b\b\b\b\b\b\b\b\b\b\b\b\b\b\b\b\b\b\b\b\b\b\b\b\b\b\b\b\b\b\b\b\b\b\b\b\b\b\b\b\b\b\b\b\b\b\b\b\b\b\b\b\b\b\b\b\b\b\b\b\b\b\b\b\b\b\b\b\b\b\b\b\b\b\b\b\b\b\b\b\b\b\b\b\b\b\b\b\b\b\b\b\b\b\b\b\b\b\b\b\b\b\b\b\b\b\b\b\b\b\b\b\b\b\b\b\b\b\b\b\b\b\b\b\b\b\b\b\b\b\b\b\b\b\b\b\b\b\b\b\b\b\b\b\b\b\b\b\b\b\b\b\b\b\b\b\b\b\b\b\b\b\b\b\b\b\b\b\b\b\b\b\b\b\b\b\b\b\b\b\b\b\b\b\b\b\b\b\b\b\b\b\b\b\b\b\b\b\b\b\b\b\b\b\b\b\b\b\b\b\b\b\b\b\b\b\b\b\b\b\b\b\b\b\b\b\b\b\b\b\b\b\b\b\b\b\b\b\b\b\b\b\b\b\b\b\b\b\b\b\b\b\b\b\b\b\b\b\b\b\b\b\b\b\b\b\b\b\b\b\b\b\b\b\b\b\b\b\b\b\b\b\b\b\b\b\b\b\b\b\b\b\b\b\b\b\b\b\b\b\b\b\b\b\b\b\b\b\b\b\b\b\b\b\b\b\b\b\b\b\b\b\b\b\b\b\b\b\b\b\b\b\b\b\b\b\b\b\b\b\b\b\b\b\b\b\b\b\b\b\b\b\b\b\b\b\b\b\b\b\b\b\b\b\b\b\b\b\b\b\b\b\b\b\b\b\b\b\b\b\b\b\b\b\b\b\b\b\b\b\b\b\b\b\b\b\b\b\b\b\b\b\b\b\b\b\b\b\b\b\b\b\b\b\b\b\b\b\b\b\b\b\b\b\b\b\b\b\b\b\b\b\b\b\b\b\b\b\b\b\b\b\b\b\b\b\b\b\b\b\b\b\b\b\b\b\b\b\b\b\b\b\b\b\b\b\b\b\b\b\b\b\b\b\b\b\b\b\b\b\b\b\b\b\b\b\b\b\b\b\b\b\b\b\b\b\b\b\b\b\b\b\b\b\b\b\b\b\b\b\b\b\b\b\b\b\b\b\b\b\b\b\b\b\b\b\b\b\b\b\b\b\b\b\b\b\b\b\b\b\b\b\b\b\b\b\b\b\b\b\b\b\b\b\b\b\b\b\b\b\b\b\b\b\b\b\b\b\b\b\b\b\b\b\b\b\b\b\b\b\b\b\b\b\b\b\b\b\b\b\b\b\b\b\b\b\b\b\b\b\b\b\b\b\b\b\b\b\b\b\b\b\b\b\b\b\b\b\b\b\b\b\b\b\b\b\b\b\b\b\b\b\b\b\b\b\b\b\b\b\b\b\b\b\b\b\b\b\b\b\b\b\b\b\b\b\b\b\b\b\b\b\b\b\b\b\b\b\b\b\b\b\b\b\b\b\b\b\b\b\b\b\b\b\b\b\b\b\b\b\b\b\b\b\b\b\b\b\b\b\b\b\b\b\b\b\b\b\b\b\b\b\b\b\b\b\b\b\b\b\b\b\b\b\b\b\b\b\b\b\b\b\b\b\b\b\b\b\b\b\b\b\b\b\b\b\b\b\b\b\b\b\b\b\b\b\b\b\b\b\b\b\b\b\b\b\b\b\b\b\b\b\b\b\b\b\b\b\b\b\b\b\b\b\b\b\b\b\b\b\b\b\b\b\b\b\b\b\b\b\b\b\b\b\b\b\b\b\b\b\b\b\b\b\b\b\b\b\b\b\b\b\b\b\b\b\b\b\b\b\b\b\b\b\b\b\b\b\b\b\b\b\b\b\b\b\b\b\b\b\b\b\b\b\b\b\b\b\b\b\b\b\b\b\b\b\b\b\b\b\b\b\b\b\b\b\b\b\b\b\b\b\b\b\b\b\b\b\b\b\b\b\b\b\b\b\b\b\b\b\b\b\b\b\b\b\b\b\b\b\b\b\b\b\b\b\b\b\b\b\b\b\b\b\b\b\b\b\b\b\b\b\b\b\b\b\b\b\b\b\b\b\b\b\b\b\b\b\b\b\b\b\b\b\b\b\b\b\b\b\b\b\b\b\b\b\b\b\b\b\b\b\b\b\b\b\b\b\b\b\b\b\b\b\b\b\b\b\b\b\b\b\b\b\b\b\b\b\b\b\b\b\b\b\b\b\b\b\b\b\b\b\b\b\b\b\b\b\b\b\b\b\b\b\b\b\b\b\b\b\b\b\b\b\b\b\b\b\b\b\b\b\b\b\b\b\b\b\b\b\b\b\b\b\b\b\b\b\b\b\b\b\b\b\b\b\b\b\b\b\b\b\b\b\b\b\b\b\b\b\b\b\b\b\b\b\b\b\b\b\b\b\b\b\b\b\b\b\b\b\b\b\b\b\b\b\b\b\b\b\b\b\b\b\b\b\b\b\b\b\b\b\b\b\b\b\b\b\b\b\b\b\b\b\b\b\b\b\b\b\b\b\b\b\b\b\b\b\b\b\b\b\b\b\b\b\b\b\b\b\b\b\b\b\b\b\b\b\b\b\b\b\b\b\b\b\b\b\b\b\b\b\b\b\b\b\b\b\b\b\b\b\b\b\b\b\b\b\b\b\b\b\b\b\b\b\b\b\b\b\b\b\b\b\b\b\b\b\b\b\b\b\b\b\b\b\b\b\b\b\b\b\b\b\b\b\b\b\b\b\b\b\b\b\b\b\b\b\b\b\b\b\b\b\b\b\b\b\b\b\b\b\b\b\b\b\b\b\b\b\b\b\b\b\b\b\b\b\b\b\b\b\b\b\b\b\b\b\b\b\b\b\b\b\b\b\b\b\b\b\b\b\b\b\b\b\b\b\b\b\b\b\b\b\b\b\b\b\b\b\b\b\b\b\b\b\b\b\b\b\b\b\b\b\b\b\b\b\b\b\b\b\b\b\b\b\b\b\b\b\b\b\b\b\b\b\b\b\b\b\b\b\b\b\b\b\b\b\b\b\b\b\b\b\b\b\b\b\b\b\b\b\b\b\b\b\b\b\b\b\b\b\b\b\b\b\b\b\b\b\b\b\b\b\b\b\b\b\b\b\b\b\b\b\b\b\b\b\b\b\b\b\b\b\b\b\b\b\b\b\b\b\b\b\b\b\b\b\b\b\b\b\b\b\b\b\b\b\b\b\b\b\b\b\b\b\b\b\b\b\b\b\b\b\b\b\b\b\b\b\b\b\b\b\b\b\b\b\b\b\b\b\b\b\b\b\b\b\b\b\b\b\b\b\b\b\b\b\b\b\b\b\b\b\b\b\b\b\b\b\b\b\b\b\b\b\b\b\b\b\b\b\b\b\b\b\b\b\b\b\b\b\b\b\b\b\b\b\b\b\b\b\b\b\b\b\b\b\b\b\b\b\b\b\b\b\b\b\b\b\b\b\b\b\b\b\b\b\b\b\b\b\b\b\b\b\b\b\b\b\b\b\b\b\b\b\b\b\b\b\b\b\b\b\b\b\b\b\b\b\b\b\b\b\b\b\b\b\b\b\b\b\b\b\b\b\b\b\b\b\b\b\b\b\b\b\b\b\b\b\b\b\b\b\b\b\b\b\b\b\b\b\b\b\b\b\b\b\b\b\b\b\b\b\b\b\b\b\b\b\b\b\b\b\b\b\b\b\b\b\b\b\b\b\b\b\b\b\b\b\b\b\b\b\b\b\b\b\b\b\b\b\b\b\b\b\b\b\b\b\b\b\b\b\b\b\b\b\b\b\b\b\b\b\b\b\b\b\b\b\b\b\b\b\b\b\b\b\b\b\b\b\b\b\b\b\b\b\b\b\b\b\b\b\b\b\b\b\b\b\b\b\b\b\b\b\b\b\b\b\b\b\b\b\b\b\b\b\b\b\b\b\b\b\b\b\b\b\b\b\b\b\b\b\b\b\b\b\b\b\b\b\b\b\b\b\b\b\b\b\b\b\b\b\b\b\b\b\b\b\b\b\b\b\b\b\b\b\b\b\b\b\b\b\b\b\b\b\b\b\b\b\b\b\b\b\b\b\b\b\b\b\b\b\b\b\b\b\b\b\b\b\b\b\b\b\b\b\b\b\b\b\b\b\b\b\b\b\b\b\b\b\b\b\b\b\b\b\b\b\b\b\b\b\b\b\b\b\b\b\b\b\b\b\b\b\b\b\b\b\b\b\b\b\b\b\b\b\b\b\b\b\b\b\b\b\b\b\b\b\b\b\b\b\b\b\b\b\b\b\b\b\b\b\b\b\b\b\b\b\b\b\b\b\b\b\b\b\b\b\b\b\b\b\b\b\b\b\b\b\b\b\b\b\b\b\b\b\b\b\b\b\b\b\b\b\b\b\b\b\b\b\b\b\b\b\b\b\b\b\b\b\b\b\b\b\b\b\b\b\b\b\b\b\b\b\b\b\b\b\b\b\b\b\b\b\b\b\b\b\b\b\b\b\b\b\b\b\b\b\b\b\b\b\b\b\b\b\b\b\b\b\b\b\b\b\b\b\b\b\b\b\b\b\b\b\b\b\b\b\b\b\b\b\b\b\b\b\b\b\b\b\b\b\b\b\b\b\b\b\b\b\b\b\b\b\b\b\b\b\b\b\b\b\b\b\b\b\b\b\b\b\b\b\b\b\b\b\b\b\b\b\b\b\b\b\b\b\b\b\b\b\b\b\b\b\b\b\b\b\b\b\b\b\b\b\b\b\b\b\b\b\b\b\b\b\b\b\b\b\b\b\b\b\b\b\b\b\b\b\b\b\b\b\b\b\b\b\b\b\b\b\b\b\b\b\b\b\b\b\b\b\b\b\b\b\b\b\b\b\b\b\b\b\b\b\b\b\b\b\b\b\b\b\b\b\b\b\b\b\b\b\b\b\b\b\b\b\b\b\b\b\b\b\b\b\b\b\b\b\b\b\b\b\b\b\b\b\b\b\b\b\b\b\b\b\b\b\b\b\b\b\b\b\b\b\b\b\b\b\b\b\b\b\b\b\b\b\b\b\b\b\b\b\b\b\b\b\b\b\b\b\b\b\b\b\b\b\b\b\b\b\b\b\b\b\b\b\b\b\b\b\b\b\b\b\b\b\b\b\b\b\b\b\b\b\b\b\b\b\b\b\b\b\b\b\b\b\b\b\b\b\b\b\b\b\b\b\b\b\b\b\b\b\b\b\b\b\b\b\b\b\b\b\b\b\b\b\b\b\b\b\b\b\b\b\b\b\b\b\b\b\b\b\b\b\b\b\b\b\b\b\b\b\b\b\b\b\b\b\b\b\b\b\b\b\b\b\b\b\b\b\b\b\b\b\b\b\b\b\b\b\b\b\b\b\b\b\b\b\b\b\b\b\b\b\b\b\b\b\b\b\b\b\b\b\b\b\b\b\b\b\b\b\b\b\b\b\b\b\b\b\b\b\b\b\b\b\b\b\b\b\b\b\b\b\b\b\b\b\b\b\b\b\b\b\b\b\b\b\b\b\b\b\b\b\b\b\b\b\b\b\b\b\b\b\b\b\b\b\b\b\b\b\b\b\b\b\b\b\b\b\b\b\b\b\b\b\b\b\b\b\b\b\b\b\b\b\b\b\b\b\b\b\b\b\b\b\b\b\b\b\b\b\b\b\b\b\b\b\b\b\b\b\b\b\b\b\b\b\b\b\b\b\b\b\b\b\b\b\b\b\b\b\b\b\b\b\b\b\b\b\b\b\b\b\b\b\b\b\b\b\b\b\b\b\b\b\b\b\b\b\b\b\b\b\b\b\b\b\b\b\b\b\b\b\b\b\b\b\b\b\b\b\b\b\b\b\b\b\b\b\b\b\b\b\b\b\b\b\b\b\b\b\b\b\b\b\b\b\b\b\b\b\b\b\b\b\b\b\b\b\b\b\b\b\b\b\b\b\b\b\b\b\b\b\b\b\b\b\b\b\b\b\b\b\b\b\b\b\b\b\b\b\b\b\b\b\b\b\b\b\b\b\b\b\b\b\b\b\b\b\b\b\b\b\b\b\b\b\b\b\b\b\b\b\b\b\b\b\b\b\b\b\b\b\b\b\b\b\b\b\b\b\b\b\b\b\b\b\b\b\b\b\b\b\b\b\b\b\b\b\b\b\b\b\b\b\b\b\b\b\b\b\b\b\b\b\b\b\b\b\b\b\b\b\b\b\b\b\b\b\b\b\b\b\b\b\b\b\b\b\b\b\b\b\b\b\b\b\b\b\b\b\b\b\b\b\b\b\b\b\b\b\b\b\b\b\b\b\b\b\b\b\b\b\b\b\b\b\b\b\b\b\b\b\b\b\b\b\b\b\b\b\b\b\b\b\b\b\b\b\b\b\b\b\b\b\b\b\b\b\b\b\b\b\b\b\b\b\b\b\b\b\b\b\b\b\b\b\b\b\b\b\b\b\b\b\b\b\b\b\b\b\b\b\b\b\b\b\b\b\b\b\b\b\b\b\b\b\b\b\b\b\b\b\b\b\b\b\b\b\b\b\b\b\b\b\b\b\b\b\b\b\b\b\b\b\b\b\b\b\b\b\b\b\b\b\b\b\b\b\b\b\b\b\b\b\b\b\b\b\b\b\b\b\b\b\b\b\b\b\b\b\b\b\b\b\b\b\b\b\b\b\b\b\b\b\b\b\b\b\b\b\b\b\b\b\b\b\b\b\b\b\b\b\b\b\b\b\b\b\b\b\b\b\b\b\b\b\b\b\b\b\b\b\b\b\b\b\b\b\b\b\b\b\b\b\b\b\b\b\b\b\b\b\b\b\b\b\b\b\b\b\b\b\b\b\b\b\b\b\b\b\b\b\b\b\b\b\b\b\b\b\b\b\b\b\b\b\b\b\b\b\b\b\b\b\b\b\b\b\b\b\b\b\b\b\b\b\b\b\b\b\b\b\b\b\b\b\b\b\b\b\b\b\b\b\b\b\b\b\b\b\b\b\b\b\b\b\b\b\b\b\b\b\b\b\b\b\b\b\b\b\b\b\b\b\b\b\b\b\b\b\b\b\b\b\b\b\b\b\b\b\b\b\b\b\b\b\b\b\b\b\b\b\b\b\b\b\b\b\b\b\b\b\b\b\b\b\b\b\b\b\b\b\b\b\b\b\b\b\b\b\b\b\b\b\b\b\b\b\b\b\b\b\b\b\b\b\b\b\b\b\b\b\b\b\b\b\b\b\b\b\b\b\b\b\b\b\b\b\b\b\b\b\b\b\b\b\b\b\b\b\b\b\b\b\b\b\b\b\b\b\b\b\b\b\b\b\b\b\b\b\b\b\b\b\b\b\b\b\b\b\b\b\b\b\b\b\b\b\b\b\b\b\b\b\b\b\b\b\b\b\b\b\b\b\b\b\b\b\b\b\b\b\b\b\b\b\b\b\b\b\b\b\b\b\b\b\b\b\b\b\b\b\b\b\b\b\b\b\b\b\b\b\b\b\b\b\b\b\b\b\b\b\b\b\b\b\b\b\b\b\b\b\b\b\b\b\b\b\b\b\b\b\b\b\b\b\b\b\b\b\b\b\b\b\b\b\b\b\b\b\b\b\b\b\b\b\b\b\b\b\b\b\b\b\b\b\b\b\b\b\b\b\b\b\b\b\b\b\b\b\b\b\b\b\b\b\b\b\b\b\b\b\b\b\b\b\b\b\b\b\b\b\b\b\b\b\b\b\b\b\b\b\b\b\b\b\b\b\b\b\b\b\b\b\b\b\b\b\b\b\b\b\b\b\b\b\b\b\b\b\b\b\b\b\b\b\b\b\b\b\b\b\b\b\b\b\b\b\b\b\b\b\b\b\b\b\b\b\b\b\b\b\b\b\b\b\b\b\b\b\b\b\b\b\b\b\b\b\b\b\b\b\b\b\b\b\b\b\b\b\b\b\b\b\b\b\b\b\b\b\b\b\b\b\b\b\b\b\b\b\b\b\b\b\b\b\b\b\b\b\b\b\b\b\b\b\b\b\b\b\b\b\b\b\b\b\b\b\b\b\b\b\b\b\b\b\b\b\b\b\b\b\b\b\b\b\b\b\b\b\b\b\b\b\b\b\b\b\b\b\b\b\b\b\b\b\b\b\b\b\b\b\b\b\b\b\b\b\b\b\b\b\b\b\b\b\b\b\b\b\b\b\b\b\b\b\b\b\b\b\b\b\b\b\b\b\b\b\b\b\b\b\b\b\b\b\b\b\b\b\b\b\b\b\b\b\b\b\b\b\b\b\b\b\b\b\b\b\b\b\b\b\b\b\b\b\b\b\b\b\b\b\b\b\b\b\b\b\b\b\b\b\b\b\b\b\b\b\b\b\b\b\b\b\b\b\b\b\b\b\b\b\b\b\b\b\b\b\b\b\b\b\b\b\b\b\b\b\b\b\b\b\b\b\b\b\b\b\b\b\b\b\b\b\b\b\b\b\b\b\b\b\b\b\b\b\b\b\b\b\b\b\b\b\b\b\b\b\b\b\b\b\b\b\b\b\b\b\b\b\b\b\b\b\b\b\b\b\b\b\b\b\b\b\b\b\b\b\b\b\b\b\b\b\b\b\b\b\b\b\b\b\b\b\b\b\b\b\b\b\b\b\b\b\b\b\b\b\b\b\b\b\b\b\b\b\b\b\b\b\b\b\b\b\b\b\b\b\b\b\b\b\b\b\b\b\b\b\b\b\b\b\b\b\b\b\b\b\b\b\b\b\b\b\b\b\b\b\b\b\b\b\b\b\b\b\b\b\b\b\b\b\b\b\b\b\b\b\b\b\b\b\b\b\b\b\b\b\b\b\b\b\b\b\b\b\b\b\b\b\b\b\b\b\b\b\b\b\b\b\b\b\b\b\b\b\b\b\b\b\b\b\b\b\b\b\b\b\b\b\b\b\b\b\b\b\b\b\b\b\b\b\b\b\b\b\b\b\b\b\b\b\b\b\b\b\b\b\b\b\b\b\b\b\b\b\b\b\b\b\b\b\b\b\b\b\b\b\b\b\b\b\b\b\b\b\b\b\b\b\b\b\b\b\b\b\b\b\b\b\b\b\b\b\b\b\b\b\b\b\b\b\b\b\b\b\b\b\b\b\b\b\b\b\b\b\b\b\b\b\b\b\b\b\b\b\b\b\b\b\b\b\b\b\b\b\b\b\b\b\b\b\b\b\b\b\b\b\b\b\b\b\b\b\b\b\b\b\b\b\b\b\b\b\b\b\b\b\b\b\b\b\b\b\b\b\b\b\b\b\b\b\b\b\b\b\b\b\b\b\b\b\b\b\b\b\b\b\b\b\b\b\b\b\b\b\b\b\b\b\b\b\b\b\b\b\b\b\b\b\b\b\b\b\b\b\b\b\b\b\b\b\b\b\b\b\b\b\b\b\b\b\b\b\b\b\b\b\b\b\b\b\b\b\b\b\b\b\b\b\b\b\b\b\b\b\b\b\b\b\b\b\b\b\b\b\b\b\b\b\b\b\b\b\b\b\b\b\b\b\b\b\b\b\b\b\b\b\b\b\b\b\b\b\b\b\b\b\b\b\b\b\b\b\b\b\b\b\b\b\b\b\b\b\b\b\b\b\b\b\b\b\b\b\b\b\b\b\b\b\b\b\b\b\b\b\b\b\b\b\b\b\b\b\b\b\b\b\b\b\b\b\b\b\b\b\b\b\b\b\b\b\b\b\b\b\b\b\b\b\b\b\b\b\b\b\b\b\b\b\b\b\b\b\b\b\b\b\b\b\b\b\b\b\b\b\b\b\b\b\b\b\b\b\b\b\b\b\b\b\b\b\b\b\b\b\b\b\b\b\b\b\b\b\b\b\b\b\b\b\b\b\b\b\b\b\b\b\b\b\b\b\b\b\b\b\b\b\b\b\b\b\b\b\b\b\b\b\b\b\b\b\b\b\b\b\b\b\b\b\b\b\b\b\b\b\b\b\b\b\b\b\b\b\b\b\b\b\b\b\b\b\b\b\b\b\b\b\b\b\b\b\b\b\b\b\b\b\b\b\b\b\b\b\b\b\b\b\b\b\b\b\b\b\b\b\b\b\b\b\b\b\b\b\b\b\b\b\b\b\b\b\b\b\b\b\b\b\b\b\b\b\b\b\b\b\b\b\b\b\b\b\b\b\b\b\b\b\b\b\b\b\b\b\b\b\b\b\b\b\b\b\b\b\b\b\b\b\b\b\b\b\b\b\b\b\b\b\b\b\b\b\b\b\b\b\b\b\b\b\b\b\b\b\b\b\b\b\b\b\b\b\b\b\b\b\b\b\b\b\b\b\b\b\b\b\b\b\b\b\b\b\b\b\b\b\b\b\b\b\b\b\b\b\b\b\b\b\b\b\b\b\b\b\b\b\b\b\b\b\b\b\b\b\b\b\b\b\b\b\b\b\b\b\b\b\b\b\b\b\b\b\b\b\b\b\b\b\b\b\b\b\b\b\b\b\b\b\b\b\b\b\b\b\b\b\b\b\b\b\b\b\b\b\b\b\b\b\b\b\b\b\b\b\b\b\b\b\b\b\b\b\b\b\b\b\b\b\b\b\b\b\b\b\b\b\b\b\b\b\b\b\b\b\b\b\b\b\b\b\b\b\b\b\b\b\b\b\b\b\b\b\b\b\b\b\b\b\b\b\b\b\b\b\b\b\b\b\b\b\b\b\b\b\b\b\b\b\b\b\b\b\b\b\b\b\b\b\b\b\b\b\b\b\b\b\b\b\b\b\b\b\b\b\b\b\b\b\b\b\b\b\b\b\b\b\b\b\b\b\b\b\b\b\b\b\b\b\b\b\b\b\b\b\b\b\b\b\b\b\b\b\b\b\b\b\b\b\b\b\b\b\b\b\b\b\b\b\b\b\b\b\b\b\b\b\b\b\b\b\b\b\b\b\b\b\b\b\b\b\b\b\b\b\b\b\b\b\b\b\b\b\b\b\b\b\b\b\b\b\b\b\b\b\b\b\b\b\b\b\b\b\b\b\b\b\b\b\b\b\b\b\b\b\b\b\b\b\b\b\b\b\b\b\b\b\b\b\b\b\b\b\b\b\b\b\b\b\b\b\b\b\b\b\b\b\b\b\b\b\b\b\b\b\b\b\b\b\b\b\b\b\b\b\b\b\b\b\b\b\b\b\b\b\b\b\b\b\b\b\b\b\b\b\b\b\b\b\b\b\b\b\b\b\b\b\b\b\b\b\b\b\b\b\b\b\b\b\b\b\b\b\b\b\b\b\b\b\b\b\b\b\b\b\b\b\b\b\b\b\b\b\b\b\b\b\b\b\b\b\b\b\b\b\b\b\b\b\b\b\b\b\b\b\b\b\b\b\b\b\b\b\b\b\b\b\b\b\b\b\b\b\b\b\b\b\b\b\b\b\b\b\b\b\b\b\b\b\b\b\b\b\b\b\b\b\b\b\b\b\b\b\b\b\b\b\b\b\b\b\b\b\b\b\b\b\b\b\b\b\b\b\b\b\b\b\b\b\b\b\b\b\b\b\b\b\b\b\b\b\b\b\b\b\b\b\b\b\b\b\b\b\b\b\b\b\b\b\b\b\b\b\b\b\b\b\b\b\b\b\b\b\b\b\b\b\b\b\b\b\b\b\b\b\b\b\b\b\b\b\b\b\b\b\b\b\b\b\b\b\b\b\b\b\b\b\b\b\b\b\b\b\b\b\b\b\b\b\b\b\b\b\b\b\b\b\b\b\b\b\b\b\b\b\b\b\b\b\b\b\b\b\b\b\b\b\b\b\b\b\b\b\b\b\b\b\b\b\b\b\b\b\b\b\b\b\b\b\b\b\b\b\b\b\b\b\b\b\b\b\b\b\b\b\b\b\b\b\b\b\b\b\b\b\b\b\b\b\b\b\b\b\b\b\b\b\b\b\b\b\b\b\b\b\b\b\b\b\b\b\b\b\b\b\b\b\b\b\b\b\b\b\b\b\b\b\b\b\b\b\b\b\b\b\b\b\b\b\b\b\b\b\b\b\b\b\b\b\b\b\b\b\b\b\b\b\b\b\b\b\b\b\b\b\b\b\b\b\b\b\b\b\b\b\b\b\b\b\b\b\b\b\b\b\b\b\b\b\b\b\b\b\b\b\b\b\b\b\b\b\b\b\b\b\b\b\b\b\b\b\b\b\b\b\b\b\b\b\b\b\b\b\b\b\b\b\b\b\b\b\b\b\b\b\b\b\b\b\b\b\b\b\b\b\b\b\b\b\b\b\b\b\b\b\b\b\b\b\b\b\b\b\b\b\b\b\b\b\b\b\b\b\b\b\b\b\b\b\b\b\b\b\b\b\b\b\b\b\b\b\b\b\b\b\b\b\b\b\b\b\b\b\b\b\b\b\b\b\b\b\b\b\b\b\b\b\b\b\b\b\b\b\b\b\b\b\b\b\b\b\b\b\b\b\b\b\b\b\b\b\b\b\b\b\b\b\b\b\b\b\b\b\b\b\b\b\b\b\b\b\b\b\b\b\b\b\b\b\b\b\b\b\b\b\b\b\b\b\b\b\b\b\b\b\b\b\b\b\b\b\b\b\b\b\b\b\b\b\b\b\b\b\b\b\b\b\b\b\b\b\b\b\b\b\b\b\b\b\b\b\b\b\b\b\b\b\b\b\b\b\b\b\b\b\b\b\b\b\b\b\b\b\b\b\b\b\b\b\b\b\b\b\b\b\b\b\b\b\b\b\b\b\b\b\b\b\b\b\b\b\b\b\b\b\b\b\b\b\b\b\b\b\b\b\b\b\b\b\b\b\b\b\b\b\b\b\b\b\b\b\b\b\b\b\b\b\b\b\b\b\b\b\b\b\b\b\b\b\b\b\b\b\b\b\b\b\b\b\b\b\b\b\b\b\b\b\b\b\b\b\b\b\b\b\b\b\b\b\b\b\b\b\b\b\b\b\b\b\b\b\b\b\b\b\b\b\b\b\b\b\b\b\b\b\b\b\b\b\b\b\b\b\b\b\b\b\b\b\b\b\b\b\b\b\b\b\b\b\b\b\b\b\b\b\b\b\b\b\b\b\b\b\b\b\b\b\b\b\b\b\b\b\b\b\b\b\b\b\b\b\b\b\b\b\b\b\b\b\b\b\b\b\b\b\b\b\b\b\b\b\b\b\b\b\b\b\b\b\b\b\b\b\b\b\b\b\b\b\b\b\b\b\b\b\b\b\b\b\b\b\b\b\b\b\b\b\b\b\b\b\b\b\b\b\b\b\b\b\b\b\b\b\b\b\b\b\b\b\b\b\b\b\b\b\b\b\b\b\b\b\b\b\b\b\b\b\b\b\b\b\b\b\b\b\b\b\b\b\b\b\b\b\b\b\b\b\b\b\b\b\b\b\b\b\b\b\b\b\b\b\b\b\b\b\b\b\b\b\b\b\b\b\b\b\b\b\b\b\b\b\b\b\b\b\b\b\b\b\b\b\b\b\b\b\b\b\b\b\b\b\b\b\b\b\b\b\b\b\b\b\b\b\b\b\b\b\b\b\b\b\b\b\b\b\b\b\b\b\b\b\b\b\b\b\b\b\b\b\b\b\b\b\b\b\b\b\b\b\b\b\b\b\b\b\b\b\b\b\b\b\b\b\b\b\b\b\b\b\b\b\b\b\b\b\b\b\b\b\b\b\b\b\b\b\b\b\b\b\b\b\b\b\b\b\b\b\b\b\b\b\b\b\b\b\b\b\b\b\b\b\b\b\b\b\b\b\b\b\b\b\b\b\b\b\b\b\b\b\b\b\b\b\b\b\b\b\b\b\b\b\b\b\b\b\b\b\b\b\b\b\b\b\b\b\b\b\b\b\b\b\b\b\b\b\b\b\b\b\b\b\b\b\b\b\b\b\b\b\b\b\b\b\b\b\b\b\b\b\b\b\b\b\b\b\b\b\b\b\b\b\b\b\b\b\b\b\b\b\b\b\b\b\b\b\b\b\b\b\b\b\b\b\b\b\b\b\b\b\b\b\b\b\b\b\b\b\b\b\b\b\b\b\b\b\b\b\b\b\b\b\b\b\b\b\b\b\b\b\b\b\b\b\b\b\b\b\b\b\b\b\b\b\b\b\b\b\b\b\b\b\b\b\b\b\b\b\b\b\b\b\b\b\b\b\b\b\b\b\b\b\b\b\b\b\b\b\b\b\b\b\b\b\b\b\b\b\b\b\b\b\b\b\b\b\b\b\b\b\b\b\b\b\b\b\b\b\b\b\b\b\b\b\b\b\b\b\b\b\b\b\b\b\b\b\b\b\b\b\b\b\b\b\b\b\b\b\b\b\b\b\b\b\b\b\b\b\b\b\b\b\b\b\b\b\b\b\b\b\b\b\b\b\b\b\b\b\b\b\b\b\b\b\b\b\b\b\b\b\b\b\b\b\b\b\b\b\b\b\b\b\b\b\b\b\b\b\b\b\b\b\b\b\b\b\b\b\b\b\b\b\b\b\b\b\b\b\b\b\b\b\b\b\b\b\b\b\b\b\b\b\b\b\b\b\b\b\b\b\b\b\b\b\b\b\b\b\b\b\b\b\b\b\b\b\b\b\b\b\b\b\b\b\b\b\b\b\b\b\b\b\b\b\b\b\b\b\b\b\b\b\b\b\b\b\b\b\b\b\b\b\b\b\b\b\b\b\b\b\b\b\b\b\b\b\b\b\b\b\b\b\b\b\b\b\b\b\b\b\b\b\b\b\b\b\b\b\b\b\b\b\b\b\b\b\b\b\b\b\b\b\b\b\b\b\b\b\b\b\b\b\b\b\b\b\b\b\b\b\b\b\b\b\b\b\b\b\b\b\b\b\b\b\b\b\b\b\b\b\b\b\b\b\b\b\b\b\b\b\b\b\b\b\b\b\b\b\b\b\b\b\b\b\b\b\b\b\b\b\b\b\b\b\b\b\b\b\b\b\b\b\b\b\b\b\b\b\b\b\b\b\b\b\b\b\b\b\b\b\b\b\b\b\b\b\b\b\b\b\b\b\b\b\b\b\b\b\b\b\b\b\b\b\b\b\b\b\b\b\b\b\b\b\b\b\b\b\b\b\b\b\b\b\b\b\b\b\b\b\b\b\b\b\b\b\b\b\b\b\b\b\b\b\b\b\b\b\b\b\b\b\b\b\b\b\b\b\b\b\b\b\b\b\b\b\b\b\b\b\b\b\b\b\b\b\b\b\b\b\b\b\b\b\b\b\b\b\b\b\b\b\b\b\b\b\b\b\b\b\b\b\b\b\b\b\b\b\b\b\b\b\b\b\b\b\b\b\b\b\b\b\b\b\b\b\b\b\b\b\b\b\b\b\b\b\b\b\b\b\b\b\b\b\b\b\b\b\b\b\b\b\b\b\b\b\b\b\b\b\b\b\b\b\b\b\b\b\b\b\b\b\b\b\b\b\b\b\b\b\b\b\b\b\b\b\b\b\b\b\b\b\b\b\b\b\b\b\b\b\b\b\b\b\b\b\b\b\b\b\b\b\b\b\b\b\b\b\b\b\b\b\b\b\b\b\b\b\b\b\b\b\b\b\b\b\b\b\b\b\b\b\b\b\b\b\b\b\b\b\b\b\b\b\b\b\b\b\b\b\b\b\b\b\b\b\b\b\b\b\b\b\b\b\b\b\b\b\b\b\b\b\b\b\b\b\b\b\b\b\b\b\b\b\b\b\b\b\b\b\b\b\b\b\b\b\b\b\b\b\b\b\b\b\b\b\b\b\b\b\b\b\b\b\b\b\b\b\b\b\b\b\b\b\b\b\b\b\b\b\b\b\b\b\b\b\b\b\b\b\b\b\b\b\b\b\b\b\b\b\b\b\b\b\b\b\b\b\b\b\b\b\b\b\b\b\b\b\b\b\b\b\b\b\b\b\b\b\b\b\b\b\b\b\b\b\b\b\b\b\b\b\b\b\b\b\b\b\b\b\b\b\b\b\b\b\b\b\b\b\b\b\b\b\b\b\b\b\b\b\b\b\b\b\b\b\b\b\b\b\b\b\b\b\b\b\b\b\b\b\b\b\b\b\b\b\b\b\b\b\b\b\b\b\b\b\b\b\b\b\b\b\b\b\b\b\b\b\b\b\b\b\b\b\b\b\b\b\b\b\b\b\b\b\b\b\b\b\b\b\b\b\b\b\b\b\b\b\b\b\b\b\b\b\b\b\b\b\b\b\b\b\b\b\b\b\b\b\b\b\b\b\b\b\b\b\b\b\b\b\b\b\b\b\b\b\b\b\b\b\b\b\b\b\b\b\b\b\b\b\b\b\b\b\b\b\b\b\b\b\b\b\b\b\b\b\b\b\b\b\b\b\b\b\b\b\b\b\b\b\b\b\b\b\b\b\b\b\b\b\b\b\b\b\b\b\b\b\b\b\b\b\b\b\b\b\b\b\b\b\b\b\b\b\b\b\b\b\b\b\b\b\b\b\b\b\b\b\b\b\b\b\b\b\b\b\b\b\b\b\b\b\b\b\b\b\b\b\b\b\b\b\b\b\b\b\b\b\b\b\b\b\b\b\b\b\b\b\b\b\b\b\b\b\b\b\b\b\b\b\b\b\b\b\b\b\b\b\b\b\b\b\b\b\b\b\b\b\b\b\b\b\b\b\b\b\b\b\b\b\b\b\b\b\b\b\b\b\b\b\b\b\b\b\b\b\b\b\b\b\b\b\b\b\b\b\b\b\b\b\b\b\b\b\b\b\b\b\b\b\b\b\b\b\b\b\b\b\b\b\b\b\b\b\b\b\b\b\b\b\b\b\b\b\b\b\b\b\b\b\b\b\b\b\b\b\b\b\b\b\b\b\b\b\b\b\b\b\b\b\b\b\b\b\b\b\b\b\b\b\b\b\b\b\b\b\b\b\b\b\b\b\b\b\b\b\b\b\b\b\b\b\b\b\b\b\b\b\b\b\b\b\b\b\b\b\b\b\b\b\b\b\b\b\b\b\b\b\b\b\b\b\b\b\b\b\b\b\b\b\b\b\b\b\b\b\b\b\b\b\b\b\b\b\b\b\b\b\b\b\b\b\b\b\b\b\b\b\b\b\b\b\b\b\b\b\b\b\b\b\b\b\b\b\b\b\b\b\b\b\b\b\b\b\b\b\b\b\b\b\b\b\b\b\b\b\b\b\b\b\b\b\b\b\b\b\b\b\b\b\b\b\b\b\b\b\b\b\b\b\b\b\b\b\b\b\b\b\b\b\b\b\b\b\b\b\b\b\b\b\b\b\b\b\b\b\b\b\b\b\b\b\b\b\b\b\b\b\b\b\b\b\b\b\b\b\b\b\b\b\b\b\b\b\b\b\b\b\b\b\b\b\b\b\b\b\b\b\b\b\b\b\b\b\b\b\b\b\b\b\b\b\b\b\b\b\b\b\b\b\b\b\b\b\b\b\b\b\b\b\b\b\b\b\b\b\b\b\b\b\b\b\b\b\b\b\b\b\b\b\b\b\b\b\b\b\b\b\b\b\b\b\b\b\b\b\b\b\b\b\b\b\b\b\b\b\b\b\b\b\b\b\b\b\b\b\b\b\b\b\b\b\b\b\b\b\b\b\b\b\b\b\b\b\b\b\b\b\b\b\b\b\b\b\b\b\b\b\b\b\b\b\b\b\b\b\b\b\b\b\b\b\b\b\b\b\b\b\b\b\b\b\b\b\b\b\b\b\b\b\b\b\b\b\b\b\b\b\b\b\b\b\b\b\b\b\b\b\b\b\b\b\b\b\b\b\b\b\b\b\b\b\b\b\b\b\b\b\b\b\b\b\b\b\b\b\b\b\b\b\b\b\b\b\b\b\b\b\b\b\b\b\b\b\b\b\b\b\b\b\b\b\b\b\b\b\b\b\b\b\b\b\b\b\b\b\b\b\b\b\b\b\b\b\b\b\b\b\b\b\b\b\b\b\b\b\b\b\b\b\b\b\b\b\b\b\b\b\b\b\b\b\b\b\b\b\b\b\b\b\b\b\b\b\b\b\b\b\b\b\b\b\b\b\b\b\b\b\b\b\b\b\b\b\b\b\b\b\b\b\b\b\b\b\b\b\b\b\b\b\b\b\b\b\b\b\b\b\b\b\b\b\b\b\b\b\b\b\b\b\b\b\b\b\b\b\b\b\b\b\b\b\b\b\b\b\b\b\b\b\b\b\b\b\b\b\b\b\b\b\b\b\b\b\b\b\b\b\b\b\b\b\b\b\b\b\b\b\b\b\b\b\b\b\b\b\b\b\b\b\b\b\b\b\b\b\b\b\b\b\b\b\b\b\b\b\b\b\b\b\b\b\b\b\b\b\b\b\b\b\b\b\b\b\b\b\b\b\b\b\b\b\b\b\b\b\b\b\b\b\b\b\b\b\b\b\b\b\b\b\b\b\b\b\b\b\b\b\b\b\b\b\b\b\b\b\b\b\b\b\b\b\b\b\b\b\b\b\b\b\b\b\b\b\b\b\b\b\b\b\b\b\b\b\b\b\b\b\b\b\b\b\b\b\b\b\b\b\b\b\b\b\b\b\b\b\b\b\b\b\b\b\b\b\b\b\b\b\b\b\b\b\b\b\b\b\b\b\b\b\b\b\b\b\b\b\b\b\b\b\b\b\b\b\b\b\b\b\b\b\b\b\b\b\b\b\b\b\b\b\b\b\b\b\b\b\b\b\b\b\b\b\b\b\b\b\b\b\b\b\b\b\b\b\b\b\b\b\b\b\b\b\b\b\b\b\b\b\b\b\b\b\b\b\b\b\b\b\b\b\b\b\b\b\b\b\b\b\b\b\b\b\b\b\b\b\b\b\b\b\b\b\b\b\b\b\b\b\b\b\b\b\b\b\b\b\b\b\b\b\b\b\b\b\b\b\b\b\b\b\b\b\b\b\b\b\b\b\b\b\b\b\b\b\b\b\b\b\b\b\b\b\b\b\b\b\b\b\b\b\b\b\b\b\b\b\b\b\b\b\b\b\b\b\b\b\b\b\b\b\b\b\b\b\b\b\b\b\b\b\b\b\b\b\b\b\b\b\b\b\b\b\b\b\b\b\b\b\b\b\b\b\b\b\b\b\b\b\b\b\b\b\b\b\b\b\b\b\b\b\b\b\b\b\b\b\b\b\b\b\b\b\b\b\b\b\b\b\b\b\b\b\b\b\b\b\b\b\b\b\b\b\b\b\b\b\b\b\b\b\b\b\b\b\b\b\b\b\b\b\b\b\b\b\b\b\b\b\b\b\b\b\b\b\b\b\b\b\b\b\b\b\b\b\b\b\b\b\b\b\b\b\b\b\b\b\b\b\b\b\b\b\b\b\b\b\b\b\b\b\b\b\b\b\b\b\b\b\b\b\b\b\b\b\b\b\b\b\b\b\b\b\b\b\b\b\b\b\b\b\b\b\b\b\b\b\b\b\b\b\b\b\b\b\b\b\b\b\b\b\b\b\b\b\b\b\b\b\b\b\b\b\b\b\b\b\b\b\b\b\b\b\b\b\b\b\b\b\b\b\b\b\b\b\b\b\b\b\b\b\b\b\b\b\b\b\b\b\b\b\b\b\b\b\b\b\b\b\b\b\b\b\b\b\b\b\b\b\b\b\b\b\b\b\b\b\b\b\b\b\b\b\b\b\b\b\b\b\b\b\b\b\b\b\b\b\b\b\b\b\b\b\b\b\b\b\b\b\b\b\b\b\b\b\b\b\b\b\b\b\b\b\b\b\b\b\b\b\b\b\b\b\b\b\b\b\b\b\b\b\b\b\b\b\b\b\b\b\b\b\b\b\b\b\b\b\b\b\b\b\b\b\b\b\b\b\b\b\b\b\b\b\b\b\b\b\b\b\b\b\b\b\b\b\b\b\b\b\b\b\b\b\b\b\b\b\b\b\b\b\b\b\b\b\b\b\b\b\b\b\b\b\b\b\b\b\b\b\b\b\b\b\b\b\b\b\b\b\b\b\b\b\b\b\b\b\b\b\b\b\b\b\b\b\b\b\b\b\b\b\b\b\b\b\b\b\b\b\b\b\b\b\b\b\b\b\b\b\b\b\b\b\b\b\b\b\b\b\b\b\b\b\b\b\b\b\b\b\b\b\b\b\b\b\b\b\b\b\b\b\b\b\b\b\b\b\b\b\b\b\b\b\b\b\b\b\b\b\b\b\b\b\b\b\b\b\b\b\b\b\b\b\b\b\b\b\b\b\b\b\b\b\b\b\b\b\b\b\b\b\b\b\b\b\b\b\b\b\b\b\b\b\b\b\b\b\b\b\b\b\b\b\b\b\b\b\b\b\b\b\b\b\b\b\b\b\b\b\b\b\b\b\b\b\b\b\b\b\b\b\b\b\b\b\b\b\b\b\b\b\b\b\b\b\b\b\b\b\b\b\b\b\b\b\b\b\b\b\b\b\b\b\b\b\b\b\b\b\b\b\b\b\b\b\b\b\b\b\b\b\b\b\b\b\b\b\b\b\b\b\b\b\b\b\b\b\b\b\b\b\b\b\b\b\b\b\b\b\b\b\b\b\b\b\b\b\b\b\b\b\b\b\b\b\b\b\b\b\b\b\b\b\b\b\b\b\b\b\b\b\b\b\b\b\b\b\b\b\b\b\b\b\b\b\b\b\b\b\b\b\b\b\b\b\b\b\b\b\b\b\b\b\b\b\b\b\b\b\b\b\b\b\b\b\b\b\b\b\b\b\b\b\b\b\b\b\b\b\b\b\b\b\b\b\b\b\b\b\b\b\b\b\b\b\b\b\b\b\b\b\b\b\b\b\b\b\b\b\b\b\b\b\b\b\b\b\b\b\b\b\b\b\b\b\b\b\b\b\b\b\b\b\b\b\b\b\b\b\b\b\b\b\b\b\b\b\b\b\b\b\b\b\b\b\b\b\b\b\b\b\b\b\b\b\b\b\b\b\b\b\b\b\b\b\b\b\b\b\b\b\b\b\b\b\b\b\b\b\b\b\b\b\b\b\b\b\b\b\b\b\b\b\b\b\b\b\b\b\b\b\b\b\b\b\b\b\b\b\b\b\b\b\b\b\b\b\b\b\b\b\b\b\b\b\b\b\b\b\b\b\b\b\b\b\b\b\b\b\b\b\b\b\b\b\b\b\b\b\b\b\b\b\b\b\b\b\b\b\b\b\b\b\b\b\b\b\b\b\b\b\b\b\b\b\b\b\b\b\b\b\b\b\b\b\b\b\b\b\b\b\b\b\b\b\b\b\b\b\b\b\b\b\b\b\b\b\b\b\b\b\b\b\b\b\b\b\b\b\b\b\b\b\b\b\b\b\b\b\b\b\b\b\b\b\b\b\b\b\b\b\b\b\b\b\b\b\b\b\b\b\b\b\b\b\b\b\b\b\b\b\b\b\b\b\b\b\b\b\b\b\b\b\b\b\b\b\b\b\b\b\b\b\b\b\b\b\b\b\b\b\b\b\b\b\b\b\b\b\b\b\b\b\b\b\b\b\b\b\b\b\b\b\b\b\b\b\b\b\b\b\b\b\b\b\b\b\b\b\b\b\b\b\b\b\b\b\b\b\b\b\b\b\b\b\b\b\b\b\b\b\b\b\b\b\b\b\b\b\b\b\b\b\b\b\b\b\b\b\b\b\b\b\b\b\b\b\b\b\b\b\b\b\b\b\b\b\b\b\b\b\b\b\b\b\b\b\b\b\b\b\b\b\b\b\b\b\b\b\b\b\b\b\b\b\b\b\b\b\b\b\b\b\b\b\b\b\b\b\b\b\b\b\b\b\b\b\b\b\b\b\b\b\b\b\b\b\b\b\b\b\b\b\b\b\b\b\b\b\b\b\b\b\b\b\b\b\b\b\b\b\b\b\b\b\b\b\b\b\b\b\b\b\b\b\b\b\b\b\b\b\b\b\b\b\b\b\b\b\b\b\b\b\b\b\b\b\b\b\b\b\b\b\b\b\b\b\b\b\b\b\b\b\b\b\b\b\b\b\b\b\b\b\b\b\b\b\b\b\b\b\b\b\b\b\b\b\b\b\b\b\b\b\b\b\b\b\b\b\b\b\b\b\b\b\b\b\b\b\b\b\b\b\b\b\b\b\b\b\b\b\b\b\b\b\b\b\b\b\b\b\b\b\b\b\b\b\b\b\b\b\b\b\b\b\b\b\b\b\b\b\b\b\b\b\b\b\b\b\b\b\b\b\b\b\b\b\b\b\b\b\b\b\b\b\b\b\b\b\b\b\b\b\b\b\b\b\b\b\b\b\b\b\b\b\b\b\b\b\b\b\b\b\b\b\b\b\b\b\b\b\b\b\b\b\b\b\b\b\b\b\b\b\b\b\b\b\b\b\b\b\b\b\b\b\b\b\b\b\b\b\b\b\b\b\b\b\b\b\b\b\b\b\b\b\b\b\b\b\b\b\b\b\b\b\b\b\b\b\b\b\b\b\b\b\b\b\b\b\b\b\b\b\b\b\b\b\b\b\b\b\b\b\b\b\b\b\b\b\b\b\b\b\b\b\b\b\b\b\b\b\b\b\b\b\b\b\b\b\b\b\b\b\b\b\b\b\b\b\b\b\b\b\b\b\b\b\b\b\b\b\b\b\b\b\b\b\b\b\b\b\b\b\b\b\b\b\b\b\b\b\b\b\b\b\b\b\b\b\b\b\b\b\b\b\b\b\b\b\b\b\b\b\b\b\b\b\b\b\b\b\b\b\b\b\b\b\b\b\b\b\b\b\b\b\b\b\b\b\b\b\b\b\b\b\b\b\b\b\b\b\b\b\b\b\b\b\b\b\b\b\b\b\b\b\b\b\b\b\b\b\b\b\b\b\b\b\b\b\b\b\b\b\b\b\b\b\b\b\b\b\b\b\b\b\b\b\b\b\b\b\b\b\b\b\b\b\b\b\b\b\b\b\b\b\b\b\b\b\b\b\b\b\b\b\b\b\b\b\b\b\b\b\b\b\b\b\b\b\b\b\b\b\b\b\b\b\b\b\b\b\b\b\b\b\b\b\b\b\b\b\b\b\b\b\b\b\b\b\b\b\b\b\b\b\b\b\b\b\b\b\b\b\b\b\b\b\b\b\b\b\b\b\b\b\b\b\b\b\b\b\b\b\b\b\b\b\b\b\b\b\b\b\b\b\b\b\b\b\b\b\b\b\b\b\b\b\b\b\b\b\b\b\b\b\b\b\b\b\b\b\b\b\b\b\b\b\b\b\b\b\b\b\b\b\b\b\b\b\b\b\b\b\b\b\b\b\b\b\b\b\b\b\b\b\b\b\b\b\b\b\b\b\b\b\b\b\b\b\b\b\b\b\b\b\b\b\b\b\b\b\b\b\b\b\b\b\b\b\b\b\b\b\b\b\b\b\b\b\b\b\b\b\b\b\b\b\b\b\b\b\b\b\b\b\b\b\b\b\b\b\b\b\b\b\b\b\b\b\b\b\b\b\b\b\b\b\b\b\b\b\b\b\b\b\b\b\b\b\b\b\b\b\b\b\b\b\b\b\b\b\b\b\b\b\b\b\b\b\b\b\b\b\b\b\b\b\b\b\b\b\b\b\b\b\b\b\b\b\b\b\b\b\b\b\b\b\b\b\b\b\b\b\b\b\b\b\b\b\b\b\b\b\b\b\b\b\b\b\b\b\b\b\b\b\b\b\b\b\b\b\b\b\b\b\b\b\b\b\b\b\b\b\b\b\b\b\b\b\b\b\b\b\b\b\b\b\b\b\b\b\b\b\b\b\b\b\b\b\b\b\b\b\b\b\b\b\b\b\b\b\b\b\b\b\b\b\b\b\b\b\b\b\b\b\b\b\b\b\b\b\b\b\b\b\b\b\b\b\b\b\b\b\b\b\b\b\b\b\b\b\b\b\b\b\b\b\b\b\b\b\b\b\b\b\b\b\b\b\b\b\b\b\b\b\b\b\b\b\b\b\b\b\b\b\b\b\b\b\b\b\b\b\b\b\b\b\b\b\b\b\b\b\b\b\b\b\b\b\b\b\b\b\b\b\b\b\b\b\b\b\b\b\b\b\b\b\b\b\b\b\b\b\b\b\b\b\b\b\b\b\b\b\b\b\b\b\b\b\b\b\b\b\b\b\b\b\b\b\b\b\b\b\b\b\b\b\b\b\b\b\b\b\b\b\b\b\b\b\b\b\b\b\b\b\b\b\b\b\b\b\b\b\b\b\b\b\b\b\b\b\b\b\b\b\b\b\b\b\b\b\b\b\b\b\b\b\b\b\b\b\b\b\b\b\b\b\b\b\b\b\b\b\b\b\b\b\b\b\b\b\b\b\b\b\b\b\b\b\b\b\b\b\b\b\b\b\b\b\b\b\b\b\b\b\b\b\b\b\b\b\b\b\b\b\b\b\b\b\b\b\b\b\b\b\b\b\b\b\b\b\b\b\b\b\b\b\b\b\b\b\b\b\b\b\b\b\b\b\b\b\b\b\b\b\b\b\b\b\b\b\b\b\b\b\b\b\b\b\b\b\b\b\b\b\b\b\b\b\b\b\b\b\b\b\b\b\b\b\b\b\b\b\b\b\b\b\b\b\b\b\b\b\b\b\b\b\b\b\b\b\b\b\b\b\b\b\b\b\b\b\b\b\b\b\b\b\b\b\b\b\b\b\b\b\b\b\b\b\b\b\b\b\b\b\b\b\b\b\b\b\b\b\b\b\b\b\b\b\b\b\b\b\b\b\b\b\b\b\b\b\b\b\b\b\b\b\b\b\b\b\b\b\b\b\b\b\b\b\b\b\b\b\b\b\b\b\b\b\b\b\b\b\b\b\b\b\b\b\b\b\b\b\b\b\b\b\b\b\b\b\b\b\b\b\b\b\b\b\b\b\b\b\b\b\b\b\b\b\b\b\b\b\b\b\b\b\b\b\b\b\b\b\b\b\b\b\b\b\b\b\b\b\b\b\b\b\b\b\b\b\b\b\b\b\b\b\b\b\b\b\b\b\b\b\b\b\b\b\b\b\b\b\b\b\b\b\b\b\b\b\b\b\b\b\b\b\b\b\b\b\b\b\b\b\b\b\b\b\b\b\b\b\b\b\b\b\b\b\b\b\b\b\b\b\b\b\b\b\b\b\b\b\b\b\b\b\b\b\b\b\b\b\b\b\b\b\b\b\b\b\b\b\b\b\b\b\b\b\b\b\b\b\b\b\b\b\b\b\b\b\b\b\b\b\b\b\b\b\b\b\b\b\b\b\b\b\b\b\b\b\b\b\b\b\b\b\b\b\b\b\b\b\b\b\b\b\b\b\b\b\b\b\b\b\b\b\b\b\b\b\b\b\b\b\b\b\b\b\b\b\b\b\b\b\b\b\b\b\b\b\b\b\b\b\b\b\b\b\b\b\b\b\b\b\b\b\b\b\b\b\b\b\b\b\b\b\b\b\b\b\b\b\b\b\b\b\b\b\b\b\b\b\b\b\b\b\b\b\b\b\b\b\b\b\b\b\b\b\b\b\b\b\b\b\b\b\b\b\b\b\b\b\b\b\b\b\b\b\b\b\b\b\b\b\b\b\b\b\b\b\b\b\b\b\b\b\b\b\b\b\b\b\b\b\b\b\b\b\b\b\b\b\b\b\b\b\b\b\b\b\b\b\b\b\b\b\b\b\b\b\b\b\b\b\b\b\b\b\b\b\b\b\b\b\b\b\b\b\b\b\b\b\b\b\b\b\b\b\b\b\b\b\b\b\b\b\b\b\b\b\b\b\b\b\b\b\b\b\b\b\b\b\b\b\b\b\b\b\b\b\b\b\b\b\b\b\b\b\b\b\b\b\b\b\b\b\b\b\b\b\b\b\b\b\b\b\b\b\b\b\b\b\b\b\b\b\b\b\b\b\b\b\b\b\b\b\b\b\b\b\b\b\b\b\b\b\b\b\b\b\b\b\b\b\b\b\b\b\b\b\b\b\b\b\b\b\b\b\b\b\b\b\b\b\b\b\b\b\b\b\b\b\b\b\b\b\b\b\b\b\b\b\b\b\b\b\b\b\b\b\b\b\b\b\b\b\b\b\b\b\b\b\b\b\b\b\b\b\b\b\b\b\b\b\b\b\b\b\b\b\b\b\b\b\b\b\b\b\b\b\b\b\b\b\b\b\b\b\b\b\b\b\b\b\b\b\b\b\b\b\b\b\b\b\b\b\b\b\b\b\b\b\b\b\b\b\b\b\b\b\b\b\b\b\b\b\b\b\b\b\b\b\b\b\b\b\b\b\b\b\b\b\b\b\b\b\b\b\b\b\b\b\b\b\b\b\b\b\b\b\b\b\b\b\b\b\b\b\b\b\b\b\b\b\b\b\b\b\b\b\b\b\b\b\b\b\b\b\b\b\b\b\b\b\b\b\b\b\b\b\b\b\b\b\b\b\b\b\b\b\b\b\b\b\b\b\b\b\b\b\b\b\b\b\b\b\b\b\b\b\b\b\b\b\b\b\b\b\b\b\b\b\b\b\b\b\b\b\b\b\b\b\b\b\b\b\b\b\b\b\b\b\b\b\b\b\b\b\b\b\b\b\b\b\b\b\b\b\b\b\b\b\b\b\b\b\b\b\b\b\b\b\b\b\b\b\b\b\b\b\b\b\b\b\b\b\b\b\b\b\b\b\b\b\b\b\b\b\b\b\b\b\b\b\b\b\b\b\b\b\b\b\b\b\b\b\b\b\b\b\b\b\b\b\b\b\b\b\b\b\b\b\b\b\b\b\b\b\b\b\b\b\b\b\b\b\b\b\b\b\b\b\b\b\b\b\b\b\b\b\b\b\b\b\b\b\b\b\b\b\b\b\b\b\b\b\b\b\b\b\b\b\b\b\b\b\b\b\b\b\b\b\b\b\b\b\b\b\b\b\b\b\b\b\b\b\b\b\b\b\b\b\b\b\b\b\b\b\b\b\b\b\b\b\b\b\b\b\b\b\b\b\b\b\b\b\b\b\b\b\b\b\b\b\b\b\b\b\b\b\b\b\b\b\b\b\b\b\b\b\b\b\b\b\b\b\b\b\b\b\b\b\b\b\b\b\b\b\b\b\b\b\b\b\b\b\b\b\b\b\b\b\b\b\b\b\b\b\b\b\b\b\b\b\b\b\b\b\b\b\b\b\b\b\b\b\b\b\b\b\b\b\b\b\b\b\b\b\b\b\b\b\b\b\b\b\b\b\b\b\b\b\b\b\b\b\b\b\b\b\b\b\b\b\b\b\b\b\b\b\b\b\b\b\b\b\b\b\b\b\b\b\b\b\b\b\b\b\b\b\b\b\b\b\b\b\b\b\b\b\b\b\b\b\b\b\b\b\b\b\b\b\b\b\b\b\b\b\b\b\b\b\b\b\b\b\b\b\b\b\b\b\b\b\b\b\b\b\b\b\b\b\b\b\b\b\b\b\b\b\b\b\b\b\b\b\b\b\b\b\b\b\b\b\b\b\b\b\b\b\b\b\b\b\b\b\b\b\b\b\b\b\b\b\b\b\b\b\b\b\b\b\b\b\b\b\b\b\b\b\b\b\b\b\b\b\b\b\b\b\b\b\b\b\b\b\b\b\b\b\b\b\b\b\b\b\b\b\b\b\b\b\b\b\b\b\b\b\b\b\b\b\b\b\b\b\b\b\b\b\b\b\b\b\b\b\b\b\b\b\b\b\b\b\b\b\b\b\b\b\b\b\b\b\b\b\b\b\b\b\b\b\b\b\b\b\b\b\b\b\b\b\b\b\b\b\b\b\b\b\b\b\b\b\b\b\b\b\b\b\b\b\b\b\b\b\b\b\b\b\b\b\b\b\b\b\b\b\b\b\b\b\b\b\b\b\b\b\b\b\b\b\b\b\b\b\b\b\b\b\b\b\b\b\b\b\b\b\b\b\b\b\b\b\b\b\b\b\b\b\b\b\b\b\b\b\b\b\b\b\b\b\b\b\b\b\b\b\b\b\b\b\b\b\b\b\b\b\b\b\b\b\b\b\b\b\b\b\b\b\b\b\b\b\b\b\b\b\b\b\b\b\b\b\b\b\b\b\b\b\b\b\b\b\b\b\b\b\b\b\b\b\b\b\b\b\b\b\b\b\b\b\b\b\b\b\b\b\b\b\b\b\b\b\b\b\b\b\b\b\b\b\b\b\b\b\b\b\b\b\b\b\b\b\b\b\b\b\b\b\b\b\b\b\b\b\b\b\b\b\b\b\b\b\b\b\b\b\b\b\b\b\b\b\b\b\b\b\b\b\b\b\b\b\b\b\b\b\b\b\b\b\b\b\b\b\b\b\b\b\b\b\b\b\b\b\b\b\b\b\b\b\b\b\b\b\b\b\b\b\b\b\b\b\b\b\b\b\b\b\b\b\b\b\b\b\b\b\b\b\b\b\b\b\b\b\b\b\b\b\b\b\b\b\b\b\b\b\b\b\b\b\b\b\b\b\b\b\b\b\b\b\b\b\b\b\b\b\b\b\b\b\b\b\b\b\b\b\b\b\b\b\b\b\b\b\b\b\b\b\b\b\b\b\b\b\b\b\b\b\b\b\b\b\b\b\b\b\b\b\b\b\b\b\b\b\b\b\b\b\b\b\b\b\b\b\b\b\b\b\b\b\b\b\b\b\b\b\b\b\b\b\b\b\b\b\b\b\b\b\b\b\b\b\b\b\b\b\b\b\b\b\b\b\b\b\b\b\b\b\b\b\b\b\b\b\b\b\b\b\b\b\b\b\b\b\b\b\b\b\b\b\b\b\b\b\b\b\b\b\b\b\b\b\b\b\b\b\b\b\b\b\b\b\b\b\b\b\b\b\b\b\b\b\b\b\b\b\b\b\b\b\b\b\b\b\b\b\b\b\b\b\b\b\b\b\b\b\b\b\b\b\b\b\b\b\b\b\b\b\b\b\b\b\b\b\b\b\b\b\b\b\b\b\b\b\b\b\b\b\b\b\b\b\b\b\b\b\b\b\b\b\b\b\b\b\b\b\b\b\b\b\b\b\b\b\b\b\b\b\b\b\b\b\b\b\b\b\b\b\b\b\b\b\b\b\b\b\b\b\b\b\b\b\b\b\b\b\b\b\b\b\b\b\b\b\b\b\b\b\b\b\b\b\b\b\b\b\b\b\b\b\b\b\b\b\b\b\b\b\b\b\b\b\b\b\b\b\b\b\b\b\b\b\b\b\b\b\b\b\b\b\b\b\b\b\b\b\b\b\b\b\b\b\b\b\b\b\b\b\b\b\b\b\b\b\b\b\b\b\b\b\b\b\b\b\b\b\b\b\b\b\b\b\b\b\b\b\b\b\b\b\b\b\b\b\b\b\b\b\b\b\b\b\b\b\b\b\b\b\b\b\b\b\b\b\b\b\b\b\b\b\b\b\b\b\b\b\b\b\b\b\b\b\b\b\b\b\b\b\b\b\b\b\b\b\b\b\b\b\b\b\b\b\b\b\b\b\b\b\b\b\b\b\b\b\b\b\b\b\b\b\b\b\b\b\b\b\b\b\b\b\b\b\b\b\b\b\b\b\b\b\b\b\b\b\b\b\b\b\b\b\b\b\b\b\b\b\b\b\b\b\b\b\b\b\b\b\b\b\b\b\b\b\b\b\b\b\b\b\b\b\b\b\b\b\b\b\b\b\b\b\b\b\b\b\b\b\b\b\b\b\b\b\b\b\b\b\b\b\b\b\b\b\b\b\b\b\b\b\b\b\b\b\b\b\b\b\b\b\b\b\b\b\b\b\b\b\b\b\b\b\b\b\b\b\b\b\b\b\b\b\b\b\b\b\b\b\b\b\b\b\b\b\b\b\b\b\b\b\b\b\b\b\b\b\b\b\b\b\b\b\b\b\b\b\b\b\b\b\b\b\b\b\b\b\b\b\b\b\b\b\b\b\b\b\b\b\b\b\b\b\b\b\b\b\b\b\b\b\b\b\b\b\b\b\b\b\b\b\b\b\b\b\b\b\b\b\b\b\b\b\b\b\b\b\b\b\b\b\b\b\b\b\b\b\b\b\b\b\b\b\b\b\b\b\b\b\b\b\b\b\b\b\b\b\b\b\b\b\b\b\b\b\b\b\b\b\b\b\b\b\b\b\b\b\b\b\b\b\b\b\b\b\b\b\b\b\b\b\b\b\b\b\b\b\b\b\b\b\b\b\b\b\b\b\b\b\b\b\b\b\b\b\b\b\b\b\b\b\b\b\b\b\b\b\b\b\b\b\b\b\b\b\b\b\b\b\b\b\b\b\b\b\b\b\b\b\b\b\b\b\b\b\b\b\b\b\b\b\b\b\b\b\b\b\b\b\b\b\b\b\b\b\b\b\b\b\b\b\b\b\b\b\b\b\b\b\b\b\b\b\b\b\b\b\b\b\b\b\b\b\b\b\b\b\b\b\b\b\b\b\b\b\b\b\b\b\b\b\b\b\b\b\b\b\b\b\b\b\b\b\b\b\b\b\b\b\b\b\b\b\b\b\b\b\b\b\b\b\b\b\b\b\b\b\b\b\b\b\b\b\b\b\b\b\b\b\b\b\b\b\b\b\b\b\b\b\b\b\b\b\b\b\b\b\b\b\b\b\b\b\b\b\b\b\b\b\b\b\b\b\b\b\b\b\b\b\b\b\b\b\b\b\b\b\b\b\b\b\b\b\b\b\b\b\b\b\b\b\b\b\b\b\b\b\b\b\b\b\b\b\b\b\b\b\b\b\b\b\b\b\b\b\b\b\b\b\b\b\b\b\b\b\b\b\b\b\b\b\b\b\b\b\b\b\b\b\b\b\b\b\b\b\b\b\b\b\b\b\b\b\b\b\b\b\b\b\b\b\b\b\b\b\b\b\b\b\b\b\b\b\b\b\b\b\b\b\b\b\b\b\b\b\b\b\b\b\b\b\b\b\b\b\b\b\b\b\b\b\b\b\b\b\b\b\b\b\b\b\b\b\b\b\b\b\b\b\b\b\b\b\b\b\b\b\b\b\b\b\b\b\b\b\b\b\b\b\b\b\b\b\b\b\b\b\b\b\b\b\b\b\b\b\b\b\b\b\b\b\b\b\b\b\b\b\b\b\b\b\b\b\b\b\b\b\b\b\b\b\b\b\b\b\b\b\b\b\b\b\b\b\b\b\b\b\b\b\b\b\b\b\b\b\b\b\b\b\b\b\b\b\b\b\b\b\b\b\b\b\b\b\b\b\b\b\b\b\b\b\b\b\b\b\b\b\b\b\b\b\b\b\b\b\b\b\b\b\b\b\b\b\b\b\b\b\b\b\b\b\b\b\b\b\b\b\b\b\b\b\b\b\b\b\b\b\b\b\b\b\b\b\b\b\b\b\b\b\b\b\b\b\b\b\b\b\b\b\b\b\b\b\b\b\b\b\b\b\b\b\b\b\b\b\b\b\b\b\b\b\b\b\b\b\b\b\b\b\b\b\b\b\b\b\b\b\b\b\b\b\b\b\b\b\b\b\b\b\b\b\b\b\b\b\b\b\b\b\b\b\b\b\b\b\b\b\b\b\b\b\b\b\b\b\b\b\b\b\b\b\b\b\b\b\b\b\b\b\b\b\b\b\b\b\b\b\b\b\b\b\b\b\b\b\b\b\b\b\b\b\b\b\b\b\b\b\b\b\b\b\b\b\b\b\b\b\b\b\b\b\b\b\b\b\b\b\b\b\b\b\b\b\b\b\b\b\b\b\b\b\b\b\b\b\b\b\b\b\b\b\b\b\b\b\b\b\b\b\b\b\b\b\b\b\b\b\b\b\b\b\b\b\b\b\b\b\b\b\b\b\b\b\b\b\b\b\b\b\b\b\b\b\b\b\b\b\b\b\b\b\b\b\b\b\b\b\b\b\b\b\b\b\b\b\b\b\b\b\b\b\b\b\b\b\b\b\b\b\b\b\b\b\b\b\b\b\b\b\b\b\b\b\b\b\b\b\b\b\b\b\b\b\b\b\b\b\b\b\b\b\b\b\b\b\b\b\b\b\b\b\b\b\b\b\b\b\b\b\b\b\b\b\b\b\b\b\b\b\b\b\b\b\b\b\b\b\b\b\b\b\b\b\b\b\b\b\b\b\b\b\b\b\b\b\b\b\b\b\b\b\b\b\b\b\b\b\b\b\b\b\b\b\b\b\b\b\b\b\b\b\b\b\b\b\b\b\b\b\b\b\b\b\b\b\b\b\b\b\b\b\b\b\b\b\b\b\b\b\b\b\b\b\b\b\b\b\b\b\b\b\b\b\b\b\b\b\b\b\b\b\b\b\b\b\b\b\b\b\b\b\b\b\b\b\b\b\b\b\b\b\b\b\b\b\b\b\b\b\b\b\b\b\b\b\b\b\b\b\b\b\b\b\b\b\b\b\b\b\b\b\b\b\b\b\b\b\b\b\b\b\b\b\b\b\b\b\b\b\b\b\b\b\b\b\b\b\b\b\b\b\b\b\b\b\b\b\b\b\b\b\b\b\b\b\b\b\b\b\b\b\b\b\b\b\b\b\b\b\b\b\b\b\b\b\b\b\b\b\b\b\b\b\b\b\b\b\b\b\b\b\b\b\b\b\b\b\b\b\b\b\b\b\b\b\b\b\b\b\b\b\b\b\b\b\b\b\b\b\b\b\b\b\b\b\b\b\b\b\b\b\b\b\b\b\b\b\b\b\b\b\b\b\b\b\b\b\b\b\b\b\b\b\b\b\b\b\b\b\b\b\b\b\b\b\b\b\b\b\b\b\b\b\b\b\b\b\b\b\b\b\b\b\b\b\b\b\b\b\b\b\b\b\b\b\b\b\b\b\b\b\b\b\b\b\b\b\b\b\b\b\b\b\b\b\b\b\b\b\b\b\b\b\b\b\b\b\b\b\b\b\b\b\b\b\b\b\b\b\b\b\b\b\b\b\b\b\b\b\b\b\b\b\b\b\b\b\b\b\b\b\b\b\b\b\b\b\b\b\b\b\b\b\b\b\b\b\b\b\b\b\b\b\b\b\b\b\b\b\b\b\b\b\b\b\b\b\b\b\b\b\b\b\b\b\b\b\b\b\b\b\b\b\b\b\b\b\b\b\b\b\b\b\b\b\b\b\b\b\b\b\b\b\b\b\b\b\b\b\b\b\b\b\b\b\b\b\b\b\b\b\b\b\b\b\b\b\b\b\b\b\b\b\b\b\b\b\b\b\b\b\b\b\b\b\b\b\b\b\b\b\b\b\b\b\b\b\b\b\b\b\b\b\b\b\b\b\b\b\b\b\b\b\b\b\b\b\b\b\b\b\b\b\b\b\b\b\b\b\b\b\b\b\b\b\b\b\b\b\b\b\b\b\b\b\b\b\b\b\b\b\b\b\b\b\b\b\b\b\b\b\b\b\b\b\b\b\b\b\b\b\b\b\b\b\b\b\b\b\b\b\b\b\b\b\b\b\b\b\b\b\b\b\b\b\b\b\b\b\b\b\b\b\b\b\b\b\b\b\b\b\b\b\b\b\b\b\b\b\b\b\b\b\b\b\b\b\b\b\b\b\b\b\b\b\b\b\b\b\b\b\b\b\b\b\b\b\b\b\b\b\b\b\b\b\b\b\b\b\b\b\b\b\b\b\b\b\b\b\b\b\b\b\b\b\b\b\b\b\b\b\b\b\b\b\b\b\b\b\b\b\b\b\b\b\b\b\b\b\b\b\b\b\b\b\b\b\b\b\b\b\b\b\b\b\b\b\b\b\b\b\b\b\b\b\b\b\b\b\b\b\b\b\b\b\b\b\b\b\b\b\b\b\b\b\b\b\b\b\b\b\b\b\b\b\b\b\b\b\b\b\b\b\b\b\b\b\b\b\b\b\b\b\b\b\b\b\b\b\b\b\b\b\b\b\b\b\b\b\b\b\b\b\b\b\b\b\b\b\b\b\b\b\b\b\b\b\b\b\b\b\b\b\b\b\b\b\b\b\b\b\b\b\b\b\b\b\b\b\b\b\b\b\b\b\b\b\b\b\b\b\b\b\b\b\b\b\b\b\b\b\b\b\b\b\b\b\b\b\b\b\b\b\b\b\b\b\b\b\b\b\b\b\b\b\b\b\b\b\b\b\b\b\b\b\b\b\b\b\b\b\b\b\b\b\b\b\b\b\b\b\b\b\b\b\b\b\b\b\b\b\b\b\b\b\b\b\b\b\b\b\b\b\b\b\b\b\b\b\b\b\b\b\b\b\b\b\b\b\b\b\b\b\b\b\b\b\b\b\b\b\b\b\b\b\b\b\b\b\b\b\b\b\b\b\b\b\b\b\b\b\b\b\b\b\b\b\b\b\b\b\b\b\b\b\b\b\b\b\b\b\b\b\b\b\b\b\b\b\b\b\b\b\b\b\b\b\b\b\b\b\b\b\b\b\b\b\b\b\b\b\b\b\b\b\b\b\b\b\b\b\b\b\b\b\b\b\b\b\b\b\b\b\b\b\b\b\b\b\b\b\b\b\b\b\b\b\b\b\b\b\b\b\b\b\b\b\b\b\b\b\b\b\b\b\b\b\b\b\b\b\b\b\b\b\b\b\b\b\b\b\b\b\b\b\b\b\b\b\b\b\b\b\b\b\b\b\b\b\b\b\b\b\b\b\b\b\b\b\b\b\b\b\b\b\b\b\b\b\b\b\b\b\b\b\b\b\b\b\b\b\b\b\b\b\b\b\b\b\b\b\b\b\b\b\b\b\b\b\b\b\b\b\b\b\b\b\b\b\b\b\b\b\b\b\b\b\b\b\b\b\b\b\b\b\b\b\b\b\b\b\b\b\b\b\b\b\b\b\b\b\b\b\b\b\b\b\b\b\b\b\b\b\b\b\b\b\b\b\b\b\b\b\b\b\b\b\b\b\b\b\b\b\b\b\b\b\b\b\b\b\b\b\b\b\b\b\b\b\b\b\b\b\b\b\b\b\b\b\b\b\b\b\b\b\b\b\b\b\b\b\b\b\b\b\b\b\b\b\b\b\b\b\b\b\b\b\b\b\b\b\b\b\b\b\b\b\b\b\b\b\b\b\b\b\b\b\b\b\b\b\b\b\b\b\b\b\b\b\b\b\b\b\b\b\b\b\b\b\b\b\b\b\b\b\b\b\b\b\b\b\b\b\b\b\b\b\b\b\b\b\b\b\b\b\b\b\b\b\b\b\b\b\b\b\b\b\b\b\b\b\b\b\b\b\b\b\b\b\b\b\b\b\b\b\b\b\b\b\b\b\b\b\b\b\b\b\b\b\b\b\b\b\b\b\b\b\b\b\b\b\b\b\b\b\b\b\b\b\b\b\b\b\b\b\b\b\b\b\b\b\b\b\b\b\b\b\b\b\b\b\b\b\b\b\b\b\b\b\b\b\b\b\b\b\b\b\b\b\b\b\b\b\b\b\b\b\b\b\b\b\b\b\b\b\b\b\b\b\b\b\b\b\b\b\b\b\b\b\b\b\b\b\b\b\b\b\b\b\b\b\b\b\b\b\b\b\b\b\b\b\b\b\b\b\b\b\b\b\b\b\b\b\b\b\b\b\b\b\b\b\b\b\b\b\b\b\b\b\b\b\b\b\b\b\b\b\b\b\b\b\b\b\b\b\b\b\b\b\b\b\b\b\b\b\b\b\b\b\b\b\b\b\b\b\b\b\b\b\b\b\b\b\b\b\b\b\b\b\b\b\b\b\b\b\b\b\b\b\b\b\b\b\b\b\b\b\b\b\b\b\b\b\b\b\b\b\b\b\b\b\b\b\b\b\b\b\b\b\b\b\b\b\b\b\b\b\b\b\b\b\b\b\b\b\b\b\b\b\b\b\b\b\b\b\b\b\b\b\b\b\b\b\b\b\b\b\b\b\b\b\b\b\b\b\b\b\b\b\b\b\b\b\b\b\b\b\b\b\b\b\b\b\b\b\b\b\b\b\b\b\b\b\b\b\b\b\b\b\b\b\b\b\b\b\b\b\b\b\b\b\b\b\b\b\b\b\b\b\b\b\b\b\b\b\b\b\b\b\b\b\b\b\b\b\b\b\b\b\b\b\b\b\b\b\b\b\b\b\b\b\b\b\b\b\b\b\b\b\b\b\b\b\b\b\b\b\b\b\b\b\b\b\b\b\b\b\b\b\b\b\b\b\b\b\b\b\b\b\b\b\b\b\b\b\b\b\b\b\b\b\b\b\b\b\b\b\b\b\b\b\b\b\b\b\b\b\b\b\b\b\b\b\b\b\b\b\b\b\b\b\b\b\b\b\b\b\b\b\b\b\b\b\b\b\b\b\b\b\b\b\b\b\b\b\b\b\b\b\b\b\b\b\b\b\b\b\b\b\b\b\b\b\b\b\b\b\b\b\b\b\b\b\b\b\b\b\b\b\b\b\b\b\b\b\b\b\b\b\b\b\b\b\b\b\b\b\b\b\b\b\b\b\b\b\b\b\b\b\b\b\b\b\b\b\b\b\b\b\b\b\b\b\b\b\b\b\b\b\b\b\b\b\b\b\b\b\b\b\b\b\b\b\b\b\b\b\b\b\b\b\b\b\b\b\b\b\b\b\b\b\b\b\b\b\b\b\b\b\b\b\b\b\b\b\b\b\b\b\b\b\b\b\b\b\b\b\b\b\b\b\b\b\b\b\b\b\b\b\b\b\b\b\b\b\b\b\b\b\b\b\b\b\b\b\b\b\b\b\b\b\b\b\b\b\b\b\b\b\b\b\b\b\b\b\b\b\b\b\b\b\b\b\b\b\b\b\b\b\b\b\b\b\b\b\b\b\b\b\b\b\b\b\b\b\b\b\b\b\b\b\b\b\b\b\b\b\b\b\b\b\b\b\b\b\b\b\b\b\b\b\b\b\b\b\b\b\b\b\b\b\b\b\b\b\b\b\b\b\b\b\b\b\b\b\b\b\b\b\b\b\b\b\b\b\b\b\b\b\b\b\b\b\b\b\b\b\b\b\b\b\b\b\b\b\b\b\b\b\b\b\b\b\b\b\b\b\b\b\n",
      "Epoch 2/40\n",
      "223/223 [==============================] - 56s 252ms/step - loss: 0.4911 - accuracy: 0.8325 - val_loss: 0.5146 - val_accuracy: 0.8193\b\b\b\b\b\b\b\b\b\b\b\b\b\b\b\b\b\b\b\b\b\b\b\b\b\b\b\b\b\b\b\b\b\b\b\b\b\b\b\b\b\b\b\b\b\b\b\b\b\b\b\b\b\b\b\b\b\b\b\b\b\b\b\b\b\b\b\b\b\b\b\b\b\b\b\b\b\b\b\b\b\b\b\b\b\b\b\b\b\b\b\b\b\b\b\b\b\b\b\b\b\b\b\b\b\b\b\b\b\b\b\b\b\b\b\b\b\b\b\b\b\b\b\b\b\b\b\b\b\b\b\b\b\b\b\b\b\b\b\b\b\b\b\b\b\b\b\b\b\b\b\b\b\b\b\b\b\b\b\b\b\b\b\b\b\b\b\b\b\b\b\b\b\b\b\b\b\b\b\b\b\b\b\b\b\b\b\b\b\b\b\b\b\b\b\b\b\b\b\b\b\b\b\b\b\b\b\b\b\b\b\b\b\b\b\b\b\b\b\b\b\b\b\b\b\b\b\b\b\b\b\b\b\b\b\b\b\b\b\b\b\b\b\b\b\b\b\b\b\b\b\b\b\b\b\b\b\b\b\b\b\b\b\b\b\b\b\b\b\b\b\b\b\b\b\b\b\b\b\b\b\b\b\b\b\b\b\b\b\b\b\b\b\b\b\b\b\b\b\b\b\b\b\b\b\b\b\b\b\b\b\b\b\b\b\b\b\b\b\b\b\b\b\b\b\b\b\b\b\b\b\b\b\b\b\b\b\b\b\b\b\b\b\b\b\b\b\b\b\b\b\b\b\b\b\b\b\b\b\b\b\b\b\b\b\b\b\b\b\b\b\b\b\b\b\b\b\b\b\b\b\b\b\b\b\b\b\b\b\b\b\b\b\b\b\b\b\b\b\b\b\b\b\b\b\b\b\b\b\b\b\b\b\b\b\b\b\b\b\b\b\b\b\b\b\b\b\b\b\b\b\b\b\b\b\b\b\b\b\b\b\b\b\b\b\b\b\b\b\b\b\b\b\b\b\b\b\b\b\b\b\b\b\b\b\b\b\b\b\b\b\b\b\b\b\b\b\b\b\b\b\b\b\b\b\b\b\b\b\b\b\b\b\b\b\b\b\b\b\b\b\b\b\b\b\b\b\b\b\b\b\b\b\b\b\b\b\b\b\b\b\b\b\b\b\b\b\b\b\b\b\b\b\b\b\b\b\b\b\b\b\b\b\b\b\b\b\b\b\b\b\b\b\b\b\b\b\b\b\b\b\b\b\b\b\b\b\b\b\b\b\b\b\b\b\b\b\b\b\b\b\b\b\b\b\b\b\b\b\b\b\b\b\b\b\b\b\b\b\b\b\b\b\b\b\b\b\b\b\b\b\b\b\b\b\b\b\b\b\b\b\b\b\b\b\b\b\b\b\b\b\b\b\b\b\b\b\b\b\b\b\b\b\b\b\b\b\b\b\b\b\b\b\b\b\b\b\b\b\b\b\b\b\b\b\b\b\b\b\b\b\b\b\b\b\b\b\b\b\b\b\b\b\b\b\b\b\b\b\b\b\b\b\b\b\b\b\b\b\b\b\b\b\b\b\b\b\b\b\b\b\b\b\b\b\b\b\b\b\b\b\b\b\b\b\b\b\b\b\b\b\b\b\b\b\b\b\b\b\b\b\b\b\b\b\b\b\b\b\b\b\b\b\b\b\b\b\b\b\b\b\b\b\b\b\b\b\b\b\b\b\b\b\b\b\b\b\b\b\b\b\b\b\b\b\b\b\b\b\b\b\b\b\b\b\b\b\b\b\b\b\b\b\b\b\b\b\b\b\b\b\b\b\b\b\b\b\b\b\b\b\b\b\b\b\b\b\b\b\b\b\b\b\b\b\b\b\b\b\b\b\b\b\b\b\b\b\b\b\b\b\b\b\b\b\b\b\b\b\b\b\b\b\b\b\b\b\b\b\b\b\b\b\b\b\b\b\b\b\b\b\b\b\b\b\b\b\b\b\b\b\b\b\b\b\b\b\b\b\b\b\b\b\b\b\b\b\b\b\b\b\b\b\b\b\b\b\b\b\b\b\b\b\b\b\b\b\b\b\b\b\b\b\b\b\b\b\b\b\b\b\b\b\b\b\b\b\b\b\b\b\b\b\b\b\b\b\b\b\b\b\b\b\b\b\b\b\b\b\b\b\b\b\b\b\b\b\b\b\b\b\b\b\b\b\b\b\b\b\b\b\b\b\b\b\b\b\b\b\b\b\b\b\b\b\b\b\b\b\b\b\b\b\b\b\b\b\b\b\b\b\b\b\b\b\b\b\b\b\b\b\b\b\b\b\b\b\b\b\b\b\b\b\b\b\b\b\b\b\b\b\b\b\b\b\b\b\b\b\b\b\b\b\b\b\b\b\b\b\b\b\b\b\b\b\b\b\b\b\b\b\b\b\b\b\b\b\b\b\b\b\b\b\b\b\b\b\b\b\b\b\b\b\b\b\b\b\b\b\b\b\b\b\b\b\b\b\b\b\b\b\b\b\b\b\b\b\b\b\b\b\b\b\b\b\b\b\b\b\b\b\b\b\b\b\b\b\b\b\b\b\b\b\b\b\b\b\b\b\b\b\b\b\b\b\b\b\b\b\b\b\b\b\b\b\b\b\b\b\b\b\b\b\b\b\b\b\b\b\b\b\b\b\b\b\b\b\b\b\b\b\b\b\b\b\b\b\b\b\b\b\b\b\b\b\b\b\b\b\b\b\b\b\b\b\b\b\b\b\b\b\b\b\b\b\b\b\b\b\b\b\b\b\b\b\b\b\b\b\b\b\b\b\b\b\b\b\b\b\b\b\b\b\b\b\b\b\b\b\b\b\b\b\b\b\b\b\b\b\b\b\b\b\b\b\b\b\b\b\b\b\b\b\b\b\b\b\b\b\b\b\b\b\b\b\b\b\b\b\b\b\b\b\b\b\b\b\b\b\b\b\b\b\b\b\b\b\b\b\b\b\b\b\b\b\b\b\b\b\b\b\b\b\b\b\b\b\b\b\b\b\b\b\b\b\b\b\b\b\b\b\b\b\b\b\b\b\b\b\b\b\b\b\b\b\b\b\b\b\b\b\b\b\b\b\b\b\b\b\b\b\b\b\b\b\b\b\b\b\b\b\b\b\b\b\b\b\b\b\b\b\b\b\b\b\b\b\b\b\b\b\b\b\b\b\b\b\b\b\b\b\b\b\b\b\b\b\b\b\b\b\b\b\b\b\b\b\b\b\b\b\b\b\b\b\b\b\b\b\b\b\b\b\b\b\b\b\b\b\b\b\b\b\b\b\b\b\b\b\b\b\b\b\b\b\b\b\b\b\b\b\b\b\b\b\b\b\b\b\b\b\b\b\b\b\b\b\b\b\b\b\b\b\b\b\b\b\b\b\b\b\b\b\b\b\b\b\b\b\b\b\b\b\b\b\b\b\b\b\b\b\b\b\b\b\b\b\b\b\b\b\b\b\b\b\b\b\b\b\b\b\b\b\b\b\b\b\b\b\b\b\b\b\b\b\b\b\b\b\b\b\b\b\b\b\b\b\b\b\b\b\b\b\b\b\b\b\b\b\b\b\b\b\b\b\b\b\b\b\b\b\b\b\b\b\b\b\b\b\b\b\b\b\b\b\b\b\b\b\b\b\b\b\b\b\b\b\b\b\b\b\b\b\b\b\b\b\b\b\b\b\b\b\b\b\b\b\b\b\b\b\b\b\b\b\b\b\b\b\b\b\b\b\b\b\b\b\b\b\b\b\b\b\b\b\b\b\b\b\b\b\b\b\b\b\b\b\b\b\b\b\b\b\b\b\b\b\b\b\b\b\b\b\b\b\b\b\b\b\b\b\b\b\b\b\b\b\b\b\b\b\b\b\b\b\b\b\b\b\b\b\b\b\b\b\b\b\b\b\b\b\b\b\b\b\b\b\b\b\b\b\b\b\b\b\b\b\b\b\b\b\b\b\b\b\b\b\b\b\b\b\b\b\b\b\b\b\b\b\b\b\b\b\b\b\b\b\b\b\b\b\b\b\b\b\b\b\b\b\b\b\b\b\b\b\b\b\b\b\b\b\b\b\b\b\b\b\b\b\b\b\b\b\b\b\b\b\b\b\b\b\b\b\b\b\b\b\b\b\b\b\b\b\b\b\b\b\b\b\b\b\b\b\b\b\b\b\b\b\b\b\b\b\b\b\b\b\b\b\b\b\b\b\b\b\b\b\b\b\b\b\b\b\b\b\b\b\b\b\b\b\b\b\b\b\b\b\b\b\b\b\b\b\b\b\b\b\b\b\b\b\b\b\b\b\b\b\b\b\b\b\b\b\b\b\b\b\b\b\b\b\b\b\b\b\b\b\b\b\b\b\b\b\b\b\b\b\b\b\b\b\b\b\b\b\b\b\b\b\b\b\b\b\b\b\b\b\b\b\b\b\b\b\b\b\b\b\b\b\b\b\b\b\b\b\b\b\b\b\b\b\b\b\b\b\b\b\b\b\b\b\b\b\b\b\b\b\b\b\b\b\b\b\b\b\b\b\b\b\b\b\b\b\b\b\b\b\b\b\b\b\b\b\b\b\b\b\b\b\b\b\b\b\b\b\b\b\b\b\b\b\b\b\b\b\b\b\b\b\b\b\b\b\b\b\b\b\b\b\b\b\b\b\b\b\b\b\b\b\b\b\b\b\b\b\b\b\b\b\b\b\b\b\b\b\b\b\b\b\b\b\b\b\b\b\b\b\b\b\b\b\b\b\b\b\b\b\b\b\b\b\b\b\b\b\b\b\b\b\b\b\b\b\b\b\b\b\b\b\b\b\b\b\b\b\b\b\b\b\b\b\b\b\b\b\b\b\b\b\b\b\b\b\b\b\b\b\b\b\b\b\b\b\b\b\b\b\b\b\b\b\b\b\b\b\b\b\b\b\b\b\b\b\b\b\b\b\b\b\b\b\b\b\b\b\b\b\b\b\b\b\b\b\b\b\b\b\b\b\b\b\b\b\b\b\b\b\b\b\b\b\b\b\b\b\b\b\b\b\b\b\b\b\b\b\b\b\b\b\b\b\b\b\b\b\b\b\b\b\b\b\b\b\b\b\b\b\b\b\b\b\b\b\b\b\b\b\b\b\b\b\b\b\b\b\b\b\b\b\b\b\b\b\b\b\b\b\b\b\b\b\b\b\b\b\b\b\b\b\b\b\b\b\b\b\b\b\b\b\b\b\b\b\b\b\b\b\b\b\b\b\b\b\b\b\b\b\b\b\b\b\b\b\b\b\b\b\b\b\b\b\b\b\b\b\b\b\b\b\b\b\b\b\b\b\b\b\b\b\b\b\b\b\b\b\b\b\b\b\b\b\b\b\b\b\b\b\b\b\b\b\b\b\b\b\b\b\b\b\b\b\b\b\b\b\b\b\b\b\b\b\b\b\b\b\b\b\b\b\b\b\b\b\b\b\b\b\b\b\b\b\b\b\b\b\b\b\b\b\b\b\b\b\b\b\b\b\b\b\b\b\b\b\b\b\b\b\b\b\b\b\b\b\b\b\b\b\b\b\b\b\b\b\b\b\b\b\b\b\b\b\b\b\b\b\b\b\b\b\b\b\b\b\b\b\b\b\b\b\b\b\b\b\b\b\b\b\b\b\b\b\b\b\b\b\b\b\b\b\b\b\b\b\b\b\b\b\b\b\b\b\b\b\b\b\b\b\b\b\b\b\b\b\b\b\b\b\b\b\b\b\b\b\b\b\b\b\b\b\b\b\b\b\b\b\b\b\b\b\b\b\b\b\b\b\b\b\b\b\b\b\b\b\b\b\b\b\b\b\b\b\b\b\b\b\b\b\b\b\b\b\b\b\b\b\b\b\b\b\b\b\b\b\b\b\b\b\b\b\b\b\b\b\b\b\b\b\b\b\b\b\b\b\b\b\b\b\b\b\b\b\b\b\b\b\b\b\b\b\b\b\b\b\b\b\b\b\b\b\b\b\b\b\b\b\b\b\b\b\b\b\b\b\b\b\b\b\b\b\b\b\b\b\b\b\b\b\b\b\b\b\b\b\b\b\b\b\b\b\b\b\b\b\b\b\b\b\b\b\b\b\b\b\b\b\b\b\b\b\b\b\b\b\b\b\b\b\b\b\b\b\b\b\b\b\b\b\b\b\b\b\b\b\b\b\b\b\b\b\b\b\b\b\b\b\b\b\b\b\b\b\b\b\b\b\b\b\b\b\b\b\b\b\b\b\b\b\b\b\b\b\b\b\b\b\b\b\b\b\b\b\b\b\b\b\b\b\b\b\b\b\b\b\b\b\b\b\b\b\b\b\b\b\b\b\b\b\b\b\b\b\b\b\b\b\b\b\b\b\b\b\b\b\b\b\b\b\b\b\b\b\b\b\b\b\b\b\b\b\b\b\b\b\b\b\b\b\b\b\b\b\b\b\b\b\b\b\b\b\b\b\b\b\b\b\b\b\b\b\b\b\b\b\b\b\b\b\b\b\b\b\b\b\b\b\b\b\b\b\b\b\b\b\b\b\b\b\b\b\b\b\b\b\b\b\b\b\b\b\b\b\b\b\b\b\b\b\b\b\b\b\b\b\b\b\b\b\b\b\b\b\b\b\b\b\b\b\b\b\b\b\b\b\b\b\b\b\b\b\b\b\b\b\b\b\b\b\b\b\b\b\b\b\b\b\b\b\b\b\b\b\b\b\b\b\b\b\b\b\b\b\b\b\b\b\b\b\b\b\b\b\b\b\b\b\b\b\b\b\b\b\b\b\b\b\b\b\b\b\b\b\b\b\b\b\b\b\b\b\b\b\b\b\b\b\b\b\b\b\b\b\b\b\b\b\b\b\b\b\b\b\b\b\b\b\b\b\b\b\b\b\b\b\b\b\b\b\b\b\b\b\b\b\b\b\b\b\b\b\b\b\b\b\b\b\b\b\b\b\b\b\b\b\b\b\b\b\b\b\b\b\b\b\b\b\b\b\b\b\b\b\b\b\b\b\b\b\b\b\b\b\b\b\b\b\b\b\b\b\b\b\b\b\b\b\b\b\b\b\b\b\b\b\b\b\b\b\b\b\b\b\b\b\b\b\b\b\b\b\b\b\b\b\b\b\b\b\b\b\b\b\b\b\b\b\b\b\b\b\b\b\b\b\b\b\b\b\b\b\b\b\b\b\b\b\b\b\b\b\b\b\b\b\b\b\b\b\b\b\b\b\b\b\b\b\b\b\b\b\b\b\b\b\b\b\b\b\b\b\b\b\b\b\b\b\b\b\b\b\b\b\b\b\b\b\b\b\b\b\b\b\b\b\b\b\b\b\b\b\b\b\b\b\b\b\b\b\b\b\b\b\b\b\b\b\b\b\b\b\b\b\b\b\b\b\b\b\b\b\b\b\b\b\b\b\b\b\b\b\b\b\b\b\b\b\b\b\b\b\b\b\b\b\b\b\b\b\b\b\b\b\b\b\b\b\b\b\b\b\b\b\b\b\b\b\b\b\b\b\b\b\b\b\b\b\b\b\b\b\b\b\b\b\b\b\b\b\b\b\b\b\b\b\b\b\b\b\b\b\b\b\b\b\b\b\b\b\b\b\b\b\b\b\b\b\b\b\b\b\b\b\b\b\b\b\b\b\b\b\b\b\b\b\b\b\b\b\b\b\b\b\b\b\b\b\b\b\b\b\b\b\b\b\b\b\b\b\b\b\b\b\b\b\b\b\b\b\b\b\b\b\b\b\b\b\b\b\b\b\b\b\b\b\b\b\b\b\b\b\b\b\b\b\b\b\b\b\b\b\b\b\b\b\b\b\b\b\b\b\b\b\b\b\b\b\b\b\b\b\b\b\b\b\b\b\b\b\b\b\b\b\b\b\b\b\b\b\b\b\b\b\b\b\b\b\b\b\b\b\b\b\b\b\b\b\b\b\b\b\b\b\b\b\b\b\b\b\b\b\b\b\b\b\b\b\b\b\b\b\b\b\b\b\b\b\b\b\b\b\b\b\b\b\b\b\b\b\b\b\b\b\b\b\b\b\b\b\b\b\b\b\b\b\b\b\b\b\b\b\b\b\b\b\b\b\b\b\b\b\b\b\b\b\b\b\b\b\b\b\b\b\b\b\b\b\b\b\b\b\b\b\b\b\b\b\b\b\b\b\b\b\b\b\b\b\b\b\b\b\b\b\b\b\b\b\b\b\b\b\b\b\b\b\b\b\b\b\b\b\b\b\b\b\b\b\b\b\b\b\b\b\b\b\b\b\b\b\b\b\b\b\b\b\b\b\b\b\b\b\b\b\b\b\b\b\b\b\b\b\b\b\b\b\b\b\b\b\b\b\b\b\b\b\b\b\b\b\b\b\b\b\b\b\b\b\b\b\b\b\b\b\b\b\b\b\b\b\b\b\b\b\b\b\b\b\b\b\b\b\b\b\b\b\b\b\b\b\b\b\b\b\b\b\b\b\b\b\b\b\b\b\b\b\b\b\b\b\b\b\b\b\b\b\b\b\b\b\b\b\b\b\b\b\b\b\b\b\b\b\b\b\b\b\b\b\b\b\b\b\b\b\b\b\b\b\b\b\b\b\b\b\b\b\b\b\b\b\b\b\b\b\b\b\b\b\b\b\b\b\b\b\b\b\b\b\b\b\b\b\b\b\b\b\b\b\b\b\b\b\b\b\b\b\b\b\b\b\b\b\b\b\b\b\b\b\b\b\b\b\b\b\b\b\b\b\b\b\b\b\b\b\b\b\b\b\b\b\b\b\b\b\b\b\b\b\b\b\b\b\b\b\b\b\b\b\b\b\b\b\b\b\b\b\b\b\b\b\b\b\b\b\b\b\b\b\b\b\b\b\b\b\b\b\b\b\b\b\b\b\b\b\b\b\b\b\b\b\b\b\b\b\b\b\b\b\b\b\b\b\b\b\b\b\b\b\b\b\b\b\b\b\b\b\b\b\b\b\b\b\b\b\b\b\b\b\b\b\b\b\b\b\b\b\b\b\b\b\b\b\b\b\b\b\b\b\b\b\b\b\b\b\b\b\b\b\b\b\b\b\b\b\b\b\b\b\b\b\b\b\b\b\b\b\b\b\b\b\b\b\b\b\b\b\b\b\b\b\b\b\b\b\b\b\b\b\b\b\b\b\b\b\b\b\b\b\b\b\b\b\b\b\b\b\b\b\b\b\b\b\b\b\b\b\b\b\b\b\b\b\b\b\b\b\b\b\b\b\b\b\b\b\b\b\b\b\b\b\b\b\b\b\b\b\b\b\b\b\b\b\b\b\b\b\b\b\b\b\b\b\b\b\b\b\b\b\b\b\b\b\b\b\b\b\b\b\b\b\b\b\b\b\b\b\b\b\b\b\b\b\b\b\b\b\b\b\b\b\b\b\b\b\b\b\b\b\b\b\b\b\b\b\b\b\b\b\b\b\b\b\b\b\b\b\b\b\b\b\b\b\b\b\b\b\b\b\b\b\b\b\b\b\b\b\b\b\b\b\b\b\b\b\b\b\b\b\b\b\b\b\b\b\b\b\b\b\b\b\b\b\b\b\b\b\b\b\b\b\b\b\b\b\b\b\b\b\b\b\b\b\b\b\b\b\b\b\b\b\b\b\b\b\b\b\b\b\b\b\b\b\b\b\b\b\b\b\b\b\b\b\b\b\b\b\b\b\b\b\b\b\b\b\b\b\b\b\b\b\b\b\b\b\b\b\b\b\b\b\b\b\b\b\b\b\b\b\b\b\b\b\b\b\b\b\b\b\b\b\b\b\b\b\b\b\b\b\b\b\b\b\b\b\b\b\b\b\b\b\b\b\b\b\b\b\b\b\b\b\b\b\b\b\b\b\b\b\b\b\b\b\b\b\b\b\b\b\b\b\b\b\b\b\b\b\b\b\b\b\b\b\b\b\b\b\b\b\b\b\b\b\b\b\b\b\b\b\b\b\b\b\b\b\b\b\b\b\b\b\b\b\b\b\b\b\b\b\b\b\b\b\b\b\b\b\b\b\b\b\b\b\b\b\b\b\b\b\b\b\b\b\b\b\b\b\b\b\b\b\b\b\b\b\b\b\b\b\b\b\b\b\b\b\b\b\b\b\b\b\b\b\b\b\b\b\b\b\b\b\b\b\b\b\b\b\b\b\b\b\b\b\b\b\b\b\b\b\b\b\b\b\b\b\b\b\b\b\b\b\b\b\b\b\b\b\b\b\b\b\b\b\b\b\b\b\b\b\b\b\b\b\b\b\b\b\b\b\b\b\b\b\b\b\b\b\b\b\b\b\b\b\b\b\b\b\b\b\b\b\b\b\b\b\b\b\b\b\b\b\b\b\b\b\b\b\b\b\b\b\b\b\b\b\b\b\b\b\b\b\b\b\b\b\b\b\b\b\b\b\b\b\b\b\b\b\b\b\b\b\b\b\b\b\b\b\b\b\b\b\b\b\b\b\b\b\b\b\b\b\b\b\b\b\b\b\b\b\b\b\b\b\b\b\b\b\b\b\b\b\b\b\b\b\b\b\b\b\b\b\b\b\b\b\b\b\b\b\b\b\b\b\b\b\b\b\b\b\b\b\b\b\b\b\b\b\b\b\b\b\b\b\b\b\b\b\b\b\b\b\b\b\b\b\b\b\b\b\b\b\b\b\b\b\b\b\b\b\b\b\b\b\b\b\b\b\b\b\b\b\b\b\b\b\b\b\b\b\b\b\b\b\b\b\b\b\b\b\b\b\b\b\b\b\b\b\b\b\b\b\b\b\b\b\b\b\b\b\b\b\b\b\b\b\b\b\b\b\b\b\b\b\b\b\b\b\b\b\b\b\b\b\b\b\b\b\b\b\b\b\b\b\b\b\b\b\b\b\b\b\b\b\b\b\b\b\b\b\b\b\b\b\b\b\b\b\b\b\b\b\b\b\b\b\b\b\b\b\b\b\b\b\b\b\b\b\b\b\b\b\b\b\b\b\b\b\b\b\b\b\b\b\b\b\b\b\b\b\b\b\b\b\b\b\b\b\b\b\b\b\b\b\b\b\b\b\b\b\b\b\b\b\b\b\b\b\b\b\b\b\b\b\b\b\b\b\b\b\b\b\b\b\b\b\b\b\b\b\b\b\b\b\b\b\b\b\b\b\b\b\b\b\b\b\b\b\b\b\b\b\b\b\b\b\b\b\b\b\b\b\b\b\b\b\b\b\b\b\b\b\b\b\b\b\b\b\b\b\b\b\b\b\b\b\b\b\b\b\b\b\b\b\b\b\b\b\b\b\b\b\b\b\b\b\b\b\b\b\b\b\b\b\b\b\b\b\b\b\b\b\b\b\b\b\b\b\b\b\b\b\b\b\b\b\b\b\b\b\b\b\b\b\b\b\b\b\b\b\b\b\b\b\b\b\b\b\b\b\b\b\b\b\b\b\b\b\b\b\b\b\b\b\b\b\b\b\b\b\b\b\b\b\b\b\b\b\b\b\b\b\b\b\b\b\b\b\b\b\b\b\b\b\b\b\b\b\b\b\b\b\b\b\b\b\b\b\b\b\b\b\b\b\b\b\b\b\b\b\b\b\b\b\b\b\b\b\b\b\b\b\b\b\b\b\b\b\b\b\b\b\b\b\b\b\b\b\b\b\b\b\b\b\b\b\b\b\b\b\b\b\b\b\b\b\b\b\b\b\b\b\b\b\b\b\b\b\b\b\b\b\b\b\b\b\b\b\b\b\b\b\b\b\b\b\b\b\b\b\b\b\b\b\b\b\b\b\b\b\b\b\b\b\b\b\b\b\b\b\b\b\b\b\b\b\b\b\b\b\b\b\b\b\b\b\b\b\b\b\b\b\b\b\b\b\b\b\b\b\b\b\b\b\b\b\b\b\b\b\b\b\b\b\b\b\b\b\b\b\b\b\b\b\b\b\b\b\b\b\b\b\b\b\b\b\b\b\b\b\b\b\b\b\b\b\b\b\b\b\b\b\b\b\b\b\b\b\b\b\b\b\b\b\b\b\b\b\b\b\b\b\b\b\b\b\b\b\b\b\b\b\b\b\b\b\b\b\b\b\b\b\b\b\b\b\b\b\b\b\b\b\b\b\b\b\b\b\b\b\b\b\b\b\b\b\b\b\b\b\b\b\b\b\b\b\b\b\b\b\b\b\b\b\b\b\b\b\b\b\b\b\b\b\b\b\b\b\b\b\b\b\b\b\b\b\b\b\b\b\b\b\b\b\b\b\b\b\b\b\b\b\b\b\b\b\b\b\b\b\b\b\b\b\b\b\b\b\b\b\b\b\b\b\b\b\b\b\b\b\b\b\b\b\b\b\b\b\b\b\b\b\b\b\b\b\b\b\b\b\b\b\b\b\b\b\b\b\b\b\b\b\b\b\b\b\b\b\b\b\b\b\b\b\b\b\b\b\b\b\b\b\b\b\b\b\b\b\b\b\b\b\b\b\b\b\b\b\b\b\b\b\b\b\b\b\b\b\b\b\b\b\b\b\b\b\b\b\b\b\b\b\b\b\b\b\b\b\b\b\b\b\b\b\b\b\b\b\b\b\b\b\b\b\b\b\b\b\b\b\b\b\b\b\b\b\b\b\b\b\b\b\b\b\b\b\b\b\b\b\b\b\b\b\b\b\b\b\b\b\b\b\b\b\b\b\b\b\b\b\b\b\b\b\b\b\b\b\b\b\b\b\b\b\b\b\b\b\b\b\b\b\b\b\b\b\b\b\b\b\b\b\b\b\b\b\b\b\b\b\b\b\b\b\b\b\b\b\b\b\b\b\b\b\b\b\b\b\b\b\b\b\b\b\b\b\b\b\b\b\b\b\b\b\b\b\b\b\b\b\b\b\b\b\b\b\b\b\b\b\b\b\b\b\b\b\b\b\b\b\b\b\b\b\b\b\b\b\b\b\b\b\b\b\b\b\b\b\b\b\b\b\b\b\b\b\b\b\b\b\b\b\b\b\b\b\b\b\b\b\b\b\b\b\b\b\b\b\b\b\b\b\b\b\b\b\b\b\b\b\b\b\b\b\b\b\b\b\b\b\b\b\b\b\b\b\b\b\b\b\b\b\b\b\b\b\b\b\b\b\b\b\b\b\b\b\b\b\b\b\b\b\b\b\b\b\b\b\b\b\b\b\b\b\b\b\b\b\b\b\b\b\b\b\b\b\b\b\b\b\b\b\b\b\b\b\b\b\b\b\b\b\b\b\b\b\b\b\b\b\b\b\b\b\b\b\b\b\b\b\b\b\b\b\b\b\b\b\b\b\b\b\b\b\b\b\b\b\b\b\b\b\b\b\b\b\b\b\b\b\b\b\b\b\b\b\b\b\b\b\b\b\b\b\b\b\b\b\b\b\b\b\b\b\b\b\b\b\b\b\b\b\b\b\b\b\b\b\b\b\b\b\b\b\b\b\b\b\b\b\b\b\b\b\b\b\b\b\b\b\b\b\b\b\b\b\b\b\b\b\b\b\b\b\b\b\b\b\b\b\b\b\b\b\b\b\b\b\b\b\b\b\b\b\b\b\b\b\b\b\b\b\b\b\b\b\b\b\b\b\b\b\b\b\b\b\b\b\b\b\b\b\b\b\b\b\b\b\b\b\b\b\b\b\b\b\b\b\b\b\b\b\b\b\b\b\b\b\b\b\b\b\b\b\b\b\b\b\b\b\b\b\b\b\b\b\b\b\b\b\b\b\b\b\b\b\b\b\b\b\b\b\b\b\b\b\b\b\b\b\b\b\b\b\b\b\b\b\b\b\b\b\b\b\b\b\b\b\b\b\b\b\b\b\b\b\b\b\b\b\b\b\b\b\b\b\b\b\b\b\b\b\b\b\b\b\b\b\b\b\b\b\b\b\b\b\b\b\b\b\b\b\b\b\b\b\b\b\b\b\b\b\b\b\b\b\b\b\b\b\b\b\b\b\b\b\b\b\b\b\b\b\b\b\b\b\b\b\b\b\b\b\b\b\b\b\b\b\b\b\b\b\b\b\b\b\b\b\b\b\b\b\b\b\b\b\b\b\b\b\b\b\b\b\b\b\b\b\b\b\b\b\b\b\b\b\b\b\b\b\b\b\b\b\b\b\b\b\b\b\b\b\b\b\b\b\b\b\b\b\b\b\b\b\b\b\b\b\b\b\b\b\b\b\b\b\b\b\b\b\b\b\b\b\b\b\b\b\b\b\b\b\b\b\b\b\b\b\b\b\b\b\b\b\b\b\b\b\b\b\b\b\b\b\b\b\b\b\b\b\b\b\b\b\b\b\b\b\b\b\b\b\b\b\b\b\b\b\b\b\b\b\b\b\b\b\b\b\b\b\b\b\b\b\b\b\b\b\b\b\b\b\b\b\b\b\b\b\b\b\b\b\b\b\b\b\b\b\b\b\b\b\b\b\b\b\b\b\b\b\b\b\b\b\b\b\b\b\b\b\b\b\b\b\b\b\b\b\b\b\b\b\b\b\b\b\b\b\b\b\b\b\b\b\b\b\b\b\b\b\b\b\b\b\b\b\b\b\b\b\b\b\b\b\b\b\b\b\b\b\b\b\b\b\b\b\b\b\b\b\b\b\b\b\b\b\b\b\b\b\b\b\b\b\b\b\b\b\b\b\b\b\b\b\b\b\b\b\b\b\b\b\b\b\b\b\b\b\b\b\b\b\b\b\b\b\b\b\b\b\b\b\b\b\b\b\b\b\b\b\b\b\b\b\b\b\b\b\b\b\b\b\b\b\b\b\b\b\b\b\b\b\b\b\b\b\b\b\b\b\b\b\b\b\b\b\b\b\b\b\b\b\b\b\b\b\b\b\b\b\b\b\b\b\b\b\b\b\b\b\b\b\b\b\b\b\b\b\b\b\b\b\b\b\b\b\b\b\b\b\b\b\b\b\b\b\b\b\b\b\b\b\b\b\b\b\b\b\b\b\b\b\b\b\b\b\b\b\b\b\b\b\b\b\b\b\b\b\b\b\b\b\b\b\b\b\b\b\b\b\b\b\b\b\b\b\b\b\b\b\b\b\b\b\b\b\b\b\b\b\b\b\b\b\b\b\b\b\b\b\b\b\b\b\b\b\b\b\b\b\b\b\b\b\b\b\b\b\b\b\b\b\b\b\b\b\b\b\b\b\b\b\b\b\b\b\b\b\b\b\b\b\b\b\b\b\b\b\b\b\b\b\b\b\b\b\b\b\b\b\b\b\b\b\b\b\b\b\b\b\b\b\b\b\b\b\b\b\b\b\b\b\b\b\b\b\b\b\b\b\b\b\b\b\b\b\b\b\b\b\b\b\b\b\b\b\b\b\b\b\b\b\b\b\b\b\b\b\b\b\b\b\b\b\b\b\b\b\b\b\b\b\b\b\b\b\b\b\b\b\b\b\b\b\b\b\b\b\b\b\b\b\b\b\b\b\b\b\b\b\b\b\b\b\b\b\b\b\b\b\b\b\b\b\b\b\b\b\b\b\b\b\b\b\b\b\b\b\b\b\b\b\b\b\b\b\b\b\b\b\b\b\b\b\b\b\b\b\b\b\b\b\b\b\b\b\b\b\b\b\b\b\b\b\b\b\b\b\b\b\b\b\b\b\b\b\b\b\b\b\b\b\b\b\b\b\b\b\b\b\b\b\b\b\b\b\b\b\b\b\b\b\b\b\b\b\b\b\b\b\b\b\b\b\b\b\b\b\b\b\b\b\b\b\b\b\b\b\b\b\b\b\b\b\b\b\b\b\b\b\b\b\b\b\b\b\b\b\b\b\b\b\b\b\b\b\b\b\b\b\b\b\b\b\b\b\b\b\b\b\b\b\b\b\b\b\b\b\b\b\b\b\b\b\b\b\b\b\b\b\b\b\b\b\b\b\b\b\b\b\b\b\b\b\b\b\b\b\b\b\b\b\b\b\b\b\b\b\b\b\b\b\b\b\b\b\b\b\b\b\b\b\b\b\b\b\b\b\b\b\b\b\b\b\b\b\b\b\b\b\b\b\b\b\b\b\b\b\b\b\b\b\b\b\b\b\b\b\b\b\b\b\b\b\b\b\b\b\b\b\b\b\b\b\b\b\b\b\b\b\b\b\b\b\b\b\b\b\b\b\b\b\b\b\b\b\b\b\b\b\b\b\b\b\b\b\b\b\b\b\b\b\b\b\b\b\b\b\b\b\b\b\b\b\b\b\b\b\b\b\b\b\b\b\b\b\b\b\b\b\b\b\b\b\b\b\b\b\b\b\b\b\b\b\b\b\b\b\b\b\b\b\b\b\b\b\b\b\b\b\b\b\b\b\b\b\b\b\b\b\b\b\b\b\b\b\b\b\b\b\b\b\b\b\b\b\b\b\b\b\b\b\b\b\b\b\b\b\b\b\b\b\b\b\b\b\b\b\b\b\b\b\b\b\b\b\b\b\b\b\b\b\b\b\b\b\b\b\b\b\b\b\b\b\b\b\b\b\b\b\b\b\b\b\b\b\b\b\b\b\b\b\b\b\b\b\b\b\b\b\b\b\b\b\b\b\b\b\b\b\b\b\b\b\b\b\b\b\b\b\b\b\b\b\b\b\b\b\b\b\b\b\b\b\b\b\b\b\b\b\b\b\b\b\b\b\b\b\b\b\b\b\b\b\b\b\b\b\b\b\b\b\b\b\b\b\b\b\b\b\b\b\b\b\b\b\b\b\b\b\b\b\b\b\b\b\b\b\b\b\b\b\b\b\b\b\b\b\b\b\b\b\b\b\b\b\b\b\b\b\b\b\b\b\b\b\b\b\b\b\b\b\b\b\b\b\b\b\b\b\b\b\b\b\b\b\b\b\b\b\b\b\b\b\b\b\b\b\b\b\b\b\b\b\b\b\b\b\b\b\b\b\b\b\b\b\b\b\b\b\b\b\b\b\b\b\b\b\b\b\b\b\b\b\b\b\b\b\b\b\b\b\b\b\b\b\b\b\b\b\b\b\b\b\b\b\b\b\b\b\b\b\b\b\b\b\b\b\b\b\b\b\b\b\b\b\b\b\b\b\b\b\b\b\b\b\b\b\b\b\b\b\b\b\b\b\b\b\b\b\b\b\b\b\b\b\b\b\b\b\b\b\b\b\b\b\b\b\b\b\b\b\b\b\b\b\b\b\b\b\b\b\b\b\b\b\b\b\b\b\b\b\b\b\b\b\b\b\b\b\b\b\b\b\b\b\b\b\b\b\b\b\b\b\b\b\b\b\b\b\b\b\b\b\b\b\b\b\b\b\b\b\b\b\b\b\b\b\b\b\b\b\b\b\b\b\b\b\b\b\b\b\b\b\b\b\b\b\b\b\b\b\b\b\b\b\b\b\b\b\b\b\b\b\b\b\b\b\b\b\b\b\b\b\b\b\b\b\b\b\b\b\b\b\b\b\b\b\b\b\b\b\b\b\b\b\b\b\b\b\b\b\b\b\b\b\b\b\b\b\b\b\b\b\b\b\b\b\b\b\b\b\b\b\b\b\b\b\b\b\b\b\b\b\b\b\b\b\b\b\b\b\b\b\b\b\b\b\b\b\b\b\b\b\b\b\b\b\b\b\b\b\b\b\b\b\b\b\b\b\b\b\b\b\b\b\b\b\b\b\b\b\b\b\b\b\b\b\b\b\b\b\b\b\b\b\b\b\b\b\b\b\b\b\b\b\b\b\b\b\b\b\b\b\b\b\b\b\b\b\b\b\b\b\b\b\b\b\b\b\b\b\b\b\b\b\b\b\b\b\b\b\b\b\b\b\b\b\b\b\b\b\b\b\b\b\b\b\b\b\b\b\b\b\b\b\b\b\b\b\b\b\b\b\b\b\b\b\b\b\b\b\b\b\b\b\b\b\b\b\b\b\b\b\b\b\b\b\b\b\b\b\b\b\b\b\b\b\b\b\b\b\b\b\b\b\b\b\b\b\b\b\b\b\b\b\b\b\b\b\b\b\b\b\b\b\b\b\b\b\b\b\b\b\b\b\b\b\b\b\b\b\b\b\b\b\b\b\b\b\b\b\b\b\b\b\b\b\b\b\b\b\b\b\b\b\b\b\b\b\b\b\b\b\b\b\b\b\b\b\b\b\b\b\b\b\b\b\b\b\b\b\b\b\b\b\b\b\b\b\b\b\b\b\b\b\b\b\b\b\b\b\b\b\b\b\b\b\b\b\b\b\b\b\b\b\b\b\b\b\b\b\b\b\b\b\b\b\b\b\b\b\b\b\b\b\b\b\b\b\b\b\b\b\b\b\b\b\b\b\b\b\b\b\b\b\b\b\b\b\b\b\b\b\b\b\b\b\b\b\b\b\b\b\b\b\b\b\b\b\b\b\b\b\b\b\b\b\b\b\b\b\b\b\b\b\b\b\b\b\b\b\b\b\b\b\b\b\b\b\b\b\b\b\b\b\b\b\b\b\b\b\b\b\b\b\b\b\b\b\b\b\b\b\b\b\b\b\b\b\b\b\b\b\b\b\b\b\b\b\b\b\b\b\b\b\b\b\b\b\b\b\b\b\b\b\b\b\b\b\b\b\b\b\b\b\b\b\b\b\b\b\b\b\b\b\b\b\b\b\b\b\b\b\b\b\b\b\b\b\b\b\b\b\b\b\b\b\b\b\b\b\b\b\b\b\b\b\b\b\b\b\b\b\b\b\b\b\b\b\b\b\b\b\b\b\b\b\b\b\b\b\b\b\b\b\b\b\b\b\b\b\b\b\b\b\b\b\b\b\b\b\b\b\b\b\b\b\b\b\b\b\b\b\b\b\b\b\b\b\b\b\b\b\b\b\b\b\b\b\b\b\b\b\b\b\b\b\b\b\b\b\b\b\b\b\b\b\b\b\b\b\b\b\b\b\b\b\b\b\b\b\b\b\b\b\b\b\b\b\b\b\b\b\b\b\b\b\b\b\b\b\b\b\b\b\b\b\b\b\b\b\b\b\b\b\b\b\b\b\b\b\b\b\b\b\b\b\b\b\b\b\b\b\b\b\b\b\b\b\b\b\b\b\b\b\b\b\b\b\b\b\b\b\b\b\b\b\b\b\b\b\b\b\b\b\b\b\b\b\b\b\b\b\b\b\b\b\b\b\b\b\b\b\b\b\b\b\b\b\b\b\b\b\b\b\b\b\b\b\b\b\b\b\b\b\b\b\b\b\b\b\b\b\b\b\b\b\b\b\b\b\b\b\b\b\b\b\b\b\b\b\b\b\b\b\b\b\b\b\b\b\b\b\b\b\b\b\b\b\b\b\b\b\b\b\b\b\b\b\b\b\b\b\b\b\b\b\b\b\b\b\b\b\b\b\b\b\b\b\b\b\b\b\b\b\b\b\b\b\b\b\b\b\b\b\b\b\b\b\b\b\b\b\b\b\b\b\b\b\b\b\b\b\b\b\b\b\b\b\b\b\b\b\b\b\b\b\b\b\b\b\b\b\b\b\b\b\b\b\b\b\b\b\b\b\b\b\b\b\b\b\b\b\b\b\b\b\b\b\b\b\b\b\b\b\b\b\b\b\b\b\b\b\b\b\b\b\b\b\b\b\b\b\b\b\b\b\b\b\b\b\b\b\b\b\b\b\b\b\b\b\b\b\b\b\b\b\b\b\b\b\b\b\b\b\b\b\b\b\b\b\b\b\b\b\b\b\b\b\b\b\b\b\b\b\b\b\b\b\b\b\b\b\b\b\b\b\b\b\b\b\b\b\b\b\b\b\b\b\b\b\b\b\b\b\b\b\b\b\b\b\b\b\b\b\b\b\b\b\b\b\b\b\b\b\b\b\b\b\b\b\b\b\b\b\b\b\b\b\b\b\b\b\b\b\b\b\b\b\b\b\b\b\b\b\b\b\b\b\b\b\b\b\b\b\b\b\b\b\b\b\b\b\b\b\b\b\b\b\b\b\b\b\b\b\b\b\b\b\b\b\b\b\b\b\b\b\b\b\b\b\b\b\b\b\b\b\b\b\b\b\b\b\b\b\b\b\b\b\b\b\b\b\b\b\b\b\b\b\b\b\b\b\b\b\b\b\b\b\b\b\b\b\b\b\b\b\b\b\b\b\b\b\b\b\b\b\b\b\b\b\b\b\b\b\b\b\b\b\b\b\b\b\b\b\b\b\b\b\b\b\b\b\b\b\b\b\b\b\b\b\b\b\b\b\b\b\b\b\b\b\b\b\b\b\b\b\b\b\b\b\b\b\b\b\b\b\b\b\b\b\b\b\b\b\b\b\b\b\b\b\b\b\b\b\b\b\b\b\b\b\b\b\b\b\b\b\b\b\b\b\b\b\b\b\b\b\b\b\b\b\b\b\b\b\b\b\b\b\b\b\b\b\b\b\b\b\b\b\b\b\b\b\b\b\b\b\b\b\b\b\b\b\b\b\b\b\b\b\b\b\b\b\b\b\b\b\b\b\b\b\b\b\b\b\b\b\b\b\b\b\b\b\b\b\b\b\b\b\b\b\b\b\b\b\b\b\b\b\b\b\b\b\b\b\b\b\b\b\b\b\b\b\b\b\b\b\b\b\b\b\b\b\b\b\b\b\b\b\b\b\b\b\b\b\b\b\b\b\b\b\b\b\b\b\b\b\b\b\b\b\b\b\b\b\b\b\b\b\b\b\b\b\b\b\b\b\b\b\b\b\b\b\b\b\b\b\b\b\b\b\b\b\b\b\b\b\b\b\b\b\b\b\b\b\b\b\b\b\b\b\b\b\b\b\b\b\b\b\b\b\b\b\b\b\b\b\b\b\b\b\b\b\b\b\b\b\b\b\b\b\b\b\b\b\b\b\b\b\b\b\b\b\b\b\b\b\b\b\b\b\b\b\b\b\b\b\b\b\b\b\b\b\b\b\b\b\b\b\b\b\b\b\b\b\b\b\b\b\b\b\b\b\b\b\b\b\b\b\b\b\b\b\b\b\b\b\b\b\b\b\b\b\b\b\b\b\b\b\b\b\b\b\b\b\b\b\b\b\b\b\b\b\b\b\b\b\b\b\b\b\b\b\b\b\b\b\b\b\b\b\b\b\b\b\b\b\b\b\b\b\b\b\b\b\b\b\b\b\b\b\b\b\b\b\b\b\b\b\b\b\b\b\b\b\b\b\b\b\b\b\b\b\b\b\b\b\b\b\b\b\b\b\b\b\b\b\b\b\b\b\b\b\b\b\b\b\b\b\b\b\b\b\b\b\b\b\b\b\b\b\b\b\b\b\b\b\b\b\b\b\b\b\b\b\b\b\b\b\b\b\b\b\b\b\b\b\b\b\b\b\b\b\b\b\b\b\b\b\b\b\b\b\b\b\b\b\b\b\b\b\b\b\b\b\b\b\b\b\b\b\b\b\b\b\b\b\b\b\b\b\b\b\b\b\b\b\b\b\b\b\b\b\b\b\b\b\b\b\b\b\b\b\b\b\b\b\b\b\b\b\b\b\b\b\b\b\b\b\b\b\b\b\b\b\b\b\b\b\b\b\b\b\b\b\b\b\b\b\b\b\b\b\b\b\b\b\b\b\b\b\b\b\b\b\b\b\b\b\b\b\b\b\b\b\b\b\b\b\b\b\b\b\b\b\b\b\b\b\b\b\b\b\b\b\b\b\b\b\b\b\b\b\b\b\b\b\b\b\b\b\b\b\b\b\b\b\b\b\b\b\b\b\b\b\b\b\b\b\b\b\b\b\b\b\b\b\b\b\b\b\b\b\b\b\b\b\b\b\b\b\b\b\b\b\b\b\b\b\b\b\b\b\b\b\b\b\b\b\b\b\b\b\b\b\b\b\b\b\b\b\b\b\b\b\b\b\b\b\b\b\b\b\b\b\b\b\b\b\b\b\b\b\b\b\b\b\b\b\b\b\b\b\b\b\b\b\b\b\b\b\b\b\b\b\b\b\b\b\b\b\b\b\b\b\b\b\b\b\b\b\b\b\b\b\b\b\b\b\b\b\b\b\b\b\b\b\b\b\b\b\b\b\b\b\b\b\b\b\b\b\b\b\b\b\b\b\b\b\b\b\b\b\b\b\b\b\b\b\b\b\b\b\b\b\b\b\b\b\b\b\b\b\b\b\b\b\b\b\b\b\b\b\b\b\b\b\b\b\b\b\b\b\b\b\b\b\b\b\b\b\b\b\b\b\b\b\b\b\b\b\b\b\b\b\b\b\b\b\b\b\b\b\b\b\b\b\b\b\b\b\b\b\b\b\b\b\b\b\b\b\b\b\b\b\b\b\b\b\b\b\b\b\b\b\b\b\b\b\b\b\b\b\b\b\b\b\b\b\b\b\b\b\b\b\b\b\b\b\b\b\b\b\b\b\b\b\b\b\b\b\b\b\b\b\b\b\b\b\b\b\b\b\b\b\b\b\b\b\b\b\b\b\b\b\b\b\b\b\b\b\b\b\b\b\b\b\b\b\b\b\b\b\b\b\b\b\b\b\b\b\b\b\b\b\b\b\b\b\b\b\b\b\b\b\b\b\b\b\b\b\b\b\b\b\b\b\b\b\b\b\b\b\b\b\b\b\b\b\b\b\b\b\b\b\b\b\b\b\b\b\b\b\b\b\b\b\b\b\b\b\b\b\b\b\b\b\b\b\b\b\b\b\b\b\b\b\b\b\b\b\b\b\b\b\b\b\b\b\b\b\b\b\b\b\b\b\b\b\b\b\b\b\b\b\b\b\b\b\b\b\b\b\b\b\b\b\b\b\b\b\b\b\b\b\b\b\b\b\b\b\b\b\b\b\b\b\b\b\b\b\b\b\b\b\b\b\b\b\b\b\b\b\b\b\b\b\b\b\b\b\b\b\b\b\b\b\b\b\b\b\b\b\b\b\b\b\b\b\b\b\b\b\b\b\b\b\b\b\b\b\b\b\b\b\b\b\b\b\b\b\b\b\b\b\b\b\b\b\b\b\b\b\b\b\b\b\b\b\b\b\b\b\b\b\b\b\b\b\b\b\b\b\b\b\b\b\b\b\b\b\b\b\b\b\b\b\b\b\b\b\b\b\b\b\b\b\b\b\b\b\b\b\b\b\b\b\b\b\b\b\b\b\b\b\b\b\b\b\b\b\b\b\b\b\b\b\b\b\b\b\b\b\b\b\b\b\b\b\b\b\b\b\b\b\b\b\b\b\b\b\b\b\b\b\b\b\b\b\b\b\b\b\b\b\b\b\b\b\b\b\b\b\b\b\b\b\b\b\b\b\b\b\b\b\b\b\b\b\b\b\b\b\b\b\b\b\b\b\b\b\b\b\b\b\b\b\b\b\b\b\b\b\b\b\b\b\b\b\b\b\b\b\b\b\b\b\b\b\b\b\b\b\b\b\b\b\b\b\b\b\b\b\b\b\b\b\b\b\b\b\b\b\b\b\b\b\b\b\b\b\b\b\b\b\b\b\b\b\b\b\b\b\b\b\b\b\b\b\b\b\b\b\b\b\b\b\b\b\b\b\b\b\b\b\b\b\b\b\b\b\b\b\b\b\b\b\b\b\b\b\b\b\b\b\b\b\b\b\b\b\b\b\b\b\b\b\b\b\b\b\b\b\b\b\b\b\b\b\b\b\b\b\b\b\b\b\b\b\b\b\b\b\b\b\b\b\b\b\b\b\b\b\b\b\b\b\b\b\b\b\b\b\b\b\b\b\b\b\b\b\b\b\b\b\b\b\b\b\b\b\b\b\b\b\b\b\b\b\b\b\b\b\b\b\b\b\b\b\b\b\b\b\b\b\b\b\b\b\b\b\b\b\b\b\b\b\b\b\b\b\b\b\b\b\b\b\b\b\b\b\b\b\b\b\b\b\b\b\b\b\b\b\b\b\b\b\b\b\b\b\b\b\b\b\b\b\b\b\b\b\b\b\b\b\b\b\b\b\b\b\b\b\b\b\b\b\b\b\b\b\b\b\b\b\b\b\b\b\b\b\b\b\b\b\b\b\b\b\b\b\b\b\b\b\b\b\b\b\b\b\b\b\b\b\b\b\b\b\b\b\b\b\b\b\b\b\b\b\b\b\b\b\b\b\b\b\b\b\b\b\b\b\b\b\b\b\b\b\b\b\b\b\b\b\b\b\b\b\b\b\b\b\b\b\b\b\b\b\b\b\b\b\b\b\b\b\b\b\b\b\b\b\b\b\b\b\b\b\b\b\b\b\b\b\b\b\b\b\b\b\b\b\b\b\b\b\b\b\b\b\b\b\b\b\b\b\b\b\b\b\b\b\b\b\b\b\b\b\b\b\b\b\b\b\b\b\b\b\b\b\b\b\b\b\b\b\b\b\b\b\b\b\b\b\b\b\b\b\b\b\b\b\b\b\b\b\b\b\b\b\b\b\b\b\b\b\b\b\b\b\b\b\b\b\b\b\b\b\b\b\b\b\b\b\b\b\b\b\b\b\b\b\b\b\b\b\b\b\b\b\b\b\b\b\b\b\b\b\b\b\b\b\b\b\b\b\b\b\b\b\b\b\b\b\b\b\b\b\b\b\b\b\b\b\b\b\b\b\b\b\b\b\b\b\b\b\b\b\b\b\b\b\b\b\b\b\b\b\b\b\b\b\b\b\b\b\b\b\b\b\b\b\b\b\b\b\b\b\b\b\b\b\b\b\b\b\b\b\b\b\b\b\b\b\b\b\b\b\b\b\b\b\b\b\b\b\b\b\b\b\b\b\b\b\b\b\b\b\b\b\b\b\b\b\b\b\b\b\b\b\b\b\b\b\b\b\b\b\b\b\b\b\b\b\b\b\b\b\b\b\b\b\b\b\b\b\b\b\b\b\b\b\b\b\b\b\b\b\b\b\b\b\b\b\b\b\b\b\b\b\b\b\b\b\b\b\b\b\b\b\b\b\b\b\b\b\b\b\b\b\b\b\b\b\b\b\b\b\b\b\b\b\b\b\b\b\b\b\b\b\b\b\b\b\b\b\b\b\b\b\b\b\b\b\b\b\b\b\b\b\b\b\b\b\b\b\b\b\b\b\b\b\b\b\b\b\b\b\b\b\b\b\b\b\b\b\b\b\b\b\b\b\b\b\b\b\b\b\b\b\b\b\b\b\b\b\b\b\b\b\b\b\b\b\b\b\b\b\b\b\b\b\b\b\b\b\b\b\b\b\b\b\b\b\b\b\b\b\b\b\b\b\b\b\b\b\b\b\b\b\b\b\b\b\b\b\b\b\b\b\b\b\b\b\b\b\b\b\b\b\b\b\b\b\b\b\b\b\b\b\b\b\b\b\b\b\b\b\b\b\b\b\b\b\b\b\b\b\b\b\b\b\b\b\b\b\b\b\b\b\b\b\b\b\b\b\b\b\b\b\b\b\b\b\b\b\b\b\b\b\b\b\b\b\b\b\b\b\b\b\b\b\b\b\b\b\b\b\b\b\b\b\b\b\b\b\b\b\b\b\b\b\b\b\b\b\b\b\b\b\b\b\b\b\b\b\b\b\b\b\b\b\b\b\b\b\b\b\b\b\b\b\b\b\b\b\b\b\b\b\b\b\b\b\b\b\b\b\b\b\b\b\b\b\b\b\b\b\b\b\b\b\b\b\b\b\b\b\b\b\b\b\b\b\b\b\b\b\b\b\b\b\b\b\b\b\b\b\b\b\b\b\b\b\b\b\b\b\b\b\b\b\b\b\b\b\b\b\b\b\b\b\b\b\b\b\b\b\b\b\b\b\b\b\b\b\b\b\b\b\b\b\b\b\b\b\b\b\b\b\b\b\b\b\b\b\b\b\b\b\b\b\b\b\b\b\b\b\b\b\b\b\b\b\b\b\b\b\b\b\b\b\b\b\b\b\b\b\b\b\b\b\b\b\b\b\b\b\b\b\b\b\b\b\b\b\b\b\b\b\b\b\b\b\b\b\b\b\b\b\b\b\b\b\b\b\b\b\b\b\b\b\b\b\b\b\b\b\b\b\b\b\b\b\b\b\b\b\b\b\b\b\b\b\b\b\b\b\b\b\b\b\b\b\b\b\b\b\b\b\b\b\b\b\b\b\b\b\b\b\b\b\b\b\b\b\b\b\b\b\b\b\b\b\b\b\b\b\b\b\b\b\b\b\b\b\b\b\b\b\b\b\b\b\b\b\b\b\b\b\b\b\b\b\b\b\b\b\b\b\b\b\b\b\b\b\b\b\b\b\b\b\b\b\b\b\b\b\b\b\b\b\b\b\b\b\b\b\b\b\b\b\b\b\b\b\b\b\b\b\b\b\b\b\b\b\b\b\b\b\b\b\b\b\b\b\b\b\b\b\b\b\b\b\b\b\b\b\b\b\b\b\b\b\b\b\b\b\b\b\b\b\b\b\b\b\b\b\b\b\b\b\b\b\b\b\b\b\b\b\b\b\b\b\b\b\b\b\b\b\b\b\b\b\b\b\b\b\b\b\b\b\b\b\b\b\b\b\b\b\b\b\b\b\b\b\b\b\b\b\b\b\b\b\b\b\b\b\b\b\b\b\b\b\b\b\b\b\b\b\b\b\b\b\b\b\b\b\b\b\b\b\b\b\b\b\b\b\b\b\b\b\b\b\b\b\b\b\b\b\b\b\b\b\b\b\b\b\b\b\b\b\b\b\b\b\b\b\b\b\b\b\b\b\b\b\b\b\b\b\b\b\b\b\b\b\b\b\b\b\b\b\b\b\b\b\b\b\b\b\b\b\b\b\b\b\b\b\b\b\b\b\b\b\b\b\b\b\b\b\b\b\b\b\b\b\b\b\b\b\b\b\b\b\b\b\b\b\b\b\b\b\b\b\b\b\b\b\b\b\b\b\b\b\b\b\b\b\b\b\b\b\b\b\b\b\b\b\b\b\b\b\b\b\b\b\b\b\b\b\b\b\b\b\b\b\b\b\b\b\b\b\b\b\b\b\b\b\b\b\b\b\b\b\b\b\b\b\b\b\b\b\b\b\b\b\b\b\b\b\b\b\b\b\b\b\b\b\b\b\b\b\b\b\b\b\b\b\b\b\b\b\b\b\b\b\b\b\b\b\b\b\b\b\b\b\b\b\b\b\b\b\b\b\b\b\b\b\b\b\b\b\b\b\b\b\b\b\b\b\b\b\b\b\b\b\b\b\b\b\b\b\b\b\b\b\b\b\b\b\b\b\b\b\b\b\b\b\b\b\b\b\b\b\b\b\b\b\b\b\b\b\b\b\b\b\b\b\b\b\b\b\b\b\b\b\b\b\b\b\b\b\b\b\b\b\b\b\b\b\b\b\b\b\b\b\b\b\b\b\b\b\b\b\b\b\b\b\b\b\b\b\b\b\b\b\b\b\b\b\b\b\b\b\b\b\b\b\b\b\b\b\b\b\b\b\b\b\b\b\b\b\b\b\b\b\b\b\b\b\b\b\b\b\b\b\b\b\b\b\b\b\b\b\b\b\b\b\b\b\b\b\b\b\b\b\b\b\b\b\b\b\b\b\b\b\b\b\b\b\b\b\b\b\b\b\b\b\b\b\b\b\b\b\b\b\b\b\b\b\b\b\b\b\b\b\b\b\b\b\b\b\b\b\b\b\b\b\b\b\b\b\b\b\b\b\b\b\b\b\b\b\b\b\b\b\b\b\b\b\b\b\b\b\b\b\b\b\b\b\b\b\b\b\b\b\b\b\b\b\b\b\b\b\b\b\b\b\b\b\b\b\b\b\b\b\b\b\b\b\b\b\b\b\b\b\b\b\b\b\b\b\b\b\b\b\b\b\b\b\b\b\b\b\b\b\b\b\b\b\b\b\b\b\b\b\b\b\b\b\b\b\b\b\b\b\b\b\b\b\b\b\b\b\b\b\b\b\b\b\b\b\b\b\b\b\b\b\b\b\b\b\b\b\b\b\b\b\b\b\b\b\b\b\b\b\b\b\b\b\b\b\b\b\b\b\b\b\b\b\b\b\b\b\b\b\b\b\b\b\b\b\b\b\b\b\b\b\b\b\b\b\b\b\b\b\b\b\b\b\b\b\b\b\b\b\b\b\b\b\b\b\b\b\b\b\b\b\b\b\b\b\b\b\b\b\b\b\b\b\b\b\b\b\b\b\b\b\b\b\b\b\b\b\b\b\b\b\b\b\b\b\b\b\b\b\b\b\b\b\b\b\b\b\b\b\b\b\b\b\b\b\b\b\b\b\b\b\b\b\b\b\b\b\b\b\b\b\b\b\b\b\b\b\b\b\b\b\b\b\b\b\b\b\b\b\b\b\b\b\b\b\b\b\b\b\b\b\b\b\b\b\b\b\b\b\b\b\b\b\b\b\b\b\b\b\b\b\b\b\b\b\b\b\b\b\b\b\b\b\b\b\b\b\b\b\b\b\b\b\b\b\b\b\b\b\b\b\b\b\b\b\b\b\b\b\b\b\b\b\b\b\b\b\b\b\b\b\b\b\b\b\b\b\b\b\b\b\b\b\b\b\b\b\b\b\b\b\b\b\b\b\b\b\b\b\b\b\b\b\b\b\b\b\b\b\b\b\b\b\b\b\b\b\b\b\b\b\b\b\b\b\b\b\b\b\b\b\b\b\b\b\b\b\b\b\b\b\b\b\b\b\b\b\b\b\b\b\b\b\b\b\b\b\b\b\b\b\b\b\b\b\b\b\b\b\b\b\b\b\b\b\b\b\b\b\b\b\b\b\b\b\b\b\b\b\b\b\b\b\b\b\b\b\b\b\b\b\b\b\b\b\b\b\b\b\b\b\b\b\b\b\b\b\b\b\b\b\b\b\b\b\b\b\b\b\b\b\b\b\b\b\b\b\b\b\b\b\b\b\b\b\b\b\b\b\b\b\b\b\b\b\b\b\b\b\b\b\b\b\b\b\b\b\b\b\b\b\b\b\b\b\b\b\b\b\b\b\b\b\b\b\b\b\b\b\b\b\b\b\b\b\b\b\b\b\b\b\b\b\b\b\b\b\b\b\b\b\b\b\b\b\b\b\b\b\b\b\b\b\b\b\b\b\b\b\b\b\b\b\b\b\b\b\b\b\b\b\b\b\b\b\b\b\b\b\b\b\b\b\b\b\b\b\b\b\b\b\b\b\b\b\b\b\b\b\b\b\b\b\b\b\b\b\b\b\b\b\b\b\b\b\b\b\b\b\b\b\b\b\b\b\b\b\b\b\b\b\b\b\b\b\b\b\b\b\b\b\b\b\b\b\b\b\b\b\b\b\b\b\b\b\b\b\b\b\b\b\b\b\b\b\b\b\b\b\b\b\b\b\b\b\b\b\b\b\b\b\b\b\b\b\b\b\b\b\b\b\b\b\b\b\b\b\b\b\b\b\b\b\b\b\b\b\b\b\b\b\b\b\b\b\b\b\b\b\b\b\b\b\b\b\b\b\b\b\b\b\b\b\b\b\b\b\b\b\b\b\b\b\b\b\b\b\b\b\b\b\b\b\b\b\b\b\b\b\b\b\b\b\b\b\b\b\b\b\b\b\b\b\b\b\b\b\b\b\b\b\b\b\b\b\b\b\b\b\b\b\b\b\b\b\b\b\b\b\b\b\b\b\b\b\b\b\b\b\b\b\b\b\b\b\b\b\b\b\b\b\b\b\b\b\b\b\b\b\b\b\b\b\b\b\b\b\b\b\b\b\b\b\b\b\b\b\b\b\b\b\b\b\b\b\b\b\b\b\b\b\b\b\b\b\b\b\b\b\b\b\b\b\b\b\b\b\b\b\b\b\b\b\b\b\b\b\b\b\b\b\b\b\b\b\b\b\b\b\b\b\b\b\b\b\b\b\b\b\b\b\b\b\b\b\b\b\b\b\b\b\b\b\b\b\b\b\b\b\b\b\b\b\b\b\b\b\b\b\b\b\b\b\b\b\b\b\b\b\b\b\b\b\b\b\b\b\b\b\b\b\b\b\b\b\b\b\b\b\b\b\b\b\b\b\b\b\b\b\b\b\b\b\b\b\b\b\b\b\b\b\b\b\b\b\b\b\b\b\b\b\b\b\b\b\b\b\b\b\b\b\b\b\b\b\b\b\b\b\b\b\b\b\b\b\b\b\b\b\b\b\b\b\b\b\b\b\b\b\b\b\b\b\b\b\b\b\b\b\b\b\b\b\b\b\b\b\b\b\b\b\b\b\b\b\b\b\b\b\b\b\b\b\b\b\b\b\b\b\b\b\b\b\b\b\b\b\b\b\b\b\b\b\b\b\b\b\b\b\b\b\b\b\b\b\b\b\b\b\b\b\b\b\b\b\b\b\b\b\b\b\b\b\b\b\b\b\b\b\b\b\b\b\b\b\b\b\b\b\b\b\b\b\b\b\b\b\b\b\b\b\b\b\b\b\b\b\b\b\b\b\b\b\b\b\b\b\b\b\b\b\b\b\b\b\b\b\b\b\b\b\b\b\b\b\b\b\b\b\b\b\b\b\b\b\b\b\b\b\b\b\b\b\b\b\b\b\b\b\b\b\b\b\b\b\b\b\b\b\b\b\b\b\b\b\b\b\b\b\b\b\b\b\b\b\b\b\b\b\b\b\b\b\b\b\b\b\b\b\b\b\b\b\b\b\b\b\b\b\b\b\b\b\b\b\b\b\b\b\b\b\b\b\b\b\b\b\b\b\b\b\b\b\b\b\b\b\b\b\b\b\b\b\b\b\b\b\b\b\b\b\b\b\b\b\b\b\b\b\b\b\b\b\b\b\b\b\b\b\b\b\b\b\b\b\b\b\b\b\b\b\b\b\b\b\b\b\b\b\b\b\b\b\b\b\b\b\b\b\b\b\b\b\b\b\b\b\b\b\b\b\b\b\b\b\b\b\b\b\b\b\b\b\b\b\b\b\b\b\b\b\b\b\b\b\b\b\b\b\b\b\b\b\b\b\b\b\b\b\b\b\b\b\b\b\b\b\b\b\b\b\b\b\b\b\b\b\b\b\b\b\b\b\b\b\b\b\b\b\b\b\b\b\b\b\b\b\b\b\b\b\b\b\b\b\b\b\b\b\b\b\b\b\b\b\b\b\b\b\b\b\b\b\b\b\b\b\b\b\b\b\b\b\b\b\b\b\b\b\b\b\b\b\b\b\b\b\b\b\b\b\b\b\b\b\b\b\b\b\b\b\b\b\b\b\b\b\b\b\b\b\b\b\b\b\b\b\b\b\b\b\b\b\b\b\b\b\b\b\b\b\b\b\b\b\b\b\b\b\b\b\b\b\b\b\b\b\b\b\b\b\b\b\b\b\b\b\b\b\b\b\b\b\b\b\b\b\b\b\b\b\b\b\b\b\b\b\b\b\b\b\b\b\b\b\b\b\b\b\b\b\b\b\b\b\b\b\b\b\b\b\b\b\b\b\b\b\b\b\b\b\b\b\b\b\b\b\b\b\b\b\b\b\b\b\b\b\b\b\b\b\b\b\b\b\b\b\b\b\b\b\b\b\b\b\b\b\b\b\b\b\b\b\b\b\b\b\b\b\b\b\b\b\b\b\b\b\b\b\b\b\b\b\b\b\b\b\b\b\b\b\b\b\b\b\b\b\b\b\b\b\b\b\b\b\b\b\b\b\b\b\b\b\b\b\b\b\b\b\b\b\b\b\b\b\b\b\b\b\b\b\b\b\b\b\b\b\b\b\b\b\b\b\b\b\b\b\b\b\b\b\b\b\b\b\b\b\b\b\b\b\b\b\b\b\b\b\b\b\b\b\b\b\b\b\b\b\b\b\b\b\b\b\b\b\b\b\b\b\b\b\b\b\b\b\b\b\b\b\b\b\b\b\b\b\b\b\b\b\b\b\b\b\b\b\b\b\b\b\b\b\b\b\b\b\b\b\b\b\b\b\b\b\b\b\b\b\b\b\b\b\b\b\b\b\b\b\b\b\b\b\b\b\b\b\b\b\b\b\b\b\b\b\b\b\b\b\b\b\b\b\b\b\b\b\b\b\b\b\b\b\b\b\b\b\b\b\b\b\b\b\b\b\b\b\b\b\b\b\b\b\b\b\b\b\b\b\b\b\b\b\b\b\b\b\b\b\b\b\b\b\b\b\b\b\b\b\b\b\b\b\b\b\b\b\b\b\b\b\b\b\b\b\b\b\b\b\b\b\b\b\b\b\b\b\b\b\b\b\b\b\b\b\b\b\b\b\b\b\b\b\b\b\b\b\b\b\b\b\b\b\b\b\b\b\b\b\b\b\b\b\b\b\b\b\b\b\b\b\b\b\b\b\b\b\b\b\b\b\b\b\b\b\b\b\b\b\b\b\b\b\b\b\b\b\b\b\b\b\b\b\b\b\b\b\b\b\b\b\b\b\b\b\b\b\b\b\b\b\b\b\b\b\b\b\b\b\b\b\b\b\b\b\b\b\b\b\b\b\b\b\b\b\b\b\b\b\b\b\b\b\b\b\b\b\b\b\b\b\b\b\b\b\b\b\b\b\b\b\b\b\b\b\b\b\b\b\b\b\b\b\b\b\b\b\b\b\b\b\b\b\b\b\b\b\b\b\b\b\b\b\b\b\b\b\b\b\b\b\b\b\b\b\b\b\b\b\b\b\b\b\b\b\b\b\b\b\b\b\b\b\b\b\b\b\b\b\b\b\b\b\b\b\b\b\b\b\b\b\b\b\b\b\b\b\b\b\b\b\b\b\b\b\b\b\b\b\b\b\b\b\b\b\b\b\b\b\b\b\b\b\b\b\b\b\b\b\b\b\b\b\b\b\b\b\b\b\b\b\b\b\b\b\b\b\b\b\b\b\b\b\b\b\b\b\b\b\b\b\b\b\b\b\b\b\b\b\b\b\b\b\b\b\b\b\b\b\b\b\b\b\b\b\b\b\b\b\b\b\b\b\b\b\b\b\b\b\b\b\b\b\b\b\b\b\b\b\b\b\b\b\b\b\b\b\b\b\b\b\b\b\b\b\b\b\b\b\b\b\b\b\b\b\b\b\b\b\b\b\b\b\b\b\b\b\b\b\b\b\b\b\b\b\b\b\b\b\b\b\b\b\b\b\b\b\b\b\b\b\b\b\b\b\b\b\b\b\b\b\b\b\b\b\b\b\b\b\b\b\b\b\b\b\b\b\b\b\b\b\b\b\b\b\b\b\b\b\b\b\b\b\b\b\b\b\b\b\b\b\b\b\b\b\b\b\b\b\b\b\b\b\b\b\b\b\b\b\b\b\b\b\b\b\b\b\b\b\b\b\b\b\b\b\b\b\b\b\b\b\b\b\b\b\b\b\b\b\b\b\b\b\b\b\b\b\b\b\b\b\b\b\b\b\b\b\b\b\b\b\b\b\b\b\b\b\b\b\b\b\b\b\b\b\b\b\b\b\b\b\b\b\b\b\b\b\b\b\b\b\b\b\b\b\b\b\b\b\b\b\b\b\b\b\b\b\b\b\b\b\b\b\b\b\b\b\b\b\b\b\b\b\b\b\b\b\b\b\b\b\b\b\b\b\b\b\b\b\b\b\b\b\b\b\b\b\b\b\b\b\b\b\b\b\b\b\b\b\b\b\b\b\b\b\b\b\b\b\b\b\b\b\b\b\b\b\b\b\b\b\b\b\b\b\b\b\b\b\b\b\b\b\b\b\b\b\b\b\b\b\b\b\b\b\b\b\b\b\b\b\b\b\b\b\b\b\b\b\b\b\b\b\b\b\b\b\b\b\b\b\b\b\b\b\b\b\b\b\b\b\b\b\b\b\b\b\b\b\b\b\b\b\b\b\b\b\b\b\b\b\b\b\b\b\b\b\b\b\b\b\b\b\b\b\b\b\b\b\b\b\b\b\b\b\b\b\b\b\b\b\b\b\b\b\b\b\b\b\b\b\b\b\b\b\b\b\b\b\b\b\b\b\b\b\b\b\b\b\b\b\b\b\b\b\b\b\b\b\b\b\b\b\b\b\b\b\b\b\b\b\b\b\b\b\b\b\b\b\b\b\b\b\b\b\b\b\b\b\b\b\b\b\b\b\b\b\b\b\b\b\b\b\b\b\b\b\b\b\b\b\b\b\b\b\b\b\b\b\b\b\b\b\b\b\b\b\b\b\b\b\b\b\b\b\b\b\b\b\b\b\b\b\b\b\b\b\b\b\b\b\b\b\b\b\b\b\b\b\b\b\b\b\b\b\b\b\b\b\b\b\b\b\b\b\b\b\b\b\b\b\b\b\b\b\b\b\b\b\b\b\b\b\b\b\b\b\b\b\b\b\b\b\b\b\b\b\b\b\b\b\b\b\b\b\b\b\b\b\b\b\b\b\b\b\b\b\b\b\b\b\b\b\b\b\b\b\b\b\b\b\b\b\b\b\b\b\b\b\b\b\b\b\b\b\b\b\b\b\b\b\b\b\b\b\b\b\b\b\b\b\b\b\b\b\b\b\b\b\b\b\b\b\b\b\b\b\b\b\b\b\b\b\b\b\b\b\b\b\b\b\b\b\b\b\b\b\b\b\b\b\b\b\b\b\b\b\b\b\b\b\b\b\b\b\b\b\b\b\b\b\b\b\b\b\b\b\b\b\b\b\b\b\b\b\b\b\b\b\b\b\b\b\b\b\b\b\b\b\b\b\b\b\b\b\b\b\b\b\b\b\b\b\b\b\b\b\b\b\b\b\b\b\b\b\b\b\b\b\b\b\b\b\b\b\b\b\b\b\b\b\b\b\b\b\b\b\b\b\b\b\b\b\b\b\b\b\b\b\b\b\b\b\b\b\b\b\b\b\b\b\b\b\b\b\b\b\b\b\b\b\b\b\b\b\b\b\b\b\b\b\b\b\b\b\b\b\b\b\b\b\b\b\b\b\b\b\b\b\b\b\b\b\b\b\b\b\b\b\b\b\b\b\b\b\b\b\b\b\b\b\b\b\b\b\b\b\b\b\b\b\b\b\b\b\b\b\b\b\b\b\b\b\b\b\b\b\b\b\b\b\b\b\b\b\b\b\b\b\b\b\b\b\b\b\b\b\b\b\b\b\b\b\b\b\b\b\b\b\b\b\b\b\b\b\b\b\b\b\b\b\b\b\b\b\b\b\b\b\b\b\b\b\b\b\b\b\b\b\b\b\b\b\b\b\b\b\b\b\b\b\b\b\b\b\b\b\b\b\b\b\b\b\b\b\b\b\b\b\b\b\b\b\b\b\b\b\b\b\b\b\b\b\b\b\b\b\b\b\b\b\b\b\b\b\b\b\b\b\b\b\b\b\b\b\b\b\b\b\b\b\b\b\b\b\b\b\b\b\b\b\b\b\b\b\b\b\b\b\b\b\b\b\b\b\b\b\b\b\b\b\b\b\b\b\b\b\b\b\b\b\b\b\b\b\b\b\b\b\b\b\b\b\b\b\b\b\b\b\b\b\b\b\b\b\b\b\b\b\b\b\b\b\b\b\b\b\b\b\b\b\b\b\b\b\b\b\b\b\b\b\b\b\b\b\b\b\b\b\b\b\b\b\b\b\b\b\b\b\b\b\b\b\b\b\b\b\b\b\b\b\b\b\b\b\b\b\b\b\b\b\b\b\b\b\b\b\b\b\b\b\b\b\b\b\b\b\b\b\b\b\b\b\b\b\b\b\b\b\b\b\b\b\b\b\b\b\b\b\b\b\b\b\b\b\b\b\b\b\b\b\b\b\b\b\b\b\b\b\b\b\b\b\b\b\b\b\b\b\b\b\b\b\b\b\b\b\b\b\b\b\b\b\b\b\b\b\b\b\b\b\b\b\b\b\b\b\b\b\b\b\b\b\b\b\b\b\b\b\b\b\b\b\b\b\b\b\b\b\b\b\b\b\b\b\b\b\b\b\b\b\b\b\b\b\b\b\b\b\b\b\b\b\b\b\b\b\b\b\b\b\b\b\b\b\b\b\b\b\b\b\b\b\b\b\b\b\b\b\b\b\b\b\b\b\b\b\b\b\b\b\b\b\b\b\b\b\b\b\b\b\b\b\b\b\b\b\b\b\b\b\b\b\b\b\b\b\b\b\b\b\b\b\b\b\b\b\b\b\b\b\b\b\b\b\b\b\b\b\b\b\b\b\b\b\b\b\b\b\b\b\b\b\b\b\b\b\b\b\b\b\b\b\b\b\b\b\b\b\b\b\b\b\b\b\b\b\b\b\b\b\b\b\b\b\b\b\b\b\b\b\b\b\b\b\b\b\b\b\b\b\b\b\b\b\b\b\b\b\b\b\b\b\b\b\b\b\b\b\b\b\b\b\b\b\b\b\b\b\b\b\b\b\b\b\b\b\b\b\b\b\b\b\b\b\b\b\b\b\b\b\b\b\b\b\b\b\b\b\b\b\b\b\b\b\b\b\b\b\b\b\b\b\b\b\b\b\b\b\b\b\b\b\b\b\b\b\b\b\b\b\b\b\b\b\b\b\b\b\b\b\b\b\b\b\b\b\b\b\b\b\b\b\b\b\b\b\b\b\b\b\b\b\b\b\b\b\b\b\b\b\b\b\b\b\b\b\b\b\b\b\b\b\b\b\b\b\b\b\b\b\b\b\b\b\b\b\b\b\b\b\b\b\b\b\b\b\b\b\b\b\b\b\b\b\b\b\b\b\b\b\b\b\b\b\b\b\b\b\b\b\b\b\b\b\b\b\b\b\b\b\b\b\b\b\b\b\b\b\b\b\b\b\b\b\b\b\b\b\b\b\b\b\b\b\b\b\b\b\b\b\b\b\b\b\b\b\b\b\b\b\b\b\b\b\b\b\b\b\b\b\b\b\b\b\b\b\b\b\b\b\b\b\b\b\b\b\b\b\b\b\b\b\b\b\b\b\b\b\b\b\b\b\b\b\b\b\b\b\b\b\b\b\b\b\b\b\b\b\b\b\b\b\b\b\b\b\b\b\b\b\b\b\b\b\b\b\b\b\b\b\b\b\b\b\b\b\b\b\b\b\b\b\b\b\b\b\b\b\b\b\b\b\b\b\b\b\b\b\b\b\b\b\b\b\b\b\b\b\b\b\b\b\b\b\b\b\b\b\b\b\b\b\b\b\b\b\b\b\b\b\b\b\b\b\b\b\b\b\b\b\b\b\b\b\b\b\b\b\b\b\b\b\b\b\b\b\b\b\b\b\b\b\b\b\b\b\b\b\b\b\b\b\b\b\b\b\b\b\b\b\b\b\b\b\b\b\b\b\b\b\b\b\b\b\b\b\b\b\b\b\b\b\b\b\b\b\b\b\b\b\b\b\b\b\b\b\b\b\b\b\b\b\b\b\b\b\b\b\b\b\b\b\b\b\b\b\b\b\b\b\b\b\b\b\b\b\b\b\b\b\b\b\b\b\b\b\b\b\b\b\b\b\b\b\b\b\b\b\b\b\b\b\b\b\b\b\b\b\b\b\b\b\b\b\b\b\b\b\b\b\b\b\b\b\b\b\b\b\b\b\b\b\b\b\b\b\b\b\b\b\b\b\b\b\b\b\b\b\b\b\b\b\b\b\b\b\b\b\b\b\b\b\b\b\b\b\b\b\b\b\b\b\b\b\b\b\b\b\b\b\b\b\b\b\b\b\b\b\b\b\b\b\b\b\b\b\b\b\b\b\b\b\b\b\b\b\b\b\b\b\b\b\b\b\b\b\b\b\b\b\b\b\b\b\b\b\b\b\b\b\b\b\b\b\b\b\b\b\b\b\b\b\b\b\b\b\b\b\b\b\b\b\b\b\b\b\b\b\b\b\b\b\b\b\b\b\b\b\b\b\b\b\b\b\b\b\b\b\b\b\b\b\b\b\b\b\b\b\b\b\b\b\b\b\b\b\b\b\b\b\b\b\b\b\b\b\b\b\b\b\b\b\b\b\b\b\b\b\b\b\b\b\b\b\b\b\b\b\b\b\b\b\b\b\b\b\b\b\b\b\b\b\b\b\b\b\b\b\b\b\b\b\b\b\b\b\b\b\b\b\b\b\b\b\b\b\b\b\b\b\b\b\b\b\b\b\b\b\b\b\b\b\b\b\b\b\b\b\b\b\b\b\b\b\b\b\b\b\b\b\b\b\b\b\b\b\b\b\b\b\b\b\b\b\b\b\b\b\b\b\b\b\b\b\b\b\b\b\b\b\b\b\b\b\b\b\b\b\b\b\b\b\b\b\b\b\b\b\b\b\b\b\b\b\b\b\b\b\b\b\b\b\b\b\b\b\b\b\b\b\b\b\b\b\b\b\b\b\b\b\b\b\b\b\b\b\b\b\b\b\b\b\b\b\b\b\b\b\b\b\b\b\b\b\b\b\b\b\b\b\b\b\b\b\b\b\b\b\b\b\b\b\b\b\b\b\b\b\b\b\b\b\b\b\b\b\b\b\b\b\b\b\b\b\b\b\b\b\b\b\b\b\b\b\b\b\b\b\b\b\b\b\b\b\b\b\b\b\b\b\b\b\b\b\b\b\b\b\b\b\b\b\b\b\b\b\b\b\b\b\b\b\b\b\b\b\b\b\b\b\b\b\b\b\b\b\b\b\b\b\b\b\b\b\b\b\b\b\b\b\b\b\b\b\b\b\b\b\b\b\b\b\b\b\b\b\b\b\b\b\b\b\b\b\b\b\b\b\b\b\b\b\b\b\b\b\b\b\b\b\b\b\b\b\b\b\b\b\b\b\b\b\b\b\b\b\b\b\b\b\b\b\b\b\b\b\b\b\b\b\b\b\b\b\b\b\b\b\b\b\b\b\b\b\b\b\b\b\b\b\b\b\b\b\b\b\b\b\b\b\b\b\b\b\b\b\b\b\b\b\b\b\b\b\b\b\b\b\b\b\b\b\b\b\b\b\b\b\b\b\b\b\b\b\b\b\b\b\b\b\b\b\b\b\b\b\b\b\b\b\b\b\b\b\b\b\b\b\b\b\b\b\b\b\b\b\b\b\b\b\b\b\b\b\b\b\b\b\b\b\b\b\b\b\b\b\b\b\b\b\b\b\b\b\b\b\b\b\b\b\b\b\b\b\b\b\b\b\b\b\b\b\b\b\b\b\b\b\b\b\b\b\b\b\b\b\b\b\b\b\b\b\b\b\b\b\b\b\b\b\b\b\b\b\b\b\b\b\b\b\b\b\b\b\b\b\b\b\b\b\b\b\b\b\b\b\b\b\b\b\b\b\b\b\b\b\b\b\b\b\b\b\b\b\b\b\b\b\b\b\b\b\b\b\b\b\b\b\b\b\b\b\b\b\b\b\b\b\b\b\b\b\b\b\b\b\b\b\b\b\b\b\b\b\b\b\b\b\b\b\b\b\b\b\b\b\b\b\b\b\b\b\b\b\b\b\b\b\b\b\b\b\b\b\b\b\b\b\b\b\b\b\b\b\b\b\b\b\b\b\b\b\b\b\b\b\b\b\b\b\b\b\b\b\b\b\b\b\b\b\b\b\b\b\b\b\b\b\b\b\b\b\b\b\b\b\b\b\b\b\b\b\b\b\b\b\b\b\b\b\b\b\b\b\b\b\b\b\b\b\b\b\b\b\b\b\b\b\b\b\b\b\b\b\b\b\b\b\b\b\b\b\b\b\b\b\b\b\b\b\b\b\b\b\b\b\b\b\b\b\b\b\b\b\b\b\b\b\b\b\b\b\b\b\b\b\b\b\b\b\b\b\b\b\b\b\b\b\b\b\b\b\b\b\b\b\b\b\b\b\b\b\b\b\b\b\b\b\b\b\b\b\b\b\b\b\b\b\b\b\b\b\b\b\b\b\b\b\b\b\b\b\b\b\b\b\b\b\b\b\b\b\b\b\b\b\b\b\b\b\b\b\b\b\b\b\b\b\b\b\b\b\b\b\b\b\b\b\b\b\b\b\b\b\b\b\b\b\b\b\b\b\b\b\b\b\b\b\b\b\b\b\b\b\b\b\b\b\b\b\b\b\b\b\b\b\b\b\b\b\b\b\b\b\b\b\b\b\b\b\b\b\b\b\b\b\b\b\b\b\b\b\b\b\b\b\b\b\b\b\b\b\b\b\b\b\b\b\b\b\b\b\b\b\b\b\b\b\b\b\b\b\b\b\b\b\b\b\b\b\b\b\b\b\b\b\b\b\b\b\b\b\b\b\b\b\b\b\b\b\b\b\b\b\b\b\b\b\b\b\b\b\b\b\b\b\b\b\b\b\b\b\b\b\b\b\b\b\b\b\b\b\b\b\b\b\b\b\b\b\b\b\b\b\b\b\b\b\b\b\b\b\b\b\b\b\b\b\b\b\b\b\b\b\b\b\b\b\b\b\b\b\b\b\b\b\b\b\b\b\b\b\b\b\b\b\b\b\b\b\b\b\b\b\b\b\b\b\b\b\b\b\b\b\b\b\b\b\b\b\b\b\b\b\b\b\b\b\b\b\b\b\b\b\b\b\b\b\b\b\b\b\b\b\b\b\b\b\b\b\b\b\b\b\b\b\b\b\b\b\b\b\b\b\b\b\b\b\b\b\b\b\b\b\b\b\b\b\b\b\b\b\b\b\b\b\b\b\b\b\b\b\b\b\b\b\b\b\b\b\b\b\b\b\b\b\b\b\b\b\b\b\b\b\b\b\b\b\b\b\b\b\b\b\b\b\b\b\b\b\b\b\b\b\b\b\b\b\b\b\b\b\b\b\b\b\b\b\b\b\b\b\b\b\b\b\b\b\b\b\b\b\b\b\b\b\b\b\b\b\b\b\b\b\b\b\b\b\b\b\b\b\b\b\b\b\b\b\b\b\b\b\b\b\b\b\b\b\b\b\b\b\b\b\b\b\b\b\b\b\b\b\b\b\b\b\b\b\b\b\b\b\b\b\b\b\b\b\b\b\b\b\b\b\b\b\b\b\b\b\b\b\b\b\b\b\b\b\b\b\b\b\b\b\b\b\b\b\b\b\b\b\b\b\b\b\b\b\b\b\b\b\b\b\b\b\b\b\b\b\b\b\b\b\b\b\b\b\b\b\b\b\b\b\b\b\b\b\b\b\b\b\b\b\b\b\b\b\b\b\b\b\b\b\b\b\b\b\b\b\b\b\b\b\b\b\b\b\b\b\b\b\b\b\b\b\b\b\b\b\b\b\b\b\b\b\b\b\b\b\b\b\b\b\b\b\b\b\b\b\b\b\b\b\b\b\b\b\b\b\b\b\b\b\b\b\b\b\b\b\b\b\b\b\b\b\b\b\b\b\b\b\b\b\b\b\b\b\b\b\b\b\b\b\b\b\b\b\b\b\b\b\b\b\b\b\b\b\b\b\b\b\b\b\b\b\b\b\b\b\b\b\b\b\b\b\b\b\b\b\b\b\b\b\b\b\b\b\b\b\b\b\b\b\b\b\b\b\b\b\b\b\b\b\b\b\b\b\b\b\b\b\b\b\b\b\b\b\b\b\b\b\b\b\b\b\b\b\b\b\b\b\b\b\b\b\b\b\b\b\b\b\b\b\b\b\b\b\b\b\b\b\b\b\b\b\b\b\b\b\b\b\b\b\b\b\b\b\b\b\b\b\b\b\b\b\b\b\b\b\b\b\b\b\b\b\b\b\b\b\b\b\b\b\b\b\b\b\b\b\b\b\b\b\b\b\b\b\b\b\b\b\b\b\b\b\b\b\b\b\b\b\b\b\b\b\b\b\b\b\b\b\b\b\b\b\b\b\b\b\b\b\b\b\b\b\b\b\b\b\b\b\b\b\b\b\b\b\b\b\b\b\b\b\b\b\b\b\b\b\b\b\b\b\b\b\b\b\b\b\b\b\b\b\b\b\b\b\b\b\b\b\b\b\b\b\b\b\b\b\b\b\b\b\b\b\b\b\b\b\b\b\b\b\b\b\b\b\b\b\b\b\b\b\b\b\b\b\b\b\b\b\b\b\b\b\b\b\b\b\b\b\b\b\b\b\b\b\b\b\b\b\b\b\b\b\b\b\b\b\b\b\b\b\b\b\b\b\b\b\b\b\b\b\b\b\b\b\b\b\b\b\b\b\b\b\b\b\b\b\b\b\b\b\b\b\b\b\b\b\b\b\b\b\b\b\b\b\b\b\b\b\b\b\b\b\b\b\b\b\b\b\b\b\b\b\b\b\b\b\b\b\b\b\b\b\b\b\b\b\b\b\b\b\b\b\b\b\b\b\b\b\b\b\b\b\b\b\b\b\b\b\b\b\b\b\b\b\b\b\b\b\b\b\b\b\b\b\b\b\b\b\b\b\b\b\b\b\b\b\b\b\b\b\b\b\b\b\b\b\b\b\b\b\b\b\b\b\b\b\b\b\b\b\b\b\b\b\b\b\b\b\b\b\b\b\b\b\b\b\b\b\b\b\b\b\b\b\b\b\b\b\b\b\b\b\b\b\b\b\b\b\b\b\b\b\b\b\b\b\b\b\b\b\b\b\b\b\b\b\b\b\b\b\b\b\b\b\b\b\b\b\b\b\b\b\b\b\b\b\b\b\n",
      "Epoch 3/40\n",
      "223/223 [==============================] - 51s 230ms/step - loss: 0.3422 - accuracy: 0.8850 - val_loss: 0.4981 - val_accuracy: 0.8361\b\b\b\b\b\b\b\b\b\b\b\b\b\b\b\b\b\b\b\b\b\b\b\b\b\b\b\b\b\b\b\b\b\b\b\b\b\b\b\b\b\b\b\b\b\b\b\b\b\b\b\b\b\b\b\b\b\b\b\b\b\b\b\b\b\b\b\b\b\b\b\b\b\b\b\b\b\b\b\b\b\b\b\b\b\b\b\b\b\b\b\b\b\b\b\b\b\b\b\b\b\b\b\b\b\b\b\b\b\b\b\b\b\b\b\b\b\b\b\b\b\b\b\b\b\b\b\b\b\b\b\b\b\b\b\b\b\b\b\b\b\b\b\b\b\b\b\b\b\b\b\b\b\b\b\b\b\b\b\b\b\b\b\b\b\b\b\b\b\b\b\b\b\b\b\b\b\b\b\b\b\b\b\b\b\b\b\b\b\b\b\b\b\b\b\b\b\b\b\b\b\b\b\b\b\b\b\b\b\b\b\b\b\b\b\b\b\b\b\b\b\b\b\b\b\b\b\b\b\b\b\b\b\b\b\b\b\b\b\b\b\b\b\b\b\b\b\b\b\b\b\b\b\b\b\b\b\b\b\b\b\b\b\b\b\b\b\b\b\b\b\b\b\b\b\b\b\b\b\b\b\b\b\b\b\b\b\b\b\b\b\b\b\b\b\b\b\b\b\b\b\b\b\b\b\b\b\b\b\b\b\b\b\b\b\b\b\b\b\b\b\b\b\b\b\b\b\b\b\b\b\b\b\b\b\b\b\b\b\b\b\b\b\b\b\b\b\b\b\b\b\b\b\b\b\b\b\b\b\b\b\b\b\b\b\b\b\b\b\b\b\b\b\b\b\b\b\b\b\b\b\b\b\b\b\b\b\b\b\b\b\b\b\b\b\b\b\b\b\b\b\b\b\b\b\b\b\b\b\b\b\b\b\b\b\b\b\b\b\b\b\b\b\b\b\b\b\b\b\b\b\b\b\b\b\b\b\b\b\b\b\b\b\b\b\b\b\b\b\b\b\b\b\b\b\b\b\b\b\b\b\b\b\b\b\b\b\b\b\b\b\b\b\b\b\b\b\b\b\b\b\b\b\b\b\b\b\b\b\b\b\b\b\b\b\b\b\b\b\b\b\b\b\b\b\b\b\b\b\b\b\b\b\b\b\b\b\b\b\b\b\b\b\b\b\b\b\b\b\b\b\b\b\b\b\b\b\b\b\b\b\b\b\b\b\b\b\b\b\b\b\b\b\b\b\b\b\b\b\b\b\b\b\b\b\b\b\b\b\b\b\b\b\b\b\b\b\b\b\b\b\b\b\b\b\b\b\b\b\b\b\b\b\b\b\b\b\b\b\b\b\b\b\b\b\b\b\b\b\b\b\b\b\b\b\b\b\b\b\b\b\b\b\b\b\b\b\b\b\b\b\b\b\b\b\b\b\b\b\b\b\b\b\b\b\b\b\b\b\b\b\b\b\b\b\b\b\b\b\b\b\b\b\b\b\b\b\b\b\b\b\b\b\b\b\b\b\b\b\b\b\b\b\b\b\b\b\b\b\b\b\b\b\b\b\b\b\b\b\b\b\b\b\b\b\b\b\b\b\b\b\b\b\b\b\b\b\b\b\b\b\b\b\b\b\b\b\b\b\b\b\b\b\b\b\b\b\b\b\b\b\b\b\b\b\b\b\b\b\b\b\b\b\b\b\b\b\b\b\b\b\b\b\b\b\b\b\b\b\b\b\b\b\b\b\b\b\b\b\b\b\b\b\b\b\b\b\b\b\b\b\b\b\b\b\b\b\b\b\b\b\b\b\b\b\b\b\b\b\b\b\b\b\b\b\b\b\b\b\b\b\b\b\b\b\b\b\b\b\b\b\b\b\b\b\b\b\b\b\b\b\b\b\b\b\b\b\b\b\b\b\b\b\b\b\b\b\b\b\b\b\b\b\b\b\b\b\b\b\b\b\b\b\b\b\b\b\b\b\b\b\b\b\b\b\b\b\b\b\b\b\b\b\b\b\b\b\b\b\b\b\b\b\b\b\b\b\b\b\b\b\b\b\b\b\b\b\b\b\b\b\b\b\b\b\b\b\b\b\b\b\b\b\b\b\b\b\b\b\b\b\b\b\b\b\b\b\b\b\b\b\b\b\b\b\b\b\b\b\b\b\b\b\b\b\b\b\b\b\b\b\b\b\b\b\b\b\b\b\b\b\b\b\b\b\b\b\b\b\b\b\b\b\b\b\b\b\b\b\b\b\b\b\b\b\b\b\b\b\b\b\b\b\b\b\b\b\b\b\b\b\b\b\b\b\b\b\b\b\b\b\b\b\b\b\b\b\b\b\b\b\b\b\b\b\b\b\b\b\b\b\b\b\b\b\b\b\b\b\b\b\b\b\b\b\b\b\b\b\b\b\b\b\b\b\b\b\b\b\b\b\b\b\b\b\b\b\b\b\b\b\b\b\b\b\b\b\b\b\b\b\b\b\b\b\b\b\b\b\b\b\b\b\b\b\b\b\b\b\b\b\b\b\b\b\b\b\b\b\b\b\b\b\b\b\b\b\b\b\b\b\b\b\b\b\b\b\b\b\b\b\b\b\b\b\b\b\b\b\b\b\b\b\b\b\b\b\b\b\b\b\b\b\b\b\b\b\b\b\b\b\b\b\b\b\b\b\b\b\b\b\b\b\b\b\b\b\b\b\b\b\b\b\b\b\b\b\b\b\b\b\b\b\b\b\b\b\b\b\b\b\b\b\b\b\b\b\b\b\b\b\b\b\b\b\b\b\b\b\b\b\b\b\b\b\b\b\b\b\b\b\b\b\b\b\b\b\b\b\b\b\b\b\b\b\b\b\b\b\b\b\b\b\b\b\b\b\b\b\b\b\b\b\b\b\b\b\b\b\b\b\b\b\b\b\b\b\b\b\b\b\b\b\b\b\b\b\b\b\b\b\b\b\b\b\b\b\b\b\b\b\b\b\b\b\b\b\b\b\b\b\b\b\b\b\b\b\b\b\b\b\b\b\b\b\b\b\b\b\b\b\b\b\b\b\b\b\b\b\b\b\b\b\b\b\b\b\b\b\b\b\b\b\b\b\b\b\b\b\b\b\b\b\b\b\b\b\b\b\b\b\b\b\b\b\b\b\b\b\b\b\b\b\b\b\b\b\b\b\b\b\b\b\b\b\b\b\b\b\b\b\b\b\b\b\b\b\b\b\b\b\b\b\b\b\b\b\b\b\b\b\b\b\b\b\b\b\b\b\b\b\b\b\b\b\b\b\b\b\b\b\b\b\b\b\b\b\b\b\b\b\b\b\b\b\b\b\b\b\b\b\b\b\b\b\b\b\b\b\b\b\b\b\b\b\b\b\b\b\b\b\b\b\b\b\b\b\b\b\b\b\b\b\b\b\b\b\b\b\b\b\b\b\b\b\b\b\b\b\b\b\b\b\b\b\b\b\b\b\b\b\b\b\b\b\b\b\b\b\b\b\b\b\b\b\b\b\b\b\b\b\b\b\b\b\b\b\b\b\b\b\b\b\b\b\b\b\b\b\b\b\b\b\b\b\b\b\b\b\b\b\b\b\b\b\b\b\b\b\b\b\b\b\b\b\b\b\b\b\b\b\b\b\b\b\b\b\b\b\b\b\b\b\b\b\b\b\b\b\b\b\b\b\b\b\b\b\b\b\b\b\b\b\b\b\b\b\b\b\b\b\b\b\b\b\b\b\b\b\b\b\b\b\b\b\b\b\b\b\b\b\b\b\b\b\b\b\b\b\b\b\b\b\b\b\b\b\b\b\b\b\b\b\b\b\b\b\b\b\b\b\b\b\b\b\b\b\b\b\b\b\b\b\b\b\b\b\b\b\b\b\b\b\b\b\b\b\b\b\b\b\b\b\b\b\b\b\b\b\b\b\b\b\b\b\b\b\b\b\b\b\b\b\b\b\b\b\b\b\b\b\b\b\b\b\b\b\b\b\b\b\b\b\b\b\b\b\b\b\b\b\b\b\b\b\b\b\b\b\b\b\b\b\b\b\b\b\b\b\b\b\b\b\b\b\b\b\b\b\b\b\b\b\b\b\b\b\b\b\b\b\b\b\b\b\b\b\b\b\b\b\b\b\b\b\b\b\b\b\b\b\b\b\b\b\b\b\b\b\b\b\b\b\b\b\b\b\b\b\b\b\b\b\b\b\b\b\b\b\b\b\b\b\b\b\b\b\b\b\b\b\b\b\b\b\b\b\b\b\b\b\b\b\b\b\b\b\b\b\b\b\b\b\b\b\b\b\b\b\b\b\b\b\b\b\b\b\b\b\b\b\b\b\b\b\b\b\b\b\b\b\b\b\b\b\b\b\b\b\b\b\b\b\b\b\b\b\b\b\b\b\b\b\b\b\b\b\b\b\b\b\b\b\b\b\b\b\b\b\b\b\b\b\b\b\b\b\b\b\b\b\b\b\b\b\b\b\b\b\b\b\b\b\b\b\b\b\b\b\b\b\b\b\b\b\b\b\b\b\b\b\b\b\b\b\b\b\b\b\b\b\b\b\b\b\b\b\b\b\b\b\b\b\b\b\b\b\b\b\b\b\b\b\b\b\b\b\b\b\b\b\b\b\b\b\b\b\b\b\b\b\b\b\b\b\b\b\b\b\b\b\b\b\b\b\b\b\b\b\b\b\b\b\b\b\b\b\b\b\b\b\b\b\b\b\b\b\b\b\b\b\b\b\b\b\b\b\b\b\b\b\b\b\b\b\b\b\b\b\b\b\b\b\b\b\b\b\b\b\b\b\b\b\b\b\b\b\b\b\b\b\b\b\b\b\b\b\b\b\b\b\b\b\b\b\b\b\b\b\b\b\b\b\b\b\b\b\b\b\b\b\b\b\b\b\b\b\b\b\b\b\b\b\b\b\b\b\b\b\b\b\b\b\b\b\b\b\b\b\b\b\b\b\b\b\b\b\b\b\b\b\b\b\b\b\b\b\b\b\b\b\b\b\b\b\b\b\b\b\b\b\b\b\b\b\b\b\b\b\b\b\b\b\b\b\b\b\b\b\b\b\b\b\b\b\b\b\b\b\b\b\b\b\b\b\b\b\b\b\b\b\b\b\b\b\b\b\b\b\b\b\b\b\b\b\b\b\b\b\b\b\b\b\b\b\b\b\b\b\b\b\b\b\b\b\b\b\b\b\b\b\b\b\b\b\b\b\b\b\b\b\b\b\b\b\b\b\b\b\b\b\b\b\b\b\b\b\b\b\b\b\b\b\b\b\b\b\b\b\b\b\b\b\b\b\b\b\b\b\b\b\b\b\b\b\b\b\b\b\b\b\b\b\b\b\b\b\b\b\b\b\b\b\b\b\b\b\b\b\b\b\b\b\b\b\b\b\b\b\b\b\b\b\b\b\b\b\b\b\b\b\b\b\b\b\b\b\b\b\b\b\b\b\b\b\b\b\b\b\b\b\b\b\b\b\b\b\b\b\b\b\b\b\b\b\b\b\b\b\b\b\b\b\b\b\b\b\b\b\b\b\b\b\b\b\b\b\b\b\b\b\b\b\b\b\b\b\b\b\b\b\b\b\b\b\b\b\b\b\b\b\b\b\b\b\b\b\b\b\b\b\b\b\b\b\b\b\b\b\b\b\b\b\b\b\b\b\b\b\b\b\b\b\b\b\b\b\b\b\b\b\b\b\b\b\b\b\b\b\b\b\b\b\b\b\b\b\b\b\b\b\b\b\b\b\b\b\b\b\b\b\b\b\b\b\b\b\b\b\b\b\b\b\b\b\b\b\b\b\b\b\b\b\b\b\b\b\b\b\b\b\b\b\b\b\b\b\b\b\b\b\b\b\b\b\b\b\b\b\b\b\b\b\b\b\b\b\b\b\b\b\b\b\b\b\b\b\b\b\b\b\b\b\b\b\b\b\b\b\b\b\b\b\b\b\b\b\b\b\b\b\b\b\b\b\b\b\b\b\b\b\b\b\b\b\b\b\b\b\b\b\b\b\b\b\b\b\b\b\b\b\b\b\b\b\b\b\b\b\b\b\b\b\b\b\b\b\b\b\b\b\b\b\b\b\b\b\b\b\b\b\b\b\b\b\b\b\b\b\b\b\b\b\b\b\b\b\b\b\b\b\b\b\b\b\b\b\b\b\b\b\b\b\b\b\b\b\b\b\b\b\b\b\b\b\b\b\b\b\b\b\b\b\b\b\b\b\b\b\b\b\b\b\b\b\b\b\b\b\b\b\b\b\b\b\b\b\b\b\b\b\b\b\b\b\b\b\b\b\b\b\b\b\b\b\b\b\b\b\b\b\b\b\b\b\b\b\b\b\b\b\b\b\b\b\b\b\b\b\b\b\b\b\b\b\b\b\b\b\b\b\b\b\b\b\b\b\b\b\b\b\b\b\b\b\b\b\b\b\b\b\b\b\b\b\b\b\b\b\b\b\b\b\b\b\b\b\b\b\b\b\b\b\b\b\b\b\b\b\b\b\b\b\b\b\b\b\b\b\b\b\b\b\b\b\b\b\b\b\b\b\b\b\b\b\b\b\b\b\b\b\b\b\b\b\b\b\b\b\b\b\b\b\b\b\b\b\b\b\b\b\b\b\b\b\b\b\b\b\b\b\b\b\b\b\b\b\b\b\b\b\b\b\b\b\b\b\b\b\b\b\b\b\b\b\b\b\b\b\b\b\b\b\b\b\b\b\b\b\b\b\b\b\b\b\b\b\b\b\b\b\b\b\b\b\b\b\b\b\b\b\b\b\b\b\b\b\b\b\b\b\b\b\b\b\b\b\b\b\b\b\b\b\b\b\b\b\b\b\b\b\b\b\b\b\b\b\b\b\b\b\b\b\b\b\b\b\b\b\b\b\b\b\b\b\b\b\b\b\b\b\b\b\b\b\b\b\b\b\b\b\b\b\b\b\b\b\b\b\b\b\b\b\b\b\b\b\b\b\b\b\b\b\b\b\b\b\b\b\b\b\b\b\b\b\b\b\b\b\b\b\b\b\b\b\b\b\b\b\b\b\b\b\b\b\b\b\b\b\b\b\b\b\b\b\b\b\b\b\b\b\b\b\b\b\b\b\b\b\b\b\b\b\b\b\b\b\b\b\b\b\b\b\b\b\b\b\b\b\b\b\b\b\b\b\b\b\b\b\b\b\b\b\b\b\b\b\b\b\b\b\b\b\b\b\b\b\b\b\b\b\b\b\b\b\b\b\b\b\b\b\b\b\b\b\b\b\b\b\b\b\b\b\b\b\b\b\b\b\b\b\b\b\b\b\b\b\b\b\b\b\b\b\b\b\b\b\b\b\b\b\b\b\b\b\b\b\b\b\b\b\b\b\b\b\b\b\b\b\b\b\b\b\b\b\b\b\b\b\b\b\b\b\b\b\b\b\b\b\b\b\b\b\b\b\b\b\b\b\b\b\b\b\b\b\b\b\b\b\b\b\b\b\b\b\b\b\b\b\b\b\b\b\b\b\b\b\b\b\b\b\b\b\b\b\b\b\b\b\b\b\b\b\b\b\b\b\b\b\b\b\b\b\b\b\b\b\b\b\b\b\b\b\b\b\b\b\b\b\b\b\b\b\b\b\b\b\b\b\b\b\b\b\b\b\b\b\b\b\b\b\b\b\b\b\b\b\b\b\b\b\b\b\b\b\b\b\b\b\b\b\b\b\b\b\b\b\b\b\b\b\b\b\b\b\b\b\b\b\b\b\b\b\b\b\b\b\b\b\b\b\b\b\b\b\b\b\b\b\b\b\b\b\b\b\b\b\b\b\b\b\b\b\b\b\b\b\b\b\b\b\b\b\b\b\b\b\b\b\b\b\b\b\b\b\b\b\b\b\b\b\b\b\b\b\b\b\b\b\b\b\b\b\b\b\b\b\b\b\b\b\b\b\b\b\b\b\b\b\b\b\b\b\b\b\b\b\b\b\b\b\b\b\b\b\b\b\b\b\b\b\b\b\b\b\b\b\b\b\b\b\b\b\b\b\b\b\b\b\b\b\b\b\b\b\b\b\b\b\b\b\b\b\b\b\b\b\b\b\b\b\b\b\b\b\b\b\b\b\b\b\b\b\b\b\b\b\b\b\b\b\b\b\b\b\b\b\b\b\b\b\b\b\b\b\b\b\b\b\b\b\b\b\b\b\b\b\b\b\b\b\b\b\b\b\b\b\b\b\b\b\b\b\b\b\b\b\b\b\b\b\b\b\b\b\b\b\b\b\b\b\b\b\b\b\b\b\b\b\b\b\b\b\b\b\b\b\b\b\b\b\b\b\b\b\b\b\b\b\b\b\b\b\b\b\b\b\b\b\b\b\b\b\b\b\b\b\b\b\b\b\b\b\b\b\b\b\b\b\b\b\b\b\b\b\b\b\b\b\b\b\b\b\b\b\b\b\b\b\b\b\b\b\b\b\b\b\b\b\b\b\b\b\b\b\b\b\b\b\b\b\b\b\b\b\b\b\b\b\b\b\b\b\b\b\b\b\b\b\b\b\b\b\b\b\b\b\b\b\b\b\b\b\b\b\b\b\b\b\b\b\b\b\b\b\b\b\b\b\b\b\b\b\b\b\b\b\b\b\b\b\b\b\b\b\b\b\b\b\b\b\b\b\b\b\b\b\b\b\b\b\b\b\b\b\b\b\b\b\b\b\b\b\b\b\b\b\b\b\b\b\b\b\b\b\b\b\b\b\b\b\b\b\b\b\b\b\b\b\b\b\b\b\b\b\b\b\b\b\b\b\b\b\b\b\b\b\b\b\b\b\b\b\b\b\b\b\b\b\b\b\b\b\b\b\b\b\b\b\b\b\b\b\b\b\b\b\b\b\b\b\b\b\b\b\b\b\b\b\b\b\b\b\b\b\b\b\b\b\b\b\b\b\b\b\b\b\b\b\b\b\b\b\b\b\b\b\b\b\b\b\b\b\b\b\b\b\b\b\b\b\b\b\b\b\b\b\b\b\b\b\b\b\b\b\b\b\b\b\b\b\b\b\b\b\b\b\b\b\b\b\b\b\b\b\b\b\b\b\b\b\b\b\b\b\b\b\b\b\b\b\b\b\b\b\b\b\b\b\b\b\b\b\b\b\b\b\b\b\b\b\b\b\b\b\b\b\b\b\b\b\b\b\b\b\b\b\b\b\b\b\b\b\b\b\b\b\b\b\b\b\b\b\b\b\b\b\b\b\b\b\b\b\b\b\b\b\b\b\b\b\b\b\b\b\b\b\b\b\b\b\b\b\b\b\b\b\b\b\b\b\b\b\b\b\b\b\b\b\b\b\b\b\b\b\b\b\b\b\b\b\b\b\b\b\b\b\b\b\b\b\b\b\b\b\b\b\b\b\b\b\b\b\b\b\b\b\b\b\b\b\b\b\b\b\b\b\b\b\b\b\b\b\b\b\b\b\b\b\b\b\b\b\b\b\b\b\b\b\b\b\b\b\b\b\b\b\b\b\b\b\b\b\b\b\b\b\b\b\b\b\b\b\b\b\b\b\b\b\b\b\b\b\b\b\b\b\b\b\b\b\b\b\b\b\b\b\b\b\b\b\b\b\b\b\b\b\b\b\b\b\b\b\b\b\b\b\b\b\b\b\b\b\b\b\b\b\b\b\b\b\b\b\b\b\b\b\b\b\b\b\b\b\b\b\b\b\b\b\b\b\b\b\b\b\b\b\b\b\b\b\b\b\b\b\b\b\b\b\b\b\b\b\b\b\b\b\b\b\b\b\b\b\b\b\b\b\b\b\b\b\b\b\b\b\b\b\b\b\b\b\b\b\b\b\b\b\b\b\b\b\b\b\b\b\b\b\b\b\b\b\b\b\b\b\b\b\b\b\b\b\b\b\b\b\b\b\b\b\b\b\b\b\b\b\b\b\b\b\b\b\b\b\b\b\b\b\b\b\b\b\b\b\b\b\b\b\b\b\b\b\b\b\b\b\b\b\b\b\b\b\b\b\b\b\b\b\b\b\b\b\b\b\b\b\b\b\b\b\b\b\b\b\b\b\b\b\b\b\b\b\b\b\b\b\b\b\b\b\b\b\b\b\b\b\b\b\b\b\b\b\b\b\b\b\b\b\b\b\b\b\b\b\b\b\b\b\b\b\b\b\b\b\b\b\b\b\b\b\b\b\b\b\b\b\b\b\b\b\b\b\b\b\b\b\b\b\b\b\b\b\b\b\b\b\b\b\b\b\b\b\b\b\b\b\b\b\b\b\b\b\b\b\b\b\b\b\b\b\b\b\b\b\b\b\b\b\b\b\b\b\b\b\b\b\b\b\b\b\b\b\b\b\b\b\b\b\b\b\b\b\b\b\b\b\b\b\b\b\b\b\b\b\b\b\b\b\b\b\b\b\b\b\b\b\b\b\b\b\b\b\b\b\b\b\b\b\b\b\b\b\b\b\b\b\b\b\b\b\b\b\b\b\b\b\b\b\b\b\b\b\b\b\b\b\b\b\b\b\b\b\b\b\b\b\b\b\b\b\b\b\b\b\b\b\b\b\b\b\b\b\b\b\b\b\b\b\b\b\b\b\b\b\b\b\b\b\b\b\b\b\b\b\b\b\b\b\b\b\b\b\b\b\b\b\b\b\b\b\b\b\b\b\b\b\b\b\b\b\b\b\b\b\b\b\b\b\b\b\b\b\b\b\b\b\b\b\b\b\b\b\b\b\b\b\b\b\b\b\b\b\b\b\b\b\b\b\b\b\b\b\b\b\b\b\b\b\b\b\b\b\b\b\b\b\b\b\b\b\b\b\b\b\b\b\b\b\b\b\b\b\b\b\b\b\b\b\b\b\b\b\b\b\b\b\b\b\b\b\b\b\b\b\b\b\b\b\b\b\b\b\b\b\b\b\b\b\b\b\b\b\b\b\b\b\b\b\b\b\b\b\b\b\b\b\b\b\b\b\b\b\b\b\b\b\b\b\b\b\b\b\b\b\b\b\b\b\b\b\b\b\b\b\b\b\b\b\b\b\b\b\b\b\b\b\b\b\b\b\b\b\b\b\b\b\b\b\b\b\b\b\b\b\b\b\b\b\b\b\b\b\b\b\b\b\b\b\b\b\b\b\b\b\b\b\b\b\b\b\b\b\b\b\b\b\b\b\b\b\b\b\b\b\b\b\b\b\b\b\b\b\b\b\b\b\b\b\b\b\b\b\b\b\b\b\b\b\b\b\b\b\b\b\b\b\b\b\b\b\b\b\b\b\b\b\b\b\b\b\b\b\b\b\b\b\b\b\b\b\b\b\b\b\b\b\b\b\b\b\b\b\b\b\b\b\b\b\b\b\b\b\b\b\b\b\b\b\b\b\b\b\b\b\b\b\b\b\b\b\b\b\b\b\b\b\b\b\b\b\b\b\b\b\b\b\b\b\b\b\b\b\b\b\b\b\b\b\b\b\b\b\b\b\b\b\b\b\b\b\b\b\b\b\b\b\b\b\b\b\b\b\b\b\b\b\b\b\b\b\b\b\b\b\b\b\b\b\b\b\b\b\b\b\b\b\b\b\b\b\b\b\b\b\b\b\b\b\b\b\b\b\b\b\b\b\b\b\b\b\b\b\b\b\b\b\b\b\b\b\b\b\b\b\b\b\b\b\b\b\b\b\b\b\b\b\b\b\b\b\b\b\b\b\b\b\b\b\b\b\b\b\b\b\b\b\b\b\b\b\b\b\b\b\b\b\b\b\b\b\b\b\b\b\b\b\b\b\b\b\b\b\b\b\b\b\b\b\b\b\b\b\b\b\b\b\b\b\b\b\b\b\b\b\b\b\b\b\b\b\b\b\b\b\b\b\b\b\b\b\b\b\b\b\b\b\b\b\b\b\b\b\b\b\b\b\b\b\b\b\b\b\b\b\b\b\b\b\b\b\b\b\b\b\b\b\b\b\b\b\b\b\b\b\b\b\b\b\b\b\b\b\b\b\b\b\b\b\b\b\b\b\b\b\b\b\b\b\b\b\b\b\b\b\b\b\b\b\b\b\b\b\b\b\b\b\b\b\b\b\b\b\b\b\b\b\b\b\b\b\b\b\b\b\b\b\b\b\b\b\b\b\b\b\b\b\b\b\b\b\b\b\b\b\b\b\b\b\b\b\b\b\b\b\b\b\b\b\b\b\b\b\b\b\b\b\b\b\b\b\b\b\b\b\b\b\b\b\b\b\b\b\b\b\b\b\b\b\b\b\b\b\b\b\b\b\b\b\b\b\b\b\b\b\b\b\b\b\b\b\b\b\b\b\b\b\b\b\b\b\b\b\b\b\b\b\b\b\b\b\b\b\b\b\b\b\b\b\b\b\b\b\b\b\b\b\b\b\b\b\b\b\b\b\b\b\b\b\b\b\b\b\b\b\b\b\b\b\b\b\b\b\b\b\b\b\b\b\b\b\b\b\b\b\b\b\b\b\b\b\b\b\b\b\b\b\b\b\b\b\b\b\b\b\b\b\b\b\b\b\b\b\b\b\b\b\b\b\b\b\b\b\b\b\b\b\b\b\b\b\b\b\b\b\b\b\b\b\b\b\b\b\b\b\b\b\b\b\b\b\b\b\b\b\b\b\b\b\b\b\b\b\b\b\b\b\b\b\b\b\b\b\b\b\b\b\b\b\b\b\b\b\b\b\b\b\b\b\b\b\b\b\b\b\b\b\b\b\b\b\b\b\b\b\b\b\b\b\b\b\b\b\b\b\b\b\b\b\b\b\b\b\b\b\b\b\b\b\b\b\b\b\b\b\b\b\b\b\b\b\b\b\b\b\b\b\b\b\b\b\b\b\b\b\b\b\b\b\b\b\b\b\b\b\b\b\b\b\b\b\b\b\b\b\b\b\b\b\b\b\b\b\b\b\b\b\b\b\b\b\b\b\b\b\b\b\b\b\b\b\b\b\b\b\b\b\b\b\b\b\b\b\b\b\b\b\b\b\b\b\b\b\b\b\b\b\b\b\b\b\b\b\b\b\b\b\b\b\b\b\b\b\b\b\b\b\b\b\b\b\b\b\b\b\b\b\b\b\b\b\b\b\b\b\b\b\b\b\b\b\b\b\b\b\b\b\b\b\b\b\b\b\b\b\b\b\b\b\b\b\b\b\b\b\b\b\b\b\b\b\b\b\b\b\b\b\b\b\b\b\b\b\b\b\b\b\b\b\b\b\b\b\b\b\b\b\b\b\b\b\b\b\b\b\b\b\b\b\b\b\b\b\b\b\b\b\b\b\b\b\b\b\b\b\b\b\b\b\b\b\b\b\b\b\b\b\b\b\b\b\b\b\b\b\b\b\b\b\b\b\b\b\b\b\b\b\b\b\b\b\b\b\b\b\b\b\b\b\b\b\b\b\b\b\b\b\b\b\b\b\b\b\b\b\b\b\b\b\b\b\b\b\b\b\b\b\b\b\b\b\b\b\b\b\b\b\b\b\b\b\b\b\b\b\b\b\b\b\b\b\b\b\b\b\b\b\b\b\b\b\b\b\b\b\b\b\b\b\b\b\b\b\b\b\b\b\b\b\b\b\b\b\b\b\b\b\b\b\b\b\b\b\b\b\b\b\b\b\b\b\b\b\b\b\b\b\b\b\b\b\b\b\b\b\b\b\b\b\b\b\b\b\b\b\b\b\b\b\b\b\b\b\b\b\b\b\b\b\b\b\b\b\b\b\b\b\b\b\b\b\b\b\b\b\b\b\b\b\b\b\b\b\b\b\b\b\b\b\b\b\b\b\b\b\b\b\b\b\b\b\b\b\b\b\b\b\b\b\b\b\b\b\b\b\b\b\b\b\b\b\b\b\b\b\b\b\b\b\b\b\b\b\b\b\b\b\b\b\b\b\b\b\b\b\b\b\b\b\b\b\b\b\b\b\b\b\b\b\b\b\b\b\b\b\b\b\b\b\b\b\b\b\b\b\b\b\b\b\b\b\b\b\b\b\b\b\b\b\b\b\b\b\b\b\b\b\b\b\b\b\b\b\b\b\b\b\b\b\b\b\b\b\b\b\b\b\b\b\b\b\b\b\b\b\b\b\b\b\b\b\b\b\b\b\b\b\b\b\b\b\b\b\b\b\b\b\b\b\b\b\b\b\b\b\b\b\b\b\b\b\b\b\b\b\b\b\b\b\b\b\b\b\b\b\b\b\b\b\b\b\b\b\b\b\b\b\b\b\b\b\b\b\b\b\b\b\b\b\b\b\b\b\b\b\b\b\b\b\b\b\b\b\b\b\b\b\b\b\b\b\b\b\b\b\b\b\b\b\b\b\b\b\b\b\b\b\b\b\b\b\b\b\b\b\b\b\b\b\b\b\b\b\b\b\b\b\b\b\b\b\b\b\b\b\b\b\b\b\b\b\b\b\b\b\b\b\b\b\b\b\b\b\b\b\b\b\b\b\b\b\b\b\b\b\b\b\b\b\b\b\b\b\b\b\b\b\b\b\b\b\b\b\b\b\b\b\b\b\b\b\b\b\b\b\b\b\b\b\b\b\b\b\b\b\b\b\b\b\b\b\b\b\b\b\b\b\b\b\b\b\b\b\b\b\b\b\b\b\b\b\b\b\b\b\b\b\b\b\b\b\b\b\b\b\b\b\b\b\b\b\b\b\b\b\b\b\b\b\b\b\b\b\b\b\b\b\b\b\b\b\b\b\b\b\b\b\b\b\b\b\b\b\b\b\b\b\b\b\b\b\b\b\b\b\b\b\b\b\b\b\b\b\b\b\b\b\b\b\b\b\b\b\b\b\b\b\b\b\b\b\b\b\b\b\b\b\b\b\b\b\b\b\b\b\b\b\b\b\b\b\b\b\b\b\b\b\b\b\b\b\b\b\b\b\b\b\b\b\b\b\b\b\b\b\b\b\b\b\b\b\b\b\b\b\b\b\b\b\b\b\b\b\b\b\b\b\b\b\b\b\b\b\b\b\b\b\b\b\b\b\b\b\b\b\b\b\b\b\b\b\b\b\b\b\b\b\b\b\b\b\b\b\b\b\b\b\b\b\b\b\b\b\b\b\b\b\b\b\b\b\b\b\b\b\b\b\b\b\b\b\b\b\b\b\b\b\b\b\b\b\b\b\b\b\b\b\b\b\b\b\b\b\b\b\b\b\b\b\b\b\b\b\b\b\b\b\b\b\b\b\b\b\b\b\b\b\b\b\b\b\b\b\b\b\b\b\b\b\b\b\b\b\b\b\b\b\b\b\b\b\b\b\b\b\b\b\b\b\b\b\b\b\b\b\b\b\b\b\b\b\b\b\b\b\b\b\b\b\b\b\b\b\b\b\b\b\b\b\b\b\b\b\b\b\b\b\b\b\b\b\b\b\b\b\b\b\b\b\b\b\b\b\b\b\b\b\b\b\b\b\b\b\b\b\b\b\b\b\b\b\b\b\b\b\b\b\b\b\b\b\b\b\b\b\b\b\b\b\b\b\b\b\b\b\b\b\b\b\b\b\b\b\b\b\b\b\b\b\b\b\b\b\b\b\b\b\b\b\b\b\b\b\b\b\b\b\b\b\b\b\b\b\b\b\b\b\b\b\b\b\b\b\b\b\b\b\b\b\b\b\b\b\b\b\b\b\b\b\b\b\b\b\b\b\b\b\b\b\b\b\b\b\b\b\b\b\b\b\b\b\b\b\b\b\b\b\b\b\b\b\b\b\b\b\b\b\b\b\b\b\b\b\b\b\b\b\b\b\b\b\b\b\b\b\b\b\b\b\b\b\b\b\b\b\b\b\b\b\b\b\b\b\b\b\b\b\b\b\b\b\b\b\b\b\b\b\b\b\b\b\b\b\b\b\b\b\b\b\b\b\b\b\b\b\b\b\b\b\b\b\b\b\b\b\b\b\b\b\b\b\b\b\b\b\b\b\b\b\b\b\b\b\b\b\b\b\b\b\b\b\b\b\b\b\b\b\b\b\b\b\b\b\b\b\b\b\b\b\b\b\b\b\b\b\b\b\b\b\b\b\b\b\b\b\b\b\b\b\b\b\b\b\b\b\b\b\b\b\b\b\b\b\b\b\b\b\b\b\b\b\b\b\b\b\b\b\b\b\b\b\b\b\b\b\b\b\b\b\b\b\b\b\b\b\b\b\b\b\b\b\b\b\b\b\b\b\b\b\b\b\b\b\b\b\b\b\b\b\b\b\b\b\b\b\b\b\b\b\b\b\b\b\b\b\b\b\b\b\b\b\b\b\b\b\b\b\b\b\b\b\b\b\b\b\b\b\b\b\b\b\b\b\b\b\b\b\b\b\b\b\b\b\b\b\b\b\b\b\b\b\b\b\b\b\b\b\b\b\b\b\b\b\b\b\b\b\b\b\b\b\b\b\b\b\b\b\b\b\b\b\b\b\b\b\b\b\b\b\b\b\b\b\b\b\b\b\b\b\b\b\b\b\b\b\b\b\b\b\b\b\b\b\b\b\b\b\b\b\b\b\b\b\b\b\b\b\b\b\b\b\b\b\b\b\b\b\b\b\b\b\b\b\b\b\b\b\b\b\b\b\b\b\b\b\b\b\b\b\b\b\b\b\b\b\b\b\b\b\b\b\b\b\b\b\b\b\b\b\b\b\b\b\b\b\b\b\b\b\b\b\b\b\b\b\b\b\b\b\b\b\b\b\b\b\b\b\b\b\b\b\b\b\b\b\b\b\b\b\b\b\b\b\b\b\b\b\b\b\b\b\b\b\b\b\b\b\b\b\b\b\b\b\b\b\b\b\b\b\b\b\b\b\b\b\b\b\b\b\b\b\b\b\b\b\b\b\b\b\b\b\b\b\b\b\b\b\b\b\b\b\b\b\b\b\b\b\b\b\b\b\b\b\b\b\b\b\b\b\b\b\b\b\b\b\b\b\b\b\b\b\b\b\b\b\b\b\b\b\b\b\b\b\b\b\b\b\b\b\b\b\b\b\b\b\b\b\b\b\b\b\b\b\b\b\b\b\b\b\b\b\b\b\b\b\b\b\b\b\b\b\b\b\b\b\b\b\b\b\b\b\b\b\b\b\b\b\b\b\b\b\b\b\b\b\b\b\b\b\b\b\b\b\b\b\b\b\b\b\b\b\b\b\b\b\b\b\b\b\b\b\b\b\b\b\b\b\b\b\b\b\b\b\b\b\b\b\b\b\b\b\b\b\b\b\b\b\b\b\b\b\b\b\b\b\b\b\b\b\b\b\b\b\b\b\b\b\b\b\b\b\b\b\b\b\b\b\b\b\b\b\b\b\b\b\b\b\b\b\b\b\b\b\b\b\b\b\b\b\b\b\b\b\b\b\b\b\b\b\b\b\b\b\b\b\b\b\b\b\b\b\b\b\b\b\b\b\b\b\b\b\b\b\b\b\b\b\b\b\b\b\b\b\b\b\b\b\b\b\b\b\b\b\b\b\b\b\b\b\b\b\b\b\b\b\b\b\b\b\b\b\b\b\b\b\b\b\b\b\b\b\b\b\b\b\b\b\b\b\b\b\b\b\b\b\b\b\b\b\b\b\b\b\b\b\b\b\b\b\b\b\b\b\b\b\b\b\b\b\b\b\b\b\b\b\b\b\b\b\b\b\b\b\b\b\b\b\b\b\b\b\b\b\b\b\b\b\b\b\b\b\b\b\b\b\b\b\b\b\b\b\b\b\b\b\b\b\b\b\b\b\b\b\b\b\b\b\b\b\b\b\b\b\b\b\b\b\b\b\b\b\b\b\b\b\b\b\b\b\b\b\b\b\b\b\b\b\b\b\b\b\b\b\b\b\b\b\b\b\b\b\b\b\b\b\b\b\b\b\b\b\b\b\b\b\b\b\b\b\b\b\b\b\b\b\b\b\b\b\b\b\b\b\b\b\b\b\b\b\b\b\b\b\b\b\b\b\b\b\b\b\b\b\b\b\b\b\b\b\b\b\b\b\b\b\b\b\b\b\b\b\b\b\b\b\b\b\b\b\b\b\b\b\b\b\b\b\b\b\b\b\b\b\b\b\b\b\b\b\b\b\b\b\b\b\b\b\b\b\b\b\b\b\b\b\b\b\b\b\b\b\b\b\b\b\b\b\b\b\b\b\b\b\b\b\b\b\b\b\b\b\b\b\b\b\b\b\b\b\b\b\b\b\b\b\b\b\b\b\b\b\b\b\b\b\b\b\b\b\b\b\b\b\b\b\b\b\b\b\b\b\b\b\b\b\b\b\b\b\b\b\b\b\b\b\b\b\b\b\b\b\b\b\b\b\b\b\b\b\b\b\b\b\b\b\b\b\b\b\b\b\b\b\b\b\b\b\b\b\b\b\b\b\b\b\b\b\b\b\b\b\b\b\b\b\b\b\b\b\b\b\b\b\b\b\b\b\b\b\b\b\b\b\b\b\b\b\b\b\b\b\b\b\b\b\b\b\b\b\b\b\b\b\b\b\b\b\b\b\b\b\b\b\b\b\b\b\b\b\b\b\b\b\b\b\b\b\b\b\b\b\b\b\b\b\b\b\b\b\b\b\b\b\b\b\b\b\b\b\b\b\b\b\b\b\b\b\b\b\b\b\b\b\b\b\b\b\b\b\b\b\b\b\b\b\b\b\b\b\b\b\b\b\b\b\b\b\b\b\b\b\b\b\b\b\b\b\b\b\b\b\b\b\b\b\b\b\b\b\b\b\b\b\b\b\b\b\b\b\b\b\b\b\b\b\b\b\b\b\b\b\b\b\b\b\b\b\b\b\b\b\b\b\b\b\b\b\b\b\b\b\b\b\b\b\b\b\b\b\b\b\b\b\b\b\b\b\b\b\b\b\b\b\b\b\b\b\b\b\b\b\b\b\b\b\b\b\b\b\b\b\b\b\b\b\b\b\b\b\b\b\b\b\b\b\b\b\b\b\b\b\b\b\b\b\b\b\b\b\b\b\b\b\b\b\b\b\b\b\b\b\b\b\b\b\b\b\b\b\b\b\b\b\b\b\b\b\b\b\b\b\b\b\b\b\b\b\b\b\b\b\b\b\b\b\b\b\b\b\b\b\b\b\b\b\b\b\b\b\b\b\b\b\b\b\b\b\b\b\b\b\b\b\b\b\b\b\b\b\b\b\b\b\b\b\b\b\b\b\b\b\b\b\b\b\b\b\b\b\b\b\b\b\b\b\b\b\b\b\b\b\b\b\b\b\b\b\b\b\b\b\b\b\b\b\b\b\b\b\b\b\b\b\b\b\b\b\b\b\b\b\b\b\b\b\b\b\b\b\b\b\b\b\b\b\b\b\b\b\b\b\b\b\b\b\b\b\b\b\b\b\b\b\b\b\b\b\b\b\b\b\b\b\b\b\b\b\b\b\b\b\b\b\b\b\b\b\b\b\b\b\b\b\b\b\b\b\b\b\b\b\b\b\b\b\b\b\b\b\b\b\b\b\b\b\b\b\b\b\b\b\b\b\b\b\b\b\b\b\b\b\b\b\b\b\b\b\b\b\b\b\b\b\b\b\b\b\b\b\b\b\b\b\b\b\b\b\b\b\b\b\b\b\b\b\b\b\b\b\b\b\b\b\b\b\b\b\b\b\b\b\b\b\b\b\b\b\b\b\b\b\b\b\b\b\b\b\b\b\b\b\b\b\b\b\b\b\b\b\b\b\b\b\b\b\b\b\b\b\b\b\b\b\b\b\b\b\b\b\b\b\b\b\b\b\b\b\b\b\b\b\b\b\b\b\b\b\b\b\b\b\b\b\b\b\b\b\b\b\b\b\b\b\b\b\b\b\b\b\b\b\b\b\b\b\b\b\b\b\b\b\b\b\b\b\b\b\b\b\b\b\b\b\b\b\b\b\b\b\b\b\b\b\b\b\b\b\b\b\b\b\b\b\b\b\b\b\b\b\b\b\b\b\b\b\b\b\b\b\b\b\b\b\b\b\b\b\b\b\b\b\b\b\b\b\b\b\b\b\b\b\b\b\b\b\b\b\b\b\b\b\b\b\b\b\b\b\b\b\b\b\b\b\b\b\b\b\b\b\b\b\b\b\b\b\b\b\b\b\b\b\b\b\b\b\b\b\b\b\b\b\b\b\b\b\b\b\b\b\b\b\b\b\b\b\b\b\b\b\b\b\b\b\b\b\b\b\b\b\b\b\b\b\b\b\b\b\b\b\b\b\b\b\b\b\b\b\b\b\b\b\b\b\b\b\b\b\b\b\b\b\b\b\b\b\b\b\b\b\b\b\b\b\b\b\b\b\b\b\b\b\b\b\b\b\b\b\b\b\b\b\b\b\b\b\b\b\b\b\b\b\b\b\b\b\b\b\b\b\b\b\b\b\b\b\b\b\b\b\b\b\b\b\b\b\b\b\b\b\b\b\b\b\b\b\b\b\b\b\b\b\b\b\b\b\b\b\b\b\b\b\b\b\b\b\b\b\b\b\b\b\b\b\b\b\b\b\b\b\b\b\b\b\b\b\b\b\b\b\b\b\b\b\b\b\b\b\b\b\b\b\b\b\b\b\b\b\b\b\b\b\b\b\b\b\b\b\b\b\b\b\b\b\b\b\b\b\b\b\b\b\b\b\b\b\b\b\b\b\b\b\b\b\b\b\b\b\b\b\b\b\b\b\b\b\b\b\b\b\b\b\b\b\b\b\b\b\b\b\b\b\b\b\b\b\b\b\b\b\b\b\b\b\b\b\b\b\b\b\b\b\b\b\b\b\b\b\b\b\b\b\b\b\b\b\b\b\b\b\b\b\b\b\b\b\b\b\b\b\b\b\b\b\b\b\b\b\b\b\b\b\b\b\b\b\b\b\b\b\b\b\b\b\b\b\b\b\b\b\b\b\b\b\b\b\b\b\b\b\b\b\b\b\b\b\b\b\b\b\b\b\b\b\b\b\b\b\b\b\b\b\b\b\b\b\b\b\b\b\b\b\b\b\b\b\b\b\b\b\b\b\b\b\b\b\b\b\b\b\b\b\b\b\b\b\b\b\b\b\b\b\b\b\b\b\b\b\b\b\b\b\b\b\b\b\b\b\b\b\b\b\b\b\b\b\b\b\b\b\b\b\b\b\b\b\b\b\b\b\b\b\b\b\b\b\b\b\b\b\b\b\b\b\b\b\b\b\b\b\b\b\b\b\b\b\b\b\b\b\b\b\b\b\b\b\b\b\b\b\b\b\b\b\b\b\b\b\b\b\b\b\b\b\b\b\b\b\b\b\b\b\b\b\b\b\b\b\b\b\b\b\b\b\b\b\b\b\b\b\b\b\b\b\b\b\b\b\b\b\b\b\b\b\b\b\b\b\b\b\b\b\b\b\b\b\b\b\b\b\b\b\b\b\b\b\b\b\b\b\b\b\b\b\b\b\b\b\b\b\b\b\b\b\b\b\b\b\b\b\b\b\b\b\b\b\b\b\b\b\b\b\b\b\b\b\b\b\b\b\b\b\b\b\b\b\b\b\b\b\b\b\b\b\b\b\b\b\b\b\b\b\b\b\b\b\b\b\b\b\b\b\b\b\b\b\b\b\b\b\b\b\b\b\b\b\b\b\b\b\b\b\b\b\b\b\b\b\b\b\b\b\b\b\b\b\b\b\b\b\b\b\b\b\b\b\b\b\b\b\b\b\b\b\b\b\b\b\b\b\b\b\b\b\b\b\b\b\b\b\b\b\b\b\b\b\b\b\b\b\b\b\b\b\b\b\b\b\b\b\b\b\b\b\b\b\b\b\b\b\b\b\b\b\b\b\b\b\b\b\b\b\b\b\b\b\b\b\b\b\b\b\b\b\b\b\b\b\b\b\b\b\b\b\b\b\b\b\b\b\b\b\b\b\b\b\b\b\b\b\b\b\b\b\b\b\b\b\b\b\b\b\b\b\b\b\b\b\b\b\b\b\b\b\b\b\b\b\b\b\b\b\b\b\b\b\b\b\b\b\b\b\b\b\b\b\b\b\b\b\b\b\b\b\b\b\b\b\b\b\b\b\b\b\b\b\b\b\b\b\b\b\b\b\b\b\b\b\b\b\b\b\b\b\b\b\b\b\b\b\b\b\b\b\b\b\b\b\b\b\b\b\b\b\b\b\b\b\b\b\b\b\b\b\b\b\b\b\b\b\b\b\b\b\b\b\b\b\b\b\b\b\b\b\b\b\b\b\b\b\b\b\b\b\b\b\b\b\b\b\b\b\b\b\b\b\b\b\b\b\b\b\b\b\b\b\b\b\b\b\b\b\b\b\b\b\b\b\b\b\b\b\b\b\b\b\b\b\b\b\b\b\b\b\b\b\b\b\b\b\b\b\b\b\b\b\b\b\b\b\b\b\b\b\b\b\b\b\b\b\b\b\b\b\b\b\b\b\b\b\b\b\b\b\b\b\b\b\b\b\b\b\b\b\b\b\b\b\b\b\b\b\b\b\b\b\b\b\b\b\b\b\b\b\b\b\b\b\b\b\b\b\b\b\b\b\b\b\b\b\b\b\b\b\b\b\b\b\b\b\b\b\b\b\b\b\b\b\b\b\b\b\b\b\b\b\b\b\b\b\b\b\b\b\b\b\b\b\b\b\b\b\b\b\b\b\b\b\b\b\b\b\b\b\b\b\b\b\b\b\b\b\b\b\b\b\b\b\b\b\b\b\b\b\b\b\b\b\b\b\b\b\b\b\b\b\b\b\b\b\b\b\b\b\b\b\b\b\b\b\b\b\b\b\b\b\b\b\b\b\b\b\b\b\b\b\b\b\b\b\b\b\b\b\b\b\b\b\b\b\b\b\b\b\b\b\b\b\b\b\b\b\b\b\b\b\b\b\b\b\b\b\b\b\b\b\b\b\b\b\b\b\b\b\b\b\b\b\b\b\b\b\b\b\b\b\b\b\b\b\b\b\b\b\b\b\b\b\b\b\b\b\b\b\b\b\b\b\b\b\b\b\b\b\b\b\b\b\b\b\b\b\b\b\b\b\b\b\b\b\b\b\b\b\b\b\b\b\b\b\b\b\b\b\b\b\b\b\b\b\b\b\b\b\b\b\b\b\b\b\b\b\b\b\b\b\b\b\b\b\b\b\b\b\b\b\b\b\b\b\b\b\b\b\b\b\b\b\b\b\b\b\b\b\b\b\b\b\b\b\b\b\b\b\b\b\b\b\b\b\b\b\b\b\b\b\b\b\b\b\b\b\b\b\b\b\b\b\b\b\b\b\b\b\b\b\b\b\b\b\b\b\b\b\b\b\b\b\b\b\b\b\b\b\b\b\b\b\b\b\b\b\b\b\b\b\b\b\b\b\b\b\b\b\b\b\b\b\b\b\b\b\b\b\b\b\b\b\b\b\b\b\b\b\b\b\b\b\b\b\b\b\b\b\b\b\b\b\b\b\b\b\b\b\b\b\b\b\b\b\b\b\b\b\b\b\b\b\b\b\b\b\b\b\b\b\b\b\b\b\b\b\b\b\b\b\b\b\b\b\b\b\b\b\b\b\b\b\b\b\b\b\b\b\b\b\b\b\b\b\b\b\b\b\b\b\b\b\b\b\b\b\b\b\b\b\b\b\b\b\b\b\b\b\b\b\b\b\b\b\b\b\b\b\b\b\b\b\b\b\b\b\b\b\b\b\b\b\b\b\b\b\b\b\b\b\b\b\b\b\b\b\b\b\b\b\b\b\b\b\b\b\b\b\b\b\b\b\b\b\b\b\b\b\b\b\b\b\b\b\b\b\b\b\b\b\b\b\b\b\b\b\b\b\b\b\b\b\b\b\b\b\b\b\b\b\b\b\b\b\b\b\b\b\b\b\b\b\b\b\b\b\b\b\b\b\b\b\b\b\b\b\b\b\b\b\b\b\b\b\b\b\b\b\b\b\b\b\b\b\b\b\b\b\b\b\b\b\b\b\b\b\b\b\b\b\b\b\b\b\b\b\b\b\b\b\b\b\b\b\b\b\b\b\b\b\b\b\b\b\b\b\b\b\b\b\b\b\b\b\b\b\b\b\b\b\b\b\b\b\b\b\b\b\b\b\b\b\b\b\b\b\b\b\b\b\b\b\b\b\b\b\b\b\b\b\b\b\b\b\b\b\b\b\b\b\b\b\b\b\b\b\b\b\b\b\b\b\b\b\b\b\b\b\b\b\b\b\b\b\b\b\b\b\b\b\b\b\b\b\b\b\b\b\b\b\b\b\b\b\b\b\b\b\b\b\b\b\b\b\b\b\b\b\b\b\b\b\b\b\b\b\b\b\b\b\b\b\b\b\b\b\b\b\b\b\b\b\b\b\b\b\b\b\b\b\b\b\b\b\b\b\b\b\b\b\b\b\b\b\b\b\b\b\b\b\b\b\b\b\b\b\b\b\b\b\b\b\b\b\b\b\b\b\b\b\b\b\b\b\b\b\b\b\b\b\b\b\b\b\b\b\b\b\b\b\b\b\b\b\b\b\b\b\b\b\b\b\b\b\b\b\b\b\b\b\b\b\b\b\b\b\b\b\b\b\b\b\b\b\b\b\b\b\b\b\b\b\b\b\b\b\b\b\b\b\b\b\b\b\b\b\b\b\b\b\b\b\b\b\b\b\b\b\b\b\b\b\b\b\b\b\b\b\b\b\b\b\b\b\b\b\b\b\b\b\b\b\b\b\b\b\b\b\b\b\b\b\b\b\b\b\b\b\b\b\b\b\b\b\b\b\b\b\b\b\b\b\b\b\b\b\b\b\b\b\b\b\b\b\b\b\b\b\b\b\b\b\b\b\b\b\b\b\b\b\b\b\b\b\b\b\b\b\b\b\b\b\b\b\b\b\b\b\b\b\b\b\b\b\b\b\b\b\b\b\b\b\b\b\b\b\b\b\b\b\b\b\b\b\b\b\b\b\b\b\b\b\b\b\b\b\b\b\b\b\b\b\b\b\b\b\b\b\b\b\b\b\b\b\b\b\b\b\b\b\b\b\b\b\b\b\b\b\b\b\b\b\b\b\b\b\b\b\b\b\b\b\b\b\b\b\b\b\b\b\b\b\b\b\b\b\b\b\b\b\b\b\b\b\b\b\b\b\b\b\b\b\b\b\b\b\b\b\b\b\b\b\b\b\b\b\b\b\b\b\b\b\b\b\b\b\b\b\b\b\b\b\b\b\b\b\b\b\b\b\b\b\b\b\b\b\b\b\b\b\b\b\b\b\b\b\b\b\b\b\b\b\b\b\b\b\b\b\b\b\b\b\b\b\b\b\b\b\b\b\b\b\b\b\b\b\b\b\b\b\b\b\b\b\b\b\b\b\b\b\b\b\b\b\b\b\b\b\b\b\b\b\b\b\b\b\b\b\b\b\b\b\b\b\b\b\b\b\b\b\b\b\b\b\b\b\b\b\b\b\b\b\b\b\b\b\b\b\b\b\b\b\b\b\b\b\b\b\b\b\b\b\b\b\b\b\b\b\b\b\b\b\b\b\b\b\b\b\b\b\b\b\b\b\b\b\b\b\b\b\b\b\b\b\b\b\b\b\b\b\b\b\b\b\b\b\b\b\b\b\b\b\b\b\b\b\b\b\b\b\b\b\b\b\b\b\b\b\b\b\b\b\b\b\b\b\b\b\b\b\b\b\b\b\b\b\b\b\b\b\b\b\b\b\b\b\b\b\b\b\b\b\b\b\b\b\b\b\b\b\b\b\b\b\b\b\b\b\b\b\b\b\b\b\b\b\b\b\b\b\b\b\b\b\b\b\b\b\b\b\b\b\b\b\b\b\b\b\b\b\b\b\b\b\b\b\b\b\b\b\b\b\b\b\b\b\b\b\b\b\b\b\b\b\b\b\b\b\b\b\b\b\b\b\b\b\b\b\b\b\b\b\b\b\b\b\b\b\b\b\b\b\b\b\b\b\b\b\b\b\b\b\b\b\b\b\b\b\b\b\b\b\b\b\b\b\b\b\b\b\b\b\b\b\b\b\b\b\b\b\b\b\b\b\b\b\b\b\b\b\b\b\b\b\b\b\b\b\b\b\b\b\b\b\b\b\b\b\b\b\b\b\b\b\b\b\b\b\b\b\b\b\b\b\b\b\b\b\b\b\b\b\b\b\b\b\b\b\b\b\b\b\b\b\b\b\b\b\b\b\b\b\b\b\b\b\b\b\b\b\b\b\b\b\b\b\b\b\b\b\b\b\b\b\b\b\b\b\b\b\b\b\b\b\b\b\b\b\b\b\b\b\b\b\b\b\b\b\b\b\b\b\b\b\b\b\b\b\b\b\b\b\b\b\b\b\b\b\b\b\b\b\b\b\b\b\b\b\b\b\b\b\b\b\b\b\b\b\b\b\b\b\b\b\b\b\b\b\b\b\b\b\b\b\b\b\b\b\b\b\b\b\b\b\b\b\b\b\b\b\b\b\b\b\b\b\b\b\b\b\b\b\b\b\b\b\b\b\b\b\b\b\b\b\b\b\b\b\b\b\b\b\b\b\b\b\b\b\b\b\b\b\b\b\b\b\b\b\b\b\b\b\b\b\b\b\b\b\b\b\b\b\b\b\b\b\b\b\b\b\b\b\b\b\b\b\b\b\b\b\b\b\b\b\b\b\b\b\b\b\b\b\b\b\b\b\b\b\b\b\b\b\b\b\b\b\b\b\b\b\b\b\b\b\b\b\b\b\b\b\b\b\b\b\b\b\b\b\b\b\b\b\b\b\b\b\b\b\b\b\b\b\b\b\b\b\b\b\b\b\b\b\b\b\b\b\b\b\b\b\b\b\b\b\b\b\b\b\b\b\b\b\b\b\b\b\b\b\b\b\b\b\b\b\b\b\b\b\b\b\b\b\b\b\b\b\b\b\b\b\b\b\b\b\b\b\b\b\b\b\b\b\b\b\b\b\b\b\b\b\b\b\b\b\b\b\b\b\b\b\b\b\b\b\b\b\b\b\b\b\b\b\b\b\b\b\b\b\b\b\b\b\b\b\b\b\b\b\b\b\b\b\b\b\b\b\b\b\b\b\b\b\b\b\b\b\b\b\b\b\b\b\b\b\b\b\b\b\b\b\b\b\b\b\b\b\b\b\b\b\b\b\b\b\b\b\b\b\b\b\b\b\b\b\b\b\b\b\b\b\b\b\b\b\b\b\b\b\b\b\b\b\b\b\b\b\b\b\b\b\b\b\b\b\b\b\b\b\b\b\b\b\b\b\b\b\b\b\b\b\b\b\b\b\b\b\b\b\b\b\b\b\b\b\b\b\b\b\b\b\b\b\b\b\b\b\b\b\b\b\b\b\b\b\b\b\b\b\b\b\b\b\b\b\b\b\b\b\b\b\b\b\b\b\b\b\b\b\b\b\b\b\b\b\b\b\b\b\b\b\b\b\b\b\b\b\b\b\b\b\b\b\b\b\b\b\b\b\b\b\b\b\b\b\b\b\b\b\b\b\b\b\b\b\b\b\b\b\b\b\b\b\b\b\b\b\b\b\b\b\b\b\b\b\b\b\b\b\b\b\b\b\b\b\b\b\b\b\b\b\b\b\b\b\b\b\b\b\b\b\b\b\b\b\b\b\b\b\b\b\b\b\b\b\b\b\b\b\b\b\b\b\b\b\b\b\b\b\b\b\b\b\b\b\b\b\b\b\b\b\b\b\b\b\b\b\b\b\b\b\b\b\b\b\b\b\b\b\b\b\b\b\b\b\b\b\b\b\b\b\b\b\b\b\b\b\b\b\b\b\b\b\b\b\b\b\b\b\b\b\b\b\b\b\b\b\b\b\b\b\b\b\b\b\b\b\b\b\b\b\b\b\b\b\b\b\b\b\b\b\b\b\b\b\b\b\b\b\b\b\b\b\b\b\b\b\b\b\b\b\b\b\b\b\b\b\b\b\b\b\b\b\b\b\b\b\b\b\b\b\b\b\b\b\b\b\b\b\b\b\b\b\b\b\b\b\b\b\b\b\b\b\b\b\b\b\b\b\b\b\b\b\b\b\b\b\b\b\b\b\b\b\b\b\b\b\b\b\b\b\b\b\b\b\b\b\b\b\b\b\b\b\b\b\b\b\b\b\b\b\b\b\b\b\b\b\b\b\b\b\b\b\b\b\b\b\b\b\b\b\b\b\b\b\b\b\b\b\b\b\b\b\b\b\b\b\b\b\b\b\b\b\b\b\b\b\b\b\b\b\b\b\b\b\b\b\b\b\b\b\b\b\b\b\b\b\b\b\b\b\b\b\b\b\b\b\b\b\b\b\b\b\b\b\b\b\b\b\b\b\b\b\b\b\b\b\b\b\b\b\b\b\b\b\b\b\b\b\b\b\b\b\b\b\b\b\b\b\b\b\b\b\b\b\b\b\b\b\b\b\b\b\b\b\b\b\b\b\b\b\b\b\b\b\b\b\b\b\b\b\b\b\b\b\b\b\b\b\b\b\b\b\b\b\b\b\b\b\b\b\b\b\b\b\b\b\b\b\b\b\b\b\b\b\b\b\b\b\b\b\b\b\b\b\b\b\b\b\b\b\b\b\b\b\b\b\b\b\b\b\b\b\b\b\b\b\b\b\b\b\b\b\b\b\b\b\b\b\b\b\b\b\b\b\b\b\b\b\b\b\b\b\b\b\b\b\b\b\b\b\b\b\b\b\b\b\b\b\b\b\b\b\b\b\b\b\b\b\b\b\b\b\b\b\b\b\b\b\b\b\b\b\b\b\b\b\b\b\b\b\b\b\b\b\b\b\b\b\b\b\b\b\b\b\b\b\b\b\b\b\b\b\b\b\b\b\b\b\b\b\b\b\b\b\b\b\b\b\b\b\b\b\b\b\b\b\b\b\b\b\b\b\b\b\b\b\b\b\b\b\b\b\b\b\b\b\b\b\b\b\b\b\b\b\b\b\b\b\b\b\b\b\b\b\b\b\b\b\b\b\b\b\b\b\b\b\b\b\b\b\b\b\b\b\b\b\b\b\b\b\b\b\b\b\b\b\b\b\b\b\b\b\b\b\b\b\b\b\b\b\b\b\b\b\b\b\b\b\b\b\b\b\b\b\b\b\b\b\b\b\b\b\b\b\b\b\b\b\b\b\b\b\b\b\b\b\b\b\b\b\b\b\b\b\b\b\b\b\b\b\b\b\b\b\b\b\b\b\b\b\b\b\b\b\b\b\b\b\b\b\b\b\b\b\b\b\b\b\b\b\b\b\b\b\b\b\b\b\b\b\b\b\b\b\b\b\b\b\b\b\b\b\b\b\b\b\b\b\b\b\b\b\b\b\b\b\b\b\b\b\b\b\b\b\b\b\b\b\b\b\b\b\b\b\b\b\b\b\b\b\b\b\b\b\b\b\b\b\b\b\b\b\b\b\b\b\b\b\b\b\b\b\b\b\b\b\b\b\b\b\b\b\b\b\b\b\b\b\b\b\b\b\b\b\b\b\b\b\b\b\b\b\b\b\b\b\b\b\b\b\b\b\b\b\b\b\b\b\b\b\b\b\b\b\b\b\b\b\b\b\b\b\b\b\b\b\b\b\b\b\b\b\b\b\b\b\b\b\b\b\b\b\b\b\b\b\b\b\b\b\b\b\b\b\b\b\b\b\b\b\b\b\b\b\b\b\b\b\b\b\b\b\b\b\b\b\b\b\b\b\b\b\b\b\b\b\b\b\b\b\b\b\b\b\b\b\b\b\b\b\b\b\b\b\b\b\b\b\b\b\b\b\b\b\b\b\b\b\b\b\b\b\b\b\b\b\b\b\b\b\b\b\b\b\b\b\b\b\b\b\b\b\b\b\b\b\b\b\b\b\b\b\b\b\b\b\b\b\b\b\b\b\b\b\b\b\b\b\b\b\b\b\b\b\b\b\b\b\b\b\b\b\b\b\b\b\b\b\b\b\b\b\b\b\b\b\b\b\b\b\b\b\b\b\b\b\b\b\b\b\b\b\b\b\b\b\b\b\b\b\b\b\b\b\b\b\b\b\b\b\b\b\b\b\b\b\b\b\b\b\b\b\b\b\b\b\b\b\b\b\b\b\b\b\b\b\b\b\b\b\b\b\b\b\b\b\b\b\b\b\b\b\b\b\b\b\b\b\b\b\b\b\b\b\b\b\b\b\b\b\b\b\b\b\b\b\b\b\b\b\b\b\b\b\b\b\b\b\b\b\b\b\b\b\b\b\b\b\b\b\b\b\b\b\b\b\b\b\b\b\b\b\b\b\b\b\b\b\b\b\b\b\b\b\b\b\b\b\b\b\b\b\b\b\b\b\b\b\b\b\b\b\b\b\b\b\b\b\b\b\b\b\b\b\b\b\b\b\b\b\b\b\b\b\b\b\b\b\b\b\b\b\b\b\b\b\b\b\b\b\b\b\b\b\b\b\b\b\b\b\b\b\b\b\b\b\b\b\b\b\b\b\b\b\b\b\b\b\b\b\b\b\b\b\b\b\b\b\b\b\b\b\b\b\b\b\b\b\b\b\b\b\b\b\b\b\b\b\b\b\b\b\b\b\b\b\b\b\b\b\b\b\b\b\b\b\b\b\b\b\b\b\b\b\b\b\b\b\b\b\b\b\b\b\b\b\b\b\b\b\b\b\b\b\b\b\b\b\b\b\b\b\b\b\b\b\b\b\b\b\b\b\b\b\b\b\b\b\b\b\b\b\b\b\b\b\b\b\b\b\b\b\b\b\b\b\b\b\b\b\b\b\b\b\b\b\b\b\b\b\b\b\b\b\b\b\b\b\b\b\b\b\b\b\b\b\b\b\b\b\b\b\b\b\b\b\b\b\b\b\b\b\b\b\b\b\b\b\b\b\b\b\b\b\b\b\b\b\b\b\b\b\b\b\b\b\b\b\b\b\b\b\b\b\b\b\b\b\b\b\b\b\b\b\b\b\b\b\b\b\b\b\b\b\b\b\b\b\b\b\b\b\b\b\b\b\b\b\b\b\b\b\b\b\b\b\b\b\b\b\b\b\b\b\b\b\b\b\b\b\b\b\b\b\b\b\b\b\b\b\b\b\b\b\b\b\b\b\b\b\b\b\b\b\b\b\b\b\b\b\b\b\b\b\b\b\b\b\b\b\b\b\b\b\b\b\b\b\b\b\b\b\b\b\b\b\b\b\b\b\b\b\b\b\b\b\b\b\b\b\b\b\b\b\b\b\b\b\b\b\b\b\b\b\b\b\b\b\b\b\b\b\b\b\b\b\b\b\b\b\b\b\b\b\b\b\b\b\b\b\b\b\b\b\b\b\b\b\b\b\b\b\b\b\b\b\b\b\b\b\b\b\b\b\b\b\b\b\b\b\b\b\b\b\b\b\b\b\b\b\b\b\b\b\b\b\b\b\b\b\b\b\b\b\b\b\b\b\b\b\b\b\b\b\b\b\b\b\b\b\b\b\b\b\b\b\b\b\b\b\b\b\b\b\b\b\b\b\b\b\b\b\b\b\b\b\b\b\b\b\b\b\b\b\b\b\b\b\b\b\b\b\b\b\b\b\b\b\b\b\b\b\b\b\b\b\b\b\b\b\b\b\b\b\b\b\b\b\b\b\b\b\b\b\b\b\b\b\b\b\b\b\b\b\b\b\b\b\b\b\b\b\b\b\b\b\b\b\b\b\b\b\b\b\b\b\b\b\b\b\b\b\b\b\b\b\b\b\b\b\b\b\b\b\b\b\b\b\b\b\b\b\b\b\b\b\b\b\b\b\b\b\b\b\b\b\b\b\b\b\b\b\b\b\b\b\b\b\b\b\b\b\b\b\b\b\b\b\b\b\b\b\b\b\b\b\b\b\b\b\b\b\b\b\b\b\b\b\b\b\b\b\b\b\b\b\b\b\b\b\b\b\b\b\b\b\b\b\b\b\b\b\b\b\b\b\b\b\b\b\b\b\b\b\b\b\b\b\b\b\b\b\b\b\b\b\b\b\b\b\b\b\b\b\b\b\b\b\b\b\b\b\b\b\b\b\b\b\b\b\b\b\b\b\b\b\b\b\b\b\b\b\b\b\b\b\b\b\b\b\b\b\b\b\b\b\b\b\b\b\b\b\b\b\b\b\b\b\b\b\b\b\b\b\b\b\b\b\b\b\b\b\b\b\b\b\b\b\b\b\b\b\b\b\b\b\b\b\b\b\b\b\b\b\b\b\b\b\b\b\b\b\b\b\b\b\b\b\b\b\b\b\b\b\b\b\b\b\b\b\b\b\b\b\b\b\b\b\b\b\b\b\b\b\b\b\b\b\b\b\b\b\b\b\b\b\b\b\b\b\b\b\b\b\b\b\b\b\b\b\b\b\b\b\b\b\b\b\b\b\b\b\b\b\b\b\b\b\b\b\b\b\b\b\b\b\b\b\b\b\b\b\b\b\b\b\b\b\b\b\b\b\b\b\b\b\b\b\b\b\b\b\b\b\b\b\b\b\b\b\b\b\b\b\b\b\b\b\b\b\b\b\b\b\b\b\b\b\b\b\b\b\b\b\b\b\b\b\b\b\b\b\b\b\b\b\b\b\b\b\b\b\b\b\b\b\b\b\b\b\b\b\b\b\b\b\b\b\b\b\b\b\b\b\b\b\b\b\b\b\b\b\b\b\b\b\b\b\b\b\b\b\b\b\b\b\b\b\b\b\b\b\b\b\b\b\b\b\b\b\b\b\b\b\b\b\b\b\b\b\b\b\b\b\b\b\b\b\b\b\b\b\b\b\b\b\b\b\b\b\b\b\b\b\b\b\b\b\b\b\b\b\b\b\b\b\b\b\b\b\b\b\b\b\b\b\b\b\b\b\b\b\b\b\b\b\b\b\b\b\b\b\b\b\b\b\b\b\b\b\b\b\b\b\b\b\b\b\b\b\b\b\b\b\b\b\b\b\b\b\b\b\b\b\b\b\b\b\b\b\b\b\b\b\b\b\b\b\b\b\b\b\b\b\b\b\b\b\b\b\b\b\b\b\b\b\b\b\b\b\b\b\b\b\b\b\b\b\b\b\b\b\b\b\b\b\b\b\b\b\b\b\b\b\b\b\b\b\b\b\b\b\b\b\b\b\b\b\b\b\b\b\b\b\b\b\b\b\b\b\b\b\b\b\b\b\b\b\b\b\b\b\b\b\b\b\b\b\b\b\b\b\b\b\b\b\b\b\b\b\b\b\b\b\b\b\b\b\b\b\b\b\b\b\b\b\b\b\b\b\b\b\b\b\b\b\b\b\b\b\b\b\b\b\b\b\b\b\b\b\b\b\b\b\b\b\b\b\b\b\b\b\b\b\b\b\b\b\b\b\b\b\b\b\b\b\b\b\b\b\b\b\b\b\b\b\b\b\b\b\b\b\b\b\b\b\b\b\b\b\b\b\b\b\b\b\b\b\b\b\b\b\b\b\b\b\b\b\b\b\b\b\b\b\b\b\b\b\b\b\b\b\b\b\b\b\b\b\b\b\b\b\b\b\b\b\b\b\b\b\b\b\b\b\b\b\b\b\b\b\b\b\b\b\b\b\b\b\b\b\b\b\b\b\b\b\b\b\b\b\b\b\b\b\b\b\b\b\b\b\b\b\b\b\b\b\b\b\b\b\b\b\b\b\b\b\b\b\b\b\b\b\b\b\b\b\b\b\b\b\b\b\b\b\b\b\b\b\b\b\b\b\b\b\b\b\b\b\b\b\b\b\b\b\b\b\b\b\b\b\b\b\b\b\b\b\b\b\b\b\b\b\b\b\b\b\b\b\b\b\b\b\b\b\b\b\b\b\b\b\b\b\b\b\b\b\b\b\b\b\b\b\b\b\b\b\b\b\b\b\b\b\b\b\b\b\b\b\b\b\b\b\b\b\b\b\b\b\b\b\b\b\b\b\b\b\b\b\b\b\b\b\b\b\b\b\b\b\b\b\b\b\b\b\b\b\b\b\b\b\b\b\b\b\b\b\b\b\b\b\b\b\b\b\b\b\b\b\b\b\b\b\b\b\b\b\b\b\b\b\b\b\b\b\b\b\b\b\b\b\b\b\b\b\b\b\b\b\b\b\b\b\b\b\b\b\b\b\b\b\b\b\b\b\b\b\b\b\b\b\b\b\b\b\b\b\b\b\b\b\b\b\b\b\b\b\b\b\b\b\b\b\b\b\b\b\b\b\b\b\b\b\b\b\b\b\b\b\b\b\b\b\b\b\b\b\b\b\b\b\b\b\b\b\b\b\b\b\b\b\b\b\b\b\b\b\b\b\b\b\b\b\b\b\b\b\b\b\b\b\b\b\b\b\b\b\b\b\b\b\b\b\b\b\b\b\b\b\b\b\b\b\b\b\b\b\b\b\b\b\b\b\b\b\b\b\b\b\b\b\b\b\b\b\b\b\b\b\b\b\b\b\b\b\b\b\b\b\b\b\b\b\b\b\b\b\b\b\b\b\b\b\b\b\b\b\b\b\b\b\b\b\b\b\b\b\b\b\b\b\b\b\b\b\b\b\b\b\b\b\b\b\b\b\b\b\b\b\b\b\b\b\b\b\b\b\b\b\b\b\b\b\b\b\b\b\b\b\b\b\b\b\b\b\b\b\b\b\b\b\b\b\b\b\b\b\b\b\b\b\b\b\b\b\b\b\b\b\b\b\b\b\b\b\b\b\b\b\b\b\b\b\b\b\b\b\b\b\b\b\b\b\b\b\b\b\b\b\b\b\b\b\b\b\b\b\b\b\b\b\b\b\b\b\b\b\b\b\b\b\b\b\b\b\b\b\b\b\b\b\b\b\b\b\b\b\b\b\b\b\b\b\b\b\b\b\b\b\b\b\b\b\b\b\b\b\b\b\b\b\b\b\b\b\b\b\b\b\b\b\b\b\b\b\b\b\b\b\b\b\b\b\b\b\b\b\b\b\b\b\b\b\b\b\b\b\b\b\b\b\b\b\b\b\b\b\b\b\b\b\b\b\b\b\b\b\b\b\b\b\b\b\b\b\b\b\b\b\b\b\b\b\b\b\b\b\b\b\b\b\b\b\b\b\b\b\b\b\b\b\b\b\b\b\b\b\b\b\b\b\b\b\b\b\b\b\b\b\b\b\b\b\b\b\b\b\b\b\b\b\b\b\b\b\b\b\b\b\b\b\b\b\b\b\b\b\b\b\b\b\b\b\b\b\b\b\b\b\b\b\b\b\b\b\b\b\b\b\b\b\b\b\b\b\b\b\b\b\b\b\b\b\b\b\b\b\b\b\b\b\b\b\b\b\b\b\b\b\b\b\b\b\b\b\b\b\b\b\b\b\b\b\b\b\b\b\b\b\b\b\b\b\b\b\b\b\b\b\b\b\b\b\b\b\b\b\b\b\b\b\b\b\b\b\b\b\b\b\b\b\b\b\b\b\b\b\b\b\b\b\b\b\b\b\b\b\b\b\b\b\b\b\b\b\b\b\b\b\b\b\b\b\b\b\b\b\b\b\b\b\b\b\b\b\b\b\b\b\b\b\b\b\b\b\b\b\b\b\b\b\b\b\b\b\b\b\b\b\b\b\b\b\b\b\b\b\b\b\b\b\b\b\b\b\b\b\b\b\b\b\b\b\b\b\b\b\b\b\b\b\b\b\b\b\b\b\b\b\b\b\b\b\b\b\b\b\b\b\b\b\b\b\b\b\b\b\b\b\b\b\b\b\b\b\b\b\b\b\b\b\b\b\b\b\b\b\b\b\b\b\b\b\b\b\b\b\b\b\b\b\b\b\b\b\b\b\b\b\b\b\b\b\b\b\b\b\b\b\b\b\b\b\b\b\b\b\b\b\b\b\b\b\b\b\b\b\b\b\b\b\b\b\b\b\b\b\b\b\b\b\b\b\b\b\b\b\b\b\b\b\b\b\b\b\b\b\b\b\b\b\b\b\b\b\b\b\b\b\b\b\b\b\b\b\b\b\b\b\b\b\b\b\b\b\b\b\b\b\b\b\b\b\b\b\b\b\b\b\b\b\b\b\b\b\b\b\b\b\b\b\b\b\b\b\b\b\b\b\b\b\b\b\b\b\b\b\b\b\b\b\b\b\b\b\b\b\b\b\b\b\b\b\b\b\b\b\b\b\b\b\b\b\b\b\b\b\b\b\b\b\b\b\b\b\b\b\b\b\b\b\b\b\b\b\b\b\b\b\b\b\b\b\b\b\b\b\b\b\b\b\b\b\b\b\b\b\b\b\b\b\b\b\b\b\b\b\b\b\b\b\b\b\b\b\b\b\b\b\b\b\b\b\b\b\b\b\b\b\b\b\b\b\b\b\b\b\b\b\b\b\b\b\b\b\b\b\b\b\b\b\b\b\b\b\b\b\b\b\b\b\b\b\b\b\b\b\b\b\b\b\b\b\b\b\b\b\b\b\b\b\b\b\b\b\b\b\b\b\b\b\b\b\b\b\b\b\b\b\b\b\b\b\b\b\b\b\b\b\b\b\b\b\b\b\b\b\b\b\b\b\b\b\b\b\b\b\b\b\b\b\b\b\b\b\b\b\b\b\b\b\b\b\b\b\b\b\b\b\b\b\b\b\b\b\b\b\b\b\b\b\b\b\b\b\b\b\b\b\b\b\b\b\b\b\b\b\b\b\b\b\b\b\b\b\b\b\b\b\b\b\b\b\b\b\b\b\b\b\b\b\b\b\b\b\b\b\b\b\b\b\b\b\b\b\b\b\b\b\b\b\b\b\b\b\b\b\b\b\b\b\b\b\b\b\b\b\b\b\b\b\b\b\b\b\b\b\b\b\b\b\b\b\b\b\b\b\b\b\b\b\b\b\b\b\b\b\b\b\b\b\b\b\b\b\b\b\b\b\b\b\b\b\b\b\b\b\b\b\b\b\b\b\b\b\b\b\b\b\b\b\b\b\b\b\b\b\b\b\b\b\b\b\b\b\b\b\b\b\b\b\b\b\b\b\b\b\b\b\b\b\b\b\b\b\b\b\b\b\b\b\b\b\b\b\b\b\b\b\b\b\b\b\b\b\b\b\b\b\b\b\b\b\b\b\b\b\b\b\b\b\b\b\b\b\b\b\b\b\b\b\b\b\b\b\b\b\b\b\b\b\b\b\b\b\b\b\b\b\b\b\b\b\b\b\b\b\b\b\b\b\b\b\b\b\b\b\b\b\b\b\b\b\b\b\b\b\b\b\b\b\b\b\b\b\b\b\b\b\b\b\b\b\b\b\b\b\b\b\b\b\b\b\b\b\b\b\b\b\b\b\b\b\b\b\b\b\b\b\b\b\b\b\b\b\b\b\b\b\b\b\b\b\b\b\b\b\b\b\b\b\b\b\b\b\b\b\b\b\b\b\b\b\b\b\b\b\b\b\b\b\b\b\b\b\b\b\b\b\b\b\b\b\b\b\b\b\b\b\b\b\b\b\b\b\b\b\b\b\b\b\b\b\b\b\b\b\b\b\b\b\b\b\b\b\b\b\b\b\b\b\b\b\b\b\b\b\b\b\b\b\b\b\b\b\b\b\b\b\b\b\b\b\b\b\b\b\b\b\b\b\b\b\b\b\b\b\b\b\b\b\b\b\b\b\b\b\b\b\b\b\b\b\b\b\b\b\b\b\b\b\b\b\b\b\b\b\b\b\b\b\b\b\b\b\b\b\b\b\b\b\b\b\b\b\b\b\b\b\b\b\b\b\b\b\b\b\b\b\b\b\b\b\b\b\b\b\b\b\b\b\b\b\b\b\b\b\b\b\b\b\b\b\b\b\b\b\b\b\b\b\b\b\b\b\b\b\b\b\b\b\b\b\b\b\b\b\b\b\b\b\b\b\b\b\b\b\b\b\b\b\b\b\b\b\b\b\b\b\b\b\b\b\b\b\b\b\b\b\b\b\b\b\b\b\b\b\b\b\b\b\b\b\b\b\b\b\b\b\b\b\b\b\b\b\b\b\b\b\b\b\b\b\b\b\b\b\b\b\b\b\b\b\b\b\b\b\b\b\b\b\b\b\b\b\b\b\b\b\b\b\b\b\b\b\b\b\b\b\b\b\b\b\b\b\b\b\b\b\b\b\b\b\b\b\b\b\b\b\b\b\b\b\b\b\b\b\b\b\b\b\b\b\b\b\b\b\b\b\b\b\b\b\b\b\b\b\b\b\b\b\b\b\b\b\b\b\b\b\b\b\b\b\b\b\b\b\b\b\b\b\b\b\b\b\b\b\b\b\b\b\b\b\b\b\b\b\b\b\b\b\b\b\b\b\b\b\b\b\b\b\b\b\b\b\b\b\b\b\b\b\b\b\b\b\b\b\b\b\b\b\b\b\b\b\b\b\b\b\b\b\b\b\b\b\b\b\b\b\b\b\b\b\b\b\b\b\b\b\b\b\b\b\b\b\b\b\b\b\b\b\b\b\b\b\b\b\b\b\b\b\b\b\b\b\b\b\b\b\b\b\b\b\b\b\b\b\b\b\b\b\b\b\b\b\b\b\b\b\b\b\b\b\b\b\b\b\b\b\b\b\b\b\b\b\b\b\b\b\b\b\b\b\b\b\b\b\b\b\b\b\b\b\b\b\b\b\b\b\b\b\b\b\b\b\b\b\b\b\b\b\b\b\b\b\b\b\b\b\b\b\b\b\b\b\b\b\b\b\b\b\b\b\b\b\b\b\b\b\b\b\b\b\b\b\b\b\b\b\b\b\b\b\b\b\b\b\b\b\b\b\b\b\b\b\b\b\b\b\b\b\b\b\b\b\b\b\b\b\b\b\b\b\b\b\b\b\b\b\b\b\b\b\b\b\b\b\b\b\b\b\b\b\b\b\b\b\b\b\b\b\b\b\b\b\b\b\b\b\b\b\b\b\b\b\b\b\b\b\b\b\b\b\b\b\b\b\b\b\b\b\b\b\b\b\b\b\b\b\b\b\b\b\b\b\b\b\b\b\b\b\b\b\b\b\b\b\b\b\b\b\b\b\b\b\b\b\b\b\b\b\b\b\b\b\b\b\b\b\b\b\b\b\b\b\b\b\b\b\b\b\b\b\b\b\b\b\b\b\b\b\b\b\b\b\b\b\b\b\b\b\b\b\b\b\b\b\b\b\b\b\b\b\b\b\b\b\b\b\b\b\b\b\b\b\b\b\b\b\b\b\b\b\b\b\b\b\b\b\b\b\b\b\b\b\b\b\b\b\b\b\b\b\b\b\b\b\b\b\b\b\b\b\b\b\b\b\b\b\b\b\b\b\b\b\b\b\b\b\b\b\b\b\b\b\b\b\b\b\b\b\b\b\b\b\b\b\b\b\b\b\b\b\b\b\b\b\b\b\b\b\b\b\b\b\b\b\b\b\b\b\b\b\b\b\b\b\b\b\b\b\b\b\b\b\b\b\b\b\b\b\b\b\b\b\b\b\b\b\b\b\b\b\b\b\b\b\b\b\b\b\b\b\b\b\b\b\b\b\b\b\b\b\b\b\b\b\b\b\b\b\b\b\b\b\b\b\b\b\b\b\b\b\b\b\b\b\b\b\b\b\b\b\b\b\b\b\b\b\b\b\b\b\b\b\b\b\b\b\b\b\b\b\b\b\b\b\b\b\b\b\b\b\b\b\b\b\b\b\b\b\b\b\b\b\b\b\b\b\b\b\b\b\b\b\b\b\b\b\b\b\b\b\b\b\b\b\b\b\b\b\b\b\b\b\b\b\b\b\b\b\b\b\b\b\b\b\b\b\b\b\b\b\b\b\b\b\b\b\b\b\b\b\b\b\b\b\b\b\b\b\b\b\b\b\b\b\b\b\b\b\b\b\b\b\b\b\b\b\b\b\b\b\b\b\b\b\b\b\b\b\b\b\b\b\b\b\b\b\b\b\b\b\b\b\b\b\b\b\b\b\b\b\b\b\b\b\b\b\b\b\b\b\b\b\b\b\b\b\b\b\b\b\b\b\b\b\b\b\b\b\b\b\b\b\b\b\b\b\b\b\b\b\b\b\b\b\b\b\b\b\b\b\b\b\b\b\b\b\b\b\b\b\b\b\b\b\b\b\b\b\b\b\b\b\b\b\b\b\b\b\b\b\b\b\b\b\b\b\b\b\b\b\b\b\b\b\b\b\b\b\b\b\b\b\b\b\b\b\b\b\b\b\b\b\b\b\b\b\b\b\b\b\b\b\b\b\b\b\b\b\b\b\b\b\b\b\b\b\b\b\b\b\b\b\b\b\b\b\b\b\b\b\b\b\b\b\b\b\b\b\b\b\b\b\b\b\b\b\b\b\b\b\b\b\b\b\b\b\b\b\b\b\b\b\b\b\b\b\b\b\b\b\b\b\b\b\b\b\b\b\b\b\b\b\b\b\b\b\b\b\b\b\b\b\b\b\b\b\b\b\b\b\b\b\b\b\b\b\b\b\b\b\b\b\b\b\b\b\b\b\b\b\b\b\b\b\b\b\b\b\b\b\b\b\b\b\b\b\b\b\b\b\b\b\b\b\b\b\b\b\b\b\b\b\b\b\b\b\b\b\b\b\b\b\b\b\b\b\b\b\b\b\b\b\b\b\b\b\b\b\b\b\b\b\b\b\b\b\b\b\b\b\b\b\b\b\b\b\b\b\b\b\b\b\b\b\b\b\b\b\b\b\b\b\b\b\b\b\b\b\b\b\b\b\b\b\b\b\b\b\b\b\b\b\b\b\b\b\b\b\b\b\b\b\b\b\b\b\b\b\b\b\b\b\b\b\b\b\b\b\b\b\b\b\b\b\b\b\b\b\b\b\b\b\b\b\b\b\b\b\b\b\b\b\b\b\b\b\b\b\b\b\b\b\b\b\b\b\b\b\b\b\b\b\b\b\b\b\b\b\b\b\b\b\b\b\b\b\b\b\b\b\b\b\b\b\b\b\b\b\b\b\b\b\b\b\b\b\b\b\b\b\b\b\b\b\b\b\b\b\b\b\b\b\b\b\b\b\b\b\b\b\b\b\b\b\b\b\b\b\b\b\b\b\b\b\b\b\b\b\b\b\b\b\b\b\b\b\b\b\b\b\b\b\b\b\b\b\b\b\b\b\b\b\b\b\b\b\b\b\b\b\b\b\b\b\b\b\b\b\b\b\b\b\b\b\b\b\b\b\b\b\b\b\b\b\b\b\b\b\b\b\b\b\b\b\b\b\b\b\b\b\b\b\b\b\b\b\b\b\b\b\b\b\b\b\b\b\b\b\b\b\b\b\b\b\b\b\b\b\b\b\b\b\b\b\b\b\b\b\b\b\b\b\b\b\b\b\b\b\b\b\b\b\b\b\b\b\b\b\b\b\b\b\b\b\b\b\b\b\b\b\b\b\b\b\b\b\b\b\b\b\b\b\b\b\b\b\b\b\b\b\b\b\b\b\b\b\b\b\b\b\b\b\b\b\b\b\b\b\b\b\b\b\b\b\b\b\b\b\b\b\b\b\b\b\b\b\b\b\b\b\b\b\b\b\b\b\b\b\b\b\b\b\b\b\b\b\b\b\b\b\b\b\b\b\b\b\b\b\b\b\b\b\b\b\b\b\b\b\b\b\b\b\b\b\b\b\b\b\b\b\b\b\b\b\b\b\b\b\b\b\b\b\b\b\b\b\b\b\b\b\b\b\b\b\b\b\b\b\b\b\b\b\b\b\b\b\b\b\b\b\b\b\b\b\b\b\b\b\b\b\b\b\b\b\b\b\b\b\b\b\b\b\b\b\b\b\b\b\b\b\b\b\b\b\b\b\b\b\b\b\b\b\b\b\b\b\b\b\b\b\b\b\b\b\b\b\b\b\b\b\b\b\b\b\b\b\b\b\b\b\b\b\b\b\b\b\b\b\b\b\b\b\b\b\b\b\b\b\b\b\b\b\b\b\b\b\b\b\b\b\b\b\b\b\b\b\b\b\b\b\b\b\b\b\b\b\b\b\b\b\b\b\b\b\b\b\b\b\b\b\b\b\b\b\b\b\b\b\b\b\b\b\b\b\b\b\b\b\b\b\b\b\b\b\b\b\b\b\b\b\b\b\b\b\b\b\b\b\b\b\b\b\b\b\b\b\b\b\b\b\b\b\b\b\b\b\b\b\b\b\b\b\b\b\b\b\b\b\b\b\b\b\b\b\b\b\b\b\b\b\b\b\b\b\b\b\b\b\b\b\b\b\b\b\b\b\b\b\b\b\b\b\b\b\b\b\b\b\b\b\b\b\b\b\b\b\b\b\b\b\b\b\b\b\b\b\b\b\b\b\b\b\b\b\b\b\b\b\b\b\b\b\b\b\b\b\b\b\b\b\b\b\b\b\b\b\b\b\b\b\b\b\b\b\b\b\b\b\b\b\b\b\b\b\b\b\b\b\b\b\b\b\b\b\b\b\b\b\b\b\b\b\b\b\b\b\b\b\b\b\b\b\b\b\b\b\b\b\b\b\b\b\b\b\b\b\b\b\b\b\b\b\b\b\b\b\n",
      "Epoch 4/40\n",
      "223/223 [==============================] - 53s 236ms/step - loss: 0.2502 - accuracy: 0.9175 - val_loss: 0.4972 - val_accuracy: 0.8433\b\b\b\b\b\b\b\b\b\b\b\b\b\b\b\b\b\b\b\b\b\b\b\b\b\b\b\b\b\b\b\b\b\b\b\b\b\b\b\b\b\b\b\b\b\b\b\b\b\b\b\b\b\b\b\b\b\b\b\b\b\b\b\b\b\b\b\b\b\b\b\b\b\b\b\b\b\b\b\b\b\b\b\b\b\b\b\b\b\b\b\b\b\b\b\b\b\b\b\b\b\b\b\b\b\b\b\b\b\b\b\b\b\b\b\b\b\b\b\b\b\b\b\b\b\b\b\b\b\b\b\b\b\b\b\b\b\b\b\b\b\b\b\b\b\b\b\b\b\b\b\b\b\b\b\b\b\b\b\b\b\b\b\b\b\b\b\b\b\b\b\b\b\b\b\b\b\b\b\b\b\b\b\b\b\b\b\b\b\b\b\b\b\b\b\b\b\b\b\b\b\b\b\b\b\b\b\b\b\b\b\b\b\b\b\b\b\b\b\b\b\b\b\b\b\b\b\b\b\b\b\b\b\b\b\b\b\b\b\b\b\b\b\b\b\b\b\b\b\b\b\b\b\b\b\b\b\b\b\b\b\b\b\b\b\b\b\b\b\b\b\b\b\b\b\b\b\b\b\b\b\b\b\b\b\b\b\b\b\b\b\b\b\b\b\b\b\b\b\b\b\b\b\b\b\b\b\b\b\b\b\b\b\b\b\b\b\b\b\b\b\b\b\b\b\b\b\b\b\b\b\b\b\b\b\b\b\b\b\b\b\b\b\b\b\b\b\b\b\b\b\b\b\b\b\b\b\b\b\b\b\b\b\b\b\b\b\b\b\b\b\b\b\b\b\b\b\b\b\b\b\b\b\b\b\b\b\b\b\b\b\b\b\b\b\b\b\b\b\b\b\b\b\b\b\b\b\b\b\b\b\b\b\b\b\b\b\b\b\b\b\b\b\b\b\b\b\b\b\b\b\b\b\b\b\b\b\b\b\b\b\b\b\b\b\b\b\b\b\b\b\b\b\b\b\b\b\b\b\b\b\b\b\b\b\b\b\b\b\b\b\b\b\b\b\b\b\b\b\b\b\b\b\b\b\b\b\b\b\b\b\b\b\b\b\b\b\b\b\b\b\b\b\b\b\b\b\b\b\b\b\b\b\b\b\b\b\b\b\b\b\b\b\b\b\b\b\b\b\b\b\b\b\b\b\b\b\b\b\b\b\b\b\b\b\b\b\b\b\b\b\b\b\b\b\b\b\b\b\b\b\b\b\b\b\b\b\b\b\b\b\b\b\b\b\b\b\b\b\b\b\b\b\b\b\b\b\b\b\b\b\b\b\b\b\b\b\b\b\b\b\b\b\b\b\b\b\b\b\b\b\b\b\b\b\b\b\b\b\b\b\b\b\b\b\b\b\b\b\b\b\b\b\b\b\b\b\b\b\b\b\b\b\b\b\b\b\b\b\b\b\b\b\b\b\b\b\b\b\b\b\b\b\b\b\b\b\b\b\b\b\b\b\b\b\b\b\b\b\b\b\b\b\b\b\b\b\b\b\b\b\b\b\b\b\b\b\b\b\b\b\b\b\b\b\b\b\b\b\b\b\b\b\b\b\b\b\b\b\b\b\b\b\b\b\b\b\b\b\b\b\b\b\b\b\b\b\b\b\b\b\b\b\b\b\b\b\b\b\b\b\b\b\b\b\b\b\b\b\b\b\b\b\b\b\b\b\b\b\b\b\b\b\b\b\b\b\b\b\b\b\b\b\b\b\b\b\b\b\b\b\b\b\b\b\b\b\b\b\b\b\b\b\b\b\b\b\b\b\b\b\b\b\b\b\b\b\b\b\b\b\b\b\b\b\b\b\b\b\b\b\b\b\b\b\b\b\b\b\b\b\b\b\b\b\b\b\b\b\b\b\b\b\b\b\b\b\b\b\b\b\b\b\b\b\b\b\b\b\b\b\b\b\b\b\b\b\b\b\b\b\b\b\b\b\b\b\b\b\b\b\b\b\b\b\b\b\b\b\b\b\b\b\b\b\b\b\b\b\b\b\b\b\b\b\b\b\b\b\b\b\b\b\b\b\b\b\b\b\b\b\b\b\b\b\b\b\b\b\b\b\b\b\b\b\b\b\b\b\b\b\b\b\b\b\b\b\b\b\b\b\b\b\b\b\b\b\b\b\b\b\b\b\b\b\b\b\b\b\b\b\b\b\b\b\b\b\b\b\b\b\b\b\b\b\b\b\b\b\b\b\b\b\b\b\b\b\b\b\b\b\b\b\b\b\b\b\b\b\b\b\b\b\b\b\b\b\b\b\b\b\b\b\b\b\b\b\b\b\b\b\b\b\b\b\b\b\b\b\b\b\b\b\b\b\b\b\b\b\b\b\b\b\b\b\b\b\b\b\b\b\b\b\b\b\b\b\b\b\b\b\b\b\b\b\b\b\b\b\b\b\b\b\b\b\b\b\b\b\b\b\b\b\b\b\b\b\b\b\b\b\b\b\b\b\b\b\b\b\b\b\b\b\b\b\b\b\b\b\b\b\b\b\b\b\b\b\b\b\b\b\b\b\b\b\b\b\b\b\b\b\b\b\b\b\b\b\b\b\b\b\b\b\b\b\b\b\b\b\b\b\b\b\b\b\b\b\b\b\b\b\b\b\b\b\b\b\b\b\b\b\b\b\b\b\b\b\b\b\b\b\b\b\b\b\b\b\b\b\b\b\b\b\b\b\b\b\b\b\b\b\b\b\b\b\b\b\b\b\b\b\b\b\b\b\b\b\b\b\b\b\b\b\b\b\b\b\b\b\b\b\b\b\b\b\b\b\b\b\b\b\b\b\b\b\b\b\b\b\b\b\b\b\b\b\b\b\b\b\b\b\b\b\b\b\b\b\b\b\b\b\b\b\b\b\b\b\b\b\b\b\b\b\b\b\b\b\b\b\b\b\b\b\b\b\b\b\b\b\b\b\b\b\b\b\b\b\b\b\b\b\b\b\b\b\b\b\b\b\b\b\b\b\b\b\b\b\b\b\b\b\b\b\b\b\b\b\b\b\b\b\b\b\b\b\b\b\b\b\b\b\b\b\b\b\b\b\b\b\b\b\b\b\b\b\b\b\b\b\b\b\b\b\b\b\b\b\b\b\b\b\b\b\b\b\b\b\b\b\b\b\b\b\b\b\b\b\b\b\b\b\b\b\b\b\b\b\b\b\b\b\b\b\b\b\b\b\b\b\b\b\b\b\b\b\b\b\b\b\b\b\b\b\b\b\b\b\b\b\b\b\b\b\b\b\b\b\b\b\b\b\b\b\b\b\b\b\b\b\b\b\b\b\b\b\b\b\b\b\b\b\b\b\b\b\b\b\b\b\b\b\b\b\b\b\b\b\b\b\b\b\b\b\b\b\b\b\b\b\b\b\b\b\b\b\b\b\b\b\b\b\b\b\b\b\b\b\b\b\b\b\b\b\b\b\b\b\b\b\b\b\b\b\b\b\b\b\b\b\b\b\b\b\b\b\b\b\b\b\b\b\b\b\b\b\b\b\b\b\b\b\b\b\b\b\b\b\b\b\b\b\b\b\b\b\b\b\b\b\b\b\b\b\b\b\b\b\b\b\b\b\b\b\b\b\b\b\b\b\b\b\b\b\b\b\b\b\b\b\b\b\b\b\b\b\b\b\b\b\b\b\b\b\b\b\b\b\b\b\b\b\b\b\b\b\b\b\b\b\b\b\b\b\b\b\b\b\b\b\b\b\b\b\b\b\b\b\b\b\b\b\b\b\b\b\b\b\b\b\b\b\b\b\b\b\b\b\b\b\b\b\b\b\b\b\b\b\b\b\b\b\b\b\b\b\b\b\b\b\b\b\b\b\b\b\b\b\b\b\b\b\b\b\b\b\b\b\b\b\b\b\b\b\b\b\b\b\b\b\b\b\b\b\b\b\b\b\b\b\b\b\b\b\b\b\b\b\b\b\b\b\b\b\b\b\b\b\b\b\b\b\b\b\b\b\b\b\b\b\b\b\b\b\b\b\b\b\b\b\b\b\b\b\b\b\b\b\b\b\b\b\b\b\b\b\b\b\b\b\b\b\b\b\b\b\b\b\b\b\b\b\b\b\b\b\b\b\b\b\b\b\b\b\b\b\b\b\b\b\b\b\b\b\b\b\b\b\b\b\b\b\b\b\b\b\b\b\b\b\b\b\b\b\b\b\b\b\b\b\b\b\b\b\b\b\b\b\b\b\b\b\b\b\b\b\b\b\b\b\b\b\b\b\b\b\b\b\b\b\b\b\b\b\b\b\b\b\b\b\b\b\b\b\b\b\b\b\b\b\b\b\b\b\b\b\b\b\b\b\b\b\b\b\b\b\b\b\b\b\b\b\b\b\b\b\b\b\b\b\b\b\b\b\b\b\b\b\b\b\b\b\b\b\b\b\b\b\b\b\b\b\b\b\b\b\b\b\b\b\b\b\b\b\b\b\b\b\b\b\b\b\b\b\b\b\b\b\b\b\b\b\b\b\b\b\b\b\b\b\b\b\b\b\b\b\b\b\b\b\b\b\b\b\b\b\b\b\b\b\b\b\b\b\b\b\b\b\b\b\b\b\b\b\b\b\b\b\b\b\b\b\b\b\b\b\b\b\b\b\b\b\b\b\b\b\b\b\b\b\b\b\b\b\b\b\b\b\b\b\b\b\b\b\b\b\b\b\b\b\b\b\b\b\b\b\b\b\b\b\b\b\b\b\b\b\b\b\b\b\b\b\b\b\b\b\b\b\b\b\b\b\b\b\b\b\b\b\b\b\b\b\b\b\b\b\b\b\b\b\b\b\b\b\b\b\b\b\b\b\b\b\b\b\b\b\b\b\b\b\b\b\b\b\b\b\b\b\b\b\b\b\b\b\b\b\b\b\b\b\b\b\b\b\b\b\b\b\b\b\b\b\b\b\b\b\b\b\b\b\b\b\b\b\b\b\b\b\b\b\b\b\b\b\b\b\b\b\b\b\b\b\b\b\b\b\b\b\b\b\b\b\b\b\b\b\b\b\b\b\b\b\b\b\b\b\b\b\b\b\b\b\b\b\b\b\b\b\b\b\b\b\b\b\b\b\b\b\b\b\b\b\b\b\b\b\b\b\b\b\b\b\b\b\b\b\b\b\b\b\b\b\b\b\b\b\b\b\b\b\b\b\b\b\b\b\b\b\b\b\b\b\b\b\b\b\b\b\b\b\b\b\b\b\b\b\b\b\b\b\b\b\b\b\b\b\b\b\b\b\b\b\b\b\b\b\b\b\b\b\b\b\b\b\b\b\b\b\b\b\b\b\b\b\b\b\b\b\b\b\b\b\b\b\b\b\b\b\b\b\b\b\b\b\b\b\b\b\b\b\b\b\b\b\b\b\b\b\b\b\b\b\b\b\b\b\b\b\b\b\b\b\b\b\b\b\b\b\b\b\b\b\b\b\b\b\b\b\b\b\b\b\b\b\b\b\b\b\b\b\b\b\b\b\b\b\b\b\b\b\b\b\b\b\b\b\b\b\b\b\b\b\b\b\b\b\b\b\b\b\b\b\b\b\b\b\b\b\b\b\b\b\b\b\b\b\b\b\b\b\b\b\b\b\b\b\b\b\b\b\b\b\b\b\b\b\b\b\b\b\b\b\b\b\b\b\b\b\b\b\b\b\b\b\b\b\b\b\b\b\b\b\b\b\b\b\b\b\b\b\b\b\b\b\b\b\b\b\b\b\b\b\b\b\b\b\b\b\b\b\b\b\b\b\b\b\b\b\b\b\b\b\b\b\b\b\b\b\b\b\b\b\b\b\b\b\b\b\b\b\b\b\b\b\b\b\b\b\b\b\b\b\b\b\b\b\b\b\b\b\b\b\b\b\b\b\b\b\b\b\b\b\b\b\b\b\b\b\b\b\b\b\b\b\b\b\b\b\b\b\b\b\b\b\b\b\b\b\b\b\b\b\b\b\b\b\b\b\b\b\b\b\b\b\b\b\b\b\b\b\b\b\b\b\b\b\b\b\b\b\b\b\b\b\b\b\b\b\b\b\b\b\b\b\b\b\b\b\b\b\b\b\b\b\b\b\b\b\b\b\b\b\b\b\b\b\b\b\b\b\b\b\b\b\b\b\b\b\b\b\b\b\b\b\b\b\b\b\b\b\b\b\b\b\b\b\b\b\b\b\b\b\b\b\b\b\b\b\b\b\b\b\b\b\b\b\b\b\b\b\b\b\b\b\b\b\b\b\b\b\b\b\b\b\b\b\b\b\b\b\b\b\b\b\b\b\b\b\b\b\b\b\b\b\b\b\b\b\b\b\b\b\b\b\b\b\b\b\b\b\b\b\b\b\b\b\b\b\b\b\b\b\b\b\b\b\b\b\b\b\b\b\b\b\b\b\b\b\b\b\b\b\b\b\b\b\b\b\b\b\b\b\b\b\b\b\b\b\b\b\b\b\b\b\b\b\b\b\b\b\b\b\b\b\b\b\b\b\b\b\b\b\b\b\b\b\b\b\b\b\b\b\b\b\b\b\b\b\b\b\b\b\b\b\b\b\b\b\b\b\b\b\b\b\b\b\b\b\b\b\b\b\b\b\b\b\b\b\b\b\b\b\b\b\b\b\b\b\b\b\b\b\b\b\b\b\b\b\b\b\b\b\b\b\b\b\b\b\b\b\b\b\b\b\b\b\b\b\b\b\b\b\b\b\b\b\b\b\b\b\b\b\b\b\b\b\b\b\b\b\b\b\b\b\b\b\b\b\b\b\b\b\b\b\b\b\b\b\b\b\b\b\b\b\b\b\b\b\b\b\b\b\b\b\b\b\b\b\b\b\b\b\b\b\b\b\b\b\b\b\b\b\b\b\b\b\b\b\b\b\b\b\b\b\b\b\b\b\b\b\b\b\b\b\b\b\b\b\b\b\b\b\b\b\b\b\b\b\b\b\b\b\b\b\b\b\b\b\b\b\b\b\b\b\b\b\b\b\b\b\b\b\b\b\b\b\b\b\b\b\b\b\b\b\b\b\b\b\b\b\b\b\b\b\b\b\b\b\b\b\b\b\b\b\b\b\b\b\b\b\b\b\b\b\b\b\b\b\b\b\b\b\b\b\b\b\b\b\b\b\b\b\b\b\b\b\b\b\b\b\b\b\b\b\b\b\b\b\b\b\b\b\b\b\b\b\b\b\b\b\b\b\b\b\b\b\b\b\b\b\b\b\b\b\b\b\b\b\b\b\b\b\b\b\b\b\b\b\b\b\b\b\b\b\b\b\b\b\b\b\b\b\b\b\b\b\b\b\b\b\b\b\b\b\b\b\b\b\b\b\b\b\b\b\b\b\b\b\b\b\b\b\b\b\b\b\b\b\b\b\b\b\b\b\b\b\b\b\b\b\b\b\b\b\b\b\b\b\b\b\b\b\b\b\b\b\b\b\b\b\b\b\b\b\b\b\b\b\b\b\b\b\b\b\b\b\b\b\b\b\b\b\b\b\b\b\b\b\b\b\b\b\b\b\b\b\b\b\b\b\b\b\b\b\b\b\b\b\b\b\b\b\b\b\b\b\b\b\b\b\b\b\b\b\b\b\b\b\b\b\b\b\b\b\b\b\b\b\b\b\b\b\b\b\b\b\b\b\b\b\b\b\b\b\b\b\b\b\b\b\b\b\b\b\b\b\b\b\b\b\b\b\b\b\b\b\b\b\b\b\b\b\b\b\b\b\b\b\b\b\b\b\b\b\b\b\b\b\b\b\b\b\b\b\b\b\b\b\b\b\b\b\b\b\b\b\b\b\b\b\b\b\b\b\b\b\b\b\b\b\b\b\b\b\b\b\b\b\b\b\b\b\b\b\b\b\b\b\b\b\b\b\b\b\b\b\b\b\b\b\b\b\b\b\b\b\b\b\b\b\b\b\b\b\b\b\b\b\b\b\b\b\b\b\b\b\b\b\b\b\b\b\b\b\b\b\b\b\b\b\b\b\b\b\b\b\b\b\b\b\b\b\b\b\b\b\b\b\b\b\b\b\b\b\b\b\b\b\b\b\b\b\b\b\b\b\b\b\b\b\b\b\b\b\b\b\b\b\b\b\b\b\b\b\b\b\b\b\b\b\b\b\b\b\b\b\b\b\b\b\b\b\b\b\b\b\b\b\b\b\b\b\b\b\b\b\b\b\b\b\b\b\b\b\b\b\b\b\b\b\b\b\b\b\b\b\b\b\b\b\b\b\b\b\b\b\b\b\b\b\b\b\b\b\b\b\b\b\b\b\b\b\b\b\b\b\b\b\b\b\b\b\b\b\b\b\b\b\b\b\b\b\b\b\b\b\b\b\b\b\b\b\b\b\b\b\b\b\b\b\b\b\b\b\b\b\b\b\b\b\b\b\b\b\b\b\b\b\b\b\b\b\b\b\b\b\b\b\b\b\b\b\b\b\b\b\b\b\b\b\b\b\b\b\b\b\b\b\b\b\b\b\b\b\b\b\b\b\b\b\b\b\b\b\b\b\b\b\b\b\b\b\b\b\b\b\b\b\b\b\b\b\b\b\b\b\b\b\b\b\b\b\b\b\b\b\b\b\b\b\b\b\b\b\b\b\b\b\b\b\b\b\b\b\b\b\b\b\b\b\b\b\b\b\b\b\b\b\b\b\b\b\b\b\b\b\b\b\b\b\b\b\b\b\b\b\b\b\b\b\b\b\b\b\b\b\b\b\b\b\b\b\b\b\b\b\b\b\b\b\b\b\b\b\b\b\b\b\b\b\b\b\b\b\b\b\b\b\b\b\b\b\b\b\b\b\b\b\b\b\b\b\b\b\b\b\b\b\b\b\b\b\b\b\b\b\b\b\b\b\b\b\b\b\b\b\b\b\b\b\b\b\b\b\b\b\b\b\b\b\b\b\b\b\b\b\b\b\b\b\b\b\b\b\b\b\b\b\b\b\b\b\b\b\b\b\b\b\b\b\b\b\b\b\b\b\b\b\b\b\b\b\b\b\b\b\b\b\b\b\b\b\b\b\b\b\b\b\b\b\b\b\b\b\b\b\b\b\b\b\b\b\b\b\b\b\b\b\b\b\b\b\b\b\b\b\b\b\b\b\b\b\b\b\b\b\b\b\b\b\b\b\b\b\b\b\b\b\b\b\b\b\b\b\b\b\b\b\b\b\b\b\b\b\b\b\b\b\b\b\b\b\b\b\b\b\b\b\b\b\b\b\b\b\b\b\b\b\b\b\b\b\b\b\b\b\b\b\b\b\b\b\b\b\b\b\b\b\b\b\b\b\b\b\b\b\b\b\b\b\b\b\b\b\b\b\b\b\b\b\b\b\b\b\b\b\b\b\b\b\b\b\b\b\b\b\b\b\b\b\b\b\b\b\b\b\b\b\b\b\b\b\b\b\b\b\b\b\b\b\b\b\b\b\b\b\b\b\b\b\b\b\b\b\b\b\b\b\b\b\b\b\b\b\b\b\b\b\b\b\b\b\b\b\b\b\b\b\b\b\b\b\b\b\b\b\b\b\b\b\b\b\b\b\b\b\b\b\b\b\b\b\b\b\b\b\b\b\b\b\b\b\b\b\b\b\b\b\b\b\b\b\b\b\b\b\b\b\b\b\b\b\b\b\b\b\b\b\b\b\b\b\b\b\b\b\b\b\b\b\b\b\b\b\b\b\b\b\b\b\b\b\b\b\b\b\b\b\b\b\b\b\b\b\b\b\b\b\b\b\b\b\b\b\b\b\b\b\b\b\b\b\b\b\b\b\b\b\b\b\b\b\b\b\b\b\b\b\b\b\b\b\b\b\b\b\b\b\b\b\b\b\b\b\b\b\b\b\b\b\b\b\b\b\b\b\b\b\b\b\b\b\b\b\b\b\b\b\b\b\b\b\b\b\b\b\b\b\b\b\b\b\b\b\b\b\b\b\b\b\b\b\b\b\b\b\b\b\b\b\b\b\b\b\b\b\b\b\b\b\b\b\b\b\b\b\b\b\b\b\b\b\b\b\b\b\b\b\b\b\b\b\b\b\b\b\b\b\b\b\b\b\b\b\b\b\b\b\b\b\b\b\b\b\b\b\b\b\b\b\b\b\b\b\b\b\b\b\b\b\b\b\b\b\b\b\b\b\b\b\b\b\b\b\b\b\b\b\b\b\b\b\b\b\b\b\b\b\b\b\b\b\b\b\b\b\b\b\b\b\b\b\b\b\b\b\b\b\b\b\b\b\b\b\b\b\b\b\b\b\b\b\b\b\b\b\b\b\b\b\b\b\b\b\b\b\b\b\b\b\b\b\b\b\b\b\b\b\b\b\b\b\b\b\b\b\b\b\b\b\b\b\b\b\b\b\b\b\b\b\b\b\b\b\b\b\b\b\b\b\b\b\b\b\b\b\b\b\b\b\b\b\b\b\b\b\b\b\b\b\b\b\b\b\b\b\b\b\b\b\b\b\b\b\b\b\b\b\b\b\b\b\b\b\b\b\b\b\b\b\b\b\b\b\b\b\b\b\b\b\b\b\b\b\b\b\b\b\b\b\b\b\b\b\b\b\b\b\b\b\b\b\b\b\b\b\b\b\b\b\b\b\b\b\b\b\b\b\b\b\b\b\b\b\b\b\b\b\b\b\b\b\b\b\b\b\b\b\b\b\b\b\b\b\b\b\b\b\b\b\b\b\b\b\b\b\b\b\b\b\b\b\b\b\b\b\b\b\b\b\b\b\b\b\b\b\b\b\b\b\b\b\b\b\b\b\b\b\b\b\b\b\b\b\b\b\b\b\b\b\b\b\b\b\b\b\b\b\b\b\b\b\b\b\b\b\b\b\b\b\b\b\b\b\b\b\b\b\b\b\b\b\b\b\b\b\b\b\b\b\b\b\b\b\b\b\b\b\b\b\b\b\b\b\b\b\b\b\b\b\b\b\b\b\b\b\b\b\b\b\b\b\b\b\b\b\b\b\b\b\b\b\b\b\b\b\b\b\b\b\b\b\b\b\b\b\b\b\b\b\b\b\b\b\b\b\b\b\b\b\b\b\b\b\b\b\b\b\b\b\b\b\b\b\b\b\b\b\b\b\b\b\b\b\b\b\b\b\b\b\b\b\b\b\b\b\b\b\b\b\b\b\b\b\b\b\b\b\b\b\b\b\b\b\b\b\b\b\b\b\b\b\b\b\b\b\b\b\b\b\b\b\b\b\b\b\b\b\b\b\b\b\b\b\b\b\b\b\b\b\b\b\b\b\b\b\b\b\b\b\b\b\b\b\b\b\b\b\b\b\b\b\b\b\b\b\b\b\b\b\b\b\b\b\b\b\b\b\b\b\b\b\b\b\b\b\b\b\b\b\b\b\b\b\b\b\b\b\b\b\b\b\b\b\b\b\b\b\b\b\b\b\b\b\b\b\b\b\b\b\b\b\b\b\b\b\b\b\b\b\b\b\b\b\b\b\b\b\b\b\b\b\b\b\b\b\b\b\b\b\b\b\b\b\b\b\b\b\b\b\b\b\b\b\b\b\b\b\b\b\b\b\b\b\b\b\b\b\b\b\b\b\b\b\b\b\b\b\b\b\b\b\b\b\b\b\b\b\b\b\b\b\b\b\b\b\b\b\b\b\b\b\b\b\b\b\b\b\b\b\b\b\b\b\b\b\b\b\b\b\b\b\b\b\b\b\b\b\b\b\b\b\b\b\b\b\b\b\b\b\b\b\b\b\b\b\b\b\b\b\b\b\b\b\b\b\b\b\b\b\b\b\b\b\b\b\b\b\b\b\b\b\b\b\b\b\b\b\b\b\b\b\b\b\b\b\b\b\b\b\b\b\b\b\b\b\b\b\b\b\b\b\b\b\b\b\b\b\b\b\b\b\b\b\b\b\b\b\b\b\b\b\b\b\b\b\b\b\b\b\b\b\b\b\b\b\b\b\b\b\b\b\b\b\b\b\b\b\b\b\b\b\b\b\b\b\b\b\b\b\b\b\b\b\b\b\b\b\b\b\b\b\b\b\b\b\b\b\b\b\b\b\b\b\b\b\b\b\b\b\b\b\b\b\b\b\b\b\b\b\b\b\b\b\b\b\b\b\b\b\b\b\b\b\b\b\b\b\b\b\b\b\b\b\b\b\b\b\b\b\b\b\b\b\b\b\b\b\b\b\b\b\b\b\b\b\b\b\b\b\b\b\b\b\b\b\b\b\b\b\b\b\b\b\b\b\b\b\b\b\b\b\b\b\b\b\b\b\b\b\b\b\b\b\b\b\b\b\b\b\b\b\b\b\b\b\b\b\b\b\b\b\b\b\b\b\b\b\b\b\b\b\b\b\b\b\b\b\b\b\b\b\b\b\b\b\b\b\b\b\b\b\b\b\b\b\b\b\b\b\b\b\b\b\b\b\b\b\b\b\b\b\b\b\b\b\b\b\b\b\b\b\b\b\b\b\b\b\b\b\b\b\b\b\b\b\b\b\b\b\b\b\b\b\b\b\b\b\b\b\b\b\b\b\b\b\b\b\b\b\b\b\b\b\b\b\b\b\b\b\b\b\b\b\b\b\b\b\b\b\b\b\b\b\b\b\b\b\b\b\b\b\b\b\b\b\b\b\b\b\b\b\b\b\b\b\b\b\b\b\b\b\b\b\b\b\b\b\b\b\b\b\b\b\b\b\b\b\b\b\b\b\b\b\b\b\b\b\b\b\b\b\b\b\b\b\b\b\b\b\b\b\b\b\b\b\b\b\b\b\b\b\b\b\b\b\b\b\b\b\b\b\b\b\b\b\b\b\b\b\b\b\b\b\b\b\b\b\b\b\b\b\b\b\b\b\b\b\b\b\b\b\b\b\b\b\b\b\b\b\b\b\b\b\b\b\b\b\b\b\b\b\b\b\b\b\b\b\b\b\b\b\b\b\b\b\b\b\b\b\b\b\b\b\b\b\b\b\b\b\b\b\b\b\b\b\b\b\b\b\b\b\b\b\b\b\b\b\b\b\b\b\b\b\b\b\b\b\b\b\b\b\b\b\b\b\b\b\b\b\b\b\b\b\b\b\b\b\b\b\b\b\b\b\b\b\b\b\b\b\b\b\b\b\b\b\b\b\b\b\b\b\b\b\b\b\b\b\b\b\b\b\b\b\b\b\b\b\b\b\b\b\b\b\b\b\b\b\b\b\b\b\b\b\b\b\b\b\b\b\b\b\b\b\b\b\b\b\b\b\b\b\b\b\b\b\b\b\b\b\b\b\b\b\b\b\b\b\b\b\b\b\b\b\b\b\b\b\b\b\b\b\b\b\b\b\b\b\b\b\b\b\b\b\b\b\b\b\b\b\b\b\b\b\b\b\b\b\b\b\b\b\b\b\b\b\b\b\b\b\b\b\b\b\b\b\b\b\b\b\b\b\b\b\b\b\b\b\b\b\b\b\b\b\b\b\b\b\b\b\b\b\b\b\b\b\b\b\b\b\b\b\b\b\b\b\b\b\b\b\b\b\b\b\b\b\b\b\b\b\b\b\b\b\b\b\b\b\b\b\b\b\b\b\b\b\b\b\b\b\b\b\b\b\b\b\b\b\b\b\b\b\b\b\b\b\b\b\b\b\b\b\b\b\b\b\b\b\b\b\b\b\b\b\b\b\b\b\b\b\b\b\b\b\b\b\b\b\b\b\b\b\b\b\b\b\b\b\b\b\b\b\b\b\b\b\b\b\b\b\b\b\b\b\b\b\b\b\b\b\b\b\b\b\b\b\b\b\b\b\b\b\b\b\b\b\b\b\b\b\b\b\b\b\b\b\b\b\b\b\b\b\b\b\b\b\b\b\b\b\b\b\b\b\b\b\b\b\b\b\b\b\b\b\b\b\b\b\b\b\b\b\b\b\b\b\b\b\b\b\b\b\b\b\b\b\b\b\b\b\b\b\b\b\b\b\b\b\b\b\b\b\b\b\b\b\b\b\b\b\b\b\b\b\b\b\b\b\b\b\b\b\b\b\b\b\b\b\b\b\b\b\b\b\b\b\b\b\b\b\b\b\b\b\b\b\b\b\b\b\b\b\b\b\b\b\b\b\b\b\b\b\b\b\b\b\b\b\b\b\b\b\b\b\b\b\b\b\b\b\b\b\b\b\b\b\b\b\b\b\b\b\b\b\b\b\b\b\b\b\b\b\b\b\b\b\b\b\b\b\b\b\b\b\b\b\b\b\b\b\b\b\b\b\b\b\b\b\b\b\b\b\b\b\b\b\b\b\b\b\b\b\b\b\b\b\b\b\b\b\b\b\b\b\b\b\b\b\b\b\b\b\b\b\b\b\b\b\b\b\b\b\b\b\b\b\b\b\b\b\b\b\b\b\b\b\b\b\b\b\b\b\b\b\b\b\b\b\b\b\b\b\b\b\b\b\b\b\b\b\b\b\b\b\b\b\b\b\b\b\b\b\b\b\b\b\b\b\b\b\b\b\b\b\b\b\b\b\b\b\b\b\b\b\b\b\b\b\b\b\b\b\b\b\b\b\b\b\b\b\b\b\b\b\b\b\b\b\b\b\b\b\b\b\b\b\b\b\b\b\b\b\b\b\b\b\b\b\b\b\b\b\b\b\b\b\b\b\b\b\b\b\b\b\b\b\b\b\b\b\b\b\b\b\b\b\b\b\b\b\b\b\b\b\b\b\b\b\b\b\b\b\b\b\b\b\b\b\b\b\b\b\b\b\b\b\b\b\b\b\b\b\b\b\b\b\b\b\b\b\b\b\b\b\b\b\b\b\b\b\b\b\b\b\b\b\b\b\b\b\b\b\b\b\b\b\b\b\b\b\b\b\b\b\b\b\b\b\b\b\b\b\b\b\b\b\b\b\b\b\b\b\b\b\b\b\b\b\b\b\b\b\b\b\b\b\b\b\b\b\b\b\b\b\b\b\b\b\b\b\b\b\b\b\b\b\b\b\b\b\b\b\b\b\b\b\b\b\b\b\b\b\b\b\b\b\b\b\b\b\b\b\b\b\b\b\b\b\b\b\b\b\b\b\b\b\b\b\b\b\b\b\b\b\b\b\b\b\b\b\b\b\b\b\b\b\b\b\b\b\b\b\b\b\b\b\b\b\b\b\b\b\b\b\b\b\b\b\b\b\b\b\b\b\b\b\b\b\b\b\b\b\b\b\b\b\b\b\b\b\b\b\b\b\b\b\b\b\b\b\b\b\b\b\b\b\b\b\b\b\b\b\b\b\b\b\b\b\b\b\b\b\b\b\b\b\b\b\b\b\b\b\b\b\b\b\b\b\b\b\b\b\b\b\b\b\b\b\b\b\b\b\b\b\b\b\b\b\b\b\b\b\b\b\b\b\b\b\b\b\b\b\b\b\b\b\b\b\b\b\b\b\b\b\b\b\b\b\b\b\b\b\b\b\b\b\b\b\b\b\b\b\b\b\b\b\b\b\b\b\b\b\b\b\b\b\b\b\b\b\b\b\b\b\b\b\b\b\b\b\b\b\b\b\b\b\b\b\b\b\b\b\b\b\b\b\b\b\b\b\b\b\b\b\b\b\b\b\b\b\b\b\b\b\b\b\b\b\b\b\b\b\b\b\b\b\b\b\b\b\b\b\b\b\b\b\b\b\b\b\b\b\b\b\b\b\b\b\b\b\b\b\b\b\b\b\b\b\b\b\b\b\b\b\b\b\b\b\b\b\b\b\b\b\b\b\b\b\b\b\b\b\b\b\b\b\b\b\b\b\b\b\b\b\b\b\b\b\b\b\b\b\b\b\b\b\b\b\b\b\b\b\b\b\b\b\b\b\b\b\b\b\b\b\b\b\b\b\b\b\b\b\b\b\b\b\b\b\b\b\b\b\b\b\b\b\b\b\b\b\b\b\b\b\b\b\b\b\b\b\b\b\b\b\b\b\b\b\b\b\b\b\b\b\b\b\b\b\b\b\b\b\b\b\b\b\b\b\b\b\b\b\b\b\b\b\b\b\b\b\b\b\b\b\b\b\b\b\b\b\b\b\b\b\b\b\b\b\b\b\b\b\b\b\b\b\b\b\b\b\b\b\b\b\b\b\b\b\b\b\b\b\b\b\b\b\b\b\b\b\b\b\b\b\b\b\b\b\b\b\b\b\b\b\b\b\b\b\b\b\b\b\b\b\b\b\b\b\b\b\b\b\b\b\b\b\b\b\b\b\b\b\b\b\b\b\b\b\b\b\b\b\b\b\b\b\b\b\b\b\b\b\b\b\b\b\b\b\b\b\b\b\b\b\b\b\b\b\b\b\b\b\b\b\b\b\b\b\b\b\b\b\b\b\b\b\b\b\b\b\b\b\b\b\b\b\b\b\b\b\b\b\b\b\b\b\b\b\b\b\b\b\b\b\b\b\b\b\b\b\b\b\b\b\b\b\b\b\b\b\b\b\b\b\b\b\b\b\b\b\b\b\b\b\b\b\b\b\b\b\b\b\b\b\b\b\b\b\b\b\b\b\b\b\b\b\b\b\b\b\b\b\b\b\b\b\b\b\b\b\b\b\b\b\b\b\b\b\b\b\b\b\b\b\b\b\b\b\b\b\b\b\b\b\b\b\b\b\b\b\b\b\b\b\b\b\b\b\b\b\b\b\b\b\b\b\b\b\b\b\b\b\b\b\b\b\b\b\b\b\b\b\b\b\b\b\b\b\b\b\b\b\b\b\b\b\b\b\b\b\b\b\b\b\b\b\b\b\b\b\b\b\b\b\b\b\b\b\b\b\b\b\b\b\b\b\b\b\b\b\b\b\b\b\b\b\b\b\b\b\b\b\b\b\b\b\b\b\b\b\b\b\b\b\b\b\b\b\b\b\b\b\b\b\b\b\b\b\b\b\b\b\b\b\b\b\b\b\b\b\b\b\b\b\b\b\b\b\b\b\b\b\b\b\b\b\b\b\b\b\b\b\b\b\b\b\b\b\b\b\b\b\b\b\b\b\b\b\b\b\b\b\b\b\b\b\b\b\b\b\b\b\b\b\b\b\b\b\b\b\b\b\b\b\b\b\b\b\b\b\b\b\b\b\b\b\b\b\b\b\b\b\b\b\b\b\b\b\b\b\b\b\b\b\b\b\b\b\b\b\b\b\b\b\b\b\b\b\b\b\b\b\b\b\b\b\b\b\b\b\b\b\b\b\b\b\b\b\b\b\b\b\b\b\b\b\b\b\b\b\b\b\b\b\b\b\b\b\b\b\b\b\b\b\b\b\b\b\b\b\b\b\b\b\b\b\b\b\b\b\b\b\b\b\b\b\b\b\b\b\b\b\b\b\b\b\b\b\b\b\b\b\b\b\b\b\b\b\b\b\b\b\b\b\b\b\b\b\b\b\b\b\b\b\b\b\b\b\b\b\b\b\b\b\b\b\b\b\b\b\b\b\b\b\b\b\b\b\b\b\b\b\b\b\b\b\b\b\b\b\b\b\b\b\b\b\b\b\b\b\b\b\b\b\b\b\b\b\b\b\b\b\b\b\b\b\b\b\b\b\b\b\b\b\b\b\b\b\b\b\b\b\b\b\b\b\b\b\b\b\b\b\b\b\b\b\b\b\b\b\b\b\b\b\b\b\b\b\b\b\b\b\b\b\b\b\b\b\b\b\b\b\b\b\b\b\b\b\b\b\b\b\b\b\b\b\b\b\b\b\b\b\b\b\b\b\b\b\b\b\b\b\b\b\b\b\b\b\b\b\b\b\b\b\b\b\b\b\b\b\b\b\b\b\b\b\b\b\b\b\b\b\b\b\b\b\b\b\b\b\b\b\b\b\b\b\b\b\b\b\b\b\b\b\b\b\b\b\b\b\b\b\b\b\b\b\b\b\b\b\b\b\b\b\b\b\b\b\b\b\b\b\b\b\b\b\b\b\b\b\b\b\b\b\b\b\b\b\b\b\b\b\b\b\b\b\b\b\b\b\b\b\b\b\b\b\b\b\b\b\b\b\b\b\b\b\b\b\b\b\b\b\b\b\b\b\b\b\b\b\b\b\b\b\b\b\b\b\b\b\b\b\b\b\b\b\b\b\b\b\b\b\b\b\b\b\b\b\b\b\b\b\b\b\b\b\b\b\b\b\b\b\b\b\b\b\b\b\b\b\b\b\b\b\b\b\b\b\b\b\b\b\b\b\b\b\b\b\b\b\b\b\b\b\b\b\b\b\b\b\b\b\b\b\b\b\b\b\b\b\b\b\b\b\b\b\b\b\b\b\b\b\b\b\b\b\b\b\b\b\b\b\b\b\b\b\b\b\b\b\b\b\b\b\b\b\b\b\b\b\b\b\b\b\b\b\b\b\b\b\b\b\b\b\b\b\b\b\b\b\b\b\b\b\b\b\b\b\b\b\b\b\b\b\b\b\b\b\b\b\b\b\b\b\b\b\b\b\b\b\b\b\b\b\b\b\b\b\b\b\b\b\b\b\b\b\b\b\b\b\b\b\b\b\b\b\b\b\b\b\b\b\b\b\b\b\b\b\b\b\b\b\b\b\b\b\b\b\b\b\b\b\b\b\b\b\b\b\b\b\b\b\b\b\b\b\b\b\b\b\b\b\b\b\b\b\b\b\b\b\b\b\b\b\b\b\b\b\b\b\b\b\b\b\b\b\b\b\b\b\b\b\b\b\b\b\b\b\b\b\b\b\b\b\b\b\b\b\b\b\b\b\b\b\b\b\b\b\b\b\b\b\b\b\b\b\b\b\b\b\b\b\b\b\b\b\b\b\b\b\b\b\b\b\b\b\b\b\b\b\b\b\b\b\b\b\b\b\b\b\b\b\b\b\b\b\b\b\b\b\b\b\b\b\b\b\b\b\b\b\b\b\b\b\b\b\b\b\b\b\b\b\b\b\b\b\b\b\b\b\b\b\b\b\b\b\b\b\b\b\b\b\b\b\b\b\b\b\b\b\b\b\b\b\b\b\b\b\b\b\b\b\b\b\b\b\b\b\b\b\b\b\b\b\b\b\b\b\b\b\b\b\b\b\b\b\b\b\b\b\b\b\b\b\b\b\b\b\b\b\b\b\b\b\b\b\b\b\b\b\b\b\b\b\b\b\b\b\b\b\b\b\b\b\b\b\b\b\b\b\b\b\b\b\b\b\b\b\b\b\b\b\b\b\b\b\b\b\b\b\b\b\b\b\b\b\b\b\b\b\b\b\b\b\b\b\b\b\b\b\b\b\b\b\b\b\b\b\b\b\b\b\b\b\b\b\b\b\b\b\b\b\b\b\b\b\b\b\b\b\b\b\b\b\b\b\b\b\b\b\b\b\b\b\b\b\b\b\b\b\b\b\b\b\b\b\b\b\b\b\b\b\b\b\b\b\b\b\b\b\b\b\b\b\b\b\b\b\b\b\b\b\b\b\b\b\b\b\b\b\b\b\b\b\b\b\b\b\b\b\b\b\b\b\b\b\b\b\b\b\b\b\b\b\b\b\b\b\b\b\b\b\b\b\b\b\b\b\b\b\b\b\b\b\b\b\b\b\b\b\b\b\b\b\b\b\b\b\b\b\b\b\b\b\b\b\b\b\b\b\b\b\b\b\b\b\b\b\b\b\b\b\b\b\b\b\b\b\b\b\b\b\b\b\b\b\b\b\b\b\b\b\b\b\b\b\b\b\b\b\b\b\b\b\b\b\b\b\b\b\b\b\b\b\b\b\b\b\b\b\b\b\b\b\b\b\b\b\b\b\b\b\b\b\b\b\b\b\b\b\b\b\b\b\b\b\b\b\b\b\b\b\b\b\b\b\b\b\b\b\b\b\b\b\b\b\b\b\b\b\b\b\b\b\b\b\b\b\b\b\b\b\b\b\b\b\b\b\b\b\b\b\b\b\b\b\b\b\b\b\b\b\b\b\b\b\b\b\b\b\b\b\b\b\b\b\b\b\b\b\b\b\b\b\b\b\b\b\b\b\b\b\b\b\b\b\b\b\b\b\b\b\b\b\b\b\b\b\b\b\b\b\b\b\b\b\b\b\b\b\b\b\b\b\b\b\b\b\b\b\b\b\b\b\b\b\b\b\b\b\b\b\b\b\b\b\b\b\b\b\b\b\b\b\b\b\b\b\b\b\b\b\b\b\b\b\b\b\b\b\b\b\b\b\b\b\b\b\b\b\b\b\b\b\b\b\b\b\b\b\b\b\b\b\b\b\b\b\b\b\b\b\b\b\b\b\b\b\b\b\b\b\b\b\b\b\b\b\b\b\b\b\b\b\b\b\b\b\b\b\b\b\b\b\b\b\b\b\b\b\b\b\b\b\b\b\b\b\b\b\b\b\b\b\b\b\b\b\b\b\b\b\b\b\b\b\b\b\b\b\b\b\b\b\b\b\b\b\b\b\b\b\b\b\b\b\b\b\b\b\b\b\b\b\b\b\b\b\b\b\b\b\b\b\b\b\b\b\b\b\b\b\b\b\b\b\b\b\b\b\b\b\b\b\b\b\b\b\b\b\b\b\b\b\b\b\b\b\b\b\b\b\b\b\b\b\b\b\b\b\b\b\b\b\b\b\b\b\b\b\b\b\b\b\b\b\b\b\b\b\b\b\b\b\b\b\b\b\b\b\b\b\b\b\b\b\b\b\b\b\b\b\b\b\b\b\b\b\b\b\b\b\b\b\b\b\b\b\b\b\b\b\b\b\b\b\b\b\b\b\b\b\b\b\b\b\b\b\b\b\b\b\b\b\b\b\b\b\b\b\b\b\b\b\b\b\b\b\b\b\b\b\b\b\b\b\b\b\b\b\b\b\b\b\b\b\b\b\b\b\b\b\b\b\b\b\b\b\b\b\b\b\b\b\b\b\b\b\b\b\b\b\b\b\b\b\b\b\b\b\b\b\b\b\b\b\b\b\b\b\b\b\b\b\b\b\b\b\b\b\b\b\b\b\b\b\b\b\b\b\b\b\b\b\b\b\b\b\b\b\b\b\b\b\b\b\b\b\b\b\b\b\b\b\b\b\b\b\b\b\b\b\b\b\b\b\b\b\b\b\b\b\b\b\b\b\b\b\b\b\b\b\b\b\b\b\b\b\b\b\b\b\b\b\b\b\b\b\b\b\b\b\b\b\b\b\b\b\b\b\b\b\b\b\b\b\b\b\b\b\b\b\b\b\b\b\b\b\b\b\b\b\b\b\b\b\b\b\b\b\b\b\b\b\b\b\b\b\b\b\b\b\b\b\b\b\b\b\b\b\b\b\b\b\b\b\b\b\b\b\b\b\b\b\b\b\b\b\b\b\b\b\b\b\b\b\b\b\b\b\b\b\b\b\b\b\b\b\b\b\b\b\b\b\b\b\b\b\b\b\b\b\b\b\b\b\b\b\b\b\b\b\b\b\b\b\b\b\b\b\b\b\b\b\b\b\b\b\b\b\b\b\b\b\b\b\b\b\b\b\b\b\b\b\b\b\b\b\b\b\b\b\b\b\b\b\b\b\b\b\b\b\b\b\b\b\b\b\b\b\b\b\b\b\b\b\b\b\b\b\b\b\b\b\b\b\b\b\b\b\b\b\b\b\b\b\b\b\b\b\b\b\b\b\b\b\b\b\b\b\b\b\b\b\b\b\b\b\b\b\b\b\b\b\b\b\b\b\b\b\b\b\b\b\b\b\b\b\b\b\b\b\b\b\b\b\b\b\b\b\b\b\b\b\b\b\b\b\b\b\b\b\b\b\b\b\b\b\b\b\b\b\b\b\b\b\b\b\b\b\b\b\b\b\b\b\b\b\b\b\b\b\b\b\b\b\b\b\b\b\b\b\b\b\b\b\b\b\b\b\b\b\b\b\b\b\b\b\b\b\b\b\b\b\b\b\b\b\b\b\b\b\b\b\b\b\b\b\b\b\b\b\b\b\b\b\b\b\b\b\b\b\b\b\b\b\b\b\b\b\b\b\b\b\b\b\b\b\b\b\b\b\b\b\b\b\b\b\b\b\b\b\b\b\b\b\b\b\b\b\b\b\b\b\b\b\b\b\b\b\b\b\b\b\b\b\b\b\b\b\b\b\b\b\b\b\b\b\b\b\b\b\b\b\b\b\b\b\b\b\b\b\b\b\b\b\b\b\b\b\b\b\b\b\b\b\b\b\b\b\b\b\b\b\b\b\b\b\b\b\b\b\b\b\b\b\b\b\b\b\b\b\b\b\b\b\b\b\b\b\b\b\b\b\b\b\b\b\b\b\b\b\b\b\b\b\b\b\b\b\b\b\b\b\b\b\b\b\b\b\b\b\b\b\b\b\b\b\b\b\b\b\b\b\b\b\b\b\b\b\b\b\b\b\b\b\b\b\b\b\b\b\b\b\b\b\b\b\b\b\b\b\b\b\b\b\b\b\b\b\b\b\b\b\b\b\b\b\b\b\b\b\b\b\b\b\b\b\b\b\b\b\b\b\b\b\b\b\b\b\b\b\b\b\b\b\b\b\b\b\b\b\b\b\b\b\b\b\b\b\b\b\b\b\b\b\b\b\b\b\b\b\b\b\b\b\b\b\b\b\b\b\b\b\b\b\b\b\b\b\b\b\b\b\b\b\b\b\b\b\b\b\b\b\b\b\b\b\b\b\b\b\b\b\b\b\b\b\b\b\b\b\b\b\b\b\b\b\b\b\b\b\b\b\b\b\b\b\b\b\b\b\b\b\b\b\b\b\b\b\b\b\b\b\b\b\b\b\b\b\b\b\b\b\b\b\b\b\b\b\b\b\b\b\b\b\b\b\b\b\b\b\b\b\b\b\b\b\b\b\b\b\b\b\b\b\b\b\b\b\b\b\b\b\b\b\b\b\b\b\b\b\b\b\b\b\b\b\b\b\b\b\b\b\b\b\b\b\b\b\b\b\b\b\b\b\b\b\b\b\b\b\b\b\b\b\b\b\b\b\b\b\b\b\b\b\b\b\b\b\b\b\b\b\b\b\b\b\b\b\b\b\b\b\b\b\b\b\b\b\b\b\b\b\b\b\b\b\b\b\b\b\b\b\b\b\b\b\b\b\b\b\b\b\b\b\b\b\b\b\b\b\b\b\b\b\b\b\b\b\b\b\b\b\b\b\b\b\b\b\b\b\b\b\b\b\b\b\b\b\b\b\b\b\b\b\b\b\b\b\b\b\b\b\b\b\b\b\b\b\b\b\b\b\b\b\b\b\b\b\b\b\b\b\b\b\b\b\b\b\b\b\b\b\b\b\b\b\b\b\b\b\b\b\b\b\b\b\b\b\b\b\b\b\b\b\b\b\b\b\b\b\b\b\b\b\b\b\b\b\b\b\b\b\b\b\b\b\b\b\b\b\b\b\b\b\b\b\b\b\b\b\b\b\b\b\b\b\b\b\b\b\b\b\b\b\b\b\b\b\b\b\b\b\b\b\b\b\b\b\b\b\b\b\b\b\b\b\b\b\b\b\b\b\b\b\b\b\b\b\b\b\b\b\b\b\b\b\b\b\b\b\b\b\b\b\b\b\b\b\b\b\b\b\b\b\b\b\b\b\b\b\b\b\b\b\b\b\b\b\b\b\b\b\b\b\b\b\b\b\b\b\b\b\b\b\b\b\b\b\b\b\b\b\b\b\b\b\b\b\b\b\b\b\b\b\b\b\b\b\b\b\b\b\b\b\b\b\b\b\b\b\b\b\b\b\b\b\b\b\b\b\b\b\b\b\b\b\b\b\b\b\b\b\b\b\b\b\b\b\b\b\b\b\b\b\b\b\b\b\b\b\b\b\b\b\b\b\b\b\b\b\b\b\b\b\b\b\b\b\b\b\b\b\b\b\b\b\b\b\b\b\b\b\b\b\b\b\b\b\b\b\b\b\b\b\b\b\b\b\b\b\b\b\b\b\b\b\b\b\b\b\b\b\b\b\b\b\b\b\b\b\b\b\b\b\b\b\b\b\b\b\b\b\b\b\b\b\b\b\b\b\b\b\b\b\b\b\b\b\b\b\b\b\b\b\b\b\b\b\b\b\b\b\b\b\b\b\b\b\b\b\b\b\b\b\b\b\b\b\b\b\b\b\b\b\b\b\b\b\b\b\b\b\b\b\b\b\b\b\b\b\b\b\b\b\b\b\b\b\b\b\b\b\b\b\b\b\b\b\b\b\b\b\b\b\b\b\b\b\b\b\b\b\b\b\b\b\b\b\b\b\b\b\b\b\b\b\b\b\b\b\b\b\b\b\b\b\b\b\b\b\b\b\b\b\b\b\b\b\b\b\b\b\b\b\b\b\b\b\b\b\b\b\b\b\b\b\b\b\b\b\b\b\b\b\b\b\b\b\b\b\b\b\b\b\b\b\b\b\b\b\b\b\b\b\b\b\b\b\b\b\b\b\b\b\b\b\b\b\b\b\b\b\b\b\b\b\b\b\b\b\b\b\b\b\b\b\b\b\b\b\b\b\b\b\b\b\b\b\b\b\b\b\b\b\b\b\b\b\b\b\b\b\b\b\b\b\b\b\b\b\b\b\b\b\b\b\b\b\b\b\b\b\b\b\b\b\b\b\b\b\b\b\b\b\b\b\b\b\b\b\b\b\b\b\b\b\b\b\b\b\b\b\b\b\b\b\b\b\b\b\b\b\b\b\b\b\b\b\b\b\b\b\b\b\b\b\b\b\b\b\b\b\b\b\b\b\b\b\b\b\b\b\b\b\b\b\b\b\b\b\b\b\b\b\b\b\b\b\b\b\b\b\b\b\b\b\b\b\b\b\b\b\b\b\b\b\b\b\b\b\b\b\b\b\b\b\b\b\b\b\b\b\b\b\b\b\b\b\b\b\b\b\b\b\b\b\b\b\b\b\b\b\b\b\b\b\b\b\b\b\b\b\b\b\b\b\b\b\b\b\b\b\b\b\b\b\b\b\b\b\b\b\b\b\b\b\b\b\b\b\b\b\b\b\b\b\b\b\b\b\b\b\b\b\b\b\b\b\b\b\b\b\b\b\b\b\b\b\b\b\b\b\b\b\b\b\b\b\b\b\b\b\b\b\b\b\b\b\b\b\b\b\b\b\b\b\b\b\b\b\b\b\b\b\b\b\b\b\b\b\b\b\b\b\b\b\b\b\b\b\b\b\b\b\b\b\b\b\b\b\b\b\b\b\b\b\b\b\b\b\b\b\b\b\b\b\b\b\b\b\b\b\b\b\b\b\b\b\b\b\b\b\b\b\b\b\b\b\b\b\b\b\b\b\b\b\b\b\b\b\b\b\b\b\b\b\b\b\b\b\b\b\b\b\b\b\b\b\b\b\b\b\b\b\b\b\b\b\b\b\b\b\b\b\b\b\b\b\b\b\b\b\b\b\b\b\b\b\b\b\b\b\b\b\b\b\b\b\b\b\b\b\b\b\b\b\b\b\b\b\b\b\b\b\b\b\b\b\b\b\b\b\b\b\b\b\b\b\b\b\b\b\b\b\b\b\b\b\b\b\b\b\b\b\b\b\b\b\b\b\b\b\b\b\b\b\b\b\b\b\b\b\b\b\b\b\b\b\b\b\b\b\b\b\b\b\b\b\b\b\b\b\b\b\b\b\b\b\b\b\b\b\b\b\b\b\b\b\b\b\b\b\b\b\b\b\b\b\b\b\b\b\b\b\b\b\b\b\b\b\b\b\b\b\b\b\b\b\b\b\b\b\b\b\b\b\b\b\b\b\b\b\b\b\b\b\b\b\b\b\b\b\b\b\b\b\b\b\b\b\b\b\b\b\b\b\b\b\b\b\b\b\b\b\b\b\b\b\b\b\b\b\b\b\b\b\b\b\b\b\b\b\b\b\b\b\b\b\b\b\b\b\b\b\b\b\b\b\b\b\b\b\b\b\b\b\b\b\b\b\b\b\b\b\b\b\b\b\b\b\b\b\b\b\b\b\b\b\b\b\b\b\b\b\b\b\b\b\b\b\b\b\b\b\b\b\b\b\b\b\b\b\b\b\b\b\b\b\b\b\b\b\b\b\b\b\b\b\b\b\b\b\b\b\b\b\b\b\b\b\b\b\b\b\b\b\b\b\b\b\b\b\b\b\b\b\b\b\b\b\b\b\b\b\b\b\b\b\b\b\b\b\b\b\b\b\b\b\b\b\b\b\b\b\b\b\b\b\b\b\b\b\b\b\b\b\b\b\b\b\b\b\b\b\b\b\b\b\b\b\b\b\b\b\b\b\b\b\b\b\b\b\b\b\b\b\b\b\b\b\b\b\b\b\b\b\b\b\b\b\b\b\b\b\b\b\b\b\b\b\b\b\b\b\b\b\b\b\b\b\b\b\b\b\b\b\b\b\b\b\b\b\b\b\b\b\b\b\b\b\b\b\b\b\b\b\b\b\b\b\b\b\b\b\b\b\b\b\b\b\b\b\b\b\b\b\b\b\b\b\b\b\b\b\b\b\b\b\b\b\b\b\b\b\b\b\b\b\b\b\b\b\b\b\b\b\b\b\b\b\b\b\b\b\b\b\b\b\b\b\b\b\b\b\b\b\b\b\b\b\b\b\b\b\b\b\b\b\b\b\b\b\b\b\b\b\b\b\b\b\b\b\b\b\b\b\b\b\b\b\b\b\b\b\b\b\b\b\b\b\b\b\b\b\b\b\b\b\b\b\b\b\b\b\b\b\b\b\b\b\b\b\b\b\b\b\b\b\b\b\b\b\b\b\b\b\b\b\b\b\b\b\b\b\b\b\b\b\b\b\b\b\b\b\b\b\b\b\b\b\b\b\b\b\b\b\b\b\b\b\b\b\b\b\b\b\b\b\b\b\b\b\b\b\b\b\b\b\b\b\b\b\b\b\b\b\b\b\b\b\b\b\b\b\b\b\b\b\b\b\b\b\b\b\b\b\b\b\b\b\b\b\b\b\b\b\b\b\b\b\b\b\b\b\b\b\b\b\b\b\b\b\b\b\b\b\b\b\b\b\b\b\b\b\b\b\b\b\b\b\b\b\b\b\b\b\b\b\b\b\b\b\b\b\b\b\b\b\b\b\b\b\b\b\b\b\b\b\b\b\b\b\b\b\b\b\b\b\b\b\b\b\b\b\b\b\b\b\b\b\b\b\b\b\b\b\b\b\b\b\b\b\b\b\b\b\b\b\b\b\b\b\b\b\b\b\b\b\b\b\b\b\b\b\b\b\b\b\b\b\b\b\b\b\b\b\b\b\b\b\b\b\b\b\b\b\b\b\b\b\b\b\b\b\b\b\b\b\b\b\b\b\b\b\b\b\b\b\b\b\b\b\b\b\b\b\b\b\b\b\b\b\b\b\b\b\b\b\b\b\b\b\b\b\b\b\b\b\b\b\b\b\b\b\b\b\b\b\b\b\b\b\b\b\b\b\b\b\b\b\b\b\b\b\b\b\b\b\b\b\b\b\b\b\b\b\b\b\b\b\b\b\b\b\b\b\b\b\b\b\b\b\b\b\b\b\b\b\b\b\b\b\b\b\b\b\b\b\b\b\b\b\b\b\b\b\b\b\b\b\b\b\b\b\b\b\b\b\b\b\b\b\b\b\b\b\b\b\b\b\b\b\b\b\b\b\b\b\b\b\b\b\b\b\b\b\b\b\b\b\b\b\b\b\b\b\b\b\b\b\b\b\b\b\b\b\b\b\b\b\b\b\b\b\b\b\b\b\b\b\b\b\b\b\b\b\b\b\b\b\b\b\b\b\b\b\b\b\b\b\b\b\b\b\b\b\b\b\b\b\b\b\b\b\b\b\b\b\b\b\b\b\b\b\b\b\b\b\b\b\b\b\b\b\b\b\b\b\b\b\b\b\b\b\b\b\b\b\b\b\b\b\b\b\b\b\b\b\b\b\b\b\b\b\b\b\b\b\b\b\b\b\b\b\b\b\b\b\b\b\b\b\b\b\b\b\b\b\b\b\b\b\b\b\b\b\b\b\b\b\b\b\b\b\b\b\b\b\b\b\b\b\b\b\b\b\b\b\b\b\b\b\b\b\b\b\b\b\b\b\b\b\b\b\b\b\b\b\b\b\b\b\b\b\b\b\b\b\b\b\b\b\b\b\b\b\b\b\b\b\b\b\b\b\b\b\b\b\b\b\b\b\b\b\b\b\b\b\b\b\b\b\b\b\b\b\b\b\b\b\b\b\b\b\b\b\b\b\b\b\b\b\b\b\b\b\b\b\b\b\b\b\b\b\b\b\b\b\b\b\b\b\b\b\b\b\b\b\b\b\b\b\b\b\b\b\b\b\b\b\b\b\b\b\b\b\b\b\b\b\b\b\b\b\b\b\b\b\b\b\b\b\b\b\b\b\b\b\b\b\b\b\b\b\b\b\b\b\b\b\b\b\b\b\b\b\b\b\b\b\b\b\b\b\b\b\b\b\b\b\b\b\b\b\b\b\b\b\b\b\b\b\b\b\b\b\b\b\b\b\b\b\b\b\b\b\b\b\b\b\b\b\b\b\b\b\b\b\b\b\b\b\b\b\b\b\b\b\b\b\b\b\b\b\b\b\b\b\b\b\b\b\b\b\b\b\b\b\b\b\b\b\b\b\b\b\b\b\b\b\b\b\b\b\b\b\b\b\b\b\b\b\b\b\b\b\b\b\b\b\b\b\b\b\b\b\b\b\b\b\b\b\b\b\b\b\b\b\b\b\b\b\b\b\b\b\b\b\b\b\b\b\b\b\b\b\b\b\b\b\b\b\b\b\b\b\b\b\b\b\b\b\b\b\b\b\b\b\b\b\b\b\b\b\b\b\b\b\b\b\b\b\b\b\b\b\b\b\b\b\b\b\b\b\b\b\b\b\b\b\b\b\b\b\b\b\b\b\b\b\b\b\b\b\b\b\b\b\b\b\b\b\b\b\b\b\b\b\b\b\b\b\b\b\b\b\b\b\b\b\b\b\b\b\b\b\b\b\b\b\b\b\b\b\b\b\b\b\b\b\b\b\b\b\b\b\b\b\b\b\b\b\b\b\b\b\b\b\b\b\b\b\b\b\b\b\b\b\b\b\b\b\b\b\b\b\b\b\b\b\b\b\b\b\b\b\b\b\b\b\b\b\b\b\b\b\b\b\b\b\b\b\b\b\b\b\b\b\b\b\b\b\b\b\b\b\b\b\b\b\b\b\b\b\b\b\b\b\b\b\b\b\b\b\b\b\b\b\b\b\b\b\b\b\b\b\b\b\b\b\b\b\b\b\b\b\b\b\b\b\b\b\b\b\b\b\b\b\b\b\b\b\b\b\b\b\b\b\b\b\b\b\b\b\b\b\b\b\b\b\b\b\b\b\b\b\b\b\b\b\b\b\b\b\b\b\b\b\b\b\b\b\b\b\b\b\b\b\b\b\b\b\b\b\b\b\b\b\b\b\b\b\b\b\b\b\b\b\b\b\b\b\b\b\b\b\b\b\b\b\b\b\b\b\b\b\b\b\b\b\b\b\b\b\b\b\b\b\b\b\b\b\b\b\b\b\b\b\b\b\b\b\b\b\b\b\b\b\b\b\b\b\b\b\b\b\b\b\b\b\b\b\b\b\b\b\b\b\b\b\b\b\b\b\b\b\b\b\b\b\b\b\b\b\b\b\b\b\b\b\b\b\b\b\b\b\b\b\b\b\b\b\b\b\b\b\b\b\b\b\b\b\b\b\b\b\b\b\b\b\b\b\b\b\b\b\b\b\b\b\b\b\b\b\b\b\b\b\b\b\b\b\b\b\b\b\b\b\b\b\b\b\b\b\b\b\b\b\b\b\b\b\b\b\b\b\b\b\b\b\b\b\b\b\b\b\b\b\b\b\b\b\b\b\b\b\b\b\b\b\b\b\b\b\b\b\b\b\b\b\b\b\b\b\b\b\b\b\b\b\b\b\b\b\b\b\b\b\b\b\b\b\b\b\b\b\b\b\b\b\b\b\b\b\b\b\b\b\b\b\b\b\b\b\b\b\b\b\b\b\b\b\b\b\b\b\b\b\b\b\b\b\b\b\b\b\b\b\b\b\b\b\b\b\b\b\b\b\b\b\b\b\b\b\b\b\b\b\b\b\b\b\b\b\b\b\b\b\b\b\b\b\b\b\b\b\b\b\b\b\b\b\b\b\b\b\b\b\b\b\b\b\b\b\b\b\b\b\b\b\b\b\b\b\b\b\b\b\b\b\b\b\b\b\b\b\b\b\b\b\b\b\b\b\b\b\b\b\b\b\b\b\b\b\b\b\b\b\b\b\b\b\b\b\b\b\b\b\b\b\b\b\b\b\b\b\b\b\b\b\b\b\b\b\b\b\b\b\b\b\b\b\b\b\b\b\b\b\b\b\b\b\b\b\b\b\b\b\b\b\b\b\b\b\b\b\b\b\b\b\b\b\b\b\b\b\b\b\b\b\b\b\b\b\b\b\b\b\b\b\b\b\b\b\b\b\b\b\b\b\b\b\b\b\b\b\b\b\b\b\b\b\b\b\b\b\b\b\b\b\b\b\b\b\b\b\b\b\b\b\b\b\b\b\b\b\b\b\b\b\b\b\b\b\b\b\b\b\b\b\b\b\b\b\b\b\b\b\b\b\b\b\b\b\b\b\b\b\b\b\b\b\b\b\b\b\b\b\b\b\b\b\b\b\b\b\b\b\b\b\b\b\b\b\b\b\b\b\b\b\b\b\b\b\b\b\b\b\b\b\b\b\b\b\b\b\b\b\b\b\b\b\b\b\b\b\b\b\b\b\b\b\b\b\b\b\b\b\b\b\b\b\b\b\b\b\b\b\b\b\b\b\b\b\b\b\b\b\b\b\b\b\b\b\b\b\b\b\b\b\b\b\b\b\b\b\b\b\b\b\b\b\b\b\b\b\b\b\b\b\b\b\b\b\b\b\b\b\b\b\b\b\b\b\b\b\b\b\b\b\b\b\b\b\b\b\b\b\b\b\b\b\b\b\b\b\b\b\b\b\b\b\b\b\b\b\b\b\b\b\b\b\b\b\b\b\b\b\b\b\b\b\b\b\b\b\b\b\b\b\b\b\b\b\b\b\b\b\b\b\b\b\b\b\b\b\b\b\b\b\b\b\b\b\b\b\b\b\b\b\b\b\b\b\b\b\b\b\b\b\b\b\b\b\b\b\b\b\b\b\b\b\b\b\b\b\b\b\b\b\b\b\b\b\b\b\b\b\b\b\b\b\b\b\b\b\b\b\b\b\b\b\b\b\b\b\b\b\b\b\b\b\b\b\b\b\b\b\b\b\b\b\b\b\b\b\b\b\b\b\b\b\b\b\b\b\b\b\b\b\b\b\b\b\b\b\b\b\b\b\b\b\b\b\b\b\b\b\b\b\b\b\b\b\b\b\b\b\b\b\b\b\b\b\b\b\b\b\b\b\b\b\b\b\b\b\b\b\b\b\b\b\b\b\b\b\b\b\b\b\b\b\b\b\b\b\b\b\b\b\b\b\b\b\b\b\b\b\b\b\b\b\b\b\b\b\b\b\b\b\b\b\b\b\b\b\b\b\b\b\b\b\b\b\b\b\b\b\b\b\b\b\b\b\b\b\b\b\b\b\b\b\b\b\b\b\b\b\b\b\b\b\b\b\b\b\b\b\b\b\b\b\b\b\b\b\b\b\b\b\b\b\b\b\b\b\b\b\b\b\b\b\b\b\b\b\b\b\b\b\b\b\b\b\b\b\b\b\b\b\b\b\b\b\b\b\b\b\b\b\b\b\b\b\b\b\b\b\b\b\b\b\b\b\b\b\b\b\b\b\b\b\b\b\b\b\b\b\b\b\b\b\b\b\b\b\b\b\b\b\b\b\b\b\b\b\b\b\b\b\b\b\b\b\b\b\b\b\b\b\b\b\b\b\b\b\b\b\b\b\b\b\b\b\b\b\b\b\b\b\b\b\b\b\b\b\b\b\b\b\b\b\b\b\b\b\b\b\b\b\b\b\b\b\b\b\b\b\b\b\b\b\b\b\b\b\b\b\b\b\b\b\b\b\b\b\b\b\b\b\b\b\b\b\b\b\b\b\b\b\b\b\b\b\b\b\b\b\b\b\b\b\b\b\b\b\b\b\b\b\b\b\b\b\b\b\b\b\b\b\b\b\b\b\b\b\b\b\b\b\b\b\b\b\b\b\b\b\b\b\b\b\b\b\b\b\b\b\b\b\b\b\b\b\b\b\b\b\b\b\b\b\b\b\b\b\b\b\b\b\b\b\b\b\b\b\b\b\b\b\b\b\b\b\b\b\b\b\b\b\b\b\b\b\b\b\b\b\b\b\b\b\b\b\b\b\b\b\b\b\b\b\b\b\b\b\b\b\b\b\b\b\b\b\b\b\b\b\b\b\b\b\b\b\b\b\b\b\b\b\b\b\b\b\b\b\b\b\b\b\b\b\b\b\b\b\b\b\b\b\b\b\b\b\b\b\b\b\b\b\b\b\b\b\b\b\b\b\b\b\b\b\b\b\b\b\b\b\b\b\b\b\b\b\b\b\b\b\b\b\b\b\b\b\b\b\b\b\b\b\b\b\b\b\b\b\b\b\b\b\b\b\b\b\b\b\b\b\b\b\b\b\b\b\b\b\b\b\b\b\b\b\b\b\b\b\b\b\b\b\b\b\b\b\b\b\b\b\b\b\b\b\b\b\b\b\b\b\b\b\b\b\b\b\b\b\b\b\b\b\b\b\b\b\b\b\b\b\b\b\b\b\b\b\b\b\b\b\b\b\b\b\b\b\b\b\b\b\b\b\b\b\b\b\b\b\b\b\b\b\b\b\b\b\b\b\b\b\b\b\b\b\b\b\b\b\b\b\b\b\b\b\b\b\b\b\b\b\b\b\b\b\b\b\b\b\b\b\b\b\b\b\b\b\b\b\b\b\b\b\b\b\b\b\b\b\b\b\b\b\b\b\b\b\b\b\b\b\b\b\b\b\b\b\b\b\b\b\b\b\b\b\b\b\b\b\b\b\b\b\b\b\b\b\b\b\b\b\b\b\b\b\b\b\b\b\b\b\b\b\b\b\b\b\b\b\b\b\b\b\b\b\b\b\b\b\b\b\b\b\b\b\b\b\b\b\b\b\b\b\b\b\b\b\b\b\b\b\b\b\b\b\b\b\b\b\b\b\b\b\b\b\b\b\b\b\b\b\b\b\b\b\b\b\b\b\b\b\b\b\b\b\b\b\b\b\b\b\b\b\b\b\b\b\b\b\b\b\b\b\b\b\b\b\b\b\b\b\b\b\b\b\b\b\b\b\b\b\b\b\b\b\b\b\b\b\b\b\b\b\b\b\b\b\b\b\b\b\b\b\b\b\b\b\b\b\b\b\b\b\b\b\b\b\b\b\b\b\b\b\b\b\b\b\b\b\b\b\b\b\b\b\b\b\b\b\b\b\b\b\b\b\b\b\b\b\b\b\b\b\b\b\b\b\b\b\b\b\b\b\b\b\b\b\b\b\b\b\b\b\b\b\b\b\b\b\b\b\b\b\b\b\b\b\b\b\b\b\b\b\b\b\b\b\b\b\b\b\b\b\b\b\b\b\b\b\b\b\b\b\b\b\b\b\b\b\b\b\b\b\b\b\b\b\b\b\b\b\b\b\b\b\b\b\b\b\b\b\b\b\b\b\b\b\b\b\b\b\b\b\b\b\b\b\b\b\b\b\b\b\b\b\b\b\b\b\b\b\b\b\b\b\b\b\b\b\b\b\b\b\b\b\b\b\b\b\b\b\b\b\b\b\b\b\b\b\b\b\b\b\b\b\b\b\b\b\b\b\b\b\b\b\b\b\b\b\b\b\b\b\b\b\b\b\b\b\b\b\b\b\b\b\b\b\b\b\b\b\b\b\b\b\b\b\b\b\b\b\b\b\b\b\b\b\b\b\b\b\b\b\b\b\b\b\b\b\b\b\b\b\b\b\b\b\b\b\b\b\b\b\b\b\b\b\b\b\b\b\b\b\b\b\b\b\b\b\b\b\b\b\b\b\b\b\b\b\b\b\b\b\b\b\b\b\b\b\b\b\b\b\b\b\b\b\b\b\b\b\b\b\b\b\b\b\b\b\b\b\b\b\b\b\b\b\b\b\b\b\b\b\b\b\b\b\b\b\b\b\b\b\b\b\b\b\b\b\b\b\b\b\b\b\b\b\b\b\b\b\b\b\b\b\b\b\b\b\b\b\b\b\b\b\b\b\b\b\b\b\b\b\b\b\b\b\b\b\b\b\b\b\b\b\b\b\b\b\b\b\b\b\b\b\b\b\b\b\b\b\b\b\b\b\b\b\b\b\b\b\b\b\b\b\b\b\b\b\b\b\b\b\b\b\b\b\b\b\b\b\b\b\b\b\b\b\b\b\b\b\b\b\b\b\b\b\b\b\b\b\b\b\b\b\b\b\b\b\b\b\b\b\b\b\b\b\b\b\b\b\b\b\b\b\b\b\b\b\b\b\b\b\b\b\b\b\b\b\b\b\b\b\b\b\b\b\b\b\b\b\b\b\b\b\b\b\b\b\b\b\b\b\b\b\b\b\b\b\b\b\b\b\b\b\b\b\b\b\b\b\b\b\b\b\b\b\b\b\b\b\b\b\b\b\b\b\b\b\b\b\b\b\b\b\b\b\b\b\b\b\b\b\b\b\b\b\b\b\b\b\b\b\b\b\b\b\b\b\b\b\b\b\b\b\b\b\b\b\b\b\b\b\b\b\b\b\b\b\b\b\b\b\b\b\b\b\b\b\b\b\b\b\b\b\b\b\b\b\b\b\b\b\b\b\b\b\b\b\b\b\b\b\b\b\b\b\b\b\b\b\b\b\b\b\b\b\b\b\b\b\b\b\b\b\b\b\b\b\b\b\b\b\b\b\b\b\b\b\b\b\b\b\b\b\b\b\b\b\b\b\b\b\b\b\b\b\b\b\b\b\b\b\b\b\b\b\b\b\b\b\b\b\b\b\b\b\b\b\b\b\b\b\b\b\b\b\b\b\b\b\b\b\b\b\b\b\b\b\b\b\b\b\b\b\b\b\b\b\b\b\b\b\b\b\b\b\b\b\b\b\b\b\b\b\b\b\b\b\b\b\b\b\b\b\b\b\b\b\b\b\b\b\b\b\b\b\b\b\b\b\b\b\b\b\b\b\b\b\b\b\b\b\b\b\b\b\b\b\b\b\b\b\b\b\b\b\b\b\b\b\b\b\b\b\b\b\b\b\b\b\b\b\b\b\b\b\b\b\b\b\b\b\b\b\b\b\b\b\b\b\b\b\b\b\b\b\b\b\b\b\b\b\b\b\b\b\b\b\b\b\b\b\b\b\b\b\b\b\b\b\b\b\b\b\b\b\b\b\b\b\b\b\b\b\b\b\b\b\b\b\b\b\b\b\b\b\b\b\b\b\b\b\b\b\b\b\b\b\b\b\b\b\b\b\b\b\b\b\b\b\b\b\b\b\b\b\b\b\b\b\b\b\b\b\b\b\b\b\b\b\b\b\b\b\b\b\b\b\b\b\b\b\b\b\b\b\b\b\b\b\b\b\b\b\b\b\b\b\b\b\b\b\b\b\b\b\b\b\b\b\b\b\b\b\b\b\b\b\b\b\b\b\b\b\b\b\b\b\b\b\b\b\b\b\b\b\b\b\b\b\b\b\b\b\b\b\b\b\b\b\b\b\b\b\b\b\b\b\b\b\b\b\b\b\b\b\b\b\b\b\b\b\b\b\b\b\b\b\b\b\b\b\b\b\b\b\b\b\b\b\b\b\b\b\b\b\b\b\b\b\b\b\b\b\b\b\b\b\b\b\b\b\b\b\b\b\b\b\b\b\b\b\b\b\b\b\b\b\b\b\b\b\b\b\b\b\b\b\b\b\b\b\b\b\b\b\b\b\b\b\b\b\b\b\b\b\b\b\b\b\b\b\b\b\b\b\b\b\b\b\b\b\b\b\b\b\b\b\b\b\b\b\b\b\b\b\b\b\b\b\b\b\b\b\b\b\b\b\b\b\b\b\b\b\b\b\b\b\b\b\b\b\b\b\b\b\b\b\b\b\b\b\b\b\b\b\b\b\b\b\b\b\b\b\b\b\b\b\b\b\b\b\b\b\b\b\b\b\b\b\b\b\b\b\b\b\b\b\b\b\b\b\b\b\b\b\b\b\b\b\b\b\b\b\b\b\b\b\b\b\b\b\b\b\b\b\b\b\b\b\b\b\b\b\b\b\b\b\b\b\b\b\b\b\b\b\b\b\b\b\b\b\b\b\b\b\b\b\b\b\b\b\b\b\b\b\b\b\b\b\b\b\b\b\b\b\b\b\b\b\b\b\b\b\b\b\b\b\b\b\b\b\b\b\b\b\b\b\b\b\b\b\b\b\b\b\b\b\b\b\b\b\b\b\b\b\b\b\b\b\b\b\b\b\b\b\b\b\b\b\b\b\b\b\b\b\b\b\b\b\b\b\b\b\b\b\b\b\b\b\b\b\b\b\b\b\b\b\b\b\b\b\b\b\b\b\b\b\b\b\b\b\b\b\b\b\b\b\b\b\b\b\b\b\b\b\b\b\b\b\b\b\b\b\b\b\b\b\b\b\b\b\b\b\b\b\b\b\b\b\b\b\b\b\b\b\b\b\b\b\b\b\b\b\b\b\b\b\b\b\b\b\b\b\b\b\b\b\b\b\b\b\b\b\b\b\b\b\b\b\b\b\b\b\b\b\b\b\b\b\b\b\b\b\b\b\b\b\b\b\b\b\b\b\b\b\b\b\b\b\b\b\b\b\b\b\b\b\b\b\b\b\b\b\b\b\b\b\b\b\b\b\b\b\b\b\b\b\b\b\b\b\b\b\b\b\b\b\b\b\b\b\b\b\b\b\b\b\b\b\b\b\b\b\b\b\b\b\b\b\b\b\b\b\b\b\b\b\b\b\b\b\b\b\b\b\b\b\b\b\b\b\b\b\b\b\b\b\b\b\b\b\b\b\b\b\b\b\b\b\b\b\b\b\b\b\b\b\b\b\b\b\b\b\b\b\b\b\b\b\b\b\b\b\b\b\b\b\b\b\b\b\b\b\b\b\b\b\b\b\b\b\b\b\b\b\b\b\b\b\b\b\b\b\b\b\b\b\b\b\b\b\b\b\b\b\b\b\b\b\b\b\b\b\b\b\b\b\b\b\b\b\b\b\b\b\b\b\b\b\b\b\b\b\b\b\b\b\b\b\b\b\b\b\b\b\b\b\b\b\b\b\b\b\b\b\b\b\b\b\b\b\b\b\b\b\b\b\b\b\b\b\b\b\b\b\b\b\b\b\b\b\b\b\b\b\b\b\b\b\b\b\b\b\b\b\b\b\b\b\b\b\b\b\b\b\b\b\b\b\b\b\b\b\b\b\b\b\b\b\b\b\b\b\b\b\b\b\b\b\b\b\b\b\b\b\b\b\b\b\b\b\b\b\b\b\b\b\b\b\b\b\b\b\b\b\b\b\b\b\b\b\b\b\b\b\b\b\b\b\b\b\b\b\b\b\b\b\b\b\b\b\b\b\b\b\b\b\b\b\b\b\b\b\b\b\b\b\b\b\b\b\b\b\b\b\b\b\b\b\b\b\b\b\b\b\b\b\b\b\b\b\b\b\b\b\b\b\b\b\b\b\b\b\b\b\b\b\b\b\b\b\b\b\b\b\b\b\b\b\b\b\b\b\b\b\b\b\b\b\b\b\b\b\b\b\b\b\b\b\b\b\b\b\b\b\b\b\b\b\b\b\b\b\b\b\b\b\b\b\b\b\b\b\b\b\b\b\b\b\b\b\b\b\b\b\b\b\b\b\b\b\b\b\b\b\b\b\b\b\b\b\b\b\b\b\b\b\b\b\b\b\b\b\b\b\b\b\b\b\b\b\b\b\b\b\b\b\b\b\b\b\b\b\b\b\b\b\b\b\b\b\b\b\b\b\b\b\b\b\b\b\b\b\b\b\b\b\b\b\b\b\b\b\b\b\b\b\b\b\b\b\b\b\b\b\b\b\b\b\b\b\b\b\b\b\b\b\b\b\b\b\b\b\b\b\b\b\b\b\b\b\b\b\b\b\b\b\b\b\b\b\b\b\b\b\b\b\b\b\b\b\b\b\b\b\b\b\b\b\b\b\b\b\b\b\b\b\b\b\b\b\b\b\b\b\b\b\b\b\b\b\b\b\b\b\b\b\b\b\b\b\b\b\b\b\b\b\b\b\b\b\b\b\b\b\b\b\b\b\b\b\b\b\b\b\b\b\b\b\b\b\b\b\b\b\b\b\b\b\b\b\b\b\b\b\b\b\b\b\b\b\b\b\b\b\b\b\b\b\b\b\b\b\b\b\b\b\b\b\b\b\b\b\b\b\b\b\b\b\b\b\b\b\b\b\b\b\b\b\b\b\b\b\b\b\b\b\b\b\b\b\b\b\b\b\b\b\b\b\b\b\b\b\b\b\b\b\b\b\b\b\b\b\b\b\b\b\b\b\b\b\b\b\b\b\b\b\b\b\b\b\b\b\b\b\b\b\b\b\b\b\b\b\b\b\b\b\b\b\b\b\b\b\b\b\b\b\b\b\b\b\b\b\b\b\b\b\b\b\b\b\b\b\b\b\b\b\b\b\b\b\b\b\b\b\b\b\b\b\b\b\b\b\b\b\b\b\b\b\b\b\b\b\b\b\b\b\b\b\b\b\b\b\b\b\b\b\b\b\b\b\b\b\b\b\b\b\b\b\b\b\b\b\b\b\b\b\b\b\b\b\b\b\b\b\b\b\b\b\b\b\b\b\b\b\b\b\b\b\b\b\b\b\b\b\b\b\b\b\b\b\b\b\b\b\b\b\b\b\b\b\b\b\b\b\b\b\b\b\b\b\b\b\b\b\b\b\b\b\b\b\b\b\b\b\b\b\b\b\b\b\b\b\b\b\b\b\b\b\b\b\b\b\b\b\b\b\b\b\b\b\b\b\b\b\b\b\b\b\b\b\b\b\b\b\b\b\b\b\b\b\b\b\b\b\b\b\b\b\b\b\b\b\b\b\b\b\b\b\b\b\b\b\b\b\b\b\b\b\b\b\b\b\b\b\b\b\b\b\b\b\b\b\b\b\b\b\b\b\b\b\b\b\b\b\b\b\b\b\b\b\b\b\b\b\b\b\b\b\b\b\b\b\b\b\b\b\b\b\b\b\b\b\b\b\b\b\b\b\b\b\b\b\b\b\b\b\b\b\b\b\b\b\b\b\b\b\b\b\b\b\b\b\b\b\b\b\b\b\b\b\b\b\b\b\b\b\b\b\b\b\b\b\b\b\b\b\b\b\b\b\b\b\b\b\b\b\b\b\b\b\b\b\b\b\b\b\b\b\b\b\b\b\b\b\b\b\b\b\b\b\b\b\b\b\b\b\b\b\b\b\b\b\b\b\b\b\b\b\b\b\b\b\b\b\b\b\b\b\b\b\b\b\b\b\b\b\b\b\b\b\b\b\b\b\b\b\b\b\b\b\b\b\b\b\b\b\b\b\b\b\b\b\b\b\b\b\b\b\b\b\b\b\b\b\b\b\b\b\b\b\b\b\b\b\b\b\b\b\b\b\b\b\b\b\b\b\b\b\b\b\b\b\b\b\b\b\b\b\b\b\b\b\b\b\b\b\b\b\b\b\b\b\b\b\b\b\b\b\b\b\b\b\b\b\b\b\b\b\b\b\b\b\b\b\b\b\b\b\b\b\b\b\b\b\b\b\b\b\b\b\b\b\b\b\b\b\b\b\b\b\b\b\b\b\b\b\b\b\b\b\b\b\b\b\b\b\b\b\b\b\b\b\b\b\b\b\b\b\b\b\b\b\b\b\b\b\b\b\b\b\b\b\b\b\b\b\b\b\b\b\b\b\b\b\b\b\b\b\b\b\b\b\b\b\b\b\b\b\b\b\b\b\b\b\b\b\b\b\b\b\b\b\b\b\b\b\b\b\b\b\b\b\b\b\b\b\b\b\b\b\b\b\b\b\b\b\b\b\b\b\b\b\b\b\b\b\b\b\b\b\b\b\b\b\b\b\b\b\b\b\b\b\b\b\b\b\b\b\b\b\b\b\b\b\b\b\b\b\b\b\b\b\b\b\b\b\b\b\b\b\b\b\b\b\b\b\b\b\b\b\b\b\b\b\b\b\b\b\b\b\b\b\b\b\b\b\b\b\b\b\b\b\b\b\b\b\b\b\b\b\b\b\b\b\b\b\b\b\b\b\b\b\b\b\b\b\b\b\b\b\b\b\b\b\b\b\b\b\b\b\b\b\b\b\b\b\b\b\b\b\b\b\b\b\b\b\b\b\b\b\b\b\b\b\b\b\b\b\b\b\b\b\b\b\b\b\b\b\b\b\b\b\b\b\b\b\b\b\b\b\b\b\b\b\b\b\b\b\b\b\b\b\b\b\b\b\b\b\b\b\b\b\b\b\b\b\b\b\b\b\b\b\b\b\b\b\b\b\b\b\b\b\b\b\b\b\b\b\b\b\b\b\b\b\b\b\b\b\b\b\b\b\b\b\b\b\b\b\b\b\b\b\b\b\b\b\b\b\b\b\b\b\b\b\b\b\b\b\b\b\b\b\b\b\b\b\b\b\b\b\b\b\b\b\b\b\b\b\b\b\b\b\b\b\b\b\b\b\b\b\b\b\b\b\b\b\b\b\b\b\b\b\b\b\b\b\b\b\b\b\b\b\b\b\b\b\b\b\b\b\b\b\b\b\b\b\b\b\b\b\b\b\b\b\b\b\b\b\b\b\b\b\b\b\b\b\b\b\b\b\b\b\b\b\b\b\b\b\b\b\b\b\b\b\b\b\b\b\b\b\b\b\b\b\b\b\b\b\b\b\b\b\b\b\b\b\b\b\b\b\b\b\b\b\b\b\b\b\b\b\b\b\b\b\b\b\b\b\b\b\b\b\b\b\b\b\b\b\b\b\b\b\b\b\b\b\b\b\b\b\b\b\b\b\b\b\b\b\b\b\b\b\b\b\b\b\b\b\b\b\b\b\b\b\b\b\b\b\b\b\b\b\b\b\b\b\b\b\b\b\b\b\b\b\b\b\b\b\b\b\b\b\b\b\b\b\b\b\b\b\b\b\b\b\b\b\b\b\b\b\b\b\b\b\b\b\b\b\b\b\b\b\b\b\b\b\b\b\b\b\b\b\b\b\b\b\b\b\b\b\b\b\b\b\b\b\b\b\b\b\b\b\b\b\b\b\b\b\b\b\b\b\b\b\b\b\b\b\b\b\b\b\b\b\b\b\b\b\b\b\b\b\b\b\b\b\b\b\b\b\b\b\b\b\b\b\b\b\b\b\b\b\b\b\b\b\b\b\b\b\b\b\b\b\b\b\b\b\b\b\b\b\b\b\b\b\b\b\b\b\b\b\b\b\b\b\b\b\b\b\b\b\b\b\b\b\b\b\b\b\b\b\b\b\b\b\b\b\b\b\b\b\b\b\b\b\b\b\b\b\b\b\b\b\b\b\b\b\b\b\b\b\b\b\b\b\b\b\b\b\b\b\b\b\b\b\b\b\b\b\b\b\b\b\b\b\b\b\b\b\b\b\b\b\b\b\b\b\b\b\b\b\b\b\b\b\b\b\b\b\b\b\b\b\b\b\b\b\b\b\b\b\b\b\b\b\b\b\b\b\b\b\b\b\b\b\b\b\b\b\b\b\b\b\b\b\b\b\b\b\b\b\b\b\b\b\b\b\b\b\b\b\b\b\b\b\b\b\b\b\b\b\b\b\b\b\b\b\b\b\b\b\b\b\b\b\b\b\b\b\b\b\b\b\b\b\b\b\b\b\b\b\b\b\b\b\b\b\b\b\b\b\b\b\b\b\b\b\b\b\b\b\b\b\b\b\b\b\b\b\b\b\b\b\b\b\b\b\b\b\b\b\b\b\b\b\b\b\b\b\b\b\b\b\b\b\b\b\b\b\b\b\b\b\b\b\b\b\b\b\b\b\b\b\b\b\b\b\b\b\b\b\b\b\b\b\b\b\b\b\b\b\b\b\b\b\b\b\b\b\b\b\b\b\b\b\b\b\b\b\b\b\b\b\b\b\b\b\b\b\b\b\b\b\b\b\b\b\b\b\b\b\b\b\b\b\b\b\b\b\b\b\b\b\b\b\b\b\b\b\b\b\b\b\b\b\b\b\b\b\b\b\b\b\b\b\b\b\b\b\b\b\b\b\b\b\b\b\b\b\b\b\b\b\b\b\b\b\b\b\b\b\b\b\b\b\b\b\b\b\b\b\b\b\b\b\b\b\b\b\b\b\b\b\b\b\b\b\b\b\b\b\b\b\b\b\b\b\b\b\b\b\b\b\b\b\b\b\b\b\b\n",
      "Epoch 5/40\n",
      "223/223 [==============================] - 60s 268ms/step - loss: 0.1776 - accuracy: 0.9453 - val_loss: 0.5510 - val_accuracy: 0.8359\b\b\b\b\b\b\b\b\b\b\b\b\b\b\b\b\b\b\b\b\b\b\b\b\b\b\b\b\b\b\b\b\b\b\b\b\b\b\b\b\b\b\b\b\b\b\b\b\b\b\b\b\b\b\b\b\b\b\b\b\b\b\b\b\b\b\b\b\b\b\b\b\b\b\b\b\b\b\b\b\b\b\b\b\b\b\b\b\b\b\b\b\b\b\b\b\b\b\b\b\b\b\b\b\b\b\b\b\b\b\b\b\b\b\b\b\b\b\b\b\b\b\b\b\b\b\b\b\b\b\b\b\b\b\b\b\b\b\b\b\b\b\b\b\b\b\b\b\b\b\b\b\b\b\b\b\b\b\b\b\b\b\b\b\b\b\b\b\b\b\b\b\b\b\b\b\b\b\b\b\b\b\b\b\b\b\b\b\b\b\b\b\b\b\b\b\b\b\b\b\b\b\b\b\b\b\b\b\b\b\b\b\b\b\b\b\b\b\b\b\b\b\b\b\b\b\b\b\b\b\b\b\b\b\b\b\b\b\b\b\b\b\b\b\b\b\b\b\b\b\b\b\b\b\b\b\b\b\b\b\b\b\b\b\b\b\b\b\b\b\b\b\b\b\b\b\b\b\b\b\b\b\b\b\b\b\b\b\b\b\b\b\b\b\b\b\b\b\b\b\b\b\b\b\b\b\b\b\b\b\b\b\b\b\b\b\b\b\b\b\b\b\b\b\b\b\b\b\b\b\b\b\b\b\b\b\b\b\b\b\b\b\b\b\b\b\b\b\b\b\b\b\b\b\b\b\b\b\b\b\b\b\b\b\b\b\b\b\b\b\b\b\b\b\b\b\b\b\b\b\b\b\b\b\b\b\b\b\b\b\b\b\b\b\b\b\b\b\b\b\b\b\b\b\b\b\b\b\b\b\b\b\b\b\b\b\b\b\b\b\b\b\b\b\b\b\b\b\b\b\b\b\b\b\b\b\b\b\b\b\b\b\b\b\b\b\b\b\b\b\b\b\b\b\b\b\b\b\b\b\b\b\b\b\b\b\b\b\b\b\b\b\b\b\b\b\b\b\b\b\b\b\b\b\b\b\b\b\b\b\b\b\b\b\b\b\b\b\b\b\b\b\b\b\b\b\b\b\b\b\b\b\b\b\b\b\b\b\b\b\b\b\b\b\b\b\b\b\b\b\b\b\b\b\b\b\b\b\b\b\b\b\b\b\b\b\b\b\b\b\b\b\b\b\b\b\b\b\b\b\b\b\b\b\b\b\b\b\b\b\b\b\b\b\b\b\b\b\b\b\b\b\b\b\b\b\b\b\b\b\b\b\b\b\b\b\b\b\b\b\b\b\b\b\b\b\b\b\b\b\b\b\b\b\b\b\b\b\b\b\b\b\b\b\b\b\b\b\b\b\b\b\b\b\b\b\b\b\b\b\b\b\b\b\b\b\b\b\b\b\b\b\b\b\b\b\b\b\b\b\b\b\b\b\b\b\b\b\b\b\b\b\b\b\b\b\b\b\b\b\b\b\b\b\b\b\b\b\b\b\b\b\b\b\b\b\b\b\b\b\b\b\b\b\b\b\b\b\b\b\b\b\b\b\b\b\b\b\b\b\b\b\b\b\b\b\b\b\b\b\b\b\b\b\b\b\b\b\b\b\b\b\b\b\b\b\b\b\b\b\b\b\b\b\b\b\b\b\b\b\b\b\b\b\b\b\b\b\b\b\b\b\b\b\b\b\b\b\b\b\b\b\b\b\b\b\b\b\b\b\b\b\b\b\b\b\b\b\b\b\b\b\b\b\b\b\b\b\b\b\b\b\b\b\b\b\b\b\b\b\b\b\b\b\b\b\b\b\b\b\b\b\b\b\b\b\b\b\b\b\b\b\b\b\b\b\b\b\b\b\b\b\b\b\b\b\b\b\b\b\b\b\b\b\b\b\b\b\b\b\b\b\b\b\b\b\b\b\b\b\b\b\b\b\b\b\b\b\b\b\b\b\b\b\b\b\b\b\b\b\b\b\b\b\b\b\b\b\b\b\b\b\b\b\b\b\b\b\b\b\b\b\b\b\b\b\b\b\b\b\b\b\b\b\b\b\b\b\b\b\b\b\b\b\b\b\b\b\b\b\b\b\b\b\b\b\b\b\b\b\b\b\b\b\b\b\b\b\b\b\b\b\b\b\b\b\b\b\b\b\b\b\b\b\b\b\b\b\b\b\b\b\b\b\b\b\b\b\b\b\b\b\b\b\b\b\b\b\b\b\b\b\b\b\b\b\b\b\b\b\b\b\b\b\b\b\b\b\b\b\b\b\b\b\b\b\b\b\b\b\b\b\b\b\b\b\b\b\b\b\b\b\b\b\b\b\b\b\b\b\b\b\b\b\b\b\b\b\b\b\b\b\b\b\b\b\b\b\b\b\b\b\b\b\b\b\b\b\b\b\b\b\b\b\b\b\b\b\b\b\b\b\b\b\b\b\b\b\b\b\b\b\b\b\b\b\b\b\b\b\b\b\b\b\b\b\b\b\b\b\b\b\b\b\b\b\b\b\b\b\b\b\b\b\b\b\b\b\b\b\b\b\b\b\b\b\b\b\b\b\b\b\b\b\b\b\b\b\b\b\b\b\b\b\b\b\b\b\b\b\b\b\b\b\b\b\b\b\b\b\b\b\b\b\b\b\b\b\b\b\b\b\b\b\b\b\b\b\b\b\b\b\b\b\b\b\b\b\b\b\b\b\b\b\b\b\b\b\b\b\b\b\b\b\b\b\b\b\b\b\b\b\b\b\b\b\b\b\b\b\b\b\b\b\b\b\b\b\b\b\b\b\b\b\b\b\b\b\b\b\b\b\b\b\b\b\b\b\b\b\b\b\b\b\b\b\b\b\b\b\b\b\b\b\b\b\b\b\b\b\b\b\b\b\b\b\b\b\b\b\b\b\b\b\b\b\b\b\b\b\b\b\b\b\b\b\b\b\b\b\b\b\b\b\b\b\b\b\b\b\b\b\b\b\b\b\b\b\b\b\b\b\b\b\b\b\b\b\b\b\b\b\b\b\b\b\b\b\b\b\b\b\b\b\b\b\b\b\b\b\b\b\b\b\b\b\b\b\b\b\b\b\b\b\b\b\b\b\b\b\b\b\b\b\b\b\b\b\b\b\b\b\b\b\b\b\b\b\b\b\b\b\b\b\b\b\b\b\b\b\b\b\b\b\b\b\b\b\b\b\b\b\b\b\b\b\b\b\b\b\b\b\b\b\b\b\b\b\b\b\b\b\b\b\b\b\b\b\b\b\b\b\b\b\b\b\b\b\b\b\b\b\b\b\b\b\b\b\b\b\b\b\b\b\b\b\b\b\b\b\b\b\b\b\b\b\b\b\b\b\b\b\b\b\b\b\b\b\b\b\b\b\b\b\b\b\b\b\b\b\b\b\b\b\b\b\b\b\b\b\b\b\b\b\b\b\b\b\b\b\b\b\b\b\b\b\b\b\b\b\b\b\b\b\b\b\b\b\b\b\b\b\b\b\b\b\b\b\b\b\b\b\b\b\b\b\b\b\b\b\b\b\b\b\b\b\b\b\b\b\b\b\b\b\b\b\b\b\b\b\b\b\b\b\b\b\b\b\b\b\b\b\b\b\b\b\b\b\b\b\b\b\b\b\b\b\b\b\b\b\b\b\b\b\b\b\b\b\b\b\b\b\b\b\b\b\b\b\b\b\b\b\b\b\b\b\b\b\b\b\b\b\b\b\b\b\b\b\b\b\b\b\b\b\b\b\b\b\b\b\b\b\b\b\b\b\b\b\b\b\b\b\b\b\b\b\b\b\b\b\b\b\b\b\b\b\b\b\b\b\b\b\b\b\b\b\b\b\b\b\b\b\b\b\b\b\b\b\b\b\b\b\b\b\b\b\b\b\b\b\b\b\b\b\b\b\b\b\b\b\b\b\b\b\b\b\b\b\b\b\b\b\b\b\b\b\b\b\b\b\b\b\b\b\b\b\b\b\b\b\b\b\b\b\b\b\b\b\b\b\b\b\b\b\b\b\b\b\b\b\b\b\b\b\b\b\b\b\b\b\b\b\b\b\b\b\b\b\b\b\b\b\b\b\b\b\b\b\b\b\b\b\b\b\b\b\b\b\b\b\b\b\b\b\b\b\b\b\b\b\b\b\b\b\b\b\b\b\b\b\b\b\b\b\b\b\b\b\b\b\b\b\b\b\b\b\b\b\b\b\b\b\b\b\b\b\b\b\b\b\b\b\b\b\b\b\b\b\b\b\b\b\b\b\b\b\b\b\b\b\b\b\b\b\b\b\b\b\b\b\b\b\b\b\b\b\b\b\b\b\b\b\b\b\b\b\b\b\b\b\b\b\b\b\b\b\b\b\b\b\b\b\b\b\b\b\b\b\b\b\b\b\b\b\b\b\b\b\b\b\b\b\b\b\b\b\b\b\b\b\b\b\b\b\b\b\b\b\b\b\b\b\b\b\b\b\b\b\b\b\b\b\b\b\b\b\b\b\b\b\b\b\b\b\b\b\b\b\b\b\b\b\b\b\b\b\b\b\b\b\b\b\b\b\b\b\b\b\b\b\b\b\b\b\b\b\b\b\b\b\b\b\b\b\b\b\b\b\b\b\b\b\b\b\b\b\b\b\b\b\b\b\b\b\b\b\b\b\b\b\b\b\b\b\b\b\b\b\b\b\b\b\b\b\b\b\b\b\b\b\b\b\b\b\b\b\b\b\b\b\b\b\b\b\b\b\b\b\b\b\b\b\b\b\b\b\b\b\b\b\b\b\b\b\b\b\b\b\b\b\b\b\b\b\b\b\b\b\b\b\b\b\b\b\b\b\b\b\b\b\b\b\b\b\b\b\b\b\b\b\b\b\b\b\b\b\b\b\b\b\b\b\b\b\b\b\b\b\b\b\b\b\b\b\b\b\b\b\b\b\b\b\b\b\b\b\b\b\b\b\b\b\b\b\b\b\b\b\b\b\b\b\b\b\b\b\b\b\b\b\b\b\b\b\b\b\b\b\b\b\b\b\b\b\b\b\b\b\b\b\b\b\b\b\b\b\b\b\b\b\b\b\b\b\b\b\b\b\b\b\b\b\b\b\b\b\b\b\b\b\b\b\b\b\b\b\b\b\b\b\b\b\b\b\b\b\b\b\b\b\b\b\b\b\b\b\b\b\b\b\b\b\b\b\b\b\b\b\b\b\b\b\b\b\b\b\b\b\b\b\b\b\b\b\b\b\b\b\b\b\b\b\b\b\b\b\b\b\b\b\b\b\b\b\b\b\b\b\b\b\b\b\b\b\b\b\b\b\b\b\b\b\b\b\b\b\b\b\b\b\b\b\b\b\b\b\b\b\b\b\b\b\b\b\b\b\b\b\b\b\b\b\b\b\b\b\b\b\b\b\b\b\b\b\b\b\b\b\b\b\b\b\b\b\b\b\b\b\b\b\b\b\b\b\b\b\b\b\b\b\b\b\b\b\b\b\b\b\b\b\b\b\b\b\b\b\b\b\b\b\b\b\b\b\b\b\b\b\b\b\b\b\b\b\b\b\b\b\b\b\b\b\b\b\b\b\b\b\b\b\b\b\b\b\b\b\b\b\b\b\b\b\b\b\b\b\b\b\b\b\b\b\b\b\b\b\b\b\b\b\b\b\b\b\b\b\b\b\b\b\b\b\b\b\b\b\b\b\b\b\b\b\b\b\b\b\b\b\b\b\b\b\b\b\b\b\b\b\b\b\b\b\b\b\b\b\b\b\b\b\b\b\b\b\b\b\b\b\b\b\b\b\b\b\b\b\b\b\b\b\b\b\b\b\b\b\b\b\b\b\b\b\b\b\b\b\b\b\b\b\b\b\b\b\b\b\b\b\b\b\b\b\b\b\b\b\b\b\b\b\b\b\b\b\b\b\b\b\b\b\b\b\b\b\b\b\b\b\b\b\b\b\b\b\b\b\b\b\b\b\b\b\b\b\b\b\b\b\b\b\b\b\b\b\b\b\b\b\b\b\b\b\b\b\b\b\b\b\b\b\b\b\b\b\b\b\b\b\b\b\b\b\b\b\b\b\b\b\b\b\b\b\b\b\b\b\b\b\b\b\b\b\b\b\b\b\b\b\b\b\b\b\b\b\b\b\b\b\b\b\b\b\b\b\b\b\b\b\b\b\b\b\b\b\b\b\b\b\b\b\b\b\b\b\b\b\b\b\b\b\b\b\b\b\b\b\b\b\b\b\b\b\b\b\b\b\b\b\b\b\b\b\b\b\b\b\b\b\b\b\b\b\b\b\b\b\b\b\b\b\b\b\b\b\b\b\b\b\b\b\b\b\b\b\b\b\b\b\b\b\b\b\b\b\b\b\b\b\b\b\b\b\b\b\b\b\b\b\b\b\b\b\b\b\b\b\b\b\b\b\b\b\b\b\b\b\b\b\b\b\b\b\b\b\b\b\b\b\b\b\b\b\b\b\b\b\b\b\b\b\b\b\b\b\b\b\b\b\b\b\b\b\b\b\b\b\b\b\b\b\b\b\b\b\b\b\b\b\b\b\b\b\b\b\b\b\b\b\b\b\b\b\b\b\b\b\b\b\b\b\b\b\b\b\b\b\b\b\b\b\b\b\b\b\b\b\b\b\b\b\b\b\b\b\b\b\b\b\b\b\b\b\b\b\b\b\b\b\b\b\b\b\b\b\b\b\b\b\b\b\b\b\b\b\b\b\b\b\b\b\b\b\b\b\b\b\b\b\b\b\b\b\b\b\b\b\b\b\b\b\b\b\b\b\b\b\b\b\b\b\b\b\b\b\b\b\b\b\b\b\b\b\b\b\b\b\b\b\b\b\b\b\b\b\b\b\b\b\b\b\b\b\b\b\b\b\b\b\b\b\b\b\b\b\b\b\b\b\b\b\b\b\b\b\b\b\b\b\b\b\b\b\b\b\b\b\b\b\b\b\b\b\b\b\b\b\b\b\b\b\b\b\b\b\b\b\b\b\b\b\b\b\b\b\b\b\b\b\b\b\b\b\b\b\b\b\b\b\b\b\b\b\b\b\b\b\b\b\b\b\b\b\b\b\b\b\b\b\b\b\b\b\b\b\b\b\b\b\b\b\b\b\b\b\b\b\b\b\b\b\b\b\b\b\b\b\b\b\b\b\b\b\b\b\b\b\b\b\b\b\b\b\b\b\b\b\b\b\b\b\b\b\b\b\b\b\b\b\b\b\b\b\b\b\b\b\b\b\b\b\b\b\b\b\b\b\b\b\b\b\b\b\b\b\b\b\b\b\b\b\b\b\b\b\b\b\b\b\b\b\b\b\b\b\b\b\b\b\b\b\b\b\b\b\b\b\b\b\b\b\b\b\b\b\b\b\b\b\b\b\b\b\b\b\b\b\b\b\b\b\b\b\b\b\b\b\b\b\b\b\b\b\b\b\b\b\b\b\b\b\b\b\b\b\b\b\b\b\b\b\b\b\b\b\b\b\b\b\b\b\b\b\b\b\b\b\b\b\b\b\b\b\b\b\b\b\b\b\b\b\b\b\b\b\b\b\b\b\b\b\b\b\b\b\b\b\b\b\b\b\b\b\b\b\b\b\b\b\b\b\b\b\b\b\b\b\b\b\b\b\b\b\b\b\b\b\b\b\b\b\b\b\b\b\b\b\b\b\b\b\b\b\b\b\b\b\b\b\b\b\b\b\b\b\b\b\b\b\b\b\b\b\b\b\b\b\b\b\b\b\b\b\b\b\b\b\b\b\b\b\b\b\b\b\b\b\b\b\b\b\b\b\b\b\b\b\b\b\b\b\b\b\b\b\b\b\b\b\b\b\b\b\b\b\b\b\b\b\b\b\b\b\b\b\b\b\b\b\b\b\b\b\b\b\b\b\b\b\b\b\b\b\b\b\b\b\b\b\b\b\b\b\b\b\b\b\b\b\b\b\b\b\b\b\b\b\b\b\b\b\b\b\b\b\b\b\b\b\b\b\b\b\b\b\b\b\b\b\b\b\b\b\b\b\b\b\b\b\b\b\b\b\b\b\b\b\b\b\b\b\b\b\b\b\b\b\b\b\b\b\b\b\b\b\b\b\b\b\b\b\b\b\b\b\b\b\b\b\b\b\b\b\b\b\b\b\b\b\b\b\b\b\b\b\b\b\b\b\b\b\b\b\b\b\b\b\b\b\b\b\b\b\b\b\b\b\b\b\b\b\b\b\b\b\b\b\b\b\b\b\b\b\b\b\b\b\b\b\b\b\b\b\b\b\b\b\b\b\b\b\b\b\b\b\b\b\b\b\b\b\b\b\b\b\b\b\b\b\b\b\b\b\b\b\b\b\b\b\b\b\b\b\b\b\b\b\b\b\b\b\b\b\b\b\b\b\b\b\b\b\b\b\b\b\b\b\b\b\b\b\b\b\b\b\b\b\b\b\b\b\b\b\b\b\b\b\b\b\b\b\b\b\b\b\b\b\b\b\b\b\b\b\b\b\b\b\b\b\b\b\b\b\b\b\b\b\b\b\b\b\b\b\b\b\b\b\b\b\b\b\b\b\b\b\b\b\b\b\b\b\b\b\b\b\b\b\b\b\b\b\b\b\b\b\b\b\b\b\b\b\b\b\b\b\b\b\b\b\b\b\b\b\b\b\b\b\b\b\b\b\b\b\b\b\b\b\b\b\b\b\b\b\b\b\b\b\b\b\b\b\b\b\b\b\b\b\b\b\b\b\b\b\b\b\b\b\b\b\b\b\b\b\b\b\b\b\b\b\b\b\b\b\b\b\b\b\b\b\b\b\b\b\b\b\b\b\b\b\b\b\b\b\b\b\b\b\b\b\b\b\b\b\b\b\b\b\b\b\b\b\b\b\b\b\b\b\b\b\b\b\b\b\b\b\b\b\b\b\b\b\b\b\b\b\b\b\b\b\b\b\b\b\b\b\b\b\b\b\b\b\b\b\b\b\b\b\b\b\b\b\b\b\b\b\b\b\b\b\b\b\b\b\b\b\b\b\b\b\b\b\b\b\b\b\b\b\b\b\b\b\b\b\b\b\b\b\b\b\b\b\b\b\b\b\b\b\b\b\b\b\b\b\b\b\b\b\b\b\b\b\b\b\b\b\b\b\b\b\b\b\b\b\b\b\b\b\b\b\b\b\b\b\b\b\b\b\b\b\b\b\b\b\b\b\b\b\b\b\b\b\b\b\b\b\b\b\b\b\b\b\b\b\b\b\b\b\b\b\b\b\b\b\b\b\b\b\b\b\b\b\b\b\b\b\b\b\b\b\b\b\b\b\b\b\b\b\b\b\b\b\b\b\b\b\b\b\b\b\b\b\b\b\b\b\b\b\b\b\b\b\b\b\b\b\b\b\b\b\b\b\b\b\b\b\b\b\b\b\b\b\b\b\b\b\b\b\b\b\b\b\b\b\b\b\b\b\b\b\b\b\b\b\b\b\b\b\b\b\b\b\b\b\b\b\b\b\b\b\b\b\b\b\b\b\b\b\b\b\b\b\b\b\b\b\b\b\b\b\b\b\b\b\b\b\b\b\b\b\b\b\b\b\b\b\b\b\b\b\b\b\b\b\b\b\b\b\b\b\b\b\b\b\b\b\b\b\b\b\b\b\b\b\b\b\b\b\b\b\b\b\b\b\b\b\b\b\b\b\b\b\b\b\b\b\b\b\b\b\b\b\b\b\b\b\b\b\b\b\b\b\b\b\b\b\b\b\b\b\b\b\b\b\b\b\b\b\b\b\b\b\b\b\b\b\b\b\b\b\b\b\b\b\b\b\b\b\b\b\b\b\b\b\b\b\b\b\b\b\b\b\b\b\b\b\b\b\b\b\b\b\b\b\b\b\b\b\b\b\b\b\b\b\b\b\b\b\b\b\b\b\b\b\b\b\b\b\b\b\b\b\b\b\b\b\b\b\b\b\b\b\b\b\b\b\b\b\b\b\b\b\b\b\b\b\b\b\b\b\b\b\b\b\b\b\b\b\b\b\b\b\b\b\b\b\b\b\b\b\b\b\b\b\b\b\b\b\b\b\b\b\b\b\b\b\b\b\b\b\b\b\b\b\b\b\b\b\b\b\b\b\b\b\b\b\b\b\b\b\b\b\b\b\b\b\b\b\b\b\b\b\b\b\b\b\b\b\b\b\b\b\b\b\b\b\b\b\b\b\b\b\b\b\b\b\b\b\b\b\b\b\b\b\b\b\b\b\b\b\b\b\b\b\b\b\b\b\b\b\b\b\b\b\b\b\b\b\b\b\b\b\b\b\b\b\b\b\b\b\b\b\b\b\b\b\b\b\b\b\b\b\b\b\b\b\b\b\b\b\b\b\b\b\b\b\b\b\b\b\b\b\b\b\b\b\b\b\b\b\b\b\b\b\b\b\b\b\b\b\b\b\b\b\b\b\b\b\b\b\b\b\b\b\b\b\b\b\b\b\b\b\b\b\b\b\b\b\b\b\b\b\b\b\b\b\b\b\b\b\b\b\b\b\b\b\b\b\b\b\b\b\b\b\b\b\b\b\b\b\b\b\b\b\b\b\b\b\b\b\b\b\b\b\b\b\b\b\b\b\b\b\b\b\b\b\b\b\b\b\b\b\b\b\b\b\b\b\b\b\b\b\b\b\b\b\b\b\b\b\b\b\b\b\b\b\b\b\b\b\b\b\b\b\b\b\b\b\b\b\b\b\b\b\b\b\b\b\b\b\b\b\b\b\b\b\b\b\b\b\b\b\b\b\b\b\b\b\b\b\b\b\b\b\b\b\b\b\b\b\b\b\b\b\b\b\b\b\b\b\b\b\b\b\b\b\b\b\b\b\b\b\b\b\b\b\b\b\b\b\b\b\b\b\b\b\b\b\b\b\b\b\b\b\b\b\b\b\b\b\b\b\b\b\b\b\b\b\b\b\b\b\b\b\b\b\b\b\b\b\b\b\b\b\b\b\b\b\b\b\b\b\b\b\b\b\b\b\b\b\b\b\b\b\b\b\b\b\b\b\b\b\b\b\b\b\b\b\b\b\b\b\b\b\b\b\b\b\b\b\b\b\b\b\b\b\b\b\b\b\b\b\b\b\b\b\b\b\b\b\b\b\b\b\b\b\b\b\b\b\b\b\b\b\b\b\b\b\b\b\b\b\b\b\b\b\b\b\b\b\b\b\b\b\b\b\b\b\b\b\b\b\b\b\b\b\b\b\b\b\b\b\b\b\b\b\b\b\b\b\b\b\b\b\b\b\b\b\b\b\b\b\b\b\b\b\b\b\b\b\b\b\b\b\b\b\b\b\b\b\b\b\b\b\b\b\b\b\b\b\b\b\b\b\b\b\b\b\b\b\b\b\b\b\b\b\b\b\b\b\b\b\b\b\b\b\b\b\b\b\b\b\b\b\b\b\b\b\b\b\b\b\b\b\b\b\b\b\b\b\b\b\b\b\b\b\b\b\b\b\b\b\b\b\b\b\b\b\b\b\b\b\b\b\b\b\b\b\b\b\b\b\b\b\b\b\b\b\b\b\b\b\b\b\b\b\b\b\b\b\b\b\b\b\b\b\b\b\b\b\b\b\b\b\b\b\b\b\b\b\b\b\b\b\b\b\b\b\b\b\b\b\b\b\b\b\b\b\b\b\b\b\b\b\b\b\b\b\b\b\b\b\b\b\b\b\b\b\b\b\b\b\b\b\b\b\b\b\b\b\b\b\b\b\b\b\b\b\b\b\b\b\b\b\b\b\b\b\b\b\b\b\b\b\b\b\b\b\b\b\b\b\b\b\b\b\b\b\b\b\b\b\b\b\b\b\b\b\b\b\b\b\b\b\b\b\b\b\b\b\b\b\b\b\b\b\b\b\b\b\b\b\b\b\b\b\b\b\b\b\b\b\b\b\b\b\b\b\b\b\b\b\b\b\b\b\b\b\b\b\b\b\b\b\b\b\b\b\b\b\b\b\b\b\b\b\b\b\b\b\b\b\b\b\b\b\b\b\b\b\b\b\b\b\b\b\b\b\b\b\b\b\b\b\b\b\b\b\b\b\b\b\b\b\b\b\b\b\b\b\b\b\b\b\b\b\b\b\b\b\b\b\b\b\b\b\b\b\b\b\b\b\b\b\b\b\b\b\b\b\b\b\b\b\b\b\b\b\b\b\b\b\b\b\b\b\b\b\b\b\b\b\b\b\b\b\b\b\b\b\b\b\b\b\b\b\b\b\b\b\b\b\b\b\b\b\b\b\b\b\b\b\b\b\b\b\b\b\b\b\b\b\b\b\b\b\b\b\b\b\b\b\b\b\b\b\b\b\b\b\b\b\b\b\b\b\b\b\b\b\b\b\b\b\b\b\b\b\b\b\b\b\b\b\b\b\b\b\b\b\b\b\b\b\b\b\b\b\b\b\b\b\b\b\b\b\b\b\b\b\b\b\b\b\b\b\b\b\b\b\b\b\b\b\b\b\b\b\b\b\b\b\b\b\b\b\b\b\b\b\b\b\b\b\b\b\b\b\b\b\b\b\b\b\b\b\b\b\b\b\b\b\b\b\b\b\b\b\b\b\b\b\b\b\b\b\b\b\b\b\b\b\b\b\b\b\b\b\b\b\b\b\b\b\b\b\b\b\b\b\b\b\b\b\b\b\b\b\b\b\b\b\b\b\b\b\b\b\b\b\b\b\b\b\b\b\b\b\b\b\b\b\b\b\b\b\b\b\b\b\b\b\b\b\b\b\b\b\b\b\b\b\b\b\b\b\b\b\b\b\b\b\b\b\b\b\b\b\b\b\b\b\b\b\b\b\b\b\b\b\b\b\b\b\b\b\b\b\b\b\b\b\b\b\b\b\b\b\b\b\b\b\b\b\b\b\b\b\b\b\b\b\b\b\b\b\b\b\b\b\b\b\b\b\b\b\b\b\b\b\b\b\b\b\b\b\b\b\b\b\b\b\b\b\b\b\b\b\b\b\b\b\b\b\b\b\b\b\b\b\b\b\b\b\b\b\b\b\b\b\b\b\b\b\b\b\b\b\b\b\b\b\b\b\b\b\b\b\b\b\b\b\b\b\b\b\b\b\b\b\b\b\b\b\b\b\b\b\b\b\b\b\b\b\b\b\b\b\b\b\b\b\b\b\b\b\b\b\b\b\b\b\b\b\b\b\b\b\b\b\b\b\b\b\b\b\b\b\b\b\b\b\b\b\b\b\b\b\b\b\b\b\b\b\b\b\b\b\b\b\b\b\b\b\b\b\b\b\b\b\b\b\b\b\b\b\b\b\b\b\b\b\b\b\b\b\b\b\b\b\b\b\b\b\b\b\b\b\b\b\b\b\b\b\b\b\b\b\b\b\b\b\b\b\b\b\b\b\b\b\b\b\b\b\b\b\b\b\b\b\b\b\b\b\b\b\b\b\b\b\b\b\b\b\b\b\b\b\b\b\b\b\b\b\b\b\b\b\b\b\b\b\b\b\b\b\b\b\b\b\b\b\b\b\b\b\b\b\b\b\b\b\b\b\b\b\b\b\b\b\b\b\b\b\b\b\b\b\b\b\b\b\b\b\b\b\b\b\b\b\b\b\b\b\b\b\b\b\b\b\b\b\b\b\b\b\b\b\b\b\b\b\b\b\b\b\b\b\b\b\b\b\b\b\b\b\b\b\b\b\b\b\b\b\b\b\b\b\b\b\b\b\b\b\b\b\b\b\b\b\b\b\b\b\b\b\b\b\b\b\b\b\b\b\b\b\b\b\b\b\b\b\b\b\b\b\b\b\b\b\b\b\b\b\b\b\b\b\b\b\b\b\b\b\b\b\b\b\b\b\b\b\b\b\b\b\b\b\b\b\b\b\b\b\b\b\b\b\b\b\b\b\b\b\b\b\b\b\b\b\b\b\b\b\b\b\b\b\b\b\b\b\b\b\b\b\b\b\b\b\b\b\b\b\b\b\b\b\b\b\b\b\b\b\b\b\b\b\b\b\b\b\b\b\b\b\b\b\b\b\b\b\b\b\b\b\b\b\b\b\b\b\b\b\b\b\b\b\b\b\b\b\b\b\b\b\b\b\b\b\b\b\b\b\b\b\b\b\b\b\b\b\b\b\b\b\b\b\b\b\b\b\b\b\b\b\b\b\b\b\b\b\b\b\b\b\b\b\b\b\b\b\b\b\b\b\b\b\b\b\b\b\b\b\b\b\b\b\b\b\b\b\b\b\b\b\b\b\b\b\b\b\b\b\b\b\b\b\b\b\b\b\b\b\b\b\b\b\b\b\b\b\b\b\b\b\b\b\b\b\b\b\b\b\b\b\b\b\b\b\b\b\b\b\b\b\b\b\b\b\b\b\b\b\b\b\b\b\b\b\b\b\b\b\b\b\b\b\b\b\b\b\b\b\b\b\b\b\b\b\b\b\b\b\b\b\b\b\b\b\b\b\b\b\b\b\b\b\b\b\b\b\b\b\b\b\b\b\b\b\b\b\b\b\b\b\b\b\b\b\b\b\b\b\b\b\b\b\b\b\b\b\b\b\b\b\b\b\b\b\b\b\b\b\b\b\b\b\b\b\b\b\b\b\b\b\b\b\b\b\b\b\b\b\b\b\b\b\b\b\b\b\b\b\b\b\b\b\b\b\b\b\b\b\b\b\b\b\b\b\b\b\b\b\b\b\b\b\b\b\b\b\b\b\b\b\b\b\b\b\b\b\b\b\b\b\b\b\b\b\b\b\b\b\b\b\b\b\b\b\b\b\b\b\b\b\b\b\b\b\b\b\b\b\b\b\b\b\b\b\b\b\b\b\b\b\b\b\b\b\b\b\b\b\b\b\b\b\b\b\b\b\b\b\b\b\b\b\b\b\b\b\b\b\b\b\b\b\b\b\b\b\b\b\b\b\b\b\b\b\b\b\b\b\b\b\b\b\b\b\b\b\b\b\b\b\b\b\b\b\b\b\b\b\b\b\b\b\b\b\b\b\b\b\b\b\b\b\b\b\b\b\b\b\b\b\b\b\b\b\b\b\b\b\b\b\b\b\b\b\b\b\b\b\b\b\b\b\b\b\b\b\b\b\b\b\b\b\b\b\b\b\b\b\b\b\b\b\b\b\b\b\b\b\b\b\b\b\b\b\b\b\b\b\b\b\b\b\b\b\b\b\b\b\b\b\b\b\b\b\b\b\b\b\b\b\b\b\b\b\b\b\b\b\b\b\b\b\b\b\b\b\b\b\b\b\b\b\b\b\b\b\b\b\b\b\b\b\b\b\b\b\b\b\b\b\b\b\b\b\b\b\b\b\b\b\b\b\b\b\b\b\b\b\b\b\b\b\b\b\b\b\b\b\b\b\b\b\b\b\b\b\b\b\b\b\b\b\b\b\b\b\b\b\b\b\b\b\b\b\b\b\b\b\b\b\b\b\b\b\b\b\b\b\b\b\b\b\b\b\b\b\b\b\b\b\b\b\b\b\b\b\b\b\b\b\b\b\b\b\b\b\b\b\b\b\b\b\b\b\b\b\b\b\b\b\b\b\b\b\b\b\b\b\b\b\b\b\b\b\b\b\b\b\b\b\b\b\b\b\b\b\b\b\b\b\b\b\b\b\b\b\b\b\b\b\b\b\b\b\b\b\b\b\b\b\b\b\b\b\b\b\b\b\b\b\b\b\b\b\b\b\b\b\b\b\b\b\b\b\b\b\b\b\b\b\b\b\b\b\b\b\b\b\b\b\b\b\b\b\b\b\b\b\b\b\b\b\b\b\b\b\b\b\b\b\b\b\b\b\b\b\b\b\b\b\b\b\b\b\b\b\b\b\b\b\b\b\b\b\b\b\b\b\b\b\b\b\b\b\b\b\b\b\b\b\b\b\b\b\b\b\b\b\b\b\b\b\b\b\b\b\b\b\b\b\b\b\b\b\b\b\b\b\b\b\b\b\b\b\b\b\b\b\b\b\b\b\b\b\b\b\b\b\b\b\b\b\b\b\b\b\b\b\b\b\b\b\b\b\b\b\b\b\b\b\b\b\b\b\b\b\b\b\b\b\b\b\b\b\b\b\b\b\b\b\b\b\b\b\b\b\b\b\b\b\b\b\b\b\b\b\b\b\b\b\b\b\b\b\b\b\b\b\b\b\b\b\b\b\b\b\b\b\b\b\b\b\b\b\b\b\b\b\b\b\b\b\b\b\b\b\b\b\b\b\b\b\b\b\b\b\b\b\b\b\b\b\b\b\b\b\b\b\b\b\b\b\b\b\b\b\b\b\b\b\b\b\b\b\b\b\b\b\b\b\b\b\b\b\b\b\b\b\b\b\b\b\b\b\b\b\b\b\b\b\b\b\b\b\b\b\b\b\b\b\b\b\b\b\b\b\b\b\b\b\b\b\b\b\b\b\b\b\b\b\b\b\b\b\b\b\b\b\b\b\b\b\b\b\b\b\b\b\b\b\b\b\b\b\b\b\b\b\b\b\b\b\b\b\b\b\b\b\b\b\b\b\b\b\b\b\b\b\b\b\b\b\b\b\b\b\b\b\b\b\b\b\b\b\b\b\b\b\b\b\b\b\b\b\b\b\b\b\b\b\b\b\b\b\b\b\b\b\b\b\b\b\b\b\b\b\b\b\b\b\b\b\b\b\b\b\b\b\b\b\b\b\b\b\b\b\b\b\b\b\b\b\b\b\b\b\b\b\b\b\b\b\b\b\b\b\b\b\b\b\b\b\b\b\b\b\b\b\b\b\b\b\b\b\b\b\b\b\b\b\b\b\b\b\b\b\b\b\b\b\b\b\b\b\b\b\b\b\b\b\b\b\b\b\b\b\b\b\b\b\b\b\b\b\b\b\b\b\b\b\b\b\b\b\b\b\b\b\b\b\b\b\b\b\b\b\b\b\b\b\b\b\b\b\b\b\b\b\b\b\b\b\b\b\b\b\b\b\b\b\b\b\b\b\b\b\b\b\b\b\b\b\b\b\b\b\b\b\b\b\b\b\b\b\b\b\b\b\b\b\b\b\b\b\b\b\b\b\b\b\b\b\b\b\b\b\b\b\b\b\b\b\b\b\b\b\b\b\b\b\b\b\b\b\b\b\b\b\b\b\b\b\b\b\b\b\b\b\b\b\b\b\b\b\b\b\b\b\b\b\b\b\b\b\b\b\b\b\b\b\b\b\b\b\b\b\b\b\b\b\b\b\b\b\b\b\b\b\b\b\b\b\b\b\b\b\b\b\b\b\b\b\b\b\b\b\b\b\b\b\b\b\b\b\b\b\b\b\b\b\b\b\b\b\b\b\b\b\b\b\b\b\b\b\b\b\b\b\b\b\b\b\b\b\b\b\b\b\b\b\b\b\b\b\b\b\b\b\b\b\b\b\b\b\b\b\b\b\b\b\b\b\b\b\b\b\b\b\b\b\b\b\b\b\b\b\b\b\b\b\b\b\b\b\b\b\b\b\b\b\b\b\b\b\b\b\b\b\b\b\b\b\b\b\b\b\b\b\b\b\b\b\b\b\b\b\b\b\b\b\b\b\b\b\b\b\b\b\b\b\b\b\b\b\b\b\b\b\b\b\b\b\b\b\b\b\b\b\b\b\b\b\b\b\b\b\b\b\b\b\b\b\b\b\b\b\b\b\b\b\b\b\b\b\b\b\b\b\b\b\b\b\b\b\b\b\b\b\b\b\b\b\b\b\b\b\b\b\b\b\b\b\b\b\b\b\b\b\b\b\b\b\b\b\b\b\b\b\b\b\b\b\b\b\b\b\b\b\b\b\b\b\b\b\b\b\b\b\b\b\b\b\b\b\b\b\b\b\b\b\b\b\b\b\b\b\b\b\b\b\b\b\b\b\b\b\b\b\b\b\b\b\b\b\b\b\b\b\b\b\b\b\b\b\b\b\b\b\b\b\b\b\b\b\b\b\b\b\b\b\b\b\b\b\b\b\b\b\b\b\b\b\b\b\b\b\b\b\b\b\b\b\b\b\b\b\b\b\b\b\b\b\b\b\b\b\b\b\b\b\b\b\b\b\b\b\b\b\b\b\b\b\b\b\b\b\b\b\b\b\b\b\b\b\b\b\b\b\b\b\b\b\b\b\b\b\b\b\b\b\b\b\b\b\b\b\b\b\b\b\b\b\b\b\b\b\b\b\b\b\b\b\b\b\b\b\b\b\b\b\b\b\b\b\b\b\b\b\b\b\b\b\b\b\b\b\b\b\b\b\b\b\b\b\b\b\b\b\b\b\b\b\b\b\b\b\b\b\b\b\b\b\b\b\b\b\b\b\b\b\b\b\b\b\b\b\b\b\b\b\b\b\b\b\b\b\b\b\b\b\b\b\b\b\b\b\b\b\b\b\b\b\b\b\b\b\b\b\b\b\b\b\b\b\b\b\b\b\b\b\b\b\b\b\b\b\b\b\b\b\b\b\b\b\b\b\b\b\b\b\b\b\b\b\b\b\b\b\b\b\b\b\b\b\b\b\b\b\b\b\b\b\b\b\b\b\b\b\b\b\b\b\b\b\b\b\b\b\b\b\b\b\b\b\b\b\b\b\b\b\b\b\b\b\b\b\b\b\b\b\b\b\b\b\b\b\b\b\b\b\b\b\b\b\b\b\b\b\b\b\b\b\b\b\b\b\b\b\b\b\b\b\b\b\b\b\b\b\b\b\b\b\b\b\b\b\b\b\b\b\b\b\b\b\b\b\b\b\b\b\b\b\b\b\b\b\b\b\b\b\b\b\b\b\b\b\b\b\b\b\b\b\b\b\b\b\b\b\b\b\b\b\b\b\b\b\b\b\b\b\b\b\b\b\b\b\b\b\b\b\b\b\b\b\b\b\b\b\b\b\b\b\b\b\b\b\b\b\b\b\b\b\b\b\b\b\b\b\b\b\b\b\b\b\b\b\b\b\b\b\b\b\b\b\b\b\b\b\b\b\b\b\b\b\b\b\b\b\b\b\b\b\b\b\b\b\b\b\b\b\b\b\b\b\b\b\b\b\b\b\b\b\b\b\b\b\b\b\b\b\b\b\b\b\b\b\b\b\b\b\b\b\b\b\b\b\b\b\b\b\b\b\b\b\b\b\b\b\b\b\b\b\b\b\b\b\b\b\b\b\b\b\b\b\b\b\b\b\b\b\b\b\b\b\b\b\b\b\b\b\b\b\b\b\b\b\b\b\b\b\b\b\b\b\b\b\b\b\b\b\b\b\b\b\b\b\b\b\b\b\b\b\b\b\b\b\b\b\b\b\b\b\b\b\b\b\b\b\b\b\b\b\b\b\b\b\b\b\b\b\b\b\b\b\b\b\b\b\b\b\b\b\b\b\b\b\b\b\b\b\b\b\b\b\b\b\b\b\b\b\b\b\b\b\b\b\b\b\b\b\b\b\b\b\b\b\b\b\b\b\b\b\b\b\b\b\b\b\b\b\b\b\b\b\b\b\b\b\b\b\b\b\b\b\b\b\b\b\b\b\b\b\b\b\b\b\b\b\b\b\b\b\b\b\b\b\b\b\b\b\b\b\b\b\b\b\b\b\b\b\b\b\b\b\b\b\b\b\b\b\b\b\b\b\b\b\b\b\b\b\b\b\b\b\b\b\b\b\b\b\b\b\b\b\b\b\b\b\b\b\b\b\b\b\b\b\b\b\b\b\b\b\b\b\b\b\b\b\b\b\b\b\b\b\b\b\b\b\b\b\b\b\b\b\b\b\b\b\b\b\b\b\b\b\b\b\b\b\b\b\b\b\b\b\b\b\b\b\b\b\b\b\b\b\b\b\b\b\b\b\b\b\b\b\b\b\b\b\b\b\b\b\b\b\b\b\b\b\b\b\b\b\b\b\b\b\b\b\b\b\b\b\b\b\b\b\b\b\b\b\b\b\b\b\b\b\b\b\b\b\b\b\b\b\b\b\b\b\b\b\b\b\b\b\b\b\b\b\b\b\b\b\b\b\b\b\b\b\b\b\b\b\b\b\b\b\b\b\b\b\b\b\b\b\b\b\b\b\b\b\b\b\b\b\b\b\b\b\b\b\b\b\b\b\b\b\b\b\b\b\b\b\b\b\b\b\b\b\b\b\b\b\b\b\b\b\b\b\b\b\b\b\b\b\b\b\b\b\b\b\b\b\b\b\b\b\b\b\b\b\b\b\b\b\b\b\b\b\b\b\b\b\b\b\b\b\b\b\b\b\b\b\b\b\b\b\b\b\b\b\b\b\b\b\b\b\b\b\b\b\b\b\b\b\b\b\b\b\b\b\b\b\b\b\b\b\b\b\b\b\b\b\b\b\b\b\b\b\b\b\b\b\b\b\b\b\b\b\b\b\b\b\b\b\b\b\b\b\b\b\b\b\b\b\b\b\b\b\b\b\b\b\b\b\b\b\b\b\b\b\b\b\b\b\b\b\b\b\b\b\b\b\b\b\b\b\b\b\b\b\b\b\b\b\b\b\b\b\b\b\b\b\b\b\b\b\b\b\b\b\b\b\b\b\b\b\b\b\b\b\b\b\b\b\b\b\b\b\b\b\b\b\b\b\b\b\b\b\b\b\b\b\b\b\b\b\b\b\b\b\b\b\b\b\b\b\b\b\b\b\b\b\b\b\b\b\b\b\b\b\b\b\b\b\b\b\b\b\b\b\b\b\b\b\b\b\b\b\b\b\b\b\b\b\b\b\b\b\b\b\b\b\b\b\b\b\b\b\b\b\b\b\b\b\b\b\b\b\b\b\b\b\b\b\b\b\b\b\b\b\b\b\b\b\b\b\b\b\b\b\b\b\b\b\b\b\b\b\b\b\b\b\b\b\b\b\b\b\b\b\b\b\b\b\b\b\b\b\b\b\b\b\b\b\b\b\b\b\b\b\b\b\b\b\b\b\b\b\b\b\b\b\b\b\b\b\b\b\b\b\b\b\b\b\b\b\b\b\b\b\b\b\b\b\b\b\b\b\b\b\b\b\b\b\b\b\b\b\b\b\b\b\b\b\b\b\b\b\b\b\b\b\b\b\b\b\b\b\b\b\b\b\b\b\b\b\b\b\b\b\b\b\b\b\b\b\b\b\b\b\b\b\b\b\b\b\b\b\b\b\b\b\b\b\b\b\b\b\b\b\b\b\b\b\b\b\b\b\b\b\b\b\b\b\b\b\b\b\b\b\b\b\b\b\b\b\b\b\b\b\b\b\b\b\b\b\b\b\b\b\b\b\b\b\b\b\b\b\b\b\b\b\b\b\b\b\b\b\b\b\b\b\b\b\b\b\b\b\b\b\b\b\b\b\b\b\b\b\b\b\b\b\b\b\b\b\b\b\b\b\b\b\b\b\b\b\b\b\b\b\b\b\b\b\b\b\b\b\b\b\b\b\b\b\b\b\b\b\b\b\b\b\b\b\b\b\b\b\b\b\b\b\b\b\b\b\b\b\b\b\b\b\b\b\b\b\b\b\b\b\b\b\b\b\b\b\b\b\b\b\b\b\b\b\b\b\b\b\b\b\b\b\b\b\b\b\b\b\b\b\b\b\b\b\b\b\b\b\b\b\b\b\b\b\b\b\b\b\b\b\b\b\b\b\b\b\b\b\b\b\b\b\b\b\b\b\b\b\b\b\b\b\b\b\b\b\b\b\b\b\b\b\b\b\b\b\b\b\b\b\b\b\b\b\b\b\b\b\b\b\b\b\b\b\b\b\b\b\b\b\b\b\b\b\b\b\b\b\b\b\b\b\b\b\b\b\b\b\b\b\b\b\b\b\b\b\b\b\b\b\b\b\b\b\b\b\b\b\b\b\b\b\b\b\b\b\b\b\b\b\b\b\b\b\b\b\b\b\b\b\b\b\b\b\b\b\b\b\b\b\b\b\b\b\b\b\b\b\b\b\b\b\b\b\b\b\b\b\b\b\b\b\b\b\b\b\b\b\b\b\b\b\b\b\b\b\b\b\b\b\b\b\b\b\b\b\b\b\b\b\b\b\b\b\b\b\b\b\b\b\b\b\b\b\b\b\b\b\b\b\b\b\b\b\b\b\b\b\b\b\b\b\b\b\b\b\b\b\b\b\b\b\b\b\b\b\b\b\b\b\b\b\b\b\b\b\b\b\b\b\b\b\b\b\b\b\b\b\b\b\b\b\b\b\b\b\b\b\b\b\b\b\b\b\b\b\b\b\b\b\b\b\b\b\b\b\b\b\b\b\b\b\b\b\b\b\b\b\b\b\b\b\b\b\b\b\b\b\b\b\b\b\b\b\b\b\b\b\b\b\b\b\b\b\b\b\b\b\b\b\b\b\b\b\b\b\b\b\b\b\b\b\b\b\b\b\b\b\b\b\b\b\b\b\b\b\b\b\b\b\b\b\b\b\b\b\b\b\b\b\b\b\b\b\b\b\b\b\b\b\b\b\b\b\b\b\b\b\b\b\b\b\b\b\b\b\b\b\b\b\b\b\b\b\b\b\b\b\b\b\b\b\b\b\b\b\b\b\b\b\b\b\b\b\b\b\b\b\b\b\b\b\b\b\b\b\b\b\b\b\b\b\b\b\b\b\b\b\b\b\b\b\b\b\b\b\b\b\b\b\b\b\b\b\b\b\b\b\b\b\b\b\b\b\b\b\b\b\b\b\b\b\b\b\b\b\b\b\b\b\b\b\b\b\b\b\b\b\b\b\b\b\b\b\b\b\b\b\b\b\b\b\b\b\b\b\b\b\b\b\b\b\b\b\b\b\b\b\b\b\b\b\b\b\b\b\b\b\b\b\b\b\b\b\b\b\b\b\b\b\b\b\b\b\b\b\b\b\b\b\b\b\b\b\b\b\b\b\b\b\b\b\b\b\b\b\b\b\b\b\b\b\b\b\b\b\b\b\b\b\b\b\b\b\b\b\b\b\b\b\b\b\b\b\b\b\b\b\b\b\b\b\b\b\b\b\b\b\b\b\b\b\b\b\b\b\b\b\b\b\b\b\b\b\b\b\b\b\b\b\b\b\b\b\b\b\b\b\b\b\b\b\b\b\b\b\b\b\b\b\b\b\b\b\b\b\b\b\b\b\b\b\b\b\b\b\b\b\b\b\b\b\b\b\b\b\b\b\b\b\b\b\b\b\b\b\b\b\b\b\b\b\b\b\b\b\b\b\b\b\b\b\b\b\b\b\b\b\b\b\b\b\b\b\b\b\b\b\b\b\b\b\b\b\b\b\b\b\b\b\b\b\b\b\b\b\b\b\b\b\b\b\b\b\b\b\b\b\b\b\b\b\b\b\b\b\b\b\b\b\b\b\b\b\b\b\b\b\b\b\b\b\b\b\b\b\b\b\b\b\b\b\b\b\b\b\b\b\b\b\b\b\b\b\b\b\b\b\b\b\b\b\b\b\b\b\b\b\b\b\b\b\b\b\b\b\b\b\b\b\b\b\b\b\b\b\b\b\b\b\b\b\b\b\b\b\b\b\b\b\b\b\b\b\b\b\b\b\b\b\b\b\b\b\b\b\b\b\b\b\b\b\b\b\b\b\b\b\b\b\b\b\b\b\b\b\b\b\b\b\b\b\b\b\b\b\b\b\b\b\b\b\b\b\b\b\b\b\b\b\b\b\b\b\b\b\b\b\b\b\b\b\b\b\b\b\b\b\b\b\b\b\b\b\b\b\b\b\b\b\b\b\b\b\b\b\b\b\b\b\b\b\b\b\b\b\b\b\b\b\b\b\b\b\b\b\b\b\b\b\b\b\b\b\b\b\b\b\b\b\b\b\b\b\b\b\b\b\b\b\b\b\b\b\b\b\b\b\b\b\b\b\b\b\b\b\b\b\b\b\b\b\b\b\b\b\b\b\b\b\b\b\b\b\b\b\b\b\b\b\b\b\b\b\b\b\b\b\b\b\b\b\b\b\b\b\b\b\b\b\b\b\b\b\b\b\b\b\b\b\b\b\b\b\b\b\b\b\b\b\b\b\b\b\b\b\b\b\b\b\b\b\b\b\b\b\b\b\b\b\b\b\b\b\b\b\b\b\b\b\b\b\b\b\b\b\b\b\b\b\b\b\b\b\b\b\b\b\b\b\b\b\b\b\b\b\b\b\b\b\b\b\b\b\b\b\b\b\b\b\b\b\b\b\b\b\b\b\b\b\b\b\b\b\b\b\b\b\b\b\b\b\b\b\b\b\b\b\b\b\b\b\b\b\b\b\b\b\b\b\b\b\b\b\b\b\b\b\b\b\b\b\b\b\b\b\b\b\b\b\b\b\b\b\b\b\b\b\b\b\b\b\b\b\b\b\b\b\b\b\b\b\b\b\b\b\b\b\b\b\b\b\b\b\b\b\b\b\b\b\b\b\b\b\b\b\b\b\b\b\b\b\b\b\b\b\b\b\b\b\b\b\b\b\b\b\b\b\b\b\b\b\b\b\b\b\b\b\b\b\b\b\b\b\b\b\b\b\b\b\b\b\b\b\b\b\b\b\b\b\b\b\b\b\b\b\b\b\b\b\b\b\b\b\b\b\b\b\b\b\b\b\b\b\b\b\b\b\b\b\b\b\b\b\b\b\b\b\b\b\b\b\b\b\b\b\b\b\b\b\b\b\b\b\b\b\b\b\b\b\b\b\b\b\b\b\b\b\b\b\b\b\b\b\b\b\b\b\b\b\b\b\b\b\b\b\b\b\b\b\b\b\b\b\b\b\b\b\b\b\b\b\b\b\b\b\b\b\b\b\b\b\b\b\b\b\b\b\b\b\b\b\b\b\b\b\b\b\b\b\b\b\b\b\b\b\b\b\b\b\b\b\b\b\b\b\b\b\b\b\b\b\b\b\b\b\b\b\b\b\b\b\b\b\b\b\b\b\b\b\b\b\b\b\b\b\b\b\b\b\b\b\b\b\b\b\b\b\b\b\b\b\b\b\b\b\b\b\b\b\b\b\b\b\b\b\b\b\b\b\b\b\b\b\b\b\b\b\b\b\b\b\b\b\b\b\b\b\b\b\b\b\b\b\b\b\b\b\b\b\b\b\b\b\b\b\b\b\b\b\b\b\b\b\b\b\b\b\b\b\b\b\b\b\b\b\b\b\b\b\b\b\b\b\b\b\b\b\b\b\b\b\b\b\b\b\b\b\b\b\b\b\b\b\b\b\b\b\b\b\b\b\b\b\b\b\b\b\b\b\b\b\b\b\b\b\b\b\b\b\b\b\b\b\b\b\b\b\b\b\b\b\b\b\b\b\b\b\b\b\b\b\b\b\b\b\b\b\b\b\b\b\b\b\b\b\b\b\b\b\b\b\b\b\b\b\b\b\b\b\b\b\b\b\b\b\b\b\b\b\b\b\b\b\b\b\b\b\b\b\b\b\b\b\b\b\b\b\b\b\b\b\b\b\b\b\b\b\b\b\b\b\b\b\b\b\b\b\b\b\b\b\b\b\b\b\b\b\b\b\b\b\b\b\b\b\b\b\b\b\b\b\b\b\b\b\b\b\b\b\b\b\b\b\b\b\b\b\b\b\b\b\b\b\b\b\b\b\b\b\b\b\b\b\b\b\b\b\b\b\b\b\b\b\b\b\b\b\b\b\b\b\b\b\b\b\b\b\b\b\b\b\b\b\b\b\b\b\b\b\b\b\b\b\b\b\b\b\b\b\b\b\b\b\b\b\b\b\b\b\b\b\b\b\b\b\b\b\b\b\b\b\b\b\b\b\b\b\b\b\b\b\b\b\b\b\b\b\b\b\b\b\b\b\b\b\b\b\b\b\b\b\b\b\b\b\b\b\b\b\b\b\b\b\b\b\b\b\b\b\b\b\b\b\b\b\b\b\b\b\b\b\b\b\b\b\b\b\b\b\b\b\b\b\b\b\b\b\b\b\b\b\b\b\b\b\b\b\b\b\b\b\b\b\b\b\b\b\b\b\b\b\b\b\b\b\b\b\b\b\b\b\b\b\b\b\b\b\b\b\b\b\b\b\b\b\b\b\b\b\b\b\b\b\b\b\b\b\b\b\b\b\b\b\b\b\b\b\b\b\b\b\b\b\b\b\b\b\b\b\b\b\b\b\b\b\b\b\b\b\b\b\b\b\b\b\b\b\b\b\b\b\b\b\b\b\b\b\b\b\b\b\b\b\b\b\b\b\b\b\b\b\b\b\b\b\b\b\b\b\b\b\b\b\b\b\b\b\b\b\b\b\b\b\b\b\b\b\b\b\b\b\b\b\b\b\b\b\b\b\b\b\b\b\b\b\b\b\b\b\b\b\b\b\b\b\b\b\b\b\b\b\b\b\b\b\b\b\b\b\b\b\b\b\b\b\b\b\b\b\b\b\b\b\b\b\b\b\b\b\b\b\b\b\b\b\b\b\b\b\b\b\b\b\b\b\b\b\b\b\b\b\b\b\b\b\b\b\b\b\b\b\b\b\b\b\b\b\b\b\b\b\b\b\b\b\b\b\b\b\b\b\b\b\b\b\b\b\b\b\b\b\b\b\b\b\b\b\b\b\b\b\b\b\b\b\b\b\b\b\b\b\b\b\b\b\b\b\b\b\b\b\b\b\b\b\b\b\b\b\b\b\b\b\b\b\b\b\b\b\b\b\b\b\b\b\b\b\b\b\b\b\b\b\b\b\b\b\b\b\b\b\b\b\b\b\b\b\b\b\b\b\b\b\b\b\b\b\b\b\b\b\b\b\b\b\b\b\b\b\b\b\b\b\b\b\b\b\b\b\b\b\b\b\b\b\b\b\b\b\b\b\b\b\b\b\b\b\b\b\b\b\b\b\b\b\b\b\b\b\b\b\b\b\b\b\b\b\b\b\b\b\b\b\b\b\b\b\b\b\b\b\b\b\b\b\b\b\b\b\b\b\b\b\b\b\b\b\b\b\b\b\b\b\b\b\b\b\b\b\b\b\b\b\b\b\b\b\b\b\b\b\b\b\b\b\b\b\b\b\b\b\b\b\b\b\b\b\b\b\b\b\b\b\b\b\b\b\b\b\b\b\b\b\b\b\b\b\b\b\b\b\b\b\b\b\b\b\b\b\b\b\b\b\b\b\b\b\b\b\b\b\b\b\b\b\b\b\b\b\b\b\b\b\b\b\b\b\b\b\b\b\b\b\b\b\b\b\b\b\b\b\b\b\b\b\b\b\b\b\b\b\b\b\b\b\b\b\b\b\b\b\b\b\b\b\b\b\b\b\b\b\b\b\b\b\b\b\b\b\b\b\b\b\b\b\b\b\b\b\b\b\b\b\b\b\b\b\b\b\b\b\b\b\b\b\b\b\b\b\b\b\b\b\b\b\b\b\b\b\b\b\b\b\b\b\b\b\b\b\b\b\b\b\b\b\b\b\b\b\b\b\b\b\b\b\b\b\b\b\b\b\b\b\b\b\b\b\b\b\b\b\b\b\b\b\b\b\b\b\b\b\b\b\b\b\b\b\b\b\b\b\b\b\b\b\b\b\b\b\b\b\b\b\b\b\b\b\b\b\b\b\b\b\b\b\b\b\b\b\b\b\b\b\b\b\b\b\b\b\b\b\b\b\b\b\b\b\b\b\b\b\b\b\b\b\b\b\b\b\b\b\b\b\b\b\b\b\b\b\b\b\b\b\b\b\b\b\b\b\b\b\b\b\b\b\b\b\b\b\b\b\b\b\b\b\b\b\b\b\b\b\b\b\b\b\b\b\b\b\b\b\b\b\b\b\b\b\b\b\b\b\b\b\b\b\b\b\b\b\b\b\b\b\b\b\b\b\b\b\b\b\b\b\b\b\b\b\b\b\b\b\b\b\b\b\b\b\b\b\b\b\b\b\b\b\b\b\b\b\b\b\b\b\b\b\b\b\b\b\b\b\b\b\b\b\b\b\b\b\b\b\b\b\b\b\b\b\b\b\b\b\b\b\b\b\b\b\b\b\b\b\b\b\b\b\b\b\b\b\b\b\b\b\b\b\b\b\b\b\b\b\b\b\b\b\b\b\b\b\b\b\b\b\b\b\b\b\b\b\b\b\b\b\b\b\b\b\b\b\b\b\b\b\b\b\b\b\b\b\b\b\b\b\b\b\b\b\b\b\b\b\b\b\b\b\b\b\b\b\b\b\b\b\b\b\b\b\b\b\b\b\b\b\b\b\b\b\b\b\b\b\b\b\b\b\b\b\b\b\b\b\b\b\b\b\b\b\b\b\b\b\b\b\b\b\b\b\b\b\b\b\b\b\b\b\b\b\b\b\b\b\b\b\b\b\b\b\b\b\b\b\b\b\b\b\b\b\b\b\b\b\b\b\b\b\b\b\b\b\b\b\b\b\b\b\b\b\b\b\b\b\b\b\b\b\b\b\b\b\b\b\b\b\b\b\b\b\b\b\b\b\b\b\b\b\b\b\b\b\b\b\b\b\b\b\b\b\b\b\b\b\b\b\b\b\b\b\b\b\b\b\b\b\b\b\b\b\b\b\b\b\b\b\b\b\b\b\b\b\b\b\b\b\b\b\b\b\b\b\b\b\b\b\b\b\b\b\b\b\b\b\b\b\b\b\b\b\b\b\b\b\b\b\b\b\b\b\b\b\b\b\b\b\b\b\b\b\b\b\b\b\b\b\b\b\b\b\b\b\b\b\b\b\b\b\b\b\b\b\b\b\b\b\b\b\b\b\b\b\b\b\b\b\b\b\b\b\b\b\b\b\b\b\b\b\b\b\b\b\b\b\b\b\b\b\b\b\b\b\b\b\b\b\b\b\b\b\b\b\b\b\b\b\b\b\b\b\b\b\b\b\b\b\b\b\b\b\b\b\b\b\b\b\b\b\b\b\b\b\b\b\b\b\b\b\b\b\b\b\b\b\b\b\b\b\b\b\b\b\b\b\b\b\b\b\b\b\b\b\b\b\b\b\b\b\b\b\b\b\b\b\b\b\b\b\b\b\b\b\b\b\b\b\b\b\b\b\b\b\b\b\b\b\b\b\b\b\b\b\b\b\b\b\b\b\b\b\b\b\b\b\b\b\b\b\b\b\b\b\b\b\b\b\b\b\b\b\b\b\b\b\b\b\b\b\b\b\b\b\b\b\b\b\b\b\b\b\b\b\b\b\b\b\b\b\b\b\b\b\b\b\b\b\b\b\b\b\b\b\b\b\b\b\b\b\b\b\b\b\b\b\b\b\b\b\b\b\b\b\b\b\b\b\b\b\b\b\b\b\b\b\b\b\b\b\b\b\b\b\b\b\b\b\b\b\b\b\b\b\b\b\b\b\b\b\b\b\b\b\b\b\b\b\b\b\b\b\b\b\b\b\b\b\b\b\b\b\b\b\b\b\b\b\b\b\b\b\b\b\b\b\b\b\b\b\b\b\b\b\b\b\b\b\b\b\b\b\b\b\b\b\b\b\b\b\b\b\b\b\b\b\b\b\b\b\b\b\b\b\b\b\b\b\b\b\b\b\b\b\b\b\b\b\b\b\b\b\b\b\b\b\b\b\b\b\b\b\b\b\b\b\b\b\b\b\b\b\b\b\b\b\b\b\b\b\b\b\b\b\b\b\b\b\b\b\b\b\b\b\b\b\b\b\b\b\b\b\b\b\b\b\b\b\b\b\b\b\b\b\b\b\b\b\b\b\b\b\b\b\b\b\b\b\b\b\b\b\b\b\b\b\b\b\b\b\b\b\b\b\b\b\b\b\b\b\b\b\b\b\b\b\b\b\b\b\b\b\b\b\b\b\b\b\b\b\b\b\b\b\b\b\b\b\b\b\b\b\b\b\b\b\b\b\b\b\b\b\b\b\b\b\b\b\b\b\b\b\b\b\b\b\b\b\b\b\b\b\b\b\b\b\b\b\b\b\b\b\b\b\b\b\b\b\b\b\b\b\b\b\b\b\b\b\b\b\b\b\b\b\b\b\b\b\b\b\b\b\b\b\b\b\b\b\b\b\b\b\b\b\b\b\b\b\b\b\b\b\b\b\b\b\b\b\b\b\b\b\b\b\b\b\b\b\b\b\b\b\b\b\b\b\b\b\b\b\b\b\b\b\b\b\b\b\b\b\b\b\b\b\b\b\b\b\b\b\b\b\b\b\b\b\b\b\b\b\b\b\b\b\b\b\b\b\b\b\b\b\b\b\b\b\b\b\b\b\b\b\b\b\b\b\b\b\b\b\b\b\b\b\b\b\b\b\b\b\b\b\b\b\b\b\b\b\b\b\b\b\b\b\b\b\b\b\b\b\b\b\b\b\b\b\b\b\b\b\b\b\b\b\b\b\b\b\b\b\b\b\b\b\b\b\b\b\b\b\b\b\b\b\b\b\b\b\b\b\b\b\b\b\b\b\b\b\b\b\b\b\b\b\b\b\b\b\b\b\b\b\b\b\b\b\b\b\b\b\b\b\b\b\b\b\b\b\b\b\b\b\b\b\b\b\b\b\b\b\b\b\b\b\b\b\b\b\b\b\b\b\b\b\b\b\b\b\b\b\b\b\b\b\b\b\b\b\b\b\b\b\b\b\b\b\b\b\b\b\b\b\b\b\b\b\b\b\b\b\b\b\b\b\b\b\b\b\b\b\b\b\b\b\b\b\b\b\b\b\b\b\b\b\b\b\b\b\b\b\b\b\b\b\b\b\b\b\b\b\b\b\b\b\b\b\b\b\b\b\b\b\b\b\b\b\b\b\b\b\b\b\b\b\b\b\b\b\b\b\b\b\b\b\b\b\b\b\b\b\b\b\b\b\b\b\b\b\b\b\b\b\b\b\b\b\b\b\b\b\b\b\b\b\b\b\b\b\b\b\b\b\b\b\b\b\b\b\b\b\b\b\b\b\b\b\b\b\b\b\b\b\b\b\b\b\b\b\b\b\b\b\b\b\b\b\b\b\b\b\b\b\b\b\b\b\b\b\b\b\b\b\b\b\b\b\b\b\b\b\b\b\b\b\b\b\b\b\b\b\b\b\b\b\b\b\b\b\b\b\b\b\b\b\b\b\b\b\b\b\b\b\b\b\b\b\b\b\b\b\b\b\b\b\b\b\b\b\b\b\b\b\b\b\b\b\b\b\b\b\b\b\b\b\b\b\b\b\b\b\b\b\b\b\b\b\b\b\b\b\b\b\b\b\b\b\b\b\b\b\b\b\b\b\b\b\b\b\b\b\b\b\b\b\b\b\b\b\b\b\b\b\b\b\b\b\b\b\b\b\b\b\b\b\b\b\b\b\b\b\b\b\b\b\b\b\b\b\b\b\b\b\b\b\b\b\b\b\b\b\b\b\b\b\b\b\b\b\b\b\b\b\b\b\b\b\b\b\b\b\b\b\b\b\b\b\b\b\b\b\b\b\b\b\b\b\b\b\b\b\b\b\b\b\b\b\b\b\b\b\b\b\b\b\b\b\b\b\b\b\b\b\b\b\b\b\b\b\b\b\b\b\b\b\b\b\b\b\b\b\b\b\b\b\b\b\b\b\b\b\b\b\b\b\b\b\b\b\b\b\b\b\b\b\b\b\b\b\b\b\b\b\b\b\b\b\b\b\b\b\b\b\b\b\b\b\b\b\b\b\b\b\b\b\b\b\b\b\b\b\b\b\b\b\b\b\b\b\b\b\b\b\b\b\b\b\b\b\b\b\b\b\b\b\b\b\b\b\b\b\b\b\b\b\b\b\b\b\b\b\b\b\b\b\b\b\b\b\b\b\b\b\b\b\b\b\b\b\b\b\b\b\b\b\b\b\b\b\b\b\b\b\b\b\b\b\b\b\b\b\b\b\b\b\b\b\b\b\b\b\b\b\b\b\b\b\b\b\b\b\b\b\b\b\b\b\b\b\b\b\b\b\b\b\b\b\b\b\b\b\b\b\b\b\b\b\b\b\b\b\b\b\b\b\b\b\b\b\b\b\b\b\b\b\b\b\b\b\b\b\b\b\b\b\b\b\b\b\b\b\b\b\b\b\b\b\b\b\b\b\b\b\b\b\b\b\b\b\b\b\b\b\b\b\b\b\b\b\b\b\b\b\b\b\b\b\b\b\b\b\b\b\b\b\b\b\b\b\b\b\b\b\b\b\b\b\b\b\b\b\b\b\b\b\b\b\b\b\b\b\b\b\b\b\b\b\b\b\b\b\b\b\b\b\b\b\b\b\b\b\b\b\b\b\b\b\b\b\b\b\b\b\b\b\b\b\b\b\b\b\b\b\b\b\b\b\b\b\b\b\b\b\b\b\b\b\b\b\b\b\b\b\b\b\b\b\b\b\b\b\b\b\b\b\b\b\b\b\b\b\b\b\b\b\b\b\b\b\b\b\b\b\b\b\b\b\b\b\b\b\b\b\b\b\b\b\b\b\b\b\b\b\b\b\b\b\b\b\b\b\b\b\b\b\b\b\b\b\b\b\b\b\b\b\b\b\b\b\b\b\b\b\b\b\b\b\b\b\b\b\b\b\b\b\b\b\b\b\b\b\b\b\b\b\b\b\b\b\b\b\b\b\b\b\b\b\b\b\b\b\b\b\b\b\b\b\b\b\b\b\b\b\b\b\b\b\b\b\b\b\b\b\b\b\b\b\b\b\b\b\b\b\b\b\b\b\b\b\b\b\b\b\b\b\b\b\b\b\b\b\b\b\b\b\b\b\b\b\b\b\b\b\b\b\b\b\b\b\b\b\b\b\b\b\b\b\b\b\b\b\b\b\b\b\b\b\b\b\b\b\b\b\b\b\b\b\b\b\b\b\b\b\b\b\b\b\b\b\b\b\b\b\b\b\b\b\b\b\b\b\b\b\b\b\b\b\b\b\b\b\b\b\b\b\b\b\b\b\b\b\b\b\b\b\b\b\b\b\b\b\b\b\b\b\b\b\b\b\b\b\b\b\b\b\b\b\b\b\b\b\b\b\b\b\b\b\b\b\b\b\b\b\b\b\b\b\b\b\b\b\b\b\b\b\b\b\b\b\b\b\b\b\b\b\b\b\b\b\b\b\b\b\b\b\b\b\b\b\b\b\b\b\b\b\b\b\b\b\b\b\b\b\b\b\b\b\b\b\b\b\b\b\b\b\b\b\b\b\b\b\b\b\b\b\b\b\b\b\b\b\b\b\b\b\b\b\b\b\b\b\b\b\b\b\b\b\b\b\b\b\b\b\b\b\b\b\b\b\b\b\b\b\b\b\b\b\b\b\b\b\b\b\b\b\b\b\b\b\b\b\b\b\b\b\b\b\b\b\b\b\b\b\b\b\b\b\b\b\b\b\b\b\b\b\b\b\b\b\b\b\b\b\b\b\b\b\b\b\b\b\b\b\b\b\b\b\b\b\b\b\b\b\b\b\b\b\b\b\b\b\b\b\b\b\b\b\b\b\b\b\b\b\b\b\b\b\b\b\b\b\b\b\b\b\b\b\b\b\b\b\b\b\b\b\b\b\b\b\b\b\b\b\b\b\b\b\b\b\b\b\b\b\b\b\b\b\b\b\b\b\b\b\b\b\b\b\b\b\b\b\b\b\b\b\b\b\b\b\b\b\b\b\b\b\b\b\b\b\b\b\b\b\b\b\b\b\b\b\b\b\b\b\b\b\b\b\b\b\b\b\b\b\b\b\b\b\b\b\b\b\b\b\b\b\b\b\b\b\b\b\b\b\b\b\b\b\b\b\b\b\b\b\b\b\b\b\b\b\b\b\b\b\b\b\b\b\b\b\b\b\b\b\b\b\b\b\b\b\b\b\b\b\b\b\b\b\b\b\b\b\b\b\b\b\b\b\b\b\b\b\b\b\b\b\b\b\b\b\b\b\b\b\b\b\b\b\b\b\b\b\b\b\b\b\b\b\b\b\b\b\b\b\b\b\b\b\b\b\b\b\b\b\b\b\b\b\b\b\b\b\b\b\b\b\b\b\b\b\b\b\b\b\b\b\b\b\b\b\b\b\b\b\b\b\b\b\b\b\b\b\b\b\b\b\b\b\b\b\b\b\b\b\b\b\b\b\b\b\b\b\b\b\b\b\b\b\b\b\b\b\b\b\b\b\b\b\b\b\b\b\b\b\b\b\b\b\b\b\b\b\b\b\b\b\b\b\b\b\b\b\b\b\b\b\b\b\b\b\b\b\b\b\b\b\b\b\b\b\b\b\b\b\b\b\b\b\b\b\b\b\b\b\b\b\b\b\b\b\b\b\b\b\b\b\b\b\b\b\b\b\b\b\b\b\b\b\b\b\b\b\b\b\b\b\b\b\b\b\b\b\b\b\b\b\b\b\b\b\b\b\b\b\b\b\b\b\b\b\b\b\b\b\b\b\b\b\b\b\b\b\b\b\b\b\b\b\b\b\b\b\b\b\b\b\b\b\b\b\b\b\b\b\b\b\b\b\b\b\b\b\b\b\b\b\b\b\b\b\b\b\b\b\b\b\b\b\b\b\b\b\b\b\b\b\b\b\b\b\b\b\b\b\b\b\b\b\b\b\b\b\b\b\b\b\b\b\b\b\b\b\b\b\b\b\b\b\b\b\b\b\b\b\b\b\b\b\b\b\b\b\b\b\b\b\b\b\b\b\b\b\b\b\b\b\b\b\b\b\b\b\b\b\b\b\b\b\b\b\b\b\b\b\b\b\b\b\b\b\b\b\b\b\b\b\b\b\b\b\b\b\b\b\b\b\b\b\b\b\b\b\b\b\b\b\b\b\b\b\b\b\b\b\b\b\b\b\b\b\b\b\b\b\b\b\b\b\b\b\b\b\b\b\b\b\b\b\b\b\b\b\b\b\b\b\b\b\b\b\b\b\b\b\b\b\b\b\b\b\b\b\b\b\b\b\b\b\b\b\b\b\b\b\b\b\b\b\b\b\b\b\b\b\b\b\b\b\b\b\b\b\b\b\b\b\b\b\b\b\b\b\b\b\b\b\b\b\b\b\b\b\b\b\b\b\b\b\b\b\b\b\b\b\b\b\b\b\b\b\b\b\b\b\b\b\b\b\b\b\b\b\b\b\b\b\b\b\b\b\b\b\b\b\b\b\b\b\b\b\b\b\b\b\b\b\b\b\b\b\b\b\b\b\b\b\b\b\b\b\b\b\b\b\b\b\b\b\b\b\b\b\b\b\b\b\b\b\b\b\b\b\b\b\b\b\b\b\b\b\b\b\b\b\b\b\b\b\b\b\b\b\b\b\b\b\b\b\b\b\b\b\b\b\b\b\b\b\b\b\b\b\b\b\b\b\b\b\b\b\b\b\b\b\b\b\b\b\b\b\b\b\b\b\b\b\b\b\b\b\b\b\b\b\b\b\b\b\b\b\b\b\b\b\b\b\b\b\b\b\b\b\b\b\b\b\b\b\b\b\b\b\b\b\b\b\b\b\b\b\b\b\b\b\b\b\b\b\b\b\b\b\b\b\b\b\b\b\b\b\b\b\b\b\b\b\b\b\b\b\b\b\b\b\b\b\b\b\b\b\b\b\b\b\b\b\b\b\b\b\b\b\b\b\b\b\b\b\b\b\b\b\b\b\b\b\b\b\b\b\b\b\b\b\b\b\b\b\b\b\b\b\b\b\b\b\b\b\b\b\b\b\b\b\b\b\b\b\b\b\b\b\b\b\b\b\b\b\b\b\b\b\b\b\b\b\b\b\b\b\b\b\b\b\b\b\b\b\b\b\b\b\b\b\b\b\b\b\b\b\b\b\b\b\b\b\b\b\b\b\b\b\b\b\b\b\b\b\b\b\b\b\b\b\b\b\b\b\b\b\b\b\b\b\b\b\b\b\b\b\b\b\b\b\b\b\b\b\b\b\b\b\b\b\b\b\b\b\b\b\b\b\b\b\b\b\b\b\b\b\b\b\b\b\b\b\b\b\b\b\b\b\b\b\b\b\b\b\b\b\b\b\b\b\b\b\b\b\b\b\b\b\b\b\b\b\b\b\b\b\b\b\b\b\b\b\b\b\b\b\b\b\b\b\b\b\b\b\b\b\b\b\b\b\b\b\b\b\b\b\b\b\b\b\b\b\b\b\b\b\b\b\b\b\b\b\b\b\b\b\b\b\b\b\b\b\b\b\b\b\b\b\b\b\b\b\b\b\b\b\b\b\b\b\b\b\b\b\b\b\b\b\b\b\b\b\b\b\b\b\b\b\b\b\b\b\b\b\b\b\b\b\b\b\b\b\b\b\b\b\b\b\b\b\b\b\b\b\b\b\b\b\b\b\b\b\b\b\b\b\b\b\b\b\b\b\b\b\b\b\b\b\b\b\b\b\b\b\b\b\b\b\b\b\b\b\b\b\b\b\b\b\b\b\b\b\b\b\b\b\b\b\b\b\b\b\b\b\b\b\b\b\b\b\b\b\b\b\b\b\b\b\b\b\b\b\b\b\b\b\b\b\b\b\b\b\b\b\b\b\b\b\b\b\b\b\b\b\b\b\b\b\b\b\b\b\b\b\b\b\b\b\b\b\b\b\b\b\b\b\b\b\b\b\b\b\b\b\b\b\b\b\b\b\b\b\b\b\b\b\b\b\b\b\b\b\b\b\b\b\b\b\b\b\b\b\b\b\b\b\b\b\b\b\b\b\b\b\b\b\b\b\b\b\b\b\b\b\b\b\b\b\b\b\b\b\b\b\b\b\b\b\b\b\b\b\b\b\b\b\b\b\b\b\b\b\b\b\b\b\b\b\b\b\b\b\b\b\b\b\b\b\b\b\b\b\b\b\b\b\b\b\b\b\b\b\b\b\b\b\b\b\b\b\b\b\b\b\b\b\b\b\b\b\b\b\b\b\b\b\b\b\b\b\b\b\b\b\b\b\b\b\b\b\b\b\b\b\b\b\b\b\b\b\b\b\b\b\b\b\b\b\b\b\b\b\b\b\b\b\b\b\b\b\b\b\b\b\b\b\b\b\b\b\b\b\b\b\b\b\b\b\b\b\b\b\b\b\b\b\b\b\b\b\b\b\b\b\b\b\b\b\b\b\b\b\b\b\b\b\b\b\b\b\b\b\b\b\b\b\b\b\b\b\b\b\b\b\b\b\b\b\b\b\b\b\b\b\b\b\b\b\b\b\b\b\b\b\b\b\b\b\b\b\b\b\b\b\b\b\b\b\b\b\b\b\b\b\b\b\b\b\b\b\b\b\b\b\b\b\b\b\b\b\b\b\b\b\b\b\b\b\b\b\b\b\b\b\b\b\b\b\b\b\b\b\b\b\b\b\b\b\b\b\b\b\b\b\b\b\b\b\b\b\b\b\b\b\b\b\b\b\b\b\b\b\b\b\b\b\b\b\b\b\b\b\b\b\b\b\b\b\b\b\b\b\b\b\b\b\b\b\b\b\b\b\b\b\b\b\b\b\b\b\b\b\b\b\b\b\b\b\b\b\b\b\b\b\b\b\b\b\b\b\b\b\b\b\b\b\b\b\b\b\b\b\b\b\b\b\b\b\b\b\b\b\b\b\b\b\b\b\b\b\b\b\b\b\b\b\b\b\b\b\b\b\b\b\b\b\b\b\b\b\b\b\b\b\b\b\b\b\b\b\b\b\b\b\b\b\b\b\b\b\b\b\b\b\b\b\b\b\b\b\b\b\b\b\b\b\b\b\b\b\b\b\b\b\b\b\b\b\b\b\b\b\b\b\b\b\b\b\b\b\b\b\b\b\b\b\b\b\b\b\b\b\b\b\b\b\b\b\b\b\b\b\b\b\b\b\b\b\b\b\b\b\b\b\b\b\b\b\b\b\b\b\b\b\b\b\b\b\b\b\b\b\b\b\b\b\b\b\b\b\b\b\b\b\b\b\b\b\b\b\b\b\b\b\b\b\b\b\b\b\b\b\b\b\b\b\b\b\b\b\b\b\b\b\b\b\b\b\b\b\b\b\b\b\b\b\b\b\b\b\b\b\b\b\b\b\b\b\b\b\b\b\b\b\b\b\b\b\b\b\b\b\b\b\b\b\b\b\b\b\b\b\b\b\b\b\b\b\b\b\b\b\b\b\b\b\b\b\b\b\b\b\b\b\b\b\b\b\b\b\b\b\b\b\b\b\b\b\b\b\b\b\b\b\b\b\b\b\b\b\b\b\b\b\b\b\b\b\b\b\b\b\b\b\b\b\b\b\b\b\b\b\b\b\b\b\b\b\b\b\b\b\b\b\b\b\b\b\b\b\b\b\b\b\b\b\b\b\b\b\b\b\b\b\b\b\b\b\b\b\b\b\b\b\b\b\b\b\b\b\b\b\b\b\b\b\b\b\b\b\b\b\b\b\b\b\b\b\b\b\b\b\b\b\b\b\b\b\b\b\b\b\b\b\b\b\b\b\b\b\b\b\b\b\b\b\b\b\b\b\b\b\b\b\b\b\b\b\b\b\b\b\b\b\b\b\b\b\b\b\b\b\b\b\b\b\b\b\b\b\b\b\b\b\b\b\b\b\b\b\b\b\b\b\b\b\b\b\b\b\b\b\b\b\b\b\b\b\b\b\b\b\b\b\b\b\b\b\b\b\b\b\b\b\b\b\b\b\b\b\b\b\b\b\b\b\b\b\b\b\b\b\b\b\b\b\b\b\b\b\b\b\b\b\b\b\b\b\b\b\b\b\b\b\b\b\b\b\b\b\b\b\b\b\b\b\b\b\b\b\b\b\b\b\b\b\b\b\b\b\b\b\b\b\b\b\b\b\b\b\b\b\b\b\b\b\b\b\b\b\b\b\b\b\b\b\b\b\b\b\b\b\b\b\b\b\b\b\b\b\b\b\b\b\b\b\b\b\b\b\b\b\b\b\b\b\b\b\b\b\b\b\b\b\b\b\b\b\b\b\b\b\b\b\b\b\b\b\b\b\b\b\b\b\b\b\b\b\b\b\b\b\b\b\b\b\b\b\b\b\b\b\b\b\b\b\b\b\b\b\b\b\b\b\b\b\b\b\b\b\b\b\b\b\b\b\b\b\b\b\b\b\b\b\b\b\b\b\b\b\b\b\b\b\b\b\b\b\b\b\b\b\b\b\b\b\b\b\b\b\b\b\b\b\b\b\b\b\b\b\b\b\b\b\b\b\b\b\b\b\b\b\b\b\b\b\b\b\b\b\b\b\b\b\b\b\b\b\b\b\b\b\b\b\b\b\b\b\b\b\b\b\b\b\b\b\b\b\b\b\b\b\b\b\b\b\b\b\b\b\b\b\b\b\b\b\b\b\b\b\b\b\b\b\b\b\b\b\b\b\b\b\b\b\b\b\b\b\b\b\b\b\b\b\b\b\b\b\b\b\b\b\b\b\b\b\b\b\b\b\b\b\b\b\b\b\b\b\b\b\b\b\b\b\b\b\b\b\b\b\b\b\b\b\b\b\b\b\b\b\b\b\b\b\b\b\b\b\b\b\b\b\b\b\b\b\b\b\b\b\b\b\b\b\b\b\b\b\b\b\b\b\b\b\b\b\b\b\b\b\b\b\b\b\b\b\b\b\b\b\b\b\b\b\b\b\b\b\b\b\b\b\b\b\b\b\b\b\b\b\b\b\b\b\b\b\b\b\b\b\b\b\b\b\b\b\b\b\b\b\b\b\b\b\b\b\b\b\b\b\b\b\b\b\b\b\b\b\b\b\b\b\b\b\b\b\b\b\b\b\b\b\b\b\b\b\b\b\b\b\b\b\b\b\b\b\b\b\b\b\b\b\b\b\b\b\b\b\b\b\b\b\b\b\b\b\b\b\b\b\b\b\b\b\b\b\b\b\b\b\b\b\b\b\b\b\b\b\b\b\b\b\b\b\b\b\b\b\b\b\b\b\b\b\b\b\b\b\b\b\b\b\b\b\b\b\b\b\b\b\b\b\b\b\b\b\b\b\b\b\b\b\b\b\b\b\b\b\b\b\b\b\b\b\b\b\b\b\b\b\b\b\b\b\b\b\b\b\b\b\b\b\b\b\b\b\b\b\b\b\b\b\b\b\b\b\b\b\b\b\b\b\b\b\b\b\b\b\b\b\b\b\b\b\b\b\b\b\b\b\b\b\b\b\b\b\b\b\b\b\b\b\b\b\b\b\b\b\b\b\b\b\b\b\b\b\b\b\b\b\b\b\b\b\b\b\b\b\b\b\b\b\b\b\b\b\b\b\b\b\b\b\b\b\b\b\b\b\b\b\b\b\b\b\b\b\b\b\b\b\b\b\b\b\b\b\b\b\b\b\b\b\b\b\b\b\b\b\b\b\b\b\b\b\b\b\b\b\b\b\b\b\b\b\b\b\b\b\b\b\b\b\b\b\b\b\b\b\b\b\b\b\b\b\b\b\b\b\b\b\b\b\b\b\b\b\b\b\b\b\b\b\b\b\b\b\b\b\b\b\b\b\b\b\b\b\b\b\b\b\b\b\b\b\b\b\b\b\b\b\b\b\b\b\b\b\b\b\b\b\b\b\b\b\b\b\b\b\b\b\b\b\b\b\b\b\b\b\b\b\b\b\b\b\b\b\b\b\b\b\b\b\b\b\b\b\b\b\b\b\b\b\b\b\b\b\b\b\b\b\b\b\b\b\b\b\b\b\b\b\b\b\b\b\b\b\b\b\b\b\b\b\b\b\b\b\b\b\b\b\b\b\b\b\b\b\b\b\b\b\b\b\b\b\b\b\b\b\b\b\b\b\b\b\b\b\b\b\b\b\b\b\b\b\b\b\b\b\b\b\b\b\b\b\b\b\b\b\b\b\b\b\b\b\b\b\b\b\b\b\b\b\b\b\b\b\b\b\b\b\b\b\b\b\b\b\b\b\b\b\b\b\b\b\b\b\b\b\b\b\b\b\b\b\b\b\b\b\b\b\b\b\b\b\b\b\b\b\b\b\b\b\b\b\b\b\b\b\b\b\b\b\b\b\b\b\b\b\b\b\b\b\b\b\b\b\b\b\b\b\b\b\b\b\b\b\b\b\b\b\b\b\b\b\b\b\b\b\b\b\b\b\b\b\b\b\b\b\b\b\b\b\b\b\b\b\b\b\b\b\b\b\b\b\b\b\b\b\b\b\b\b\b\b\b\b\b\b\b\b\b\b\b\b\b\b\b\b\b\b\b\b\b\b\b\b\b\b\b\b\b\b\b\b\b\b\b\b\b\b\b\b\b\b\b\b\b\b\b\b\b\b\b\b\b\b\b\b\b\b\b\b\b\b\b\b\b\b\b\b\b\b\b\b\b\b\b\b\b\b\b\b\b\b\b\b\b\b\b\b\b\b\b\b\b\b\b\b\b\b\b\b\b\b\b\b\b\b\b\b\b\b\b\b\b\b\b\b\b\b\b\b\b\b\b\b\b\b\b\b\b\b\b\b\b\b\b\b\b\b\b\b\b\b\b\b\b\b\b\b\b\b\b\b\b\b\b\b\b\b\b\b\b\b\b\b\b\b\b\b\b\b\b\b\b\b\b\b\b\b\b\b\b\b\b\b\b\b\b\b\b\b\b\b\b\b\b\b\b\b\b\b\b\b\b\b\b\b\b\b\b\b\b\b\b\b\b\b\b\b\b\b\b\b\b\b\b\b\b\b\b\b\b\b\b\b\b\b\b\b\b\b\b\b\b\b\b\b\b\b\b\b\b\b\b\b\b\b\b\b\b\b\b\b\b\b\b\b\b\b\b\b\b\b\b\b\b\b\b\b\b\b\b\b\b\b\b\b\b\b\b\b\b\b\b\b\b\b\b\b\b\b\b\b\b\b\b\b\b\b\b\b\b\b\b\b\b\b\b\b\b\b\b\b\b\b\b\b\b\b\b\b\b\b\b\b\b\b\b\b\b\b\b\b\b\b\b\b\b\b\b\b\b\b\b\b\b\b\b\b\b\b\b\b\b\b\b\b\b\b\b\b\b\b\b\b\b\b\b\b\b\b\b\b\b\b\b\b\b\b\b\b\b\b\b\b\b\b\b\b\b\b\b\b\b\b\b\b\b\b\b\b\b\b\b\b\b\b\b\b\b\b\b\b\b\b\b\b\b\b\b\b\b\b\b\b\b\b\b\b\b\b\b\b\b\b\b\b\b\b\b\b\b\b\b\b\b\b\b\b\b\b\b\b\b\b\b\b\b\b\b\b\b\b\b\b\b\b\b\b\b\b\b\b\b\b\b\b\b\b\b\b\b\b\b\b\b\b\b\b\b\b\b\b\b\b\b\b\b\b\b\b\b\b\b\b\b\b\b\b\b\b\b\b\b\b\b\b\b\b\b\b\b\b\b\b\b\b\b\b\b\b\b\b\b\b\b\b\b\b\b\b\b\b\b\b\b\b\b\b\b\b\b\b\b\b\b\b\b\b\b\b\b\b\b\b\b\b\b\b\b\b\b\b\b\b\b\b\b\b\b\b\b\b\b\b\b\b\b\b\b\b\b\b\b\b\b\b\b\b\b\b\n"
     ]
    }
   ],
   "source": [
    "wine_classifier.fit(\n",
    "    X_train=train_test_and_validation.X_train,\n",
    "    y_train=train_test_and_validation.Y_train,\n",
    "    epochs=40,\n",
    "    batch_size=100,\n",
    "    X_validation=train_test_and_validation.X_validation,\n",
    "    y_validation=train_test_and_validation.Y_validation\n",
    ")\n",
    "\n",
    "wine_classifier.save('wine_classifider_model_100b_40e')"
   ],
   "metadata": {
    "collapsed": false,
    "pycharm": {
     "name": "#%%\n"
    }
   }
  },
  {
   "cell_type": "code",
   "execution_count": 105,
   "outputs": [],
   "source": [
    "wine_classifier.load('wine_classifider_model_100b_40e')"
   ],
   "metadata": {
    "collapsed": false,
    "pycharm": {
     "name": "#%%\n"
    }
   }
  },
  {
   "cell_type": "markdown",
   "source": [
    "## Validando o modelo"
   ],
   "metadata": {
    "collapsed": false,
    "pycharm": {
     "name": "#%% md\n"
    }
   }
  },
  {
   "cell_type": "code",
   "execution_count": 106,
   "outputs": [
    {
     "name": "stderr",
     "output_type": "stream",
     "text": [
      "2021-03-25 20:22:29,090 : WARNING : Model was constructed with shape (None, 80) for input KerasTensor(type_spec=TensorSpec(shape=(None, 80), dtype=tf.float32, name='embedding_input'), name='embedding_input', description=\"created by layer 'embedding_input'\"), but it was called on an input with incompatible shape (None, 84).\n"
     ]
    },
    {
     "name": "stdout",
     "output_type": "stream",
     "text": [
      "379/379 [==============================] - 10s 22ms/step - loss: 0.4875 - accuracy: 0.8502\b\b\b\b\b\b\b\b\b\b\b\b\b\b\b\b\b\b\b\b\b\b\b\b\b\b\b\b\b\b\b\b\b\b\b\b\b\b\b\b\b\b\b\b\b\b\b\b\b\b\b\b\b\b\b\b\b\b\b\b\b\b\b\b\b\b\b\b\b\b\b\b\b\b\b\b\b\b\b\b\b\b\b\b\b\b\b\b\b\b\b\b\b\b\b\b\b\b\b\b\b\b\b\b\b\b\b\b\b\b\b\b\b\b\b\b\b\b\b\b\b\b\b\b\b\b\b\b\b\b\b\b\b\b\b\b\b\b\b\b\b\b\b\b\b\b\b\b\b\b\b\b\b\b\b\b\b\b\b\b\b\b\b\b\b\b\b\b\b\b\b\b\b\b\b\b\b\b\b\b\b\b\b\b\b\b\b\b\b\b\b\b\b\b\b\b\b\b\b\b\b\b\b\b\b\b\b\b\b\b\b\b\b\b\b\b\b\b\b\b\b\b\b\b\b\b\b\b\b\b\b\b\b\b\b\b\b\b\b\b\b\b\b\b\b\b\b\b\b\b\b\b\b\b\b\b\b\b\b\b\b\b\b\b\b\b\b\b\b\b\b\b\b\b\b\b\b\b\b\b\b\b\b\b\b\b\b\b\b\b\b\b\b\b\b\b\b\b\b\b\b\b\b\b\b\b\b\b\b\b\b\b\b\b\b\b\b\b\b\b\b\b\b\b\b\b\b\b\b\b\b\b\b\b\b\b\b\b\b\b\b\b\b\b\b\b\b\b\b\b\b\b\b\b\b\b\b\b\b\b\b\b\b\b\b\b\b\b\b\b\b\b\b\b\b\b\b\b\b\b\b\b\b\b\b\b\b\b\b\b\b\b\b\b\b\b\b\b\b\b\b\b\b\b\b\b\b\b\b\b\b\b\b\b\b\b\b\b\b\b\b\b\b\b\b\b\b\b\b\b\b\b\b\b\b\b\b\b\b\b\b\b\b\b\b\b\b\b\b\b\b\b\b\b\b\b\b\b\b\b\b\b\b\b\b\b\b\b\b\b\b\b\b\b\b\b\b\b\b\b\b\b\b\b\b\b\b\b\b\b\b\b\b\b\b\b\b\b\b\b\b\b\b\b\b\b\b\b\b\b\b\b\b\b\b\b\b\b\b\b\b\b\b\b\b\b\b\b\b\b\b\b\b\b\b\b\b\b\b\b\b\b\b\b\b\b\b\b\b\b\b\b\b\b\b\b\b\b\b\b\b\b\b\b\b\b\b\b\b\b\b\b\b\b\b\b\b\b\b\b\b\b\b\b\b\b\b\b\b\b\b\b\b\b\b\b\b\b\b\b\b\b\b\b\b\b\b\b\b\b\b\b\b\b\b\b\b\b\b\b\b\b\b\b\b\b\b\b\b\b\b\b\b\b\b\b\b\b\b\b\b\b\b\b\b\b\b\b\b\b\b\b\b\b\b\b\b\b\b\b\b\b\b\b\b\b\b\b\b\b\b\b\b\b\b\b\b\b\b\b\b\b\b\b\b\b\b\b\b\b\b\b\b\b\b\b\b\b\b\b\b\b\b\b\b\b\b\b\b\b\b\b\b\b\b\b\b\b\b\b\b\b\b\b\b\b\b\b\b\b\b\b\b\b\b\b\b\b\b\b\b\b\b\b\b\b\b\b\b\b\b\b\b\b\b\b\b\b\b\b\b\b\b\b\b\b\b\b\b\b\b\b\b\b\b\b\b\b\b\b\b\b\b\b\b\b\b\b\b\b\b\b\b\b\b\b\b\b\b\b\b\b\b\b\b\b\b\b\b\b\b\b\b\b\b\b\b\b\b\b\b\b\b\b\b\b\b\b\b\b\b\b\b\b\b\b\b\b\b\b\b\b\b\b\b\b\b\b\b\b\b\b\b\b\b\b\b\b\b\b\b\b\b\b\b\b\b\b\b\b\b\b\b\b\b\b\b\b\b\b\b\b\b\b\b\b\b\b\b\b\b\b\b\b\b\b\b\b\b\b\b\b\b\b\b\b\b\b\b\b\b\b\b\b\b\b\b\b\b\b\b\b\b\b\b\b\b\b\b\b\b\b\b\b\b\b\b\b\b\b\b\b\b\b\b\b\b\b\b\b\b\b\b\b\b\b\b\b\b\b\b\b\b\b\b\b\b\b\b\b\b\b\b\b\b\b\b\b\b\b\b\b\b\b\b\b\b\b\b\b\b\b\b\b\b\b\b\b\b\b\b\b\b\b\b\b\b\b\b\b\b\b\b\b\b\b\b\b\b\b\b\b\b\b\b\b\b\b\b\b\b\b\b\b\b\b\b\b\b\b\b\b\b\b\b\b\b\b\b\b\b\b\b\b\b\b\b\b\b\b\b\b\b\b\b\b\b\b\b\b\b\b\b\b\b\b\b\b\b\b\b\b\b\b\b\b\b\b\b\b\b\b\b\b\b\b\b\b\b\b\b\b\b\b\b\b\b\b\b\b\b\b\b\b\b\b\b\b\b\b\b\b\b\b\b\b\b\b\b\b\b\b\b\b\b\b\b\b\b\b\b\b\b\b\b\b\b\b\b\b\b\b\b\b\b\b\b\b\b\b\b\b\b\b\b\b\b\b\b\b\b\b\b\b\b\b\b\b\b\b\b\b\b\b\b\b\b\b\b\b\b\b\b\b\b\b\b\b\b\b\b\b\b\b\b\b\b\b\b\b\b\b\b\b\b\b\b\b\b\b\b\b\b\b\b\b\b\b\b\b\b\b\b\b\b\b\b\b\b\b\b\b\b\b\b\b\b\b\b\b\b\b\b\b\b\b\b\b\b\b\b\b\b\b\b\b\b\b\b\b\b\b\b\b\b\b\b\b\b\b\b\b\b\b\b\b\b\b\b\b\b\b\b\b\b\b\b\b\b\b\b\b\b\b\b\b\b\b\b\b\b\b\b\b\b\b\b\b\b\b\b\b\b\b\b\b\b\b\b\b\b\b\b\b\b\b\b\b\b\b\b\b\b\b\b\b\b\b\b\b\b\b\b\b\b\b\b\b\b\b\b\b\b\b\b\b\b\b\b\b\b\b\b\b\b\b\b\b\b\b\b\b\b\b\b\b\b\b\b\b\b\b\b\b\b\b\b\b\b\b\b\b\b\b\b\b\b\b\b\b\b\b\b\b\b\b\b\b\b\b\b\b\b\b\b\b\b\b\b\b\b\b\b\b\b\b\b\b\b\b\b\b\b\b\b\b\b\b\b\b\b\b\b\b\b\b\b\b\b\b\b\b\b\b\b\b\b\b\b\b\b\b\b\b\b\b\b\b\b\b\b\b\b\b\b\b\b\b\b\b\b\b\b\b\b\b\b\b\b\b\b\b\b\b\b\b\b\b\b\b\b\b\b\b\b\b\b\b\b\b\b\b\b\b\b\b\b\b\b\b\b\b\b\b\b\b\b\b\b\b\b\b\b\b\b\b\b\b\b\b\b\b\b\b\b\b\b\b\b\b\b\b\b\b\b\b\b\b\b\b\b\b\b\b\b\b\b\b\b\b\b\b\b\b\b\b\b\b\b\b\b\b\b\b\b\b\b\b\b\b\b\b\b\b\b\b\b\b\b\b\b\b\b\b\b\b\b\b\b\b\b\b\b\b\b\b\b\b\b\b\b\b\b\b\b\b\b\b\b\b\b\b\b\b\b\b\b\b\b\b\b\b\b\b\b\b\b\b\b\b\b\b\b\b\b\b\b\b\b\b\b\b\b\b\b\b\b\b\b\b\b\b\b\b\b\b\b\b\b\b\b\b\b\b\b\b\b\b\b\b\b\b\b\b\b\b\b\b\b\b\b\b\b\b\b\b\b\b\b\b\b\b\b\b\b\b\b\b\b\b\b\b\b\b\b\b\b\b\b\b\b\b\b\b\b\b\b\b\b\b\b\b\b\b\b\b\b\b\b\b\b\b\b\b\b\b\b\b\b\b\b\b\b\b\b\b\b\b\b\b\b\b\b\b\b\b\b\b\b\b\b\b\b\b\b\b\b\b\b\b\b\b\b\b\b\b\b\b\b\b\b\b\b\b\b\b\b\b\b\b\b\b\b\b\b\b\b\b\b\b\b\b\b\b\b\b\b\b\b\b\b\b\b\b\b\b\b\b\b\b\b\b\b\b\b\b\b\b\b\b\b\b\b\b\b\b\b\b\b\b\b\b\b\b\b\b\b\b\b\b\b\b\b\b\b\b\b\b\b\b\b\b\b\b\b\b\b\b\b\b\b\b\b\b\b\b\b\b\b\b\b\b\b\b\b\b\b\b\b\b\b\b\b\b\b\b\b\b\b\b\b\b\b\b\b\b\b\b\b\b\b\b\b\b\b\b\b\b\b\b\b\b\b\b\b\b\b\b\b\b\b\b\b\b\b\b\b\b\b\b\b\b\b\b\b\b\b\b\b\b\b\b\b\b\b\b\b\b\b\b\b\b\b\b\b\b\b\b\b\b\b\b\b\b\b\b\b\b\b\b\b\b\b\b\b\b\b\b\b\b\b\b\b\b\b\b\b\b\b\b\b\b\b\b\b\b\b\b\b\b\b\b\b\b\b\b\b\b\b\b\b\b\b\b\b\b\b\b\b\b\b\b\b\b\b\b\b\b\b\b\b\b\b\b\b\b\b\b\b\b\b\b\b\b\b\b\b\b\b\b\b\b\b\b\b\b\b\b\b\b\b\b\b\b\b\b\b\b\b\b\b\b\b\b\b\b\b\b\b\b\b\b\b\b\b\b\b\b\b\b\b\b\b\b\b\b\b\b\b\b\b\b\b\b\b\b\b\b\b\b\b\b\b\b\b\b\b\b\b\b\b\b\b\b\b\b\b\b\b\b\b\b\b\b\b\b\b\b\b\b\b\b\b\b\b\b\b\b\b\b\b\b\b\b\b\b\b\b\b\b\b\b\b\b\b\b\b\b\b\b\b\b\b\b\b\b\b\b\b\b\b\b\b\b\b\b\b\b\b\b\b\b\b\b\b\b\b\b\b\b\b\b\b\b\b\b\b\b\b\b\b\b\b\b\b\b\b\b\b\b\b\b\b\b\b\b\b\b\b\b\b\b\b\b\b\b\b\b\b\b\b\b\b\b\b\b\b\b\b\b\b\b\b\b\b\b\b\b\b\b\b\b\b\b\b\b\b\b\b\b\b\b\b\b\b\b\b\b\b\b\b\b\b\b\b\b\b\b\b\b\b\b\b\b\b\b\b\b\b\b\b\b\b\b\b\b\b\b\b\b\b\b\b\b\b\b\b\b\b\b\b\b\b\b\b\b\b\b\b\b\b\b\b\b\b\b\b\b\b\b\b\b\b\b\b\b\b\b\b\b\b\b\b\b\b\b\b\b\b\b\b\b\b\b\b\b\b\b\b\b\b\b\b\b\b\b\b\b\b\b\b\b\b\b\b\b\b\b\b\b\b\b\b\b\b\b\b\b\b\b\b\b\b\b\b\b\b\b\b\b\b\b\b\b\b\b\b\b\b\b\b\b\b\b\b\b\b\b\b\b\b\b\b\b\b\b\b\b\b\b\b\b\b\b\b\b\b\b\b\b\b\b\b\b\b\b\b\b\b\b\b\b\b\b\b\b\b\b\b\b\b\b\b\b\b\b\b\b\b\b\b\b\b\b\b\b\b\b\b\b\b\b\b\b\b\b\b\b\b\b\b\b\b\b\b\b\b\b\b\b\b\b\b\b\b\b\b\b\b\b\b\b\b\b\b\b\b\b\b\b\b\b\b\b\b\b\b\b\b\b\b\b\b\b\b\b\b\b\b\b\b\b\b\b\b\b\b\b\b\b\b\b\b\b\b\b\b\b\b\b\b\b\b\b\b\b\b\b\b\b\b\b\b\b\b\b\b\b\b\b\b\b\b\b\b\b\b\b\b\b\b\b\b\b\b\b\b\b\b\b\b\b\b\b\b\b\b\b\b\b\b\b\b\b\b\b\b\b\b\b\b\b\b\b\b\b\b\b\b\b\b\b\b\b\b\b\b\b\b\b\b\b\b\b\b\b\b\b\b\b\b\b\b\b\b\b\b\b\b\b\b\b\b\b\b\b\b\b\b\b\b\b\b\b\b\b\b\b\b\b\b\b\b\b\b\b\b\b\b\b\b\b\b\b\b\b\b\b\b\b\b\b\b\b\b\b\b\b\b\b\b\b\b\b\b\b\b\b\b\b\b\b\b\b\b\b\b\b\b\b\b\b\b\b\b\b\b\b\b\b\b\b\b\b\b\b\b\b\b\b\b\b\b\b\b\b\b\b\b\b\b\b\b\b\b\b\b\b\b\b\b\b\b\b\b\b\b\b\b\b\b\b\b\b\b\b\b\b\b\b\b\b\b\b\b\b\b\b\b\b\b\b\b\b\b\b\b\b\b\b\b\b\b\b\b\b\b\b\b\b\b\b\b\b\b\b\b\b\b\b\b\b\b\b\b\b\b\b\b\b\b\b\b\b\b\b\b\b\b\b\b\b\b\b\b\b\b\b\b\b\b\b\b\b\b\b\b\b\b\b\b\b\b\b\b\b\b\b\b\b\b\b\b\b\b\b\b\b\b\b\b\b\b\b\b\b\b\b\b\b\b\b\b\b\b\b\b\b\b\b\b\b\b\b\b\b\b\b\b\b\b\b\b\b\b\b\b\b\b\b\b\b\b\b\b\b\b\b\b\b\b\b\b\b\b\b\b\b\b\b\b\b\b\b\b\b\b\b\b\b\b\b\b\b\b\b\b\b\b\b\b\b\b\b\b\b\b\b\b\b\b\b\b\b\b\b\b\b\b\b\b\b\b\b\b\b\b\b\b\b\b\b\b\b\b\b\b\b\b\b\b\b\b\b\b\b\b\b\b\b\b\b\b\b\b\b\b\b\b\b\b\b\b\b\b\b\b\b\b\b\b\b\b\b\b\b\b\b\b\b\b\b\b\b\b\b\b\b\b\b\b\b\b\b\b\b\b\b\b\b\b\b\b\b\b\b\b\b\b\b\b\b\b\b\b\b\b\b\b\b\b\b\b\b\b\b\b\b\b\b\b\b\b\b\b\b\b\b\b\b\b\b\b\b\b\b\b\b\b\b\b\b\b\b\b\b\b\b\b\b\b\b\b\b\b\b\b\b\b\b\b\b\b\b\b\b\b\b\b\b\b\b\b\b\b\b\b\b\b\b\b\b\b\b\b\b\b\b\b\b\b\b\b\b\b\b\b\b\b\b\b\b\b\b\b\b\b\b\b\b\b\b\b\b\b\b\b\b\b\b\b\b\b\b\b\b\b\b\b\b\b\b\b\b\b\b\b\b\b\b\b\b\b\b\b\b\b\b\b\b\b\b\b\b\b\b\b\b\b\b\b\b\b\b\b\b\b\b\b\b\b\b\b\b\b\b\b\b\b\b\b\b\b\b\b\b\b\b\b\b\b\b\b\b\b\b\b\b\b\b\b\b\b\b\b\b\b\b\b\b\b\b\b\b\b\b\b\b\b\b\b\b\b\b\b\b\b\b\b\b\b\b\b\b\b\b\b\b\b\b\b\b\b\b\b\b\b\b\b\b\b\b\b\b\b\b\b\b\b\b\b\b\b\b\b\b\b\b\b\b\b\b\b\b\b\b\b\b\b\b\b\b\b\b\b\b\b\b\b\b\b\b\b\b\b\b\b\b\b\b\b\b\b\b\b\b\b\b\b\b\b\b\b\b\b\b\b\b\b\b\b\b\b\b\b\b\b\b\b\b\b\b\b\b\b\b\b\b\b\b\b\b\b\b\b\b\b\b\b\b\b\b\b\b\b\b\b\b\b\b\b\b\b\b\b\b\b\b\b\b\b\b\b\b\b\b\b\b\b\b\b\b\b\b\b\b\b\b\b\b\b\b\b\b\b\b\b\b\b\b\b\b\b\b\b\b\b\b\b\b\b\b\b\b\b\b\b\b\b\b\b\b\b\b\b\b\b\b\b\b\b\b\b\b\b\b\b\b\b\b\b\b\b\b\b\b\b\b\b\b\b\b\b\b\b\b\b\b\b\b\b\b\b\b\b\b\b\b\b\b\b\b\b\b\b\b\b\b\b\b\b\b\b\b\b\b\b\b\b\b\b\b\b\b\b\b\b\b\b\b\b\b\b\b\b\b\b\b\b\b\b\b\b\b\b\b\b\b\b\b\b\b\b\b\b\b\b\b\b\b\b\b\b\b\b\b\b\b\b\b\b\b\b\b\b\b\b\b\b\b\b\b\b\b\b\b\b\b\b\b\b\b\b\b\b\b\b\b\b\b\b\b\b\b\b\b\b\b\b\b\b\b\b\b\b\b\b\b\b\b\b\b\b\b\b\b\b\b\b\b\b\b\b\b\b\b\b\b\b\b\b\b\b\b\b\b\b\b\b\b\b\b\b\b\b\b\b\b\b\b\b\b\b\b\b\b\b\b\b\b\b\b\b\b\b\b\b\b\b\b\b\b\b\b\b\b\b\b\b\b\b\b\b\b\b\b\b\b\b\b\b\b\b\b\b\b\b\b\b\b\b\b\b\b\b\b\b\b\b\b\b\b\b\b\b\b\b\b\b\b\b\b\b\b\b\b\b\b\b\b\b\b\b\b\b\b\b\b\b\b\b\b\b\b\b\b\b\b\b\b\b\b\b\b\b\b\b\b\b\b\b\b\b\b\b\b\b\b\b\b\b\b\b\b\b\b\b\b\b\b\b\b\b\b\b\b\b\b\b\b\b\b\b\b\b\b\b\b\b\b\b\b\b\b\b\b\b\b\b\b\b\b\b\b\b\b\b\b\b\b\b\b\b\b\b\b\b\b\b\b\b\b\b\b\b\b\b\b\b\b\b\b\b\b\b\b\b\b\b\b\b\b\b\b\b\b\b\b\b\b\b\b\b\b\b\b\b\b\b\b\b\b\b\b\b\b\b\b\b\b\b\b\b\b\b\b\b\b\b\b\b\b\b\b\b\b\b\b\b\b\b\b\b\b\b\b\b\b\b\b\b\b\b\b\b\b\b\b\b\b\b\b\b\b\b\b\b\b\b\b\b\b\b\b\b\b\b\b\b\b\b\b\b\b\b\b\b\b\b\b\b\b\b\b\b\b\b\b\b\b\b\b\b\b\b\b\b\b\b\b\b\b\b\b\b\b\b\b\b\b\b\b\b\b\b\b\b\b\b\b\b\b\b\b\b\b\b\b\b\b\b\b\b\b\b\b\b\b\b\b\b\b\b\b\b\b\b\b\b\b\b\b\b\b\b\b\b\b\b\b\b\b\b\b\b\b\b\b\b\b\b\b\b\b\b\b\b\b\b\b\b\b\b\b\b\b\b\b\b\b\b\b\b\b\b\b\b\b\b\b\b\b\b\b\b\b\b\b\b\b\b\b\b\b\b\b\b\b\b\b\b\b\b\b\b\b\b\b\b\b\b\b\b\b\b\b\b\b\b\b\b\b\b\b\b\b\b\b\b\b\b\b\b\b\b\b\b\b\b\b\b\b\b\b\b\b\b\b\b\b\b\b\b\b\b\b\b\b\b\b\b\b\b\b\b\b\b\b\b\b\b\b\b\b\b\b\b\b\b\b\b\b\b\b\b\b\b\b\b\b\b\b\b\b\b\b\b\b\b\b\b\b\b\b\b\b\b\b\b\b\b\b\b\b\b\b\b\b\b\b\b\b\b\b\b\b\b\b\b\b\b\b\b\b\b\b\b\b\b\b\b\b\b\b\b\b\b\b\b\b\b\b\b\b\b\b\b\b\b\b\b\b\b\b\b\b\b\b\b\b\b\b\b\b\b\b\b\b\b\b\b\b\b\b\b\b\b\b\b\b\b\b\b\b\b\b\b\b\b\b\b\b\b\b\b\b\b\b\b\b\b\b\b\b\b\b\b\b\b\b\b\b\b\b\b\b\b\b\b\b\b\b\b\b\b\b\b\b\b\b\b\b\b\b\b\b\b\b\b\b\b\b\b\b\b\b\b\b\b\b\b\b\b\b\b\b\b\b\b\b\b\b\b\b\b\b\b\b\b\b\b\b\b\b\b\b\b\b\b\b\b\b\b\b\b\b\b\b\b\b\b\b\b\b\b\b\b\b\b\b\b\b\b\b\b\b\b\b\b\b\b\b\b\b\b\b\b\b\b\b\b\b\b\b\b\b\b\b\b\b\b\b\b\b\b\b\b\b\b\b\b\b\b\b\b\b\b\b\b\b\b\b\b\b\b\b\b\b\b\b\b\b\b\b\b\b\b\b\b\b\b\b\b\b\b\b\b\b\b\b\b\b\b\b\b\b\b\b\b\b\b\b\b\b\b\b\b\b\b\b\b\b\b\b\b\b\b\b\b\b\b\b\b\b\b\b\b\b\b\b\b\b\b\b\b\b\b\b\b\b\b\b\b\b\b\b\b\b\b\b\b\b\b\b\b\b\b\b\b\b\b\b\b\b\b\b\b\b\b\b\b\b\b\b\b\b\b\b\b\b\b\b\b\b\b\b\b\b\b\b\b\b\b\b\b\b\b\b\b\b\b\b\b\b\b\b\b\b\b\b\b\b\b\b\b\b\b\b\b\b\b\b\b\b\b\b\b\b\b\b\b\b\b\b\b\b\b\b\b\b\b\b\b\b\b\b\b\b\b\b\b\b\b\b\b\b\b\b\b\b\b\b\b\b\b\b\b\b\b\b\b\b\b\b\b\b\b\b\b\b\b\b\b\b\b\b\b\b\b\b\b\b\b\b\b\b\b\b\b\b\b\b\b\b\b\b\b\b\b\b\b\b\b\b\b\b\b\b\b\b\b\b\b\b\b\b\b\b\b\b\b\b\b\b\b\b\b\b\b\b\b\b\b\b\b\b\b\b\b\b\b\b\b\b\b\b\b\b\b\b\b\b\b\b\b\b\b\b\b\b\b\b\b\b\b\b\b\b\b\b\b\b\b\b\b\b\b\b\b\b\b\b\b\b\b\b\b\b\b\b\b\b\b\b\b\b\b\b\b\b\b\b\b\b\b\b\b\b\b\b\b\b\b\b\b\b\b\b\b\b\b\b\b\b\b\b\b\b\b\b\b\b\b\b\b\b\b\b\b\b\b\b\b\b\b\b\b\b\b\b\b\b\b\b\b\b\b\b\b\b\b\b\b\b\b\b\b\b\b\b\b\b\b\b\b\b\b\b\b\b\b\b\b\b\b\b\b\b\b\b\b\b\b\b\b\b\b\b\b\b\b\b\b\b\b\b\b\b\b\b\b\b\b\b\b\b\b\b\b\b\b\b\b\b\b\b\b\b\b\b\b\b\b\b\b\b\b\b\b\b\b\b\b\b\b\b\b\b\b\b\b\b\b\b\b\b\b\b\b\b\b\b\b\b\b\b\b\b\b\b\b\b\b\b\b\b\b\b\b\b\b\b\b\b\b\b\b\b\b\b\b\b\b\b\b\b\b\b\b\b\b\b\b\b\b\b\b\b\b\b\b\b\b\b\b\b\b\b\b\b\b\b\b\b\b\b\b\b\b\b\b\b\b\b\b\b\b\b\b\b\b\b\b\b\b\b\b\b\b\b\b\b\b\b\b\b\b\b\b\b\b\b\b\b\b\b\b\b\b\b\b\b\b\b\b\b\b\b\b\b\b\b\b\b\b\b\b\b\b\b\b\b\b\b\b\b\b\b\b\b\b\b\b\b\b\b\b\b\b\b\b\b\b\b\b\b\b\b\b\b\b\b\b\b\b\b\b\b\b\b\b\b\b\b\b\b\b\b\b\b\b\b\b\b\b\b\b\b\b\b\b\b\b\b\b\b\b\b\b\b\b\b\b\b\b\b\b\b\b\b\b\b\b\b\b\b\b\b\b\b\b\b\b\b\b\b\b\b\b\b\b\b\b\b\b\b\b\b\b\b\b\b\b\b\b\b\b\b\b\b\b\b\b\b\b\b\b\b\b\b\b\b\b\b\b\b\b\b\b\b\b\b\b\b\b\b\b\b\b\b\b\b\b\b\b\b\b\b\b\b\b\b\b\b\b\b\b\b\b\b\b\b\b\b\b\b\b\b\b\b\b\b\b\b\b\b\b\b\b\b\b\b\b\b\b\b\b\b\b\b\b\b\b\b\b\b\b\b\b\b\b\b\b\b\b\b\b\b\b\b\b\b\b\b\b\b\b\b\b\b\b\b\b\b\b\b\b\b\b\b\b\b\b\b\b\b\b\b\b\b\b\b\b\b\b\b\b\b\b\b\b\b\b\b\b\b\b\b\b\b\b\b\b\b\b\b\b\b\b\b\b\b\b\b\b\b\b\b\b\b\b\b\b\b\b\b\b\b\b\b\b\b\b\b\b\b\b\b\b\b\b\b\b\b\b\b\b\b\b\b\b\b\b\b\b\b\b\b\b\b\b\b\b\b\b\b\b\b\b\b\b\b\b\b\b\b\b\b\b\b\b\b\b\b\b\b\b\b\b\b\b\b\b\b\b\b\b\b\b\b\b\b\b\b\b\b\b\b\b\b\b\b\b\b\b\b\b\b\b\b\b\b\b\b\b\b\b\b\b\b\b\b\b\b\b\b\b\b\b\b\b\b\b\b\b\b\b\b\b\b\b\b\b\b\b\b\b\b\b\b\b\b\b\b\b\b\b\b\b\b\b\b\b\b\b\b\b\b\b\b\b\b\b\b\b\b\b\b\b\b\b\b\b\b\b\b\b\b\b\b\b\b\b\b\b\b\b\b\b\b\b\b\b\b\b\b\b\b\b\b\b\b\b\b\b\b\b\b\b\b\b\b\b\b\b\b\b\b\b\b\b\b\b\b\b\b\b\b\b\b\b\b\b\b\b\b\b\b\b\b\b\b\b\b\b\b\b\b\b\b\b\b\b\b\b\b\b\b\b\b\b\b\b\b\b\b\b\b\b\b\b\b\b\b\b\b\b\b\b\b\b\b\b\b\b\b\b\b\b\b\b\b\b\b\b\b\b\b\b\b\b\b\b\b\b\b\b\b\b\b\b\b\b\b\b\b\b\b\b\b\b\b\b\b\b\b\b\b\b\b\b\b\b\b\b\b\b\b\b\b\b\b\b\b\b\b\b\b\b\b\b\b\b\b\b\b\b\b\b\b\b\b\b\b\b\b\b\b\b\b\b\b\b\b\b\b\b\b\b\b\b\b\b\b\b\b\b\b\b\b\b\b\b\b\b\b\b\b\b\b\b\b\b\b\b\b\b\b\b\b\b\b\b\b\b\b\b\b\b\b\b\b\b\b\b\b\b\b\b\b\b\b\b\b\b\b\b\b\b\b\b\b\b\b\b\b\b\b\b\b\b\b\b\b\b\b\b\b\b\b\b\b\b\b\b\b\b\b\b\b\b\b\b\b\b\b\b\b\b\b\b\b\b\b\b\b\b\b\b\b\b\b\b\b\b\b\b\b\b\b\b\b\b\b\b\b\b\b\b\b\b\b\b\b\b\b\b\b\b\b\b\b\b\b\b\b\b\b\b\b\b\b\b\b\b\b\b\b\b\b\b\b\b\b\b\b\b\b\b\b\b\b\b\b\b\b\b\b\b\b\b\b\b\b\b\b\b\b\b\b\b\b\b\b\b\b\b\b\b\b\b\b\b\b\b\b\b\b\b\b\b\b\b\b\b\b\b\b\b\b\b\b\b\b\b\b\b\b\b\b\b\b\b\b\b\b\b\b\b\b\b\b\b\b\b\b\b\b\b\b\b\b\b\b\b\b\b\b\b\b\b\b\b\b\b\b\b\b\b\b\b\b\b\b\b\b\b\b\b\b\b\b\b\b\b\b\b\b\b\b\b\b\b\b\b\b\b\b\b\b\b\b\b\b\b\b\b\b\b\b\b\b\b\b\b\b\b\b\b\b\b\b\b\b\b\b\b\b\b\b\b\b\b\b\b\b\b\b\b\b\b\b\b\b\b\b\b\b\b\b\b\b\b\b\b\b\b\b\b\b\b\b\b\b\b\b\b\b\b\b\b\b\b\b\b\b\b\b\b\b\b\b\b\b\b\b\b\b\b\b\b\b\b\b\b\b\b\b\b\b\b\b\b\b\b\b\b\b\b\b\b\b\b\b\b\b\b\b\b\b\b\b\b\b\b\b\b\b\b\b\b\b\b\b\b\b\b\b\b\b\b\b\b\b\b\b\b\b\b\b\b\b\b\b\b\b\b\b\b\b\b\b\b\b\b\b\b\b\b\b\b\b\b\b\b\b\b\b\b\b\b\b\b\b\b\b\b\b\b\b\b\b\b\b\b\b\b\b\b\b\b\b\b\b\b\b\b\b\b\b\b\b\b\b\b\b\b\b\b\b\b\b\b\b\b\b\b\b\b\b\b\b\b\b\b\b\b\b\b\b\b\b\b\b\b\b\b\b\b\b\b\b\b\b\b\b\b\b\b\b\b\b\b\b\b\b\b\b\b\b\b\b\b\b\b\b\b\b\b\b\b\b\b\b\b\b\b\b\b\b\b\b\b\b\b\b\b\b\b\b\b\b\b\b\b\b\b\b\b\b\b\b\b\b\b\b\b\b\b\b\b\b\b\b\b\b\b\b\b\b\b\b\b\b\b\b\b\b\b\b\b\b\b\b\b\b\b\b\b\b\b\b\b\b\b\b\b\b\b\b\b\b\b\b\b\b\b\b\b\b\b\b\b\b\b\b\b\b\b\b\b\b\b\b\b\b\b\b\b\b\b\b\b\b\b\b\b\b\b\b\b\b\b\b\b\b\b\b\b\b\b\b\b\b\b\b\b\b\b\b\b\b\b\b\b\b\b\b\b\b\b\b\b\b\b\b\b\b\b\b\b\b\b\b\b\b\b\b\b\b\b\b\b\b\b\b\b\b\b\b\b\b\b\b\b\b\b\b\b\b\b\b\b\b\b\b\b\b\b\b\b\b\b\b\b\b\b\b\b\b\b\b\b\b\b\b\b\b\b\b\b\b\b\b\b\b\b\b\b\b\b\b\b\b\b\b\b\b\b\b\b\b\b\b\b\b\b\b\b\b\b\b\b\b\b\b\b\b\b\b\b\b\b\b\b\b\b\b\b\b\b\b\b\b\b\b\b\b\b\b\b\b\b\b\b\b\b\b\b\b\b\b\b\b\b\b\b\b\b\b\b\b\b\b\b\b\b\b\b\b\b\b\b\b\b\b\b\b\b\b\b\b\b\b\b\b\b\b\b\b\b\b\b\b\b\b\b\b\b\b\b\b\b\b\b\b\b\b\b\b\b\b\b\b\b\b\b\b\b\b\b\b\b\b\b\b\b\b\b\b\b\b\b\b\b\b\b\b\b\b\b\b\b\b\b\b\b\b\b\b\b\b\b\b\b\b\b\b\b\b\b\b\b\b\b\b\b\b\b\b\b\b\b\b\b\b\b\b\b\b\b\b\b\b\b\b\b\b\b\b\b\b\b\b\b\b\b\b\b\b\b\b\b\b\b\b\b\b\b\b\b\b\b\b\b\b\b\b\b\b\b\b\b\b\b\b\b\b\b\b\b\b\b\b\b\b\b\b\b\b\b\b\b\b\b\b\b\b\b\b\b\b\b\b\b\b\b\b\b\b\b\b\b\b\b\b\b\b\b\b\b\b\b\b\b\b\b\b\b\b\b\b\b\b\b\b\b\b\b\b\b\b\b\b\b\b\b\b\b\b\b\b\b\b\b\b\b\b\b\b\b\b\b\b\b\b\b\b\b\b\b\b\b\b\b\b\b\b\b\b\b\b\b\b\b\b\b\b\b\b\b\b\b\b\b\b\b\b\b\b\b\b\b\b\b\b\b\b\b\b\b\b\b\b\b\b\b\b\b\b\b\b\b\b\b\b\b\b\b\b\b\b\b\b\b\b\b\b\b\b\b\b\b\b\b\b\b\b\b\b\b\b\b\b\b\b\b\b\b\b\b\b\b\b\b\b\b\b\b\b\b\b\b\b\b\b\b\b\b\b\b\b\b\b\b\b\b\b\b\b\b\b\b\b\b\b\b\b\b\b\b\b\b\b\b\b\b\b\b\b\b\b\b\b\b\b\b\b\b\b\b\b\b\b\b\b\b\b\b\b\b\b\b\b\b\b\b\b\b\b\b\b\b\b\b\b\b\b\b\b\b\b\b\b\b\b\b\b\b\b\b\b\b\b\b\b\b\b\b\b\b\b\b\b\b\b\b\b\b\b\b\b\b\b\b\b\b\b\b\b\b\b\b\b\b\b\b\b\b\b\b\b\b\b\b\b\b\b\b\b\b\b\b\b\b\b\b\b\b\b\b\b\b\b\b\b\b\b\b\b\b\b\b\b\b\b\b\b\b\b\b\b\b\b\b\b\b\b\b\b\b\b\b\b\b\b\b\b\b\b\b\b\b\b\b\b\b\b\b\b\b\b\b\b\b\b\b\b\b\b\b\b\b\b\b\b\b\b\b\b\b\b\b\b\b\b\b\b\b\b\b\b\b\b\b\b\b\b\b\b\b\b\b\b\b\b\b\b\b\b\b\b\b\b\b\b\b\b\b\b\b\b\b\b\b\b\b\b\b\b\b\b\b\b\b\b\b\b\b\b\b\b\b\b\b\b\b\b\b\b\b\b\b\b\b\b\b\b\b\b\b\b\b\b\b\b\b\b\b\b\b\b\b\b\b\b\b\b\b\b\b\b\b\b\b\b\b\b\b\b\b\b\b\b\b\b\b\b\b\b\b\b\b\b\b\b\b\b\b\b\b\b\b\b\b\b\b\b\b\b\b\b\b\b\b\b\b\b\b\b\b\b\b\b\b\b\b\b\b\b\b\b\b\b\b\b\b\b\b\b\b\b\b\b\b\b\b\b\b\b\b\b\b\b\b\b\b\b\b\b\b\b\b\b\b\b\b\b\b\b\b\b\b\b\b\b\b\b\b\b\b\b\b\b\b\b\b\b\b\b\b\b\b\b\b\b\b\b\b\b\b\b\b\b\b\b\b\b\b\b\b\b\b\b\b\b\b\b\b\b\b\b\b\b\b\b\b\b\b\b\b\b\b\b\b\b\b\b\b\b\b\b\b\b\b\b\b\b\b\b\b\b\b\b\b\b\b\b\b\b\b\b\b\b\b\b\b\b\b\b\b\b\b\b\b\b\b\b\b\b\b\b\b\b\b\b\b\b\b\b\b\b\b\b\b\b\b\b\b\b\b\b\b\b\b\b\b\b\b\b\b\b\b\b\b\b\b\b\b\b\b\b\b\b\b\b\b\b\b\b\b\b\b\b\b\b\b\b\b\b\b\b\b\b\b\b\b\b\b\b\b\b\b\b\b\b\b\b\b\b\b\b\b\b\b\b\b\b\b\b\b\b\b\b\b\b\b\b\b\b\b\b\b\b\b\b\b\b\b\b\b\b\b\b\b\b\b\b\b\b\b\b\b\b\b\b\b\b\b\b\b\b\b\b\b\b\b\b\b\b\b\b\b\b\b\b\b\b\b\b\b\b\b\b\b\b\b\b\b\b\b\b\b\b\b\b\b\b\b\b\b\b\b\b\b\b\b\b\b\b\b\b\b\b\b\b\b\b\b\b\b\b\b\b\b\b\b\b\b\b\b\b\b\b\b\b\b\b\b\b\b\b\b\b\b\b\b\b\b\b\b\b\b\b\b\b\b\b\b\b\b\b\b\b\b\b\b\b\b\b\b\b\b\b\b\b\b\b\b\b\b\b\b\b\b\b\b\b\b\b\b\b\b\b\b\b\b\b\b\b\b\b\b\b\b\b\b\b\b\b\b\b\b\b\b\b\b\b\b\b\b\b\b\b\b\b\b\b\b\b\b\b\b\b\b\b\b\b\b\b\b\b\b\b\b\b\b\b\b\b\b\b\b\b\b\b\b\b\b\b\b\b\b\b\b\b\b\b\b\b\b\b\b\b\b\b\b\b\b\b\b\b\b\b\b\b\b\b\b\b\b\b\b\b\b\b\b\b\b\b\b\b\b\b\b\b\b\b\b\b\b\b\b\b\b\b\b\b\b\b\b\b\b\b\b\b\b\b\b\b\b\b\b\b\b\b\b\b\b\b\b\b\b\b\b\b\b\b\b\b\b\b\b\b\b\b\b\b\b\b\b\b\b\b\b\b\b\b\b\b\b\b\b\b\b\b\b\b\b\b\b\b\b\b\b\b\b\b\b\b\b\b\b\b\b\b\b\b\b\b\b\b\b\b\b\b\b\b\b\b\b\b\b\b\b\b\b\b\b\b\b\b\b\b\b\b\b\b\b\b\b\b\b\b\b\b\b\b\b\b\b\b\b\b\b\b\b\b\b\b\b\b\b\b\b\b\b\b\b\b\b\b\b\b\b\b\b\b\b\b\b\b\b\b\b\b\b\b\b\b\b\b\b\b\b\b\b\b\b\b\b\b\b\b\b\b\b\b\b\b\b\b\b\b\b\b\b\b\b\b\b\b\b\b\b\b\b\b\b\b\b\b\b\b\b\b\b\b\b\b\b\b\b\b\b\b\b\b\b\b\b\b\b\b\b\b\b\b\b\b\b\b\b\b\b\b\b\b\b\b\b\b\b\b\b\b\b\b\b\b\b\b\b\b\b\b\b\b\b\b\b\b\b\b\b\b\b\b\b\b\b\b\b\b\b\b\b\b\b\b\b\b\b\b\b\b\b\b\b\b\b\b\b\b\b\b\b\b\b\b\b\b\b\b\b\b\b\b\b\b\b\b\b\b\b\b\b\b\b\b\b\b\b\b\b\b\b\b\b\b\b\b\b\b\b\b\b\b\b\b\b\b\b\b\b\b\b\b\b\b\b\b\b\b\b\b\b\b\b\b\b\b\b\b\b\b\b\b\b\b\b\b\b\b\b\b\b\b\b\b\b\b\b\b\b\b\b\b\b\b\b\b\b\b\b\b\b\b\b\b\b\b\b\b\b\b\b\b\b\b\b\b\b\b\b\b\b\b\b\b\b\b\b\b\b\b\b\b\b\b\b\b\b\b\b\b\b\b\b\b\b\b\b\b\b\b\b\b\b\b\b\b\b\b\b\b\b\b\b\b\b\b\b\b\b\b\b\b\b\b\b\b\b\b\b\b\b\b\b\b\b\b\b\b\b\b\b\b\b\b\b\b\b\b\b\b\b\b\b\b\b\b\b\b\b\b\b\b\b\b\b\b\b\b\b\b\b\b\b\b\b\b\b\b\b\b\b\b\b\b\b\b\b\b\b\b\b\b\b\b\b\b\b\b\b\b\b\b\b\b\b\b\b\b\b\b\b\b\b\b\b\b\b\b\b\b\b\b\b\b\b\b\b\b\b\b\b\b\b\b\b\b\b\b\b\b\b\b\b\b\b\b\b\b\b\b\b\b\b\b\b\b\b\b\b\b\b\b\b\b\b\b\b\b\b\b\b\b\b\b\b\b\b\b\b\b\b\b\b\b\b\b\b\b\b\b\b\b\b\b\b\b\b\b\b\b\b\b\b\b\b\b\b\b\b\b\b\b\b\b\b\b\b\b\b\b\b\b\b\b\b\b\b\b\b\b\b\b\b\b\b\b\b\b\b\b\b\b\b\b\b\b\b\b\b\b\b\b\b\b\b\b\b\b\b\b\b\b\b\b\b\b\b\b\b\b\b\b\b\b\b\b\b\b\b\b\b\b\b\b\b\b\b\b\b\b\b\b\b\b\b\b\b\b\b\b\b\b\b\b\b\b\b\b\b\b\b\b\b\b\b\b\b\b\b\b\b\b\b\b\b\b\b\b\b\b\b\b\b\b\b\b\b\b\b\b\b\b\b\b\b\b\b\b\b\b\b\b\b\b\b\b\b\b\b\b\b\b\b\b\b\b\b\b\b\b\b\b\b\b\b\b\b\b\b\b\b\b\b\b\b\b\b\b\b\b\b\b\b\b\b\b\b\b\b\b\b\b\b\b\b\b\b\b\b\b\b\b\b\b\b\b\b\b\b\b\b\b\b\b\b\b\b\b\b\b\b\b\b\b\b\b\b\b\b\b\b\b\b\b\b\b\b\b\b\b\b\b\b\b\b\b\b\b\b\b\b\b\b\b\b\b\b\b\b\b\b\b\b\b\b\b\b\b\b\b\b\b\b\b\b\b\b\b\b\b\b\b\b\b\b\b\b\b\b\b\b\b\b\b\b\b\b\b\b\b\b\b\b\b\b\b\b\b\b\b\b\b\b\b\b\b\b\b\b\b\b\b\b\b\b\b\b\b\b\b\b\b\b\b\b\b\b\b\b\b\b\b\b\b\b\b\b\b\b\b\b\b\b\b\b\b\b\b\b\b\b\b\b\b\b\b\b\b\b\b\b\b\b\b\b\b\b\b\b\b\b\b\b\b\b\b\b\b\b\b\b\b\b\b\b\b\b\b\b\b\b\b\b\b\b\b\b\b\b\b\b\b\b\b\b\b\b\b\b\b\b\b\b\b\b\b\b\b\b\b\b\b\b\b\b\b\b\b\b\b\b\b\b\b\b\b\b\b\b\b\b\b\b\b\b\b\b\b\b\b\b\b\b\b\b\b\b\b\b\b\b\b\b\b\b\b\b\b\b\b\b\b\b\b\b\b\b\b\b\b\b\b\b\b\b\b\b\b\b\b\b\b\b\b\b\b\b\b\b\b\b\b\b\b\b\b\b\b\b\b\b\b\b\b\b\b\b\b\b\b\b\b\b\b\b\b\b\b\b\b\b\b\b\b\b\b\b\b\b\b\b\b\b\b\b\b\b\b\b\b\b\b\b\b\b\b\b\b\b\b\b\b\b\b\b\b\b\b\b\b\b\b\b\b\b\b\b\b\b\b\b\b\b\b\b\b\b\b\b\b\b\b\b\b\b\b\b\b\b\b\b\b\b\b\b\b\b\b\b\b\b\b\b\b\b\b\b\b\b\b\b\b\b\b\b\b\b\b\b\b\b\b\b\b\b\b\b\b\b\b\b\b\b\b\b\b\b\b\b\b\b\b\b\b\b\b\b\b\b\b\b\b\b\b\b\b\b\b\b\b\b\b\b\b\b\b\b\b\b\b\b\b\b\b\b\b\b\b\b\b\b\b\b\b\b\b\b\b\b\b\b\b\b\b\b\b\b\b\b\b\b\b\b\b\b\b\b\b\b\b\b\b\b\b\b\b\b\b\b\b\b\b\b\b\b\b\b\b\b\b\b\b\b\b\b\b\b\b\b\b\b\b\b\b\b\b\b\b\b\b\b\b\b\b\b\b\b\b\b\b\b\b\b\b\b\b\b\b\b\b\b\b\b\b\b\b\b\b\b\b\b\b\b\b\b\b\b\b\b\b\b\b\b\b\b\b\b\b\b\b\b\b\b\b\b\b\b\b\b\b\b\b\b\b\b\b\b\b\b\b\b\b\b\b\b\b\b\b\b\b\b\b\b\b\b\b\b\b\b\b\b\b\b\b\b\b\b\b\b\b\b\b\b\b\b\b\b\b\b\b\b\b\b\b\b\b\b\b\b\b\b\b\b\b\b\b\b\b\b\b\b\b\b\b\b\b\b\b\b\b\b\b\b\b\b\b\b\b\b\b\b\b\b\b\b\b\b\b\b\b\b\b\b\b\b\b\b\b\b\b\b\b\b\b\b\b\b\b\b\b\b\b\b\b\b\b\b\b\b\b\b\b\b\b\b\b\b\b\b\b\b\b\b\b\b\b\b\b\b\b\b\b\b\b\b\b\b\b\b\b\b\b\b\b\b\b\b\b\b\b\b\b\b\b\b\b\b\b\b\b\b\b\b\b\b\b\b\b\b\b\b\b\b\b\b\b\b\b\b\b\b\b\b\b\b\b\b\b\b\b\b\b\b\b\b\b\b\b\b\b\b\b\b\b\b\b\b\b\b\b\b\b\b\b\b\b\b\b\b\b\b\b\b\b\b\b\b\b\b\b\b\b\b\b\b\b\b\b\b\b\b\b\b\b\b\b\b\b\b\b\b\b\b\b\b\b\b\b\b\b\b\b\b\b\b\b\b\b\b\b\b\b\b\b\b\b\b\b\b\b\b\b\b\b\b\b\b\b\b\b\b\b\b\b\b\b\b\b\b\b\b\b\b\b\b\b\b\b\b\b\b\b\b\b\b\b\b\b\b\b\b\b\b\b\b\b\b\b\b\b\b\b\b\b\b\b\b\b\b\b\b\b\b\b\b\b\b\b\b\b\b\b\b\b\b\b\b\b\b\b\b\b\b\b\b\b\b\b\b\b\b\b\b\b\b\b\b\b\b\b\b\b\b\b\b\b\b\b\b\b\b\b\b\b\b\b\b\b\b\b\b\b\b\b\b\b\b\b\b\b\b\b\b\b\b\b\b\b\b\b\b\b\b\b\b\b\b\b\b\b\b\b\b\b\b\b\b\b\b\b\b\b\b\b\b\b\b\b\b\b\b\b\b\b\b\b\b\b\b\b\b\b\b\b\b\b\b\b\b\b\b\b\b\b\b\b\b\b\b\b\b\b\b\b\b\b\b\b\b\b\b\b\b\b\b\b\b\b\b\b\b\b\b\b\b\b\b\b\b\b\b\b\b\b\b\b\b\b\b\b\b\b\b\b\b\b\b\b\b\b\b\b\b\b\b\b\b\b\b\b\b\b\b\b\b\b\b\b\b\b\b\b\b\b\b\b\b\b\b\b\b\b\b\b\b\b\b\b\b\b\b\b\b\b\b\b\b\b\b\b\b\b\b\b\b\b\b\b\b\b\b\b\b\b\b\b\b\b\b\b\b\b\b\b\b\b\b\b\b\b\b\b\b\b\b\b\b\b\b\b\b\b\b\b\b\b\b\b\b\b\b\b\b\b\b\b\b\b\b\b\b\b\b\b\b\b\b\b\b\b\b\b\b\b\b\b\b\b\b\b\b\b\b\b\b\b\b\b\b\b\b\b\b\b\b\b\b\b\b\b\b\b\b\b\b\b\b\b\b\b\b\b\b\b\b\b\b\b\b\b\b\b\b\b\b\b\b\b\b\b\b\b\b\b\b\b\b\b\b\b\b\b\b\b\b\b\b\b\b\b\b\b\b\b\b\b\b\b\b\b\b\b\b\b\b\b\b\b\b\b\b\b\b\b\b\b\b\b\b\b\b\b\b\b\b\b\b\b\b\b\b\b\b\b\b\b\b\b\b\b\b\b\b\b\b\b\b\b\b\b\b\b\b\b\b\b\b\b\b\b\b\b\b\b\b\b\b\b\b\b\b\b\b\b\b\b\b\b\b\b\b\b\b\b\b\b\b\b\b\b\b\b\b\b\b\b\b\b\b\b\b\b\b\b\b\b\b\b\b\b\b\b\b\b\b\b\b\b\b\b\b\b\b\b\b\b\b\b\b\b\b\b\b\b\b\b\b\b\b\b\b\b\b\b\b\b\b\b\b\b\b\b\b\b\b\b\b\b\b\b\b\b\b\b\b\b\b\b\b\b\b\b\b\b\b\b\b\b\b\b\b\b\b\b\b\b\b\b\b\b\b\b\b\b\b\b\b\b\b\b\b\b\b\b\b\b\b\b\b\b\b\b\b\b\b\b\b\b\b\b\b\b\b\b\b\b\b\b\b\b\b\b\b\b\b\b\b\b\b\b\b\b\b\b\b\b\b\b\b\b\b\b\b\b\b\b\b\b\b\b\b\b\b\b\b\b\b\b\b\b\b\b\b\b\b\b\b\b\b\b\b\b\b\b\b\b\b\b\b\b\b\b\b\b\b\b\b\b\b\b\b\b\b\b\b\b\b\b\b\b\b\b\b\b\b\b\b\b\b\b\b\b\b\b\b\b\b\b\b\b\b\b\b\b\b\b\b\b\b\b\b\b\b\b\b\b\b\b\b\b\b\b\b\b\b\b\b\b\b\b\b\b\b\b\b\b\b\b\b\b\b\b\b\b\b\b\b\b\b\b\b\b\b\b\b\b\b\b\b\b\b\b\b\b\b\b\b\b\b\b\b\b\b\b\b\b\b\b\b\b\b\b\b\b\b\b\b\b\b\b\b\b\b\b\b\b\b\b\b\b\b\b\b\b\b\b\b\b\b\b\b\b\b\b\b\b\b\b\b\b\b\b\b\b\b\b\b\b\b\b\b\b\b\b\b\b\b\b\b\b\b\b\b\b\b\b\b\b\b\b\b\b\b\b\b\b\b\b\b\b\b\b\b\b\b\b\b\b\b\b\b\b\b\b\b\b\b\b\b\b\b\b\b\b\b\b\b\b\b\b\b\b\b\b\b\b\b\b\b\b\b\b\b\b\b\b\b\b\b\b\b\b\b\b\b\b\b\b\b\b\b\b\b\b\b\b\b\b\b\b\b\b\b\b\b\b\b\b\b\b\b\b\b\b\b\b\b\b\b\b\b\b\b\b\b\b\b\b\b\b\b\b\b\b\b\b\b\b\b\b\b\b\b\b\b\b\b\b\b\b\b\b\b\b\b\b\b\b\b\b\b\b\b\b\b\b\b\b\b\b\b\b\b\b\b\b\b\b\b\b\b\b\b\b\b\b\b\b\b\b\b\b\b\b\b\b\b\b\b\b\b\b\b\b\b\b\b\b\b\b\b\b\b\b\b\b\b\b\b\b\b\b\b\b\b\b\b\b\b\b\b\b\b\b\b\b\b\b\b\b\b\b\b\b\b\b\b\b\b\b\b\b\b\b\b\b\b\b\b\b\b\b\b\b\b\b\b\b\b\b\b\b\b\b\b\b\b\b\b\b\b\b\b\b\b\b\b\b\b\b\b\b\b\b\b\b\b\b\b\b\b\b\b\b\b\b\b\b\b\b\b\b\b\b\b\b\b\b\b\b\b\b\b\b\b\b\b\b\b\b\b\b\b\b\b\b\b\b\b\b\b\b\b\b\b\b\b\b\b\b\b\n"
     ]
    }
   ],
   "source": [
    "wine_classifier.evaluate(train_test_and_validation.X_test, train_test_and_validation.Y_test)"
   ],
   "metadata": {
    "collapsed": false,
    "pycharm": {
     "name": "#%%\n"
    }
   }
  },
  {
   "cell_type": "code",
   "execution_count": 107,
   "outputs": [
    {
     "name": "stderr",
     "output_type": "stream",
     "text": [
      "/Library/Frameworks/Python.framework/Versions/3.8/lib/python3.8/site-packages/tensorflow/python/keras/engine/sequential.py:450: UserWarning: `model.predict_classes()` is deprecated and will be removed after 2021-01-01. Please use instead:* `np.argmax(model.predict(x), axis=-1)`,   if your model does multi-class classification   (e.g. if it uses a `softmax` last-layer activation).* `(model.predict(x) > 0.5).astype(\"int32\")`,   if your model does binary classification   (e.g. if it uses a `sigmoid` last-layer activation).\n",
      "  warnings.warn('`model.predict_classes()` is deprecated and '\n",
      "2021-03-25 20:22:48,024 : WARNING : Model was constructed with shape (None, 80) for input KerasTensor(type_spec=TensorSpec(shape=(None, 80), dtype=tf.float32, name='embedding_input'), name='embedding_input', description=\"created by layer 'embedding_input'\"), but it was called on an input with incompatible shape (None, 84).\n"
     ]
    }
   ],
   "source": [
    "Y_pred = wine_classifier.predict(train_test_and_validation.X_test)\n"
   ],
   "metadata": {
    "collapsed": false,
    "pycharm": {
     "name": "#%%\n"
    }
   }
  },
  {
   "cell_type": "markdown",
   "source": [
    "### Funções para imprimir tabelas"
   ],
   "metadata": {
    "collapsed": false
   }
  },
  {
   "cell_type": "code",
   "execution_count": 70,
   "outputs": [],
   "source": [
    "def overall_accuracy(cm):\n",
    "    hits = np.diag(cm).sum()\n",
    "    all_data = cm.sum()\n",
    "    print(\"Hits: {}\".format(hits))\n",
    "    print(\"Total Data: {}\".format(all_data))\n",
    "    print(\"Percentage Accuracy: {:.2f}%\".format((hits / all_data) * 100))\n",
    "    print(\"\\n\")\n",
    "\n",
    "\n",
    "def overall_accuracy_by_class(cm, tags):\n",
    "    from texttable import Texttable\n",
    "\n",
    "    diag_values = np.diag(cm / cm.astype(np.float).sum(axis=1))\n",
    "    data_list = [['Variety', 'Value (%)']]\n",
    "    for index, result in enumerate(diag_values):\n",
    "        data_list.append([tags[index], \"{:.2f}\".format(result * 100)])\n",
    "    t = Texttable(1000)\n",
    "    t.add_rows(data_list)\n",
    "    t.set_cols_align([\"l\", \"r\"])\n",
    "    print(t.draw())\n",
    "\n",
    "\n",
    "def print_confusion_matrix(cm, tags):\n",
    "    from texttable import Texttable\n",
    "\n",
    "    len_cm = len(cm)\n",
    "    cm_aux = cm / cm.astype(np.float).sum(axis=1) * 100\n",
    "    tags_names = ['Variety'] + list(tags)\n",
    "    t = Texttable(1000)\n",
    "    data_list = [tags_names]\n",
    "    for index, result in enumerate(cm_aux):\n",
    "        data_list.append([tags[index]] + list(cm_aux[index]))\n",
    "    t.add_rows(data_list)\n",
    "    print(t.draw())"
   ],
   "metadata": {
    "collapsed": false,
    "pycharm": {
     "name": "#%%\n"
    }
   }
  },
  {
   "cell_type": "code",
   "execution_count": 108,
   "outputs": [],
   "source": [
    "from sklearn.metrics import confusion_matrix\n",
    "cm = confusion_matrix(\n",
    "        y_true=train_test_and_validation.Y_test,\n",
    "        y_pred=Y_pred\n",
    "    )"
   ],
   "metadata": {
    "collapsed": false,
    "pycharm": {
     "name": "#%%\n"
    }
   }
  },
  {
   "cell_type": "code",
   "execution_count": 109,
   "outputs": [
    {
     "name": "stdout",
     "output_type": "stream",
     "text": [
      "Hits: 10290\n",
      "Total Data: 12103\n",
      "Percentage Accuracy: 85.02%\n",
      "\n",
      "\n"
     ]
    }
   ],
   "source": [
    "overall_accuracy(cm)\n"
   ],
   "metadata": {
    "collapsed": false,
    "pycharm": {
     "name": "#%%\n"
    }
   }
  },
  {
   "cell_type": "code",
   "execution_count": 110,
   "outputs": [
    {
     "name": "stdout",
     "output_type": "stream",
     "text": [
      "+--------------------------+------------+------------+--------------------+-----------+--------------------------+----------+-----------------+\n",
      "|         Variety          | Pinot Noir | Chardonnay | Cabernet Sauvignon | Red Blend | Bordeaux-style Red Blend | Riesling | Sauvignon Blanc |\n",
      "+==========================+============+============+====================+===========+==========================+==========+=================+\n",
      "| Pinot Noir               | 85.989     | 1.531      | 8.448              | 4.080     | 7.014                    | 0.289    | 0.302           |\n",
      "+--------------------------+------------+------------+--------------------+-----------+--------------------------+----------+-----------------+\n",
      "| Chardonnay               | 0.753      | 94.258     | 0.053              | 0.279     | 0.868                    | 5.395    | 4.129           |\n",
      "+--------------------------+------------+------------+--------------------+-----------+--------------------------+----------+-----------------+\n",
      "| Cabernet Sauvignon       | 4.331      | 0.298      | 83.369             | 8.720     | 2.531                    | 0.193    | 0               |\n",
      "+--------------------------+------------+------------+--------------------+-----------+--------------------------+----------+-----------------+\n",
      "| Red Blend                | 2.185      | 0.213      | 9.451              | 83.007    | 4.483                    | 0        | 0               |\n",
      "+--------------------------+------------+------------+--------------------+-----------+--------------------------+----------+-----------------+\n",
      "| Bordeaux-style Red Blend | 2.938      | 0.085      | 6.230              | 3.969     | 80.550                   | 0        | 0               |\n",
      "+--------------------------+------------+------------+--------------------+-----------+--------------------------+----------+-----------------+\n",
      "| Riesling                 | 0.226      | 3.318      | 0                  | 0.056     | 0.217                    | 89.788   | 1.813           |\n",
      "+--------------------------+------------+------------+--------------------+-----------+--------------------------+----------+-----------------+\n",
      "| Sauvignon Blanc          | 0.339      | 10.166     | 0.053              | 0.224     | 0.868                    | 4.528    | 68.580          |\n",
      "+--------------------------+------------+------------+--------------------+-----------+--------------------------+----------+-----------------+\n"
     ]
    }
   ],
   "source": [
    "print_confusion_matrix(cm, wine_data_getter._varieties_list.compute())"
   ],
   "metadata": {
    "collapsed": false,
    "pycharm": {
     "name": "#%%\n"
    }
   }
  },
  {
   "cell_type": "code",
   "execution_count": 111,
   "outputs": [
    {
     "name": "stdout",
     "output_type": "stream",
     "text": [
      "+--------------------------+-----------+\n",
      "|         Variety          | Value (%) |\n",
      "+==========================+===========+\n",
      "| Pinot Noir               |    85.990 |\n",
      "+--------------------------+-----------+\n",
      "| Chardonnay               |    94.260 |\n",
      "+--------------------------+-----------+\n",
      "| Cabernet Sauvignon       |    83.370 |\n",
      "+--------------------------+-----------+\n",
      "| Red Blend                |    83.010 |\n",
      "+--------------------------+-----------+\n",
      "| Bordeaux-style Red Blend |    80.550 |\n",
      "+--------------------------+-----------+\n",
      "| Riesling                 |    89.790 |\n",
      "+--------------------------+-----------+\n",
      "| Sauvignon Blanc          |    68.580 |\n",
      "+--------------------------+-----------+\n"
     ]
    }
   ],
   "source": [
    "overall_accuracy_by_class(cm, wine_data_getter._varieties_list.compute())"
   ],
   "metadata": {
    "collapsed": false,
    "pycharm": {
     "name": "#%%\n"
    }
   }
  },
  {
   "cell_type": "markdown",
   "source": [
    "# [Parte 4] Conclusões e resultados\n",
    "\n",
    "Notamos que tivemos resultados agradáveis para o recomendador. Usar a média das\n",
    "palavras para representar um vinho foi bom, mas há outras técnicas a serem exploradas\n",
    "como o Doc2Vec. Também faltou colocar outras informações (preço, rating, país/região, tipo).\n",
    "No mais, os resultados foram bons para esse modelo.\n",
    "\n",
    "Para o classificador, ele teve uma média geral de 85%, bem animador. O maior problema\n",
    "foi classificado o Sauvgnon Blan. Talvez por esse ser uma classe com poucas entidades\n",
    "comparadas aos demais. No mais, está dentro do estado da arte, apesar de\n",
    "mudar um pouco no que é usado para classificar o vinho. Vi muitos lugares\n",
    "considerando características físicas e quimicas deles. Aqui, usamos a descrição\n",
    "do sabor.\n"
   ],
   "metadata": {
    "collapsed": false,
    "pycharm": {
     "name": "#%% md\n"
    }
   }
  }
 ],
 "metadata": {
  "kernelspec": {
   "display_name": "Python 3",
   "language": "python",
   "name": "python3"
  },
  "language_info": {
   "codemirror_mode": {
    "name": "ipython",
    "version": 2
   },
   "file_extension": ".py",
   "mimetype": "text/x-python",
   "name": "python",
   "nbconvert_exporter": "python",
   "pygments_lexer": "ipython2",
   "version": "2.7.6"
  }
 },
 "nbformat": 4,
 "nbformat_minor": 0
}